{
  "nbformat": 4,
  "nbformat_minor": 0,
  "metadata": {
    "colab": {
      "provenance": [],
      "collapsed_sections": [
        "_3ZouZPzCUYL",
        "VdhCnVArCjqO",
        "0kUrxq4CHlTf",
        "w5w6202RUla1",
        "EOshCtonaDGQ",
        "cENn3F9ucavF",
        "vONw3gTxhBAZ",
        "jjh-5m7Xgb0h"
      ]
    },
    "kernelspec": {
      "name": "python3",
      "display_name": "Python 3"
    },
    "language_info": {
      "name": "python"
    }
  },
  "cells": [
    {
      "cell_type": "markdown",
      "source": [
        "**Delta Lake with Pandas**\n",
        "\n",
        "Github: https://github.com/leslliesayrus/owshq-pandas-delta-live\n",
        "\n",
        "LinkdIn: https://www.linkedin.com/in/rodrigo-bigdata/"
      ],
      "metadata": {
        "id": "WlhGfu-Wqs9e"
      }
    },
    {
      "cell_type": "markdown",
      "source": [
        "# Install the deltalake library"
      ],
      "metadata": {
        "id": "_3ZouZPzCUYL"
      }
    },
    {
      "cell_type": "markdown",
      "source": [
        "I create a folder (lake) for write and read our files, so I download the csv files from Github and copy the csv from Github repository and paste into the Lake folder"
      ],
      "metadata": {
        "id": "W8_yQyvjzlbC"
      }
    },
    {
      "cell_type": "code",
      "execution_count": 1,
      "metadata": {
        "colab": {
          "base_uri": "https://localhost:8080/"
        },
        "id": "A9iaecoI52xF",
        "outputId": "f50f1882-083a-471b-f80a-58b12c9f3e4f"
      },
      "outputs": [
        {
          "output_type": "stream",
          "name": "stdout",
          "text": [
            "Collecting deltalake\n",
            "  Downloading deltalake-0.10.1-cp37-abi3-manylinux_2_17_x86_64.manylinux2014_x86_64.whl (21.7 MB)\n",
            "\u001b[2K     \u001b[90m━━━━━━━━━━━━━━━━━━━━━━━━━━━━━━━━━━━━━━━━\u001b[0m \u001b[32m21.7/21.7 MB\u001b[0m \u001b[31m63.9 MB/s\u001b[0m eta \u001b[36m0:00:00\u001b[0m\n",
            "\u001b[?25hRequirement already satisfied: pyarrow>=8 in /usr/local/lib/python3.10/dist-packages (from deltalake) (9.0.0)\n",
            "Requirement already satisfied: numpy>=1.16.6 in /usr/local/lib/python3.10/dist-packages (from pyarrow>=8->deltalake) (1.23.5)\n",
            "Installing collected packages: deltalake\n",
            "Successfully installed deltalake-0.10.1\n",
            "Cloning into 'owshq-pandas-delta-live'...\n",
            "remote: Enumerating objects: 45, done.\u001b[K\n",
            "remote: Counting objects: 100% (45/45), done.\u001b[K\n",
            "remote: Compressing objects: 100% (40/40), done.\u001b[K\n",
            "remote: Total 45 (delta 7), reused 0 (delta 0), pack-reused 0\u001b[K\n",
            "Receiving objects: 100% (45/45), 10.25 KiB | 1.71 MiB/s, done.\n",
            "Resolving deltas: 100% (7/7), done.\n"
          ]
        }
      ],
      "source": [
        "!pip install deltalake # install the python library for delta\n",
        "!mkdir /lake # create a directory call lake\n",
        "!git clone https://github.com/leslliesayrus/owshq-pandas-delta-live.git # take the data from github\n",
        "!cp -r /content/owshq-pandas-delta-live/data /lake # copy csv files into the lake folder"
      ]
    },
    {
      "cell_type": "markdown",
      "source": [
        "It's the commands for install the Apache Spark 3.3.1 into the Google Colab"
      ],
      "metadata": {
        "id": "VQzRSLbU0DZ2"
      }
    },
    {
      "cell_type": "code",
      "source": [
        "# Installing Apache Spark into Google Colab\n",
        "!apt-get install openjdk-11-jdk-headless -qq > /dev/null\n",
        "!wget -q https://archive.apache.org/dist/spark/spark-3.3.1/spark-3.3.1-bin-hadoop3.tgz\n",
        "!tar xf spark-3.3.1-bin-hadoop3.tgz\n",
        "!pip -q install findspark"
      ],
      "metadata": {
        "id": "IHuCzzXOhNMB"
      },
      "execution_count": null,
      "outputs": []
    },
    {
      "cell_type": "markdown",
      "source": [
        "# Introduction to Pandas"
      ],
      "metadata": {
        "id": "C7WrtnuI3sQR"
      }
    },
    {
      "cell_type": "markdown",
      "source": [
        "Importing the libraries pandas and deltalake"
      ],
      "metadata": {
        "id": "bUKhy7ZJ6wIK"
      }
    },
    {
      "cell_type": "code",
      "source": [
        "import pandas as pd\n",
        "from deltalake import DeltaTable\n",
        "from deltalake.writer import write_deltalake\n",
        "import deltalake"
      ],
      "metadata": {
        "id": "X0dxe7kHELQC"
      },
      "execution_count": 2,
      "outputs": []
    },
    {
      "cell_type": "code",
      "source": [
        "pd.set_option(\"display.max_columns\", None)"
      ],
      "metadata": {
        "id": "VB-dcMUtBG_z"
      },
      "execution_count": 3,
      "outputs": []
    },
    {
      "cell_type": "code",
      "source": [
        "df = pd.read_csv(\"/lake/data/data_1.csv\")"
      ],
      "metadata": {
        "id": "URqhcajTCT6y"
      },
      "execution_count": 4,
      "outputs": []
    },
    {
      "cell_type": "markdown",
      "source": [
        "How to read a csv file, Pandas has the options for read parquet, excel, json, and html."
      ],
      "metadata": {
        "id": "JQOFco24649w"
      }
    },
    {
      "cell_type": "markdown",
      "source": [
        "`head()` show the 5 first lines of the dataframe"
      ],
      "metadata": {
        "id": "Vy5IWNGx7Blr"
      }
    },
    {
      "cell_type": "code",
      "source": [
        "df.head()"
      ],
      "metadata": {
        "colab": {
          "base_uri": "https://localhost:8080/",
          "height": 206
        },
        "id": "CS5PcOsm9beu",
        "outputId": "5464f29d-fea1-4bc2-8e6d-0480fd1f0ab4"
      },
      "execution_count": null,
      "outputs": [
        {
          "output_type": "execute_result",
          "data": {
            "text/plain": [
              "   id               name         city  age  salary  score\n",
              "0   1      James Stewart    Las Vegas   56    4530    490\n",
              "1   2  Alejandro Barrett    Las Vegas   52    4734    422\n",
              "2   3          Jim Evans     New York   46    2171    188\n",
              "3   4          Tina Kirk  Los Angeles   26    3531    900\n",
              "4   5      Morgan Bailey    Las Vegas   21    1617    202"
            ],
            "text/html": [
              "\n",
              "\n",
              "  <div id=\"df-36c6a37f-3104-4a66-a3bd-68ff2d1c9fa6\">\n",
              "    <div class=\"colab-df-container\">\n",
              "      <div>\n",
              "<style scoped>\n",
              "    .dataframe tbody tr th:only-of-type {\n",
              "        vertical-align: middle;\n",
              "    }\n",
              "\n",
              "    .dataframe tbody tr th {\n",
              "        vertical-align: top;\n",
              "    }\n",
              "\n",
              "    .dataframe thead th {\n",
              "        text-align: right;\n",
              "    }\n",
              "</style>\n",
              "<table border=\"1\" class=\"dataframe\">\n",
              "  <thead>\n",
              "    <tr style=\"text-align: right;\">\n",
              "      <th></th>\n",
              "      <th>id</th>\n",
              "      <th>name</th>\n",
              "      <th>city</th>\n",
              "      <th>age</th>\n",
              "      <th>salary</th>\n",
              "      <th>score</th>\n",
              "    </tr>\n",
              "  </thead>\n",
              "  <tbody>\n",
              "    <tr>\n",
              "      <th>0</th>\n",
              "      <td>1</td>\n",
              "      <td>James Stewart</td>\n",
              "      <td>Las Vegas</td>\n",
              "      <td>56</td>\n",
              "      <td>4530</td>\n",
              "      <td>490</td>\n",
              "    </tr>\n",
              "    <tr>\n",
              "      <th>1</th>\n",
              "      <td>2</td>\n",
              "      <td>Alejandro Barrett</td>\n",
              "      <td>Las Vegas</td>\n",
              "      <td>52</td>\n",
              "      <td>4734</td>\n",
              "      <td>422</td>\n",
              "    </tr>\n",
              "    <tr>\n",
              "      <th>2</th>\n",
              "      <td>3</td>\n",
              "      <td>Jim Evans</td>\n",
              "      <td>New York</td>\n",
              "      <td>46</td>\n",
              "      <td>2171</td>\n",
              "      <td>188</td>\n",
              "    </tr>\n",
              "    <tr>\n",
              "      <th>3</th>\n",
              "      <td>4</td>\n",
              "      <td>Tina Kirk</td>\n",
              "      <td>Los Angeles</td>\n",
              "      <td>26</td>\n",
              "      <td>3531</td>\n",
              "      <td>900</td>\n",
              "    </tr>\n",
              "    <tr>\n",
              "      <th>4</th>\n",
              "      <td>5</td>\n",
              "      <td>Morgan Bailey</td>\n",
              "      <td>Las Vegas</td>\n",
              "      <td>21</td>\n",
              "      <td>1617</td>\n",
              "      <td>202</td>\n",
              "    </tr>\n",
              "  </tbody>\n",
              "</table>\n",
              "</div>\n",
              "      <button class=\"colab-df-convert\" onclick=\"convertToInteractive('df-36c6a37f-3104-4a66-a3bd-68ff2d1c9fa6')\"\n",
              "              title=\"Convert this dataframe to an interactive table.\"\n",
              "              style=\"display:none;\">\n",
              "\n",
              "  <svg xmlns=\"http://www.w3.org/2000/svg\" height=\"24px\"viewBox=\"0 0 24 24\"\n",
              "       width=\"24px\">\n",
              "    <path d=\"M0 0h24v24H0V0z\" fill=\"none\"/>\n",
              "    <path d=\"M18.56 5.44l.94 2.06.94-2.06 2.06-.94-2.06-.94-.94-2.06-.94 2.06-2.06.94zm-11 1L8.5 8.5l.94-2.06 2.06-.94-2.06-.94L8.5 2.5l-.94 2.06-2.06.94zm10 10l.94 2.06.94-2.06 2.06-.94-2.06-.94-.94-2.06-.94 2.06-2.06.94z\"/><path d=\"M17.41 7.96l-1.37-1.37c-.4-.4-.92-.59-1.43-.59-.52 0-1.04.2-1.43.59L10.3 9.45l-7.72 7.72c-.78.78-.78 2.05 0 2.83L4 21.41c.39.39.9.59 1.41.59.51 0 1.02-.2 1.41-.59l7.78-7.78 2.81-2.81c.8-.78.8-2.07 0-2.86zM5.41 20L4 18.59l7.72-7.72 1.47 1.35L5.41 20z\"/>\n",
              "  </svg>\n",
              "      </button>\n",
              "\n",
              "\n",
              "\n",
              "    <div id=\"df-55f88c69-603b-46dd-903a-09175142947c\">\n",
              "      <button class=\"colab-df-quickchart\" onclick=\"quickchart('df-55f88c69-603b-46dd-903a-09175142947c')\"\n",
              "              title=\"Suggest charts.\"\n",
              "              style=\"display:none;\">\n",
              "\n",
              "<svg xmlns=\"http://www.w3.org/2000/svg\" height=\"24px\"viewBox=\"0 0 24 24\"\n",
              "     width=\"24px\">\n",
              "    <g>\n",
              "        <path d=\"M19 3H5c-1.1 0-2 .9-2 2v14c0 1.1.9 2 2 2h14c1.1 0 2-.9 2-2V5c0-1.1-.9-2-2-2zM9 17H7v-7h2v7zm4 0h-2V7h2v10zm4 0h-2v-4h2v4z\"/>\n",
              "    </g>\n",
              "</svg>\n",
              "      </button>\n",
              "    </div>\n",
              "\n",
              "<style>\n",
              "  .colab-df-quickchart {\n",
              "    background-color: #E8F0FE;\n",
              "    border: none;\n",
              "    border-radius: 50%;\n",
              "    cursor: pointer;\n",
              "    display: none;\n",
              "    fill: #1967D2;\n",
              "    height: 32px;\n",
              "    padding: 0 0 0 0;\n",
              "    width: 32px;\n",
              "  }\n",
              "\n",
              "  .colab-df-quickchart:hover {\n",
              "    background-color: #E2EBFA;\n",
              "    box-shadow: 0px 1px 2px rgba(60, 64, 67, 0.3), 0px 1px 3px 1px rgba(60, 64, 67, 0.15);\n",
              "    fill: #174EA6;\n",
              "  }\n",
              "\n",
              "  [theme=dark] .colab-df-quickchart {\n",
              "    background-color: #3B4455;\n",
              "    fill: #D2E3FC;\n",
              "  }\n",
              "\n",
              "  [theme=dark] .colab-df-quickchart:hover {\n",
              "    background-color: #434B5C;\n",
              "    box-shadow: 0px 1px 3px 1px rgba(0, 0, 0, 0.15);\n",
              "    filter: drop-shadow(0px 1px 2px rgba(0, 0, 0, 0.3));\n",
              "    fill: #FFFFFF;\n",
              "  }\n",
              "</style>\n",
              "\n",
              "    <script>\n",
              "      async function quickchart(key) {\n",
              "        const containerElement = document.querySelector('#' + key);\n",
              "        const charts = await google.colab.kernel.invokeFunction(\n",
              "            'suggestCharts', [key], {});\n",
              "      }\n",
              "    </script>\n",
              "\n",
              "      <script>\n",
              "\n",
              "function displayQuickchartButton(domScope) {\n",
              "  let quickchartButtonEl =\n",
              "    domScope.querySelector('#df-55f88c69-603b-46dd-903a-09175142947c button.colab-df-quickchart');\n",
              "  quickchartButtonEl.style.display =\n",
              "    google.colab.kernel.accessAllowed ? 'block' : 'none';\n",
              "}\n",
              "\n",
              "        displayQuickchartButton(document);\n",
              "      </script>\n",
              "      <style>\n",
              "    .colab-df-container {\n",
              "      display:flex;\n",
              "      flex-wrap:wrap;\n",
              "      gap: 12px;\n",
              "    }\n",
              "\n",
              "    .colab-df-convert {\n",
              "      background-color: #E8F0FE;\n",
              "      border: none;\n",
              "      border-radius: 50%;\n",
              "      cursor: pointer;\n",
              "      display: none;\n",
              "      fill: #1967D2;\n",
              "      height: 32px;\n",
              "      padding: 0 0 0 0;\n",
              "      width: 32px;\n",
              "    }\n",
              "\n",
              "    .colab-df-convert:hover {\n",
              "      background-color: #E2EBFA;\n",
              "      box-shadow: 0px 1px 2px rgba(60, 64, 67, 0.3), 0px 1px 3px 1px rgba(60, 64, 67, 0.15);\n",
              "      fill: #174EA6;\n",
              "    }\n",
              "\n",
              "    [theme=dark] .colab-df-convert {\n",
              "      background-color: #3B4455;\n",
              "      fill: #D2E3FC;\n",
              "    }\n",
              "\n",
              "    [theme=dark] .colab-df-convert:hover {\n",
              "      background-color: #434B5C;\n",
              "      box-shadow: 0px 1px 3px 1px rgba(0, 0, 0, 0.15);\n",
              "      filter: drop-shadow(0px 1px 2px rgba(0, 0, 0, 0.3));\n",
              "      fill: #FFFFFF;\n",
              "    }\n",
              "  </style>\n",
              "\n",
              "      <script>\n",
              "        const buttonEl =\n",
              "          document.querySelector('#df-36c6a37f-3104-4a66-a3bd-68ff2d1c9fa6 button.colab-df-convert');\n",
              "        buttonEl.style.display =\n",
              "          google.colab.kernel.accessAllowed ? 'block' : 'none';\n",
              "\n",
              "        async function convertToInteractive(key) {\n",
              "          const element = document.querySelector('#df-36c6a37f-3104-4a66-a3bd-68ff2d1c9fa6');\n",
              "          const dataTable =\n",
              "            await google.colab.kernel.invokeFunction('convertToInteractive',\n",
              "                                                     [key], {});\n",
              "          if (!dataTable) return;\n",
              "\n",
              "          const docLinkHtml = 'Like what you see? Visit the ' +\n",
              "            '<a target=\"_blank\" href=https://colab.research.google.com/notebooks/data_table.ipynb>data table notebook</a>'\n",
              "            + ' to learn more about interactive tables.';\n",
              "          element.innerHTML = '';\n",
              "          dataTable['output_type'] = 'display_data';\n",
              "          await google.colab.output.renderOutput(dataTable, element);\n",
              "          const docLink = document.createElement('div');\n",
              "          docLink.innerHTML = docLinkHtml;\n",
              "          element.appendChild(docLink);\n",
              "        }\n",
              "      </script>\n",
              "    </div>\n",
              "  </div>\n"
            ]
          },
          "metadata": {},
          "execution_count": 53
        }
      ]
    },
    {
      "cell_type": "markdown",
      "source": [
        "Number of rows and columns:"
      ],
      "metadata": {
        "id": "ktgk47az7vkR"
      }
    },
    {
      "cell_type": "code",
      "source": [
        "df.shape"
      ],
      "metadata": {
        "colab": {
          "base_uri": "https://localhost:8080/"
        },
        "id": "cEyM9G_S99mg",
        "outputId": "7a4d21e5-ba9b-462a-e528-202c0ac67c56"
      },
      "execution_count": null,
      "outputs": [
        {
          "output_type": "execute_result",
          "data": {
            "text/plain": [
              "(10, 6)"
            ]
          },
          "metadata": {},
          "execution_count": 56
        }
      ]
    },
    {
      "cell_type": "markdown",
      "source": [
        "`describe()` makes a statistical analysis for all numeric columns of the dataframe (it's like mean, median, standard deviation, count, min and max)\n"
      ],
      "metadata": {
        "id": "kRmDHFcO7J8_"
      }
    },
    {
      "cell_type": "code",
      "source": [
        "df.describe()"
      ],
      "metadata": {
        "colab": {
          "base_uri": "https://localhost:8080/",
          "height": 300
        },
        "id": "qZ7XhtOf6Cb0",
        "outputId": "d24ce1d5-6312-4838-dcd0-29403ace22d7"
      },
      "execution_count": null,
      "outputs": [
        {
          "output_type": "execute_result",
          "data": {
            "text/plain": [
              "             id        age       salary       score\n",
              "count  10.00000  10.000000    10.000000   10.000000\n",
              "mean    5.50000  41.500000  3453.400000  433.700000\n",
              "std     3.02765  15.042532  1124.941302  221.185217\n",
              "min     1.00000  21.000000  1617.000000  188.000000\n",
              "25%     3.25000  28.250000  2529.500000  236.750000\n",
              "50%     5.50000  40.500000  3666.000000  438.500000\n",
              "75%     7.75000  55.000000  4424.250000  541.750000\n",
              "max    10.00000  62.000000  4734.000000  900.000000"
            ],
            "text/html": [
              "\n",
              "\n",
              "  <div id=\"df-be6cfa38-2ef4-4fe8-9631-b1f1c98435b5\">\n",
              "    <div class=\"colab-df-container\">\n",
              "      <div>\n",
              "<style scoped>\n",
              "    .dataframe tbody tr th:only-of-type {\n",
              "        vertical-align: middle;\n",
              "    }\n",
              "\n",
              "    .dataframe tbody tr th {\n",
              "        vertical-align: top;\n",
              "    }\n",
              "\n",
              "    .dataframe thead th {\n",
              "        text-align: right;\n",
              "    }\n",
              "</style>\n",
              "<table border=\"1\" class=\"dataframe\">\n",
              "  <thead>\n",
              "    <tr style=\"text-align: right;\">\n",
              "      <th></th>\n",
              "      <th>id</th>\n",
              "      <th>age</th>\n",
              "      <th>salary</th>\n",
              "      <th>score</th>\n",
              "    </tr>\n",
              "  </thead>\n",
              "  <tbody>\n",
              "    <tr>\n",
              "      <th>count</th>\n",
              "      <td>10.00000</td>\n",
              "      <td>10.000000</td>\n",
              "      <td>10.000000</td>\n",
              "      <td>10.000000</td>\n",
              "    </tr>\n",
              "    <tr>\n",
              "      <th>mean</th>\n",
              "      <td>5.50000</td>\n",
              "      <td>41.500000</td>\n",
              "      <td>3453.400000</td>\n",
              "      <td>433.700000</td>\n",
              "    </tr>\n",
              "    <tr>\n",
              "      <th>std</th>\n",
              "      <td>3.02765</td>\n",
              "      <td>15.042532</td>\n",
              "      <td>1124.941302</td>\n",
              "      <td>221.185217</td>\n",
              "    </tr>\n",
              "    <tr>\n",
              "      <th>min</th>\n",
              "      <td>1.00000</td>\n",
              "      <td>21.000000</td>\n",
              "      <td>1617.000000</td>\n",
              "      <td>188.000000</td>\n",
              "    </tr>\n",
              "    <tr>\n",
              "      <th>25%</th>\n",
              "      <td>3.25000</td>\n",
              "      <td>28.250000</td>\n",
              "      <td>2529.500000</td>\n",
              "      <td>236.750000</td>\n",
              "    </tr>\n",
              "    <tr>\n",
              "      <th>50%</th>\n",
              "      <td>5.50000</td>\n",
              "      <td>40.500000</td>\n",
              "      <td>3666.000000</td>\n",
              "      <td>438.500000</td>\n",
              "    </tr>\n",
              "    <tr>\n",
              "      <th>75%</th>\n",
              "      <td>7.75000</td>\n",
              "      <td>55.000000</td>\n",
              "      <td>4424.250000</td>\n",
              "      <td>541.750000</td>\n",
              "    </tr>\n",
              "    <tr>\n",
              "      <th>max</th>\n",
              "      <td>10.00000</td>\n",
              "      <td>62.000000</td>\n",
              "      <td>4734.000000</td>\n",
              "      <td>900.000000</td>\n",
              "    </tr>\n",
              "  </tbody>\n",
              "</table>\n",
              "</div>\n",
              "      <button class=\"colab-df-convert\" onclick=\"convertToInteractive('df-be6cfa38-2ef4-4fe8-9631-b1f1c98435b5')\"\n",
              "              title=\"Convert this dataframe to an interactive table.\"\n",
              "              style=\"display:none;\">\n",
              "\n",
              "  <svg xmlns=\"http://www.w3.org/2000/svg\" height=\"24px\"viewBox=\"0 0 24 24\"\n",
              "       width=\"24px\">\n",
              "    <path d=\"M0 0h24v24H0V0z\" fill=\"none\"/>\n",
              "    <path d=\"M18.56 5.44l.94 2.06.94-2.06 2.06-.94-2.06-.94-.94-2.06-.94 2.06-2.06.94zm-11 1L8.5 8.5l.94-2.06 2.06-.94-2.06-.94L8.5 2.5l-.94 2.06-2.06.94zm10 10l.94 2.06.94-2.06 2.06-.94-2.06-.94-.94-2.06-.94 2.06-2.06.94z\"/><path d=\"M17.41 7.96l-1.37-1.37c-.4-.4-.92-.59-1.43-.59-.52 0-1.04.2-1.43.59L10.3 9.45l-7.72 7.72c-.78.78-.78 2.05 0 2.83L4 21.41c.39.39.9.59 1.41.59.51 0 1.02-.2 1.41-.59l7.78-7.78 2.81-2.81c.8-.78.8-2.07 0-2.86zM5.41 20L4 18.59l7.72-7.72 1.47 1.35L5.41 20z\"/>\n",
              "  </svg>\n",
              "      </button>\n",
              "\n",
              "\n",
              "\n",
              "    <div id=\"df-c279f8df-609f-438c-be49-76cee7bd55bd\">\n",
              "      <button class=\"colab-df-quickchart\" onclick=\"quickchart('df-c279f8df-609f-438c-be49-76cee7bd55bd')\"\n",
              "              title=\"Suggest charts.\"\n",
              "              style=\"display:none;\">\n",
              "\n",
              "<svg xmlns=\"http://www.w3.org/2000/svg\" height=\"24px\"viewBox=\"0 0 24 24\"\n",
              "     width=\"24px\">\n",
              "    <g>\n",
              "        <path d=\"M19 3H5c-1.1 0-2 .9-2 2v14c0 1.1.9 2 2 2h14c1.1 0 2-.9 2-2V5c0-1.1-.9-2-2-2zM9 17H7v-7h2v7zm4 0h-2V7h2v10zm4 0h-2v-4h2v4z\"/>\n",
              "    </g>\n",
              "</svg>\n",
              "      </button>\n",
              "    </div>\n",
              "\n",
              "<style>\n",
              "  .colab-df-quickchart {\n",
              "    background-color: #E8F0FE;\n",
              "    border: none;\n",
              "    border-radius: 50%;\n",
              "    cursor: pointer;\n",
              "    display: none;\n",
              "    fill: #1967D2;\n",
              "    height: 32px;\n",
              "    padding: 0 0 0 0;\n",
              "    width: 32px;\n",
              "  }\n",
              "\n",
              "  .colab-df-quickchart:hover {\n",
              "    background-color: #E2EBFA;\n",
              "    box-shadow: 0px 1px 2px rgba(60, 64, 67, 0.3), 0px 1px 3px 1px rgba(60, 64, 67, 0.15);\n",
              "    fill: #174EA6;\n",
              "  }\n",
              "\n",
              "  [theme=dark] .colab-df-quickchart {\n",
              "    background-color: #3B4455;\n",
              "    fill: #D2E3FC;\n",
              "  }\n",
              "\n",
              "  [theme=dark] .colab-df-quickchart:hover {\n",
              "    background-color: #434B5C;\n",
              "    box-shadow: 0px 1px 3px 1px rgba(0, 0, 0, 0.15);\n",
              "    filter: drop-shadow(0px 1px 2px rgba(0, 0, 0, 0.3));\n",
              "    fill: #FFFFFF;\n",
              "  }\n",
              "</style>\n",
              "\n",
              "    <script>\n",
              "      async function quickchart(key) {\n",
              "        const containerElement = document.querySelector('#' + key);\n",
              "        const charts = await google.colab.kernel.invokeFunction(\n",
              "            'suggestCharts', [key], {});\n",
              "      }\n",
              "    </script>\n",
              "\n",
              "      <script>\n",
              "\n",
              "function displayQuickchartButton(domScope) {\n",
              "  let quickchartButtonEl =\n",
              "    domScope.querySelector('#df-c279f8df-609f-438c-be49-76cee7bd55bd button.colab-df-quickchart');\n",
              "  quickchartButtonEl.style.display =\n",
              "    google.colab.kernel.accessAllowed ? 'block' : 'none';\n",
              "}\n",
              "\n",
              "        displayQuickchartButton(document);\n",
              "      </script>\n",
              "      <style>\n",
              "    .colab-df-container {\n",
              "      display:flex;\n",
              "      flex-wrap:wrap;\n",
              "      gap: 12px;\n",
              "    }\n",
              "\n",
              "    .colab-df-convert {\n",
              "      background-color: #E8F0FE;\n",
              "      border: none;\n",
              "      border-radius: 50%;\n",
              "      cursor: pointer;\n",
              "      display: none;\n",
              "      fill: #1967D2;\n",
              "      height: 32px;\n",
              "      padding: 0 0 0 0;\n",
              "      width: 32px;\n",
              "    }\n",
              "\n",
              "    .colab-df-convert:hover {\n",
              "      background-color: #E2EBFA;\n",
              "      box-shadow: 0px 1px 2px rgba(60, 64, 67, 0.3), 0px 1px 3px 1px rgba(60, 64, 67, 0.15);\n",
              "      fill: #174EA6;\n",
              "    }\n",
              "\n",
              "    [theme=dark] .colab-df-convert {\n",
              "      background-color: #3B4455;\n",
              "      fill: #D2E3FC;\n",
              "    }\n",
              "\n",
              "    [theme=dark] .colab-df-convert:hover {\n",
              "      background-color: #434B5C;\n",
              "      box-shadow: 0px 1px 3px 1px rgba(0, 0, 0, 0.15);\n",
              "      filter: drop-shadow(0px 1px 2px rgba(0, 0, 0, 0.3));\n",
              "      fill: #FFFFFF;\n",
              "    }\n",
              "  </style>\n",
              "\n",
              "      <script>\n",
              "        const buttonEl =\n",
              "          document.querySelector('#df-be6cfa38-2ef4-4fe8-9631-b1f1c98435b5 button.colab-df-convert');\n",
              "        buttonEl.style.display =\n",
              "          google.colab.kernel.accessAllowed ? 'block' : 'none';\n",
              "\n",
              "        async function convertToInteractive(key) {\n",
              "          const element = document.querySelector('#df-be6cfa38-2ef4-4fe8-9631-b1f1c98435b5');\n",
              "          const dataTable =\n",
              "            await google.colab.kernel.invokeFunction('convertToInteractive',\n",
              "                                                     [key], {});\n",
              "          if (!dataTable) return;\n",
              "\n",
              "          const docLinkHtml = 'Like what you see? Visit the ' +\n",
              "            '<a target=\"_blank\" href=https://colab.research.google.com/notebooks/data_table.ipynb>data table notebook</a>'\n",
              "            + ' to learn more about interactive tables.';\n",
              "          element.innerHTML = '';\n",
              "          dataTable['output_type'] = 'display_data';\n",
              "          await google.colab.output.renderOutput(dataTable, element);\n",
              "          const docLink = document.createElement('div');\n",
              "          docLink.innerHTML = docLinkHtml;\n",
              "          element.appendChild(docLink);\n",
              "        }\n",
              "      </script>\n",
              "    </div>\n",
              "  </div>\n"
            ]
          },
          "metadata": {},
          "execution_count": 54
        }
      ]
    },
    {
      "cell_type": "markdown",
      "source": [
        "`corr()` makes a correlation matrix\n",
        "\n"
      ],
      "metadata": {
        "id": "pEgfoZco0pmb"
      }
    },
    {
      "cell_type": "code",
      "source": [
        "df.corr()"
      ],
      "metadata": {
        "colab": {
          "base_uri": "https://localhost:8080/",
          "height": 231
        },
        "id": "N2LzI69b0ayi",
        "outputId": "a7487fb4-0d01-4d10-d207-d07ef21a0bab"
      },
      "execution_count": null,
      "outputs": [
        {
          "output_type": "stream",
          "name": "stderr",
          "text": [
            "<ipython-input-55-2f6f6606aa2c>:1: FutureWarning: The default value of numeric_only in DataFrame.corr is deprecated. In a future version, it will default to False. Select only valid columns or specify the value of numeric_only to silence this warning.\n",
            "  df.corr()\n"
          ]
        },
        {
          "output_type": "execute_result",
          "data": {
            "text/plain": [
              "              id       age    salary     score\n",
              "id      1.000000 -0.320816 -0.196814 -0.118715\n",
              "age    -0.320816  1.000000  0.341371 -0.138305\n",
              "salary -0.196814  0.341371  1.000000  0.483030\n",
              "score  -0.118715 -0.138305  0.483030  1.000000"
            ],
            "text/html": [
              "\n",
              "\n",
              "  <div id=\"df-0b85a293-966c-44ad-aca8-26ecf4a9fc9b\">\n",
              "    <div class=\"colab-df-container\">\n",
              "      <div>\n",
              "<style scoped>\n",
              "    .dataframe tbody tr th:only-of-type {\n",
              "        vertical-align: middle;\n",
              "    }\n",
              "\n",
              "    .dataframe tbody tr th {\n",
              "        vertical-align: top;\n",
              "    }\n",
              "\n",
              "    .dataframe thead th {\n",
              "        text-align: right;\n",
              "    }\n",
              "</style>\n",
              "<table border=\"1\" class=\"dataframe\">\n",
              "  <thead>\n",
              "    <tr style=\"text-align: right;\">\n",
              "      <th></th>\n",
              "      <th>id</th>\n",
              "      <th>age</th>\n",
              "      <th>salary</th>\n",
              "      <th>score</th>\n",
              "    </tr>\n",
              "  </thead>\n",
              "  <tbody>\n",
              "    <tr>\n",
              "      <th>id</th>\n",
              "      <td>1.000000</td>\n",
              "      <td>-0.320816</td>\n",
              "      <td>-0.196814</td>\n",
              "      <td>-0.118715</td>\n",
              "    </tr>\n",
              "    <tr>\n",
              "      <th>age</th>\n",
              "      <td>-0.320816</td>\n",
              "      <td>1.000000</td>\n",
              "      <td>0.341371</td>\n",
              "      <td>-0.138305</td>\n",
              "    </tr>\n",
              "    <tr>\n",
              "      <th>salary</th>\n",
              "      <td>-0.196814</td>\n",
              "      <td>0.341371</td>\n",
              "      <td>1.000000</td>\n",
              "      <td>0.483030</td>\n",
              "    </tr>\n",
              "    <tr>\n",
              "      <th>score</th>\n",
              "      <td>-0.118715</td>\n",
              "      <td>-0.138305</td>\n",
              "      <td>0.483030</td>\n",
              "      <td>1.000000</td>\n",
              "    </tr>\n",
              "  </tbody>\n",
              "</table>\n",
              "</div>\n",
              "      <button class=\"colab-df-convert\" onclick=\"convertToInteractive('df-0b85a293-966c-44ad-aca8-26ecf4a9fc9b')\"\n",
              "              title=\"Convert this dataframe to an interactive table.\"\n",
              "              style=\"display:none;\">\n",
              "\n",
              "  <svg xmlns=\"http://www.w3.org/2000/svg\" height=\"24px\"viewBox=\"0 0 24 24\"\n",
              "       width=\"24px\">\n",
              "    <path d=\"M0 0h24v24H0V0z\" fill=\"none\"/>\n",
              "    <path d=\"M18.56 5.44l.94 2.06.94-2.06 2.06-.94-2.06-.94-.94-2.06-.94 2.06-2.06.94zm-11 1L8.5 8.5l.94-2.06 2.06-.94-2.06-.94L8.5 2.5l-.94 2.06-2.06.94zm10 10l.94 2.06.94-2.06 2.06-.94-2.06-.94-.94-2.06-.94 2.06-2.06.94z\"/><path d=\"M17.41 7.96l-1.37-1.37c-.4-.4-.92-.59-1.43-.59-.52 0-1.04.2-1.43.59L10.3 9.45l-7.72 7.72c-.78.78-.78 2.05 0 2.83L4 21.41c.39.39.9.59 1.41.59.51 0 1.02-.2 1.41-.59l7.78-7.78 2.81-2.81c.8-.78.8-2.07 0-2.86zM5.41 20L4 18.59l7.72-7.72 1.47 1.35L5.41 20z\"/>\n",
              "  </svg>\n",
              "      </button>\n",
              "\n",
              "\n",
              "\n",
              "    <div id=\"df-8bed9eb4-6ede-44eb-98cb-edcde6fd8d32\">\n",
              "      <button class=\"colab-df-quickchart\" onclick=\"quickchart('df-8bed9eb4-6ede-44eb-98cb-edcde6fd8d32')\"\n",
              "              title=\"Suggest charts.\"\n",
              "              style=\"display:none;\">\n",
              "\n",
              "<svg xmlns=\"http://www.w3.org/2000/svg\" height=\"24px\"viewBox=\"0 0 24 24\"\n",
              "     width=\"24px\">\n",
              "    <g>\n",
              "        <path d=\"M19 3H5c-1.1 0-2 .9-2 2v14c0 1.1.9 2 2 2h14c1.1 0 2-.9 2-2V5c0-1.1-.9-2-2-2zM9 17H7v-7h2v7zm4 0h-2V7h2v10zm4 0h-2v-4h2v4z\"/>\n",
              "    </g>\n",
              "</svg>\n",
              "      </button>\n",
              "    </div>\n",
              "\n",
              "<style>\n",
              "  .colab-df-quickchart {\n",
              "    background-color: #E8F0FE;\n",
              "    border: none;\n",
              "    border-radius: 50%;\n",
              "    cursor: pointer;\n",
              "    display: none;\n",
              "    fill: #1967D2;\n",
              "    height: 32px;\n",
              "    padding: 0 0 0 0;\n",
              "    width: 32px;\n",
              "  }\n",
              "\n",
              "  .colab-df-quickchart:hover {\n",
              "    background-color: #E2EBFA;\n",
              "    box-shadow: 0px 1px 2px rgba(60, 64, 67, 0.3), 0px 1px 3px 1px rgba(60, 64, 67, 0.15);\n",
              "    fill: #174EA6;\n",
              "  }\n",
              "\n",
              "  [theme=dark] .colab-df-quickchart {\n",
              "    background-color: #3B4455;\n",
              "    fill: #D2E3FC;\n",
              "  }\n",
              "\n",
              "  [theme=dark] .colab-df-quickchart:hover {\n",
              "    background-color: #434B5C;\n",
              "    box-shadow: 0px 1px 3px 1px rgba(0, 0, 0, 0.15);\n",
              "    filter: drop-shadow(0px 1px 2px rgba(0, 0, 0, 0.3));\n",
              "    fill: #FFFFFF;\n",
              "  }\n",
              "</style>\n",
              "\n",
              "    <script>\n",
              "      async function quickchart(key) {\n",
              "        const containerElement = document.querySelector('#' + key);\n",
              "        const charts = await google.colab.kernel.invokeFunction(\n",
              "            'suggestCharts', [key], {});\n",
              "      }\n",
              "    </script>\n",
              "\n",
              "      <script>\n",
              "\n",
              "function displayQuickchartButton(domScope) {\n",
              "  let quickchartButtonEl =\n",
              "    domScope.querySelector('#df-8bed9eb4-6ede-44eb-98cb-edcde6fd8d32 button.colab-df-quickchart');\n",
              "  quickchartButtonEl.style.display =\n",
              "    google.colab.kernel.accessAllowed ? 'block' : 'none';\n",
              "}\n",
              "\n",
              "        displayQuickchartButton(document);\n",
              "      </script>\n",
              "      <style>\n",
              "    .colab-df-container {\n",
              "      display:flex;\n",
              "      flex-wrap:wrap;\n",
              "      gap: 12px;\n",
              "    }\n",
              "\n",
              "    .colab-df-convert {\n",
              "      background-color: #E8F0FE;\n",
              "      border: none;\n",
              "      border-radius: 50%;\n",
              "      cursor: pointer;\n",
              "      display: none;\n",
              "      fill: #1967D2;\n",
              "      height: 32px;\n",
              "      padding: 0 0 0 0;\n",
              "      width: 32px;\n",
              "    }\n",
              "\n",
              "    .colab-df-convert:hover {\n",
              "      background-color: #E2EBFA;\n",
              "      box-shadow: 0px 1px 2px rgba(60, 64, 67, 0.3), 0px 1px 3px 1px rgba(60, 64, 67, 0.15);\n",
              "      fill: #174EA6;\n",
              "    }\n",
              "\n",
              "    [theme=dark] .colab-df-convert {\n",
              "      background-color: #3B4455;\n",
              "      fill: #D2E3FC;\n",
              "    }\n",
              "\n",
              "    [theme=dark] .colab-df-convert:hover {\n",
              "      background-color: #434B5C;\n",
              "      box-shadow: 0px 1px 3px 1px rgba(0, 0, 0, 0.15);\n",
              "      filter: drop-shadow(0px 1px 2px rgba(0, 0, 0, 0.3));\n",
              "      fill: #FFFFFF;\n",
              "    }\n",
              "  </style>\n",
              "\n",
              "      <script>\n",
              "        const buttonEl =\n",
              "          document.querySelector('#df-0b85a293-966c-44ad-aca8-26ecf4a9fc9b button.colab-df-convert');\n",
              "        buttonEl.style.display =\n",
              "          google.colab.kernel.accessAllowed ? 'block' : 'none';\n",
              "\n",
              "        async function convertToInteractive(key) {\n",
              "          const element = document.querySelector('#df-0b85a293-966c-44ad-aca8-26ecf4a9fc9b');\n",
              "          const dataTable =\n",
              "            await google.colab.kernel.invokeFunction('convertToInteractive',\n",
              "                                                     [key], {});\n",
              "          if (!dataTable) return;\n",
              "\n",
              "          const docLinkHtml = 'Like what you see? Visit the ' +\n",
              "            '<a target=\"_blank\" href=https://colab.research.google.com/notebooks/data_table.ipynb>data table notebook</a>'\n",
              "            + ' to learn more about interactive tables.';\n",
              "          element.innerHTML = '';\n",
              "          dataTable['output_type'] = 'display_data';\n",
              "          await google.colab.output.renderOutput(dataTable, element);\n",
              "          const docLink = document.createElement('div');\n",
              "          docLink.innerHTML = docLinkHtml;\n",
              "          element.appendChild(docLink);\n",
              "        }\n",
              "      </script>\n",
              "    </div>\n",
              "  </div>\n"
            ]
          },
          "metadata": {},
          "execution_count": 55
        }
      ]
    },
    {
      "cell_type": "markdown",
      "source": [
        "How visualize a specific column"
      ],
      "metadata": {
        "id": "2SJQxru21AGG"
      }
    },
    {
      "cell_type": "code",
      "source": [
        "df['age']"
      ],
      "metadata": {
        "colab": {
          "base_uri": "https://localhost:8080/"
        },
        "id": "9Eude0E3DDgc",
        "outputId": "f21a9f67-d019-45aa-d8c9-370127674b10"
      },
      "execution_count": null,
      "outputs": [
        {
          "output_type": "execute_result",
          "data": {
            "text/plain": [
              "0    56\n",
              "1    52\n",
              "2    46\n",
              "3    26\n",
              "4    21\n",
              "5    62\n",
              "6    35\n",
              "7    58\n",
              "8    27\n",
              "9    32\n",
              "Name: age, dtype: int64"
            ]
          },
          "metadata": {},
          "execution_count": 136
        }
      ]
    },
    {
      "cell_type": "markdown",
      "source": [
        "How to make mathematics operation with columns"
      ],
      "metadata": {
        "id": "DkIv9jhi1G-v"
      }
    },
    {
      "cell_type": "code",
      "source": [
        "df['age'] * 2"
      ],
      "metadata": {
        "colab": {
          "base_uri": "https://localhost:8080/"
        },
        "id": "ilsnKJLa1GeW",
        "outputId": "a1ce79f4-d21c-4436-f54e-9e0179c61c05"
      },
      "execution_count": null,
      "outputs": [
        {
          "output_type": "execute_result",
          "data": {
            "text/plain": [
              "0    27440\n",
              "1    21944\n",
              "2     8648\n",
              "3    23400\n",
              "4     4242\n",
              "5    36828\n",
              "6    15925\n",
              "7    12180\n",
              "8    15093\n",
              "9    10144\n",
              "dtype: int64"
            ]
          },
          "metadata": {},
          "execution_count": 57
        }
      ]
    },
    {
      "cell_type": "markdown",
      "source": [
        "To create a new column:"
      ],
      "metadata": {
        "id": "7JXJIPRT-qBH"
      }
    },
    {
      "cell_type": "code",
      "source": [
        "df['new_column'] = df['age'] * df['salary']"
      ],
      "metadata": {
        "id": "SFx-YhUK-QBG"
      },
      "execution_count": null,
      "outputs": []
    },
    {
      "cell_type": "markdown",
      "source": [
        "To drop a column"
      ],
      "metadata": {
        "id": "H4ipFKyF-t2y"
      }
    },
    {
      "cell_type": "code",
      "source": [
        "df = df.drop(\"new_column\", axis = 1)"
      ],
      "metadata": {
        "id": "YFlyDetl-hpc"
      },
      "execution_count": null,
      "outputs": []
    },
    {
      "cell_type": "markdown",
      "source": [
        "Group by like SQL queries:"
      ],
      "metadata": {
        "id": "iCe9ctaF_KIH"
      }
    },
    {
      "cell_type": "code",
      "source": [
        "df.groupby(\"city\")['salary'].mean()"
      ],
      "metadata": {
        "colab": {
          "base_uri": "https://localhost:8080/"
        },
        "id": "EdiWdtZ_-w13",
        "outputId": "5ac1d983-08b7-4fc8-c56c-e0499c1cbe6b"
      },
      "execution_count": null,
      "outputs": [
        {
          "output_type": "execute_result",
          "data": {
            "text/plain": [
              "city\n",
              "Las Vegas      3575.857143\n",
              "Los Angeles    3531.000000\n",
              "New York       2986.000000\n",
              "Name: salary, dtype: float64"
            ]
          },
          "metadata": {},
          "execution_count": 62
        }
      ]
    },
    {
      "cell_type": "markdown",
      "source": [
        "Count unique values of the table:"
      ],
      "metadata": {
        "id": "dtegyfNU_GiS"
      }
    },
    {
      "cell_type": "code",
      "source": [
        "df['city'].value_counts()"
      ],
      "metadata": {
        "colab": {
          "base_uri": "https://localhost:8080/"
        },
        "id": "tluuiPWd-w5h",
        "outputId": "69c8e6d0-5c5b-4d33-f1ca-ccc0cc69f752"
      },
      "execution_count": null,
      "outputs": [
        {
          "output_type": "execute_result",
          "data": {
            "text/plain": [
              "Las Vegas      7\n",
              "New York       2\n",
              "Los Angeles    1\n",
              "Name: city, dtype: int64"
            ]
          },
          "metadata": {},
          "execution_count": 63
        }
      ]
    },
    {
      "cell_type": "markdown",
      "source": [
        "Case when in Pandas:"
      ],
      "metadata": {
        "id": "-7g-5B9t_b7I"
      }
    },
    {
      "cell_type": "code",
      "source": [
        "df.loc[df['score'] <= 300, 'range_scores'] = 'low'\n",
        "df.loc[df['score'] <= 700, 'range_scores'] = 'medium'\n",
        "df.loc[df['score'] > 700, 'range_scores'] = 'high'"
      ],
      "metadata": {
        "id": "79JAoz1N_fvr"
      },
      "execution_count": null,
      "outputs": []
    },
    {
      "cell_type": "code",
      "source": [
        "df.head()"
      ],
      "metadata": {
        "colab": {
          "base_uri": "https://localhost:8080/",
          "height": 206
        },
        "id": "vB6HPTXw_1vt",
        "outputId": "19139e04-a3ce-4e07-d224-5aea23397bc1"
      },
      "execution_count": null,
      "outputs": [
        {
          "output_type": "execute_result",
          "data": {
            "text/plain": [
              "   id               name         city  age  salary  score range_scores\n",
              "0   1      James Stewart    Las Vegas   56    4530    490       medium\n",
              "1   2  Alejandro Barrett    Las Vegas   52    4734    422       medium\n",
              "2   3          Jim Evans     New York   46    2171    188       medium\n",
              "3   4          Tina Kirk  Los Angeles   26    3531    900         high\n",
              "4   5      Morgan Bailey    Las Vegas   21    1617    202       medium"
            ],
            "text/html": [
              "\n",
              "\n",
              "  <div id=\"df-14adbcec-e8b9-40cd-8829-c2d758643f2c\">\n",
              "    <div class=\"colab-df-container\">\n",
              "      <div>\n",
              "<style scoped>\n",
              "    .dataframe tbody tr th:only-of-type {\n",
              "        vertical-align: middle;\n",
              "    }\n",
              "\n",
              "    .dataframe tbody tr th {\n",
              "        vertical-align: top;\n",
              "    }\n",
              "\n",
              "    .dataframe thead th {\n",
              "        text-align: right;\n",
              "    }\n",
              "</style>\n",
              "<table border=\"1\" class=\"dataframe\">\n",
              "  <thead>\n",
              "    <tr style=\"text-align: right;\">\n",
              "      <th></th>\n",
              "      <th>id</th>\n",
              "      <th>name</th>\n",
              "      <th>city</th>\n",
              "      <th>age</th>\n",
              "      <th>salary</th>\n",
              "      <th>score</th>\n",
              "      <th>range_scores</th>\n",
              "    </tr>\n",
              "  </thead>\n",
              "  <tbody>\n",
              "    <tr>\n",
              "      <th>0</th>\n",
              "      <td>1</td>\n",
              "      <td>James Stewart</td>\n",
              "      <td>Las Vegas</td>\n",
              "      <td>56</td>\n",
              "      <td>4530</td>\n",
              "      <td>490</td>\n",
              "      <td>medium</td>\n",
              "    </tr>\n",
              "    <tr>\n",
              "      <th>1</th>\n",
              "      <td>2</td>\n",
              "      <td>Alejandro Barrett</td>\n",
              "      <td>Las Vegas</td>\n",
              "      <td>52</td>\n",
              "      <td>4734</td>\n",
              "      <td>422</td>\n",
              "      <td>medium</td>\n",
              "    </tr>\n",
              "    <tr>\n",
              "      <th>2</th>\n",
              "      <td>3</td>\n",
              "      <td>Jim Evans</td>\n",
              "      <td>New York</td>\n",
              "      <td>46</td>\n",
              "      <td>2171</td>\n",
              "      <td>188</td>\n",
              "      <td>medium</td>\n",
              "    </tr>\n",
              "    <tr>\n",
              "      <th>3</th>\n",
              "      <td>4</td>\n",
              "      <td>Tina Kirk</td>\n",
              "      <td>Los Angeles</td>\n",
              "      <td>26</td>\n",
              "      <td>3531</td>\n",
              "      <td>900</td>\n",
              "      <td>high</td>\n",
              "    </tr>\n",
              "    <tr>\n",
              "      <th>4</th>\n",
              "      <td>5</td>\n",
              "      <td>Morgan Bailey</td>\n",
              "      <td>Las Vegas</td>\n",
              "      <td>21</td>\n",
              "      <td>1617</td>\n",
              "      <td>202</td>\n",
              "      <td>medium</td>\n",
              "    </tr>\n",
              "  </tbody>\n",
              "</table>\n",
              "</div>\n",
              "      <button class=\"colab-df-convert\" onclick=\"convertToInteractive('df-14adbcec-e8b9-40cd-8829-c2d758643f2c')\"\n",
              "              title=\"Convert this dataframe to an interactive table.\"\n",
              "              style=\"display:none;\">\n",
              "\n",
              "  <svg xmlns=\"http://www.w3.org/2000/svg\" height=\"24px\"viewBox=\"0 0 24 24\"\n",
              "       width=\"24px\">\n",
              "    <path d=\"M0 0h24v24H0V0z\" fill=\"none\"/>\n",
              "    <path d=\"M18.56 5.44l.94 2.06.94-2.06 2.06-.94-2.06-.94-.94-2.06-.94 2.06-2.06.94zm-11 1L8.5 8.5l.94-2.06 2.06-.94-2.06-.94L8.5 2.5l-.94 2.06-2.06.94zm10 10l.94 2.06.94-2.06 2.06-.94-2.06-.94-.94-2.06-.94 2.06-2.06.94z\"/><path d=\"M17.41 7.96l-1.37-1.37c-.4-.4-.92-.59-1.43-.59-.52 0-1.04.2-1.43.59L10.3 9.45l-7.72 7.72c-.78.78-.78 2.05 0 2.83L4 21.41c.39.39.9.59 1.41.59.51 0 1.02-.2 1.41-.59l7.78-7.78 2.81-2.81c.8-.78.8-2.07 0-2.86zM5.41 20L4 18.59l7.72-7.72 1.47 1.35L5.41 20z\"/>\n",
              "  </svg>\n",
              "      </button>\n",
              "\n",
              "\n",
              "\n",
              "    <div id=\"df-fbad15c0-ec44-40a1-94bc-12932c1efb39\">\n",
              "      <button class=\"colab-df-quickchart\" onclick=\"quickchart('df-fbad15c0-ec44-40a1-94bc-12932c1efb39')\"\n",
              "              title=\"Suggest charts.\"\n",
              "              style=\"display:none;\">\n",
              "\n",
              "<svg xmlns=\"http://www.w3.org/2000/svg\" height=\"24px\"viewBox=\"0 0 24 24\"\n",
              "     width=\"24px\">\n",
              "    <g>\n",
              "        <path d=\"M19 3H5c-1.1 0-2 .9-2 2v14c0 1.1.9 2 2 2h14c1.1 0 2-.9 2-2V5c0-1.1-.9-2-2-2zM9 17H7v-7h2v7zm4 0h-2V7h2v10zm4 0h-2v-4h2v4z\"/>\n",
              "    </g>\n",
              "</svg>\n",
              "      </button>\n",
              "    </div>\n",
              "\n",
              "<style>\n",
              "  .colab-df-quickchart {\n",
              "    background-color: #E8F0FE;\n",
              "    border: none;\n",
              "    border-radius: 50%;\n",
              "    cursor: pointer;\n",
              "    display: none;\n",
              "    fill: #1967D2;\n",
              "    height: 32px;\n",
              "    padding: 0 0 0 0;\n",
              "    width: 32px;\n",
              "  }\n",
              "\n",
              "  .colab-df-quickchart:hover {\n",
              "    background-color: #E2EBFA;\n",
              "    box-shadow: 0px 1px 2px rgba(60, 64, 67, 0.3), 0px 1px 3px 1px rgba(60, 64, 67, 0.15);\n",
              "    fill: #174EA6;\n",
              "  }\n",
              "\n",
              "  [theme=dark] .colab-df-quickchart {\n",
              "    background-color: #3B4455;\n",
              "    fill: #D2E3FC;\n",
              "  }\n",
              "\n",
              "  [theme=dark] .colab-df-quickchart:hover {\n",
              "    background-color: #434B5C;\n",
              "    box-shadow: 0px 1px 3px 1px rgba(0, 0, 0, 0.15);\n",
              "    filter: drop-shadow(0px 1px 2px rgba(0, 0, 0, 0.3));\n",
              "    fill: #FFFFFF;\n",
              "  }\n",
              "</style>\n",
              "\n",
              "    <script>\n",
              "      async function quickchart(key) {\n",
              "        const containerElement = document.querySelector('#' + key);\n",
              "        const charts = await google.colab.kernel.invokeFunction(\n",
              "            'suggestCharts', [key], {});\n",
              "      }\n",
              "    </script>\n",
              "\n",
              "      <script>\n",
              "\n",
              "function displayQuickchartButton(domScope) {\n",
              "  let quickchartButtonEl =\n",
              "    domScope.querySelector('#df-fbad15c0-ec44-40a1-94bc-12932c1efb39 button.colab-df-quickchart');\n",
              "  quickchartButtonEl.style.display =\n",
              "    google.colab.kernel.accessAllowed ? 'block' : 'none';\n",
              "}\n",
              "\n",
              "        displayQuickchartButton(document);\n",
              "      </script>\n",
              "      <style>\n",
              "    .colab-df-container {\n",
              "      display:flex;\n",
              "      flex-wrap:wrap;\n",
              "      gap: 12px;\n",
              "    }\n",
              "\n",
              "    .colab-df-convert {\n",
              "      background-color: #E8F0FE;\n",
              "      border: none;\n",
              "      border-radius: 50%;\n",
              "      cursor: pointer;\n",
              "      display: none;\n",
              "      fill: #1967D2;\n",
              "      height: 32px;\n",
              "      padding: 0 0 0 0;\n",
              "      width: 32px;\n",
              "    }\n",
              "\n",
              "    .colab-df-convert:hover {\n",
              "      background-color: #E2EBFA;\n",
              "      box-shadow: 0px 1px 2px rgba(60, 64, 67, 0.3), 0px 1px 3px 1px rgba(60, 64, 67, 0.15);\n",
              "      fill: #174EA6;\n",
              "    }\n",
              "\n",
              "    [theme=dark] .colab-df-convert {\n",
              "      background-color: #3B4455;\n",
              "      fill: #D2E3FC;\n",
              "    }\n",
              "\n",
              "    [theme=dark] .colab-df-convert:hover {\n",
              "      background-color: #434B5C;\n",
              "      box-shadow: 0px 1px 3px 1px rgba(0, 0, 0, 0.15);\n",
              "      filter: drop-shadow(0px 1px 2px rgba(0, 0, 0, 0.3));\n",
              "      fill: #FFFFFF;\n",
              "    }\n",
              "  </style>\n",
              "\n",
              "      <script>\n",
              "        const buttonEl =\n",
              "          document.querySelector('#df-14adbcec-e8b9-40cd-8829-c2d758643f2c button.colab-df-convert');\n",
              "        buttonEl.style.display =\n",
              "          google.colab.kernel.accessAllowed ? 'block' : 'none';\n",
              "\n",
              "        async function convertToInteractive(key) {\n",
              "          const element = document.querySelector('#df-14adbcec-e8b9-40cd-8829-c2d758643f2c');\n",
              "          const dataTable =\n",
              "            await google.colab.kernel.invokeFunction('convertToInteractive',\n",
              "                                                     [key], {});\n",
              "          if (!dataTable) return;\n",
              "\n",
              "          const docLinkHtml = 'Like what you see? Visit the ' +\n",
              "            '<a target=\"_blank\" href=https://colab.research.google.com/notebooks/data_table.ipynb>data table notebook</a>'\n",
              "            + ' to learn more about interactive tables.';\n",
              "          element.innerHTML = '';\n",
              "          dataTable['output_type'] = 'display_data';\n",
              "          await google.colab.output.renderOutput(dataTable, element);\n",
              "          const docLink = document.createElement('div');\n",
              "          docLink.innerHTML = docLinkHtml;\n",
              "          element.appendChild(docLink);\n",
              "        }\n",
              "      </script>\n",
              "    </div>\n",
              "  </div>\n"
            ]
          },
          "metadata": {},
          "execution_count": 66
        }
      ]
    },
    {
      "cell_type": "code",
      "source": [
        "df = df.drop(\"range_scores\", axis = 1)"
      ],
      "metadata": {
        "id": "vd4_Gc2aAIOC"
      },
      "execution_count": null,
      "outputs": []
    },
    {
      "cell_type": "markdown",
      "source": [
        "# Delta tables with Pandas"
      ],
      "metadata": {
        "id": "VdhCnVArCjqO"
      }
    },
    {
      "cell_type": "markdown",
      "source": [
        "Tranform \"New York\" in \"new_york\" to create a column that will be used to partition our delta table. Partitioning the table by the city column means that when saving the table in delta format, all New York city records will be saved in the same directory, a directory will be created for each city. It's possible partition with more than one column."
      ],
      "metadata": {
        "id": "cvZI__Ez761r"
      }
    },
    {
      "cell_type": "code",
      "source": [
        "df['city_partition'] = df['city'].str.lower().str.replace(' ', '_')"
      ],
      "metadata": {
        "id": "E_TcXqRf6djZ"
      },
      "execution_count": 5,
      "outputs": []
    },
    {
      "cell_type": "markdown",
      "source": [
        "Writing a pandas DataFrame in Delta:\n",
        "We set the path of the delta table, the pandas dataframe for writing, description and partition it's not necessary. We can set the mode too, for example `mode = 'append'`, `mode = 'overwrite'`. Append acrescentig new data for the table and overwrite rewrite, replace the table."
      ],
      "metadata": {
        "id": "s9Ce3xEu8Qy9"
      }
    },
    {
      "cell_type": "code",
      "source": [
        "write_deltalake('/lake/delta_table', df,\n",
        "                description= 'dataframe created to demonstraction of Delta table with Pandas',\n",
        "                partition_by= ['city_partition'])"
      ],
      "metadata": {
        "id": "lt6PUcWH7XpS"
      },
      "execution_count": 6,
      "outputs": []
    },
    {
      "cell_type": "markdown",
      "source": [
        "Reading a Delta Table with Pandas:"
      ],
      "metadata": {
        "id": "IYcSDjhX8eGb"
      }
    },
    {
      "cell_type": "code",
      "source": [
        "import datetime"
      ],
      "metadata": {
        "id": "dzXX0A9voZoZ"
      },
      "execution_count": 7,
      "outputs": []
    },
    {
      "cell_type": "code",
      "source": [
        "dataframe = DeltaTable('/lake/delta_table').to_pandas()\n",
        "# dataframe.set_index('id', inplace = True)\n",
        "dataframe.head()"
      ],
      "metadata": {
        "colab": {
          "base_uri": "https://localhost:8080/"
        },
        "id": "-TebIngzF9eu",
        "outputId": "5b95691a-e29a-4388-a536-e74af2761e23"
      },
      "execution_count": 21,
      "outputs": [
        {
          "output_type": "stream",
          "name": "stdout",
          "text": [
            "0:00:00.145237\n"
          ]
        }
      ]
    },
    {
      "cell_type": "markdown",
      "source": [
        "Reading a delta table with partition filter"
      ],
      "metadata": {
        "id": "Opj7zxA8AY4r"
      }
    },
    {
      "cell_type": "code",
      "source": [
        "DeltaTable('/lake/delta_table').to_pandas(\n",
        "    partitions=[(\"city_partition\", 'in', [\"new_york\"])])"
      ],
      "metadata": {
        "colab": {
          "base_uri": "https://localhost:8080/",
          "height": 112
        },
        "id": "pAu3fI4jGCpr",
        "outputId": "dab86d89-5491-48bf-f239-3a909532e40b"
      },
      "execution_count": null,
      "outputs": [
        {
          "output_type": "execute_result",
          "data": {
            "text/plain": [
              "   id            name      city  age  salary  score city_partition\n",
              "0   3       Jim Evans  New York   46    2171    188       new_york\n",
              "1  10  Keith Thompson  New York   32    3801    317       new_york"
            ],
            "text/html": [
              "\n",
              "\n",
              "  <div id=\"df-4d39559a-cde1-4208-821d-ec735ba19923\">\n",
              "    <div class=\"colab-df-container\">\n",
              "      <div>\n",
              "<style scoped>\n",
              "    .dataframe tbody tr th:only-of-type {\n",
              "        vertical-align: middle;\n",
              "    }\n",
              "\n",
              "    .dataframe tbody tr th {\n",
              "        vertical-align: top;\n",
              "    }\n",
              "\n",
              "    .dataframe thead th {\n",
              "        text-align: right;\n",
              "    }\n",
              "</style>\n",
              "<table border=\"1\" class=\"dataframe\">\n",
              "  <thead>\n",
              "    <tr style=\"text-align: right;\">\n",
              "      <th></th>\n",
              "      <th>id</th>\n",
              "      <th>name</th>\n",
              "      <th>city</th>\n",
              "      <th>age</th>\n",
              "      <th>salary</th>\n",
              "      <th>score</th>\n",
              "      <th>city_partition</th>\n",
              "    </tr>\n",
              "  </thead>\n",
              "  <tbody>\n",
              "    <tr>\n",
              "      <th>0</th>\n",
              "      <td>3</td>\n",
              "      <td>Jim Evans</td>\n",
              "      <td>New York</td>\n",
              "      <td>46</td>\n",
              "      <td>2171</td>\n",
              "      <td>188</td>\n",
              "      <td>new_york</td>\n",
              "    </tr>\n",
              "    <tr>\n",
              "      <th>1</th>\n",
              "      <td>10</td>\n",
              "      <td>Keith Thompson</td>\n",
              "      <td>New York</td>\n",
              "      <td>32</td>\n",
              "      <td>3801</td>\n",
              "      <td>317</td>\n",
              "      <td>new_york</td>\n",
              "    </tr>\n",
              "  </tbody>\n",
              "</table>\n",
              "</div>\n",
              "      <button class=\"colab-df-convert\" onclick=\"convertToInteractive('df-4d39559a-cde1-4208-821d-ec735ba19923')\"\n",
              "              title=\"Convert this dataframe to an interactive table.\"\n",
              "              style=\"display:none;\">\n",
              "\n",
              "  <svg xmlns=\"http://www.w3.org/2000/svg\" height=\"24px\"viewBox=\"0 0 24 24\"\n",
              "       width=\"24px\">\n",
              "    <path d=\"M0 0h24v24H0V0z\" fill=\"none\"/>\n",
              "    <path d=\"M18.56 5.44l.94 2.06.94-2.06 2.06-.94-2.06-.94-.94-2.06-.94 2.06-2.06.94zm-11 1L8.5 8.5l.94-2.06 2.06-.94-2.06-.94L8.5 2.5l-.94 2.06-2.06.94zm10 10l.94 2.06.94-2.06 2.06-.94-2.06-.94-.94-2.06-.94 2.06-2.06.94z\"/><path d=\"M17.41 7.96l-1.37-1.37c-.4-.4-.92-.59-1.43-.59-.52 0-1.04.2-1.43.59L10.3 9.45l-7.72 7.72c-.78.78-.78 2.05 0 2.83L4 21.41c.39.39.9.59 1.41.59.51 0 1.02-.2 1.41-.59l7.78-7.78 2.81-2.81c.8-.78.8-2.07 0-2.86zM5.41 20L4 18.59l7.72-7.72 1.47 1.35L5.41 20z\"/>\n",
              "  </svg>\n",
              "      </button>\n",
              "\n",
              "\n",
              "\n",
              "    <div id=\"df-cd30f7e0-7f5e-43e4-bbcd-93681bd5b221\">\n",
              "      <button class=\"colab-df-quickchart\" onclick=\"quickchart('df-cd30f7e0-7f5e-43e4-bbcd-93681bd5b221')\"\n",
              "              title=\"Suggest charts.\"\n",
              "              style=\"display:none;\">\n",
              "\n",
              "<svg xmlns=\"http://www.w3.org/2000/svg\" height=\"24px\"viewBox=\"0 0 24 24\"\n",
              "     width=\"24px\">\n",
              "    <g>\n",
              "        <path d=\"M19 3H5c-1.1 0-2 .9-2 2v14c0 1.1.9 2 2 2h14c1.1 0 2-.9 2-2V5c0-1.1-.9-2-2-2zM9 17H7v-7h2v7zm4 0h-2V7h2v10zm4 0h-2v-4h2v4z\"/>\n",
              "    </g>\n",
              "</svg>\n",
              "      </button>\n",
              "    </div>\n",
              "\n",
              "<style>\n",
              "  .colab-df-quickchart {\n",
              "    background-color: #E8F0FE;\n",
              "    border: none;\n",
              "    border-radius: 50%;\n",
              "    cursor: pointer;\n",
              "    display: none;\n",
              "    fill: #1967D2;\n",
              "    height: 32px;\n",
              "    padding: 0 0 0 0;\n",
              "    width: 32px;\n",
              "  }\n",
              "\n",
              "  .colab-df-quickchart:hover {\n",
              "    background-color: #E2EBFA;\n",
              "    box-shadow: 0px 1px 2px rgba(60, 64, 67, 0.3), 0px 1px 3px 1px rgba(60, 64, 67, 0.15);\n",
              "    fill: #174EA6;\n",
              "  }\n",
              "\n",
              "  [theme=dark] .colab-df-quickchart {\n",
              "    background-color: #3B4455;\n",
              "    fill: #D2E3FC;\n",
              "  }\n",
              "\n",
              "  [theme=dark] .colab-df-quickchart:hover {\n",
              "    background-color: #434B5C;\n",
              "    box-shadow: 0px 1px 3px 1px rgba(0, 0, 0, 0.15);\n",
              "    filter: drop-shadow(0px 1px 2px rgba(0, 0, 0, 0.3));\n",
              "    fill: #FFFFFF;\n",
              "  }\n",
              "</style>\n",
              "\n",
              "    <script>\n",
              "      async function quickchart(key) {\n",
              "        const containerElement = document.querySelector('#' + key);\n",
              "        const charts = await google.colab.kernel.invokeFunction(\n",
              "            'suggestCharts', [key], {});\n",
              "      }\n",
              "    </script>\n",
              "\n",
              "      <script>\n",
              "\n",
              "function displayQuickchartButton(domScope) {\n",
              "  let quickchartButtonEl =\n",
              "    domScope.querySelector('#df-cd30f7e0-7f5e-43e4-bbcd-93681bd5b221 button.colab-df-quickchart');\n",
              "  quickchartButtonEl.style.display =\n",
              "    google.colab.kernel.accessAllowed ? 'block' : 'none';\n",
              "}\n",
              "\n",
              "        displayQuickchartButton(document);\n",
              "      </script>\n",
              "      <style>\n",
              "    .colab-df-container {\n",
              "      display:flex;\n",
              "      flex-wrap:wrap;\n",
              "      gap: 12px;\n",
              "    }\n",
              "\n",
              "    .colab-df-convert {\n",
              "      background-color: #E8F0FE;\n",
              "      border: none;\n",
              "      border-radius: 50%;\n",
              "      cursor: pointer;\n",
              "      display: none;\n",
              "      fill: #1967D2;\n",
              "      height: 32px;\n",
              "      padding: 0 0 0 0;\n",
              "      width: 32px;\n",
              "    }\n",
              "\n",
              "    .colab-df-convert:hover {\n",
              "      background-color: #E2EBFA;\n",
              "      box-shadow: 0px 1px 2px rgba(60, 64, 67, 0.3), 0px 1px 3px 1px rgba(60, 64, 67, 0.15);\n",
              "      fill: #174EA6;\n",
              "    }\n",
              "\n",
              "    [theme=dark] .colab-df-convert {\n",
              "      background-color: #3B4455;\n",
              "      fill: #D2E3FC;\n",
              "    }\n",
              "\n",
              "    [theme=dark] .colab-df-convert:hover {\n",
              "      background-color: #434B5C;\n",
              "      box-shadow: 0px 1px 3px 1px rgba(0, 0, 0, 0.15);\n",
              "      filter: drop-shadow(0px 1px 2px rgba(0, 0, 0, 0.3));\n",
              "      fill: #FFFFFF;\n",
              "    }\n",
              "  </style>\n",
              "\n",
              "      <script>\n",
              "        const buttonEl =\n",
              "          document.querySelector('#df-4d39559a-cde1-4208-821d-ec735ba19923 button.colab-df-convert');\n",
              "        buttonEl.style.display =\n",
              "          google.colab.kernel.accessAllowed ? 'block' : 'none';\n",
              "\n",
              "        async function convertToInteractive(key) {\n",
              "          const element = document.querySelector('#df-4d39559a-cde1-4208-821d-ec735ba19923');\n",
              "          const dataTable =\n",
              "            await google.colab.kernel.invokeFunction('convertToInteractive',\n",
              "                                                     [key], {});\n",
              "          if (!dataTable) return;\n",
              "\n",
              "          const docLinkHtml = 'Like what you see? Visit the ' +\n",
              "            '<a target=\"_blank\" href=https://colab.research.google.com/notebooks/data_table.ipynb>data table notebook</a>'\n",
              "            + ' to learn more about interactive tables.';\n",
              "          element.innerHTML = '';\n",
              "          dataTable['output_type'] = 'display_data';\n",
              "          await google.colab.output.renderOutput(dataTable, element);\n",
              "          const docLink = document.createElement('div');\n",
              "          docLink.innerHTML = docLinkHtml;\n",
              "          element.appendChild(docLink);\n",
              "        }\n",
              "      </script>\n",
              "    </div>\n",
              "  </div>\n"
            ]
          },
          "metadata": {},
          "execution_count": 78
        }
      ]
    },
    {
      "cell_type": "markdown",
      "source": [
        "# Metadata"
      ],
      "metadata": {
        "id": "0kUrxq4CHlTf"
      }
    },
    {
      "cell_type": "markdown",
      "source": [
        "The delta stores the metadata of the table into the json file. Information like path, count, min and max of the columns, versions, timestamp, operations and more."
      ],
      "metadata": {
        "id": "sdtnPZzoB-EQ"
      }
    },
    {
      "cell_type": "code",
      "source": [
        "print(DeltaTable('/lake/delta_table').metadata())"
      ],
      "metadata": {
        "colab": {
          "base_uri": "https://localhost:8080/"
        },
        "id": "y9x3HXkM8-Gw",
        "outputId": "f3800b2d-cc15-4b80-c34b-c515216f3ab8"
      },
      "execution_count": null,
      "outputs": [
        {
          "output_type": "stream",
          "name": "stdout",
          "text": [
            "Metadata(id: 7607feca-4ee5-4056-bd57-a134b0b9cc63, name: None, description: dataframe created to demonstraction of Delta table with Pandas, partition_columns: ['city_partition'], created_time: 1692066230757, configuration: {})\n"
          ]
        }
      ]
    },
    {
      "cell_type": "code",
      "source": [
        "DeltaTable('/lake/delta_table').schema().to_pyarrow()"
      ],
      "metadata": {
        "colab": {
          "base_uri": "https://localhost:8080/"
        },
        "id": "yByFskv1A2PQ",
        "outputId": "727beff0-33a6-415b-b8fe-b823ef704c3c"
      },
      "execution_count": null,
      "outputs": [
        {
          "output_type": "execute_result",
          "data": {
            "text/plain": [
              "id: int64\n",
              "name: string\n",
              "city: string\n",
              "age: int64\n",
              "salary: int64\n",
              "score: int64\n",
              "city_partition: string"
            ]
          },
          "metadata": {},
          "execution_count": 80
        }
      ]
    },
    {
      "cell_type": "code",
      "source": [
        "DeltaTable('/lake/delta_table').history()"
      ],
      "metadata": {
        "colab": {
          "base_uri": "https://localhost:8080/"
        },
        "id": "i9M3Lm-tBKH8",
        "outputId": "06c4d72e-f7d8-40d0-811f-935060320e3d"
      },
      "execution_count": null,
      "outputs": [
        {
          "output_type": "execute_result",
          "data": {
            "text/plain": [
              "[{'timestamp': 1692066230757,\n",
              "  'operation': 'CREATE TABLE',\n",
              "  'operationParameters': {'metadata': '{\"configuration\":{},\"created_time\":1692066230757,\"description\":\"dataframe created to demonstraction of Delta table with Pandas\",\"format\":{\"options\":{},\"provider\":\"parquet\"},\"id\":\"7607feca-4ee5-4056-bd57-a134b0b9cc63\",\"name\":null,\"partition_columns\":[\"city_partition\"],\"schema\":{\"fields\":[{\"metadata\":{},\"name\":\"id\",\"nullable\":true,\"type\":\"long\"},{\"metadata\":{},\"name\":\"name\",\"nullable\":true,\"type\":\"string\"},{\"metadata\":{},\"name\":\"city\",\"nullable\":true,\"type\":\"string\"},{\"metadata\":{},\"name\":\"age\",\"nullable\":true,\"type\":\"long\"},{\"metadata\":{},\"name\":\"salary\",\"nullable\":true,\"type\":\"long\"},{\"metadata\":{},\"name\":\"score\",\"nullable\":true,\"type\":\"long\"},{\"metadata\":{},\"name\":\"city_partition\",\"nullable\":true,\"type\":\"string\"}],\"type\":\"struct\"}}',\n",
              "   'location': 'file:///lake/delta_table',\n",
              "   'protocol': '{\"minReaderVersion\":1,\"minWriterVersion\":1}',\n",
              "   'mode': 'ErrorIfExists'},\n",
              "  'clientVersion': 'delta-rs.0.13.1'}]"
            ]
          },
          "metadata": {},
          "execution_count": 81
        }
      ]
    },
    {
      "cell_type": "markdown",
      "source": [
        "This function show all metadata of the table with a Pandas DataFrame."
      ],
      "metadata": {
        "id": "BzVK4k34CWc6"
      }
    },
    {
      "cell_type": "code",
      "source": [
        "DeltaTable('/lake/delta_table').get_add_actions(flatten=True).to_pandas()"
      ],
      "metadata": {
        "colab": {
          "base_uri": "https://localhost:8080/",
          "height": 259
        },
        "id": "CoKZ1WUEHVgK",
        "outputId": "5f991646-db34-4028-b530-0b3c3114fa72"
      },
      "execution_count": null,
      "outputs": [
        {
          "output_type": "execute_result",
          "data": {
            "text/plain": [
              "                                                path  size_bytes  \\\n",
              "0  city_partition=new_york/0-d74f8bf0-8f06-46c2-8...        4999   \n",
              "1  city_partition=las_vegas/0-d74f8bf0-8f06-46c2-...        5220   \n",
              "2  city_partition=los_angeles/0-d74f8bf0-8f06-46c...        4955   \n",
              "\n",
              "        modification_time  data_change partition.city_partition  num_records  \\\n",
              "0 2023-08-15 02:23:50.736         True                 new_york            2   \n",
              "1 2023-08-15 02:23:50.747         True                las_vegas            7   \n",
              "2 2023-08-15 02:23:50.756         True              los_angeles            1   \n",
              "\n",
              "   null_count.id  min.id  max.id  null_count.name           min.name  \\\n",
              "0              0       3      10                0          Jim Evans   \n",
              "1              0       1       9                0  Alejandro Barrett   \n",
              "2              0       4       4                0          Tina Kirk   \n",
              "\n",
              "         max.name  null_count.city     min.city     max.city  null_count.age  \\\n",
              "0  Keith Thompson                0     New York     New York               0   \n",
              "1   Morgan Bailey                0    Las Vegas    Las Vegas               0   \n",
              "2       Tina Kirk                0  Los Angeles  Los Angeles               0   \n",
              "\n",
              "   min.age  max.age  null_count.salary  min.salary  max.salary  \\\n",
              "0       32       46                  0        2171        3801   \n",
              "1       21       62                  0        1617        4734   \n",
              "2       26       26                  0        3531        3531   \n",
              "\n",
              "   null_count.score  min.score  max.score  \n",
              "0                 0        188        317  \n",
              "1                 0        202        594  \n",
              "2                 0        900        900  "
            ],
            "text/html": [
              "\n",
              "\n",
              "  <div id=\"df-15d5f68a-564f-41f7-b792-faa9b6a0ed69\">\n",
              "    <div class=\"colab-df-container\">\n",
              "      <div>\n",
              "<style scoped>\n",
              "    .dataframe tbody tr th:only-of-type {\n",
              "        vertical-align: middle;\n",
              "    }\n",
              "\n",
              "    .dataframe tbody tr th {\n",
              "        vertical-align: top;\n",
              "    }\n",
              "\n",
              "    .dataframe thead th {\n",
              "        text-align: right;\n",
              "    }\n",
              "</style>\n",
              "<table border=\"1\" class=\"dataframe\">\n",
              "  <thead>\n",
              "    <tr style=\"text-align: right;\">\n",
              "      <th></th>\n",
              "      <th>path</th>\n",
              "      <th>size_bytes</th>\n",
              "      <th>modification_time</th>\n",
              "      <th>data_change</th>\n",
              "      <th>partition.city_partition</th>\n",
              "      <th>num_records</th>\n",
              "      <th>null_count.id</th>\n",
              "      <th>min.id</th>\n",
              "      <th>max.id</th>\n",
              "      <th>null_count.name</th>\n",
              "      <th>min.name</th>\n",
              "      <th>max.name</th>\n",
              "      <th>null_count.city</th>\n",
              "      <th>min.city</th>\n",
              "      <th>max.city</th>\n",
              "      <th>null_count.age</th>\n",
              "      <th>min.age</th>\n",
              "      <th>max.age</th>\n",
              "      <th>null_count.salary</th>\n",
              "      <th>min.salary</th>\n",
              "      <th>max.salary</th>\n",
              "      <th>null_count.score</th>\n",
              "      <th>min.score</th>\n",
              "      <th>max.score</th>\n",
              "    </tr>\n",
              "  </thead>\n",
              "  <tbody>\n",
              "    <tr>\n",
              "      <th>0</th>\n",
              "      <td>city_partition=new_york/0-d74f8bf0-8f06-46c2-8...</td>\n",
              "      <td>4999</td>\n",
              "      <td>2023-08-15 02:23:50.736</td>\n",
              "      <td>True</td>\n",
              "      <td>new_york</td>\n",
              "      <td>2</td>\n",
              "      <td>0</td>\n",
              "      <td>3</td>\n",
              "      <td>10</td>\n",
              "      <td>0</td>\n",
              "      <td>Jim Evans</td>\n",
              "      <td>Keith Thompson</td>\n",
              "      <td>0</td>\n",
              "      <td>New York</td>\n",
              "      <td>New York</td>\n",
              "      <td>0</td>\n",
              "      <td>32</td>\n",
              "      <td>46</td>\n",
              "      <td>0</td>\n",
              "      <td>2171</td>\n",
              "      <td>3801</td>\n",
              "      <td>0</td>\n",
              "      <td>188</td>\n",
              "      <td>317</td>\n",
              "    </tr>\n",
              "    <tr>\n",
              "      <th>1</th>\n",
              "      <td>city_partition=las_vegas/0-d74f8bf0-8f06-46c2-...</td>\n",
              "      <td>5220</td>\n",
              "      <td>2023-08-15 02:23:50.747</td>\n",
              "      <td>True</td>\n",
              "      <td>las_vegas</td>\n",
              "      <td>7</td>\n",
              "      <td>0</td>\n",
              "      <td>1</td>\n",
              "      <td>9</td>\n",
              "      <td>0</td>\n",
              "      <td>Alejandro Barrett</td>\n",
              "      <td>Morgan Bailey</td>\n",
              "      <td>0</td>\n",
              "      <td>Las Vegas</td>\n",
              "      <td>Las Vegas</td>\n",
              "      <td>0</td>\n",
              "      <td>21</td>\n",
              "      <td>62</td>\n",
              "      <td>0</td>\n",
              "      <td>1617</td>\n",
              "      <td>4734</td>\n",
              "      <td>0</td>\n",
              "      <td>202</td>\n",
              "      <td>594</td>\n",
              "    </tr>\n",
              "    <tr>\n",
              "      <th>2</th>\n",
              "      <td>city_partition=los_angeles/0-d74f8bf0-8f06-46c...</td>\n",
              "      <td>4955</td>\n",
              "      <td>2023-08-15 02:23:50.756</td>\n",
              "      <td>True</td>\n",
              "      <td>los_angeles</td>\n",
              "      <td>1</td>\n",
              "      <td>0</td>\n",
              "      <td>4</td>\n",
              "      <td>4</td>\n",
              "      <td>0</td>\n",
              "      <td>Tina Kirk</td>\n",
              "      <td>Tina Kirk</td>\n",
              "      <td>0</td>\n",
              "      <td>Los Angeles</td>\n",
              "      <td>Los Angeles</td>\n",
              "      <td>0</td>\n",
              "      <td>26</td>\n",
              "      <td>26</td>\n",
              "      <td>0</td>\n",
              "      <td>3531</td>\n",
              "      <td>3531</td>\n",
              "      <td>0</td>\n",
              "      <td>900</td>\n",
              "      <td>900</td>\n",
              "    </tr>\n",
              "  </tbody>\n",
              "</table>\n",
              "</div>\n",
              "      <button class=\"colab-df-convert\" onclick=\"convertToInteractive('df-15d5f68a-564f-41f7-b792-faa9b6a0ed69')\"\n",
              "              title=\"Convert this dataframe to an interactive table.\"\n",
              "              style=\"display:none;\">\n",
              "\n",
              "  <svg xmlns=\"http://www.w3.org/2000/svg\" height=\"24px\"viewBox=\"0 0 24 24\"\n",
              "       width=\"24px\">\n",
              "    <path d=\"M0 0h24v24H0V0z\" fill=\"none\"/>\n",
              "    <path d=\"M18.56 5.44l.94 2.06.94-2.06 2.06-.94-2.06-.94-.94-2.06-.94 2.06-2.06.94zm-11 1L8.5 8.5l.94-2.06 2.06-.94-2.06-.94L8.5 2.5l-.94 2.06-2.06.94zm10 10l.94 2.06.94-2.06 2.06-.94-2.06-.94-.94-2.06-.94 2.06-2.06.94z\"/><path d=\"M17.41 7.96l-1.37-1.37c-.4-.4-.92-.59-1.43-.59-.52 0-1.04.2-1.43.59L10.3 9.45l-7.72 7.72c-.78.78-.78 2.05 0 2.83L4 21.41c.39.39.9.59 1.41.59.51 0 1.02-.2 1.41-.59l7.78-7.78 2.81-2.81c.8-.78.8-2.07 0-2.86zM5.41 20L4 18.59l7.72-7.72 1.47 1.35L5.41 20z\"/>\n",
              "  </svg>\n",
              "      </button>\n",
              "\n",
              "\n",
              "\n",
              "    <div id=\"df-07aa2680-0340-49f9-8494-5b29682b948e\">\n",
              "      <button class=\"colab-df-quickchart\" onclick=\"quickchart('df-07aa2680-0340-49f9-8494-5b29682b948e')\"\n",
              "              title=\"Suggest charts.\"\n",
              "              style=\"display:none;\">\n",
              "\n",
              "<svg xmlns=\"http://www.w3.org/2000/svg\" height=\"24px\"viewBox=\"0 0 24 24\"\n",
              "     width=\"24px\">\n",
              "    <g>\n",
              "        <path d=\"M19 3H5c-1.1 0-2 .9-2 2v14c0 1.1.9 2 2 2h14c1.1 0 2-.9 2-2V5c0-1.1-.9-2-2-2zM9 17H7v-7h2v7zm4 0h-2V7h2v10zm4 0h-2v-4h2v4z\"/>\n",
              "    </g>\n",
              "</svg>\n",
              "      </button>\n",
              "    </div>\n",
              "\n",
              "<style>\n",
              "  .colab-df-quickchart {\n",
              "    background-color: #E8F0FE;\n",
              "    border: none;\n",
              "    border-radius: 50%;\n",
              "    cursor: pointer;\n",
              "    display: none;\n",
              "    fill: #1967D2;\n",
              "    height: 32px;\n",
              "    padding: 0 0 0 0;\n",
              "    width: 32px;\n",
              "  }\n",
              "\n",
              "  .colab-df-quickchart:hover {\n",
              "    background-color: #E2EBFA;\n",
              "    box-shadow: 0px 1px 2px rgba(60, 64, 67, 0.3), 0px 1px 3px 1px rgba(60, 64, 67, 0.15);\n",
              "    fill: #174EA6;\n",
              "  }\n",
              "\n",
              "  [theme=dark] .colab-df-quickchart {\n",
              "    background-color: #3B4455;\n",
              "    fill: #D2E3FC;\n",
              "  }\n",
              "\n",
              "  [theme=dark] .colab-df-quickchart:hover {\n",
              "    background-color: #434B5C;\n",
              "    box-shadow: 0px 1px 3px 1px rgba(0, 0, 0, 0.15);\n",
              "    filter: drop-shadow(0px 1px 2px rgba(0, 0, 0, 0.3));\n",
              "    fill: #FFFFFF;\n",
              "  }\n",
              "</style>\n",
              "\n",
              "    <script>\n",
              "      async function quickchart(key) {\n",
              "        const containerElement = document.querySelector('#' + key);\n",
              "        const charts = await google.colab.kernel.invokeFunction(\n",
              "            'suggestCharts', [key], {});\n",
              "      }\n",
              "    </script>\n",
              "\n",
              "      <script>\n",
              "\n",
              "function displayQuickchartButton(domScope) {\n",
              "  let quickchartButtonEl =\n",
              "    domScope.querySelector('#df-07aa2680-0340-49f9-8494-5b29682b948e button.colab-df-quickchart');\n",
              "  quickchartButtonEl.style.display =\n",
              "    google.colab.kernel.accessAllowed ? 'block' : 'none';\n",
              "}\n",
              "\n",
              "        displayQuickchartButton(document);\n",
              "      </script>\n",
              "      <style>\n",
              "    .colab-df-container {\n",
              "      display:flex;\n",
              "      flex-wrap:wrap;\n",
              "      gap: 12px;\n",
              "    }\n",
              "\n",
              "    .colab-df-convert {\n",
              "      background-color: #E8F0FE;\n",
              "      border: none;\n",
              "      border-radius: 50%;\n",
              "      cursor: pointer;\n",
              "      display: none;\n",
              "      fill: #1967D2;\n",
              "      height: 32px;\n",
              "      padding: 0 0 0 0;\n",
              "      width: 32px;\n",
              "    }\n",
              "\n",
              "    .colab-df-convert:hover {\n",
              "      background-color: #E2EBFA;\n",
              "      box-shadow: 0px 1px 2px rgba(60, 64, 67, 0.3), 0px 1px 3px 1px rgba(60, 64, 67, 0.15);\n",
              "      fill: #174EA6;\n",
              "    }\n",
              "\n",
              "    [theme=dark] .colab-df-convert {\n",
              "      background-color: #3B4455;\n",
              "      fill: #D2E3FC;\n",
              "    }\n",
              "\n",
              "    [theme=dark] .colab-df-convert:hover {\n",
              "      background-color: #434B5C;\n",
              "      box-shadow: 0px 1px 3px 1px rgba(0, 0, 0, 0.15);\n",
              "      filter: drop-shadow(0px 1px 2px rgba(0, 0, 0, 0.3));\n",
              "      fill: #FFFFFF;\n",
              "    }\n",
              "  </style>\n",
              "\n",
              "      <script>\n",
              "        const buttonEl =\n",
              "          document.querySelector('#df-15d5f68a-564f-41f7-b792-faa9b6a0ed69 button.colab-df-convert');\n",
              "        buttonEl.style.display =\n",
              "          google.colab.kernel.accessAllowed ? 'block' : 'none';\n",
              "\n",
              "        async function convertToInteractive(key) {\n",
              "          const element = document.querySelector('#df-15d5f68a-564f-41f7-b792-faa9b6a0ed69');\n",
              "          const dataTable =\n",
              "            await google.colab.kernel.invokeFunction('convertToInteractive',\n",
              "                                                     [key], {});\n",
              "          if (!dataTable) return;\n",
              "\n",
              "          const docLinkHtml = 'Like what you see? Visit the ' +\n",
              "            '<a target=\"_blank\" href=https://colab.research.google.com/notebooks/data_table.ipynb>data table notebook</a>'\n",
              "            + ' to learn more about interactive tables.';\n",
              "          element.innerHTML = '';\n",
              "          dataTable['output_type'] = 'display_data';\n",
              "          await google.colab.output.renderOutput(dataTable, element);\n",
              "          const docLink = document.createElement('div');\n",
              "          docLink.innerHTML = docLinkHtml;\n",
              "          element.appendChild(docLink);\n",
              "        }\n",
              "      </script>\n",
              "    </div>\n",
              "  </div>\n"
            ]
          },
          "metadata": {},
          "execution_count": 84
        }
      ]
    },
    {
      "cell_type": "markdown",
      "source": [
        "# Time Travel"
      ],
      "metadata": {
        "id": "w5w6202RUla1"
      }
    },
    {
      "cell_type": "markdown",
      "source": [
        "The Time Travel feature of Delta tables is incredible and we can use it in the Pandas. Always when the Delta table is changed, is created a new version of this table and we can travel through of the versions setting the version we want to access or state the table in a date specific, let's check out:"
      ],
      "metadata": {
        "id": "548N_N7mDDsM"
      }
    },
    {
      "cell_type": "markdown",
      "source": [
        "![image.png](data:image/png;base64,iVBORw0KGgoAAAANSUhEUgAABqgAAASeCAIAAAA18DgDAAAgAElEQVR4Aeydh1sT2Rvv739175Io6qq7q+5afqvbSKgKIggq9t479q7Ye1u7rt2ZVEIntARCJxASEkJ6ZnKfkxMnk0kISejw7uOzz2SYnPI5Z07mfOct/8cD/wEBIAAEgAAQAAJAAAgAASAABIAAEAACQAAIAAEgMOEI/J8J1yPoEBAAAkAACAABIAAEgAAQAAJAAAgAASAABIAAEAACHhD+YBIAASAABIAAEAACQAAIAAEgAASAABAAAkAACACBCUgAhL8JOKjQJSAABIAAEAACQAAIAAEgAASAABAAAkAACAABIADCH8wBIAAEgAAQAAJAAAgAASAABIAAEAACQAAIAAEgMAEJgPA3AQcVugQEgAAQAAJAAAgAASAABIAAEAACQAAIAAEgAARA+IM5AASAABAAAkAACAABIAAEgAAQAAJAAAgAASAABCYgARD+JuCgQpeAABAAAkAACAABIAAEgAAQAAJAAAgAASAABIAACH8wB4AAEAACQAAIAAEgAASAABAAAkAACAABIAAEgMAEJADC3wQcVOgSEAACQAAIAAEgAASAABAAAkAACAABIAAEgAAQAOEP5gAQAAJAAAgAASAABIAAEAACQAAIAAEgAASAABCYgARA+JuAgwpdAgJAAAgAASAABIAAEAACQAAIAAEgAASAABAAAiD8wRwAAkAACAABIAAEgAAQAAJAAAgAASAABIAAEAACE5AACH8TcFChS0AACAABIAAEgAAQAAJAAAgAASAABIAAEAACQACEP5gDQAAIAAEgAASAABAAAkAACAABIAAEgAAQAAJAYAISAOFvAg4qdAkIAAEgAASAABCYkAQoN202uRx2akL2Djo1Rgg4HZTZ5HK76DHSHmgGEAACQAAIAAEgMBgCIPwNhh58FwgAASAABIAAEAACI0TAZnE/v9Gyc1np2R01VUVGGmSZEQI/uarp1tqvHlbvXFZ683h9W6N1cnUeegsEgAAQAAJAYCISAOFvIo4q9AkIAAEgAASAABCYcATKJIblv0gS4ghBHJG3RFEi0k+4LkKHRp/A8+vNiVNIQRwh5BF7VpS3aiyj3yZoARAAAkAACAABIDAIAiD8DQIefBUIAAEgAASAABAAAiNF4NurztQZosQpZOIUMiGOOLWl2mEDn9+Roj856qEo+uphVUIcgadZ4hTyxc2WydF16CUQAAJAAAgAgQlLAIS/CTu00DEgAASAABAAAkBgIhEgkPAnTuQj4U8QRxzNU9os7onUQejLqBPwCn9qRvgT8smHFxrBqXzUxwUaAASAABAAAkBgMARA+BsMPfguEAACQAAIAAEgAARGiECA8Mcj9q+sMJtcI1Q3VDM5CHCEP0EccSO/nqIgnOTkGH7oJRAAAkAACExQAiD8TdCBhW4BASAABIAAEAACE4sAR/jbmV5m1DsnVhehN6NMgCP8JcQRl/fVQXrfUR4VqB4IAAEgAASAwOAIgPA3OH7wbSAABIAAEAACQAAIjAgBtvAn5BFbkkq6O+0jUjNUMlkIcIQ/QRxxdkeN0wGhJCfLBIB+AgEgAASAwIQkAMLfhBxW6BQQAAJAAAgAASAw0QgECn/kur+KOpqtE62T0J9RJRAs/B3bUGW3QijJUR0VqBwIAAEgAASAwOAIgPA3OH7wbSAABIAAEAACQAAIjAiBAOGPT+YukjerLSNSM1QyWQhwhT8ecWhVpcUMoSQnywSAfgIBIAAEgMCEJADC34QcVugUEAACQAAIAAEgMNEIEK/9WX2FfHLFPFlDtXmidRL6M6oEgoW/fVnlvT0QSnJURwUqBwJAAAgAASAwOAIg/A2OH3wbCAABIAAEgAAQAAIjQuDrS23qDFHiFDJxCgnC34ggn3SVUG664JAqIY7A00zAI0D4m3STADoMBIAAEAACE44ACH8TbkihQ0AACAABIAAEgMBEJPDuQVtyPFv4k4LFX2zj3Gt0Sj50vbrdWio2gB8rm6HLQZ3fVSsA4Y8NBY6BABAAAkAACIxzAiD8jfMBhOYDASAABIAAEAACk4PA2/sBwl/WrzJNDbj6Rj32Rr3j3M7a1BliIZ9M/0lyZE3li5stFfIeg85Buemoi5tYX3A6qHM7A4W/7AqzEWL8Taxhht4AASAABIDAJCMAwt8kG3DoLhAAAkAACAABIDA+Cby42ZI0Ffn5YlffNUsUbRpI7hH1WJJvUahEId+HURBHYAVwk7D46mG19INO12F3T1YF0GGjTm2pZlv8Hc1TWi0xZfWlPSCkRj074QtAAAgAASAABIaBAAh/wwAVigQCQAAIAAEgAASAwNASoD2PLjVh1Q8Lf3l/KNqbrENbyWQoTfpRlzbTJ/yxeQp5hCCOSPtRvO6vooKDKvnnboPO4ZlkJoA2qzt/nVLA88f4y1+ntFmjE/7cbrqysOfOqYaCg6pP/3Y4bNRkmFej2MdJq1OPInOoGggAASAwvgiA8De+xgtaCwSAABAAAkAACExGAjTteXixEdupIeGPR25IKOpss01GFoPrc1e7bVtqCaNtMdqf74CP2AriiKUzxVuSSu6d1dSUmGyxmbwNrp2j8m2bxX10LUv4iyNObq6OVrkrEelzF8oT4oiEH4hls8Sf/u2gJ5l+OjJj12t0Kr513z2jubxf9flZhz1KfXZkGjnIWig3bTa6zEYXWI8OkiR8HQgAgUlOAIS/ST4BoPtAAAgAASAABIDAOCBAUfT1o2rGB1PII7Ykleg77eOg6WOvieL/ulbMlfar/X13phbwCCGPyJwjPbpW+fm5trtj4tM2G137sisYMoI44tzOWqcjOpO9N/daGZ90AY/YnFisbQGFeohvg1aN5dCqyqUzxQKvwJrxs0TxtXuI6xjt4pwO6s29th1LS3csLX11uzVaAXq0mw/1AwEgAATGEAEQ/sbQYEBTgAAQAAJAAAgAASAQkgDlpq8eView0q3uXFba0+0IeTGcDE/A7aK/vtDmLVEgac8b7I9r9+fV/vBJIR8ZAKZME21OLH50qbGprm8Ce1b29jj3rihnC3+X9ta5XNEZ7LGDUSbyybQfxeL/usKPCPw1KgIuJ33jWL2QTzKhKtNmimUfdVEVMvYvNnQ5tiaXJPyAfPCXzZJ8fakd+22GFgIBIAAExiYBEP7G5rhAq4AAEJi8BDj+LJSbdrtpiopu3zV58U2anlMUzfaeoyiacqN/kwbApOuoy0lf3FvHWPwJeMS+rPLeHuekAzFEHaZpT0OV+fyu2uW/INO/AeW/xCkklsNW/a/w2hF1bZkpWju4IWr48BbT0+3YsbSUEf4S4oirh9XR/QAFBqPE8SjvndWw16vh7cMkKL21wbL2D4WQ50/1s3K+vKF6ouX41nfatySVCL0RJwU8YndGGQq7Cf8BASAABIBA9ARA+IueGXwDCAABIBAZAbvV3dVm03XYDV0OQ5dD32nvarO11FtqSoyyT7oPj9ufXWt+fLnpwflG5t/tkw1XD6vvntHgMyg4+iFVwUHV9aPqJ5ebSsUGax83yDpF0dGaY0TWfLhqhAhQblrfae9ss+k7fVNF12Fvb7KqK3uLSf2X59qXt1qeXGl6eME/T+6d0Vw9rL51oh7Pk3tnNdeOqAsOqq4eVt87q/n6Ututnfg+iSM0PGOmGqeDOrezhi38HcyttPS6xkwDx2VDHDaqXNZzaW9d7kI5lvYGVACRASCPyPpVdnFvXXWx0eWMzg12jGNCUkuyT2rBQG6faqCjevMUJPwlxBGX96vcUZoNjnFQo9s8yfuutB/Fid+NVQU8Ykda6cQTxdizUcgnM36WVMh7Rpc81A4EgAAQGKcEQPgbpwMHzQYCQGAsEnA5KUuvq7vDXlfR+/5x+/GNVbmL5DkL5bmLfP9yFsqzf5Mt/0W6dKY4aSpyH0v4IfBfHIECojPnmY9xyNUl/SfJme01bY2+PJ69Pc5P/3ZcO6K+uLfu36vNXRDmfyxOihBtcrtpm8Xd0+1oVvdJ3nddO6Je/3dRzgL/PMldKF85X75irnTZbEnyNJGQFzhJfvg+SULNk4Q4InmaaHtaaRGhj85OJ0RL4dQYIuB0UGe3s4S/OCJ/XVW06VbHUH/GUlNcTqqxru/5jZY9meUZP0tRet+BbAAZ+e/KAZVa2Tth7rVurd/GCns6P77cFN1YBQl/sQUKjK7SSXZ1Xblp5XwZI1IL4ogz22oc9gmlQXs8HrbwlziFTJ0hAm/fSTbTobtAAAgMGQEQ/oYMJRQEBIDApCJAUXSfydXVZqspMX19oX1a0HznVMOFPbX7sspX/16YOUeaFC8SxCH3sZD/mBf1YQJLBf8JbzXz1ylNBqfJ4Dy3szZlmggLhUI+eWRNZWcrBFAfc9PQZnHrOx2aGrP0g+7lrZb75zQFB1VH1yrX/12U9ass7UcxTiAQcp4w+7rgyRD+jCCOWLO4sLrEOOZwQINiJWC3uo+tr/Jb/E3QrX6seIbme2aTS6kwPjjfuCujLONnie8u+x5JLfimw2ty7kL5vTOa9u+vZIamKaNUSkezde1ffh/SpKnkq9ut0bUFhL/oeMVyNdsHFk3LqeSza82xFDS2v8MR/hKnkE+uRClDj+0OQuuAABAAAiNGAIS/EUMNFQEBIDDuCbhddI/OUV1ifHOv9eph9e6MstyF8uW/SFOmIY0vwWuUh+1EYtZrgjeWnDNCPpn+k6RMYvj8rCNluohT0fndtX0mcP0b/ZnW1+tqUvV9fam9e1pzJE+Zt0SxYh7S+IQ8Etl4xnntiXjeuOzffbU4Az34jwIecedUw4QxRBr9QR3tFtgs7vx1Sib4miCOuLCn1uWEqI7DMjA93Y6rh1Q4NW36bMnyX6RY4+Msufg+xSc3Coo/PG43j/MVuL3JmveHgulm8jTR+0ft0SEOJfyd2lI98ezRosMypFe31FtW/16Ihwk9FcyWFJP6Ia1hTBRm1Dt3ppexFz2UagYWvTExONAIIAAExhkBEP7G2YBBc4EAEBhhAnaru7PVpvjW/fx6y+X9dZuExct/kSZOIX3aTf+WIIMXbkKX4M2Q+PFpx7kdtYztD7P5TJ0hfnO3Nbp4TCMMdIJWx4jC7x603T7RsDezPPs3GbbH9Br0Da/GF3KqgHvdBJtrNmuA8OfNuqCCdC7DMco2i/vfq81Zv8pwYor92RVF3/TPrjcfyKnInIMUQJxtgHPfCXhE6nTR0TxldYmRHrc+l+1N1rV/+oW/1Bnib686o4JM055HFxvZcAQ8AsWjNId+KeVy0nab2+WkIPtH5Jzln7uXzhL7hD8eueGfIm2LLwZI5IWM/SstZtfh1ZV+4Y9HHFoFgU3H/rhBC4EAEBiLBED4G4ujAm0CAkBg1AnYrW5Njfn13dZjG6pW/164dBbyx0yII4QDBX5i73ZCHnM8OgU8FLzPH9SPE/Iv1MeUaaLPz7TndnKFP7xHXblALv2g84AZ0IjMIbeb7mqzkW86L+9XbRRwReGQEyDCk5x5goOOBcR/DDU32CEj//6/387vqp1gmQdGZFTHaCXI4m+t3+JPyCPvnm4ArWQ4Rquu3LRiLkr1ixfVzDlSpQKlFLCYXTUlpntnNBsSipLjRegCjsWuN+9HzkL5s+vNJsO4TLgcYPHHJ9NmitEPSjT/URR981g9I9Zghqv+V1gp77H2uft6XYYuR1Ndn/Sj7vn1ltsnGy7uqTu+serC7tpbx+sfnNc8vND479XmYkJvt3IzWUXTiol8LeWmb51oYKwyBTzi1JZqu20C4nK76CsHVMxcEvKIjYJiCGc8kSc39A0IAIFhIwDC37ChhYKBABAYhwRo2qNrt39+rj22oSr7N2TuwcTpi1CvCXOZkE8mx4syfpJk/ybD6T5W/164Pa301NbqG/n198/7MvkyGX5DHtw/r3lyuUnbYvv6Ups2E7mOcmoU8oi8JQrIfDfcs89scpWKDVcPqdf9pUid7o3nOGhRGA8l3s4tnSXOmifL9WaGWbWocKOg+EiesuCg6t7ZiObJg/ON985qyiQGEIaGeyaMWPl9va4DORXMHhiFuyqAcFfDgr+m1IR9e5nVlR1ZjKY9Xe2294/bdy8vS52B3gkxl/luYR6ZPE10dK1SrewdlvYNZ6FNqr6cBXLGh3TZbEkxEZ0PKU17rh1RJ8RxsaycLzuwsmLvivK8JQomvKkvRIY3UIb/BVgckT5b8uRKEzh1hhxqbYttk7CYMTtNmkq+vNUS8soJcPLFzRbscY8V5Kx5MlXl+LutJsBAQBeAABAY7wRA+BvvIwjtBwJAYMgINKv77pxq2JBQhGP2Ma/TOZs6zkdsmYUN95hIf8HfFfLJ7WmlH5+0V8h7Whss+k67octh6HL0Gp0OOxWDX5i1z33/XGPmHGSWwqlOyCO2ppS0aSxDhgYKYhEwG53vHrTtyypPny3BbrycKRHyo3+eeG08fVMlWDLgk1m/yh5fbir61q2pMevaffPEpHfaLG63Gyw5WSMxyQ4tva5Dq/xeb0nxojd3o8y6MMmIxdxdTY0569fAlKnba5xBKVNNBueXF9qd6WXJ8Sj1NufGF/CIdX8qiNedTsd48vttVvflLvILfxk/S5SFyNoxkv8oirb0ulo1FrZ7JoMFB0mMMPSBII7YJCzWddgjqXeyXfPfw7aU6SIMVsgnl/8irZRHOkbjjtXb+23J8f7OLpstKRFFp0SPuy5Dg4EAEAACw0EAhL/hoAplAgEgMP4I9PW6Tmyqws68zEalvwOfiBNHJE0lM+dK1ywu3Jlelr9OeWZ7TcEh1eX9qg3/FLG/K+STS2eJRe+6hpaL00EpFT1nd9Qs/4Ur/3ndgTuGtjoozePx0LTn7X206cKmoOxRDnnsSwjAI9J/kuQslG9JKj68pvLkpurL+1VXD6kO5FSkTPNtafDXhXzyygEV2LnAZAsmYLO4j7JcfVOmiz79C/d4MKchONOmsaxZ4o9zJ+ARh1dXWsyhXSkNXY5Xd1rX/12UGBTyVcgjMn6SPL7cZOkNHd5uCNo61EW0NfqTewj5ZOYcaV25iVOJ00HZrMhp16h36trtDdVm8X9dz641Xz2s3rOiPGehnLOshVwbw58UxBGbE0H444BHH416x76scsbOVMAjdiwtNXQ5Qlw6IU6xhb9EPpk6Q0y8ji7o5ITAAJ0AAkAACAyWAAh/gyUI3wcCQGBiEKgs7OH4dgVvSxiDhaWzxHlLFKe3Vr+936aq7NV32s0ml83qdtopyk1TFC1617l0pi/wNvJPGc7ANA4bVS7rOb+rNmeBPDlehKO8JU4lPz4FUWDo56bJ4NyT6d90BU8S7I6EI0KmTBOtnC/bv7Li0cXGMomhs9VmMjitFrfdRrldNE3R7Y3WzSyPrUQ+uTT6iFpD38nxWaLLSXdr7c3qvnEaW21A6maja3/2d1dfb5If8u0Qv0sYsA2T5AJOggsBj9iXVW42hhPv2jSWm8frsQk2e1kQ8snU6aIrB1Q9uvEhzbCtHYV8Mvs3mabWzB73xrq+y/vr8tcp964o35BQlLtQjlKWe12emZxXbAKRHKN3aTwUWAOXkDJdtPr3ws/POsDGmU0eH8s+6ZbNkjBm/kI+eeNY/QQGFSD8TUHxUt49aAvGAmeAABAAAkAgPAEQ/sLzgb8CASAwWQgQrztTZ4hDblGQ3hdHMCLOg/ONim/duna7I8jzi4HVWOcPk4QCBfKIgzkVfcNp9OF0UM3qvs/POh5fanpyuenlrZbONhvTHjgYKgIcRYAzYXCe5cw50i3JJVcPq7+80LbU9/WXy9Lj8dht7uMbqpjszNi+praMa18zVI2fwOXo2u038uvXLFFkzZPtz65oqA6QKmLuOE2jfA7YHz/mQobqiya9c1dGGbb0wUbEiq/dQ1U4lMMmwLnNw1v8MV90OeliUr8/uwJ5/rKSfgj5ZNJU8vTWal37OFiTVRW9mXNR5mL8DiPvD0Vb4/d0sbSnuti4Pa3UF9qC58t2hS5m9ZezKob8yIQ+SIgjkuKRXeHaPxX565R3Tja8uNlCvO5srOuDjNXM1GIOnA7q4p46xq8crwOyT9FlX2FKGxcHHOEvcSr577XmcdFyaCQQAAJAYEwRAOFvTA0HNAYIAIFRI1D0rZv9Fp3Zqwh4RNY82ZUDqq8vtS0NljAiDrvpAYkRvRlCTm2pdtjGU6QndnfgmCGg77RvTSlh3KyYeSLkkynTRUfylK/utNaWmUwGZyS7VqeDOrezhi385S6SN6tHOjijzeI26lHESfzP2O2w9rkpatzEE+zW2o9vqPIaDaF4lwIesX9lRbd2sNHBvKa7Xfuzy7enlp7aUl0i0scQi5OZOYM/0HfatySV4D2/kE+m/yQplxkGXyyUEEygtcGyZnEhI94J4ogTm6rtkS3gBp3j8aWm7N/8IQKZVeLklmrDmLf7UyqMGT/7DMqEPGKToLjru17ZprFsTgyx+jEdDH+A700UT8Nr2pyzQL43s/xGfv2Hx+2qil5Dl8MGaXyD52LgmY5m6/q/i5ikXkIecoie2FluucLfFPLRpSZIWhU4L+ATEAACQGBgAiD8DcwIrgACQGAyEOjpdrAD52MzvcQp5JakEtknndsVnQjCNRiJIy7tq4u2kMmAfdz10e2mnxY0p0zzW/Tg3SzOyNFrdEbVI6/wV+sX/njkhoSiETPV1HfaRe+6bp9sOJKn3PBPEc40nbtIvv7vooO5ldeOqN/eb6uvMtssoUObRdXT4buYpj3/XmtGaR9ZNkfJ00T/PRysO5iqonfN4kLse5jwA7H2T8XoJmnVtvj3/GAcOnwzyuPxNAQl9zi/q9bljPTNDeWmS0T6jQlFjGUWUsT4ZFI88vk1R7lKDGtPgwsvIfXLZvuEPxw/rqfb56Qsea9L+9EfwiK8zBf81/SfJDuWlt7Ir391u1X+SdfeZO3rdYGCEzwEYc6Uig3pPwX4+V47op7YjxYhhT9PNE9kvT3OCnnPi5stD843PrncVPil2w4Sc5hJBn8CAkBgghIA4W+CDix0CwgAgegJaGrMe1eUC/lkQhyRMl20SVj8tKBZ2/LdyymaAls1XIORa0fU48iEKpq+Dsu1LifV0WwtlRhe3219eKHxwfnGhxcaX91uLZcZDF2O0TW8MhtdN4/Vp/0oTvgB5fHMWSC/tK+uutgYw+7LaafObPNb/Al4xNbkEn3XYE3VBhwSmvYUE/ptqSWp00W+sFze3NDY/07II3CMwsQpKMVw/vqqwi/dYRzbB6xuWC9w2KmTm6sZ8RTLDYI44soB1WDiXtmtbuRSxxIThXzy0aXGqHQKm8XdrO6Tf9Y9v4H2nA/Oax5dbHz/qL2u3BSD+tNSb1n1u88MTejN/jxUHs3DOkDjsfD6KvOKeT5318Qp6Bfh6iFVJDa87M5WFRk3JxaztT9kFzxNdP+cZmjvpt4ep1rZS7zufHKlyTvNGh9fbvr2Stuk6otBtZd91DEBajnBDT8/62CSyQbreswZ9l2DTwr55LJZ4o9PO8xGUPrYcyTq4/8etiV/zweFqU5sP1+PB2XTYrL64un06FJThMKfrsP+7kHb7oyyDK9aiiIgx6FEW+8ftUe1krPHqc/k0tSYRe+6nhY0+263S02fn2s1NWZr35h+ScbuBRwDASAwCQmA8DcJBx26DASAQL8EtK22e2c014+qyTeduo7Y9Zd6Ze+KeX5XLyGfvH8+Osmg3yZO9D/YLO5iUn9xT93q3wvTZ0vQrvsHAv/D7o0bBcV3T2saqs2jKP/ZLO4PT9ov7a17c7e1sdYcuSkQZ/Ssfe4jeUrGcVjAI/YsLxvu3BQ07ZF+0K36XyGqlyVsMft29gEOcJnxs+TqYXV7UywiOKfLQ/7RZnHns3Ld4sYL4ojTW2sGI69UFvZksW5hbAJ8+2RDhLPOqHd8fak9ula5cr5s6UwxElK/T2OUCnyOdFdG2avbrYwTZSRY6qv8q4qQT65eXNjaMNJe4ZG0cwJcU1NiYud6ik3483g8tWWmrSk+72w8M9EiNlvy/nH7kLwH6miyvrjZsiujbMVcaYpXxPdNM++7q+zfZEfXKonXnWZTuLQknPH69rIzdYYv1TgKbrimkpEzCj93L50VwuKP8eEV8NA7s/SfJKnTucnKV8yTamqGJvImp8GT56PDRp3ZXsP+vdiaUjKYB5VxgS4G4c9mdTfW9v17rXlzYnFyvEjgfa3F/K4JvP7RHc1R/5x1tdve3m/bl1WeNU+WOkOMctHgVT2OSJ4myvpVdmhV5ad/O4z66Az/x8UoQCOBABCYAARA+JsAgwhdAAJAYCgJ4LS8gyxRqehhwiThx83I31EPsurx+3Wa8tSUmk5tqU7/SSLwxoEKaTmCHuJ55OrfC1/eaokw5OIwMYnBxI/Tkt4e594V/hzB2L6mN2zyUE4JUX+kPfJPutxFcrYhErMj6u8AWwJuSSoR/9fldETq8Mi0ze2iLb0uJoygyeC09LqcDipmmwumZI/HY7O4j65Vci3+eMTB3EpLrOl0XE6q4JCKPf1wEH3ph4GD6DvslPSDbk9mecp0UfhpnDSV3JZaKv0QaSSB6mIjo0YJR9YrnA18MhwrCwMWcEEcgVx9o5/5WPvj2v3xkJlwiUg/GJImg/P13dYN/xRhSZo9V5m7GKv2qTPE+WuVqoreCKt798BvYCWII05u9kenNRmcF/fUJk0lcXVY7xPwiOW/SHeml93Ir39xA+XlKJMabp9sYAzTcJIQb/TSvgjbMPjLnA7KbHL1dDv0XY4enaO3x2ntc7uc0TiIDr4RQ11CW6Nl7Z8Kf4A/Pnn7ZEO0hqhD2yia9lj73CaD0xcfVu80m1wOGzUkujZuauTCH017dO32z8+1+euU2b/JmIAtzB3BHCRPE3140h45ir5e14cn7ZsTi5OmohiyaP4HvTPDt1vKNNGBnAqlomdIft0ibyFcCQSAABAYkAAIfwMiguYMOCkAACAASURBVAuAABAAAlETUHztXhZoGTGBhT+7jTLqnTHoQWysFrP71Z3W3IVyzst55kmdcyDkEakzRNeOqGNwmWTXO7rHKF1Dst8gyCf89QyjvYBS0bP2D0VUqh9DXsAjMn6S3DxW3x2ZMazbRbfUW949aLu8X7Uvq3z93yiM4Kr/FW5OLN6XVX52e82tE/WPLzfJP+tiVug8Ho/LSV89rOYIHz6n6c4YjXYba83s3A54A7l7edmAmRl07fZrR9TpsyWMVQ5DL+SBgEdkzpW+vd/miiCKaJnEH94LdTClxDD8XuGje4OMVu1FhJ6d60kQR5zbWRvzEqcsMm74x5+QAU+n7WmlrZoYDTbVyt6ja5XJ05ApU8h5FXDSm+5mwz9FpeKIUsE8v96CImZOQf+CFU9Dl+PczlpsRbX8F+nu5WV3T2uqioxmo5OtdDRUm1fOlzN3pZBPrv1TMQImw3aru7bU9Oxa89kdNbvSy9b+ochdJF+zRLE1peTQqsqLe+runm54dq25qtgY82iO1pz0eDzfXmoZY0whn1z+i6RMEtGYDkebdR124nXnzWP1h1dXbhYWr/pf4apFhRsSinZllJ3cXH39qPrhhcbPzzq6Y12EmTZHIvzZLO6aEtOdUw0bEopSpvneuATcBd75zJimps+WfHmuZaoIf9Ck6ju1pTp1RmS32xSkDK5ZXCj7qGPfEeGrgL8CASAABEaAAAh/IwAZqgACQGDSESDfdKbOELPfCY874c9hpyLJYtnZaruwu3bDP0XndtZKP+pii5mt77Rf3l+XOkPE2DIEP7IHn8EBsx6cbxyPWzh8S3Q0W9f+5bfgGG7hT9ti25VeFlIswClxBTxCEOf95w3zhw392OTRTn4quT+7orbUFP6ubtNYbuTXr1pUmDQVhUjz2mkiQwl2RQleV6mlM8X565TN6titgVQVvau/B7/DrRXyydxF8iZVLGXStOfx5SZ2rxOnoJTN/z0cwEKkvsq8P7sC2zdxvh7mo5BHZM6Rit51hefp8Xg4wdf2ZJb3DqdGPGB7JvAF8s/+OHdY/2IbvsXQ8aJv3TkL/EIYmg988uLeOsaLNsIyKYqWfdKt/7so5F0cZpoJvPl566sGcLalac+9sxpGsEuIIwoOcoMbmgzOj0/an19v8ep9oWP2sTNQozti+A1UaYquKjKe3FydORcFZ0TrmNc23LvgIC0GL25oLYojVsyV3sivN40rl0y7jTob6Oe7d0X5cMeFCDktjXrni5stGwXF2Ls8zNqeHC/anlZaTOgjDMkXsrpg4e/x5SZ8JWPid3StMnOOVMgjQ77TYmzxVs6X71xWWnBQJfsU0bMKTXtKJYYtSd5InUEmfuFvt7wliqoiY8gewUkgAASAwKgQAOFvVLBDpUAACExwAl+eazlBjsaL8NfX6yoVG+6f05zeWnNiU9Wbe21h3GnbNJaDuZX4Lbogjlg2S3zndIPFHF18a22LLX+dMqRcwryfT4gjhIFhevAzt5BPrpgrHaTT3CjOxdYGy+rFvnQN2A5oX9ZwqTlOB3XrREPwXgVv8jPnStf/XbQ/u+LYhqpjG6oOrarclVG2ZnHh0lkoPh0jBOCvC3hE3hIF+aYzpOsc2iyJDVuRJaPPJTC4UvYZrAY+u94c80C43fSDcxrGTAnPpfSfYjSH0bXbtqWUsIUVFHsxs1zf5cttGrKdVUXGLUl+401OB1E0KK/iwCHJ8NySVDKgPdS3V97XCdgUa3C+zCG7ACcZAsTrgDc3Ah6Rv05pG0QmUIqi39xrZafERc7jM8Wfn3UwlQ544HbTn551ZP8mY09O30zjI8kDKelY8AolUgh5xJltNeGlRspNXz2sYhznBTzi9qlI41qy228yOHcv979jEPKILUkl+kEbf7GrYB877NR/j9pzFsqxcz377gt5LOQRy2ZLSkWjZi7HbnyEx421ZvbrjaSp5L9XmwcjqEVYL+eyZnVf/nolNvkMyZZzMuEH4sSm6kheInIqYj4GC393T2t6e5xVRcYBTfwSva+asn6VHdtQ9elZR1ujxWxyRZj0iaY9kvddvmC43lWX3TWUAmugVf3Imkp4N8OMIxwAASAw6gRA+Bv1IYAGAAEgMAEJBD+qonfUwxZfyOmgtM3WJlVf+E0dTXs6mq3lsp6uNltIJxRti/XYeiVyVPSKFDi78dOCppDB7Lo77fnrlGwhQ8gn034URxU6p6vNdjQvoBD8bI3FIByc/t4ZzdVD6k3CYpwkgV0jFsvObKuJzdJw1GdeQ40561d/EphhjfFXXWxcOd9fF8M561fZg3ONamVvT7fDYnbZrW671W3tc/eZXN0ddsXX7gu7a1fMk3LkPwEPWc2I/+Paqbmc9Ofn2txFyGWbvU3iHOPxxf/HOt2Gf4ok77vCT+Aw49XeaN0kDMigmhJlFCem8P8etrFVe5yNQfS2k7kg+KC6xLhJUBzcZSGPTIoX5S1RnN1Rc/+c5uyOmtWLC5EnWhCcpKnki5stwSWzz6CEnvHfsy7EEcfWVw1GimKXPNhj2mM2OnUd9q52m77L3qNzmI1Ou42iKd+SR1G0tc/d2+PsM7lsVrfDTrnddMglaLAtGaLvf2X5VOJF5tCqyjCvQCKp1mJ2Xdhdy16+UJKBpOL2xoiSDFAU/flZBzJnC5o8Ah6R9qN4S1JJwUHV/bOao3mhA5x5nUOl4Z1DXU7qwu5aRvhLnEI+vuKzroqkj8w1FrPr0KpKZp4LeeT6v4u0LRH1lCkkwgOzyXX/rAa5ZgeRYS87nDUncQp5IKeiusQYc2qmCJs3VJe9ut3K3P5CPrlygVxVGWncxqFqg1Jh3J5WOoBhPjbr9v4fr+2Zc6UvbrT06MK9OAnTQu7TlNeae+eysuXIxA+9EWSPMvsYp5o5vrFKVdlrt0X3PtLjTYGVszBEMFxc7MaE4kv76u6f0xzfUJWzQI5j/7Frx2FhJe+5P5Fhegp/AgJAAAgMKwEQ/oYVLxQOBIDAJCXw9p5/i46efXnEnVMNw7TRNeqdt44jn8qsX2VXDqj6+k9o0NZo2ZVetmyWZGNCMfmmM/i9d6lIv3SmmP1YL+QRqxbJa8u4fp3WPve1I2q2jRV+5BXwiJ3LSru1EcVWM+gcp7fVsJ+V8bHQKyrdyK9vqDZjaYNy04Yuh/yz7uyOmvSfJOzNM0pv+nvhYBxFR3GONlSbV8xDjmksemXG7hg3SGE64nbRN4/VMxX5OPPJtJniN3dbwwdidzoopaLn5OZqLLwy45UQR1w/qmZ/12ZxP73ajNLa8Hw9Yiry2Uf8gKwkkuKRrdPyX6Qr58tyF8lxEgAhn1w2W5K/Thnjbpb2oI3xNH8uUQGPuHmsnt28MHyYP2lbbNtSSxnBAm9cT2+tCSP6NFSbt6UGWAgyvV77p+LFzZaOZiv2Rnc6qI5m66d/Ow7kVKQEpj0V8IhDqyrD3Lwej+f5jYDga2e314wFJ3d9p/3FzZYdaaW5C+U5C+W5i+R5SxQ7l5We2FR1/aj6wXnNg/ON14+qD6+u3JZSsnt5Wf565emtNVcOqm4eq396pUmpMAYvRMxwjNYBO8EFFv72rhgCU1xNjZmdnCFxCpk0lXx0qXHAWYqNj1DUvECZQ8hHJexKLyNedxp0DpznwWZxa2rMz66jlKbM3crMybtnNGGqc9iok5urGeEvaSr5+k5rDKNgt7qPbahiyhHyUT6TxrpYXO/D167rsF/YXZsyTRS8uPl8e39A2lDyNNGyWZLMudKchfLs32T4l0vIJ7N+lV07ota128LXMup/NRmc+7IrmHVJwCOOb6iK+TVJDN2h3LTkfVfeEgXTBmZqCXnIsRpbmyZORS//Mn6WZP8mW/W/wmWzxHgJTZkm2rE0ikRG7BZyhb8pyJCc8yKKaQwzzxOnkBsFxf89bI8qpTVTb4lIv2axN/E9y9YPz7GtKSWf/u3o1trxC1G7zd2s7nt9p3V7WinniUjAI64cUIW0i2cqggMgAASAwIgRAOFvxFBDRUAACEwiApxH1YQ44urhAIlkCFlIP+jSZnr9MXlE2kzxt5f9hqwW/9eVOkOMHprjiJyFcmVgABqaoh9eaOQ8ueLHaI4bpstFP7/RwnZb8z92e43+RG8HfsvtsFG3TtQHVyfkk9vTSktIfUgzQ4edenUbecwx8RORYDRLrPjWPYRIR6wor/Dnt8IbPoc4XYd9S1IIcepSxFHGrH3ub686t6eV+uI6xRF//99v7FltNrlun2zAE4yZD3iHlj5bsklQjK3enl9v+fikXf5ZV11s7GiyFhF6ZLjhlT7xzNy5rLSrLZZ9uLYlwOhPwCMOr47OSoui6MeXm5Li/aoljhVYXdJvqKbuTvvBXL9lE7PtTJ4mOrGxSlMbOqSaUe+8tLeOoYT3xuGzH9C05+GFRkbdEMQRF/fWje6WkqY9FTLD7owyJtOlz6iK5w2phrWAH4iEH3z+p0ycNUYmSIgjchbIxf91DdNLkZhvZM6bGwGP2J5WGrPJEtMMmvI8udLEXvRQ6D1h8YCmcLVlprV/cDUXbIt651RDfy9amtV9u9LL2Cq8IM7rs2zp1/oJ5cjOUzLiTsxms06HNyBdnM8aCzc1wuwiDK4BD9qbrPlrUZgI5ucA30o4BMTOZaWX96seXWx8eavly3NtEaFXVfR2ttle3W5lZHc8Yy/urRvjNuNF3/TsN14p00Ufnw4QcnRAepFf4HLSH592IOP0QN1Z4E2xlbdEcWx91Z1TDU8Lmv972CZ531VZ2NNSb9HUmren+V+iCOKIlfNlFfKeyOvFV3KeptjLZvAxGlAembtQfu+MJkJb2uD2NNb1bU7kWnAjh4aZ4quH1Z2toX+eOpqtB1ehyCdMq76b8A9jtq7gxsMZIAAEgEB/BED4648MnAcCQAAIxE6A86g6rMIfJ/LXsQ1Vtn72dewrE6eQTwsCoqqpKnrz/lCwH1uZ59dHl5rYO3P5Zx3bTo25DB8IeMSlfXUD+k+RbzrZOxn0Xa/1yrH1Va0N4ZJdalts61gJMRL5ZOoMMfE6nCdm7AM5zN8MIfwlD0skrAp5DzLEY+1JvCJjcUt9ONTBvdd3Osi3XXdPI6/VE5uqFV99eqvZ6Lp6WJ0yPcDuxqvJSs5urykVG3q6HSHN04pJ/bLZAQ1Ljhe9uh2LkZHbRRccVDGahS+RaGR+lLin6sreNUsK2UJJ0lTywfnGkBq0N6Ewdfd0A1soxLpD2o/i2ycbwsfdRx2f5e84Mj6aJ2uoDi0UejweiqKvH1UzJlS+JcU9bOEDgsc+6ExtmWndXwqmSZx1IMKPgjhiZ/rA6ZKDKh/eE2+CTLY3JBR1xqRHcxrapOrLWxKwzKbOEIWP9GfsdhxeU8nRXIQ8Mnu+7MOT9pC3FVPp0ysBaWqwEmE2upgLOAdmo2s/y7IsdYb426tYlla3i760r84/N4ZhlW7VWPavrGCvaeju45Er58tvn2xQVfSaja6Qd+6TQCZCPpk5V1ouHbvx/hx26uKeOqanQh5KkRxzSmjOiA/40e2i395vy/jZb5mOV7nkaaL92RXE686udltI2VTbYg34pfamuz27ozbkxWGawXma6m9hwS+Zsn6VFRxU1St7w5i1hqnL4/H09bpOb61haOPqhDwyc4705a3W8NEV2NEYsKXw1uQSPeReD08c/goEgMBIEQDhb6RIQz1AAAhMJgKcR9VhFf4IHPLfq+ngLAT9xZMOuDKOOL+rltk0WvvcZ7bVsCUP9uM1OzNJfVWvN5ia/7U2+0r8sLslqUTXEc7bV9ti3R7oUJk4hUyeJjq/s3bAAPAlIn2A7Oi1MQwONjcuptuICX8fn3aksNxgE73QPj6NIrEAh6fTgZI+YznY2ue+fbKBq/rxyDWLC7+80IYP6/7mnj9wFZ5IAh6xNbmkP6sKTjM4Hz/928G25Vk2W1JE6DnX9PfRYnaf3R6w38N+62FaUiY1sEM04v3wstmSpwXN4Te3FIVsZtkjgnwhF4ZLQ+x20ZcPqBIYEyoeeff0cEUP6A9RwHna8+hiY38rBmdNCPNRwCO80d9CG9EE1DiCHz4+beeMzurFhUMitTgd1PndtYw8jRfMczv9SzGnl7TXhx3NarZq741vIHnfFV7dsJhdZ4Km9MHcijAe5Sa9c1fG96Qc3vQj0g86TpMi+RhS+ItNQwxZXWeb7cgabnBYIR95PVcW9oTBgkwRdwQEMcRyYQyCVMiGDcfJ+qre3EX+lNDo1dreOua3ezhqZMr0RZb0Jsxl7mJkv/mT5OGFRmPYtMhKhXH5L1y5cEX0GivnaYppBucgc670/O5ab9DGQb0O+fysAwU8Cbzdsn+TfX6uDakjM6wcNurqYRW7VQIesWNpac8wxO5gKoUDIAAEgEDkBED4i5wVXAkEgAAQiJQA51FVEEfcyI863FiElbETUCIzrv5NxjjC36nN1Q4bhWsRvevi2t+xQtswFn+GLsfRtcrwu30cQp7jR8zui9tF3w/MwYqflU9urg7/iExRdJnEsDmpmPNQvmKeNDgKIbvGMXvMEf4EPGJbaokhbPbYGPpC0567ZzRsaAIesSu9bEgqoij69d2AdKXejTSx/p+isoGMaCg3feNYPVsEwTMheZro5e1WtpFphL2uKzcFKHE48WUkX6Y9n/7tWDrLv9/Dm1vxu36d1nt7nEfX+p0icctTposeXWx0On23Vcia7Vb3h8ft2b/5Xbyx+oO2iP3Hv3c6qHM7AwQLlC9oVP8jXneG9vdnLR3sjAr4mLMxXv6L9M29ttH1WQ6myDGOxmtaVWBshOBvRXjm/eMAVRHry/0tfY11fV6zKX8GAxyZbsCkAT3djtsnG9hREfA0C2+Ore+yb032xQTAFrtF3yKVztndR9N1Rw3X4i8m40F2sfjYYnZd2hfgKY8190OrKsNbi3s8KAvNvuxyzpqDXYPHptEfTdGPLjUmTvW9acPJoAcc/WBosZ0pkxpyAxNcoHthjvS/hwOYmno8HuJNQGpsfOMLeeTZHTXh7eY4TeX43bMXEF+ZfDL7N5n0g27wYmhHs3VrYEp3IZ/M+Fny6d8BXpKZjc5Hl5o41usCHnFyc3X4l0CczsJHIAAEgMDwEQDhb/jYQslAAAhMXgIcTzFBHHHtiBpHXh9yKIVfuhnBAock6y/TRYDwxyMOrKzAca+b1X1bk0s4rmTsx2tk8efxWC3u60fVTGJB3wXeiIFsUSlxCpkyXRTmQbm2zLSKZb+Ay0mKR35D985oXtxsqSs39fW62LicTqpJ1XfvjCY4L62AR+zPrujPyHHIaQ9tgV7hz28TIfQauw1o8xhtG4IzdQriiAu7awd0x46kIqXCiKxRWNk8hHxyzWJFiWhgvaCv1xUcIA/LE5sTizuao84BajI49yz/bq/k9Sw7ulYZJi8H00F1Ze+6PxXsXiROIS/vr+vPa97jQUIhR1VJnIKCQJ3aUv3gnOa/R+2tDRabxc2WL20Wd1WR8dyOWuaGZe4yIZ+8daI+jEUJJ2ha0lTy5a0BsgAzvRumgz6T6+IepL8I4gghD0Xcx/98SRXiUEYFnE4hdxFK+rFyvjzd69ad4E0aLuSTmxOLJe+7xprq5/F4pB90S2f6A4lie+R3D9qGhKTiW/eyQIk57w9Fe1OI2e60U9eOqJlJgg9QRtf5sisHVQ8vNpJvO3Uddoc9QGg29TilH3T7syuS4wNc77Gdb/ioCN1a++ZEX3ZsrH2Xy2LxgeXq1NjVdyiEP5r2/PewnaM4C/nk3hXlA6p+Ho+nSdW3+vdCzg8WNvo7va1mJNNlRDiXtC02dr5ynAm6a0SykXS123azllOsri6bLXl9t9XlGsCqjqLou6cbQnDmI5/ZSH4dGD6c16ic2wG3KuNnSVRlMoWzD9wu+sE5bphj7Al+cW/dg/ONX15oO1ttjKk7/q7Z5Cr6pj+yppJj8z60iwa7nXAMBIAAEIiNAAh/sXGDbwEBIAAEwhHgeFYK4ojhS8GpVBiZ8G14q1YmCb1VYwt/2LVQU2M2djuOra8KfkBnP14/vtwUMqEHTqxxaks12isGusbcPaNhSx4MLLvNzQ5XxK5FyEN5AIQ8csVc6Z7M8oKDqvvnUErQB+cbz+2szV0kx4/47K8k8pHI+N+jkQtzznRkSA6a1X1sHy4kmS1RtGmii7s3YEtQwP5A2zRBHBHGu3DAApkLLL2uExur2OYz2B6EfBNRXLC6ClOwkovHNykexaCkAwQNptp+Dyg3feu4P3mx0GsJMqA1aI/Oa8fKnsA8YnNiuACIXe02dtx69pwUeKdx0lQyd5H8SJ7yRn49nsP3zmqO5ikzvU5z7JsFz+rs+bKq4n5TiHg8HpvVfWy9P01qcrzo7f2h0aH6pRnBHwxdjufXm4/mKdf9pchdKM9dKF/1v8JtqaXndtY+vND45blWVdGra7cbuhz6Lkd7k7VUbHh5q+Xm8fqzO2oeXWyMOfp+BE0b1CW1ZSY0UqwpIQiMjTCY0tk22nj0V/9eGFK0qizs4ViG4pmG0+Ak/ECkThet+6vo1Jbq2ycb8DS7fbJhV0YZJwE3/pbXtLCsv0wguEcdzVYm7/Bg7Bw5OvUQRmJtbbBsTAhIvCDkERsTitTK3kgGhR0NgH3b4s7GZt4YSb0xX/PhSTsTvgDPlmtH1GHeEMRcEeeLFEWjRDSsTEdYybp/TsMRmjlfxB97uh27GZ9xlgkwfq9zclO1xdxvhhlOgaJ3XcGvWNhjh7Fc2lcXScM4hbM/qpW9SBRmvcRiakH5iH4gUqaJ8pYoTmysunXCt6rfOd2wN6t82WwJ+0eQud02CorH7BLH7jgcAwEgMEkIgPA3SQYaugkEgMCIEuBs7QS8AXIpDqZxDTVm9uYweVq/Qhhb+MN2eY8vNRUcVHGN+AIf0xOnkDeP1X95oV0xN2AnjEXG5zda7DY38QY5/TFRqPAmOaRBWYW8J2tegJMjfmpnnrDxR6SesLKCIpMi1iacuVjAIw6tqgzjIDkYsCPw3fYm7zb7e9cGzPAQW5N6e5x7VwR4tyHhb0fN4B2jSiUGThSn5GmiB+cbIymZctP3z2qYoeQcCHnEhn+Kos09gmy1PiJbLfZseRyYmobD0GGn7p7WsG8BPLHDG0a9vtuazI6ZOMVn7MbuBQ42j6YxK7Mtu2HMxUlTydsnG8JDs1nc+ev8nsXJ00TvH48Vvdtmcfd0O7q1dl0H0vh6e5zh+0LTHqfDFyCSMxxj5GNHMzcvAc64HT50aSSN72y17csqZ08DPNWDQ0nabe7zu2o5MgT7i3j+CHnI4nLAaYZe0syWDBhlr73JyqR4QrZOc6Q1paZI+sW5hqNT45+b8DlMOCWE/kh7nt9oYadFxm8aRP275LPLMRtdh9dwc3Azt6GARxzfUBUmACK7qJE5Nhmc7FwreBALv4xECntsacjWs4R88tj6KmNkEesk77vYyYsYyPj3PeNnifxzpL1AKnzgs0fIZ4bchfK68ojE35Bj53LSN/LrmWcY383FD0gY7Xs4iex2S50hfvegLeTrz5ANgJNAAAgAgeEmAMLfcBOG8oEAEJiMBDghopA76ne/2iHH4ROPvr+mFvCIgkOqkBYBHOEvcQraCobQL3j+eFL48TfjZwljVMg8EKf/JHl9pxXv8DmWa/0JnU4HVXBQxdm7ps4QccQj9iYhzLGAR6z7q6imJJyd1JDTHtoC2dtsvKlY/ou0OqzlVwwNQHG7AuMWCeJQ5uWQkyTy8t0uFKGPPZpCPpm/TtlftDJOyQ3VZiQxfJ+3IQf67umGAX3KOMV2NFvX/1PEFIusnPqPZkhR9PvH7dj/lGlA0lTyRn49E/6SU77H4zF0OXal+x2K8ReXzRL3t9FlSg55IOSRB3MrB1SUbNYA4S8pXvT6biy5j4O7A2eCCfT2OPdkBmjlWA4uJgd2YA8ujTlj6HKc3lbDmQYCHnFkTaWll5tpt7YshD1sxs+S1BmBDrxB72k45eOFJTledOt4/YDhxtivInB0s8rCHqb9kR/Yre7jG/wGqshYLDIbVcpNa2rMX55rZZ90fSYuk94e576sgHFJnia6f04TXmhmmk2+6WQ7WXNAYQP2CK2VmTKH9aCE1LNj76JM5X8oRsaIzPcMw7yU4pEbEorqq/pNO87mYDI4D63qV2DFRn+HVlWGz3vOFNjSYOF4ZydNJZfOEnOGL5FPXj2sjnAmMIUzB02qPk5K98QpZMZPEo5TObfSUHefkE8mTSUv7a0bUyIy01M4AAJAYNISAOFv0g49dBwIAIFhJMBxTsHqQ/gUeDG3xtDl2JbqC8eOH6n3ZJaFfKQOFv6C32+v/r1wV0YZ26QC7xs5+g5W/ZjgXPrOAGkJbWXzlMHxkrzP1gp2UYlTyCsHVJWFPUfXKpOmkoxeM+DjNU4GOviwPjFjH5Ivalus6//2q1RYXOjPUzvmGjtbbRtYWljiFDIhjrh2WB0m92UkdXEMCYV8Mu8PhaoiIpsLm8UdHJ6fM+g4YOWAjrqcpqKsqbtYWVO9mUn7M98r+qbPWRAQoFDAI/ZmlXe1hUsyK3nfFRCkz1vF67utsk+6LUnoTuTMcE6/mI84It7+lRWRGDZaguIhPrrYCOYknNEfqo/cEHXe7b3QqyyENGSOpN5urf3M9hrO0ur1gRV9eMI13qQo+l6gPayQT676X2Hhl+43d1tXzpchU6zvogwzo0IeCHkoHsLVQ+pIAqE2q/pQMgdvySiPxCyx4muklllsCCgJ9f46f3KPKUgKiSQqpfSjbvXvhcnxorQfxY8uNXJeTtRXBZi3C/nkwdyKCJMUdbbadqaXhQll+/3XszzCAtn9HY5jmvY8OB+QlAmbnQ55ENjgxrvd9LUjasbcD1safn2pDb4y+AxNe97eb0ud4fcACDEtvWnlwwQCZherqeUOes4C+Ycn7buXl7FXWpz0JuZfnBW0SwAAIABJREFUz2BL0qx5MtG7ro9PO1b/XhjVqp4cLzq3s3aMzCI2STgGAkBgkhMA4W+STwDoPhAAAsNCQPHVn3ADCWc8YktSyTA9r/eZXAdyKtjP6Cvny0IGPAoh/LHeV+N0gR8etyM3xnhRiIf177vfZbPEz643s1+tW8yuw6v9b/gFPGJPZnnwPvP9o3a2gaGQR274pwinIjHoHA8vNOKAd2H2Zth9MmWa6PDqyrryWHzQhmW8Yy1U32nfkuRPqzKYnXaYJrRpLGuWBOitCXHE1UELf9oWW4BqySNR8Cn3AEHfcTu/PNdy7OywvsyZdUI+eXFP3YBmSpy+f3ulZW87sb1tsB2iWtm7SeDLY4DrFfKINYsLwySk9ng8Lid1aV8dc7vhu/vY+iqcJ6dJ1Xd+V23GzyjkE3tTGtwvAY9I/0lScFDVGVZkZLpmNrrYTn++fEFURLSZQuAgcgLPrjdzRDohj9gkLI4hr4LTQZXLeg6tquQUyChNwT8Nhi7HjqWl7GmWFI8SRlMUTVOeUrHhQE5F6gxxmGmGZGUeKeAROQvlz2+0BFsUhkQRILLgjByvI4rXGVzak8tNnGnPZIcPvhif8Xm2xiGTc4HX2V/bEpDzpESkZydOTZ0h+vIiIjXKYaduHq/n8MfKO6eRKdNFb+6NfvRMj8djt1EnN1WzxVP0IJE8XA8S7EFBBpsb/Qab+Ac95NtE9rfwcW2ZKdiUO3gxFPCI7Wml4V+xMAWyA24KeMS21FKj3il6y439J+QRB3Mrgu+m4EZyzpgDH6LwlLiRX49V/qpi49E8JY6bGdwR3/zxpjYS8IisX2UPLzZGyIrTDPgIBIAAEBhWAiD8DSteKBwIAIFJSoCbt5FHrv+7SNsSzowoZlLB24OU6aKQ0ZTCC3+JU8iLe1Ea07cP2sIIf8nxotsnG+y2gLQLLhd9aa/fvgMretrWgP467NTZHTWcrey/15oZqyXKTTdUm2+fbFj3pyJlmgil/uQRQu8/nCc0OV6UOUe6N7P8w5P2ifFgjYQ/dj5lrx1EhPGqIp8wmhpz1q8BcRWHRPhTVZjYYR+FfPJePxldOE0tJvRrFgcm1vR2PHu+jLMJxwG8oo1p1dlm25Lst4HF8cWeXGliDFQ9Hk9nq21/dgVbYkbmlrMlH590MBOS02z8UdeBtFpmGmN3yGLC7wHqsFGlEsPZHbUr56N0NMw0xnNYwEMJGVbOl53YVKX42h3GoZhTu9no2pft1/eHMC8zpyL4iAlUyHo4IQhwrhhNTUTejrgQuxXlcb60ty5zrpSZM8wkF/LJFfOkIad3ZWFA7Sh/haCYnfm3t8f57VXnoVWVqJE8QvB9tcTTTMgjl84Ur1msKDikqis3RW7by1krUMTYhzGqYCjD1XT/CyQBj7hxrD58S2pK/UsKfhEl+6hjT8iA1Bx8lERbGngB+2Lm2OWkX95uYSuG+DVDxs9StqKExwWjDplrhSlwZA5MBicnP4Yv7XuXfbgbYNQ72dEMUCzd1ZWRpONoVvftyQwwxMNe3jkL5Ox3fhh1crzoyZWm8FPC4/F8ea5NnREwkfavrLD0urrabZtZSzFT5vWjaqsl0swhmKRa2ctOM+VNTF/IvtP7el2S913565Q42mDQ7Uak/She9b/Ci3vqlEVGjpnqcA8WlA8EgAAQiJAACH8RgoLLgAAQAAJREOAKf3yU4hObtkVRSmSXul00MkHyWkngZ9/+wvyFEf6E3jSmzWqUT/bt/X6FPyGPOLymMqQPy5MrfvsOnCFRqQiIvsdxBxbyydX/K2ys5e6iKYrWtti+vtBeP1p/IKdic2Lx5sTig7kVt082fHzaUVduwqZVkbEZ61dxhb8pZMo00cenHUPb7oZq84p5AYlZkPB3SEVFZp3XX2OqWOmksYXOwdyK8KND0x7F1+5ge5DEKSg8U7nM4LV/JPE0xv8X8ojdy8s6mgIMf/prEj5PezMAsMVrLM89udyk67DbrO72JuuZ7dxQa0nxolsnGgbMC6ksMrL1IAGPOLCywmx0cprkdFCaWvPbe20X99btXl62MaFoa3LJ8Q1Vjy42km86m1V90Zox9hpd7Ohmgjji2IaqaAvhNBI+hiHAyauApaIV86QN1dwlK7gQt4vuarN9e9V5YmNV5hwk+QUbCgm9YvfzGy1sPZopirsI81H6l+Ab1mJ2VRUZnxY0n95asyOtdKOgeMdSlFL5+Y3mwi/d2lZbtBpEQ7WZk3zpaUET06qoDoq+6dlRL8NkfGKK/foyQOJJnSH6Fuhe+uYe97fp7mlNeOXIYaNe3mphR8rDQ7l0Jsq98O1VJ+elCF52rhxQRWgjyTR+yA9QbNbAFxj4ZzoGi7Zo2xZsir5mcWFTXV/4chpr+/auCEhcg38X9mWVVxUbT26qZi/seBRW/U9eLjOEKVavtR9YGfCGBi19631L36dnHQFRF7xJltJ+FD+50mS3RaH9eQMa+rVFIY+4tLeO7dOAW2izuGvLTM+vt5zdUbNzGbrdtqeWntlW8+/VZulHXXuTNfgrYboGfwICQAAIjDABEP5GGDhUBwSAwKQgECz8Zc6VqiojCn8WLSCa9tw9ExAJCMUpWxHC07Y/4Q/LIoyhGXfP+d0dWMAjNiYUhXQi9ng8nLCGwcmFNTXm7Pl+uzMB8sqptJi54duZ7lMUbTG7TAanyeAMDhfIXDauD4KFvwgjYUXV69pSE8ewBWX13Vk7yF1KQzU39FLGz5KQ5ku4tb09zld3Wlcu8EUQYzaBAh6xK6MM+/RVFvaElAUP5FREIrgwWDqarZsT/XZ5eJOZPE20IaHoyJrKtX8quE5/3vTQkeyoyTedbD9iIZ+8c6qBDrB/ZVqBDlwuus/kMuqdvT3Oweh0FrOb402/P7vCbOz39gloBHyIicDXl1q2rCDkkzkL+n1/Q1O02eRqVvd9ea69vL9u3V+KlOmi/tKRC3lE+mzJ48tNNmsIeYKi6Bv5/ghriV6JUPK+K0wnHHbKbHSa9E6zcYCUymEK8Xg8LfWWVb/7rXGRmV5+jMFAUTLWOf73DQLvS6PwKznn7VH6bAknZJvXiz9AoAmf+1vbYr1+VM0eRLzsoNwL++qsFjdK7/OIm94HB14sOKiKZEEIz3Mwfw3+dcBBYB9eaOzWDo3RX7CUjBvMid+a6A3R+PhSv9Z5DhuFI5xyBG4hj1i1qLBciqQ9bYuVY2SNl+X1fxcVfukO2RJ9p/3sjhr2KxykJMYR53fVYidcq8V9eX8d81OCD7Ct6M3j9WxKqPz+4yJw3NLR67cn4V6/OR2U2ehb1Qd8VzSYOQDfBQJAAAgMIQEQ/oYQJhQFBIAAEPAR4Bg7DFPSBgb3q9utbCFDwCO2JpfogxyC+hP+Eqeg6GzM82tI4U/IJzPnSsX/9bv5VCt7s38L0PUu7atjG7NUBZlKHcypmORp70LadIQXkphBj/ygSmFc/rOEvSX77ro1KNnIZHDuXRGQYVPIJ7enldaVm9jespSb1nfav73qPLCyImU6NyEpCtiUUsJWk8m3ndidir2dE/LITcLiEpGeXXIYAjTteX23NWWaXyPw7Qm9Uc/YKNDmk0es/VMRYcjId4GO8EIegUyxhj/WHierL3ZIjCRCVhhK8KfwBKwW9438+uR4ETbZS44XXd5X12dyUW7abqPMJpehy9HaYCkR6V/dab1+VL0royz7N1nKNK/e10+6ahylNG+J4tOzjv6Ud5SgZmet34jbK/yFWXvD9yKqv7Kz+mKR5dSW6sgd0tl1cVK940C3bC2GfbHH49F32pG92Pec8sgk/PdCTt6b+qpelI0nMKvJme01nECZTgfVprG8vNWySViM1SX2YpI4lTy1tZoR9Rx26v45DfJKZhWLE7MeWaMcJjt9Tt9DfgzOxo77khQv2ppc8vx6c0O1uafbYbO4Q6pmbjdtt7rNRmdPt0Pfae9ss7XUW2rLTEWE/vPzjuc3Wu6e1lw9rH58uamuwsRJno4ytuer2Zyx6i1+18VJbtNrdJaKDWd31GT8LGHG7vtiS6xcIBe/66K/L4/BYVXx8pv9m+zt/TbmCYShgRdbdjO815N3TjcwPwTaFuvu5dwc63j4dqWXfX2pLZf2/Hu1ueCg6v45TciEyBRFXzuq9t9uXrv794+5+XaYVsEBEAACQGCcEgDhb5wOHDQbCACBMU2gQt6DnoOZjcTgoqQP2FXidYAVUlQWfyhsUEoJO3pUsDtVIh+5oD6+3MTZHrAbZjI497CevwVeD012JL4qRQ9bfsJJKhtrB/AeYlcx8Y690AK0syGxxeOA8kqurNmIpC4UdLKjOQr/WU6ZHo8He9SyFWe8L81borh5vP7Dk/ZPzzpe3GwpOKjaJCxOnYHUk4Dttzd+/9bkEk7eXreLfn6jJe1Hsf/28dqcCnjEqv/JidedYSYhu5GGLse+7AC2nNp9u1Ovok2+7WR2kuxCgo85d8d3V99BSajBtQSfsdvcJzb5w+17w8PJIsyhHFwanImQgMXsenmrZVd62dKZ4mWzJWe211w7or5yQHViU/XOZWVrFhdm/ybDweN8wRyZNf+7oTQz67Dkl/GT5NzOWmS+2r/9EcopvKOGrUQI+3H1jbAXkV+mbbWtZ2UAx9a4seWj5xgP4qSr/c1Yt4t+fLmJHQZOyCPP7qjhGMnarO7TWwMCxWJjtO1ppY8uNX1+1vHxacfTguYz22tWLy5MmooyhDD80YF3dE5sqtK1B1jM9Rqd53fVBlz5PZPVjqWlNaWjk0XKYnYdWlXJngZMC1G/pqIAkev/LjqSp7x6SH3/nObxpaanBc1PC5oeXmy8e0Zz5YDq2PqqHUtL1/2pyF0kz1kgz/5NljlHumyWJHkaWo0T4tA/AY/I/k12/Wh9syrgt7hUbGDHNMBre+Yc6fldtW/vt315rn1zr/X2iYbdy8vSfwqRy0jII1fOl3173cl5KRKcSB1rectmSx5dbGS/CESJoQNjmODup0znZnRRKoxr/1QIg6R2FFB1hhh7eaOexhGntlQHh2WgKPrqYXVCYLCUS/tCuPpGfh/BlUAACACBMUgAhL8xOCjQJCAABMY9gXJZT8ZPAVJL4hTyaUHzMHWsVGxg50gV8Ij8tUpbUHzrYIs/bIpIvg3I28ixacJP/Cc2VbFVvOCOUG769skGRqwResMasqMCcTy/UMzvaaLXd1uDi5o8Z0x6566MAGsFn5BkGkohKVj4Q86DM8WccY8Be3ujdZOwmLO7RgJHHJE0lUyOFwm920uOJQjevwl5xI5lpSGFAGuf+/pRNUdSxPvD5b9In11vDp7bIRtfTOrZVqjMtpk5YOKsRR4K7cOTdrYhIRLg5kor5D0hGzCEJ9E2eD8rlKfXCkz0tl8L3CGsegIX5XXZc/boHLoOu7bF2ljX11Bt7mi2dmvtbRpLhbzn49OORxcbz2yrwRPJL5f4kmmQITPDMhPMN9X5SIFaPkd6akt1CannZEYKxuty0hdZuZJwoLStKSUxJBQOLjz8GaPesTPdvyKhZXyhPLbXM02qvpyFAdZ5KdNFIQ2pXC768/MOtp0vvq2wiyinwcWEnu1BjAmjlCY8IjlelOQ1zwzpYY2swOLJM9trdB0Bqh8uH2f74Sxl3jUHmQNLP+g4AhanVcPxkaY8D843su0Qg+cVyuvyXcJL+IHw/8OiXuAsxXOV+Y1mSsPn1/2FrFCZyWkxu05tqeYs3Xhtx7/d/sxFQWI3ekmzqFD0risYGvKtftzOSbSCnzFSp4su7q3r/j46dht1IjCpMb7MGxo4QKP0eFDo2NyFck5rUQe9yXZxT/HTTgnpT8SER42m6FsnGthDL+SR6/5SjIUEL8Mxr6BMIAAEJi0BEP4m7dBDx4EAEBhGAl5X3wCTJUEccWZbTbAzy5A0ol7Zy45Qzg6Cwy7fG8FazDzu48donMmXfVkxqWeHQhfwiC1JJRxzAPb1zHGZhGUj4BUm2NJSW6Mlb4mCvesQ8ojtaaWT2V0xhKsvn1yzuHBotxzBrr5YSrh9soFxwmIGMaoDmvb897CNHfOOPbv6O8Zz4NCqyqZAGxN21T06x+lt3PwbeMam/SguOKhqVvdxnM7YX8fHbhf9tKAp2L+Y2QemzhDdOd0QVQrIwi/dS2cG3NpCPnlhdy3HNCm4MYM/8+x6c+JUf+YTIZ+8kV8fuWQ5+AZMpBK6tfaXt1rObK/ZsbR0zZLC3IXIJCrrV9mKebKVC+S5i+Qr58syfpYkxfvyMofRX8LMcwEPKeBrFhdePaRWKnoiTDhA056HFxrZSyXOTP1m+F+ToBzxm6vZVmbBGTYinAac/Nf45t2cWFwmNTgdFE177Fa3rsNeItIXHFRxjct45Lmdoe8pu8195YCKA6e/IWDOC3lk2o/i60fVRr2jv/Y3VJu3pQYEBvUtFDwi61fZ8+st3R32YCWrv9KG5Lymxrz2DwVbk2J6NOQHAh6xdJb4wflGZimrKjJypNtIKkWxgAXFxWS/YRkcdurJ5aZgm240plPJQ6sqlQqj3ep2Oqgz2wPsXvEUunJAFfwcRVM0+bYzZ4E8PKvkeNG7ByGyVL+525oUHxAXIimeDBPTcEgGFwoBAkAACIwwARD+Rhg4VAcEgMCkIMBJ7oF1li3JJWEiHA2Gi77LsT2tlHnkFfKIkHHivK3y2yGi0GZ/KIJzJhj1zoO5FQk/EMiaII5YtUheRHBfkodsbZ/JdWRNpb8ZfPL+WQ3jQWkxu46uVTJ/xVuIpHjR/XON7FCAIUueqCdDCn9LZ4nDpMiIAUVNiTGkjczghT+Px9Pb4zy2we+COuDOEG8vrx1RD3gvdLbZDq+pDN7h4zO5C+V3TjWETyLs8Xj6TK6rh9XI9jDQLEXII5bNljy40Bg+20Aw7dYGCyf9CM6NMwIh2IoJPcewd0vySFiBBUMY72dsFp945PPP5fkM9xiTKOZgwPnMuQB/EVmc8ciMnyX7ssrf3Gtta7S4o8ygLf+sY6fERZKH1z1fUzNwTuFBjQ7tecrKz45/uc7uqIkhzJ/TTp3fVctZ8IV8MvtX2ZntNTeP1+evr8pbolg2m+soiq75TVZZ2K8VbZOqb8M/RZySOQPh/+g1t1w5X/76TuuAlsJVxcYNCUXBhmNCPrJP3/BP0Ycn7SMptdMU/eGJ1z4uyI/V38Egp/KY/yTkEZlzpMoiI55Cbhf96GJjUjy6OyIpU8gjk+JFh9dUBj9UcOak1eK+fbIh5CsZFE14jvTU5uo2jYUjf+OJwTSPUyZN0dKPurywOml/wl+FvGc5KxENVhhX/a+wusSHglMXfAQCQAAIjEcCIPyNx1GDNgMBIDDWCXBj/HnDme1KLzPo+jU3GEyXKDd976yGeTRHOemehshJ19FiZe+XkqeJnt9oCWnzpVb2nt1Rs+6vooO5lSijwvfg3AM2UvZRxwQ3TIgjCg6p2HHHvzzXpv0oZtvO4Kd8tmHggFVMpAtMBicnMLmQTy7/RVoqQWkQh+o/Q5eD41DsTVsp/vYqwMU75uo0Nebdy8uw5MFMwuADvFHfnFj89aU2QtOntkbrgZyKkCUL4oiV8+Wa2oF1EJPBWXBQhVKs8gifLuOVvD8/1wZbjgwIweWkrufXc3bCQh65UVDMTlEyYDkxXNDdaWfr+4lTyNQZ4pC+kzEUPqm+Uh+YiSh4rkZ6xutIiIP3JXjFvmWzJat/L8xfp3xa0KxU9AwoTPeHvafbsTeLG6FSyCePra8ydA3LjwjTkqpi44p5/jRNQj65coE8NgVE9knHlqoxVewuimOuCb2SK5u21yFXdP+cJow9L0175J90axYX4jua/XX2MR6XlOmig7mVlfKeCI31yqWGdX+FVhUTfiD2ZZWPcCpth516eatlxVxpSP9ldn+H4DgojUxPt+PC7locEzBM+Rh17kL5k8tNPd0RzU+zyXXtiDplGveVDNa4U6aJxO+6yqUsH4IpSH9kZyFjZiz7oKrIuDO9nx8jb+8k73Xs6/Fxn8mVv477VlLIJ/dnV3S22oKvhzNAAAgAgfFIAIS/8Thq0GYgAATGOoGOZuv6v/2bBxxc5utL7fC1G/sE4d1U1jxZyBSlbhd951QDCs3jDQa0L6ucyWwY3DCHnerpdljM7uA/hTnjsFMPLzYunSlGBoN88mlBE2Px5/F4erodB1ZWcCw1hDzkChehUWGYqsfjn5wOCgXzCoxAf2lfXbRmaAP2/ePTDrZrFcqlm1oyhE7WHU3WgkOqFfNkONgW1tcYlS0hjkiZJtqQUPTkcpO2Jbp9VHuT9eTm6rQfxWxKQj5ywDy5udpijigYYp/J9bSgef3fRTkL5TkL5cc3VKkqeweE1t8FamXv6t8LObHkhXxyT2b5sOYApWnPi5st7AQIOIVOhDvt/rozCc/XlJqCbWDD6Bo4Uhiaz96QaoI4FEwNe4+umCdd9b/C3cvLrhxQvbjRUiLSd7bZGGfJwbD9+lLLcSpHsdXiRZf3q8KHWx1MpR6Px2ZxIxdL1qIk5JNXD6nCKHH91djX6zq+oYpdVDjIXmUnaSrK6THglKZpT3WJ8eha5dJZYgGOZPddhBV6M3cL4pDj6u6Mso9PO3p7nP21MOR5paJn57KypKlouJkGC71e208LmiIUEEOWHNtJt4suFRuOra/KmifzRdbrJ3gfe+FljvGajCbt938+YixDV9xNAY/IW6LgRGAwG53Pr7esWVKIzD+96nZAyd6cGLmL5FcOqtTK3qjgmE2ue2c1mXOkbAEXr+0bE4raG602i/v8rlp8RhBH7Msu17YMnJCqo9l65aAq3WtJygyfV08ksubJ1P2s/IVfupl3luxvnd5a3d0ZIihkbEMJ3wICQAAIjCIBEP5GET5UDQSAwIQl4HbRDy80op2DdzeSHC+6fbKBCZs9HN2mvH4uezLLcxfJrx9V96ccGboc7x623T+veXy5aUB/nNjaabO6pR90D843vrrdGuzOKfvkNwlkHq+FPHL174XfXnU6HVRslfb1urStttoyk/yz7uPTDuJ153DbxcTWzuBvlUkMWb8ivQwbTezOKBtkst3gKrDH68U9dcyETJ0ROsp+yO9GeNLpoGpKTffOaPYsL8NJJHMXylf/XrgrvazgkOrbq05du52tAkdYrMfjsfS6vr3q3LmsLGW6CAvKmXOlp7fWsFPHDFga5aaNeme31t7VbosqqF9wyW439oALiAmFvcN2ppdVFxtj6yZF0SaDs01jUSp6xO+7Pjxpl3/WcZwT9V2Og6sqsYOqgEf88wMScMPI98GNhzMej8fY7dwXZE+HlyOfqPFdPMLzbelM8Yq50pwF8vV/F+1fWXFxb939c5qXt1qkH3QN1WZdh73P5IrWmXfAgTAbvU70LO0JtdDrc3p2e01H08AKSMgqnE7K0OVoUvWVSQ3E684Pj9urioycxteVm9b+oUj4ASWOQNPs/xEXdtfGtjiXS9H6xrGQZVZ+5gCvfivmye6d0YQJw8fpkaXXpfjaffWQamtyCdL0F8hzF8rzligO5FTcOdVQ9E0freTHlN+ttf97rXndXwr8nixpKpm7CMUWGFCRZEoY8gObxa1W9r6933b9qDp/nXJ72vd0vd6OZ/8mWzFXiv7Nk66cL8tZ4KWxCK3AW5KKD+RU4ITUd09rrh5Wn9lWs3dF+bo/FTkL5CvmobTUyfGihDgieZroaUFTsC8zTXla6i0vbrYcyVOuWVyICl8oX7WocEtSybmdtW/utXkjrvafprp/Fi4nVS7r+f/s3Qd0U1e+7/F377x5d2bd9+7cO+vOzA04dcCV3ntPCLbpJQFCr4FAIKETQmipJARCC5BQ4gKm994NlqvccO+9Wy6y+tFbR8cIIRtjAkI2fLO8kiPpnL33+UjyCj/23v9NS2NmvRMg/bXlzLcDNsyNNK0zEC8rylOf9c7atT7Be0tKZrLy0S099IpGZZBdKVg3O0Kaqyhmwd1uTx9wd//GJGV57X9XpFLqf14nhozmz6R0MLmX/w9L79Vnj+OHRnD/gU4nlBZpMpIqIwNL/c+LX7cIWclLu7fJfRX+iwAC9hEg+LOPO70igMALL1BSoNm2Ok76H/Ffv7HtHA0zZmW5rqRA80zmm5jbfLYHGpXhwA/JljUKpP+9ljZKO/BDcnZqff/nXhDEDeZi5Yoju9I2zI38eHjQHHfZjAF3J/f2n9rnztE96cLvTBGf7R0/pjWdVjjrk7VgeNCHg2RrZ0fYbrloaZHG56eU+UODZr4TsG113O/+I/Fj7kcwVpbrinLV+Vmqwlx1SYGmokxnudz7MZc/+uWSQs3tc/mHf04745UVH1Fm3w95UZ76qxpzV6VFap+MCj7rnVX/gECvE0oKNKG3ig78kLxqinzeELGmxPT+dyf38v/QXRZys8iKJD2x8rdNyRvmRq6eHr5tdVzIraInmmVj1dpL+1B2pXCup8wcoUqT+Cb1FBfazx8WtPi9kPVzInetT/DbkXbONyvwWmHyvfL8LJVpErROp/s9GcfvoI4LL/t0dLDlvDNzKrF6enjA5QKrXLiOLjRqQ16m6uaZvJ1r45eMDf1ocOCsgQFT+4rh9bLxoVa/dQXBGBFQ8vO6+DUzw9fOitj7XVJKzOPX1Nfau1Zj2PddUs08xfxrX5wP2MN//tCgXesTYkIVv8NWrxfKS7UFOar8LFVRnrq0UFPPicC1Dtj8pCAYs1OVF/2yD/+cdvloTmaysmYiZj75eR4IBkFVpS9XaEuLNMUFmoIcVV6WKjO5MvleefK98pTYipz0qvysao2SQk1ZiVZZodOqDdIvCoNB0KgNleW60iJNfrYqJbZC7l989Xjuib0ZV4/n1r04XaXUFxdo8rNUBTmqkgKx5d8XB1txVVXqw24XH9uTfvzXdLl/LXGtTif8jt9ypYWay0dy1n0YsWhMyOblMXcuFjzqL0Sl8aTFVyxRxcUeAAAgAElEQVT/4MFCDfN3bWIP/xUTxR0qKh8RGlrdjtFo1GoMBTmqOxcLdn+ZsGy8+HWbPTBgWj/x6/bJ6ODkmN8/37xmXzyDAAII1FOA4K+eUJyGAAIIPLFAZbkuJbYiOab8mfw55Im7b6gXFGSrag9NTH/ZvnRc6JFdaSmxFY/6f3S1Svxf6qDrRd5bUr6YES6VgzRv3yb9CfODbrd3fBH3TP5M8hwUdVpDVooyMaq85gTJZ9u7TmtIjauIlJUoip9s7duzHcaL0VpMqGLRmFoKbk7sIebO62ZHXDqck5te9aiqCMoKXVaq8ubpvD1fiX8ytFqxKK0tndzL/8KhWmpQGgxCZbmuXPFs/tT9YrwdT3oXOp0QcLng+8X3Pp8q//rjqF3rE3y3pp4/mB0bpsjLrCot1FSW6+w+MUcwGKtrO9SYiDTBVJ3mx2UxsiuFxfnqWodqMCViyTEV5w9mbVkZ+8moYHGnS3G1ZvVml9I01dnvBsTcr+dgyajTGioUuoqnnsyYllD52RS55RZ10vw+U/0T2boPI07sy0iNq2gsv64tiThu+AJixFmoqed6izsXC2rdBGBid3HC4HefRt8+l1+Yq671s2owCBVlurT4ikuHc7atjls0JmRaP3EdutXXbcaAuyG3rP86p+EzMkIEEHgBBAj+XoA3kVtAAAEEGplAckzF59Pkte79JE1v+WhwoLRc68S+jLM+WRcOZV89lnPOJ+vQ9tQfl8d8OjpkxoAHWzuZ/2befPBBt9vbVzea4K+RvXkM1yQgCMaAywUfDwuq9WM8ofvtKb3vfDIyePOKGL+daacOZJ71ybp0OPvKsZzTv2V6bU75+uOoj4cFTe3zIIgxf3rNB5N7+Z/3zcLbdgIqpb68VJwPVWtwZrt+69+yRm04uifdcoNO88dDis+m97+7bHzoz+sTjuxOP+OVec4n68rRnMtHck7szdj7XdIXM8LnegZO6mXana1Gelgd/A0MuBfyyBK69R9qHWcmx1Rs+zxu3pDAaf3EGdmzBgasnh5+5Oe0mFDFc66VUccgeQkBnU6cgD/znQCrLVzFL52pPPS0fneWvB+yY038kV1pZ34Tv26Xj+ZcPppzcl/G/u+T1s6O+Ghw4GTz163GN25iD38x+Ksxjxt5BBBA4DkIEPw9B2S6QAABBBCwFkiKLl83+xHV90y7vE/oLm5Gbp4nMrm3uGGi+ZlHrR2T/ig7ra9YsPh3LA6yHiWPEXi0gMEgzhr7dIxYXdQcx1geiNGMqRCENCN1ci9/8c+E0gfbNOvK8mSr4wndb88bHBjmX/zo/nnlpRBQVemP/5o+a2BA7R8zqeRIdb0RcSpf9cfMVMnBsmyC1QdMejih++1VU+XZafXdYOF3i6tV+rSEyjsXC64ez4kMZNLx74bkQtsKaDWG875ZYhnlR/1WN+0YKO2A+eDrVu/f6kvHhabE/c6F87a9c1pHAIEXXYDg70V/h7k/BBBAoKEK5GZU7f4yYWaN6nu1/gH18U+a6qhM6H57rmfg8V8zWF7dUN/2F21csXLFNwuipV3kH/8p7Wm9ebzVJWJxCVMmuHRc6J2L+Q1kW7EX7T1rbPej1Rr8z+evmBgm1R6x+sz8jofSbMHJvfy//Ciy1hLwjU2I8SLwzAT0eiH4RtHq6eHStq2/4/tldYn0dZvU03/NzPCooNLfV/3pmd0eDSGAwMsqQPD3sr7z3DcCCCDQAATUKkPg1cKv5kWJax5Nu7xb/R9z3Q+lPwabttHxn97/7sfDgrauiosKKiUuaQDv7Us0BEWx9sKh7OUTwsS9+R4xT6SOT7IU9k3oJk4bnPl2wKL3Qn7blJyRVPkSCXKr9RDISavy3ZoirS6vY8rzoz5pUvowodvtyb38Z78b8NkU+ekDmY2l+nk9eDgFgWcpUJCtOro7/ZNRYnWdp/y6zRoYsHxC2LE96QXZqmc5RNpCAAEEnkSA4O9JtDgXAQQQQMAGAopi7eUjOWtmRkzv/2Az7Dr++Gr+E+yMAXcXjQnZuir21P4M2ZWCrBTlo2op2GDUNInAQwI5aVWHd6UtHRc6pbdp5z7TFNS6PsamJWNSPesVE8N++Trx/MHsMP/igmyVXv+c6sY+dAM8aPACBr0QH1G256vE+cOCpE3HxEiixlZi5k+dOVOe3Mt/rmfg2lkR3ltSrhzLiQlV1L/wdINXYYAI2ERAEIzJMRX7v09aODJ4Us/7G2XW4+s2qaf/HHfZ6unhB35IvnwkJyqotKRAw0Q/m7xJNIoAAvUWIPirNxUnIoAAAgjYUkBRrJVdKdzzVcLScaGz3w2Y3Evc0e/BT9fbH3QV/+J95jsBC4YHff1x1MHtqcE3igpy1Bq1wZbjom0E6isgCMb8LNWVYzlbVsYuHBk88+0AcWPKrtYfY2nK1aIxIT8ujzmxLyM6uLS0UMM01foqv/Tn6bRCalzFyf0ZX8+Pmj80UPz7ku7ir8fq35amX5UfdLs9te+duR6y5RPCfl4Xf9EvOzmmokKhI3146T8+ADyZgF4vZCRVnvHO+u6T6I+HBU0fcHdibV+3KX3uzHGXLR0Xuv2LuHM+WQmR5eWlWoH/N3kybM5GAAEbChD82RCXphFAAAEEnlRArxOKC9QxoYpLR3KO7E733Zq6b2PSwW2pfjvTjuxKO+ebJb9TnJtRxRZ+TwrL+c9TQKMy5GWpwvyLz/pkHf45zXtLyv7vkw7tED/GR/ekXzkqTrkqzFWrVfy58Hm+LS9aX8oKXWayMuBywcn9mX47037blPzbj8l+O9P8dqYd/zXj5pm8pHvlpUUanZaP2Yv21nM/z1+gSqnPTlUGXis8/Zvp6/Zj8m+bkv12ir/Vj/2SfuNUXkJkWUmBRqvh6/b83xx6RACBxwsQ/D3eiDMQQAABBOwoQHFeO+LT9bMSEAys3n1WlrRTu4AgGJnQVzsNzyLwrAX4uj1rUdpDAAHbChD82daX1hFAAAEEEEAAAQQQQAABBBBAAAEEELCLAMGfXdjpFAEEEEAAAQQQQAABBBBAAAEEEEAAAdsKEPzZ1pfWEUAAAQQQQAABBBBAAAEEEEAAAQQQsIsAwZ9d2OkUAQQQQAABBBBAAAEEEEAAAQQQQAAB2woQ/NnWl9YRQAABBBBAAAEEEEAAAQQQQAABBBCwiwDBn13Y6RQBBBBAAAEEEEAAAQQQQAABBBBAAAHbChD82daX1hFAAAEEEEAAAQQQQAABBBBAAAEEELCLAMGfXdjpFAEEEEAAAQQQQAABBBBAAAEEEEAAAdsKEPzZ1pfWEUAAAQQQQAABBBBAAAEEEEAAAQQQsIsAwZ9d2OkUAQQQQAABBBBAAAEEEEAAAQQQQAAB2woQ/NnWl9YRQAABBBBAAAEEEEAAAQQQQAABBBCwiwDBn13Y6RQBBBBAAAEEEEAAAQQQQAABBBBAAAHbChD82daX1hFAAAEEEEAAAQQQQAABBBBAAAEEELCLAMGfXdjpFAEEEEAAAQQQQAABBBBAAAEEEEAAAdsKEPzZ1pfWEUAAAQQQQAABBBBAAAEEEEAAAQQQsIsAwZ9d2OkUAQQQQAABBBBAAAEEEEAAAQQQQAAB2woQ/NnWl9YRQAABBBBAAAEEEEAAAQQQQAABBBCwiwDBn13Y6RQBBBBAAAEEEEAAAQQQQAABBBBAAAHbChD82daX1hFAAAEEEEAAAQQQQAABBBBAAAEEELCLAMGfXdjpFAEEEEAAAQQQQAABBBBAAAEEEEAAAdsKEPzZ1pfWEUAAAQQQQAABBBBAAAEEEEAAAQQQsIsAwZ9d2OkUAQQQQAABBBBAAAEEEEAAAQQQQAAB2woQ/NnWl9YRQAABBBBAAAEEEEAAAQQQQAABBBCwiwDBn13Y6RQBBBBAAAEEEEAAAQQQQAABBBBAAAHbChD82daX1hFAAAEEEEAAAQQQQAABBBBAAAEEELCLAMGfXdjpFAEEEEAAAQQQQAABBBBAAAEEEEAAAdsKEPzZ1pfWEUAAAQQQQAABBBBAAAEEEEAAAQQQsIsAwZ9d2OkUAQQQQAABBBBAAAEEEEAAAQQQQAAB2woQ/NnWl9YRQAABBBBAAAEEEEAAAQQQQAABBBCwiwDBn13Y6RQBBBBAAAEEEEAAAQQQQAABBBBAAAHbChD82daX1hFAAAEEEEAAAQQQQAABBBBAAAEEELCLAMGfXdjpFAEEEEAAAQQQQAABBBBAAAEEEEAAAdsKEPzZ1pfWEUAAAQQQQAABBBBAAAEEEEAAAQQQsIsAwZ9d2OkUAQQQQAABBBBAAAEEEEAAAQQQQAAB2woQ/NnWl9YRQAABBBBAAAEEEEAAAQQQQAABBBCwiwDBn13Y6RQBBBBAAAEEEEAAAQQQQAABBBBAAAHbChD82daX1hFAAAEEEEAAAQQQQAABBBBAAAEEELCLAMGfXdjpFAEEEEAAAQQQQAABBBBAAAEEEEAAAdsKEPzZ1pfWEUAAAQQQQAABBBBAAAEEEEAAAQQQsIsAwZ9d2OkUAQQQQAABBBBAAAEEEEAAAQQQQAAB2woQ/NnWl9YRQAABBBBAAAEEEEAAAQQQQAABBBCwiwDBn13Y6RQBBBBAAAEEEEAAAQQQQAABBBBAAAHbChD82daX1hFAAAEEEEAAAQQQQAABBBBAAAEEELCLAMGfXdjpFAEEEEAAAQQQQAABBBBAAAEEEEAAAdsKEPzZ1pfWEUAAAQQQQAABBBBAAAEEEEAAAQQQsIsAwZ9d2OkUAQQQQAABBBBAAAEEEEAAAQQQQAAB2woQ/NnWl9YRQAABBBBAAAEEEEAAAQQQQAABBBCwiwDBn13Y6RQBBBBAAAEEEEAAAQQQQAABBBBAAAHbChD82daX1hFAAAEEEEAAAQQQQAABBBBAAAEEELCLAMGfXdjpFAEEEEAAAQQQQAABBBBAAAEEEEAAAdsKEPzZ1pfWEUAAAQQQQAABBBBAAAEEEEAAAQQQsIsAwZ9d2OkUAQQQQAABBBBAAAEEEEAAAQQQQAAB2woQ/NnWl9YRQAABBBBAAAEEEEAAAQQQQAABBBCwiwDBn13Y6RQBBBBAAAEEEEAAAQQQQAABBBBAAAHbChD82daX1hFAAAEEEEAAAQQQQAABBBBAAAEEELCLAMGfXdjpFAEEEEAAAQQQQAABBBBAAAEEEEAAAdsKEPzZ1pfWEUAAAQQQQAABBBBAAAEEEEAAAQQQsIsAwZ9d2OkUAQQQQAABBBBAAAEEEEAAAQQQQAAB2woQ/NnWl9YRQAABBBBAAAEEEEAAAQQQQAABBBCwiwDBn13Y6RQBBBBAAAEEEEAAAQQQQAABBBBAAAHbChD82daX1hFAAAEEEEAAAQQQQAABBBBAAAEEELCLAMGfXdjpFAEEEEAAAQQQQAABBBBAAAEEEEAAAdsKEPzZ1pfWEUAAAQQQQAABBBBAAAEEEEAAAQQQsIsAwZ9d2OkUAQQQQAABBBBAAAEEEEAAAQQQQAAB2woQ/NnWl9YRQAABBBBAAAEEEEAAAQQQQAABBBCwiwDBn13Y6RQBBBBAAAEEEEAAAQQQQAABBBBAAAHbChD82daX1hFAAAEEEEAAAQQQQAABBBBAAAEEELCLAMGfXdjpFAEEEEAAAQQQQAABBBBAAAEEEEAAAdsKEPzZ1pfWEUAAAQQQQAABBBBAAAEEEEAAAQQQsIsAwZ9d2OkUAQQQQAABBBBAAAEEEEAAAQQQQAAB2woQ/NnWl9YRQAABBBBAAAEEEEAAAQQQQAABBBCwiwDBn13Y6RQBBBBAAAEEEEAAAQQQQAABBBBAAAHbChD82daX1hFAAAEEEEAAAQQQQAABBBBAAAEEELCLAMGfXdjpFAEEEEAAAQQQQAABBBBAAAEEEEAAAdsKEPzZ1pfWEUAAAQQQQAABBBBAAAEEEEAAAQQQsIsAwZ9d2OkUAQQQQAABBBBAAAEEEEAAAQQQQAAB2woQ/NnWl9YRQAABBBBAAAEEEEAAAQQQQAABBBCwiwDBn13Y6RQBBBBAAAEEEEAAAQQQQAABBBBAAAHbChD82daX1hFAAAEEEEAAAQQQQAABBBBAAAEEELCLAMGfXdjpFAEEEEAAAQQQQAABBBBAAAEEEEAAAdsKEPzZ1pfWEUAAAQQQQAABBBBAAAEEEEAAAQQQsIsAwZ9d2OkUAQQQQAABBBBAAAEEEEAAAQQQQAAB2woQ/NnWl9YRQAABBBBAAAEEEEAAAQQQQAABBBCwiwDBn13Y6RQBBBBAAAEEEEAAAQQQQAABBBBAAAHbChD82daX1hFAAAEEEEAAAQQQQAABBBBAAAEEELCLAMGfXdjpFAEEEEAAAQQQQAABBBBAAAEEEEAAAdsKEPzZ1pfWEUAAAQQQQAABBBBAAAEEEEAAAQQQsIsAwZ9d2OkUAQQQQAABBBBAAAEEEEAAAQQQQAAB2woQ/NnWl9YbkYC6pCz54KW0EzcMGm0jGjZDRQABBBBAAAEEEEAAAQQQQAABBGoVIPirlYUnXzqBqvySu/M3+r4x9Pygj5U5hRpFRWVGXkVajjKnSK/WvHQc3DACCCCAAAIIIIAAAggggAACCDR+AYK/xv8ecgdPLWDQ6SM2evm+MdTbweNYuwkBCzddGr74eKfJxztMPNVjxp2Pvsu6EkT899TMNIAAAggggAACCCCAAAIIIIAAAs9VgODvuXLTWcMUKAyNPdF5ireDp89rg31e9fRu4i7+NHX3buoh/Rx2ez907R5VkaJhjp9RIYAAAggggAACCCCAAAIIIIAAAjUFCP5qmjTcZwSDoFOqDBpdwx1iIxyZQasLWb3L51VT6vfaYG8HD983hx1t88EJ04y/Q81Hejt4eDt4+r45NPizHbrKqkZ4iwwZAQQQQAABBBBAAAEEEEAAAQReRgGCP/u/63qVRhCEx45DVVAS+b33zSlrA5duLU/Oeuz5nFBPgfLkrDN9Z3s7eEjT/S54Lkw4cLYkOlmZXVCempN67PqlYYt8xEDQ0895dOqx6/VsltMQQAABBBBAAAEEEEAAAQQQQAAB+woQ/NnT36DRJvlcvDXzy5gdR7UVdU0lE/T6iO9+83l9iFcTd9/XhyR5X7DnuGvr26DVZV8Nitrkk3tLLhgen2PW1oZ9nks+eOlgsxHiCt+mHsc7TMq/G2k1jvLkrOsTVksnXBu/Sl1SbnUCDxFAAAEEEEAAAQQQQAABBBBAAIEGKEDwZ883Je9u5LG2H3i9MsjPaVTq0Wt1DKUsKfN0H3FWmreD55Uxy8tTsus42S4v5fmHH+8w0euVQae6T8+9JbfLGH5Hp/oq9Z1533k3dT/s9t7Naesjv/fWq7U12ymJTj7bf453U48jLcfm3m40d1fzRngGAQQQQAABBBBAAAEEEEAAAQReHgGCP3u+18mHLh/853CfVwd7N3W/M29jrZGTNL4k30sH/znc28HjTL85RWFx9hz0I/pOPnTZ981h3q96ejt4XPD8pDQ29REnNqynS2NTT3af7tXE/dq4z6ryih/5FgjGyB98fF4f4vPa4OjNBxvWPTAaBBBAAAEEEEAAAQQQQAABBBBAoDYBgr/aVJ7Xc8URCad6TPd2EMOyi4M/rcovqbVnXWXV7dlfeTf1OOQ4sgEu8pXGXJmZd3v2V4ecRpmK4brfmvmlprQRLImN33va981hvm8MidlxtFZ885O5t+SH3d73auJ+56Nv9WqN+XkOEEAAAQQQQAABBBBAAAEEEEAAgYYpQPBnz/dFMBiiNx/0fXOot4PnsbYfFIXWPpWvIDD6WPsJXk3cL49apiootcuIBYNBXVJenppTHJFQEpWkKlLUHIamrDL9zO3bM7880XnK5ZFLKzPyap7ToJ7RlitvTlvn1cT9eIeJRWHxdY+tLCFDmht49f2VjSLTrPt2eBUBBBBAAAEEEEAAAQQQQAABBF54AYI/O7/FZYmZp3vN9HbwONhsRLLflZqjMWh1IZ//7POq58G3hsX/eqrmCeZn9GqNuqRMXVymr1Kbn6x5IOj1pbGpST4Xozb5Rv7gE7PzaPbVIGVukbHWghyCUJmZn3rsevBnOy4O+fR4x0lHW48/2nrcldHLFXFpNRs3Go26KrUyp1BVUCLo9bWe0HCeLI5IPN5psmmd7yqNoqLugSmzC869M8+rift5jwVVeUV1n8yrCCCAAAIIIIAAAggggAACCCCAgN0FCP7s/BboqtT+H37t3VSs2hGy+mdBb7AaUElU0slu07yauJ97+6Py1ByrV6WHlVkF8ftO+8/55sLgTy64L7g988v4vafFLK/GPwaNLn7fmRNdpvq+OdSribtXE3efVz39nEefe/uj+F9PWYZf6tLygqB74V/tO9Nvjri9YBN3cZDVP+6+bw5NOXy1RvOPeUKv1iji0tNP3UrYfzbxt3NZl2RliZm6yrrKGVu1qMwpzL4WkntLbjlUq3Pq/zDR6/zBt8R9CeVf7n1sJeKKtNwzfT8Ug79B85U5tdjWv1/ORAABBBBAAAEEEEAAAQQQQAABBJ6DAMHfc0B+TBdxv5wSy2I09bgyZrm6pMzybEFvCP96v89rg31eGxzx3W+CwToWNGh1aSdvXfBY4PuGGOSZ4jl376buvm8MufLeipLIpIdaMxgSfzt3pOVYbwcPH1MVjvtBnod3U/eDzUbcnvllSWSSYBAyzt+9NHzxkZZjq09zEE/wfWvYkZZjj7WfcKz9xAseCx67NvahrgWhSB4fsHDT8Y6TDjUf6fvGEN83hvo5jz7ecdKNyWtS/K6oix+6caPRWBqbmuh1vig83nzXxRGJV0Yv83MefdjtvcClWzWlj5mjZzmAmscGnT5o2VZx58TmI1KP1VVSWbq2ODLxWPuJXk3cr4xeVnO0NdvnGQQQQAABBBBAAAEEEEAAAQQQQMC+AgR/9vUXey8Iijna5gPvph7H2k+0qthbGpt2uvcs7ybuJ7tOLY5ItBqrXq2J2XH0SIv3TRMGPQ6+NfxYuwmHXd/zdvAUA7umHjenrlOXPKiwURgcc7LrNCn183Madbb/nOsTVt+YvPb8u/MPu70nhYBn+8+5t9XvdJ/Z3qbJgGLm+PqQE52nyBZtTvK5mC+LLkvMrEjNqcovfuwUOfNolTmFUZt8T3SZ6u0gTmwUK/82dfd6ZZD4YworDzYbcW38qry7kUaher2xXq25u+AHbwfPi0M+rczKNxqNyqyCq++v9G4qRZaeB5uNiNtzov5jMA/GfKAtV16fsNqrifuRVuMKgu6Zn3/UQfoZf7F0SRN3/9lf172Y+lEt8DwCCCCAAAIIIIAAAggggAACCCDwPAUI/p6ndu19qQpLLw1f4t3Uw/fNYXG/PNjFT9AbIr494PP6EO+mHnfnb9SrHqokK+gNCfvOHHYZIwV55wbOT9h/VhGXlnszLHDpT6bnPQ+3eD/3llzq1aDRihPcTLnbkZZjE/afVeWXaCuqdJUqVZEi95bcf843fs6jvV4ZdLDZCJ/Xh0jTDL0dPM/0/TA/MNo87a72e7j/bMm9lIQDZy3LeuTell8attj39SFiHPnaYG8Hz8MuY27P+jL82wMhn/98ccinh5qPNBUC9jjZdWrq8RtSR3q19s6877xeGXS0zfiSqCS9ShOyepfvG0OkGYimdjzOvzvfsqP7Q6jvf9XFZZdHLfNq4n6iy5RH7Vdobsug1QV/ttPnVU+f14fc2+pnfp4DBBBAAAEEEEAAAQQQQAABBBBAoMEKEPzZ/60R9PrQ1btM8+A8bs3YYN7zrnq6X1OPQ44jU49dtxpo7s2w450mezt4+L459NaML8sSM8wnaBQVV8d+Jq3eTTlcXTCkMjP/3Nsfiee/PiRs7R6DRmc+XzrQVaoyzvoHr9xxd/7Gi0M+FUMu08+RVuPCv95fkZ5rdX7Nh3qV+s5H33k7eIat+8WgEyt7GDTagAU/eL0yyBwjHms/MeHAWZ1SJV4uCKrC0rQTN66O/Uzca6+px/FOk7MuB4mv6A1BK7Z7NRGDv3xZVPTmg4ccR3k7eEgTFcU9B1/19HManXH2Ts1h1PMZdXHZldHLvZq4H20zvkj+mJK+pTEpp3rOkGZlFobE1rMLTkMAAQQQQAABBBBAAAEEEEAAAQTsKEDwZ0f8B11nnL3j5zTa20Fc7SstO7Wc7ndp2KKqhyt1qIvLbkxeI62cveCxsCDonjnI05Yrk3wuHms/UYzJnEdnXpRJ3RQExxxpNc67qcfp3rMV8ekP+n74SDAY9BqtIj791vQNvm8Nk6YT+rw+5NzAeXF7TiqzCx4+/aFHusqqG5PXeP3Pu9c++FxbrhSDP50+aMV2sZHXBnu/6nl2wNzsK0E1Jw+qihSha/Ycaj7Cu6n71bGfqYsUBq3u7sffezVxP+w65sbkteIExqbi7URvOVSRmnN3wQ9ikviqp/yrfcL91cEPDaUeD7QVyusTv/Bu4u7nMib7WnAdVwgGIfJ7b3HSYlOPm9PWS7dWx/m8hAACCCCAAAIIIIAAAggggAACCDQEAYK/hvAuGCvSc8+apuP5vDY4/Ov9RqOxODJJnGLm4HHwrWFxe05ajTLF78ohp1HSulc/p1Gneszw//Br+Vf75F/uuz5xtZ/zaGmPv4tDPlVmVUd1WZdkfs6jvZu6Xxm1zKqEiFXj0kN1kSJm57EzfWeLmZ2pmK/vm0PPvzv/3rbDZUmZtW6up1dr/Od+6/XKoAueC6vyiqV2YnYe831DXOd7vNPknBuhtfZlNBo1iorbs77ybupx2O293FthepXm5tR14o5+poDP28HzUPORkT94S+udc66HHHYd49XE/fbsr61WQD+q/ZrPGzTau/M3ejURKxTH7j5R8wTzM6UxKWf6zDaVARmZ7Fc9g9L8KgcIIIAAAggggAACCCCAAAIIIIBAwxQg+GsQ74tBqwtavk1a7SuWs8jMl3+5t3onO/cFVstsNSXl18Z/LnYdpc4AACAASURBVO0JeLrXrEOOI6USGV5N3MWDph5SO0fbjE87edN8e6nHrpun1GkU9a2HW5acFb3l0AX3BWJdi6YeYsWP14ec6jkzbP0vxZFJgv6hKsOCXh+0fJvXK4OOt59YHJEgdR27+4TvG0O9m7rfnvWVXqU2j8f6QBBC1+zxbupxsNmIlMNXteXK6lIeporGvm8MDVqxXVshziI0Gk056YC5Xq8MMk8ttG6tHo8FgyBf/6u46WFTj+sTv9CUPqiCYnm1TqkKXLJFSj+vvreiKr/E8lWOEUAAAQQQQAABBBBAAAEEEEAAgQYrQPDXUN6a7CtBYmldB89DjiPvzNt4svt0cbrfP4fXnO6XdyfiSKux3k3F6hZF8viE/WfPDpjr+8ZQc/zn+9awcwPnpZ24KW20J91h4m/nTPvoud+YvMa8jWA9b16VX5J5/u6deRuPthYXC4u1OF71PNF5inzD3oqMvAeNCMaIjV4+r4old1OOXJWej911XBqb7NPNluN5cJXpSJlTeGn4Yu+m7uLy5AsBqoLSCx4Lq9cIO3hefX+l5SpjbUXVjUlfeL0y6OLgT54micu8KDvsOsbbwdPPaVStU/kEvT7+11PiTEkHj8Nu72ec8bcaNg8RQAABBBBAAAEEEEAAAQQQQACBBitA8NdQ3hpVkeLK6OVS1GVa3zrY28HjgufCysx8qyHG7Tnp++ZQn9cHR/7gI71UkZ6bcOBs8ModskWb5Rt+Tfa7UrPcbexuMYATZ7fd34DPqtnHPtSrNfl3I2WLNh9rN0HcXrCph8+rnldGLyuOSDRfG/fLKd83h3o7eIR+sUuaD5jodV4KHK9/8PmjZtVV5RcHf7ZDqu9xbfwqVWFpWVLmKTH69PR+1fNYuwlWa4TFrQOXbfVq4n68w4OpheYx1P9AVVgqmXs7eJwfOL80JtXyWr1KHb/3tJh1Onj4vjEkZPWuumYsWl7JMQIIIIAAAggggAACCCCAAAIIINAABAj+GsCbcH8I4uS4N4dJBXB9Xhvs++bQmO1H7r9Y/V/BIISt3WMq5jssYd8Zy1cFg1DHlDpz8Ge5AZ/l5VbHFem5yX5XyhIzrGpxGDS6wuAY2eItR9t8IG0yeHnUsoq06pq/1QuKm7jfnLpOKt1bHJl0ostUbwePQ06jIr79TVXwYKmsXq2pzMpPOXz1yujlYlzY1P1M3w+l2iYFwffEWY2vevq8Njj0i10GjdZqePF7T/u+OfRQ8xGpx63rHVudWffDuN0nxBTVVL/42vhVJVFJBq1Or9IURyYFLvnJz2W0t4NY3fjm1HXKh+ur1N0sryKAAAIIIIAAAggggAACCCCAAAJ2FyD4s/tb8GAAivj00z1niknTa4O9HTxP9ZihiEt78LLpSBCEsHW/mOr5etyZt1Ff9ehd8x6+Ulpy6+3gebTN+ILA6IdftH4kCELkRi/fN4ed6jE9dtdxbUWV1RmCXp8fEHXBY4E4RfH1IZE/+EjlPnKuhfi5iGU3bs3YoDONzaDRBn+2U9x20MHz4D+HXxzyaejqXRHfHpBv2Os/55vTvWcdbDZcXKTs4HF+0Me5t+RSRwXBMUfbjPdq4n62/9xaaxDnB0SJRYodPEJW7TRodVbDq//Dyoy8i0M+ra4i8trgUz1m3P34+9uzvzrecbIUa/q8Nvj6hNVlSZn1b5MzEUAAAQQQQAABBBBAAAEEEEAAgYYgQPDXEN6F6jHoVZo7c7+VQijvpu7Xxn+uLa8uZ2E5yuRDlw82GyFGeK3HZV4IsHypjuOE/WfFWXWvevq5jMm+FlLHmUaj0aDTBy7e4vXKIHGmXvORt2d/nXbyliI+XZldoMwtUuYUlSVmpp28dd59gak4hvvNadXz+0rupRzvNNnrlUGyxQ929CtPzro+YfXBt4aJ5UdeGST+/I/px3Ts89rg4x0mBa3Ybhnw6apUkd97H2v7QezPx4yCUHO02nLlnXkbvV4ZdHnEEnVxWc0T6v9M7i352f5zxATTlE6KOxg2FYNI76Yefs6jg5Ztq7nauv6NcyYCCCCAAAIIIIAAAggggAACCCBgLwGCP3vJ195vzI4jUgFZP6dR8XtPS9PorE6tzMwXJ6k5eHg7eJ5/d35BcIzVCZYPDVqdurhMVVBaFJ5w9u2PvP7n3YuDP1FmFVieU+txxvm7xztONtcIPtR85LF2E453mnyi8+QTnSYfaz/hkONI0wpZcS/C4M+qp93pKqvuzv/+4FvDYnYes2xWVVCS7HclcOnWC54Lj3eafLzDpOMdJp3uNfP27K9idx2XFthanm80GnVKVWFIbB0FiAtD4y4NXRS1yUev1lhd+6QPi8Liro1f5fumKZo0VUY+7Drm6nsr0k/dkuYtPmmDnI8AAggggAACCCCAAAIIIIAAAgjYXYDgz+5vwUMDKEvMvP7B58c7TpJv+LWOyCn12PXDrmIJYG8HzzN9Zyf5XFQVlFo2pKusKkvMSPK5GLBw0wWPhad7zUw7cSP3lvzux99nnPU31jKFzvJq8VjQG/LuRN6Y9MUhx1GmSXDiDLiHfsQ5ce4+rw+5+v5Ky8l65anZKUeuVmZZ1yQxtalXF5dVZuZXpOZUpOdW5RU/TbkMwWBQl5Tpa2z/Z30n9XusKihN9DofvGJ78IrtUT/65twI1ZRW1O9SzkIAAQQQQAABBBBAAAEEEEAAAQQaogDBX4N7VzSKCmVOYR2pn9Fo1Ks0UZt8/JxHi0mcg8ehZiPEvfO+2B25ySdqk0/4V/tuTF5zvNNk37eGeTdx92ri7vOqZ9yvp8Q1vBqtUNvK2UcpaBQVGWf9ZYs3n+0/51jbD462Hmf6GX+s3YRT3affmLwmbs9JZU7hoy5vdM8LBoNVMZNGdwsMGAEEEEAAAQQQQAABBBBAAAEEEJAECP4a6ydBr1Inep0/02+OuDOdOBdPDPi8mph20HtlkFguQ4r8Xh98pNVY/znflCdn/e5bNej0qvyS0tjUInm8+BOeUJaYocwp0lWqfnebXIgAAggggAACCCCAAAIIIIAAAgggYFMBgj+b8tq88bLEzIiNXucGzjvc4n3fN4d5v+rp8/qQg81GHG097tw78wKX/BT3y8mCoHu6SuuyvDYfGR0ggAACCCCAAAIIIIAAAggggAACCNhVgODPrvzPpHNBqMovyQ+ISvK+ELPzaPze06lHrxXJ41UFpYJO/0x6oBEEEEAAAQQQQAABBBBAAAEEEEAAgUYnQPDX6N4yBowAAggggAACCCCAAAIIIIAAAggggMDjBQj+Hm/EGQgggAACCCCAAAIIIIAAAggggAACCDQ6AYK/RveWMWAEEEAAAQQQQAABBBBAAAEEEEAAAQQeL0Dw93gjzkAAAQQQQAABBBBAAAEEEEAAAQQQQKDRCRD8Nbq3jAEjgAACCCCAAAIIIIAAAggggAACCCDweAGCv8cbcQYCCCCAAAIIIIAAAggggAACCCCAAAKNToDgr9G9ZQwYAQQQQAABBBBAAAEEEEAAAQQQQACBxwsQ/D3eiDMQQAABBBBAAAEEEEAAAQQQQAABBBBodAIEf43uLWPACCCAAAIIIIAAAggggAACCCCAAAIIPF6A4O/xRpyBAAIIIIAAAggggAACCCCAAAIIIIBAoxMg+Gt0bxkDRgABBBBAAAEEEEAAAQQQQAABBBBA4PECBH+PN+IMBBBAAAEEEEAAAQQQQAABBBBAAAEEGp0AwV+je8sYMAIIIIAAAggggAACCCCAAAIIIIAAAo8XIPh7vBFnIIAAAggggAACCCCAAAIIIIAAAggg0OgECP4a3VvGgBFAAAEEEEAAAQQQQAABBBBAAAEEEHi8AMHf4404AwEEEEAAAQQQQAABBBBAAAEEEEAAgUYn8JyCP71SqS0sFHS6RgQkGAyCRtOIBvyiDlXQ6zX5+dqCAsFgeFHvkftCAAEEEEAAAQQQQAABBBBAAAEEnrnA8wj+dKWlyStWRAwalPL554UnT6rS0w1q9TO/k2fboKDV5nl7Jy9dWhEe/mxbprUnEhD0+vyDByPefTdy8OCSy5ef6FpORgABBBBAAAEEEEAAAQQQQAABBF5mgecR/KlSUsLfflvm6Chzcgpq3Vrev3/iJ58UHD2qzspqsHO4lHFx8v79A5o1i//wQ31Z2cv8EbHvvavS0yPc3cUPT/PmKatXC3q9fcfTyHoXBG1BQUVERPGFC6U3b+rLy63Gr1cq8319M77/XpWSYvWSrR8a1OqCY8fSv/1WGRtr675oHwEEEEAAAQQQQAABBBBAAIGXU+B3Bn96pdIyglHGxOT7+ipjYjR5eZWRkSWXLpVculSVmGgUBKPRKGg0WT/9FNy2rczJKdDFJdDZWUwAW7WKcHdP++qr8pAQg0rV0PSLTp0KbtNG5uwc/s47qtTUhja8l2c8pTdvhnTsGOjiInN2TtuwocEmxQ3tHdFXVJTJZOlffx05dGho167B7dqFdOiQvHy5TqGwHGrlvXthPXvKmjdPW7dO0GotX7L1sSo1NXzgwIBmzZKWLGmAvwFsffu0jwACCCCAAAIIIIAAAggggMBzEHji4E8wGEquXYufMydt/frc/ftzDxzI3rkzatiwQDe30O7d5X37hnbrFtyuXXDbtpGDB5cFBkr3YFAqC44ciX7vvaDWrcX4z9lZSgADnZ1Du3VLXLiw9MYNvVL5HG64nl3keXsHtWwpc3K69/772sLCel7Fac9cIGv79kA3t0BX10BX16ytW595+y9YgwaNpioxMe+33+KmTw/p3FlmCtllTk7ij6OjvE8fMY63+KciPDy0a1eZk1P0e+895895VUKCvF8/mZNTpKenOivLYlAcIoAAAggggAACCCCAAAIIIIDAsxF44uCvLCBA3r+/uPTS2VmKY6ojPFdXaVqW+Lyzs8zZOaBZs+SVKy2nEWkLC4tOnUpavDh8wICg1q3N58ucnEI6dkz4+GPFnTuW5z+bW6ytFUGjqUpI0Obn1/ai+Fzmli3SfaV9+aXl3MZHnc/zthDQFRfHTJokfdKCWrTIPXDAFr28GG1qi4qKz51LWrxY3rdvYIsWYtJnSv2C27e/9/77cbNmyfv2TV66VFdSYnm/FRERod26yZycIjw91dnZli/Z+rgqMVH8TeLkJO/f3yqOtHXXtI8AAggggAACCCCAAAIIIIDASyLwxMFf7r591ct1pclE5vjPNCcrpEOH0K5dQ7t2DevdO3bKlKIzZ2qmZoJWW3L1qrxfv5DOnaOGDw/p0kVa/Ctzdg7t2jV1zZqqpCTb6gtCvp9fWO/eMR98UGvtDkGnS/n8c5mjY3C7dsUXLth2MLT+aIGSS5ekdb6BLi5BrVsXHD366HNf3ld0CkWBn9+999+vXk1vit3Fb1OXLgnz55dcvaorKdFXVKjS0mru8fcg+Hv3XXVmpoQo6PUGpdKgVtu0DLc5+Avr00cZH1/dtcEgdq1S2bTrl/ezwp0jgAACCCCAAAIIIIAAAgi8ZAJPHPxVRkffGzdO3rdv1MiR8XPmRI8eHdSiRaCLS3Dbtmnr15fevFkhl1eEh6tSU/UVFbVjCkLGxo2BLi5hvXop/P3Lg4PTvvwy/J13Al1dpU0AI4cOLTx50qDR1H75Uz9rqKqKnztXnLTo6Jjy+ec15xjqlcr4OXPEpZH9+1clJDx1hzTwewR0CkX8nDniqnDTZNLgtm2Lz5//PQ29oNcIBoMyJiZn9+646dPF/ShNG2iK/3ZzCx8wIHXNmjKZzFBVVffdV0ZFhXbrFujsHNKhQ+aPPxYcOZK1dWvq6tXxc+YkfvJJymefZW7ebA4E627qSV+tSk4WZ/w5Owe3bZv+9dcFR49mbd+eumZNwty5iQsWpKxcmfH99zb/O4AnHTTnI4AAAggggAACCCCAAAIIINCoBJ44+DMKgq6kRJOToyspMahUZQEBoV26yJycwgcOVKWn1+veBSH9229lzs5BbdoUnTolXmIwVCUlZW7aJB8wQJr9F9KxY/q332qLiurV4BOeZFCpEubPl9ZC3hs3TltcbNWAOisrcvBgmaOjuMGfbcZg1SMPawoUHDkS3K6dOL3UFPyFdOhQevNmzdNe2mdKb94U43IXFynyE8O7jh3vjRuXs2tXVWJizZm2EpRBrRa/v/n5VUlJJVevpq5dG9y2rYQc1KKFtK+llInLmjcPaNYs0MUl39f3mSALGo2utFSbn69KSSm9cSP9m2+qp3O6uga2aBHUqpW0EWF1782ayZo3z96585l0TSMIIIAAAggggAACCCCAAAIIvJwCTx78PexUHhwcYgr+YiZO1JWWPvziIx6ZZvyJwV+rVvmHDj04SRAqo6OTFi8ObtdOzDJatEhcuFBjg33H9JWVcTNnil2YivZWpaQ8GIPpqCwgQCyM4OiYuGAB9UatcJ7Pw6rk5KgRI8Td/UxpVKCLS2iXLuXBwc+n90bRS8amTeZ9NoNatkyYP19x+3bd30FlbGzy8uXRo0aFv/NOWM+ewe3bV+eqpnX6UoYofS9COnaUZvUmL1/+TCa9qlJSUlavjh4zJnzgwLBevUI6dKjeIfThrsUJgB06yPv0iRo+PGnRosrIyAb+XqjV6tu3b0dERBQXF+v1+gY+WoaHAAIIIIAAAggggAACCCDwsgk8bfCnuHUrpGNHmaNj8tKlQj0X55qDvzZtCqUZfxbqYv3fo0fDBw6UQo2EefM0ubkWrz+DQ2lCn1RZOLRr1/KQEKtGcw8cENcvu7o2/AlHgl6vUyi0RUU6hcJoMFjdSCN9aFCpUteskYIhcTn5qFEyJ6fQbt0qIiKe+R01XsCsbdvMsV1Qy5Zp69fXnfrpKyoS5s0T59OZyu+I10o/UvTm6hratWv0mDHJy5dn79pVeuuWOiNDnNWrVj+9uUGtTl6+XJpjW13R++GuQzp3jh45MmnJkuwdO0qvX1elp+uKi+uTuRs0Gl1Jibao6JEbCzz96OtsIT09vX379v/4xz+6dOkya9asbdu23bp1Kysrq7Kyss7reBEBBBBAAAEEEEAAAQQQQACB5yHwtMFf0dmz0lLBzC1b6jlewWBI/+ormZNTHbu2Kfz9Izw8pOwv5bPPahYlqGdftZ6muHMnpHNnKfUIbt++5MoVy9MErTZ5xQqx0HDnzoq7dy1fqnks2C9r0yuVJdeupa5Zc2/cuMjBg++NH5/21VflwcGPWuNZc/AN9pnic+fEGZdOTuFvv10WECBOz3R0fObBX2MHVMbHR7/3nvgdMa2GDmrVKnbq1OLz5x8V/+mKi++NGydzdDSvDg5u315cbOvmFujiEtKhQ+GpUzqFouaWl4/9nDz2WyDOsZ0xo7prU+wY3K5dSKdOgfe3B8338dGVltb3bw5MA9IWFRUcPZq0eHH0qFGRQ4bETZuWtX37898TUKPRXLt2bfHixW5ubn/84x//9V//9T//8z8dHR2HDh26YsUKb29vuVxeUFCgfhb56WPfCE5AAAEEEEAAAQQQQAABBBBAwErgaYO/PG9vaWuwhxbtWnXy8ENBr6+umVtnuQbFnTsRgwbJnJyCWrfO2b37GeZZObt3i4mDaaJTUKtWBYcPWw5Qm58fPXq0zNExauTI2icbCoIyISF3//6MjRtT167N2Lgx66efCo4c0eTlWbbzNMdiGdby8jpaqEpISFq0KKRDB3EWlcVPWM+eufv2PVGAUkcvdnlJGRMTNXy4uBK8devsn3/WKRRx06fXJ/gTNBqxloUg1GfYLwZgZXR03MyZ0u54Ypzn7Bzcrl3MxIl53t7qjAyrGaCCXp/v6xvWq1do9+6xkydnbd9ecvVq8YUL4W+/LU2ofLJ1tU/0LRCEotOn5f36hXbtGjN+fOaWLSWXLpVeuybupOnkFNKpU9mdO/V516rPMRgUt2/HTJwo3rijo/nzH+jiEjlkSOn160/Q1DM69fjx402bNv1fNf75t3/7t7///e9t27YdO3bs2rVrDx8+HBUVVVhYSA74jOBpBgEEEEAAAQQQQAABBBBA4DECTxv8ZW7eHOjsHNy+fem1a4/p6v7L4pS6Zctkjo5BbdoUnjhx/+la/lt8/nxo9+4yJ6ew3r0V/v61nPHkT+nLysTJR1KtWFfXQDe37J9/tmymLDAwtGtXcfHyihU1Zz8ZVKo8b+/wgQPFGsTNm1f/NGsW6OqavHx53WmdZS9iRRO1uiIsLM/bW3HnjmWsqbh9O/q992KnTi2TyawukR6Wh4REjxolLpk0zfYK6dw5tHt3cd6Ws7PM2Tm0a1e7ZB+1DvVJn9Tk58fNmiXdSPzcubrSUn1lZey0aXUHf6r09Ny9e5OWLEmYOzf9668V/v6CTldH1y8SoK6kJN/PL+aDD4Kkwr7OzmJW3rJlxKBB6V9/XRkZafnRErTa8rCwyuho8wdVX1ERO3ly3bw1JX/Ht0DQ6ysiIioiIsQ16aZ/DGq1tPQ4pGPH+n+7Bb2+8PjxsD59qhcOu7mFdu9unsArc3KKGj5cVWPXzpq38GyfKSws9PX1XbVq1ZgxY9q0afP3v//93/7t32rEgP/rz3/+8z/+8Y8OHTqMHz9+7dq1Bw8eDAsLy8/Pr3pc8eVnO1paQwABBBBAAAEEEEAAAQQQeHkEnir4EzSapCVLZI6OYb16Vd67V081g0qVuGCBGE+0apV/8GAdVwk6XeaPP0qVRuNnz37UGsY6Wqj5UoVcHtazp3l3M5mzc9r69ZbhSPaOHYFubkEtW+Z5eVldrisry9i4Mbh9eyl0CO7QIaxXL3m/fpGenmG9egW3a5e0ZIkqOdnqKumhGFgcO5a5ZYs6K0t6pvj8+bBevQJdXeX9+5vLVpSHhoprnJ2cxJrC48bVnEWojImJHjlS2qYtpFOnlM8/Lw8KqoyOztm9O8LdXVrFmbJqVc3IstZRNagnDWp1+jffBLZoIXN2jhg0qCI83Gg0isnUo4M/fXl5/qFDUcOHizmsNPPRtCg438/vUVP/XkhAXXFx4cmTcTNnihtumhJh6d9hffqkf/utOPvvEf8YlMr4OXPE4K9r14qwsEec9dDTT/MtsGxI0GiSly6VOTqGdOxYeuuW5Ut1HBdfuBDWs6d0d+H9+2dt3VoZHV0eFJT+9ddi/O3iEtSy5bMqQ1zHMB71kkqlys/Pl8vlPj4+n3322YgRI1xdXf/617/+8Y9/rJkD/ulPf/rb3/7WqlWrUaNGrVy5cv/+/QEBAdnZ2RUVFY9qn+cRQAABBBBAAAEEEEAAAQQQeCKBpwr+9OXlYijTvHnU8OG1r4qtbSzm4C/QzS3nl19qO+XBc6r09MihQ8X1gB071n9S4YPraxzl/PKLtM43qE2bQDc3mZNT3IwZ5glQutLS2ClTpAlQVkU/dApF6tq10rLK0K5dU9esEasQpKRo8vI0OTmJCxdKqw5TPv+81noI1QFW8+aZmzYZBUFfWZn4ySdifmHaoC1nzx6j0ajOzo6dNEl80tU10MUluG3bojNnLO9AW1wcP2eONNFP3r9/4YkTlgFf7r59UkgaN326vWodWI72SY+LTp0K6dRJ5uwc0rlz4fHj0uX6ioo4U/An79NHGRdn2aYqPT1p0aKg1q2lGEgqRytzdAz45z8TP/5YehcMKpXl7L8XG1BfUaG4dSt55Up5v37iZ1uaE+rqeu+998oCAizpzMfil9H00RU3u7x61fz8ow6e8ltg2ax5yf9jZ/6ar6q8dy/C01P6gtwbO9YclxuNRkGrFf8SwlSqO+P77x8V+5qbej4HSqUyJyfn7t27v/zyy5IlS4YMGeLk5PSoHPD//J//89e//tXR0dHDw2PhwoU7duy4du1aamqqQqEw2G8v0ecDRS8IIIAAAggggAACCCCAAAI2Eniq4E9bUCBuh9e8edzMmfVPmgxqtZg1ODkFurhkmFKwOu5N0OtT160T/6jv4iJFZnWc/NiX9BUV8bNnS1MUMzZuDO3WTebsLO/b1zxdUXH7dmiXLjInp5gPPtAWF5sbFDSajB9+kGI1ed++RWfOWMZJOoUiZsIEaZBhvXpZ5hHmFqqDv2bNEhcuFDSaotOnQzp0kFI/sXzw7t36ioqUzz6TKi2I0Z6rqzgbccMGy9mIeV5eQa1bi5lgu3bi/nclJVL7gk5XERERO3myNOMv8ZNPag0fzYNpgAeV0dGRpkwnqHXrrK1bzYGmvrw8ZuJEmaOjvG9fZWyseeSanJz42bOrZ266uIQPHJi2fn3Onj2Zmzcnfvpp7t69gk5XHhKSuGBByuefV0ZFSRe+wIBmGUGrrUpIyPn113vjxkkfJ3EG5bvvKm7fNp9jPngQ/LVtW3zunPn5Wg+e/ltg2awY/K1aJS75b9WqPjuEGlQq8QtiKgcs79ev+MIFg1IpNWioqiq+dCni3XfFL46bmxSjW/bVQI4rKyuzs7PNOeCwYcPc3Nz++7//+09/+lPN+YB/+MMf/vKXv7zxxhv9+/efM2fOli1bLl68mJycXFpaqtfrG8gdMQwEEEAAAQQQQAABBBBAAIEGLvBUwZ8qLS184ECZo6PVatm671nM8taskRZmxs+Zo6+srPv8zE2bxDzL0THl888tU7C6r6r11YqIiLDevWWOjgkff6zOzBTTOtOGaNKqXoNKlbxihZgsuLllbdtmOWlIDARNuw2GdOpUcOSI5UtGo1FqtjrFc3FJWbnSoFJZDcA84+/euHGKW7eiRoyQ0j1xcp+bW+ZPP2Vt2yaGeqb6DJGDB4sT2Zyc4mfNMvuoMzKiRoyQ4sVAN7ewnj3vjR2btn59xg8/JK9YIe/bV8pEgtu0EUfYqP7RFhZWz2R0c0tavFhfVibO4dJodKWlCn//8HfeCXR2DmrTJn7uXHFpZ0SEQa1O27BBmhcZ2KJFwrx5YiZ4v6yHQaMRdDpx8ubUqeI0zObN09atMwqCOjPzRQWs9d1WZ2enrVsn5csyJ6d7779fCg7JAwAAIABJREFUc1pu9fRbR8c6SmybG3/6b4G5KfH9tQj+Cg4dsnyp1mOFv39ot27ih9xU+EXet2/cjBnp336b8f33CfPmVW/zZ8rxKyIiam2hoT2pVCpzc3NDQkJ8fHy++OKL8ePHd+zY8ZVXXvm///f/1swB/+Vf/uU//uM/XnvttT59+syePXvTpk3nzp1LTEwsKSnR1bmjZUO7a8aDAAIIIIAAAggggAACCCDwPAWeKvirjIoK69Ej0NU1Z/fuJxp09s8/S8Uowt9+uyohoY5rpdq+UqSV+cMP5nCnjkse+ZIgVO/f16JF7oEDRqMx47vvpClyYv6oVJbeuCGW9XB2Duvd27LCqaDTpa5dK0WE6d99Z9BoLLsQtNq09eulGsFSFBXarVvpzZuW5zzYq87JKbhDBzHJkmoKS8WF3dwi3N1DOncWq7K2b5+1fXt5WJhYa9XRMXr0aG1BgdRU3oEDQS1bBrq4hHbvLm5zdn9LO2mJsUQU6OqatGjRM9kM0Wr8tnto0GgyNm6Ubi24TZukTz/N3LQp/ZtvkpYsiR49OrRrV/GjYuIS79TZOWPjxorwcHmfPlJymjB/viY/v+bwxM0ce/SQcqKM774zCkLeb7+9kIA17938jEGtzjtwIKRTp0Bn55AOHWoulq+efmsK/orOnjVfKB4IQlVCQunNmzoph30W3wLL9h8s9a1tr09VSkrp9eu6+7NuDWp18vLl0iJfeb9+4laGUj1fR0fz51/8+rRtm/3zz5azcS17bODHarW6qKgoJibm9OnTP/zww4cffjhgwIC33nrrv/7rv2rdIvD//b//5+Dg0KNHj2nTpn377bcnT56MjY0tKirSPPwLqoHfNcNDAAEEEEAAAQQQQAABBBCwqcBTBX+l164Ft28f1LJlgZ/fE42y+OLF4HbtxJ34W7cuOHy41mv15eWFJ0+KBStMW5WF9e5ttelerVfV8aQ4BWzSJHGdb48eUh2D0hs3Qjp2FDORTp2ytm2LnTZNqicrLpW1qLOpLyuTNv6TDxhQlZho1YVYeliaiOTmZl6oK1akNcUl5pOrZ/w5OUnhYKCpfoVYwVbK/kwLGIPbtMncvNmgVusUinvjx8scHSMHD1ZnZ4u5YXm5WIzYySmodevcvXvLAgPjP/wwuEMHc/wXaKrnm7pmTc1ZXeYxNMQDQSg4ckRMpkx7HVbX6DBN0xMrJptiHfNL4QMH5uzerS0oKLlypfrz07KllOFa3ZqurCxl1Srp7Qjp0KHk8mV9ZWXczJkvBqBBoyk6ezZzyxaxfvHjVn2KH7ypU8WV9S1a5O7fbwUl6HTieltTpR2rb6ImLy9m4sSQjh3FSilG4zP5FjzUuyCkf/ttrYtzdaWl8bNnB7drZ94DtCoxUYzCnZzCevUqvX696PTp6DFjxA0378d/YpGcAQNyfv1Vf3/970N9NcIHer2+rKwsPT391q1bv/zyy/Lly0ePHt22bdt//OMf//7v/15zSuC///u/v/LKK507d544ceKGDRsOHz4cHh5OyeBG+M4zZAQQQAABBBBAAAEEEEDgWQo8VfCXu39/YIsWwW3aVM8VEgSDWq0vL9eVlFgGZzXHq87IiBwyRAwjXF2zd+2yPMGgUqnS0vL9/OJmzBDDHVPqJ07k2bHjKSfyKOPi5P36yRwd46ZN0ykURqNRk58fPWaMtHg2qFUrMYOTSmqcOmU5JF1x8b2xY8XEsGfP8tBQ80uCVlt84UL4wIHiIF1c4mfPTlm5UmzHtAdfzp49gsXUG6vgL7hdu/xDh7J37TJPZwt0dU357DNpq0RxAebHH1eXSzbtT1eVlBQ+YIDMySlq2DDN/Siw5OrVjO++S16+PPWLL7J37SoPCmpkW/sJQvHFi+IiZanIibOzzNlZ5ugY6OYW0rmzvG/fe2PHJi1eLK1iDmrRwrx3mzI2Vt6/v3RV1LBhZQEB1TcuCDqFojwoKPGTT6TNEGXOznGzZunKyqqSk18YwMrISHHFevPmoT165Pz6q3mrR/Mn03wg6PUlV66ItT5My2NrXQOeuXmzGK26ueX8+qv5QqPRWBYQINZacXSUFko/k2+BZftGozF3717pS5f544+WL0lTiWXNmyctWSJ9iYovXAhu107m5JT06afSe63Jyys4ejRt/frkZcvSNmzI++03ZXy88YUuglFVVVVQUBAdHX3ixImNGzfOnj17wIAB//znP//rv/7rf//v/20VBf75z3/++9//3rp161GjRq1YsWLfvn137tzJysoqLy8X7i+KtzTnGAEEEEAAAQQQQAABBBBA4IUU+J3Bn0GprEpMFOegOTsHtmgRN2tW5pYtaV9+mbRoUezUqdGjRyd89FHu/v3mark17fIPHgzr2TO4XbvcfftU6ekVcnnhiRNZP/2UMH++vH9/qXiuGAM5O4f16ZPz66/mjfxrNlXPZ4rOng1u2zbQ1VXcv0/6RxCytm2zjN5kzs5RI0dqcnIs2zSoVEmLF0sxZfzs2RVyuSo1tfT69ZRVq8S5fqZoMmb8+KrERF1pafLy5dUTzTp2zPzxR/O8P6vgL2nJEn1lZfbu3dIi1kBn55gPPlBnZJgHlvH99+J+f23aFJ48aTQay4OCQu5XHbFayStotUIjzDsEvb7w5El5nz7S+s2w3r3l/fpFjxmT9uWXeT4+ZYGB6sxMnUJhUKulFdliKZj71VoNGo24vFqaJOjiEtarV+KCBRkbN6atXx8zfnxoly7iS6afkE6dii9efMEAy0NCzPcY1KbNvfHjMzdvLjpzpjw4uEIur5DLywIDi86ezdmzJ3nlyrDevaX17DETJ1p9sKUPW+6BA0EtWsicndO/+urBUnpByN6+XZqOmmOK5g1q9dN/Cyy/VkajsfDECWkvy+Tly83lXIxGY3UNFtOybmlI1YN0ckpbt+6hT7sgiBe+lEmWNCUwIyPj9u3bv/zyy7Jly0aMGNGyZcu//e1vf/7zn61ywD/+8Y9//etfmzdvPmjQoPnz52/duvXixYvSFoFardbqfeEhAggggAACCCCAAAIIIIDACyPwZMGfQa0uvXEj88cf42fNkvfpI+6YJm2+ZpqoVb3szrT3XECzZqFduph3ytNXVFQlJJTJZCWXLpVcvlxy7Vru3r0xEyYEtWkT2qNHWO/eoV27ShFA9dpVU83fsJ49k5cvrwgLe+iP+r/XXgwyXF2DWrbMP3jQ3IYqNTVy6FApe5LuJXPz5prdlVy+LFYPMBXbDe3aNaxXL3GZrSmXDHRxiZ0yRRkXJ7WpycmJmzlTmowW1KpV8vLlqrQ0oyA8CP6cnSM8PJQxMUajMWfPHmlxa/iAAWWBgeZRGY3GksuXg9u3D5SyD6NRynrEGLRXL8tZh5aXNKJjQavN8/UV66WY5vrFzZhRee+eJj9fzDRrhDjm0CduxgxzlKxKT4+bPr064HN2Fj8297d7M7+bMicn8+zO8uBgsV7zCwGoUyiSFi0S792kJ30Oxa9Sly6hXbuGdu0a0rlzcJs2Ut4nrl53coocPNjqA2b+tBT4+Uk5e+ykSRrThpL6ysriCxfE6bFOTvL+/c01kZ/2W1Ajni4+fz64bVuZk1P06NHqzEyj0WhQKktv3owYNEjm5BTao0eZTCaNU9yfsUULsUTJ2LHa2rZ0NN/Oy3ygVCrz8vLkcrmfn9/69esnTZrUrVs3BweHv/zlL3/4wx8so8B/+Zd/kbYI7N69++TJkzds2ODn5xcWFpaXl6d8UdZKv8yfBO4dAQQQQAABBBBAAAEEEDALPFnwVxkdLe/fXwr4xNzBlPqJ/zYnL05OwW3bhvXoETVyZOaWLdLcNH1FhTg5rkcPMY9o1y64fXsx0jKtqxWzCena+6UqAl1dQzp3Fi//8cfKyEirShrmcT/pgbaoqLqGb5s2hSdOWF6ef/CgtIpQCiBUqamWr0rHhqqq1HXrAk3RQ/WATcMO6dAhZdUqKbMwX6WMixOXBjs5SUFh5NCh5SEhBrU6Ye5cWfPm4iZ9ptIiRqNRcfdu+IABYb17Fxw9ahV4afLz740bF9CsWfycOQaVSp2VJS6ONgU9ycuWmUv9mjttRAeCwZDn7S0uIzUFqQkffaRKT3/U+MXKKl98IWVbkUOHWs5ZU6WnJy9bFtq9u1QNWVwjbFrQKobIbdqIH0s3t6zt26WW1ZmZLwyguEo9Jyf9m2/C3377wWfS8nvk5CSJyUzfR3Gaanj4o4QVt25JeywGtW4d/+GH6d98Ezd9enWRXBeX9G+/NS+xf9pvQXCw1RjKw8LEAizOzkEtW8ZOm5b+zTfxs2ebS/emrFplro6tuH1bGpL49fn1V6svi1WzPJQENBpNcXFxUlLSlStXfv7556VLl44aNapdu3b/8z//U7Nw8J/+9Ke//e1vLVq0GD58+JIlS3bt2nX9+vXU1NTS0lKqBvOJQgABBBBAAAEEEEAAAQQar8CTBX/itl+dOz+Y2Wea6BfUsmXEu+/Gz52btn599o4dRefOKePjdcXF5nlzmrw8cVZd8+bmMEKanCXFNCFduoT16hUxcGDslClp69bl7t1bHhysLSp6tqZVSUliZCnVNn245K6hqip7586IQYPujR1rnmFUs3dtcXH2jh2RQ4eG9egR1qOHvH//hI8+Kj53rtbdDJWxsQnz5gV36BDUsmXU8OHSnKk8Hx95nz6JCxZo79cqFXS6yqioiogIc7Zi2W/JpUsRHh7JK1YYVCrBYMj88UdpEXFwu3bZO3bU2m/15YKgKyvT5ueLWxnWmEBn2YVdjlWpqREeHjJHx6DWrZOWLLHM8mqOR1xn/emnYopqWtIrzZQ0n2aoqqqMji48eTJnz56sbdty9uwpOnVK4e8fPWqUzMkppHNnxd270smCXv/CAJrvSJWSkuftnbxsWdSIEfJ+/eR9+sj79hX/3aePvH//6DFjUr/4ovjCBWlHSzOa1YFYSWPWLCmErZ44aUrhA11d42bNsgq1n/5bYNm7vrIycdEiKR8XfzlIlTpM73XMxIlVSUnmk3UKRfyHH4qDdHaW9+lTfP58Hdv5CTqdrqREk5//whT6MDs85UFVVVVhYWFMTMzZs2e3bNmyYMGCwYMHu7q6/vd///ef/vQnyymBf/jDH/7yl7+88cYbffr0mT59+jfffHP06NGIiIj8/HymBD7lu8DlCCCAAAIIIIAAAggggMDzFHiy4E9fXp69c2fMxInJS5dmbd2avXNnxvff5/v6qjMyxBzqERmToNVm/fRTWI8eod27y/v1uzd+fPLSpRkbN+bs2lV44kR5UJAqNVVbUCCu4qyxGPBZWWjy8qJGjgz45z8jBg1SpaRYNSvodNrCQqu986zOER8KgrawUBkfX5WQoMnOrit6M9XhLbl2reDYMXE6m0nGoFars7LqTmEe6tRg0OTlmUs3qDMy7r3/vhSBBbdrl/LZZ8qYGMsZkYJWq8nLK712Lf2bb2ImTAh/++2kRYvMa2MfatmuD8T4uEMHeb9+uXv36h+ufVzruEqvXw/r2VPWrJm8b9+q+Phaz7F8Up2ZKa4VdXSMGjHCssbxCwNoebPip1Kr1RUXa/LyNNnZmtxc8d/Z2eInp7T0sTV/paZKb9wI7dZNTP1M0waD27WLGjEie9cuTV6eVV/iw6f7Flg1WB4cLO/bV4z8pK7btIkcMiTrp5+sAkdpeqxY0sQ06TWsZ8/sHTvUmZmWN2ioqlKlpxeeOJGyalX06NHy/v2zduyw3a8UqxtppA8rKipyc3NDQ0MPHTq0YcOGKVOm9OjR47XXXvuP//iPf/3Xf7WMAqVqIa1atRoxYsSSJUt2794tTQlUKBT6x5WWbqQ4DBsBBBBAAAEEEEAAAQQQeAEEniz4E//Ur9fry8st69XWR8GgVCpjYpQxMersbJ1C8aSX16eLus8R9PqCw4cT5s0rPHnSMiyo+6qG9mpZQECkp6eU/QW6uMj79En69NPMLVuytm3L2rIledmyCA+P4Pbtq/dJbNbs3tixuvuzCxvOvWgLCvK8vMSdCh+RFFsNVdDpik6fTly4MM/buz5liyvCw8XdAx0dk5YssQxGpUq1LwCglc/TPxS02oIjR2ImTIgaPjx19eqSy5e1ps3+nr7lx7Yg6PVFZ8/GTpkSNWxY8sqVRWfPimljbR8MQa/P9/UN7dpVWkQf1KJFhIdH6urVWVu3Zv1/9t4EHqr9j///MGNfsjP2nUiKSKWNipJKCynaQ4v29aq0d5ObFpXS7RbapU2Ltm8qkWgjsmc3xk6Y/f+4fX6/85/fjFxpQ+/zuI/umXM+5/N5f56fMzPOa97LkSPFISHZ/v7/1gWytMT3f6KBQcHWrd33zf6f6H5EAwaDUVNTk5eX9+DBg7CwsDVr1kyaNKlPnz6CBUMIl8CRI0f6+vr+9ddfN27cyMzMrKqqam1t/RG2QZ9AAAgAASAABIAAEAACQAAIAAEg0AkCXy38dWKMLnIJh80mUoZ1EZM6YUbj69dZixa97Nfv/6h7uKIF8S+ucWFiktyv3ztXV9q1az1G+PhX8mtLDxJkWPPw4b9JJM3Ny//5R/DsbwtQEAXfkX/Dw6urf8kNw2po+Hfo/yov+68EfOdO+rRpL8zN27n//y2HPWBAxuzZDSkpfHOEl19LoKmpCRcMiY6O3rt378KFC0eOHKmnpycnJ0cmk3ldAqWkpCgUiq2trZeX17Zt286fP5+SkgLVQr4WOLQHAkAACAABIAAEgAAQAAJAAAh8XwK/kfD3fcH9wt6Y9fW0q1c/LFjwyt4e17X4t9CKuTmOn/3g41N88GDVrVutJSUdVMp+4Vx+xNAVZ88m9+mTYmNT9+xZm/0DwDaxdJeDraWlZeHh6e7uqXZ2yRYWOPg32cIiZeDAt87OOatWlR4/XhsfT8TId5d5dQs7mUxmXV1dYWHhkydPTp06FRAQ4OHhMWDAAAqFIiUlxasDioqKKikpmZub42oh4eHh8fHxhYWFEBrcLRYajAQCQAAIAAEgAASAABAAAkCgxxAA4a+7LiWrsfFTZiaua1H2998VZ8/WPn7cWljYrQv+fofF4HCK/vorycTkjZNTmwWaiSEAIIGiO+4wq6sbUlOpFy+WhYeX//MP9eLF+hcv6OXlHQkG747z7bI2t7S00Gi0zMxMXDBk+fLl48ePFywYIiws3KtXLz09PUdHRz8/PxwanJGRAaHBXXZlwTAgAASAABAAAkAACAABIAAEegYBEP56xjrCLP4PAXZzc/ayZUlGRhmzZv13tRbABgSAwHclwOFwcMGQV69e4ehgHx8fR0dHfX19vuhgSUlJNTW1AQMGzJgxIzAwMCoq6sWLF2VlZY2NjZyOBfV/V8OhMyAABIAAEAACQAAIAAEgAASAQM8kAMJfz1zX32FW7NbWuoQE6qVL/wY1/9+NWVOTMXNmkpGRYGWP/9sE/g8EgMDPI8Biserq6oqKihISEiIiIrZu3ert7T148GBNTU1ZWVkhISEcIEwmk+Xl5U1MTFxcXJYvX3748OE7d+5kZ2dXV1dDtZCft1owEhAAAkAACAABIAAEgAAQAAI9jgAIfz1uSX+PCXHY7PLTp1Pt7F6Ym2f5+dHLyvC8Wz5+fOvsnGRiUhgU9HumOPw91h9m2Y0J0Ol0XDv44cOH4eHhGzZscHd3t7a2VlNT400USFQLmTlz5tatWyMjI5OSkkpLSxsaGthsdjeeP5gOBIAAEAACQAAIAAEgAASAABD4iQRA+PuJsGGo70eA1dT0YcGCJGNjXNgkb8MGBo3G5XKr7937t6SvmVnZ339/v9GgJyAABH4ggebmZhqN9uHDhzt37oSGhq5atWrixIl9+vRRVlYWExMjXALl5OQMDQ2dnJyWLl164MCB2NjYzMxMGo3W0tLyA42DroEAEAACQAAIAAEgAASAABAAAt2ZAAh/3Xn1fmPbOXR6/pYtSSYm/wp/vXsn9+mT5edXERmZ4eX1wtT0Zf/+Vbdu/cZ4YOpAoHsTaGpqolKpb9++jYmJCQoK8vHxcXBw0NPT69Wrl7CwMJYCJSUlVVVVra2tp0+fvmnTptOnTyckJBQXF9fX14NLYPdefrAeCAABIAAEgAAQAAJAAAgAge9HAIS/78cSevq5BJpzcrL8/JL79n1havrCzOzff/v0+VcHNDV9M2pUc1bWzzUHRgMCQOBHEcCJAgsLC58+ffrPP/8EBAR4eHhYW1urqqpKSkpiHRAXDtbX1x81atSiRYtCQkJu3bqVlZVVXV1Np9N/lGXQLxAAAkAACAABIAAEgAAQAAJAoGsTAOGva68PWNcuAWZNTUVU1BsnpyRT038lPzMz/N/HXbs48KjfLjo4CQS6NYGWlhYajZaZmRkbG3vw4EF/f/+xY8eamJgoKCiIiopiKVBCQkJNTc3W1tbLy2v79u0XLlxITU2tqKj49OlTt547GA8EgAAQAAJAAAgAASAABIAAEOg4ARD+Os4KWnZRAo2vX3/w9U3u2zfJxCTJxCTd3b05L6+L2gpmAQEg8AMIcDichoaGsrKy1NTUy5cv//nnnz4+Po6Ojvr6+nJyciQSCSFEJpMVFBTMzMwmTpy4bt26kydPxsfHFxYWQmjwD1gQ6BIIAAEgAASAABAAAkAACACBrkIAhL+ushJgx7cQ+Nf1LzIyferULF/fxtevv6UruBYIAIEeQIDFYtXX15eUlCQlJZ09e3bHjh1z5swZNmyYtra2jIyM0OdNRkZGR0fH0dERQoN7wIrDFIAAEAACQAAIAAEgAASAABBokwAIf21igYPdkgCzpobV2NgtTQejgQAQ+MEEGAxGbW3tx48fiUSB7u7uVlZWysrK4uLiQkJC4uLiqqqqNjY2EBr8g5cCugcCQAAIAAEgAASAABAAAkDg5xEA4e/nsYaRgAAQAAJAoOsQwIkCMzIybt68GRISsnjx4tGjR+vr68vKypLJZFFRUXl5eRwavHbtWggN7joLB5YAASAABIAAEAACQAAIAAEg0HECIPx1nBW0BAJA4BcTYLFYNBqtubn5F9sBw/dEAmw2u6GhoaSkJDExMTIycsuWLTNmzLCxsVFTU5OUlBQTE5OWltbR0XFwcPDz8wsJCYmNjf3w4QNUDe6J9wLMCQgAASAABIAAEAACQAAI9BwCIPz1nLWEmXC5XA6Hk5ycfODAgaysLADS8wg8ePBg4MCBs2bNys3N7Xmzgxl1NQKtra3V1dU5OTn3798/duzYmjVr3NzcLCwslJSUZD5vKioqNjY2M2bM2LZt2/nz51NSUioqKpqamrraRMAeIAAEgAAQAAJAAAgAASAABH5bAiD8/bZL3zMnHhMTY2hoSCaTw8LC6HR6WVlZbm5ufn5+dXV1z5zw/zsrNpvNYDD+32M95xWLxVq5ciVCSFhY+MCBAz1nYjCT7kPg06dPlZWV79+/v3HjRkhIyNKlS52dnY2MjBQUFOTk5BQUFExNTV1dXVevXn3ixInHjx9D1eDus7ZgKRAAAkAACAABIAAEgAAQ6JkEQPjrmev6e84qLS3NwsICC0OjR4/29PQ0MTGhUCgaGhpDhgzZs2dPQUFBDybDYDBOnjy5cOHClJSUHjnNpqYmNzc39Hn7448/2Gx2j5wmTKobEeBwOI2NjeXl5SkpKefPn9++fbuXl5etra2amprC501bW3vkyJE4NPjWrVuZmZkQq96N1hdMBQJAAAgAASAABIAAEAACPYDAtwp/FRUVCQkJFRUVXZwFh8Npbm5msVhd3E4wr9ME6HT6ihUrsCrU5r9CQkJ2dnb379/ncDidHqUrX5iRkWFkZIQQ8vDwaGho6Mqmds620tJSOzs7hJCQkNC2bdt66jp2Dg5c1UUI0Ol0HB189+7dQ4cO+fv7Ozk56evrKykpKSoqqqio9OvXb+rUqevXrw8PD3/06FF+fn5NTQ2dTu8i9oMZQAAIAAEgAASAABAAAkAACPQwAt8k/L18+dLBwUFZWfnkyZNdnEtcXNz06dN9fHz++uuv58+fFxUVFfNspaWlNBqtqqqqurq6sbHx06dPdDqdxWKBsvAzl5XFYuXn51+9ejUkJGTr5+3QoUNPnz7tYMKs1NRUPT09XslPVlYWu/spKioKCQnhU6ampvHx8T9zXj9trJiYGElJSYSQhYVFfn7+Txv3pw309u1bLS0tvI7Lly8HHf+nkYeBOk0AuwSWlpYmJSVFREQEBARMmzatb9++ioqKvXr1kpWVVVdXHzRokLe397Zt26KiopKSkkpKSurr68GhtdPM4UIgAASAABAAAkAACAABIAAEeAl0Xvh7//794MGDEUIkEunw4cO8nXa1fRqNNnr0aEISUlBQ0NDQ0OTZ9PT0BgwYMHDgwMGDB48fP97Nzc3b29vHx8ff3z82NpbJZHa1GfU8e96+fbt69WoTExMsXeHFEhISUlRU9PT0fP78efuPwRwOZ/fu3cLCwvjCXr16+fv737t3Lzc3t6io6MWLF2vXrlVQUMBnx48fT6PReh7D06dPi4mJIYQcHBx65ARv3rwpLS2NF9HLy6u1tbXnLSLMqMcTaGlpqaysTEtLi4mJ+fPPP+fOnTtkyBB1dXVpaWkJCQlZWVk9Pb1Ro0b5+fkFBwdfu3YtLS2NSqV++vSpx5OBCQIBIAAEgAAQAAJAAAgAASDwIwh0UvirrKx0d3fHT+BkMjk0NPRHGPe9+qTRaK6urtjar/3X2tq6qKjoe1kC/QgSYLFY0dHRZmZm7SyNgYHB5cuX23HApNFoI0eOJHpYtGhRc3Mz71gMBiM8PFxZWRkhJC0tfenSJd6z3WKfTqdnZma2E1a/d+9eLH1u2LChfZ20W8xX0MigoCASiYRX2c3NDaQQQURwpNsRYDKZtbW1eXl59+/fP3LkyPLly52dnQ0MDGRlZUVFRcXFxRUVFfv06TNp0qQ1a9YcP3780aNHHz9+rKvSp2GdAAAgAElEQVSrA4/XbrfWYDAQAAJAAAgAASAABIAAEPglBDoj/NHp9MDAQBEREfwE3vWFPy6Xm5aW5u/v7+3t7evr68OzLVq0aPr06diNiEKhuLm52draamhoKCoqSklJKSgo+Pn51dXV/ZK1+R0G5XA4ly5d0tTUxPeSsLCwoaHh1KlT/fz8PD09ibhOhJC5uXlaWtqXmDx69EhJSQkhNGTIEG9v75cvXwq2ZDKZ27Ztw/ft7NmzW1paBNt05SORkZE6OjqOjo6pqamCdrJYrMWLFyOEZGRkYmNjBRt09yNMJnPhwoWEtjtz5kzw+Ovuawr2CxLgCw3etGmTu7t7v379lJSUREVFhYWFpaSktLW1R4wY4evru3///tjY2KysrOrqasgSKAgTjgABIAAEgAAQAAJAAAgAASDA5XI7I/xdu3ZNRUWFeALvFsIfl8tlMpk4cx+LZ+NwOJmZmSYmJgghb2/v+vr6qqqqvLy8Fy9e3LhxIyEhob6+Hm6UH0egsLDQ1tYW30tiYmJLly7NysrCZVhaW1tTU1Nnz56Nw1eFhYWDg4PbtITNZgcEBCCEpKSkzp8/39LS8iV/t5ycnD59+nTHLHjNzc0eHh4Y1PLlywXDz5ubm6dNm4YQMjU1zcrKahNUtz5ITBBD8PPzA4+nbr2gYHwHCeDQ4PT09KtXr+7du3f+/PlDhw7V1NSUkpIikUji4uKqqqq2trbe3t47duy4cOFCSkpKeXl5Y2NjB/uHZkAACAABIAAEgAAQAAJAAAj0bAJfLfzl5OTg1H7dTvj70kJ+/PjR0tISIbRo0aIvCUZfuhaOfyOBtLQ0bW1tfC+5uroKZqarrKwcP348bjB79uw2vVpKS0sHDRqEELK2ti4sLGzHpJaWlpkzZyKE5OXl//e//7XTsqudamlp8fT0xBxGjx5dU1PDZ2FJSYmNjQ1CyNHRsbq6mu9sD3jZ2NhIBOwLCQlt3769ndDvHjBfmAIQaJMADg3Oz89/8ODB0aNHV6xYMW7cOCMjo169epHJZBERETk5ORMTExcXlxUrVoSGhsbFxeXk5IBLYJsw4SAQAAJAAAgAASAABIAAEPgdCHy18Pfo0SMzMzNlZeUhQ4bY2dkJCQl1F4+/Ly1nWVnZwIEDEUK/iQ9RY2NjUVHR69evX758WVBQIOg79iVQP+J4TU0N1vWEhYW/VCImMDAQ1+SdNGlSmxV+b968KSsrixBatmxZ+9PhcDiBgYEIIQkJiYsXL/6IGf2gPpuamiZPnoyFvz59+uTl5fEN9PTpU0VFRYTQN1a9YLFYCQkJp0+fLikp4RtC8CWdTv9pEdM1NTWjRo3CBERFRU+cOCFoDxwBAr8hgcbGxrKyshcvXkRGRgYEBEydOtXCwkJBQYFMJiOEJCUlKRTKwIEDsUvg+fPnsUtgm5+lvyE9mDIQAAJAAAgAASAABIAAEOjxBL5a+GMwGLm5uW/fvqXRaNu3b+8Bwl9paSl2leqOwl9TU1NVVVVNTQ2DwWj/Zq2pqXn48GFgYKCLi4u+vr6ysrKioqKxsfH58+fbv/BHn01KSpo3b563t/e7d+8Ex2IymUuWLMFyj4eHh6DMxGQyV61ahZ9vO1Ky49ChQ9gvJiwsTHC4LnuEcOhDCCkpKSUlJfGZGh4eLioqSiKRQkJC+E7xvWxtba3+vPHVP8HNbt68qa+vTyaTly5d2mYDorfCwsKlS5fOnDlT0BiizXfcqa6udnR0xHeCjIzMjRs3vmPn0BUQ6DEEmpubqVTq69evL1y4sG3bNk9PTysrK2VlZVFRUYQQmUyWl5c3NTV1dXVdtWrVsWPHHjx4kJeXV1tb2/6vJj2GD0wECAABIAAEgAAQAAJAAAj8bgS+WvgjAHE4nNWrV+MHiS5e1Zewuc0dQvhbtGhRd8kaxmaz3717t3PnzokTJ9rZ2dnb28+bN+/y5csNDQ18c2xubs7MzAwLCxs1apScnBzWTXj/9fb2bjN+lq+fH/qSTqc3Nze3GblJo9FGjBiBDV65cqXgAlGp1KFDhyKEDA0N379//592BgUFCQsLk8nkI0eO/GfjrtPgyZMn2KEPl++4e/cur20MBmPRokUIIWVl5SdPnvCe4t0vKio6evTojBkzsLuuu7v70aNHS0tLiTZsNpuQWS0tLT9+/Eic4tths9m7d+/GRYTXrFnzpRj5NteUr6sOvqRSqfb29vhOsLCwyM3Nbf/C7zh0+wPBWSDQlQm0trbSaLT09PSYmJg9e/bMnj174MCBqqqq4uLi+N0kLS2tqak5dOjQefPm7dmzJzo6+s2bN1QqFapmd+VlBduAABAAAkAACAABIAAEgEDHCXRe+COKbHb3UF9C+Js3b95/+s1xudyamppr164FBgYuX7585cqVAQEBBw4cSE1N/ZL20fHFwC2bm5tpNFo7vdXV1QUHBxsYGPDqd7i0ha+vb0VFBTFiZmaml5eXpqYmUYIZISQkJCQrK6uiokKhULS1tY8cOdKVJZKnT5+qqqoihL4U3ZmcnEyhUBBCY8aMEcx8R6DAOywWa8WKFQghcXHxqKgovrNd+WVoaCixiBISEufOneO1lkqlDhs2DBc15r0BiDYMBiM6OnrgwIE4+o+4c0gk0ujRo1+/fo1bstlszAchpK2t3aYPJm6Zn59vZWWF1+Xo0aPEQFwul06nJyYmBgUFrV69etmyZRs2bNi9e3dsbGzHqw3U1dVlZma+efOmsLCQKN1LvE8RQitXrmzzrcrhcD58+HD06NH169f7+/uvW7cuMDAwKiqqvLyc10LYBwK/LQEGg1FdXZ2VlXXz5s3g4OCFCxcSpULwx4KoqKiSkpKFhcXkyZPXr19/8uTJ+Pj4wsLCuro6wd9dfluMMHEgAASAABAAAkAACAABINCNCHRe+KPT6d7e3gghERGRY8eOdaM585laWlqKC8t2JDnaq1ev3NzcpKWlCekE75ibmycnJ/P13M5LDodTVFR0+fLlCxcuVFVVES0rKyv9/f2trKz279/fpsNFZWXl4sWLcaFbLPapqqpKSkpiM0gkUmBgII7Y+vTp07x583jtlJOTc3V13b9//7179969e5eTk/Px40dCWCFs6Do7LBZr48aNOMEfhUJJTEwUtO3q1atSUlIIofnz57cpBvFeUl9fj1MKysnJ3b9/n/dUV95vaGhwc3MjlpJMJvPlQ3z+/LmamhouUCMIobW1df/+/UpKSrgHUVFRVVXVXr16ER1OnjyZqAcSFxeHlVZZWdm4uLgvYTlx4gS+CW1tbfPz84lmNBotICAAS7FE/wghOTm5Y8eOtSNn4x7q6+tPnjw5atQoCoWirKysq6u7YMGCzMxMLpdbUlIyYMAAhFCvXr1u375NjEjstLS0/P3332ZmZtgPkRidTCYvWrSo47Ij0SHsAIEeTwCXCsnNzY2Lizt8+LC/v/+YMWP09fVlZWXxBy/+oUhXV9fBwcHX1zc4OPj69evv37+n0WiCiRd6PC6YIBAAAkAACAABIAAEgAAQ6I4EOi/8NTc3u7u7Y+epyMjI7jh5bDMRTOrp6dn+k8yDBw/69euHBQUxMTEVFRV1dXVTU1MrKytRUVFbW9uYmJgv+URkZGRs2LDh4cOHWPug0Wiurq5iYmISEhJbt27FUl1DQ8OyZcuwT5asrGxMTAwfVd4GIiIiLi4uMTExGRkZly9fnjBhAk7hZG1tXVRUxOVyy8rKcO5CbLCkpOSRI0faFBP5Ruk6L3NycnDBZYTQhAkT6urqBG2LiorCMWt//PHHf7ouvnz5UkdHByHUr1+/goICwd665pGUlBSi9jFezbVr1/KKaCEhISQSSVRU9NSpU3xTYLFYx48fJ6K8ra2tjx8/np6e/uDBg0WLFmH5T15e/tGjR/jC5uZmX19f7MoXHh7O1xt+WVpaiuOvJSQkeFMlFhQUeHl54RtYWFhYQUFBXV1dT09v4MCBysrKGhoaO3bsqK2tbbNPLpdbUVHh4+NDRCASyt2ECRNoNFpeXp6ZmRlCyMjICEuBvP3U19cHBgYSaqasrCyFQtHS0rK2ttbV1ZWRkVmwYMF/Rgfzdgj7QOA3JMDhcOrr64uKip48eXLy5Mm1a9dOnDixd+/eRKkQXBlJRUXFyspq+vTpmzdvPnPmTGJiYklJSUNDw39+Av+GSGHKQAAIAAEgAASAABAAAkDglxPovPDX1NQ0ceLEjhdV+OVT/ZIBRNGALxWNxRfeunXL2NgYeziOHTs2IiLi7du3Hz9+rKysvHLlioyMDELI3Nz8S2nmzp49SyKR7OzsiouLuVzu1atXFRQUsLQxatSo2tpaDodz6NAhwncPIeTt7c1bXYHNZh8+fBg3kJaW3rhxI6+rYFpamqGhIUJIRUUlNTUVR1xu3bqVkFHIZPLUqVMTEhK6SwZ3Npu9a9curCJJS0ufPXu2zRU8e/ashIQEdnb7kuqKL2SxWAEBAdiNZenSpYKecW323xUOHjlyBMf5SkhIYPsnTpxI5HOsq6vDbowUCuXFixd8Bj98+BBrnSIiIh4eHh8+fCAa1NXVOTk5Ye2eF++DBw9wPsHly5cLIuVwOAcPHsTufuPHj6+srMQd5uXlTZgwAZvXu3fvvXv3JiQk5OXllZWVffjwYdCgQVgyOH36NGEA705jY+OyZctIJBJ+U6irq2PNDoelP3v2jPBq7N27d05ODu+1dXV1a9aswSapqamtXLny3r172dnZJSUlZWVl2DEZBwj/8nSWvGbDPhDo+gSamprKy8uTk5OjoqK2bNkyffr0/v37KysrE17nJBJJTk7O0NDQ2dnZ39//0KFDd+7cyc7Orq6uhrdb119fsBAIAAEgAASAABAAAkDgdyDQeeGvrq5u7NixCCFpaeluXWGTEP7Gjx9PiCl8a5+YmNi7d2/sBrVixQoqlcrbABdURQgJCwtv3rxZUCvhcrlRUVFiYmLKysqvX7+mUqmjRo0iHJocHR1rampu3brF59VlaWnJ65X27t07U1NTnKRv5syZubm5hM9XWVnZH3/8gfUvU1NTQhZpaGjYvn07EeOJENLQ0Fi5cuXr16+7vvyXlJSEpUyEkJubGxGLykuey+Veu3YNh/pOmzaNVyfla8blcj98+NCnTx8cKxobGyvYoGseaWxsnDp1Kk66t2PHDhxFq6+vn5aWhg1+/PgxDs51cnLiy3JYXV09adIkfKcNGjTo+fPnxKN4Q0PDP//8o6mpiauF8AIpKyuzs7P7UtrE1NRUfB9SKJR79+5hG6qqqjw9PfFAw4cPT0lJ4YWZnp6OxUeEkIODQ5sZ96KionAEvaioqIeHx4sXL6qqqoqKih49ehQZGZmfn79ixQqsKlIolISEBKJ/BoOxfft2LEMYGhryed3W19c7Oztjw3R1dQWFUaIf2AECQOA/CbS0tFRWVr579y46Onrnzp1eXl4DBgxQUVEhdED8J4G6urqdnd2sWbN27Nhx4cKFlJSU8vLy7uVv/p8ooAEQAAJAAAgAASAABIAAEOguBDov/BF6WbcQ/hgMRm1tbZuSHDGRYcOGEe5LvOtXV1c3bdo0rLjNmTOHT4FqbW2dP38+oeIZGxu/ffuW93K8j4U/aWnpixcvbtq0CYfl4qtGjRp1584dHNMqJCRkYWGB5RhFRcVnz57hyxkMxpo1a4hR5OXl+/btu2DBgo0bN65atWrQoEFE5Qc/Pz/egGU6nR4bG+vk5IRlQdyDjo7O0qVLnz171r5SJjiLH3SkpKTk8uXLO3fu3LRp04YNGzZ+3ogSroqKijdv3vzS0PHx8TiO1dbWtqSk5EvNmEzm1q1bsUPZ6NGj21zoL137a4+/fv1aV1cXe4CWlJRgHz0xMbG///6by+W2trbiOrwkEmnfvn18phJqGk4HaWRkNH369PWft/Hjx2M3VVwSBDui4ssZDAaO9tXS0uLLXFlVVTV9+nRcy/uPP/4gZMTQ0FDsW2phYcF3CVa9idtPQkJCMIK4uroay3NkMnnx4sW8rqzYpCdPnuA3BUKIb6aPHz/W0NDAFY35ap5wuVyCHr7zly5d2pWTWvItH7wEAl2cAJ1Op9FoaWlpvDogb8lghJCYmJiioqK5ubmbm9v69ev//vvvZ8+eFRcXQ2hwF19cMA8IAAEgAASAABAAAkCgxxDovPBHpVKxNNN+EYCuQKq4uHjlypVDhw79448/Pn78yGdSfX09dl20tLQUPMvlcp8+faqsrIwQsrOzy87O5rs8Pj6ekCSwOLhq1SpCECEa41R0wsLCFhYWOBMZmUzGOpSmpib2REMIjR8//t27dytXrsRKDZHm7927d9j9TUZGxszMjIiIJKRAvNO/f3+iQisxNJfLra6uPnfu3IQJE3i9/1RUVDw9Pb+q3Cpvn99ln8VixcTE2NjYEMIQ34ywP5qHh0dUVFSbat379+/19PRws8uXL3/JqsePH2OnMykpqYiIiC8164LHifx9WC8LDAzEjm/Yw/Hhw4fYB1BPT+/Nmze89tfU1Li4uODgdDMzM94ocl7IampqgtzOnDkjJiYmLCy8e/duIm8XnU7fsmUL1qwdHR0JrbCmpmbMmDFYehPsqrKyEr+/iEHt7Oz43mjPnz9XUVFBCA0bNozolphLdXU1Vt6JHiZPnoyLdbBYrNWrV+M5btmyhS98m8FgrF+/nrfWh7q6OpHNkOgfdoAAEPguBDqiAxKhwWPHjl2xYsXRo0cfPnxYUFAAVYO/yxJAJ0AACAABIAAEgAAQAAJAQJBA54W/0tJSXDtCTk7u8ePHgl13nSNnzpzBaoWQkNDQoUMvXLjAGxFZU1MzevRohJCenl56erqg2VgEIZPJoaGhfGfLyspwokMsPWBhQlNT88mTJ3wtiRoUuI2kpOScOXOwYkXIGaNHj87KyuJyuWFhYSIiIuLi4kTmtcOHD+Nsd97e3u/fvw8ICCBiJ/HlUlJSY8eOTUpK4huX92VjY2NiYuKmTZtMTU2xeITjXqdNm/b06VNC3+G95Ifuczic6OhoLS0tgoC4uLisrCxv1BjvqTFjxty/f5/PbbOhoQFHwiKEnJyc+KKwsf25ublEbPWUKVN4V/+HTvDbO6+rq8PinaamJo6fffDggby8PFbZgoODJ0yYgBHNnTuXz38zPj4eC9Y2NjYpKSnHjx/v27cvr2QsIiLSv3//S5cuCcZ9p6enY6GZt2jvuXPnsHCsq6v78OFDYnaZmZlGRkYIoYkTJ/IVz2UwGHv27MHOgGQyGWtwZDJ5z549vPdbdHS0pKSkkJDQrl27iG7xDoPB2L17N+7BwMAARxkTkc4NDQ04v6G5ubmgKH/jxg11dXXsJEhM3NPTs76+nm8UeAkEgMB3J8CnA3p7e9vY2KipqfH+zIOrBuvo6IwcOdLPzy8kJOTWrVvZ2dk1NTV8Ov53Nw86BAJAAAgAASAABIAAEAACvwmBzgt/xcXF1tbWCKGuL/wFBwcTj/3Yk87Z2fny5cu4wCiNRhsyZAhCSFFRMTExUXDhjxw5gjWLrVu38p7Nz8+fO3cu1uMMDAx27dqFVQmE0KRJk/h8mviEP09Pz6SkJHNzc0LYsrCwePnyJe4f560TEhLavXs3LtMxa9Ys3lxsTCbzzZs3QUFBvr6+Pj4+gYGBN27c4ItB5jWVd5/D4WRnZ+/atcvCwoJwhtLT04uMjBQUgHgv/O775eXlw4YNwwSUlZV9fHwuXrwYGRlJlE4m4BA76urqu3fv5lPuIiIisDubmJjY7t27+Wbx/v17V1dXLHSamJi0ucTffWrfq8PMzExcUmbixIlYrqJSqcOHD8dAxMTE8O0nIyNz5coVvkFxSRBhYWFCTSsoKDh+/PiSJUsWLFiwbt26yMhIvruU6IGIICaTyQsXLkxPT4+JicHqnoyMTFhYGJFfksvlvnr1CicZHDlyJK9XZkNDw4EDB7BWKC4uvnr1ajc3N7wQBgYGRH5AHAssLi4uJibGVx+cTqcfOXIE96CpqXnz5s1jx46JfN6OHz/O5XJramqwpKujo0O8fbhcLpPJjI2NxVWAEUIeHh7+/v5YUJaVlT18+DBoCsRaww4Q+DkE6HR6VVXV+/fvr169umfPnjlz5tjZ2VEoFD5nZCkpKXV19cGDB8+dO3fPnj0xMTFpaWk0Gg2C9H/OMsEoQAAIAAEgAASAABAAAj2PQOeFv5ycHKxbycnJ/e9//+vKaKKionhdDLBoIi0t7eTktHnz5kWLFmEXKhkZmTt37ghO5NatWzg4V19f/9y5c7m5uampqQcPHhw4cCAWzigUSkREBIvFunr1KvZfExYWHjt2LG/oJa/wZ2xsnJKSkpubiwuGYO+tS5cuEUO/evUKhw9Pnz69paWFCEZWUFDgLWvA5XJZnzfiQsGdpqamK1euPHnyhM8djMvlFhQU7N27t0+fPngWGhoa7aTSE+z5248kJSXh6rEIoXHjxqWnp6elpS1cuBC7dwkJCTk7O2/dunXVqlXDhw+XlZXFCycqKjp79uyioiLCgKKiooEDB+KzysrKoaGhtbW1TCazsrIyIiICy9MIIVVV1fPnz/M6mhE9dNmd69evS0tLk0ik4OBgbCSHwwkKCsJ6H54yTtJXVlbGOws2m71u3TpcjubEiRN8p/i0Ud6zxH5iYiL2KiWRSCoqKpg/mUxevnx5U1MT0YzL5ZaWluJiIBISEhs2bMjIyMjMzLx06dK0adNw3RUREZGlS5fW1dVlZ2cTrpdGRkYXLlzAlpw9e1ZcXFxYWHjr1q2EbVQqNTAwEL83xcTEgoKCOBzO+/fvsSviuHHjampq6HT6ggULcIi9u7t7cnJyTk7OvXv3/P39cQQ0Qmj06NHZ2dl1dXVLlizB3OTl5Xfs2AF+f7yLCPtA4CcTYDAY1dXVHz58uHHjRlBQ0Pz58+3t7TU0NPCHBvHhJiEhoaqqOmDAgBkzZmzbtu3ChQu4QJbgN9pPth+GAwJAAAgAASAABIAAEAAC3YVA54W/tLQ0XHNAQUGBqEHRNaddXV0dGhq6du3aGTNm9O7dm8+/gHjAEBUVbTP7W1VVlaurK24mLS1NoVCUlJQI5UVHRwerflwul81mh4WFYZUQIWRtbR0XF4f9FAjhT0JC4vDhw1wuNzc3F3skiYqKbtu2jdcFqaamBtc6sLGxKSkpaWhowFnSREREDh48+FWQ4+PjKRSKgoKCj49PXl6e4LUFBQV+fn7YI9LJyYlGowm2+UFHMjIysBMZQkhcXFxdXV1ZWZlwQrSxsSEK19bU1MTGxrq4uBAh28uXLydqmHA4HKK4BPbodHJyWrBgwZAhQ4i1VlNTO378OC/kHzSp79vt/v37SSSSuLh4VFQU0XN+fr6trS1x35JIJN5MfLgZh8PZsGEDbjN79uxOPCQzGIzAwEDiPsddTZkyhU9hxLd9UFAQLi8jIiKiqqqqpqZGkBcXF1+xYgVRr+Ply5d9+/bFvamoqAQHB9fV1d2+fRsLi6qqqsuXLz9//nxoaKijoyPR55IlS7B/Lp1OX7x4MUJIQUEhLi6Oy+XevXsX5wcUFhZWUlKiUCiERiwkJOTi4pKRkYGZlJWVTZkyBQ8tJia2ePHigoKC7iUEE/cA7ACBHkaAyWTW1NRkZ2ffunVr//79Pj4+w4YN09TU5NMBxcTElJWVLS0tp02btmnTpsjIyOTk5PLycr5fI3oYHJgOEAACQAAIAAEgAASAABD4FgKdF/6IaqpKSko4+9i32PFzrm1tbS0uLr569aq7u7uCggKWAIh/LS0tvzSRhw8f6uvrEy3xjrCwsL29fVxcHG/YY0tLy9atWwkHQ2VlZZzOLCYmBh+cOHEiFkHq6+tnz57dq1evBQsWELIIweHgwYNkMllBQSExMZHD4axYsQIPamVllZmZSTT7zx1iXCEhoUGDBh0+fDglJaWgoKD485afn//48eP58+djfUdDQ6PNksT/OUrnGjCZzIiICL5khXiaNjY2L1684Ou2qqpq06ZN+DnQxsaGV4Gqra1dtWoVdhXkWyaEUP/+/WNiYghXMr5uu+xLotatpKRkdHQ0r51nzpwh9GV7e/v8/Hzes3g/MjIS33IqKiqd8+WsqKiYOXMmDs4lkUgTJkz48OGD4EDY6Q/n2uODr6urGxIS0tDQwHvVnTt3sNcervjp7u7+7NkzKysr4lpxcXEiNl9KSmrdunW8YezPnj3T1tZGCPn5+bW2tra0tKxbt46oak10Iicnt2zZMl7PUC6Xm5GRMWLECNxGSEiozduM11TYBwJA4JcQYLFYtbW12dnZN2/eDAoKmjt37sCBA/nyA2KPZkVFRTMzs0mTJq1fv/7UqVMJCQklJSV8yUZ/yRRgUCAABIAAEAACQAAIAAEg0EUIdF74S0lJwcF02trahGdWF5nVf5rR1NT06NGjdevWYZ8CfX39xYsXv3r16kvuP2w2+/79+5MmTdLQ0FBRUVFXV7e3t//zzz/bTJHW2NgYHBxsYGAgKiqqrKwcEhKC/ftGjBhhYWHBW1S0tLT06dOngqofl8stLy/38vLq37//q1evuFxufHy8hoYGDmn09PQsLCxsZ47Nzc2VlZVUKpXNZufn5zs6OhJqCJlMVlJSUldX1/y8qaur9+rViyj0YWtr237P7QzauVNsNvvBgweenp4GBgaUz5uOjo67uztvvjbenpubm3ft2qWoqOjq6sorBnG53IaGhn379vGWCiGTyQYGBuvWrcMlU3j76Rb7OTk52CdUTk6Ot5gGl8ttbm4ODg42NzcfMWLEl/xti4qKcN1t7HzafnJDHHZXVlZG+FFiRMXFxevXr8dB8bxKqyDAnJycFStWGBsbKysrq6mpmZubL126NDExkVcWx1dxOJy4uLhhw4ZJSEhISUnNmDGDSqWePn0aJwok7lWEkKmpaVhY2KdPn3iHYzKZwcHBEhISzs7OdXV1uGj1vpcKsTcAACAASURBVH37rKysVFRUVFVVDQwMpk+ffu3atTb9HNPT0z09PXv16iUqKmpjY/MzlW7eWcA+EAACHSfAYDBwfsArV67s2LFjxowZ/fv3V1FR4asERSaT5eXljY2NXVxcVq1adfz48fj4+OLiYtABO44aWgIBIAAEgAAQAAJAAAj0PAKdF/6ampoCAwPNzc3XrVvXTaNsOBxObW1tUVFRcXFxR4JAGxsbc3Jy3r59m5eXx1dfgu/OYLPZ6enpUVFRz58/x0oKh8OhUqklJSV8RWn5LuR9WV9fX1JSgg2j0+kBAQHYL49EIo0aNeru3bt8jlS1tbUpKSn79+93d3fv37//wIEDsahRUFCwZs0aIuUZr7DCu29kZBQdHf0l6ZPXsO++39LSUlxcnPt5Ky4u5hN6+Ib79OlTfHz8+/fvBU1lsVjPnz8PCAjw9fVds2bNyZMnP3z40HHgfAP98pdUKnXo0KEIIUtLS8EwbRaLRaVS278PL1y4gHPkIYTMzc3/+ecfvqrHTU1NmZmZp06dmjt37qBBg0xNTS9fvsw3cSaT2dDQ0BF/SQaDUVxc/Pbt26ysrLKysvYvKS8vv3Llys2bN3F0OYPBuH79+syZMwcNGjR8+HBPT8/du3e3ucpcLvfTp09nz569ffs2oSpyOJzKysr09PT3798XFxe3KfkR82poaIiLi7t48SKE+hJMYAcIdCMCra2tlZWVr1+/Pnfu3ObNm6dMmWJubq6oqIhzQRDfayQSSU5OztDQcNy4catXrw4PD3/27FlpaWk3/YulGy0QmAoEgAAQAAJAAAgAASDQpQh0XvjD1WapVGr7Mk2Xmm23NqaiomL27NlECKS8vPy4ceM2bNiwdevWwMDAFStWjBgxgjdHnpyc3JMnT/CUGQxGUlLSpk2bhg0bpq6urvR/NxUVFU1NzWHDhm3cuDE1NZWQUbo1KFzzpLtPAefOi4iI8PT0vHTpUufky5aWlp07d8rIyOAnYQkJicGDB69cuXLr5239+vUTJkzQ0tIinpaFhISOHTv2C9G1trZWV1fX1tZCBc9fuAowNBDoXgSam5vLy8uTk5MjIiI2btzo5uZmZmamqKjIlwGA8Ad0dXVdu3btqVOnEhMTy8rKQAfsXssN1gIBIAAEgAAQAAJAAAh8LYFvEv6+djBo/40EqFTq5s2bccFfwqlBcEdERERTUzMgIADXQ+AdtLa2Nisr6+XLl8mft3fv3n38+LG2tlbQe473Ktj/VQTYbPY3SmDNzc0nT57s06eP4H3Ce0RYWFhRUXHmzJk5OTm/arIwLhAAAkDg2wl8+vSpvLw8KSnp9OnTGzZsmDhxoqmpqYKCAl+pIpxF19TUdNKkSRs2bDhz5syLFy/Ky8vht8xvXwLoAQgAASAABIAAEAACQKBLEQDhr0stx38bw2Qynz9/vnjxYiMjIxkZGewASCaTpaSk1NTUhg0btmrVqn/++efdu3cdCV7+7/GgRY8gkJWVtXXrVisrK3l5eewFg4sFKykp9e/f39fX98iRIwkJCZAJq0esNkwCCACB/59AU1NTWVlZYmLiqVOn1q1b5+rqamRkJCcnR1SQxz+BiIqKKioqmpubT548OSAgICoq6tWrV1QqlS/t6f/fL+wBASAABIAAEAACQAAIAIFuQgCEv26yUP+vmUwms6Cg4O7du2FhYSEhIeHh4VevXk1PT28/49v/2we8+r0IcDicioqKJ0+e/PPPPwcOHAgLCzt//vzLly+pVGrn4oh/L3wwWyAABHoEgaampuLi4sePH4eGhi5evHjYsGEaGhq4WDyvE7SYmJiysnK/fv08PT23b98eHR2dnp5eVVUFv6j1iLsAJgEEgAAQAAJAAAgAgd+LAAh/v9d6w2yBABAAAkAACAABnEcVp7+4fv367t27Z86c2a9fP2VlZSLtKSEFSkhIqKmpDRw4cM6cOXv37r1582Z2dnZtbS38agI3EhAAAkAACAABIAAEgEDXJwDCX9dfI7AQCAABIAAEgAAQ+LEEWltbqVRqSkpKRETE+vXrx48fj4OCiZpahA4oLS2N62L5+voePHjw3r17BQUF9fX1kC33x64Q9A4EgAAQAAJAAAgAASDQKQIg/HUKG1wEBIAAEAACQAAI9FwCjY2NxcXF8fHxYWFhy5YtGzVqlK6urqysrJCQEKEAIoSEhIRkZWV1dXVHjx69bNmyY8eOxcfHFxcXQ8rUnntrwMyAABAAAkAACAABINDNCIDw180WDMwFAkAACAABIAAEfiYBDodTX1+fn58fFxd34MABHx8fe3v7NpMDkkgkOTk5Q0NDFxeXNWvW/P3334mJiWVlZVAs+GeuF4wFBIAAEAACQAAIAAEgwEsAhD9eGrAPBIAAEAACQAAIAIH2CLBYrJqamqysLN7kgEpKSoLJAUVERBQUFHr37u3m5vbHH39ERkampKRAseD24MI5IAAEgAAQAAJAAAgAge9NAIS/700U+gMCQAAIAAEgAAR+GwI4OeDLly/PnDmzdu3acePGGRgYCAYFI4TExMSUlJQsLS09PDy2bt168eLFd+/e0Wg0Op3+29CCiQIBIAAEgAAQAAJAAAj8bAIg/P1s4jAeEAACQAAIAAEg0FMJNDY2fvz48f79+wcOHFi4cOGgQYPU1NQkJCR4MwPifQkJCVVVVWtra29v76CgoNu3bxcUFDQ0NPRUMjAvIAAEgAAQAAJAAAgAgV9CAIS/X4IdBgUCQAAIAAEgAAR6OAEmk1ldXZ2enn7p0qXAwMCpU6eamZnJy8uTyWRCB1RTU9PS0pKXl9f7vI0ZM2bNmjWnT59OTU2l0WgMBqOHM4LpAQEgAASAABAAAkAACPxgAiD8/WDA0D0QAAJAAAgAASAABLjc5ubmsrKyhISE48ePL1u2zMHBQVNTU1FRsVevXtbW1vb29r1793ZyclJSUtLW1tbT0+vfv/+sWbP27dt3586dgoICqBQMNxEQAAJAAAgAASAABIBAJwiA8NcJaHAJEAACQAAIAAEgAAQ6T4DD4dTV1WVlZcXExGzbtm3y5MkmJiZaWloaGhqamprOzs79+vUbPnz4sGHDlJWVjYyMjI2NnZyc1q5dGxER8erVK3AG7Dx6uBIIAAEgAASAABAAAr8ZARD+frMFh+kCASAABIAAEPidCDQ1NZ07d+7ixYu1tbVddt7Nzc2lpaWPHz8+dOjQwoULbW1tNTQ0tLS01NXVraysxo0bZ21tPW7cOGNjY01Nzd69ew8YMGDWrFnBwcFxcXGQGbDLLisYBgSAABAAAkAACACBrkAAhL+usApgAxAAAh0iwGKxHjx4EB4eXlhY2KELoBEQAAK/PYFHjx4pKyuLi4vv3LmTxWJ1fR44M+Dbt28jIyPXrVvn7Oysq6tLoVDU1dX19PQcHBycnJzs7e1Hjhypr6+vpaVlYGDg5OSEMwOmpKRUVlZCmeCuv8pgIRAAAkAACAABIAAEfhoBEP5+GmoYCAgAgW8l8PHjxwEDBiCEPD096+rqvrU7uB4I9HQCHA4nOTl5x44dkZGRTU1NPX26bc/v6NGjIiIiCKHx48d3x5q5jY2NBQUFt2/f3rNnz4wZMywsLFRUVFRVVU1MTMaPHz9ixIjJkycPGTLEyMhI8/PWr1+/mTNn/vnnn7du3crLy6uvr2+bCxwFAkAACAABIAAEgAAQ+D0IgPD3e6wzzPL3INDS0pKYmJifn99Tp/vkyRN5eXmEkJGR0YcPH3rqNGFeQOB7Efjw4YO1tTVCSF5e/vbt29+r227UD4vFWrlyJS6h202FP17ara2tVCo1KSnp+PHjS5YsGTJkiJaWlq6uroaGhrOzs5OTk7u7u5OTk5WVlbq6uoaGho6OjqOj44oVK06ePPnixYuKiorW1lbeDmEfCAABIAAEgAAQAAJAoMcTAOHv3yVmMplNTU0MBqPHr3e3niCTyewWUVq/EPLly5fV1dWHDh2alZX1C834cUOfO3dOQkICIWRsbAzC34/jDD33GAJnz54VExNDCImLi589e7bHzKvjE2lqanJzc8PCn4uLS3f0+PvSZNlsdm1tbUZGxsWLFwMCAsaPH29oaKinp6ehoWFvb+/i4uLh4TFp0iQHBwd8UE1NrU+fPh4eHjt37rx+/Xpubm5PovElSnAcCAABIAAEgAAQAAJA4GcIf1lZWSEhIXfu3GEymV2KeHNzc2pq6r59+xYsWDBhwgQfH5/k5GQOh9OljARjuFwum82+d+/eggULTp482cG7iE6nl5WVvX79+u7du7dv305JSenx4U4tLS1eXl4IIRERkWPHjvXIO2fXrl3CwsIIIQMDg4yMjB45R5gUEPheBNhs9tq1a7HmJS0tffPmze/Vczfqp7y8fNCgQRjC0KFDKysru5HxX2VqU1NTYWFhXFzcvn37vLy8LC0tdXV1tbW1LS0tx40b5+np6e7uPmnSJEtLS3V1dSUlJS0trTFjxqxfv/78+fMZGRm1tbXw989XAYfGQAAIAAEgAASAABDoLgS+Vfhjs9lPnz4NDAy8dOlSmx5zNBpt0qRJCCFDQ8NXr151BS5sNru4uDgqKmrq1KkUCgU/D+B/J02a1OPloa6wBF9lA4fDiY6O1tHRwZnd2g9TotPpHz58OHny5Jw5c8zMzJSVlWVlZWVkZJSUlDw9PXt2RYjq6mpHR0eEEJlMDgkJ+SrI3aIxnU6fO3cufqsqKiomJiZ2C7PBSCDwqwhQqdRhw4bht4ycnNzjx49/lSW/cNwXL14QX/R9+/YtKCjAPyZRqdSKioqeKnXR6XQqlfrixYsTJ04sXbp06NChOjo62trahoaGDg4OM2bM8PLymjp1qq2traampoqKCoVCsbe39/f3//vvv1NSUmg0Wgd/Y/uFKwtDAwEgAASAABAAAkAACHSQwDcJf2w2+9KlS3p6egihoUOH0mg0wVFTU1PV1NQQQpKSkteuXRNs8DOP1NTU3L17d+XKlX379hUXFyckP8nPG0JowoQJP7NiwJs3b06cOFFdXd1xCA0NDcXFxc3NzR2/pLu3fPz4sZGREV4sLy+vLwl/dDo9Pj5+wYIFurq6ZDKZWFxiR0REJCwsrLvTaMf+srIy7NgiLy9///79dlp201OVlZWEiiErK3v37t1uOhEwGwj8HALXr1/v1asX/gxUVlZ++fLlzxm3S41y+fJlSUlJDIEQ/s6dO2dhYdG/f//Y2NguZe2PMIbD4dTW1mZmZl66dGnTpk0uLi6GhoY6Ojp6enrDhw+fPn26t7e3p6fnyJEjdXV11dTUVFVVra2t58+ff/jw4adPn5aXl3/pa/dHWAt9AgEgAASAABAAAkAACHx3Ap0X/rDqp62tjUW94ODgNn8fjomJkZKSQghZWFj8wtC8wsLCgwcPjhw5UlZWllCCEEIUCmXu3LlXrlyJjo7evHlzUlLSz/z9PyIiQkZGZs+ePWw2uyNLm5ubO2XKFG1t7TVr1vwmnon5+fkjRowgluxLwt+7d+/8/f1VVVWJlr169VJXV8clDpWUlBBCJBLpyJEj2NejrKzs2bNnp06d2rx58+7du4uKijrC/9e2odPpkZGRGzZsePfuXZuWpKen6+rqIoQGDx5cVlbWZptufTAtLQ07fiKEQPjr1ksJxv8EAg0NDTNmzCA+Eg0MDN6/f/8Txu1qQ4SGhuKSvvizkUql1tTUODg4YDIWFhbJycldzeYfak9TU1NBQUFsbOz27dvd3NxwLWAtLS1bW1s3Nzdvb293d/exY8caGhpSKBQVFRUzMzNPT8+9e/feu3evqKjo06dPP9Q86BwIAAEgAASAABAAAkDguxPovPB35coVrPqJiopu2LChqalJ0DgOh7NlyxaEkLCw8NatWzsobwn20+kjDAajsLDw1KlTtra2JBKJeAQikUjGxsarVq1KSkqi0+md7v8bL4yIiCCTyU5OTh10MwwNDcUJzsTFxffu3dtmbPU3mtSlLm9qalqyZAmeMl47QeGvrq7u6NGjpqamuAGJROrXr9+mTZsePHiQl5dX/Hl7+fLl7t27d+3aVVRU9Pbt240bN1pYWMjLy2PHQElJyRs3bnSpibdpTEpKCn7HjRw5sri4WLBNQkICrni7aNGiHnlvPH78WE5ODi+0vLz8s2fPBCHAESAABDCBmJgY/IGA3zJ9+/btwfW+21l0IjEoQsjZ2bm+vv7Tp0/z58/HWBBCo0eP/j3JcLnc5ubm4uLie/fu/fnnnx4eHqamphQKRV1d3cLCwsXFxcvLy8PDY/LkyWZmZurq6ioqKgYGBpMmTdq2bdvNmzfz8/MbGxvbIQ+ngAAQAAJAAAgAASAABLoIgU4KfykpKebm5jibmJ+fX01NTZvzqampGTNmDEJIR0cnJSWlzTY/7mBWVtbixYuNjIx4o3qlpKTs7e1DQkKys7N/vhDJN9mjR4+SSCRTU9Ps7Gy+U22+vHr1KnZeQwipqKicP3/+Z/ontmnSjzvI4XDOnDlDxKnhhzQ+4a+lpWXdunW4ZiVCSF9ff8+ePTiFk6BhVVVVQUFB+vr6xPOeqqrq1KlTQ0NDq6qqBNt3tSNxcXEyMjLtOLtduHBBQkKCTCZjx8auZv+32xMbGystLY2XT1tbOy0t7dv7hB6AQI8kUFpaijN+Eh93AwcO7JGOwO0vH295E4SQh4dHS0sLl8stKCjYtGmTsbEx/mFp//797ffzO5xtbW0tKyt7/Pjx/v37vb29LSwsVFVV1dTUjIyMHBwcvL29582b5+rqamFhoaampqioqKOjM27cuICAgCtXrmRnZ0OB4N/hJoE5AgEgAASAABAAAt2UQGeEv6qqKnd3d/w4MWXKlHaeJRISEnCCv6lTp/7kX4ZZLNbq1auJZx4SiaSnp7dw4cJr1651naJ+p06dEhUV7dWr14MHDzpyAzU3N1+8eHH06NFYAOrZBQoLCgpsbGwQQkJCQjIyMkJCQgghPuGvuLjYysoKr7KOjk5cXFybGDkczvPnzydOnEgEfBkYGKxatSohIaEbZUt8+PAhlkHbLNrLZrM3btyIEJKSkrp+/XqbHDp+sLa2tgvGc/Hm6urfv3/PLtXS8cWClkCAjwCTydy+fbuIiIiQkJC5ubmCggJCyMHBoVv8wsE3l298yWKx/Pz8iL8Eli9fzmKxcJ9sNjsrKyssLCwwMBDch/k449ogCQkJoaGh8+fPt7KyUlFRUVNT09PTc3Jymj59+syZM93c3Pr3749FQA0NjVGjRq1duxYXCO5gEAPfoPASCAABIAAEgAAQAAJA4AcR6IzwFx4eLiEhgRAyNzd/8+ZNO5bt2bNHWFiYTCYfOnSonWY/4hSdTp85cybx576Kisrly5e7mn9cdHS0pKSkmJjYmTNnOg6hurr65s2b27ZtCw8P/8lyaseN/PaWdXV1oaGhixYtCgkJ2bdvH84UySf8VVVVEV4tWlpat2/fFhy3rq4uKCiIyA2nqam5bt269PT0X+7vKWhq+0fOnz+P33cIobVr1/LZ39DQ4Orqir1r239Xtj8Ki8WKiYkZMWKEj49PeXl5+42Li4vv3LmTkZHxc95ZUVFRhPfuqFGjvuRo3L7NcBYI9HgCjx49wmkBjI2Nz507h93zHR0d2ykkVfd5I0Sx/0TU0tJSXV39tT+cfPr06c2bNxcuXDhx4sTFixffv3/f8VQbLS0tXzscl8tlsVi+vr74LwFRUdHjx4//59TabNDc3IxdBds827MPMplMGo2WnJwcFhbm4+MzYMAA1c+boaGhk5PTrFmz5s2b5+HhYWtrS6FQFBQUVFVVhw4dunz58jNnzrx9+7ampubnfEH07FWA2QEBIAAEgAAQAAJA4FsIfLXwV1lZOWrUKISQhITE0aNH2xm7uroax/lqaGi8ePGinZY/4hSHw/nrr79ERUXxX/wkEmnUqFH379/vXHG6pqamqs9bY2Njx/+EbWpqqqmpaefBJi4uTlZWVlhYODg4+EdA6AF9Ynnr+vXrbQp/HA4nOjpaU1MTr7KJicnp06d5fQ3y8/PnzZuHY4FFREQmTpz49OnTjj/cdh2AhEMfnimfAMrlcnNycnr37o0QGjt2bG1t7Zcsb2lpSUtLu3Tp0okTJ86dO/f27Vu+p9ns7GwzMzOEkLi4ePt6dH19/Zw5cyQlJYcOHfpznO8iIiII4c/Hx6edd9aXpg/HgUCPJ1BaWuri4oITcWzfvj0zMxO/o78k/GVkZAQGBjo6Oo4cOXLJkiVXrlyh0WjtUGpoaIiOjp45c+bgwYOnTJmyd+/eN2/etFnai7cTFov16NEjd3d3NTU1cXFxMpksLi6upaW1dOnS3NxcvpY1NTW8Gh+Tybx27dqMGTOmTZt29uzZ9hOY8v0iQqfTvb298cemoaHhf+YHYDAY1dXVvJ8tnz59Cg8PnzZt2syZM+/du9fxPwB4J9Vj9lksFo1Ge/ny5fHjx319fW1sbNTU1CgUipmZmaurq6+v75IlS7y9ve3t7TU0NOTl5ZWVlQcNGrR06dIzZ86kpaXxfjv3GCYwESAABIAAEAACQAAIdH0CXy38vXnzRkNDAyGkqKh48+bNdmYYHx+voqKCEHJ1df0lf+3V1NSsWLGCcJJCCCkrK3t7e9++fbuD9nA4nFevXm3btm3ChAl2nzcXF5cVK1ZcuHChtLS0nbmXlZUdOXLE1dXV3t5+9uzZ4eHhbSaeI4oV7Nix4zs+TrBYrIqKiuzs7Ldv3+bk5BQXF3f3EsBnz57F6ygoeLFYrIiICC0tLfxoJykp6erqev369YaGhufPnxMVgVVUVHbs2NH+A207C/rLT9XX1+OHeTzN8ePH8yVUunXrFg4A37JlS5v3EpvNfv78+ezZszU0NHAqQDExMXV19fnz5/PW+nz58iUODBQSEtq2bVubXWEat2/fxi11dXV5e8Bna2tr8/Pz3717l5mZ+fHjRxqN9rV6K98DPJfLPXr0KA7WlpaWvnz58pcW5dOnT4WFhemft/z8/PLyct7H+C9dBceBQA8g0NDQsGzZMly2yMXFpby8nPhJQFD4YzAYkZGRWBbEHyw4V4CDg0N0dDTfTwIYTl5e3uzZs4lUm/gqHR2dNWvW5OTkfAlgU1NTcHCwuro6MQrvzrhx43jrqsfExNjb2/v6+hJZRC5cuEChUPAlampqbaYyaGxsjIuL27x58+LFizdu3BgTE4M/IVtbW728vPC1CxcubP+XPxaLdfjwYTs7uy1btmBveiaTSfibI4R69+7dzq+YjY2NaWlpcXFxSUlJ3fe75kuLKHicxWJVVVWlpKSEh4f7+fnZ2tqqq6traGhYWlpOmTJl+fLlq1evnj9//siRI7W0tLAn4LBhw1atWnX+/PnMzEy+rzDB/uEIEAACQAAIAAEgAASAwPci8NXC3+vXr3HaPvxHcEhIyPPnz7OysvI/bzk5OampqXfv3j1x4oSzszNOmz1p0qR2XJC+10za7KehoeH48eMDBgwgkrvh2gjOzs7Hjh3Lz89vR9coKSnZuXMnby0I4llFXFzcxsbm6NGjbQYbPn36dMSIEfjRC19CJpMtLCwOHDjAl2Lpf//7H65SunnzZj5LGhoaPn78WFlZyXe8zWnyHszNzd24caOlpSWFQlFRUaFQKNra2qNHj/5S/jvea7vs/okTJ7DzpqDwx+Vy2Wx2XFzc8OHDCZG3V69eLi4uJiYmmL+Jicnly5f/0yely06fy+W+evVKV1eXuAOHDh1KpVJ5Dd65cydOhhgbG8t7HO+3traGhYXx9kB0hRAaPnw4UV6moKCASJu4YMGCLznXtLS0zJs3D3cyZ84c3qLeDQ0N4eHhDg4OGhoaOC2UhoaGlZXVX3/91f5TNzaVwWAkJyfv3bt3yZIlq1evDg8PJ0T20NBQ/LYaNGgQcZB3skwm8/bt21OnTtXV1cXBaBQKxcTExN/f/z/Dlnn7gX0g0B0JsNns0NBQSUlJhJCuru7jx4+5XG52djb2BRYU/i5evKiqqsr7UUDsy8nJbd68mS+VREVFxbRp04g2fDuDBg1KSEgQ5NbS0rJ161ZsFc5FMHfu3KVLl1pZWeFPdRERkYMHD+ILiVocMjIy9+/f53K5KSkpfNLk8OHD+d7+6enpM2bM4K0EJS0t7e/vX1tb29LSglMSt+nCXFdXxys/NTc3T5kyBSGkra2Nf8yIjY0lNEc831mzZvFh4XK5DAbj4cOHkydPVlNTk5WVVVRUHDJkyNWrV7v1l47gUrZzhM1mV1dXv3r16uTJk4sWLbKzs9PU1NTS0rK2tp4+ffqaNWvWr1+/cOFCBwcHHR0dJSUlDQ0NR0fH9evXR0dHZ2dnCyJtZyw4BQSAABAAAkAACAABIPC1BL5a+CsvLx82bBjxFz+ZTFZQUFBTU1P/vFEoFGVlZVlZWV7ZS0ZG5vz5819r2XdsX1xcfPTo0cGDBxNxgjgMytzcfOfOnYK+eM3NzdHR0fb29iQSiZiplJQUhUJRU1Mj1CUxMbFp06ZlZGTwmpqammppaUlcxbsjKio6Y8aMjx8/Eu2fP3+OfaaWLFlC+ENxOJzHjx+PHz9eQ0PDxsbm0qVLxCl8YWtra3V1taA/FJfLffr0qb29Pe+gCCEsvw4ePDgxMZGvK8KSLr5z6NAhfEfNnz//S1JURUXFuXPnhg8fzrtqCCETE5NHjx518Qn+p3mHDh3iFa/Nzc3z8vKIq+rq6saPH48QMjMzE/S7YTAYISEhxFOxurq6l5fXsmXL7Ozs8DtCSEgoMDAQ31EcDufQoUM4OHrs2LFf8o1NSkrCScTU1dV58ZaWlvr5+RHvEeJWFBYWplAop0+fbv8Bj0qlbty4kdcziEQiOTs7f/jwgcvlBgcH48X19/cXfKJuamrat28f8bMEMTSJRBITEwsICADtj7hhYKdHEnj06BEW9yUlJUNDQ/E7mhD+kjl88gAAIABJREFUxowZw/sLXEFBga2tLfE2QQhJS0uPHTt2yJAh+KNGQkIiKCiI+LzlcDgHDhwgsmfgC3v37u3m5ka8Ye3s7Picf9ls9okTJ2RlZfF37uTJk5OTk5lMJofDKS0tXbZsGX5He3h4ELG9Bw4cIJFIUlJSsbGxhYWF+JMNIUR8sEtLS8fExBAr+P79e96/SfD3Hc5Gcvny5aampnHjxuHZ8cUoZGZmuri4zJkzh6j3xWQycSUQJSWlV583a2trPFNidMHUJUVFRatWrcLxDbw8jY2NMzMzCTt/nx0sAr5+/frkyZM+Pj7W1tYUCkVDQ8PW1nbGjBnr16/fuHGjr6+vo6Ojnp6eioqKjo6Ok5NTQEDA1atXc3NzeX9G+n2gwUyBABAAAkAACAABIPBDCXy18MfhcG7evGlpaYmrrPL+mdvOfpuOWj90YoKdV1RUREVFTZgwQV5enjBVWFjY1tY2OjqaeLzhcrmRkZFYjyOaWVlZXbp0KS8vLzMz8/z589OmTcOeegihkSNHEtpfU1PT3LlziasQQiIiIkOGDBk7diyOjRISEpo7dy7h95eSkqKkpIQQ8vX1xZIci8WKiorS09MjOtHV1eUVVlpbW3fu3Dl48OB79+7xzfH27duEZ4SBgQH+C3vbtm1HjhwZPnw4QkhfX7/N8hd8/XTBl7t378aPc0uWLGlT8SRsLioqwi4bBEADA4OYmJiO+JoRnXS1nYaGBjc3N2JGONCetwxlcnIyTnQ4efJkQWXtwoUL+KFUWFjY2dn5yZMnOPSVSqVu2rQJP+SPHTuWiAcvKSkZMmQIQqhPnz586bcwmebmZvx4LCQktHLlSoJtbm7ulClT8EopKio6OzuvXLlyy5Ythw4d8vf3FxUVlZKS2rx585cCb6uqqhYsWEA8YPN+wqxfv57JZG7atAlXeRYMja+rq1u/fj32KpKUlBw8ePDixYsDAgKCg4N37NghLy9PIpGmTp3K5ybZ1RYa7AECnSbw8eNHBwcHrK8tW7aMcGTLysrCvs8TJ04kxDX8Ncf7S5isrOxff/1VX1+P9Tgs8KmoqFy5cgWbRKPRcP/EB9GIESPevHnT0tLC+9Xj7u7OG+WakpJibGyMEBIVFV20aBHx3Yc9tf/880/8+ePm5kaUEQ8JCSGRSNLS0iEhIdOmTcOfA2ZmZnv37h00aBAeffXq1fgbs7q6evr06fighITE5MmTQ0NDg4KCfHx8hg8ffu7cueTkZCyGSklJEXPBM7px44a4uLiMjAzxZcpkMn18fBBCSkpKYWFhQ4cOxT0PHjx479692HFSRESEN7vxhw8fxo0bR3xYycrK9u7d29jYWElJycDA4O3bt1wuNyMj4/79+7/nhw/OCfj8+fNDhw55eXmZm5urqKj8f+x9CVhOT/v/9LQLbU97WoRkzU528UWlFFkrIVsK1SuyFUIqilC+lpIWlUjKFgktsqQQKaVI0r49+/a/Mu9/fud9WoTwxDxXV9ecc+bcc8/nbDOfuRdVVdWxY8daWVm5ublt37593bp1M2bM6NOnj7Kycu/evY2MjDw8PK5du1ZSUtKqv/l3PyP4RIwARgAjgBHACGAEMAJ/LQLfTPxBpPLz8w8cODBx4kRVVVWVFj8lJSVoMYRmCNu2bRMQW7OGhoY7d+5s2LChf//+yISKTCYfOnQIDTGh1yRUXlhY2MTEJCsri3iLUCiUa9euoVmBtbU1JE2ePHmCgs1BC4U1a9Z8/Pixvr7+6NGjkOMTExPbvXs35BlfvHgBs83a2NgwmUw2m3327NmWJkvm5ubIp7i6unrq1KkAgNWrVxPJyps3b/bt2xcAIC4ubmdnl5ubi+gYZPIAAPiNbtdEAL+pzOVyPTw84MyqpU80n6iamhpkIYJMP+Tk5NauXdsqh8V3umBuZmdnw7lrv3794BxeTEwsKCgIaXvw4EFhYWESieTl5YV2wsLr16+HDRsG6QBra2s+F7nAwEA4+Z8xYwayBuJyudu3bwcAyMjI3L59m08gj8dLSEiATOLQoUORgU9JSYmZmRl8asaNG3f9+nVEPfB4vEOHDkFGT1NTs9UgWSwWa8+ePZBuIJFI48ePP3TokL+/v5OT07Rp03bs2FFSUgJ5ByEhoR07dhD538bGRldXV/jO6d2796lTpyoqKlCF27dvQ4MjSUnJ4ODglt3BezACXR2BpqamDRs2wDeeqakp0bj10aNHCgoKAIDRo0enpaWVl5ezv/w2btyIPtAAgOXLl6M1g+rq6mXLlsFX7j///AOJvKdPn6I0SgAAFRUV6IoLobt69So82q1bt/DwcLgTrRAAAKSlpVeuXBkeHv7y5cvCwsJHjx5t3rwZWcmhJxq9fERERFRUVOBLo3///vBFdO3aNbjkhhYqzp07B+l+eXl5X19ftHrBZrNra2vr6uocHR1RN7ds2UIch1y/fr179+7i4uJIYRqNBmlEUVFRpNuECRNgnvSTJ0/Clwz6+JaXl8+fPx/KFxUVNTc3v3nz5qdPn8rKynJycu7du0elUh89eqSvr9+9e3e88MBgMD59+nTnzp2DBw9aWFjo6OjIy8urqKgYGBhYW1tv3759165dDg4OM2fO1NHRUVJS0tXVXbBgwaFDh+7du/f582figKerP7BYf4wARgAjgBHACGAEMAK/GIHvJP6gltXV1YWFhW//91dYWPj8+fOZM2dC2xw1NbXFixe/efPmF3es/ebYbHZxcfGBAweQj1LPnj2DgoIgWRAWFgZ9FUkk0tKlS0tLS1uVlpubCy3p5OXl4RQoLCyMaEMxZswY5I/JZDK9vLygWG1tbcgkogyq1tbWVCo1PDwchhMSFhYeO3bs7NmzoTQZGZnr169DHWprayG2c+fORR4xBQUFY8aMgeSOo6Mjn3smcvWC8Q0vXrzYancEdieHw1m/fj30WW5p6sWndnBwMMz/O2DAAF9fX2dnZ0SkTp8+HXqM8p0i+JuBgYGioqJiYmInTpzw8vKCk+HFixdD+52ysjLIQSsrK/PF2GIymVu3boV0QLdu3aysrEJCQnJycgoLC7Oysnbt2gUT9QAAHB0didOquLi47t27CwsL+/n58eFTXFwMb/tu3br9+++/8CiVSnVycoINjR079vnz58Sz6HS6jY0Nmn5v2LChpdHf48ePIbkJLYOIwf7r6+ubmppOnTqFwoTNnj0bUeE8Hu/s2bPwomtoaLQM/H/s2DFE8U+dOpXIiRCVxGWMQBdFgMPhBAUFQXa7V69e0dHRRUVFubm5ycnJJ06cMDMzg/e/sLCwnJzckCFDbt++3dTUhBZIYNqrO3fuELufnZ0NLfUUFBTgW+Xy5cvwKYMPso2NDdF+kMViubm5wTeAnZ0dfMDv378Pv7BwP1yXUlJSUlVVlZeXR1ZyAwYMgMwaj8djsVhr1qxB7woYbi8+Ph7q9vHjR+iePHr06LKysqamJmjfLSEhceDAAeIbDNa/desWMULf5MmTkVcvj8dLS0uTlZUVEhLav38/rN/Q0ECEBQAwZMgQtFCRlZUFF/bMzMzgxxf5PktISGzcuJFo6ojAdHNzg93hi8+AKvydBSqVWlxcnJCQ4O7ubmRkpKmpKSsrq6ysPHHixHXr1u3fv9/T03PVqlXjx49XVVVVUlLS19dfvnz5v//++/jx47ZCnfydSOJeYwQwAhgBjABGACOAEegIAj9E/LXVQGNjI8xAqqKicuPGDeL0oK1Tfst+Npt9/fr1UaNGwXH5uHHjYBrBq1evQs/cfv36vXjxoh3dTp48KSoqSiKRfH19uVzuzp070YxFVFTU39+feG5VVRWERUxMDDImiJJbuHBhSEgItP6TkpLavHlzaWnpp0+fYHAiAICrqys0VaBSqdDEAGnL5XKRJ6ypqSnKhIia/vfff4l05OzZs4mTH1RNYAtsNhtOBUkk0r59+9rRs6SkBPqCycjIRERE8Hg8NpudmJiIQlnZ29sL7N3YVr+Qn2/fvn3z8vJSU1Oh/U6fPn2gtV1gYCAklOfOnYsMXqC0rKwsmJ2GRCLBaTa0ZFFVVSWTyWg2rq2tzccYFhQUQLdxY2NjZAnI4/EaGhocHR0h87hs2TJEMaempsIJdu/evYme6VCNnJwcSCLAp0NdXf3+/fvE/nK53L1790INra2tif6AsFphYSG6iAAANTW1x48fw0OlpaUGBgYwhtfx48eRoR88Wl1dTcyGLCkpGRgYSGwalzECXR2B5ORkFB1CQkICxttVUlKSlpZGzzh89CQlJWfPnp2VlVVWVgbXiuB+PT09vtigdDp96dKlMFJeVFQUj8c7fvw4ItCFhIT27t3LhxvKVTVz5sy6ujo2m+3i4gLX/xYsWODg4IDiY6CvJACgX79+ly5dQjms6HT6kiVLUIXu3bsHBgaihxql6B04cGBRUdG7d+8GDx4MADAwMOCzZebxeB8+fPjnn3+gAvALqKSkRIyQgCzu0SJKVVUVNKiHCqipqRHDAlZVVUGjY2gf3djYaGpqCmsaGhq2+lUtLS1FngEzZ84kLlfwofc3bzY1NRUUFMTGxm7dunXq1KkqKipycnI6OjqmpqZbtmzx8fHZs2fP4sWLhw4dqvjlN27cOEdHx/Dw8NzcXKJd+d+MIe47RgAjgBHACGAEMAIYgfYR+CnE38ePH+GkwsDAoLy8vH0NfsZRLpdbWVlZWlra0gSgZXOpqalw1iQvLw9nBfHx8ZD4Q/5ELc+Ce/bu3QsplX379tHpdGtra+KMhThngPVRkgoXFxdivkUVFRWYXVFSUtLT0xORUyib7axZsyDJwmQyV65cCT2toCUCMlLQ0tLio29gE0TGBADQrVu306dPt9UjAdzPYDAgsCIiIkePHm1Hw9OnT0NXrBkzZlRXV6Oaz549gzHaNTQ0+Ly2UR2BLWRkZEC7vHnz5lEolIqKCmhwJyoq6u3t/fLlS5iEV1xc/NSpU8ReENk0ExMTZ2dnyBiiWxQWNDQ0zp07R/SA4/F4VCoVTr8VFBSQty8xZ+iQIUNg+CrYIozHLyoqChlwohpUKtXR0RFZ98BG+TJjUigUaLmjoqJCnJlDOVQqddOmTZBtFBcXFxISEhUVRZ7Od+7cgYSCjY1Ny0ng6dOniWZKAIBRo0YhO1yinriMEeiKCDx//nzs2LF8DzXalJKSkpGRgfRft27d/P39IY+fm5tLTFivpKTEZ/HHZrPt7OxgbL6TJ0/yeDxkuQaF29raoqh8ELeHDx/Ky8sDAMaNG/f58+fy8nLIyEPvfgaDcfXqVUtLy169esnJySkoKOjp6a1ZsyYzMxOxfjwer76+Hi13AQDs7OyQAzKPx0OOwAoKChkZGTk5OdCge/ny5Xzf+pqaGnt7e/jSmD59uru7u5SUlLCwsK+vL7rKJSUlMAzCsGHDSkpKeDxecXEx3AM7vnfvXmISIRqNtnjxYgDA4MGDi4qKKBQKCr06dOhQ4vsQNlFSUrJu3ToYvkBMTOzIkSPEniI1cIGIQF1dXU5OTkhIyOrVq0eOHKmgoKCoqDhq1Khly5bt37/fz89vy5Ytpqam0E1YTU1t+vTpO3fuTExMfP/+fUtDcqJkXMYIYAQwAhgBjABGACPwNyPwU4g/ZC40Y8aM37LEnZubO3XqVB0dnW3btrW6Dk+85Hl5edBqoEePHtCj9urVq5AsMDQ0bEf/Z8+ewQS+srKy8fHxjY2NxBkLHOgTG4I+iZCZWrZsGYvFQmHX4VRKWFjYwcGBSF6kp6fDSEMoWyuXy4UTMHFxcRiw7NOnT3DiZ2BgwBc+vLy8fNmyZXDWp62tjWZ6Y8aM6UIB75CVh4iIyLFjx/ggRZtMJnPFihUQSWdnZ2QkAieTMPyclJRUSzYWSRDMwvHjx0VERISFhQ8fPgwj4sMAfAAAVVXV8ePHw3zHQ4YM4bumyCtcUVHx9u3bLBYrKSnJyspKU1NTXl6eTCbr6ura2treu3ePiBUCISQkBBoSLly4ED5E8fHxMJOvoqJidHQ0qsnhcGC8sB49ety4cQPt5/F4TCbz2LFjMKFwz5499fX1obaysrJEl/Oamprp06dDyx2+pQImkxkQEADdGHV1dQ8ePAg9ghctWgR5h8jISAkJCRKJ5O3tTWyax+MlJSXBwJdiYmL6+vrwoRYREdm1axcfTcB3It7ECHQJBJ49e0a0UIPrOpqamtOnT1+3bt2BAwfi4+Nv3LgxZMgQAICsrCxi1VFCeUQRTps2DWWp4vF479+/hxl+xMTEgoODORwOXHBC9aWlpf39/YnP0YkTJ+DXbdKkSdXV1dnZ2XDFYtasWcgSmUKh5OfnP3z48NmzZ2VlZcTTIeBlZWWIx+zfvz9yAUaXIywsTFxcXExM7Ny5c1lZWTByrp2dHfElVlZWtn79esi46erqZmZmFhcXw4810TSvsrISLqLIysrevXuXx+NlZ2ejOIZTp07li/LB5XJ3795NDH56/Phx2GUAwPjx4yMiIl6+fJmfn5+cnLx3795Ro0ZB5hEeJYYvQN3BhbYQgFlBUlNTjx49umjRIl1dXQUFBQ0NjRkzZjg7O/v7+x8+fHjDhg1TpkxRVlaWk5PT1dVdsmTJiRMnMjMza2pqMMfaFrB4P0YAI4ARwAhgBDACfycCP4X4Qx6ss2fPRs6AvxLfyMhIOOgXFRWdO3dufHx8aWkphUJhsVgwrjmDwWhoaPj48WNKSoqFhQUcnQ8fPhy6Oz19+hR63aqqqrYMGcbj8RobG+Pj46FXKYlEWr9+fVNTU0VFxYQJE9C8CADQt29fIg9CpVJhxkAAwKpVq7hc7tOnT1EEcQDApEmT3r17RwTq8+fPcGYiLS198+ZNeMjf3x+yJxs2bOBwOJWVlZMmTQIAyMnJRUVFwfEuhUJJTU21sLCAzlmqqqoXL15MSEjQ0dGBWUfmz58vaIEXiR0nlqlUqqWlJYxg2A7xR6PRFi5cCPHfvHkzmgeWlZW5ublB0kdZWTk9PZ0oXMDLDAYD2t1oaGg8efIEanv37t2WtnvOzs5E4xQej/f27duBAwfCOSdihGk02tu3bx8+fJiVlVVaWtqOicTHjx/hvScuLm5qaurk5NSnTx9kCEOcsSMyWkhIyNHREVrosFisgoKC7du3wwTZoqKimzdvfv78OQqhNWDAgMTERHiZqqurDQ0N4SNAjJPV1NTk5+cHOysjIxMaGtrU1ASj72tpaUFALl26hGj64uJiaBZUXl5+6tQp5F9sYmLy8uVLFxcX+Fogk8n+/v7IrlbA7wGsHkagVQTS09ORNffgwYM9PT33799/+fLloqKi+vp69AJks9kw1zzRKDg5ORnayZLJZPj4AAAmTpwYFRX16NGj+Ph4S0tL+LD06tUrPT2dyWRCE2BRUVEUNVVWVtbNze3Bgwfp6em+vr5oYcne3p7FYj148AA2MWbMGD4GrdXuwJ0FBQX9+/eH0QB9fX1RL9ApmZmZUIFNmzY9e/YMfqn79++fkJBQ8+V38+bNmTNnogWGc+fOwdCBzs7OMMot+qY3NjbOmTMHRgmAC0IpKSlwlUJGRiYmJgY1igqxsbHdunUTFhY+cuQIj8crKytDLzToFq2kpKSiogKFoMGAuLg4jjCAMPyOAp1Of//+/fXr1z08PIyMjLS0tJSUlAYMGLBo0aL9+/cHBgZ6eXnBlMFycnJkMtnAwMDZ2TkmJqagoAC/578DcHwKRgAjgBHACGAEMAJ/HgI/hfhDoXMGDx78W7zq0tLSUNYCAICUlJSenp65ufmqVavWfPnZ2NjMmjVLV1cXRR2Sl5cPCwuDF5hCodja2sJRe58+fXx8fJ49e1ZUVFRQUADXn83MzODInkQiLVy4EK7kl5aWjhw5EpoDQI8nGMDo2LFjDx8+TE5OdnJygmdJSEhA56krV65An2IAgLq6OqL20H3G4XDc3d2FhIRIJJKnpyfcHxoaCiMWWVlZMRgMNpu9bds26Eqpra1tb2/v6upqbm6OpmeqqqohISHQlzMiIgJRjRMmTOgSLBgKpSQqKnr8+HEEDl+Bw+G4urrCq6apqeno6Ojh4eHi4mJgYADZTxKJtHHjRj73ND4hgrZZVVU1ZcoUOCdHtquNjY1WVlZoVgkAkJeXRw65qAvZ2dkwsv6AAQPy8/PR/o4XQkND0f0JmxMSErK1tW0Zg+/mzZvwnpeSklqwYIGbm9uKFSv09PSgtamYmJiDgwM86+XLl8iip1evXqdOnWIymQ0NDbNmzYIdCQgIKC8vr6+vf/bs2apVq5CZ3ubNm+EULjQ0VFJSUkhIaPfu3Twer7CwEDo7i4iIGBoabtmyxcHBYezYsdBcEQAwY8YMaMpUVVVla2sLnxQpKSlXV9eWHek4OLgmRuA3IpCcnAxN2AAAw4cPf/DgQVvKUKlUtCKyYcMG+CFISEiAj7a9vb2Hhwfi/rp16yYvL4+e+h49evj4+LBYLOTWqqmpGRwcDH14YcIlWVlZOTk5ZNo2YcIEGHsUDQOkpKRCQkLaUo9vf1VVFXSnnTRpUsuwfTweD0XtHDNmzNOnT+HiBLRnnPDlJysrC19WioqKR48eRdntHzx4AEcFyEmZwWBASlRGRgZa/BUWFsLVu6VLlxJdjJGSb9++1dfXBwCYm5tD2/yXL1/Onj2bL5Yi8eUMAOjfv38XzSuFOi44haampjdv3kRFRTk5ORkYGKioqKipqU2dOtXZ2fnEiRNBQUFbtmyZOXOmmpqajIyMlpbW3LlzDx48eO/evYqKCr6IFoLTKawJRgAjgBHACGAEMAIYgZ+NwE8h/nJzc2HUPGlpab7IQT+7P1A+g8E4evQoMZ0f30Ccb1NdXT0wMBDNEHg83oMHD6BxHLSPU1BQUFVVVVFRgUkA4eny8vIuLi4omQYysJoxY8apU6dQtHUxMTF5eXlkAiAsLLxy5UoYgQ56cUJpzs7ORCsqBFR6ejqcrsyfPx+SVteuXevRowcAYP369XAgm5ubiyaBfF3T09OLiYlB410mk+nt7Y2yo+rp6QUGBrbjzozU+I2FiooKaNIoLi7e/gQyKSkJ0Zp8OIiKiq5YsQJdrN/YnW9q+uHDh9C7dvr06cTLlJKSglzSAABLlixBznRI/rt376CLn7i4OLRPQYc6WKivr1+9ejVxTjt79uyioqKWpzc2Nq5atYoPc7gpIyOzfft2ovJ3797V1dVFR52cnF68eLFu3Tq4p1u3bsOHDzc0NEQdFBcXd3R0RJaApaWlcHI+evRoaOIXEBBATF+D1BATE1u0aBGR9CwqKoLx/qHpoqWl5f3791taFbXsIN6DERAcBAoKClBOKgMDg0ePHrWjW2lpKaoM44TyeLz4+HgpKSkhIaF9+/ZRqdTjx48jez34+IiKiurr6wcHB0O2vampCUZLGDBgwNu3b1++fGlhYcH30MnLy69YsQKyfjARECIchw8f3tJpty2d3759u2nTJmSX17JaYmIimUweMWJEYWHhoUOHkLMtevABAHp6ehcuXCAaQdPpdFdXVyEhIU1NTaTksWPHSCRSr169UBavR48erVu3LiMjo2W70Jo4KChIQkJizpw5KOtRaWmpr6/vggULxo4dq62t3adPn4kTJ9rY2BgZGUHDw4ULF3atBadW+y5oO7lcbnV1dUZGxtGjRxcsWNC3b19oBrh06VJvb+/g4GA/P7+VK1cOHz5c7stv+PDha9asiYiIyM/Px2aAgnY1sT4YAYwARgAjgBHACPxsBH4K8dfQ0AAt5gYOHIhG2D+7J3zyWSxWRkaGq6vr0KFDZWRkkD0CcW4gKSnZq1cvGxublmHOOBzOjRs3TExMlJWVoccTOrFbt266urorV65MSkoicoXIwXnu3LmNjY03btwYO3YsMaeBkJCQtra2u7s78ru8efMmJKqGDh36/Plzvi7ATQqFAp09x44d++nTJx6P9+bNGz09PQAACmrG5XLj4uIGDRqElISev0uWLHn69Cmf2KamJnd3dxg0DcaJg0lC+KoJzmZZWRn0aJOQkAgPD29HMRqN5unpyecGKykpOWjQIG9vb2K6j3aECNShw4cPw1t37ty5TU1NSDcWi+Xr6wsv4rBhw5AXMKrA4/FoNBrMhgwA0NXVbZn4hVi5rfKHDx+sra179OjRs2dPW1tbvjCCxLPevHljampK5AIkJSUNDAyio6OJjwk8JSEhAd7D0GjIz8/v+vXrrTL1ZDLZ09OTj9YMCwvr2bOnpKRkbGwsj8erqalxcnJC1rvQK1xXV9fX17flRX/+/LmhoSF6MK2srPCcnHgdcVnwEQgJCREREZGQkFiyZMlXv7B1dXXQhg4AgNYPEPEHk/NyudwnT57s3LlzyZIlK1ascHFxCQ0NhfkuIBqI+NPT04NMek1NTWho6KpVq5YuXbpu3bp9+/alpqby8Sk3btyASaugF39qamqrkdeoVOrr169jYmJ8fX1jY2NZX37t0PFUKjUyMvLu3btsNru2ttbNzQ1+pkVFRXv06NGrV68VK1a0/PDxeLxPnz7Z2dnNmjULhdsrKSmxsrJycHAgxiRhMpmt6gmhqKqqCg4Ofvr0KV8dGo1WVVX18ePHsrKympoaBoPh6+srLCwsIiLi7+8v+DdVl9aQRqMVFRVdvnx58+bN48ePV1VVVVdXnzZt2ubNm0+fPh0cHLxr1y5TU1MNDQ1paWlNTU0LCwt/f/+HDx8SV6S6NAJYeYwARgAjgBHACGAEMALtI/BTiD8ej1dUVOTn53fnzp12hu/ta9YpRzkcTllZWUpKSlBQ0O7du3fu3Onu7r5jx46dO3d6eXlFR0e/evWKRqO11VZDQ8Pz58/DwsLc3d23bt3q5ua2f//++Pj49+/ft7TOQ8SfmZkZ5GjevXt3+PBha2trGxubDRs2BAQEvHz5EhnfQWrmyJEjixYtunXrVls68Hi8J0+e6OvrT5o0CUZKYrFYR48qCTjKAAAgAElEQVQenTFjBorUDi0RXr9+7e/vv3HjRmdn5wMHDqSkpBCpIqJ8Go0WGxtrYWExc+bMwMDAVn2aiPV/bxlRn6qqqvfv329fGTqdfu/ePS8vr61ffh4eHjExMe/fv+ebpLUvRHCOent7Q4O79evXE61XeDwehUKJi4vz8vJqJ09xWloaTIUBABgxYkRSUhLx9kPdpNPp+fn5ly9fPnz4cHh4ON8TUVlZef369cTEROLcGJ1LLFRWVkZERGzevHnjxo07duyIiYmBVDWxDio/ffrU3t5+8uTJrq6uRUVFLBbr7Nmz/fr1k5CQEBERkZKSUlRUNDY2TkxMbPmsUanU/fv3jx49Gnk4UiiUmzdv7ty509HRcevWradPn87Pz2/r5VNSUrJ3794pU6YsW7bs+/hQ1AtcwAj8egSio6NHjx599OjRrz6SULcnT56MGTNGWlrazc0NhvVExN+ePXuI70Y6nd7ycePxeC2JPyiZxWLR6fS2HjQGg+Hh4YEs8rS0tLZs2XL//v2SkpLS0tKSkpKMjAx/f39LS0tNTU3omz916tRv5WLodPrjx49DQ0PPnj17/fr19r/pMBovsctNX36dfhHZbDa0YpaTk0tJSel0+VhgWwjU1NRkZmYeO3Zs4cKF/fr1U1ZWHjRokLW1tZ+fX0RExNGjR5cvXz548GAZGRkymTxx4kQ3N7fExMQPHz60eue31QrejxHACGAEMAIYAYwARqBrIfCziL+uhUKnaIuIP1NTUyLjxvjyI840iM2x2Ww+noV4FJa5XG5eXl52djaifphMZl1dXaskTsvT29pDoVCIGYTbqiYI+4uLiwMDA2NjY7+KlSBo24k63L59W0NDQ1tbOzEx8TvEstlsPz8/FMBLTU1t48aNd+7cKS4uLi0tff/+/ePHj48fP75kyZLevXtDB/ARI0b8uEN0W3c7XxeYTGZtbS26jTkcTl5eXlRU1OnTpy9fvpyVlcVn6Ec8nclklpeXoycCHepg01wut66urqUpIpKDCxgBgUWARqNVVla2Rbe1qnZRUdGDBw+Qdyoi/g4cONBqfb6diPj71ri99fX1O3fuhBl+oEG6rKysmpqaurq6mpqavLw8MZIAiURau3btn2GBS6FQ5s2bBwAYOXIkMjDkQxVv/lQE6HT6u3fv4uLitmzZMmHCBFVVVU1NzZkzZ27fvj0kJOTs2bOurq5TpkxRUFCQkZHR09OztbUNDg7Ozc0ljt9+qoZYOEYAI4ARwAhgBDACGIFfhgAm/joNakT8WVhY/BlTl06DBgv6XgTodHp6enpWVtZ3GyNQKBRvb29i6ENpaWk08SaTyXxe8IsWLULswPdqjc/DCGAEBBqBW7du9ezZU1hYOCAgoCOKUqnUBQsWAABGjRrV8RS9UDKdTr969erMmTNRzhBiSAqYVFdHR8fY2NjPz+/HVx060p1fUKeiomLixIkAgMWLF/N5QP+C1nETfAjU1NQ8fPjQ39/f3NxcR0dHRUVl5MiRq1evDggICA0NPXDggKWlZe/eveHH0cTExNfX9+HDhx20qOVrC29iBDACGAGMAEYAI4AREEAEMPHXaReluLgY5vtbunQptiTqNFixoB9GgMlkJiUloVTUfLNuAEC3bt20tLRmzpx58OBBYmCvH24ZC8AIYAQEEYF79+7B0LdHjx7tiH4MBsPa2hrar30r8Qfl19TUXLlyxcnJadasWUOHDtXX1x8/fvzChQs9PDwSEhKKi4sFPOJER1Ai1snPz+/fvz8AYP/+/cT9uPx7EaBSqfn5+REREWvWrBk2bJiysnKfPn0sLCz27t0bEhJy7NixNWvWjBgxQk5OjkwmT506dffu3SkpKTj/+++9arh1jABGACOAEcAIYAR+HAFM/P04hv+VUFZWNmbMGAAAJv46DVMsqPMQqK+vv3Hjhqurq7Gx8bBhw4YOHWpgYDB//vwdO3bExcUVFhZ2Fb/vzoMES8II/KUIPHnyBFoBu7u7d8Q7ns1m29vbAwD69euXl5f33ahxudyGhoaKL7/q6uo/OHRDcnKyjIyMpKRkdHT0d8OFT/x5CLDZ7M+fPyclJbm7uxsaGqqpqamoqEyYMMHZ2fnMmTPBwcFbt26dMmWKoqIimUweN27c1q1bb9y4UV5e/k0u9j9PfywZI4ARwAhgBDACGAGMwDchgIm/b4KrvcrV1dXTpk0DAMyZM+cPM15or9v4WFdDoLGxEU28sQ9aV7t6WF+MQCcgUFhYCLPAW1tbd9A+/cCBA0JCQrKysjhVBd8FgAFD+UjMsLAwcXFxeXn59PR0vvp4U9AQqK+vz8rKCgoKWrx4cZ8+fRQVFfX19desWRMUFBQWFubp6WlmZqapqUkmk/X19R0cHC5dulRSUvLd8TcErftYH4wARgAjgBHACGAE/gYEMPHXaVeZQqFYWFgAAEaPHv19zlCdpgoWhBHACGAEMAIYgTYQqKysnDJlCgBgzJgxHz9+bKPW/+w+d+6cuLi4iIjI8ePH/+fA373R0NDg5+c3efJkR0dHYhJzHx8fISGhAQMGvH379u9GqCv1nk6nFxYWRkZG2tnZDRo0SFFRsX///tbW1gEBARcvXgwICLCxsdHV1SWTyf3791++fHl4eHhhYSHMlN2V+ol1xQhgBDACGAGMAEbg70MAE3+dds1ZLNa6desAAAoKCvfv3+80uVgQRgAjgBHACGAEOg8BOp0OY/ZJS0t3MGN4SkqKrKwsAGD+/PnYpB1disTERGlpaQCAsLCwo6MjTETOZDJXrFgBAJgwYcLnz59RZVzoKgiwWKzS0tKrV6+6uLiMHj1aSUmpd+/e8+bN8/HxiYmJOXPmjIODg76+PplM7tOnj5WVVUhIyJs3b/isPrtKZ7GeGAGMAEYAI4ARwAj8DQhg4q8zr3JAQICIiAiJRMLxvDsTViwLI4ARwAhgBDoVAX9/fxEREQDAmjVrOkJYvH//fsSIEQAANTW1Bw8edKouXVhYVFSUpKQkzJgkISHh7Oz84cOHjIyMvn37AgBMTU0xSdqFry6Px+VyKysrk5OTd+3aNXnyZGVlZTU1tZkzZ+7Zs+fixYvnzp1zdHTU19eXl5fX0tJasGDBv//+m5ubi2NodOmLjpXHCGAEMAIYAYzAH4kAJv4687ImJyfLyckBAMaPH//hw4fOFI1lYQQwAhgBjABGoJMQyMzMVFdXh0ReamrqV6UymUwHBwfIcK1du7aDkQG/KrarVygqKjI0NESp0kVERIYOHTpgwAC4x8XFhc1md/U+Yv0hArW1tRkZGT4+PrNnz4bJQKZPn+7h4REdHY0YQFlZWXV19blz5wYEBDx79qypqQmjhxHACGAEMAIYAYwARkAQEMDEX2dehc+fP0+ePBkAIC4uHhgY2JmisSyMAEYAI4ARwAh0EgIUCmXlypUAgG7dusXGxnZEanJysoqKCgDA2NgY+rR25Kw/vk5eXp6DgwOZTEb0HyzIycldu3btj+/+X9jBxsbGZ8+eHTlyxMTEpFevXsrKytOmTdu1a9eFCxdCQkKgDaCMjIyysrKZmdnJkyfz8vJwHMC/8D7BXcYIYAQwAhgBjIBAIYCJv868HFwu9+jRo+Li4gCArVu3crnczpSOZWEEMAIYAYwARqCTEMjNzTU2Nl61ahUxK0U7shkMhp+fn4GBwaVLl/DXjQgUg8GIi4sbPnw4kftbuXIl9vMlovTnlZuamnJycgICAszMzDQ0NJSVladMmbJz587IyMjg4GAHB4fBgwf37NlTS0tr6dKlERERxcXF2AL0z7sNcI8wAhgBjABGACPQJRDAxF8nX6aqqioHB4dZs2ZlZWV1smgsDiOAEcAIYAQwAp2HQF1dHYVC6bg8JpNZXV3N4XA6fsrfU/PVq1fr1q0jk8kkEmn69OmvX7/+e/r+l/eUQqG8ePHixIkT5ubmmpqaysrKkydP3rVrV1RU1OnTp1euXNmvXz9paWldXV17e/urV6/ilC9/+Q2Du48RwAhgBDACGIFfjwAm/jofcwqFUldX94NyS0pKvL29k5KS8PrwDyKJT8cIYAQwAhgBjMAvQIBGo92+ffvUqVPFxcW/oDnchKAhQKVSc3NzT548aW5u3qtXLxUVFSMjIx8fn7i4uJMnT1pZWWlra8vJyY0cOdLNze3u3bs/PlYUNASwPhgBjABGACOAEcAICCYCmPgTzOvCu3DhgpiY2IABA/Lz8wVURawWRgAjgBHACGAEMAIYAYzA/yJApVKzs7MPHTo0ffp0JSUlLS2thQsXBgUFXb169dixY/PmzVNXVyeTyYaGhv7+/q9evcJBAP8XP7yFEcAIYAQwAhgBjEAnI4CJv04GtLPEhYWFiYuLy8jIpKWldZZMLAcjgBHACGAE/hIE2Gw2tD4rKSn5S7rc6d2k0WgxMTGbNm1ydnY+e/bshw8fOr0JLPDPRqC+vj41NXXXrl3jxo1TUFDQ1dW1s7M7d+5cYmLiwYMHDQ0NyWSylpaWtbX1xYsXOxht889GDPcOI4ARwAh0dQS4HA6Hxe7qvcD6/3kIYOJPQK8pJP6kpaWTk5MFVEWsFkbg9yHAYrEqKytpNNrvUwG3jBEQaASKi4tHjhwJAFi8eDH2KPy+SxUaGionJwdTdoiKio4dOzYuLo7FYn2fNHzW34xAVVXVzZs3nZycBg8eTCaT9fX13dzc4uPjL1++vHnz5kGDBsnLyw8fPnz79u1paWk4LczffKvgvmMEMAJdGoHa3KIn7idzfM4z6pu6dEew8n8eApj4E9BrCok/KSmphIQEAVURq4UR+H0IXL58ecSIEWvXri0tLf19WuCWMQKCi8D9+/dlZWUBAH379s3LyxNcRQVVs7y8vGHDhhET9QIAlJSUDh8+TKVSf73WNBotIyOjqKjo1zeNW+wsBDgcTmlpaUxMjI2Njba2tpKSkomJSWBg4J07d86dO7dkyRJNTU1FRUUjI6N///23qKgIp8/uLOSxHIwARoAPAVYT9XPGi9KkzMbiMr5DePO7EajOzr9h4hSmMjtx+nrKx8rvloNPxAj8DAQw8fczUO0EmSEhIeLi4lJSUvHx8Z0gDov4yxBotjH/c81SGAyGra0tAEBMTOzcuXN/2bXF3cUIdAiBiIgISUlJAEC/fv1+EvHHYDDy8/P/VP9Eb29vYWFhAICwsLCSkpKysrKIiAgAoEePHnv27PmmbMgdumBfqxQTE6Oqqjpx4sQ3b958rS4+LugIMJnMV69eHT58eOrUqdAF2NHRMS4uLiUlxcfHZ9q0aWQyWU9Pb9u2bY8fP8a27YJ+ObF+GAHBQIDDYldn55en5TC/ZmvGotKz9p65OHhxVL95d6120SpqBKMHBC24XHp1PbW8mtt1fGYbSz7dXuAWrm4crm58baYjpQwTf4QLiosCgAAm/gTgIrSmwvHjx0VERDDx1xo2eN9XEKDRaEeOHLG3t8/Nzf1K1a55uKamZvr06XBCfujQoa7ZCaw1RuDnIrBv3z4SiQQA0NHRefXq1c9oLDo6Wltb28jI6P379z9D/m+UyWAwbGxs4Etm5cqVubm5eXl527Ztg56/3bp18/T0/JV2fzQazcrKCgAgKioaGBj4G5H5pqbr6upKS0s74rhaX19fUVHxa9arSkpK7t+/X19f/019+UmVa2trb9265ejoqKurq6CgMHXqVB8fn9TU1CtXrqxYsUJTU1NNTW3x4sVxcXE1NYI3M/9JoGCxGAGMwHchUBJ/P27M8piBC7M8z7JpjHZklN3LujhkSTNFpWacvHQnraK2ncq/5dCn+89uznGJn7g6PzSRy+4C8fKYjdTMLQERGnMiNOZg4u+33DO40a8i8BOJPyaTSaFQBHChksFgvHv3rqSkhMPhfBWg31UhICBAWFi4e/fu2NX3510CJpNZXl7+6w03fl6PoORHjx6pq6sDAFavXi2AD+CPd7+goGDAgAEAABERkaNHj/64QCwBI/CHIcBgMJYvXw7dVOXl5TMyMjq9g1wud8+ePQAACQmJiIiITpf/ewVSKBQLCwtoL4lWUBgMxtmzZ+HbtWfPnl5eXr/sBVtdXW1oaAhfen5+fr8XnA62Xl1dbWtrq6amtmnTpqam9kIdvX37du7cuYMHDz548ODP/iJzOBxXV1cZGRlvb2+2wEwm2Wx2YWHhmTNnTExMlJSUevfuvWrVqitXrqSkpHh4eAwZMkReXn7y5MkBAQFv377F/r8dvANxNYzAX4UAi0K7b7cvTNUoXN340gjryiev2+o+h8V+vCMwXN0kXN0kcfr6yqcCFwyETWemOfqEqcwOVzO+PNLmw43OH8O0Bc737edyuG+Cr0b1mx/RywQTf9+HIT7rFyDQycQfg8EoKiqKiYnZuXOnra2tubn5okWL3N3dBcczhUaj7d+/v3fv3jNmzBDk6GAHDx4kkUh/c3KPurq69PT0M2fO7Nu3z93dfd++fZGRke/evev4U0GhUN69e9fWIjmVSj1w4ICurq6Dg0NtrcCtdHW8my1rBgcHi4uLAwDGjRtXXl7eskJX35OamiovLw8AIJFI+/fv7+rdwfpjBDodgYqKikmTJkHir2fPnjdu3Oj0Jrhc7t69e4WEhEgkkpeXV6fL/70CEYDGxsYNDQ1IGQ6Hc/nyZT09PQBAz5499+/f/7OJKth0WVnZuHHjAACysrJJSUlIH0EulJaWwvQySkpKDx48aEtVJpO5detWeK+SyeSUlJS2anbKfjabvWbNGgDAxIkTP3/+3CkyO1FIY2NjWlra1q1b9fT0yGTyrFmzTp48ee/evVOnTs2ePVteXl5XV9fV1TUjI+NXGpx2YgexKIwARuAnIcCmMdIcfMLVjCN6zbmgY/42os3vftP78mszN4SrGV0csrjkapsv55+kZ0fEctnsHO/zkVpm0G02cfr6qiyBYyeJHal8/Cp+gl24ujEm/oiw4LKgIdBpxF95eXl4eLiNjU2fPn1gXCFiSGwLC4uqqipB6Hx2drampiYAwMDAQGA5ETihAgDIyMjcu3dPEHD7lTo0NDSEhYXNmjVLXl5eVFQU3Uji4uKDBw/29/fvyL1UWFgIbQ3Wr1/f6sQsKytLTU0NACAnJ5eWlvYrO/iz2/L394exqObOnUucsv7sdn+Z/PDwcPSScXBwEByrjV+GAG4II9A+Ai9evIBfOshP/VTiT0hIaM+ePe3r0+WOFhYWDh48GACwdOlSOp3Op//du3cHDhwIAJCSkjp06NCPO6gyGIzz589v3br1+fPnfG3BzZcvX2ppacGhS1lZ1wjE3tTUNH/+/K/GZEhKSoLfYgCAhobGo0ePWkWgs3ay2Wx7e3sAgKam5osXLzpLbOfK4XK5RUVFQUFBhoaGZDJ54MCBO3bsSEpKunTp0sqVKzU1NZWVlS0tLWNjYzsyHOpc3bA0jABGQGAR+Jj8+NIwq/BezaZ8T3ad5LJb92wrjEqK6msRrm6c4eTHpvJ/4H5p77jcttx4aVV1rwJjr/3jeKH33PNKMzNdAziCGrucRaGlb/Bttk9UN47ubxmpPRe7+v7Suwg31mEEOoH4q6mpOXfu3IQJE6CREaJpiAU1NTXicJZCoZSXl799+7aioqLDqnZOxUePHqmqqgIArKysWo7mO6eNH5bC5XJ37twJAJCXl3/8+PEPy+tKAj58+LBq1apu3boR7x9iWUxMzMbGpv2Zz9u3b01NTeFZK1asaJX4u3LlipSUFABATU0tMzOzC2FEo9FevXrV1nCfw+Fs3rwZzrW8vb27UL86qCp01EK3hI2NDYPRXhyTDorF1TACfxICKSkpMjIy8DGRlZVNTU39Gb3z9PSEYQTt7Oyqq6srKysLCgoePHhw48aNjIyMrKysysquGtk6OzsbDhVWr17dKq+XmJioo6MD+aP09PQfhPfJkycaGhoAgKlTp3748KGltLS0NJijed26dUwms2UFAdzD5XJ3794tJCQEALC1tW31RV1UVDRlyhR4oyoqKp4+ffpn9w4trPbs2VPwbSdra2sTExNtbW01NTXV1dWXLFkSFRV1584dd3f3IUOGyMnJTZgw4fDhw/n5+YIcu0YAb06sEkbgj0SATWc+2nosopdJuJrxncXbGbWNLbvJqGtMWebRbO43aNHH5M6ZY7LpTFplLaWsivKpil5dz2GyWraL9nCYLMrHio93Hucei36y62TmloDsAyHVz9+iCsRCU+nnwuikHJ/zH25ktMVjEuv/ljKHySpJSH28PfD5ofC3ETevjFsZrmqEk3v8lmuBG20fgR8i/ths9t27d+fMmYOsb7p37z527Fh7e/udO3d6eHjs2LFjzpw5ysrKixcvrq6ubmhouHHjxtatW83NzQcOHKioqLh06dK6urr2Vezco5mZmcrKyiQSSZBzAqAVaQ0NDYFdke7c6wKllZWVLV68GM4kAQDS0tKTJk1asWLFmjVrJkyYgG4zYWHhXbt2tToZ4/F4RNZv8uTJKDwTn8JeXl5oytoqM8hXX0A2ORzOsWPH1NXVTU1NX79uJX4HnU6HMeAVFBTu378vIGp3oho0Gm3hwoWI+Fu7di22+OtEeLGoPwOBhISE7t27w8fkZ3xHOBxObW2ti4sLpHVkZWUNDQ1HjhypqqoqKyvbs2dPuS+/RYsWtbVEIeA4P3nyhEwmAwDWrVvX1hvmxIkT4uLiwsLCx48f/8Hu3Lx5s0ePHu2YZ164cEFSUlJEROTH2/pBVb/p9HPnzklISAAAZs2a1XKwV1lZaWtrCz/EioqK//77b1uf9W9q9KuVQ0JCxMXFJSQkwsLCvlpZECowGIycnJzdu3fr6+uTyeTJkycfPnw4KSnp33//hf6/ffr0cXZ2fvDgQRcazAgCsFgHjMCfh8D7a2nRupbh6sZXxq2szStu2cHSmw9jBi4MVzVKWb6H0UbyXzaNUfv6XXHcvfxzCUUX79TkFrWVKoTL5X66l5W+wTfR0D5utG3cmOXXjTY9/M+RkvgHrCYqX+uM2oYPNzMe/ufI1UlrovtbhqubNEckVDUKU5l9f9V+ZiN/fb7TW93kMFmM2kZ6VR2jtoFN/+ZVMS6bw6LQOsWWkMvh8ni8+rcfrhhg4q/Va4V3/n4Evp/4q6+v37t3L1wSBwD06NHD3Nz8ypUrFRUVxIXHhoaGvLy80tLSxMREExMTaWlpOBUREhIik8kbNmzoSLq3TsQpMDBQVFRUVlb2zp07nSi2c0Wx2ey1a9cCAAYOHFhQUNC5wgVZ2pEjR5Bv78CBAy9dulRTU8NkMtlsdkVFxZkzZ3R1deH9o6+v32q8v8rKysWLF6M6bTkNNTY2wsDt8vLyN2/eFGRM+HSrr6+fPXs27KCHh0fLIN91dXWwwujRowU5iiVfvzq+iToIABASEnJ3d28JQsel4ZoYgT8SgZiYGGQ3PWzYsJKSkh/vZnl5+dWrV0+ePLl79+5169ZNmzYNpriFr6OW/8XExGbPni2wITXaB+Tly5fa2toAgHaWFjIzM+Xl5UVERIKDg9uX9tWjd+7cgaOjVpP2cjgcNzc36Fl85cqVr0oTnApxcXHQsn7IkCF8n+yysrLVq1fDL76iouLJkyd/DevH4/HCw8MlJCSEhYW7SpoUdEFLS0vPnz9vYmKioKCgq6vr7OwcHx8fHR0N/X8VFRUXLFhw7dq1XzyuRurhAkYAI/DbEWgoLks0tA9XM47qN79l/D5WEzXV/uCXo/OKLrYyEeZyuBWZuekbfC+PtInqYxGpZXpBx/zyCJsMJ7/a1y1oRC73/bW0K+NWwIwiMB5fuJpxuKpRtO789I2Hal81R2bncjgVj1899w2/bbm1me9TM4bZhGHNMFWjMOVZd63dmW2wkG1BSq9peBeb/NDF/5a56/XZG2+Z/SfN0fdlQHTl09dseiueQKwmGqOuEdJzUGbTh8/P9ofcW77n8c6ghqKPbTX0Tfurcwpi9ZeGq2GLv2+CDVf+RQh8P/GXkJDQs2dPONbv27fv+fPn2xpqlJaWbtmyBQbjhxkAR48e7ePjk52d3X6it07HoLKycubMmQCAMWPGfPzYOU94pyvJ4/EQ8TdixIhWvX5+RqO/XSbRhVNaWvrChQstVYqMjIR3nZycXEtzNhaL5enpKSYmBlMxJicnt5QA9+Tk5MBJ3T///FNdXd1WNQHc39jYaGJiAp87CwuLlk/Qmzdv+vfvDwAwMzNr65EUwH51XKWqqqqpU6dCBERFRY8dO9bxc3FNjMBfgkBYWBi0tAIATJ8+va0cRx1H48OHD/Pnz5eSkhIWFm7J8cE93bt3V1FRmThx4vr16w8dOhQbG1tYWNhFeXmUOrwdi7+amhp7e3sjI6P8/PyOI9lqzcjISGTSvnnzZuLqKY/Ha2homDNnDnQrzs7OblXCL9hJp9NpNNo3XdCnT5/CJMiysrLErB35+fnz5s2D95KCgkJQUFDnsn5NTU2fPn368OHDx48fa2tr+XSGT4eQkNDevXv5DiEYGQxG56qEJP94oaGhITk52cHBoU+fPkpKSubm5iEhIdevX9+5c2f//v3l5OTMzc3j4+P/yAi/P44eloAR+LMRaE7xsd77S4oPkyzPM1zO/4T5K0vJih26JFzN6NbczdRP/MH32XTmm5CEuDG2zZScmnEzJadqhHi6W+ab69/+TySKike58RNXw4wW4WrGkdpm0f0to/rNaw4y+CW5cKKhfXHcvffX0puN4L7IbHZDVje+0Mc8fsKqZsZte+CzAyE53qHl6c953GaLuY78OExW2b2suzbuUX0smhtqltysanOUvV4mscOs0jceqnz6miiQVlmb4eR3a+7mkvj7cD+1vPq+3b4vbtHNeZAfrPWi19R3pPX261Rk5l4cvBgTf+2jhI/+LgS+n/g7d+4cZFiEhIScnZ1b9YVhMBhXr16dOHEidOUQFxc3NDQMDQ399OnTb8VfyQQAACAASURBVOlwQkICXFRfv379z44j8yMdRMSfIGcg+ZEOtnVuTEwMdE8bOXJkq9Zqb9686devHwCge/fuCQkJfHKSk5PhHENeXj4iIoLvKHEzKChIVFRUSEjI09OzrXE/sb7glGtqambMmAGn2ePGjWv5KF27dg1yo46Ojj8yb2EymcnJyaGhoR0JxEn/8vs1KJWVlY0ZMwYiICkpGRUV9Wvaxa1gBLoQAqGhoYj4W716davh1b6pOwkJCciEsCXxp6Ojs3v37oSEhFevXtXU1PDxVt/U0E+tzGQya2trq6qqampq2sKkoaGhsrLy+fPncAVlxYoV7YwWmpqaWvJK39oFZNAHgW0ZgLigoADmEZ49e3Y7OehZLFZBQUFcXNypU6dCQ0MzMzM7ce3nyZMnK7/8CgsLO97B6upq+MEikUiurq5woJiWljZx4kTYWQUFhRMnTrSDMI/Ha2pqqvrya2xs/Or3mkqlhoSEmJmZ6erqqqmpaWtrT5kyxcXF5f79++iD2A7xx+VyCwoKAgICrK2t161b9/Lly4539hfXZLPZeXl53t7e48aNI5PJo0ePPnDgwLVr1/bu3Tto0CBZWVkTE5PY2NiWHta/WE/cHEYAI/CLEcg7E9+cX0LNOGn+FnrV/wXUgjkowtWNI7XMXgXG8mnFYbJeBcZG6y34Yrhncmm4dZqjz5NdJ2+YOF3oYwGT1eZ4hyImkdlASV3nBVm/6P6WD13834bf+HDzYcnVBy+PRiXN23JBxzxMZXbMoEVxY5aHq5tEaMxp/tOcc2vu5sLo203vy1kUGpLGpwzaZDVRGXX/E6mwobD0ya6TzfQlTKHbyyRC0zR26NLLo5ZdHLw4QmNOuFozFRg3bkX+uUTk/Fv76t3lkcvOK818sGY/m87gMJjP9p2N1DKD/YroZRLVxyI/9Bpq97sLnx5kN3tSqxndNHWhVdR8txx8IkbgZyDw/cRfdnY2zGoHAOjdu3dMTAzf0K26unrXrl3I0G/gwIFBQUG/MdQ3MiiTkpL69WQBnU7/6oAVXWAGg7Fs2TJoqdG17NFQF76vUF9ff/jwYXNzcz8/v1ZnZY8fP1ZRUYGBkPjCcjc2NsLYdkJCQuvXr6dS2wwV0dTUZGlpCQAQcI/vVjFEBn3wuWsZwdDHx4dEIomLi4eEhLQqAe2k0WjVX36tZrmJiIhQVVUVExPbvn0736ONJMDCmzdv7OzsbG1tc3Jy+A79jM2PHz+OGjUKThrl5OSIViQ/ozksEyMg+Ai0JNpOnDgBnSi7d+8eExPTVhcoFEpJScnLL7+ioqJPnz61+uLl8XiPHj2CuSwAAGQyecKECcuWLZswYQJc1VuyZEn7b4mWCtDp9NLS0levXr148aKwsPDjx4/tvLRbnv6te2pqaiIiIlauXDl58uTRo0dPmjTJysrKy8srMzOTRqMhadXV1StWrBg0aNCsWbPgMuEvMJ2ur683NjZGdKqJiQmfrVZiYiKMALhr1662BhIvX77ctGmTjo6OlJSUiIiImJiYgoKCubl5amoq8RQ6nZ6Wlubr65uenk7cjxBotZCZmTly5EgAgIyMzDcliuFwOO7u7jAQpIKCgoODw8aNG/v06QM7q6Gh0U42Dy6Xm5WVtXv3blNT07FffsbGxps2bbpw4UJbHhs0Gu3gwYPIGQVBCrN4ubu7w6Uy6OoLLf5Qf+vr6+/cuePs7KynpwfvagCAg4PDt97YSOAvK1RWVl68eHHevHkKCgoDBw708PBISEjYv3//0KFDZWRkZs2aFRUV9eM2v7+sO7ghjABG4AcRqHiUG6tvFa5uHDt06eeH/7d6UXYv64sXqnHcmOXVz/kDSb27dPfikMXNbJqm6Z3FOz6nP+cwmDwul1ZRm30g5ELvueFqRslLdiKH3IrMl83S1E0itUyfepziyw5Mq6x9E3z12swNMQMXRfe3/C/rpzEnUtvs2f5gFuX/PrvtdJb2uSbNwSd56c76t6WwGvVzdfLSneHqJuG9mpnEcHWTqH7znuwMqn5e0PS+vOJRbo5vWKKhfaSmabiaUbTegleBsTDTSNOHz4kzHMJUZqfY7mbUNxWEXY8ZtOi/dKSmKUyHctfava2gh+0oyXeo9NbDL+7MRrct3TrFhJBPPt7ECPwIAt9P/HG53CtXrkB/SQCAgoLCxo0bc3Jy4AwkPz/fysoKmgRKSkouX778ty+c1tbWwthnw4YN44s18x0IdnzEzGQyw8LCFi1a5O7u3pbfbnFx8alTp6D7M4/Ho9FoMFDdnDlzOrJi33FlvqOnv/gULpdLpVLRyjxf6zAmNwBAXV392bNnxKPZ2dkwK6K6unr7qZCzs7O1tLQAAJMmTepy8acSEhLgDBAAICcnl5aWRgSBSqXCO0dTU5MPH2K1wsJCPz+/BQsWjPvyW7JkyenTp4mWfQwGw9raGs6aJkyYQDxElMPj8VgsFkwiDADw8fHhO4o2O/EWfffu3dChQ6FuBgYGbc0Af0bTSCYuYAQEAQEmk/no0aODBw+uX7/excXl1KlT6HE4duyYiIgIAGDcuHFoJ1FnFot17dq1+fPna2lpKX35qaio6OrqOjo6trQjhgEoLl++bGNjs2/fvoyMjJqaGjabfenSJWij3dJIjdgWX5nL5WZkZKxYsaJv375KSkqKiooqKio6OjpLlixpNWER3+nfuslkMm/fvm1iYoJ8aYl8kLKy8vLlyzMzM+E76uXLl/DrgOooKiquXr06ICDg1q1br169Kisrq6+vb+sL9a26wfpZWVnERidOnPj582eiKE9PTyEhoR49erS0c+fxeBwOJy4ubsiQIUhnYmHAgAHoM8HlcoOCgpSUlAAAI0aMePu29SyKxKZ5PF5xcTGKrmBiYsKnG1/llpuPHz8m9g7pNnLkyKSkpJacNZRQWlrq6enZu3dvVB8VJCQkRo0adeLEiZZkVnBwMEpmDQPL9OjRA5m+CgsLz5w5MzMz8/z58xISEkJCQvv27WOz2YWFhYGBgbNmzYJ5k2FD8vLyw4cPDwgIEHziDyJGoVBu375tY2OjoqLSr18/Nze3q1ev+vr6jho1CubeCQsL+41L7y1vDLwHI4AR+EkI0KvqkuZvbfb21TTN8Q2DUe3+v7lfs6dt+gZfFpVObL3uTUniDIdmd10t01T7g5SySuLRN2fjL/SxCFczur1wG6O2AR4qOH+tmQ1UN75h4txY0ronH7W8uuJR7ofr6clLdjZzf1/Yuuj+lvdX7y9PzUbmeMS2iOXqnIJmIz5N04Lz/7XFaygsjZ+4qpmd1JgT3qvZLPFV0CW+vjQWl2V7nYsZsDBcrZn6LE161Gw5/uFz4vT1Yaqzk5fseP3v5dhhzcToBR3zDCe/p+7/fsk0Ynx5tG3Niw59FolK8pW/JFeZH65q1By1sIHCdxRvYgR+LwLfT/zB4WZCQoK+vj4akPXu3dvd3f3ixYsTJkyAO1VUVA4fPsy3fP1b+vzo0SPoB+ro6Ph9Izkul5uXl3fixIktW7Y4Ojq6urq6u7uHhYW1Ok1CfSwuLoYQiYqKthoCvKamxtLSEq4w//PPPxUVFRQKxczMDABgaWnZlhEEg8HIyMjw9vZ2cXHZsGHD1q1b9+/fn5CQ0BGiEOnWtQp0Ot3Ozg7eVwYGBnyw3717FxpodO/efdeuXZ8+feKbm7HZbAqFUllZuWfPHjgl3rRpU6su6gILC5fL3bNnDzJGaOnvXFxcPGzYMJhCsVWPMBqNFhoaOnToUGiCgZ5cMTExMzOzvLw82HcGg7F8+XJ4dNCgQUVFRW1h8uLFC+h8LSUlFRkZSaxGo9Hu379/4MABZ2fnjRs3urm5eXl53bp1q61bmnguLNfU1OTm5ubk5Lx//x4ZIuXn50OvNxKJtHv37lbnjRwO5/nz50ePHnV1dXV0dNyyZcuePXuioqK6aILRlsjgPRiBz58/u7m5ofxaAABhYeFZs2bBp9jX1xcGUGvV5b+pqcnHx0dZWRm9AWBBWFhYXFx8+/btfG9XhDZ6DOGee/fuQa6k48Qfi8UKCwtDNl9IAeEvvxUrVnSQjUIqtV8oKChwdnZWVFREDZFIJDKZrKqqSsxM0rt375MnTzIYjA8fPowdOxZVRgUSidSzZ08lJaV+/frNmDHDzs7O09Pzxo0bnfJKOXr0KMpqBZN6Ed1p6+rqYFzXAQMGtEz2xeVyo6Oj4aIXXA2ysLBwdnY2NDRES0S2trbwrUtMid69e/fr16+3jx5chnRxcYEfHV1d3YyMjK+ewleBwWCg7M8Iz4kTJ2ZlZfHVhJtUKhWOIYnRJKWkpFRUVJSVlRF7Ky4ubmlp+erVKyQkPz8ffv4AAFpaWlu3bo2IiEhMTIyMjHRzcxs0aBD86g0cOHDt2rXQb33GjBnr16/X1dWFQwKonra29o4dOx4+fFhZWdm1Rgjwej148GD16tXq6uq9e/d2cnK6fPmyv7//+PHjZWVlJ02adObMmbaeboQkLmAEMAJdGgEuh5t9IOSLQZzxdaNNTaXNK0llyU+ge2zMwIWlNx8SO8hhsrL2noHEXFTfeWkOPoUXbtW+Kmos+VT9vCDbO/TSCBsYm+/RthPQgI7H5T7bH9xsMdfL5Nm+YGI0PaJkVG4sKX/kdrzZyK45s0cz+Rg7dEnGpsOfHmS3Y/1Xk1t4eaRNuLrJc9//ZmCnV9fftvzCafYyuTzS5t3llFadhf/rttycSMQo1f4gm8aoe1NyZeyKcHXjmAELvrgzm0Rqz3207QSjrpHVRH2w5kC4mlFUv3nFV+4jnb+vUBRzB5KkKba7W+Y1/j6Z+CyMQGch8EPEH1Ti5cuXrq6ucPIP5x4wiRsAoH///hcvXhSQkZO3tzccu7e6Zv5VQGk02pkzZwYMGIBoFzhGFBERWbduXTt02+PHj+ECu46OzsOH//OqhY1mZmaiCdj48eM/f/5cV1f3zz//AACsra35JlrwlMrKyu3bt0OnVzSShm44gYGBrVIhX+2g4Fd4/vw5mi6uXbuWj71FXsAAADExsXHjxtnZ2bm6um7fvn3btm2urq5r1661sLAYMWIENFEBAIwdO5Y4vxJ8BCorKw0NDdEVl5CQOH/+PFHtmzdvQvbTzc2t5W3Q1NS0e/duWAFaQygpKaHJIQBg+fLl6E6OiYmBphNkMjk9PZ3YCrF88OBBOD2bNm0acTrx8eNHJycnBQUFpC0skMnk8PBwooRWy1VVVcePH580aZKysrKCgoKOjs6GDRsg//jmzRuY3FlJSalVp7OmpqYjR47o6OjwkZvi4uJbtmwhuvW12jTeiREQfASqqqrs7OwQM0K81bds2cJisXbs2AHTXrdMX1BXV7dlyxZIfHTr1s3AwMDe3n779u2+vr579+6VlZUVFhaeP39+Rwy7Hj9+TCaTAQCtJhpqCSOdTvf394evBVFR0WHDhtnZ2W3bts3Ly8vf3x+OIsaPH49WIFpK+KY95eXlRBdaAEC3bt02bdr09OnToqKitLS03bt3Dx48GH7TpaWl/fz86HR6cnKyhYWFkpISEVW+9xjc7Nmz5+TJk6Ojo1v9THdQ1YaGBnNzc6J8eXl54psNrVlaWFig9zMSnpKS0rdvX3j6iBEjrly5AjM+1dXVBQYGwre9vr5+cXFzNsampiZTU1NYWUJCov1IuM2pGLnc8PBwGLBFQUEhIiLi+2y3i4uLlyxZAl1AAACioqIBAQGoC3yF8+fPEzlZAMDw4cOjo6MLCwtfv34dGRlpaWmJzPqmTp2KuL+TJ0/CJmRkZM6dO8cntqCgYPv27X369FFQUDA0NETDVCLyMjIyNjY2Dx8+/L5u8rX4GzehLfDGjRu1tLQ0NDTWrFkTHR197NixKVOmyMrKjh079sSJE62GUf6NOuOmMQIYgU5EoOzu0+ZIc+om0brzSxIesCi0B6v3w6y791bs5XNorc4puDKumRSL0DSN0JgTpmoU2Xtu7DCry6OWxQ5dGqFp2pysQ63ZQRg5DnNY7MzNR8NVjSI05jw/9PVRfbPfAI1RevvRfTvPi5D++xKJ7+LgRfdX7StJeECv+a8hIRGExuKyhKnrwlRmZ2w63Ox3zOOxmqgptrubjRk15jzbF8xl/0/qEuK51M/VN0ycwlSNEqbZN5V+rsrOjx26pNnksNd/DQ/TNvjS/n8AxLzTVyK1zSK1zPJOxxGFfEe58MKtCzrm4WpG95bvYTV1yKP5O1rBp2AEvg+BTiD+oOlfbm7uypUr0WIsAEBERMTd3b0l+/B9iv7gWRUVFdOmTQMATJw4kUhPdFBsfX29u7s7Ykx69uypoqLSq1evESNGaGlp9ejRw87Ori07hWvXrkFuZePGjXw2aLD1oKAgOFoVERGBk7SKiopJkyYBAFatWtXylHfv3llZWcEFahKJJCcnp6qqqq2tPWbMGAUFBTU1tb1797Zq7dXBzgpmNS6Xe+DAATjR7dGjx6VLl/j0rKurs7W1/epUjTjKFxER8fHx6UJD/JSUFDjNhr0gkUgHDx5EOHA4nJ07d8LJbWwsf9ReJpPp7e0NZ/skEsnAwODcuXOvXr26fv26ra0tnAWpqakhL+n6+vpFixZBaW3FCHv79u2IESMAANLS0kRzv7y8PHNzczidFhYWlpeXV1VV1dHRGTNmjJycnLa29qFDh1rmI0YdKS4uXrp0KZoloktmbW3d2Nj47NkzyKQPHz78/fv36CxYqK6udnFxQS8iaWlpFRUVDQ2NUaNGqampSUtLb9y4sS2Pez5ReBMjIJgIsFisPXv2wAeERCKNHz/+0KFD/v7+Tk5O06ZN27FjR0lJCfzeCQkJ7dixg/gVbmxsdHV1FRcXh0FCT506VVFRgSrcvn0bxkeTlJRs1T6dD5AnT57AN5KhoeFXw9GyWKwjR47Az6iCgoKnp2dpaSn6wL1+/Ro6hJJIJA8Pj05ZL0Q5MeA7RFVV1c/Pj0L5H9eboqKiHTt2QCJJWVkZGsFRKJS0tDQY1U5ISEhPT8/MzMzU1HT48OEqKipo6QiKHTlyZMsXER9Q7Wyi0BP9+vWDSxpiYmJBQUHoFLi4QiKRvLy80E5Y+Pz586xZs6Aa06ZN4wuocvXqVXh1Bg0aBJe4iBZ/vXr1QuZ7XC63vr6+JX2Znp6OVHJ3d29ZgU+fdjarq6tXr14NP9AiIiLtZGOHfs2wU8LCwiYmJny2gRQK5dq1ayg9iLW1dUNDA4vFWr16NTzLzs6u1e8Lm80uKip68OCBl5cX+kbAU7p3725hYZGYmMh3e7TTI8E/xGazc3JyXF1ddXR0VFRUrK2tIyIigoKC/vnnH1lZ2REjRvj5+UFGWPD7gjXECGAEvgkBWmXtbUs3mKYj1f7gu0t3Y4c0Z8OIGbjw/bX/iRHE43KfHwqH5n7JS3f9N2/GF1YO5uFtFqJmdHnUssILtxDRxqYz0hx8wlWNIrVMXwXxz8jaUZXVRP10/9kT95MJ0+wjtc2+5OQ1iuo3//bCbUWxyXyMJK2i5qapS5jK7Ftz/wMTZTQTf8t2h6saRfWdV3zlXjsN1b/9cHXymnBVo6sTVzcWl5Wn5sQMXAh9jcPVjZPmb20sLkOno6PPD3eIxEQntixADjFc1ShtvTebzmhZAe/BCPxGBDqH+IMdyMnJQQZZcCyloaEBB/e/sYew6StXrsD5jIeHx7cSPXV1df/5z3/gTElZWdnJyenWrVv5+fmlpaVlZWUoFJqTk1Orw+JTp06JffmdOXOmJQ7/j73zAGsiaeN4QEXsYAFFbCcmoSNIsYPAqaCIh72j2CsWFLuCYNezY5cPRDkr6Nl7S2ih9x5Cr6mkbb5nM9xcTIBDRQUcHp+7ye7slN/sJrv/fQuHwwFB2QgEgrm5OVAPYfqCNWvWwEcycGxGRoaTkxO4e9bV1T1w4MCHDx8yMjLy8/OTk5OHDh1KIBDatWv3n4kdFEfSxLckJyfDGEZjx46tNepcXl7ezp07iUSirNsOOBXr+u+aNWsa5QnzB9DDMMzb21tZWVlJSaldu3bgHJg7dy5MzVFUVDR69Oi6kn7cu3cP6GVt27ZdtGiR7O1+YWHh8OHDCQRChw4dQkND4VxgAK89e/YoXjUikWjPnj0A9ezZs6uqqsCB8fHxMCCUiYnJsWPHKBQKyBtAo9FARiA1NbW7d+/CjmQLZWVlrq6uUMAF8nq/fv06duzYt2/fmJiYR48eASXdwsJCLnhZSUnJsmXLgNNcnz59tm7d+vLly7S0tLy8PDqd7uzsTCAQgINwc1l0WTKojAgAAjBomoqKyvLly2VVp6qqKjabfeHCBZiBd/z48bKh0C5fvgxU/r59+96/f18O6alTp6DPqY2NzX++JPsi4e/p06e9e/cG7wnOnDkDJT8whtDQUCiokcnkuLg4ubF9xceysjJoIt2nT5/g4GC531PQpkAgOHbsGLhDmD17NpB+BAIB+HHv0KHDjRs3eDwem80uLi5OTk5+8ODBgQMHVq9ePXfu3KVLl16/fh1+CX/FIM+ePdumTRsVFZUzZ87s378fvNyaOXMmcM7Nz88HClfPnj1hqD7Yy7lz50AAu9atW0+YMOHMmTMREREZGRnx8fHHjx8Hmh2BQHBycgKpXUUi0bJly8Cv4YwZM8BMExMTPT097e3tvby8ZOMwZGVlgYS8SkpKrq6u/ynswlHVVXj16hUQIusX/gICAoAqp6ysPHv27LoM0xISEsDvXbdu3Z4/f85ms4FDdPv27RXfe8kN6fr163LC36hRo+R+TeQOab4fxWJxQkLCjh07iERi9+7dp02b5u/vf+HCBQcHB3V1dUNDw0OHDtUFufnOGo0cEUAEEs/eBllrbxJd7pjOBZ6/b932wewcABG/gvli5rYALYfbRrPyX0diQlH+68gPqw7es3S9ZTTrtvHskJFLPq49UvghRtapVsjhvVnoFdjbIaj/pKTztd/P17MEmBhj5xYmX7j32NE9SJo2BPe0HeTydvG+iqQseKCgiv1y9o4ALYc7g+eURCb9a/Gn5XBD54/M4OewplxBVC2IOegPUhu/WeglYHFzQt/dJLpIHZYn3B0yP//NZ7EmcEfgoQsDtBw+rT8m5gvlWvuij0kX7gb1xwXND6sP/WcQwy9qGVVGBL6dQKMJf2Kx2NfXFzwzaGpqmpiYgIdzZWXlMWPGREREfPtYv7oFHo8HApbV5RtYT8sCgWDv3r1A9dPR0blz546sZFBVVQXft/fv359Kpco1hWEYcLnq0KGD4lOWRCKJjo4GCVLatWt39uxZcHhmZqahoSGBQJATXEpLS6FKOHr0aDmq8fHx/fr1A/f0cn6XcqNqdh+rq6vXr18PLMjU1dVv3bpV1xTEYnFaWtrFixc9PT23fP7n6em5Zs0aiIhAIPTp0+fx48d1NdXUtpeVlQEHcBKJtGfPHhBay9jYGAbgg+r21KlT5ewdGAwGFOPs7OyioqLgU3d5efmpU6eA813Xrl3fvPn3BVp6erqenh6BQJgyZYqiHcTbt2+Bhc6AAQOgLzCDwYC+dY6OjnIWKB8/foQWi87OzrJ6BKCNYdjp06fBo6yqqurChQtpNFppaWl2dvbTp08DAwOzsrJg8MEBAwbI5hHmcrkbN24EQqSBgcGTJ09kxcqioiIgboIQBHIDa2prjcaDCNRFAMMwLy8vqPsrxpjLyMiwsLCArzpkzXjz8vKGDRtGIBA6dux4+vRpORWsrKwMXrzgBRL8SaprMPULf9XV1TAgA4vFmj59OnDzVPS4r66uXrlyJRyzkpLS5s2b4bF19f6f29lsNoiWq6ysvG3bNrn5yh5eWFgIyBgbG4OXIgKBAHzVqKmp1Zo6HMMwPp8vez8g22ADy9DPd9CgQcnJye/fvwdfxTo6OiBj+9mzZ4FE5ezsDF+ugMbpdDoYs5KSEjSvBuELNTQ04NsvNTW14OBgcIhIJFq+fDkIyXL48GGJRFJdXQ2/UXv06PH8ec1zFJPJXL58OWjW3t4e/so0cF61VsvNzTU1NQXnwJkzZ2qtI5FIoARMJBLr13/9/PzatGmjrKx85MiRkpISoAMqhr5V7AhmSYannKam5osXLxRrtpgtGIalpKR4eXnp6el17dp10qRJl6R/Tk5OwPn32rVrLc9TpMUsH5oIIvAVBMoTMu8Pc6tJXIu7uE4I1p0mb+4nkTAz8kJHLQ3QcngycT2vqBx0JOLxmVn5JZHJZbFpnIJSkdTNVnYMNZZ3UpfbBlrJCVgcuSwcEomEU1Ca6v/wyaQNUvnPMVDb8emkjeXxGXAY75fvD8RlvskZN5/hLoZCUcROP5DS9/2KA9BX99+xYRgzkxHldekv3WmBvR3uWy0sfB8tkUhSLocEDZiEW/z1c6L5XBULP1P3qsvwdChS08JNvOKKf1v78lL8iZu4czQS/r4cHTriBxBoNOEvKioKvF7u1atXcHBwcXFxYGAgUK8IBMLo0aMb5cbx64iEh4cDucfBweFL72xev34NjBRAgBu5AdBoNNl0datWrZJ78y8UChcvXgwetGRtqUA7IpFo165d8N4aZpiF6Qu8vb1lxYtTp04BTcTQ0DAsDM9SJPsH35ODZ7YLFy7I7m0uZS6XS6VST5w4sXPnTiDebdu2benSpTDoz7Rp0746V0xVVRXQzjp27Lhu3bqXL1/WaqTZNFm9e/cOmOytXr06JycHWHd27NgRWDewWKzZs2eDyH0XL16Um8Lp06eBeE0gEDp16kQmk+fMmbNlyxYPD4/ff/8dGgeNGzdONusfh8MBz+okEgnGUQItMxgMBwcHAoHQtm3bgwcPgqdfkUi0b98+8MBpZWUFHlxlR3LmzBnowNupUyf4OArrMBgMIM+BeHxyD7oSieTBgwcwbqCKiorsSR4SEgJOkj59+ihea2/fvgX0QOCzrVu3QukT9o4KiEDTJ8DhcFxcXAgEQq9evWQjwYGRc7ncIZrdzgAAIABJREFUdevWAauxtm3bKikptWnTBvqNvnjxAvi0zps3T/Fb9OLFi3KBz8zNzeuPghoTE9OnTx8QQ0POCjs5OdnV1XXv3r0gLF1SUhJwCLC2tlY0rXr8+LFcyNp+/fpBR9SvXhQo/LVv376ueAWg8dTUVPCSQ09PD9jdQ42sc+fOT58+/eox1H/gp0+fwA2Gi4sLh8MpLi4G6lWbNm0OHjwYHx8PlLK2bdvKfteBNgMCAsBXt6Wl5fbt22tNgKuuru7j4wMDm0KLPwgkMjISOmqALLcSiYTL5e7atQsIjrXebNQ/qbr2lpWVAQ90xei0soeEhIQA28/x48cr/gTI1vTy8gIm8D4+Pnl5eebm5iDS8cuXL2WrKZZfvXoFLgQSiTR06FAgo8varSse0mK2ZGRkHDhwwNjYuGvXruPGjfOT/llbW6upqY0fPz40NFTxJV+LmTuaCCLwSxEQ8wVUj5NAIwPmfi9n76gur/HOgSjK49LvmM4N7O0YOmppVTodbq+/AGPtBfZ2xE3beP/h01pdVvVx3ZG3bt65Dz+AaH2y7XOLylKvPXg0bg0Y57tlvvxKFh5nVigK23JK6lD8b/S9grc0kKXkxm/Ob5f45D2lMrMY7NzCiuTsnNB3kbsvPLBZfr3fxEAth7tD5mX+9RwkNY459D+Qn+TR+LXMjDzZ3nE9USCkepzETQvN5pXSUuT2fsFHDIs54I931Nvh45rDioLpFzSFqiIC34FA4wh/AoFgw4YN4N3p6tWroZgSHR0NDOJatWq1f/9+WQ3rO8yl9ibFYjGwuVNWVvb29q69Uh1bRSIRmFebNm127twpZ4AgEAg2b94MZDswdy0tLbk7ToFAsGDBAiD8hYSEyPXz8eNHcM+tpqYma8UGhT9fX194SHl5ORCtevToofgMU1xcPH78ePj6GmSukHXnhO005QKdTl+5cmX9UdWNjIx27twZHh7+FaYWdDodhG2ysrKCMmtTBgLHJhu/76+//hKLxWvXrgXLvXTpUoFAcPfuXWADaGBgIJf5MT8/H4SMbNu2rb6+PtCOZU8VUB4wYICi/eOff/7ZqlUrFRUVWdsfDoezbt06IPA5OztDrZDBYAA5slZTytzcXBiVCfRob28vtwowOYmjo6OcjiCRSBgMBrgE4OBdXV2B1M7n8xctWgQk7yNHjsiZ9nC53KVLl8KjgDe0onQOaaMCItBkCZSXl9vZ2REIhGHDhsldPgKB4OTJk8BllUQiHThwALyXgk6dQUFBqqqqysrKBw8elJvgs2fPQI4IFRUVExMToAC2bt1a8YdP9sCcnByQR9XMzEwudObhw4cJBELv3r1BgLa3b9+CLyhXV1c5zZ1Go4FEukpKSgYGBtAoeMGCBYrqpGzv/1mGwp+qqmo9OYWqq6t37doF/BVcXFyAVyy01q//2P8cQ/0VTp8+3bp161atWh09ehSES962bRv4ptLS0ho+fDj4mjUyMpILIszn80GO+3bt2l2+fBnDsLCwsJUrVxKJxG7Sv99++23KlCn37t2D92MSiYTP58+fPx/ckDx8+LCkpASIyPC70cXFJTMz09vbG3hsaGhoKL6eqX9G9eyFsmbHjh0Vb4fggaGhoeD0s7W1VbQKh9VoNJqxsTGBQFBXVw8JCcnMzIRxJF69egWr1VoIDAwEsubcuXPv3LkD3hh16NDh9OnTX3FfUWsXTXxjTk7OiRMnLCws1NXVJ0yYcOHCBR8fH0NDQ3V19VmzZr1//17uIm3i00HDQwQQgVoJ0B9/CiZPBYHtrvdzij9xU7EaK7vggc3ywN6ON35zTvJraLQ+qcXfbmmKXsfHE9y5RWWKLctuKYlMvmU0M6DX+L/0p9N8rrCyC2qyA/9TCROJs26/DCZPDdR2vGU0s+hTTbiPuGNB1/tOxC3+/nHsFXJ4YZ6ncYmwt2Ngb8dg8tS7Q+bdNZ9/x3TuzUEuAVoOAb3GX+/n9HiCO/0JBQYlzH3w/rbxrKDfnFP9H/7T52f/z777Opg0Jai/U9L5r8/vIRYKqR4n8IFpOVA9TmBC0Wd9oA+IwM8m0DjCX3Z2tomJSa12be/fvwcpax0dHet/efudUFRWVgJFrE2bNqdPn/6iXphMJogao6+vn5qaKndsSEiIlpYW8JqB2RVnzpwpO02xWOzh4QFSnRw6dEi2haSkJPD2m0AgzJgxQ/YoKPxt2rQJShhJSUngwWzSpElyqf0EAoGvry+M9QO0yNatW/v6+v4UsVV2mg0vFxYWzpkzBwqpSkpKnTp16tixI9wCH04IBELfvn137dr1nyGo5HqPi4sDtp8TJ06UYyhXs6l9LCwsBKoZkUgEKS9hAD5tbe0TJ07AUFbu7u5yCnVoaCjQAmxsbGJjY48ePaqrqytLtW3btkOHDn348CE82eD0qVQqMEiBzuNisfjcuXOgQTKZLOveDhNYz5kzR870lcfjbdmyBTxat27dGlhYyLq3gx4vXbqkoqLSpk0bRUcwLpe7efNm0AKJRALXAvR0Likpsba2JhAIFhYWiuGKYGLKVtI/cCItW7YMGsLA+aICItDECcC4daNGjYKaO0jYeuzYMWAPq6am5u/vz2azQX6e/v37g7gQd+7cgZIKeC2EYVhhYeGFCxdARl0CgTBhwoT4+PgNGzYA49zu3bsfP35cNvSbLB9owzVgwABZ9/nq6uo5c+YQCARNTU2gsFOpVGBya2BgEBkZCRopLy+/ffs2dEw2NTWlUqlHjx4FqlO7du22bNnyLaHlhELh+vXrgZHvnDlzZHGBAWAYlp6e7uHhAVKO/Pbbb7JevcCTlEAg7Nix43v8kkLxrm/fvjBwx6tXr6BRM/zJW79+vZwQA/VfWfJCoTAnJycsLCw8PDwnJ0fRdEsgEIAXJB06dLh06ZKHhwf4RoUddejQQU9PDxgSqqqq7tu3T+7XRHb1v7Scnp4OtDltbW14Dig2EhkZCX6mtbS0ag2QwmKxQkJCwEsmZWXllStXcjgcmMilU6dODx/W/lwH+kpOTgZmlQQCYfny5RUVFcuWLQM/SZqamsePHy8qKmIwGIpO9IpDbe5bGAzG8ePHDQwMunbtOm3aND8/v02bNv32229aWlrr169PSEj4Hqd9c4eGxo8INCMCzCwGnuBC2zGwz4S/9KfnPZMPSAWS7VI2/hmoPSFQe0LIyCXF1PiGTBATYxE7zuEtazm8nr9HLm6gYgtVafTQUUsCezsE9pkQ1H9SqPWyT+7Hog/4xx69HnfsesyhgE/rj4WOXhrUz0nqkjyV8bImRBiuXZKm3CRNYbwMh81yC8uiD/g/sFn2l960QO0JAT3HBfQcH9AT1/tum8x+NmVL4rnbbHoRrA9s+jJuPovae5FXUrsnL7+K/W75/qB+Tgmn/5I98IvKYr7g45rDuPio5RDmeRrKjl/UCKqMCHw/Ao0j/FEolG7duhEIhG7dusGsoCB8jK+vL3iz+vvvv3+pm22jTDs/P9/S0hJIb4pmDvV3Ae+t+/XrJzsvoVD44MED4BlEIBCmT5++evVq4ErZuXPnkydPyt4r+/v7A0lOR0fn1q1b4AkK2kICtVTW3E8ikUDhz9XVFTYVFRUFHpxsbGxkjaGYTObx48eBlYSqquqGDRsmT54M7mIHDhz4/XyU6kf3FXsvXboEGLZq1WrYsGFHjhx5+PDh2rVrwfkDn0xgoVWrVmPHjn3//n3D701hRKqpU6fW9Sj7FSP/AYeEhYUBV7h58+aBkWdnZwMvMODeC6RnEOZcbjx79+6VDauEYVhqauqpU6dWrFjh5ua2ZcuWoKAgRbEMNMJiscADvIqKyrp165KTkwMCAoBzX/fu3a9fvy7b15s3b4D/lJOTk6yQXVFRsW/fPqAVduzYcevWrSBmPIFA0NfXl41Yf+rUqVatWnXo0EHOHoTL5e7fvx/IATo6Oi9evPD19VVWVgZx9yUSSX5+PpAPdHV1k5LwAMDgj8/n37x5c+DAgSCth6ur65IlS8Czbvfu3f39/X8R+45/eKD/N3sClZWVwI6+W7duJ0+eLCwsrKqqotFoixcvhmZ6mzZtAt8S/v7+IBHQnj17JBJJRkYG+NJo3bq1ra3t5s2bV61aZWVlBb9j7e3tgVN/aWkpTJLeoUMHDw+PWnUQFos1ceJEAoHQuXPnJ0+eQLjPnj3r27cvgUCwtbUFv1bl5eUggKCSktKQIUM2btzo7u5ua2sLvhYIBIKJicm7d++An+m2bduA7KiiojJ//vysrH9DfcMuGlh4+fKlhoYGgUBQUVGZPn36w4cP09LSMjMz4+Libt++vWHDBn19ffBz2adPn8DAQNmXH9AAefLkyd/jRVFpaSl4XTFy5Ej4mw6/cuEvXa3f6gUFBcBMsnv37rKBWevHgmEYsChs1apVnz594MtCDQ0N2VdB4H5p9erVwPix/jYbvvfZs2fgB8LGxkZRhIXtcDgc4CdBIBB0dHQOHTpEo9EyMzPT0tLev39/4sSJSZMmAaFWWVl5+vTpILkNvGtq06bNyZMnYWuKBWBlCV7ZAkPLzMxM+JPUrl07S0tLEonk6OgomzZHsZ0WsyU9PX337t0DBw7U1NR0c3M7f/78okWLNDQ0dHR0vL29m53jSItZFzQRRODbCQi51Z/cjwVqOVzv5xTlfVnI5tXaZjE1/p6lK9AHH41fi6f4ENViqiaq5jMz8nIevE88ezvr7utSWsrTyR63B8/JuvMfRta4065IlH3/zd/2q4C/LcgUDAQy8F9cE9R2xPXH3o4vZ+/gFpSCofIrmOHbz75185YT8jCRmJNfkv8mKvHcnegD/tG+V2MO/S/l6oOymFTgJlzLTDFMzsxQrk55fEb69cewa7m9DfyYdP7uDZ0/bvzmnHxJ3s+vgS2gaojA9yPQOMIfDPTTvn37Y8eOZWdn5+bmfvjwYdWqVeD+rFWrVrt37/4pz9hQ+CMQCAMHDty7d+/79+8zMjLo0r/c3Ny0tLSoqKg3b96EhIRcvHjRy8vr3LlzOTk5wC8GeNMoKSlNmzYtLCwsLS3t6dOnq1evhgGJ7O3tU1NTKysrV65cCbxy1NXVvby8oPCRmZlpZmYGbuK7des2bdq0VatW6erqwtt6MzMz0B1cZngLO3nyZJilgcFggBt9YAeRmJiYlJQUHBw8depU8LzXpk2bVatWVVZWpqamAl8wAoEwaNCgGzduyBkLwI6aTgEGQwQ5Hy9evEin04OCgiCoXr16ubu779ixY+7cuQMHDoRPKTo6Ojdu3GjgqRUeHg4U0p9lf/rVwK9du9a2bVsVFRUYv08kEm3duhU8ssJzady4cXIGMtDEo3379jdvfmbkLxaLG3JiPH36FCjOrVu31tTUBNGXVFRUtm/fLmfWl5aWBtTwzp07e3t7JycnJyQkBAYGOjk5gSfMtm3bbtmyhcPhREdHAzmeQCAYGhqGhoaC523wSNamTZtjx45BVnQ6fePGjUD169Spk5+fn0QioVKp2traBAJh5syZHA6HzWZPmTIFPMuBlCCpqakPHz5cvHgxeCehpKT0xx9/5ObmFhcXz5s3D5w/mpqax44dU7SLgV2jAiLQ1AgIBAKQn4FAILRv397U1NTW1hZcCyDm5urVq6GqkpeXN2LECGAJCx7gT548CS5G+KUBCioqKjNmzJA1bM/MzISe9SoqKlOnTn379q2sLgZEOhAGVFlZed68edHR0VFRUadPnwYZ2FVVVc+fPw8B3rt3D1yMcl0rKyvb2NjI2g6XlZUtXLgQXKRKSko2NjYhISGyLquwzf8scDic1atXw9+Ljh079urVS0tLS1NTE8Y2VVZWtrKyevDggdzvSGZmJnAmVXRk/s9+G1KBQqEAedTOzk7Wp/X169dwQQkEwqxZs+DtBGwWujIoKSm5u7s3HE5wcDC4YQCr0KZNm6VLl7548QIEyAMbW7Vq5ebmBrVI2Ok3FkD+YgKBsGLFivp/et69ewfe1oCv9B49emhpafXq1UtdXR3+5HXr1m3Dhg35+flgVPCuiUAgLFy4EL4xVRzzkSNHwHuyPn36UCgUUIFGo4GAGPDk7Nix46NHjxQPb5FbMAwDdr69e/fu16/f2rVrjx8/7uTkpKamNnjwYD8/v1p1/xaJAk0KEWhhBJiZjMSzt5Iv3KsnZwUmEiedu3OT6ALs/u6YzQ3ffq7gHY1NL+IUlHIYJaXRKSmXQ96vPHh/6CK8mpbD37+v4hSUsumFxdR4Ebe6gdCq0uk0nyuh1ktvDvoDV/q0/v0XoIUnCL5jOufj2iOVyfgzOPwT8fgCJkeCYXBLUy7wK1mZt16kBTzilVQ25XGisf2aBBpH+CstLYVPCB06dNDS0urduzfMxqCkpOTi4lKXSdH35s5ms6dNmwZv5pSUlNTV1bW0tLSlf7179+7Vq1ePHj3U1dU7duwIlLtWrVpZWFj89ddfQqHw8ePHwF5AWVm5e/fuvXr1ghYKSkpKjo6OMOlBfn4+DJfTtm3bFStWZGVlYdK/06dPQ5MKOBJYWL16tdxNKnSdNjc3h4GTxGLxwYMHgbFSmzZtNDU1e/bsCR9dVFVV161bB2/OwsPDwaMXgUDQ0NA4fPiwnB70vbF/afswFCNwy+ratWvv3r3h7Nq1a+fl5QWeOfl8fnJy8p49e2B+3t9++w1mla2/37dv3wKLAyKRKGsXVv9RP30vDPAnZwoXHx8PhVHwzC8biQ8MWygUAvGaQCCsW7dO7kxryNR4PJ67uzt8cgYLtGDBAniywUaEQuHWrVtBTRUVlZ49e2pqakKVoUOHDtu2bYNBu169egXcdUF65XPnzrFYrBs3boArRVtb28PD4+bNm8eOHRs+fDh4TlNVVd28eTOQwtls9qxZs0AQMbD6N2/ehK8ZevTo0atXL6AVgkfHGTNmQLshWfuO9u3bb9q0KS8vr+F2o3C+qIAI/BQCjx49gm+e4O8IgUDo3r27t7e3nEgUEBDQuXPndu3agSxA5eXl7u7u4GsQHNu6dWsSiVTrb0RsbKytrS2UWubMmaOoksPEQa1ateoh/QM/owQCwdnZuajoX18bHo934MABEPoDdK2kpNSnT5/NmzcrmlbR6fS5c+dCR1QbGxvZpr4Ie0FBwc6dO/X09OBvN+hdWVlZQ0PDxsbmyJEjcu/eQPs8Hg+Yng0YMAD+0H9R1/VXPnr0KPhmc3Z2hm/4JBKJUCg8fPgwGO3gwYOhF7Bsa2Kx2MfHBxyuqal5505DAzPR6XTgJAvMwJcvXw6+yf/++29dXd22bdtqa2tv3LhRLnykbNdfV4bZqGWzzdTVlFgsfvz48YQJE3r27AnzQYFVa9++PYlEWrRo0bNnz2TfPBUXF8P3nTt27JBTqGU7evToETj/161bJ9tCQkKCi4sL7K5Tp07NyGFCdoJfXRaJRJ8+fVqwYEG3bt1IJNKmTZt8fX1HjRrVpUsXW1vb27dvfw+7168eLToQEUAEGpGAkMNLOBmMJ83ojafWDdTGXYPvWiy4Z7ngnsUCPDpeP6cALQeg1l3vM+HdUp86DevqHRYmFrPphTkhb2MO+Id5nqZuPkXdfDJ8+7mYA/6p/g/LYtJEvIbKiPX2g3YiAohALQQaR/iTSCT/+9//ZJ8lwC0a8GNdtGjRz3UWePz48YABA+CQGljo06fPp0+f+Hy+YhwckDluzZo1co8riYmJwHMHiCPm5ubAioHJZG7btg0qobID6Nixo+ItO5PJnDRpErB9k81PymAwQMxB2RYIBEL//v2PHTsGJRWwzo8ePYLZ+tq2bTtlyhTFXIq1nBE/b1NmZuaMGTPAk4zsBFVVVXft2iX7XIQbjWPYmzdvgJFCq1atFEPC1TqP5ORkEMpKS0ur1qepWo/66Rvz8vKGDRum6E8nFotPnDgBNWUHBwdo/iA75hMnToBH8b59+8pGsJKtU385OzvbyckJLEqbNm1mzZpV1xWdkZEBwyfJLiKRSPTz85N1r8YwLDg4GHgNg6Qcbm5ub968gWogcGGGgqOamtqePXtkT/JHjx4BUd7Dw0MkErFYrGXLlsH6sPfu3bt7enrKqQYREREgzQuQBUeNGhUXVxNIuH4UaC8i8NMJCASCy5cvE4lEVVXV1q1bd+jQQUNDw9HR8eHDh4rKPpfL9fHxsbCwAI60EomEw+E8efJkx44dq1ev3rJly8WLF1NTU+sSSnJycry8vKytrefPny/rlQ8h0Ol0OVMp8Ps4e/ZsRbFMIBB8+PDB29t79erVHh4eJ06ciI6OVhwzaLy0tPTUqVP29vZTpkxRNMeDA2hIQSQS5eXlPX/+/MiRIyBZ/Pbt28+dOxcZGVm/N+vbt2/HjBmza9eu7yF5HDx4EHxfrVy5Us4CjsPh3Lt3b//+/SA1Sq1zTEtLg2Z6Ojo6QUFBtQYtBYH/Hj58ePLkST8/v/Ly8nv37pmYmAwaNGjXrl3wjSCGYdHR0Tdu3IiNjW24/WCtA6tr44kTJ5SVldXV1f8z+QZogclkxsbGBgQE7Nq1a8uWLZ6enj4+PiEhIbm5ubWeM6GhoUQi0cjIiEaj1TUGiUTCYrHOnTvn4+Mjd/8mkUhKS0uPHTumr6/ftWvXqVOn/qzX1fUM/gfs4vF4jx8/dnZ2VlNTMzY23rp165YtWwwNDdXU1FxcXF6+fPmdTo8fMDXUBSKACNRDQCwQ5r+OfL1gT7DutMDeeJQ6YJEHXXFvEl3uWS18MXNb/Mlgdm5hPU01cBcmEmMiEf5P3Dys+Ro4L1QNEWiyBBpN+OPxeFeuXLG2ttbW1u4l/dPT03N1db1z5873uGP+IqBisfjZs2eTJ0/u06dPt27dOnfu3LFjR5BDoEOHDp06dVJTU9PQ0OjVq5eGhkaXLl3AK19tbW0QlbysrOzQoUOmpqYaGhqampoDBw6cMWPGvXv3ZFUMOJ74+PiZM2eCRszNzWNiYsCu6urqv//+e+bMmVZWVs7OztOmTQPv801MTKAhEmxEIpGcP38eBLxbvHix7G1WWlraunXriERijx49evbsqa+vv2rVqk+fPik+tmEY9uTJk1GjRrVr165Dhw6zZs2C/l+yHTWpcmFhoa+vr5WVFfDr0dLSGjx48NGjR+s6hSIiIkaOHNmjRw85J9a6JiUQCE6dOkUikaDhWF01m9R2GN5RU1NTNtakRCJhMpl79+4lk8njxo2r6xExJSUFOKwRCITRo0fDc7LWOVZXV5eWlhYUFMiedRKJJC0tbe3atWPHjt23b1/9J1JcXNzSpUsHDhwIzO6MjY03bNhQ69hEItHdu3ctLS1VVVU7duy4bNmy8vLyEydOKL5CMDIyCggIkLXOACFEd+7c2aZNGxixsbCwcO/evYaGhuBSHTRo0Lx58x49eiQ3FzDx8PBwJyenTp06qaqqWltby6VCrhUO2ogINBECYrE4OTn55s2bFy9evHv3blRUlJyhn+w4BQJBYWGhnLQEXp/IVqurjGFYZWWl3NUnW/nevXs6OjqtW7du3769vr7+mjVrnj59WteXNjiw4Qa2VVVVimaGsr1/1zKGYRUVFbXKTN/e7/Pnz/v27TtgwID6k1HU09Ht27ehBaW6uvqCBQtCQ0NhJJPY2NgrV664ubnp6uqCEA3dunUDX8XFxcUFBQWKp0Q9fX37rsjISB0dHTs7u0Z3IgZjE4lEMTExNBpN8Xboiwafnp5OoVBkna+/6PCWUZnJZN66dcvW1rZLly7Dhg3bsWPHqlWrBgwYoKGhsWLFivrvIloGATQLRODXJCBgshkvwqO8Lr2as/Oh3coHY1Y8nuD+dvG+6AP+uX9/YGUX4F636A8RQASaJ4FGE/7A9CsqKrKzs9Olf4rawc9FxGazMzIyqFTq48ePQ0JCrl69euXKlfv37z98+PDNmzcxMTFpaWkxMTHPnz/39/f39fUNDg6GegGGYcXFxfHx8QkJCXQ6vVbJD86OyWQ+efLk5s2bwNUXbgcRkcrKyng83rNnz9TV1QkEgqKfL6hfXl5+5MiRpUuX3rx5Uy7wkEAgoNPpMTExKSkp+fn59d+7FxQU3L59OzQ0tH6xRnaQP7eMYVhpaWlGRkZ6enpmZmZJSUn9j4hpaWkvX76s56FXbjpCobCwsLD+FZQ75Kd/zMrKAo7bI0eOVExkDJ7q67FbwTDMz88P+k2bmZkFBQXJOeoymcz4+Hg/P7+5c+daWFgYGBjIhuoHBAQCAZPJlDsba4XD5/NzcnJiYmJSU1MLCwvrP4ROp9+8efPx48cg+Q+Px7tx48b06dOtrKxsbGzmzJlz6NAh2dBjsj1WVVVdvXr11atX8CQRi8UFBQVxcXGJiYl5eXn1qBUSiaSiouLhw4e3bt2CDvWyjaMyIoAINISASCSKioq6dOnSnTt3cnNzv1F2aUiPLaNOdXX1x48fo6KivlpYFAqF/v7+MBwe8LGAkUw0NDSg4yqwgB46dGitLxp/DE+hUPj333/DsHo/plPUy7cQKCsru3jxorm5eZcuXezt7Xfs2DFr1qwePXoMHDjw0KFDzeWu8lsIoGMRgV+WgIDF4ZVU8IorqsuqhA2O4vfL4kITRwSaBYFGFv6axZybwiBBTtLOnTs/ePCgnvGgJ6h64Pw6uwQCwdmzZ2fPnv3gwQOocH3R9Fks1ubNm6FTcIcOHUaPHr1hw4bd0r9NmzaNHz++d+/eMDiXiopKUFDQF3XRuJW5XG5paWlFRUX9yl3jdopaQwQQAUSgeRHAMCw8PHzBggU9evSA8Q1kC6qqqr179x49evS2bdvi4+O/7hekeTFBo21cAnQ6/cCBA2QyWV1d3dHR0cPDw87OrkuXLnZ2do8fP/5q2bpxB4laQwQQAUQAEUAEEIH6CSDhr34+32VvWVkZyIUyYsQIRQOu79IlarSZExCLxd8ogbFYrD///JNEIsk+EyqWQYT+JUuWICO4Zn7KoOEjAojAr0JwmYxQAAAgAElEQVSAy+W+f/9+165dkydPNjMzMzAwsLKycnJy2rhx4/Xr15OTkysqKpDk96ucDd9nnikpKdu3b+/fv3/Pnj0XLly4Zs0aMpnco0eP9evXo0AZ3wc5ahURQAQQAUQAEWhMAkj4a0yaDWzr5cuX3bt3JxAIO3fuRDZ9DYSGqn07AQzD4uLiPD09DQwMunTpAjJmtm7dul27dhoaGhYWFitXrjx37hyVSm1ertDfTga1gAggAohACyDA4XBKSkqKiopKS0vlMmK1gNmhKfxcAhiGRUVFLViwQE1NzdDQcP369XPmzOnWrZuRkdGVK1dkU2/93HGi3hEBRAARQAQQAURAkQAS/hSZfN8tQqFw/fr1BAJBU1PzzZs337cz1DoioEBALBYzGIxXr15dunTp+PHjfn5+wcHBUVFRJSUlSIZWoIU2IAKIACKACCACiEANAQ6Hc/v27eHDh3fp0mXcuHEeHh6jRo1SV1efMmUKhUJBhqXoREEEEAFEABFABJomAST8/eh1ycjIAClWHRwcfvG0cT8aPeoPEUAEEAFEABFABBABRODbCOTl5Xl5efXr109bW3vx4sXLly/X0dHp16+fl5dXfn7+t7WNjkYEEAFEABFABBCBxieAhL/GZ1p/i1evXlVVVW3duvWff/5Zf020FxFABBABRAARQAQQAUQAEWhqBEBimVmzZqmpqZmZmW3atOmPP/7o1q3byJEj79+/z+PxmtqA0XgQAUQAEUAEEIFfmQAS/n7o6rNYrKlTpxIIhIEDB8bGxv7QvlFniAAigAggAogAIoAIIAKIQCMRYLPZN27csLCwUFNTc3Jy2rx5s4WFRffu3ZctW5aQkNBInaBmEAFEABFABBABROBbCSDh71sJftHxVCpVW1ubQCAsWbLkG5O0flG/qDIigAggAogAIoAIIAKIACLQ6ARycnJ27typra09YMCAJUuWLF68uH///rq6umfOnKmsrGz07lCDiAAigAggAogAIvClBJDw96XEvr4+hmE+Pj7KysqqqqqBgYFf3xA6EhFABBABRAARQAQQAUQAEWgaBMRi8cePH11cXNTU1IYNG+bh4TF+/PgePXpMnDjxzZs3IpGoaQwTjQIRQAQQAUQAEfhFCSDh78ctfEFBwahRowgEgpqaGsrn++O4o54QAUQAEUAEEAFEABFABL4zASaTee3atcGDB3ft2nXq1Knu7u7GxsZ9+vTZvXt3YWHhd+4cNY8IIAKIACKACCACdRJAwl+daBp9x4sXL9TV1QkEQt++fePi4hq9fdQgIoAIIAKIACKACCACiAAi8BMJZGRkeHp6amlpDRo0aPny5fPnz9fQ0LC3t3/z5o1YLP6JA0NdIwKIACKACCACvywBJPz9uKV/+fKlmpoagUAwMzOj0+k/rmPUEyKACCACiAAigAggAogAIvBDCIhEotevXzs5Oamrq9vZ2W3cuNHMzKxfv36+vr5lZWU/ZAioE0QAEUAEEAFEABH4lwAS/v5l8b1LdDp96NChBAJh5syZLBbre3eH2kcEEAFEABFABBABRAARQAR+CoGqqqrTp08PGjSoX79+S5YsmTNnTq9evSZMmEChUH7KeFCniAAigAggAojAL0sACX8/bunFYvGrV6/8/PwSExN/XK+oJ0QAEUAEEAFEABFABBABROBnEKDRaDNmzFBXVx8zZsyGDRvMzMx0dHSOHj1aVVX1M4aD+kQEEAFEABFABH5FAkj4+xVXHc0ZEUAEEAFEABFABBABRAAR+AEEmEzm2bNniURi3759Fy9ePHv2bC0trSlTpkRFRf2A3lEXLY2AWCwoLRUxmc1rXmI+X4JhzWvMLXK0Yi63msEQohcPLXJ10aTqJYCEv3rxoJ2IACKACCACiAAigAggAogAIvBtBKKjo2fOnKmurm5jY7Nu3TozMzNdXd1z586h6DffxvWXO7r8+fPYSZMS589n+Pkxw8OF5eVNHwE3LS1j69b8ixdFbHbTH20LHqGgrCxz506atXXykiW8nJwWPFM0NURAkQAS/hSZoC2IACKACCACiAAigAggAogAItCYBFgs1rlz50gkUp8+fdzc3GbMmKGtrT137ty4uLjG7Aa11aIJ0P/8k0IiUUgkqq5uhJVV/PTp9GPHmBERoqYaPx0TiXIOHqQQieFDhpQ9edKiF6epT64kJCTcxIRCIoWZmJQ9ftzUh9vExifmcHiZmZXv35c+eMBNT5coZGnnpqXlHjlSdPOmmMf7wWPnFxTknT6df/GisKLiB3fdjLpDwl8zWiw0VEQAEUAEEAFEABFABBABRKAZE4iOjp49e7a6urq1tfXKlStNTEwMDQ2vXbvG5XKb8azQ0L+WACYWizgceDQmFJa/eFFy/341nV6dl1f16VPZ48cVr14JSkpAHXZCQryLC4VMppLJVF1dUIi0skp2cysKDubn58OmmkhBWFWVtGABUCrpf/7ZREb1Kw5DLM45cACcNuFmZuUvX/6KEL58zphYXJ2bW3TjRsqKFTRr6whz8zATk5hx48pfvJBrjH7yJIVIjBw6tPLDB7ld3/tjyd27YYaGYUZGxbdufe++mm/7SPhrvmuHRo4IIAKIACKACCACiAAigAg0MwIsFuv8+fNkMllbW9vV1dXZ2VlbW3vJkiUpKSnNbCZouN9GQMRi5V+4kLJsWd7JkwX+/gX+/tk+PpFDh4YZG0dZW+Mqg6VluKlpuJlZ6po1guJi0BsnOTlz586oUaNqhD9dXbxAIoUZGcU5OzPOneNlZ3/buBrzaEFxcfzUqWB4RTduNGbTqK0vISCsqIAKbISVFTM8/EuO/hXrCsrKKt68yfb2jhk/PszQEFjaUohEvEAk5hw69FnYSgzLPXQI11X19Bh+fj+YV9HNm2FGRhQSKXPHDkwo/MG9N5fukPDXXFYKjRMRQAQQAUQAEUAEEAFEABFoIQRiYmLmzJmjrq4+atSoxYsX6+vrm5qaBgcHV1dXt5AZomnUSwATiRhnz4YZG+PWcFK9gKqnBwyyqLq6VDKZIv2HF0ikMEPD0tBQ2B4mELBjY/NOnkyYOTPC0pKqrw9EQLwpPb0YR8f8Cxd+mPWfoKiIm5qK8flweLIFXlZW9NixFBKJZmPDTkiQ3YXKP5JAFYUSOWwYfmrp6kaNGsVJTPyRvTejvvCLKyEh7/Tp+OnTI4YMAZchfmXp69NsbVNWrIibPDnGwaH82bPPJoVhuYcP49cvmZx7+PBnmuBn9b7Lhxrhj0hMc3f/8Y7G32VK36FRJPx9B6ioSUQAEUAEEAFEABFABBABRAARqJcAi8W6cOGCrq5u7969586d6+DgoK2t7e7uTqfT6z0O7WwJBEQcTsrSpZRBg4C0B5xhce1PT4+qqxtmaBhhaRk5dGjksGHR9vYZmzfXqprxCwszt20LMzSMdXSM/v13YPWDN2VgED9tWklIiPg7u5Dz8/OTFy+OGjUq7+TJWvtixcREDhtGIRKTlyxpdsmIW8J5Jp0DJhRme3vjqp9UXI62t+dmZraY2TXaRMRidlxc5o4d/5rT/iO7x06cmHfmDDc9Xczl8ouKqhkMTC7G3z/CH4VMzvH1hUMS8/kiDgcTCDCRCG5s9AK0+EtdtUr8z6sjTCDAu+bzv2vXjT6X79cgEv6+H1vUMiKACCACiAAigAggAogAIoAI1EcgNjZ23rx56urqw4YNmzlzZp8+faytrT99+lTfMWhfCyCAYUXBwdG//x5tb584Z07qypU0Ozug+kXb2xdcu1ZFobBoNHZcHJ/BENdhT8dJSYm2s8Nd/Hbu5GVkFAUHJy1aFG5mBtwSw4cMydy2jZeV9f1oVbx8GW5qioc2Gz6cRaMpdlT+4kW4mdlPMYNSHMwvu4VFo9HGjKkxLCWTYyZMqM7L+2VpKE5cWFlZ9vffWXv3RtvbA6s9IMeHm5klzZ9feP16Q3DlHjkCjo2fMqX4r78Krl3LPXw4fePGlOXLM7Zsydy5s+TevbouZMUhfdGW4r/+CjMyopLJ0fb2hf/7X2FgIP3YsQxPz5Rly9I9PDJ37Cj090eyOxL+vuikQpURAUQAEUAEEAFEABFABBABRKAxCbDZ7EuXLunq6vbv33/hwoUmJiaDBg06f/4874dnh2zMWaG2/osAJhTyCwv5hYXCqioxl0s/cYKqp0chkdI9PBpopMNJSaHZ2FCIxKQFC8CDvYjJLH/yJHnxYpC/laqrGz9tWuW7d9/J97Di7dsIc3PcRNHIqPivvxRnzLhwgaqvH2ZkVHTzpuJetOUHEBBzOBlbttSY++npUcjk+KlTYcjIHzCAJt6FiMnM2Lo1TJrvGLhChxkY0GxtMzw9y1+8EFZW1j5+DBOxWILSUj6DwY6NLf7rr4RZsyBkXIbT08MDAoJ/gwZ9+u23mPHjqxvJmlvE4QjKyvgFBZzExNLQ0JQVK3B//3+Mhan6+p91PXBghJUVKyqq9on8MluR8PfLLDWaKCKACCACiAAigAggAogAItBUCURHR0+ePLlnz54uLi4ODg4aGhru7u55yDCnqa5Xo48r79QpoDvknTzZwMa5aWk0W1sKkZgwY4agtBQeJaysLLpxI8bREeT9oNnYlNy/L++cCGt/Q6HsyZNwU1MwbPrx43Itiaur0zdupBCJEebmlW/fyu1FH38MgdLQ0AgLC+A/jktCZHLivHl16lk/ZkxNqRduRgbNzg5PkC0Vzmi2tvmXLvEyMzGBoK5hYnx+8Z07SYsWxU6cSBszJnLYMFzpA57UUm99PDKgNAdImKEh7q0/dmzivHn5ly7V6g5fVy+1bsfE4opXr1JWroxzdqbZ2kYOHx5mYiLbdU3oACKRqq8faWUVbWeXMHNm7pEjgrKyWhv8dTYi4e/XWWs0U0QAEUAEEAFEABFABBABRKDpEigvL9+zZ4+mpubo0aNnzpzZs2fPMWPGUCiUpjtiNLLGIoBhOQcPUsjkMGPjknv3GtgqFP6S5s9XlHK4aWnpHh4g8F/UyJEl9+83ut1fvtSgDxgqZnh6ymkl/MLCuD/+oBCJuG9pbm4DJ/Wzqol5PEFZmaC09NvVmZ81BcV+eVlZ8VOmUEikCAuLDE/PCCsrComUvGiRiMVSrPyNW5opQF52dsz48VD4ixk3rvLDh/pRVFEoUSNGUIhE6BcMtG9cOtTTCzMyirazS3Zzy/H1Lbp5E/fWLyrCDXLlwgLW30cde3kZGTGOjrhBnzSRSE2//2iOYQYGUaNHJ86bl7V3b6G/PzMykl9QIKysbEiqX2DAKCwv/07+yHVM6MdtRsLfj2ONekIEEAFEABFABBABRAARQAQQgXoICASC+/fvDx48eODAgQsWLDA2NtbR0bl48SJy+60HWgvYhQmFmdu348ZxlpZVVGoDZ8RJSoqytsZTZ9Qh5QgrK7O9vYH2RxszBvf5bbw/cXV12oYNIJUwhURKWb5cxOHINs+MiACZPdI3bIA5B2QrfFbGsM8+/sAP1XR6wbVrqWvWxE2eHDtpUsqKFQXXrv2wtMjfb6Li6upsLy8gy6atW1f54UPk8OG4Y3gdZ8tXj6RZA8QEAoafH264+o/RX9To0blHjnBSUuryuMcNXU1MgOqHJ902MIiwsAgfPBhHLTWo5Kani9jsr+H5X1cBOy4Ov6bIZGDMS9XTizA3x8NoStO2xDg6smg0EYvVcPNeTCxmJyTQT5xIdnOLnTQpzsUl3cOjNCSk5cUERMLf15yQ6BhEABFABBABRAARQAQQAUQAEfhOBOLj42fMmNGrVy9nZ2dra+sePXqsX7+ewWB8p+5Qsz+dgJjLTV29mkIk0mxtuWlpDRzPvzlz65ZyhFVVWXv3hhkaUkik+KlTuRkZDWz8P6tV5+XFTpoE5BIKmZwwa5bwc3fCwoCAMEPDMAODAn//WlsT83hVHz/mnTmT4+ub7e2de/Qo4+zZilevGsvmDhMKcQu+OlKjSCQSTCAoCQmJmzy5JiwaiQTyolD19RPnzGHHxtY67OaxEcOKb92KsLCgkEi0MWOqwsJqNKP/FP4wTMzlYnVDk51+ywAo5nLzL12iWVvXmNFJFUCarW3Wnj1Vnz4pWkfyCwvT1q6NMDeP/v33jC1bioKCqiiU3EOHwFWW5u5ezyknSw+Uv+gqELFY2fv2RVha0mxsUtesKbh2rfLDh4KrV0FKn4SZM4Xl5Ypd1LVFWFnJOHsWJH4BZ35NXiATk/TNm/mFhXUd2By3I+GvOa4aGjMigAggAogAIoAIIAKIACLQkglUVVX5+Pj07t175MiRM2bM6NGjx5gxY6gNtgVryWha4tyE5eWJc+ZQiMQ4FxdBUVEDp8gMDwfOm/VHbROUlaWtXQu8AjO2bv1KWySFMZU9elQT4A9YG32eK1bM52ds3own/B02jBkRoXC0pJrByNq1K1LqfEoZNAj/p6NDGTQowtKy1jwhn7XwuWGUsKKi/PnzwsBAWVlTzOPlX7gQ4+iYtXt3reZ7Yh6P4ecHpDHcydrQMGrEiIghQ3ApU1cXd4ldsqT5Rkar+vgRj/8odR7Pv3RJIpFAmbguiz8xj1fx+nXO/v2pK1eme3jgZo8FBZ9h//xDSwKIicWsmJisvXtp1tb46ksdaSlkcoSlZfLixcV37sidCYLi4qqPH6tzc6F7e8WbNxFDhlCIRFz4a3Bepq+4CkRMZtWnT9yMDNgLnuRHavkrF+vz8+WS/yQoLs7w9MTFSjKZQiaHDx4cNXIknhRIev5T9fRyDx1qiI+wfLtN9TMS/prqyqBxIQKIACKACCACiAAigAggAr8wAZFI9OjRoyFDhgwYMGDKlClkMplIJF66dAm5/ba8k4KXlRU9diyFSExZsULOYbaeyVa+fx9hbk4hkRKmTxeUlNRTk5OUFDthAh7rbciQsr//rqdmA3dhAkHmrl013pHSrAhRo0axExLg4bycHLxHIjF+yhRFKZObkpLs5ga8UKl6epFWVlGjR0fb2cU6OYWbmdGsrRl+foqWVqBxQWkp/cSJ4uBgYBiICQTZ3t7A0TJl2TIg0GAiUcG1a8AMiqqrqyhhwApA5ot1cirw9+ckJ1e8eZOxdSvuO0kmR5ibV7x5A2fUjArVubmJs2cDBSfN3V1YUSEr/CW7uSmyZcfHZ2zdGmFpWWP5RSRS9fSSlyyprsPQuEUCxIRCdnx8zsGDMePG4UagJBLIlRFmbJw4b17Z06f1mPIxw8JwFZ5ITF27Fkpy9Z8z33IVyLbMy84G3x7x06bV/z0AjxJVVWXu2IHnAiaTwwwMklxdSx8+5KallYaEJLu5ATUwtjmE5oQz+s8CEv7+ExGqgAggAogAIoAIIAKIACKACCACP4dAcnLyvHnztLS0JkyYYGFhoaamtnHjxvz8/J8zGtTr9yHAotHw0F0kUraXV12RxRR7hsJfrJNTrUZtsocw/PyoBgYUEil19epvN/qrzsuLmzQJGMqBlKbhpqZljx7BHktDQsIHD6aQSBlbt0KrKLCXk5iYMGtWjeI2cSLDz48ZGVlNpwuKi1nR0dH29hQiMdzMrPTBA9iabIEVGxthaRlhaVn5/r1EIuEkJsaMGwdMtCKHDQP+uRWvXkWNHAl0SQqZHDthAi8nR7aRijdvokaOxMdvYJCyfDk3NRXuFVZUJM6di8duMzIqDg6G25tLQczhZO3eDeLNxbu4wKlBi7/UVatknakxobDk7l1cOQJmbiRSTVLaQYPCTU0BZEwslj1EIpG0YIASsZiXlVVw5UrCrFk12rE0S2+EhUXukSNARVU8GSBe3PxWqrQq1pHd8o1XgWxT1QxGjFTWjx47lpeVJbur1jImFudfvBhmbEzV1Q03Nc3x9ZXNCc6Oi8Mjh5LJkcOGsWJiam2hOW5Ewl9zXDU0ZkQAEUAEEAFEABFABBABROBXIcBisQ4ePNi3b19LS8tx48Z169bNzs4Ouf22pOWveP06fMgQqr4+8Mps4NQqP3zAPVXJ5Gh7e1kv11oPx5/nR42ikEgNqVxrC7Iby54+xc3idHVT165NXbkSqHjZPj5AtRRzuWnr1+PambFx8e3bsgdWMxhJCxYAY7SkBQs4SUmye4HZFPC1THZzqzVgGa6wDB0aZmBQHByMGx7u3Il7MUutDnHhLy6Ok5IS98cfYEjAwTl8yJDyFy9gR4LS0mQ3N6BzxU2ezKRSoSWXiMksCgqKGjGCSibjUubjx/Co5lHAsKKgICBXyaVzwXOtAJO01avFMA0LhhXfvh05dCigEW5qmrxkCePsWYafX7a3d/rGjdy0NBGbzTh7NmX58sLAQCAZt2SAMsssLC8vf/Eic8cOPCmK1AE2zNAwa/duxQza/xpUkkgN8bf99qtAZpi41zwQ/hoYIZQdF4fL69JQhqmrV3MzMuDLBn5BQc7+/WFSh99oOztuerpsR826jIS/Zr18aPCIACKACCACiAAigAggAohAyycgFoufPXtmaWnZt2/fiRMnamlpEYnEK1euVFdXt/zJ/wIzLLl3L8zYONzMrPz584ZPF9fyRozA43N9LmzV2gI3IyP6998pJNK3G/JgQmHW3r14BDSpM2zJ3bthxsYgeQhfGqCwikLB7elIpBhHR1kTJEwkoh87hjtRkslxf/whp/pJJJL8S5fCDAyAihdualpy757iXIDwRyWTcw8dKg4OjrCwkBX+yv7+O2XZMlz1I5Nx9+Hff8dbMzAouHwZNlUUHIxnZdXVBepetL196po1uYcP5x4+nLRoEQhcSCGR4lxcqvPy4FHNosAMCwOaToS5edH16/iYpck6BMXF+RcugFlHjRyZuXNngb//vyaWUlUrytq6KCjo33Su0gMlEkmN8eagQVEjRgBv7hYMUHGVMaGw/OlTPAOMri5VVzfM2LgwMFCxWo3FXwOEv0a5CmQH8EXCH8bnZ+3dC+ZC1dWNsLSMnTAhw9Mz9+jRbF/feBeXMENDoLyne3jImXnKdtrsykj4a3ZLhgaMCCACiAAigAggAogAIoAI/IoE0tLS3NzctLS0hg0bZmxs3KVLl82bNxcXF/+KLFrWnPMvX8ZD3Q0f/kW+ddV0Om7pI1Vtco8ckYjFdVERVVVle3mFGRnVmAd+myEPLzsbxO8DqUi4aWnRdnY1+uPz58DcD0hv2Xv3yuYH4Ofnxzk7U0ikqBEjFCXO6tzc+ClT8AP19ICnasLs2YqpRYHCQiWTaaNH46Z5urp4qDKpXBg+eHDsxIkgQlnMuHEVr14VBQUBUTJn/37AR1hWhpsckkhhBgbRdnZ4NgMiEQ9sRySCAsjsEWllVXL/fl08m+b2ajo9ce5cYOpIs7HJ9vHB1Rxv79RVq2IcHHALTSlYqq7uJx2dyKFDy589y/H1BfUjhw/Hfas/z5qCy4ZCYeaOHcAekDZmDDctTVhR0VIB1rOs3NTUJFdXcG6krlqlGIjzX+Fv+nRZz1mJRCLmcis/fGDHxmLSK7RRrgLZoVYzGCCCJ75AMk7rIG81MyKiikqFaZrZ8fG0MWNANo9oe3sQZ/Pf81/6ZUIhkWInTvyi7yLZ8TTNMhL+mua6oFEhAogAIoAIIAKIACKACCACiIA8ATabffz48QEDBpiamvbt21dZWdnFxSUxMVG+HvrcfAhgYnG2jw+FSKR9oW+diMVKXrIEf2gnkxNmzZKTG2oAYBg3NTVz2zYQ0otKJmfu3Cn+NkPRknv3cL2MRMrcsQMTCsVcbuqaNXgmBF3dpIUL806fjjA3p5LJkVZWle/eya4DKyoKD2VYW+ZTMZeb7eOD63e6ukDFw62rjIwKrlyRbQH6VEKTJaqeXtLChbHOzvgWaX5hXBO0tS1/+VIikVRRKHjCCiIxc9cu4M+IB0aUprCIdXJiRkYW/u9/MY6OuBHiP/JfmIFB7MSJJffvy0qWcmNogh9FTGbm9u24BvqPulej5oCMyYMG4Qsk3YUnc1iwoOzxY0FJScry5eD8iXNxAdaaclOrfPeONmYMMAFLWb5cxOHgDuYtBSA3I4Nx7lzh//6nqC/LccAtHx88AGEr4yZPVqzPTU3FBTUSSTHgZunDh5FDh8ZPmVKdm4ufwI1xFcgOT1BSEj9tGm7MO3w4iHEJ9zIjImh2djQ7O1ZUFNiYf/EiyOmRumYNOyEhZ//+qNGjgaCJnwkkUriJSdKCBczwcNhIyygg4a9lrCOaBSKACCACiAAigAggAogAIvBLEMAw7PXr1yNGjFBRUSFI/ywtLT98+PBLTL4lTlLM5eL6y6BBMQ4OIIkqJhKJuVxhZaWwslIuM4YcAMb58yD9aIyj42f5PTBMWF5eRaXm7N9f4+6qq0shk+OnTeOkpMg18mUfxeKcAwdwiyFTU5h/ozAwEHgIUvX1cYVRT49CJictXCiX5QDXjKRpiPH4fZWVsF9heTn9zz9BLt1wU9PsffsSZ88GNoMx48ZVUSiw5mfCn1Tmi50woYpKTV68uEbY0tWNsLCAgQVr5BgiMWXZMhCfrkb40NOjHzsGmuVlZxcGBGTt3p3h6Zlz4EDxX38BgUa20yZeFrHZuUeOQG0X5KIFMRYjhw+P/v335KVLU1auxHMfk8lRo0axoqPxGUmXEkio4SYmuYcP4zlhpUZ/4urqajq98H//ix47FlSIGDKk9OFD3B0bKEfNHyDuse7lRQH5ixcvZkVH1yP18ouLMzw9wbWWMHs2SB4te1bwCwpwa1YiEY+hmZkJd2EiUdaePRQiMcLCoopKlUgkjXIVwPYlEomIzU5ZtgzvwtJS7mIBpsRhRkYld+7gC15dnebuDpLnlD15Aiw62bGxjLNnM7dvz9y2jX78eNmjR4qzk+2umZaR8NdMFw4NGxFABBABRAARQAQQAUQAEfh1CaSnpy9cuLBt27ZA+yMSidevXxcIBL8ukeY4cwwTVlZWvHxJs7HBQ+ZZWGTt3k0/fjxr9+7UNWsSZs9OmDkzY8uWiowzIikAACAASURBVFevgJOg4hSrGYzkxYvDjIwSZs9mx8dz09Iq3rwpuHo129s7ftq0CEtLXAOS5iQNMzRMXrKEHR+v2MgXbRFVVSUtWkQhEmPGj+dlZ4NjeZmZsRMmQC9dqp5emKFhwdWrci1z09NB9thwU1P6n39y09M5KSnFt24lu7kBN+QwI6NsHx8Rm82Oi4ubPBl4MceMH1/2+DEkUOPqKw24Fm5qWhQcjFs+LloEhL8wQ8OcgwehSaOgtDRh5kx8tA4OeGJfDMvetw+vaWAgNzxMLK5fY5WbS9P5KKyoyPbxCTMxoZLJYcbGNFtbmq1t8pIl9BMnSu7fZ8fH8wsLRRwOv6AgYcYMCokUYWEBcvXiKiqNRrO1BZzxs2j69Ky9e3MPH05bvz567Fg8XzPwvCaTU1auFFVVtSSAmECQ4ekJhD+qri7N2jrD07MwIKDi7VsWjYb/i4rCvcVv3KAfO5Y4dy6gET54cNGNG4o+0cLKysR583Czu6FDmRER8PTg5+fj2IlEPPOG1A+3Ua4C2D4u3vH5GZs3U4jEMBOTkpAQuEvEYqWuXVuz4lLbWzhIXCKUqpCwMiYU1qN7wmrNt4CEv+a7dmjkiAAigAggAogAIoAIIAKIwK9LgMlkenl5qampAe2va9euvr6+bDb71yXSfGYuKC4uvnUre9++hBkzIq2satwz9fRq3DOlPneg/Om335Ld3IC1GiYS8fPzWTExFa9flz15UvHqVWloaNbu3VGjRoWbmUWNHh01cmTEkCG4wR1wXAWSn4lJ/NSphQEBjWLIw8vJiXF0pBCJn2UvxTDGuXM1LrpSc7+Y8eO5aWlyC4IJBHhQOWkG3jAjo6iRI6NGjACSHwg6lnPgAK4uSf9wJ1OpJkUhkyNHjCi4dg0YCbKioyOHDgVmaOmbNonYbBGHg2fpJRIpZHLK8uW42do/f5hQmO3lJat94F7VUjE0zd393+S2/9Rvdv8XFBdnbt8OwhqGm5rmHj1anZfHLyoCJ4zsdHDD0hUrcNFTXz//4kWwCxOJioKCIqys8O1Sm1AcIzh5pFvAYv1r3Qnc0lsKwPIXL0Cqa3A6ATgR5uaRQ4eCfxFDhoQZGAAfWIpUV83x9VVki5vdsVj4SUgi4f7pV69KMAy/WgsKsry8wOpkeHqKeTwQd+/brwLZlcVEosydO3EFU1c3e98+PEU1hgnLyhh+fiC/c9KCBSAOABT+qAYGDD8/2UZafBkJfy1+idEEEQFEABFABBABRAARQAQQgZZJQCAQXL9+nUQiAe1PVVV1zZo1+fn5LXO2LWhWBf7+eNIJqVaFiw4wLptUqgPP8BHm5jQbmyRX19LQ0Jr4dO/exUyYEDl0aMSQIeGmpuFDhuB2XlLbN9koXUCnCDMxodnYpK1bVxoSImi8DDDFt26BAH+J8+bJuuvy8/MT58/Hu5bqI/kXL0IbPdl142VmJkyfDqpBPYVCIkXb2RX6+3+WRRTDSu7dw9MWk0jAli3N3V1YUcFJTo4aPRr4VIKIZphIlHfqVIS5ecKMGRyFeJeVb9/ilo96egXXrkkkkqIbN3DTLWk+07JHj2TH1uzKwoqKdA8P4H8aMWQI48yZzwB+Pp/qvLzYSZOAF3DWnj3gjALOniX37sVOmoRLxvr6YFGo+voR5uY4N319KpmMZ2fOyQHttSSAmEhU/uxZkqsr8ECvOS3BNQjE938MZqm6utF2dvkXL4pYrM+51nzCBIKaLCi6ujQbm6zduzN37oydNAnXtUmkqNGjq8LC4IHfeBUoKvgMPz98pXR1I62sMrZsyfb2Tpg+HY9ISCaHm5lBM0B8kLt2gVQtsRMncpKT4ZBafAEJfy1+idEEEQFEABFABBABRAARQAQQgZZM4NOnTyNGjADan7KysqOjY2xsbEuecHOfG4bR//yzRvaSan94mUgMHzIk3sUlfePG3EOHCq5cqXz3jpeTIys0FFy9WiPw/aMPAvssqr5+uJlZ5PDhtDFj4v74I23DBvqff5aGhvKysoCRUaMBw7DcI0eAeJS6Zo1c46yYmOTFi6Pt7HIPHRIxmXV1yklMzNiyhWZrGzl8eNSoUbETJmTt3YtHnVNMKSsSlT54EDd5cpiRUfjgwekeHiImU8Rkpnt40KytCy5fhtqisKqqikKB4pRs12IeL/fo0Wg7OxD4rzo3N87FpUb7mDSJKSPHyB4FymI+X1BWJigqgr7DinV+4paSkBAgwuIWkVeu1D9I3MPU3h6sXcqKFXLWjvz8/Iq3bwsDAxlnzzLOni0MDKx8/z7vzBmgW6Vv2AAbb0kAwdqJqqoq373LPXIkedGimLFjaTY2NGtr+N+Y8eNTVqxg+PnhMlndibMlEknF27eRw4ZB40FoOBlhaYmfq0Kh7KnyTVfBP1axsEFOcnLMuHEgQTP4MgFfL+GDB+MmihwOrFn5/j0+SKkHd+qKFdX/6LmwgmxBzOEISkoEJSVyg5et01zKSPhrLiuFxokIIAKIACKACCACiAAigAggArUTSE9Pd3V1hSH/hgwZ8urVq9qroq1NgAA3PT3D0zPJ1TVr716Gn1/eqVP0Y8fKnz8XlJXhnnp1/HESE+OnTYscOhToZSkrVmR7eeWdPFkYEFD+4gUnMZHPYAjLyqBGU0cz37S58H//A7k78k6eVJTqREwmv6ionimAvvHcEXl57IQEXmamoLgYWp/VOrLqvLySu3fLnz+HqUKEVVXVdHrDpynm8aoZDGgNV3LnDm7dRibjZlzjxhUFBeEWkTKyo4jN5qamFgUFpW/aFDd5cvTvv5fcu1fr2H7mRgzLPXqUqqubOGdOxdu39TMEkeDw+gYGFB2d1LVrIY16ppB35gyeW9nAABhLwpotBCCczz8FEYslKC7mFxTwGQx+QQHuNF1QICgulhNJ/6ku/38xj5e1ezeMqonb3w0fnrpqVfmLF1htF/U3XgWfdS8WM86fx32KpSa3VDI5wtIyydW15O5dOcdkMZ+POxpLzQOpenqJc+aUv3jxmUyPYcKKClZ0NOP8+ZQVK2IcHeP++IMdF/dZd83wAxL+muGioSEjAogAIoAIIAKIACKACCACiMDnBJhM5t69e2HIvwEDBly+fJlf2wPn58ehTz+HgLi6WsRkQpu1Bg0Cw6oZDFZMDK6XlZTgekS9JkgNavMLK/FycjK3bcvau7fZpb6FExXzeHgSYVNTYPcXZmwcP2VK9r59eadP550+nXv4cLKbW9To0TUyilRJyb90CR7edAqs6OjCgACQCbohoxKUleWdPJm+aZNc7tdaj8WEQhA5LtLKSi4RRIsBWOvEv2VjdV5etpdXnLNz0oIFjHPn2LGxDRFYv6VHeKywoiLv5Mk4F5eEmTNzjx6tolI/k/NgPYmEX1iYtm4dHl5A6sgcYW6e5Oqae+QIfv6fOlUTeHToUFzfl1oiRwwZUvXxo0wDzbKIhL9muWxo0IgAIoAIIAKIACKACCACiAAiIEeAz+cHBATAkH+dO3fes2cPq46gVHLHoo+IQAMJiKurm7vrn5jLLQwMjBk//t/YiCCpBfyvVPIAoQBT16zhpqc3EE5TryYW/6c9JpiCiMPBk4EMGhTn7MxXCBv66wL8rwXGBAJBWVldott/Hf1N+zGxWFheLht5s67m+EVFOQcPggCawCkYBA3497/g/DcwiBo1KufAAWhsW1eDTX87Ev6a/hqhESICiAAigAggAogAIoAIIAKIQEMJfPz4cfjw4SDkX9u2bZcsWZJTbyCnhraL6iECLYsANy0t9+jRWCenCAsLPK+FNPBZmJFR5NChsRMnZmzdWnD5Mm459UtK54Li4vipUymDBuHpj6XpaBUXHwFUZNJctmBCYRWVmrFtW7S9fbiZGTAApOrphZuYRI0YET99eva+fUVBQeyEhFr9lJvLNOE4kfAHUaACIoAIIAKIACKACCACiAAigAi0BAJpaWnz589XUVEhEAhKSkp2dnZRUVEtYWJoDohA4xLAMH5RUdWnT3hei/PnC65eLb59m0Wj4ZEHP8/G0LjdNv3WuGlpNDs7CplMP3GivtEigPXRaer7MIGg+v/snQdUk9n2tw9JCB2kE0BQQVFRwQJYsKKijoIV6+CoIOrYC2BB7Ni7qGMdpdgLiIoOKoogiiIigiAoRUB6JyHtW9fz3XPffwIMNkhgZ9115+S8p+z9nDezFr/Z++yMjKKwsJyzZ7NPnMg5d67g1q3KpKT/hPhRbr2UdDcaYB8Ifw2ABEOAABAAAkAACAABIAAEgAAQkCoCpaWlGzZsUFNTw6F/lpaWoaGh/Ea/Ek6qmIGxQAAI/H8CxeHhMb16PbewkMTCJnBKQOAbCYDw943AYDgQAAJAAAgAASAABIAAEAAC0kCAw+GcO3euQ4cOWPszNDT09fVls9nSYDvYCASAQCMRYGdm5l258p/SwDU1ZMu8q1efd+sWY2MjUtmDDIAGEJAiAiD8SdFhgalAAAgAASAABIAAEAACQAAIfBuByMjIvn37Yu1PWVl548aNFRUV37YEjAYCQKCZEqj++PHd779Hd+nysl+/vKtXSYJn1uHD0R07xg4eXPn+fTN1HdxqQQRA+GtBhw2uAgEgAASAABAAAkAACACBFkggOTl5+vTpsrKyCCE5ObmlS5cWFha2QA7gMhAAAiIECu/efW5pGd2p039kviFDiu7fFwqFvIqK9/PnP+vQ4Y2Dg3hJX5EV4CsQkHwCIPxJ/hmBhUAACAABIAAEgAAQAAJAAAj8EIGioiIPDw8FBQWEEJ1OnzJlSkpKyg+tCJOBABCQfgJlL1++GjDgmZkZrusaO3hw5sGDGXv2xFhZPTMzS5wzh1dWJv1eggctnQAIfy39DQD/gQAQAAJAAAgAASAABIBASyBQVVW1fft2Uu6jf//+MTExLcFx8BEIAIG6CAg4nNzz52MHD/5P0B/+X+fO0ebmuJ2xe7cQKgLVxQ76pYcACH/Sc1ZgKRAAAkAACAABIAAEgAAQAAI/QKCmpubMmTPGxsak1G94ePgPrAdTgQAQkHoCAj6//PXrlOXLn1tYRHfs+J/Qv86d/5P5a2dX/vq11LsHDgABoRCEP3gLgAAQAAJAAAgAASAABIAAEGhBBMLCwrp37461v/bt24eEhLQg58FVIAAEaiPAKyvLPnkydtCgZx07PjMze25pmX3ihIDHq20s9AEBKSMAwp+UHRiYCwSAABAAAkAACAABIAAEgMAPEoiNjR04cCDW/vT09E6dOsXlcn9wTZgOBICAdBPg88tjYz+sWvVmzJjPx4/zysul2x2wHgj8lwAIf/8lAf8EAkAACAABIAAEgAAQAAJAoMUQSElJcXBwwNqfqqrq9u3bq6qqWoz34CgQAAK1E+Cz2TUFBRDrVzsd6JVOAiD8See5gdVAAAgAASAABIAAEAACQAAI/BiBvLw8Nzc3JpOJEFJQUFi1alVpaemPLQmzgQAQAAJAAAhIFgEQ/iTrPMAaIAAEgAAQAAJAAAgAASAABBqNQFlZmZeXl7KyMkKIwWDMnTu3qKio0XaHjYAAEAACQAAI/GoCIPz9asKwPhAAAkAACAABIAAEgAAQAAKSS4DNZh86dEhdXR0hJCMj4+zsXFBQILnmgmVAAAgAASAABL6FAAh/30ILxgIBIAAEgAAQAAJAAAgAASDQ7AgIBAJ/f389PT185Z+Tk1Nubm6z8xIcAgJAAAgAgZZIAIS/lnjq4DMQAAJAAAgAASAABIAAEAACIgSCg4NNTU2x9ufo6JiRkSEyAL4CASAABIBAMyBQXV2dn5/P4/GagS8NcQGEv4ZQgjFAAAgAASAABIAAEAACQAAINH8Cjx49srS0xNrfyJEjP3z40Px9Bg+BABAQI1BaWhoYGHj+/PnKykqxh9Ah3QRqamq2bt1qYWGxffv2iooK6XamYdaD8NcwTjAKCAABIAAEgAAQAAJAAAgAgRZA4OXLl/3798fa35AhQ969e9cCnAYXgQAQ+B+BoqKiRYsWycvLm5ubf/jwobS09NOnTx8+fMjMzKyqqvrfuObbqqmpEQgEzdW/7OxsGxsbhJCent6LFy+aq5tUv0D4o9KANhAAAkAACAABIAAEgAAQAAItnUBycvKoUaOw9mdraxsbG9vSiYD/QKDFEODz+QcOHJCXl0cIaWlpzZw5c8iQIYaGhiwWy8TExMnJ6dq1a807DPD9+/fz58/fv39/c42Gi42NNTQ0RAipqqreu3evJbzaIPy1hFMGH4EAEAACQAAIAAEgAASAABD4BgLZ2dlTpkyRkZFBCFlbW0dHR3/DZBj6jQT4fH5SUlJ0dLTkh1Nxudzq6upv9A+GSxOBhIQEc3NzrPvX+v8qKioLFiz4/PmzNHnVYFv5fL6XlxdCSF1dPSQkpMHzpGngrVu3lJWVEUKtWrV68OCBNJn+vbaC8Pe95GAeEAACQAAIAAEgAASAABAAAs2XQFFR0fz582VlZRFClpaWT548ab6+NqVnXC73zJkz7du3NzU1ff36dVOa8m97l5aWbt682cnJaeXKlf7+/u/evcv8v5/c3NyCr5/i4uKKioqqqioul9tyCgj8G79Gel5SUhIZGXnq1KmtW7d6e3tv3bo1MDDw48ePDdmez+dv3ryZTqcTyY/BYGhpaRkYGOjr6yspKeF+Go02e/bsoqKihqwpXWNKS0t/++03hBCNRtuxY4d0Gd9Aa48fP85kMhFCKioqt27dauAsqR4Gwp9UHx8YDwSAABAAAkAACAABIAAEgMCvIlBWVrZmzRpFRUWEUOfOncPCwn7VTi11XYFAEBgYqKurixDS1NSMiYmRZBJBQUEqKipY+pGTk9PT0zP8v5/OnTvbfP0MHjx47NixEydOdHFxmTt37saNG6FQTCOcbFlZmZ+f34gRIzQ1NbFkTw6ra9eu+/fvLygoqN+MrKysPn36ENWvW7duhw4devnyZXp6empq6rVr14YNG4ZlQQUFhePHj9e/mjQ+zc/PHzhwIEJIXl7+3Llz0uhC/TbzeLxly5bhI5aXl/fz86t/fPN4CsJf8zhH8AIIAAEgAASAABAAAkAACACBn0+gurp6165dqqqqCKH27du3kAuhfj7HOlZ8+vSpmZkZ/iNcS0tLwoW/27dv6+joEFXomxrr1q1rxtUS6jjeRu3OzMx0dXXFMn2tR8NkMp2dnbOzs+sx6+bNm/jHji/4E891zczMnD59Oo1GQwgNGDCg/tXq2agJH+Xm5iYmJtbU1NRqQ1paWteuXRFC7dq1i4+Pr3WMVHeWlJSMGDECvyGysrJHjx6VancaaDwIfw0EBcOAABAAAkAACAABIAAEgAAQaIkEuFzusWPHWrVqhRAyMTG5e/duS6TwC3zOzMy0t7cnGo3kC39sNjswMHD69Olz5sxxc3Ob+9+Pm5vbn3/+ieuE0mi03r17jxkzpkOHDrq6umpqakpKSqamppcvX/4FCGHJ/08gOzt76tSpWI9DCKmpqQ0YMGD27Nlubm62trYKCgr4NaPT6evXr+dyubWCq6mpWbJkCc4AnThx4po1a2qtbvHhw4e+ffviYTdv3qx1KYntzM7OHjduXOvWrX18fGq9UjMmJgar2+PHjy8vL5dYR77bsPT09O7du+P3QV5e/vz589+9lBRNBOFPig4LTAUCQAAIAAEgAASAABAAAkCgCQjw+fzTp09raGgghNq2bXvnzp0mMKJ5bVldXb1q1SrqZWqSL/zhE2Cz2fjmPh7lIxQK9+/fT6fTlZWVb968WVVV9fnz53fv3oWFhQUHByclJdUlNjWvU20ybw4cOEBye83Nza9du1ZUVFRTU8Pj8fLy8k6dOkUCSy0tLeu67+/jx49YErK1tU1PT6+niouvry/ezt3dnc/nN5nb377xvXv3cEijgYFBrQG2oaGheMDGjRubZYxqfHy8sbExFv6UlJRu3Ljx7RSlbwYIf9J3ZmAxEAACQAAIAAEgAASAABAAAo1PwM/PT0tLCyHUpk0b8RzAxrdHqne8evWqpqYmCffDmZW1KhHS4ubJkydlZWVbtWr16NEjabG5edjJ5/Pd3d3xu6SmpnbhwgVxvwIDA7GepaGh8fjxY/EBQqHwwoULOFN4/fr19WteL168MDAwQAg5ODiUlZXVuppkdoaFhampqSGEFBQUAgICxI08dOgQg8FoxpffvXjxgvybp+X8WkH4E3/VoQcIAAEgAASAABAAAkAACAABIFALgUuXLuFKFEZGRsHBwbWMgK4GEODxeFu3btXR0WnduvXIkSNxAI60RPzV5V9AQIC8vLyamlpLEP74fH5hYWFKSkpMTExsbGxeXl5dWBqn//Lly8rKygihXr16ZWVliW/6/v37Dh06IISUlZVrLeRaXV09e/ZsXGTmwYMH4itQezIzM3v16oUQ6tu3b05ODvWRhLdDQkJwgRoajebj4yNiLYfDmTVrFkJIXV394cOHIk+/6WtpaenVq1dv3LhRa0IxdSmBQFBVVVXXnYPUkT+lHR4erq6ujmViIyOjN2/e/JRlJXwREP4k/IDAPCAABIAAEAACQAAIAAEgAAQkiMD169dxsI+hoWFQUJAEWSZVppSXl8fHx79//z4jI8POzq4ZRPz5+fnJyclJo/DH5/NLSkoKCgpKS0vrj3QTCATp6emBgYGLFi3q27evgYGB1tfPkCFDEhISmvAFLC0t3bt377hx4/bt28fhcMQtefHiBYvFQgipqqrev39ffEBycnLnzp0RQv369ftXLa+goGDIkCEIoS5duqSmpoqvJrE9hw4dIjnRrq6uIhnoubm5tra2CKGePXump6fX70V5eXlBQUFRUZHIIkKhkM1mr1u3TklJSVNTMzAwsP51/vnnHycnJw8Pjy9fvtQ/8qc8ffToEb6wFSFkbW1dq0z8UzaSqEVA+JOo4wBjgAAQAAJAAAgAASAABIAAEJB0Ardu3WrTpg1CyMDAoIVcEfXrjuTLly+4VIK0R/x9t/BXv9b268gLhcLKysq7d+8uXrx46NCh1tbWw4YNc3d3f/bsGY/HE9m3qKgoMjJy3bp15ubmcnJy1BxthJCsrGyteaMii/zSrzhwTFyEwpuePXsWm21oaBgbGytuydWrV5WUlBBC8+fP/9fosy9fvmCBrHPnzikpKeKrSWYPh8OZOXMmObuJEydWVlZSTY2Ojsby6OzZs9lsNvURafN4vJiYGG9v79GjR9vY2AwYMMDNzS0oKIi6VHZ2tpWVFd7IxcWlrkMRCoX5+fm4wo+ysnJoaCjZhdr4uT8QcokhQmju3Ll1uUkM+Lm7k2UbuQHCXyMDh+2AABAAAkAACAABIAAEgAAQkHoCoaGh7du3RwixWKzr169LvT9N50BGRkaPHj2aTcSfiopKXfoFlTGfz3/z5s3Bgwfd3d0XLVrk4eGxadOmixcvFhQUUIf9SLuwsLD+6+eSkpLmzJlDop+IHmRkZHT06FEifvH5/Js3bw4cOJDcjIZHMplMdXV1va8fa2vrFy9e/Ii1v3Qum812cXHBZteanCsQCLy8vLCCeezYsX81JiUlpVOnTjhk7PPnz/86XkIGZGZmWltbk4MeOnRoUVER1bbTp08zv35OnDhB7Sft/Pz8jRs3GhkZkUVwQ1VVdfny5WS1nJyc3r1740cTJkygaoJkKdy4fPkyTj1u27atiCCbnZ0dEBCwdu3axYsXr1y50svL6+jRo0lJSSIr1PWVz+fn5ubGxcW9ffs2NzeX1GAJCgrCWeGqqqp1FWWurq5+/Pixj4/P8uXLlyxZsnr16u3bt9+7d+9f05brMqbJ+0H4a/IjAAOAABAAAkAACAABIAAEgAAQkD4CYWFh+I9/PT29q1evSp8DkmFxSkoKTrFksVgif/lLhoENtcLf319eXl5JSelfE8ArKioOHDhgYmIiIyNDFVDk5OQ8PDzqKSYrbgqbzX7x4sWZM2ceP35MDdN79OhR//79R48eHRERIT5LKBRGR0fjQEtsgIaGhra2NoPBwF9ZLNY///yDJyYkJOADwo9oNFqbNm1cXFzOnDnz5MmTxMTEDx8+5OTkEGGl1u2atvPNmzempqbY/nnz5hFNk1hVXV09depUnAjcEN02LCwM3xM3atSo0tJSso6EN4KCgnCFE4zCysqKmuhaU1Pj5uaG/2NGdHS0uC+ZmZnOzs7kJVFRUdHV1ZWXl8erycnJ7d+/H8fHcbnctWvX0mg0hJCtrW1dObwVFRVTpkzB05cuXUpytAUCQVhY2IABA8RjS+3s7Ooqykw1+MOHD+vWrbO0tNT5+unatevOnTtLSkqEQuHNmzdxaGffvn2zs7Ops3D78+fPy5Yt09bWxoaR/9fS0vL39xcfLxU9IPxJxTGBkUAACAABIAAEgAAQAAJAAAhIHIHHjx9369YNIaSjo3PlyhWJs08aDHr79m3btm0RQmZmZu/fv5cGk2u38fr164pfP/VHgBYWFq5YsUJBQQELCmpqaiwWy8jIyMrKysDAQE1NbcmSJZmZmbXuwePx/P39t2zZQvSaW7duGRkZ0el0MzOzZ8+e4VnPnz+3sLDA6w8dOjQ3N1dktYSEhD59+uABmpqaS5Ysefr06evXrw8cONC1a1fcv2jRIpyhGRISgoUS3N+1a9enT59Ksswn4qxAIPDx8aHT6QghFRWVa9euiQwQCoUVFRWOjo64sgfBKD4M9/D5/A0bNmBVa/Xq1dKCgsvlLl26FB8i/n9jY2NqaYtPnz717NkTITRgwABxqa6goGD27NnYa3l5+UmTJoWEhLx79y4gIGD48OEY7+DBg/Pz8zGl9+/f45ewTZs28fHxtcK8e/eujo4OQqhDhw5E9Odyuf7+/vjfCQghRUVFXV1dQ0PDrl27duvWTUFBYcSIEXXVZca7PH36lLzexF8mk7ljxw6hUBgYGIh/fVOnThUX2ZOSksaNG4fdpNPpmpqaSdfMDQAAIABJREFU+vr6JiYmNjY2Ghoabdu23bNnT0VFRa3uSHInCH+SfDpgGxAAAkAACAABIAAEgAAQAAISTSAqKgr/taytrX358mWJtlUijYuJicHBNd26dUtLS5NIGxtkVFBQkJKSkry8fD1hQfn5+fPmzcPVFVq3br1mzZoHDx6kpKRkZWVlZmaOHTsWIUSj0TZu3EgN3yPbV1RUODg4IIQ2b96M5SpciBYhxGAwfH19hULh58+fR40aRfQOFRUVESGysLCQhFl16NDh0qVL1Ai448eP4zArR0dHLHBkZGRQF9TW1l63bl1Doq6I2U3bSEpKwuo8Qsje3r7WAsRE+GvVqtW/lvRNS0vDyemampokLrJpfWzI7llZWTY2NgghnMyLCxxTo1OvXr2Kc2AXLFhAfSWEQiGXy928eTOTycQFf7du3Yqj5/C+kZGR+GZA6o2HfD5//fr1CKG6YmCLioomTJiA06u3b9+O9VMul3vixAlcOV1RUXHq1KlXrlxJSEjIyMjIz88/ePAgtsHOzk5czsbGvHv3jqh+DAbDzMzM0tJSX19fTk5u2LBhBQUFRAWeMWMGiTHEc9++fTt48GD827G0tNy3b9+zZ8/S0tJycnJiY2PNzc0RQq1atRL5QTUEfpOPAeGvyY8ADAACQAAIAAEgAASAABAAAkBAigk8f/68V69eOO6v1ngiKfbt15seGRmpoaGBELKyspKi69LEwWDhT05O7u+//xZ/KhQKq6qqVq5ciTMlu3TpEhoaSq0b8OXLl379+mHRoWPHjm/fvhVfhAh/M2bMqKmpuXbtGk44xcLfkSNHKioqFi9eTJIx8WoeHh7UqLSTJ08qKipiCWP//v3kXjYej/fq1avffvsNJyDPnDmTyCJJSUmTJk3CmguWJnv06HHo0KG6IhPFLW+qHjabvXz5chzApa6uXldYLpvNxqm+ioqKly5dqt/aw4cPY20UC0n1D5acpyEhIWpqagghZ2dn7CxCyNPTE78b1dXVWERWVFS8cOGCiNlRUVHGxsYIITqdPm/evIyMDPLqZmRkLFmyBAOxsbGh/oRDQkJUVVVlZGR8fHxEFhQKhcePH8fvoZ2dHZl1/fp1Unx5x44d5eXl1Inu7u74lVZUVDxz5gz1EW5XVlbibGX8b+MNGzakpaXl5+cnJydfu3bt1q1biYmJWP3EKjB5+bFi/ttvv+H1f/vtN5EfYGRkpJaWFn46duxY6kRxMySwB4Q/CTwUMAkIAAEgAASAABAAAkAACAABaSIQHR2Ng4BYLFZdF8ZLkz+NaOujR49wfQmpEP7Ky8vrqpgRHByspKREp9P37t1bK7+goCAscbZu3To4OFhkzOPHj3GgE0JIRkZmzZo14rVQSWDa0KFDw8PDSf0EHDa1Z8+eXbt24TRGFRUVKysrfP/a+PHjSXWFjIwMcrUfnU5nsViDBg1aunTp6tWrXV1d27Vrh6UNJSUlkSq9+fn5+/btMzc3J/cSysrK9uzZc+fOncnJyVRhUcSvRvtaVVUVHR198ODB9evXr1692tPTc+3atW5ubpg5QsjJyamus+PxeIsXL8aa5qZNm+qxOS0tjcTNHT58uJ6REvWIx+OtXLkS5zI/ePDg0qVLWHQjWb2RkZG4ZIelpaVI4G1VVdXcuXPxi4FX6Nmz57x581avXr1kyZKePXsSodnd3Z360qalpeFsXwcHB2qEoFAojIqKMjMzw/cJhoSEYFbp6en45WQymWvXrhXJwy0oKBg6dCgxY9CgQUQuJKgjIiKwbqijo3P27FnxsFkfHx8cb4u3joqKwnN5PN7WrVuxI717905ISCBr4oavry8RvlVUVP5VHRaZ3uRfQfhr8iMAA4AAEAACQAAIAAEgAASAABCQegLPnj3r3r07QsjQ0PDWrVtS709jORAaGooLDtRTBKCxbKlvH4FAcPfu3TFjxowaNSowMFBElRAKhcQRd3d3cSGMw+HMmTMHIaSgoLBnzx6RAVVVVSRSCUsb7dq1e/78uYhBRPhTV1fv0qULDmTDQgaNRuvevTtOmlZTU9u1a9erV6+6dOmCEBo4cCC5ee3EiRNYDTQ0NMQxXERJIQ0ajebi4lJcXCyyu1AoTE5O9vHxsba2Jrf+0Wg0MzMzT0/P2NhYcZ1FfIVf1JOZmfnnn3/q6uoSXZK4QxrdunVbv379ixcvarVzz549+KK6QYMG5eTk1Gonh8Px8PDAw/r06fPp06dah0lgJ7m/r1+/fnl5ee/fv8e6W6tWre7cuUPC/RBCq1atEuETFRVlaGiIk3zxLIKU2rC1tRW5o7O6utrZ2RkhpKen9+TJE4IlIyNj+PDhOEx13bp1JK2Y3L43ceJE8Yxsf39/XP8XbyonJ3fw4EGyJm7s2LGDRqPJyMh4eHiQZcmYqKgoUuMFa+VEuv38+TNOEG7duvXdu3fJFNzIyMjo378/1dlhw4bVlWssMldCvoLwJyEHAWYAASAABIAAEAACQAAIAAEgIN0EIiMjcYSLsbHxnTt3pNuZxrI+KCgI3yxmZ2dXWFjYWNt+8z5lZWX4fj2cJPvnn3/GxMRQ45tCQkKwI3PmzKH2453y8/MHDRqEELK2tialOYgR/v7+mpqaOJUS60oIoXnz5onIi0T4IxpEly5dpk2bRoKY8MVt27ZtY7PZJSUlWF6xtrbGsVFlZWXjx4/HBROOHTsWGRk5YcIEnP5JFtTV1V2xYkVdyhc2ODc39+bNm87OzrgyA57bpk2b1atXN4kWlpubO2PGDCyD4nhJFRUVZWVl0kO8QwgZGRl5e3uLO/j48WMcLKagoED0IHJAQqFQIBD4+/tjaVVZWfns2bPUpxLevnLlCn45Fy9ezOPxqqqqpk2bhrE4ODjs2bMHx0Xq6uo+fPiQ6otAINi0aROWUxcuXPj27dulS5diUISqqqrqhAkT4uLiqBNx+/Tp0zgLePHixThzvLy8fNGiRfhoRo8eTerqCgQCLy8v8ZsH8Tpv3761srLCh0vedktLS6rUyOVyXVxccEyiePWPz58/jxkzBv/EevXqhaNrJ0+ejINhX7x4gXtmzJjBZrOpjlRXV3t6euJNGQwGRqGgoHD06FHqMAlvg/An4QcE5gEBIAAEgAAQAAJAAAgAASAgNQSePn2K66K2a9fu3r17UmN30xl648YNHD4m4cJfXl6era0tETuwhLRs2bJXr17hCCmSPunk5FRVVSVCNDs729raGiHUqVOnxMRE8pTD4Vy8eNHExATnmc6aNWvu3LlYZdDS0jp37hw1/EpE+FNTUzt//vzhw4eJFEKn0xcvXoxvRmOz2dOnT8d2YlEmOTm5Y8eOCKHevXsTKfDu3burV692cXH5888/d+/eHRUVJSJ8EFNFGtXV1Y8fP547dy5VBrKzs3v16pXIyF/99dSpU1hdotPpffv23bNnT0hIyJIlS0jpZOqpYenH3t4+IiKCXFQnFApLS0vHjRuHR3bq1Ck6OppqNofDOX/+PE6GlZGRcXV1LS0tpQ6Q5LZAIMB1NqiVXogkR6PRcBAoQmjMmDEiObnl5eW45oyuri5W0zgczvPnz7du3Tp37lw3N7dNmzbduXNHZBah8eHDB3wHgra29pEjR5KTkzds2ICzjLt06fLixQsyks/nL1y4ECEkLy8vIqrGxsaOGDECH42VldWmTZvwK0ej0RYsWECu22Oz2TNmzMD1wZOTk8nKQqEwJydn9uzZOJN36NChr1+/dnJyQgi1a9cO/zTCw8PxhQMODg7Uky0uLt66dSsOSVZWVl6zZs2wYcOwJebm5k+fPqXuIsltEP4k+XTANiAABIAAEAACQAAIAAEgAASkjMCTJ09wimX79u3DwsKkzPpGNzcgIAALNBIu/JWVleEipCIqkrGxsYuLy4YNG4YOHYrjmOzt7cXzZMvLyydOnIhVp9mzZ8fGxiYnJ4eEhLi6uuJYPxkZmfHjx2dkZOTl5Tk7O+OldHV19+3bR27oowp/MjIybm5ulZWVR44cIZesDR8+PCMjA58hjtXC8X1Xr14VCoWRkZF4L3t7exGlhsvlimQfi7wIHz9+9PPzS0pKEhnG4XCioqLc3Nz09PQwGTs7u8as+cvlcl1dXfHWampqJ0+ezMzMDAwM7NSpE+5ksVjLli3z8vL6/fffTUxMSBigqanphQsXqLrquXPnsCaF86OfPXvG4XDYbHZCQsKKFSvIXYHDhw8XuQVPhJWkfSXBqpaWliQkMzU1FV9NQN5nJpN5/PhxEeO/fPmC9W5jY+P4+HjqU97XD7VHvC0QCPbs2YNvx1NQUNDT08MSrY6OjngJEV9fXyxh9+jR486dO6mpqZGRkZs3byZH2bFjx/v373O53MOHD+NIVSaTOWvWLOwUh8P5/fffEUK6urr3798nxsTGxk6YMAH/RkxMTMLDw4VCIdY96XT6zp07hUJhSkpK586dEUKqqqpbtmxJSkpKSEjw9/d3cHDAqqicnJynp2dlZeXr169JeZCuXbsGBweL/CLIvhLVAOFPoo4DjAECQAAIAAEgAASAABAAAkBA6gk8fvwY/xnZsWPHR48eSb0/v9KBEydOYF2gVr3sV+78zWs/f/7cy8tr8eLFw4cP19fXJzm5RDrBjZ49e4on8wqFwosXL2K1gk6na2trs1gscmcZnU6fMmUK0cvS0tJIYJGiouKqVavwgqSqL0LI0tISlyDw9fXFlpiZmUVGRlK9unPnDt5x48aNQqHw2bNnuDKpsbExNdiKOqXWtkAg2LhxI5PJbN++/YEDB0RqrQqFQh6P9+TJExzSSKfTt27d2mhqCJ/PX7duHSYvIyOjoaFhYGBA9DsFBYXNmzdjYzgcTlJS0saNG8nlhu3ataMSy83NJZFlCKE2bdrMmDFj2rRp7dq1I1cHDh48uNac1lq5SUjnp0+fcNjdkCFDSDa9QCDYt28fKViBEOrWrZtIoJxQKMzLy8PX2ykoKIgE4jXQu8+fP1OLcuBrLnfs2CF+B19KSgq2EyGkpqbGYrE0NDQI+a5du5IY6urq6rVr12LjZWRk7O3tnz9/zuFwVqxYgd+E7t2779ix4+LFi15eXuReQl1d3bNnz+KXITU11dLSEiHUv3//nJwcHo+3Zs0aLAozmUw9PT1dXV0SCKmkpLR27VpSGebhw4ft27fHG7Vu3frYsWMiMnoDyTTmMBD+GpM27AUEgAAQAAJAAAgAASAABIBAiyDw6NEjHKhibm5Ovdi+RTj/LU5u2bIF/73t4OBQUVHxLVObZqxAICgtLX379u2ePXt69epFlU5wxYBFixbV6khZWdm8efNIxBkWDhBCWlpaq1ev/vLlC9WfmJiYXr164TF0On3AgAFv377lcDiTJ0/G0smJEyfw+CdPnpiZmbVp0yYwMJCauyoUCr98+YI1l0mTJrHZ7MzMTHJR2vz580kgIXXfWttcLpfUdVVUVJwyZcrly5cTEhLS09Mzv34SExMvX76MF0cIUesI17rgz+1MS0ubMmWKuA4rLy/v7e0tchYCgSA8PBybSqfTfX19qcY8e/aMeEEOCDeUlJRmzZqVkpJCHS8V7cDAQHzB38iRI6kSVXZ29qhRo7B3CgoKhw4dEpdrq6ur//jjDzymf//+JGDwmxwnQdBY0fPy8iIimsg6586dI5GVhD+TyXR0dBSRqgsLC93c3Eisq7Gxsb+/P7nKEN8GSJQ7hJCpqWlgYCC5fJPP5+/YsYPBYCgpKeHYw9TU1IEDB5JNSaNDhw7Hjx+nJu8LBIJLly61bt0aj1FQUJg9ezZRVEU8kpCvIPxJyEGAGUAACAABIAAEgAAQAAJAAAg0KwIPHjzAwSbdunWjBhY1Kyd/2JmDBw9iLWzy5MnUv65/eOHGWCAzM/PMmTO///57165d9fX1e/fufeTIkYKCgrr2zs3N3bRpU9euXXV0dHR1ddu3b+/s7Hznzh1c90Bk1osXLxwcHFRUVOTl5QcNGoQlp9OnT7dp02bmzJlEaOByua9fv3716hURNajr3L59u1u3bgsWLGCz2QKBYNu2bVgrUVVV3bVrV/3Ay8rKcnNzcdryzZs3SaAcVh51dXUNDAwMv3709PRIkB1CaOnSpeLxXFSrfno7NzfXx8end+/e+vr6LBZLX1+/e/fue/fuFQ9OxFvHxMT0799fW1v74sWLIsbEx8dPmDCBqhmpqKgMHDjw/PnzdclVIitI2leirU+bNk2kXMyrV68cHR1NTU3Xr19fl3fBwcFYjKPT6a6urvVXs62srMz7+hHREB8/fjx9+vTRo0f7+fmJ2EDFxWazL1y4YGdnx2KxdHR0DA0N7e3tjx07RspSUwfn5eV5enqyWCwmk9m2bdtr164VFxfPnz+fqIFYmJOTkxs+fLh4uY+cnJxJkyYxGIxdu3bhZePj493c3ExMTHBAroWFxYoVK2q9s5LH412/ft3GxkZeXl5ZWdnNza0uelSDm7ANwl8TwoetgQAQAAJAAAgAASAABIAAEGjOBMLCwjp06IAQ6t69u0i5gObs9rf49v79+/Hjx3fv3v3SpUvfMk+CxrLZ7C9fvnz69KkeyY+Yy+fzc3Jy4uPj3717l5WVVX8ljeLi4pCQkCtXrmRmZuJoPjabnZ6eLn6HIFlfpMHn87Ozs4lKmJGRMXjwYCyIqKioLFq0KD4+nio7crnc7Ozs0NDQ1atX29vbd+zYcc6cOeXl5Xw+Pzw8fMyYMbgSC4mHEmnQ6XR7e/t3796JmNEIXwUCQUFBQWpq6ocPH9LS0vLz80XiH0VsSElJefDgAbWSAxlQVFR07ty5hQsXzp8/f8OGDbdv327IyZLpktY4deoULkeL77MTMa+srCw7O5v6DogMqKysXLhwIU65ZTAYjo6Ojx49osZRCgSCwsLCqKio7du3jxs3zsLCon///uKhkdXV1XXpsCI7lpSUJCUlxcfHf/z4sdYDIuNramqio6P9/Pzi4uKw1lxQULB3795Ro0b17t3b3t7e1dX1zJkzIuG0ZHp6erqvr69IsZ309PS4uLjk5OTc3FzqFZBkFmlkZmZevHjx7t27Df89krmN3ADhr5GBw3ZAAAgAASAABIAAEAACQAAItCAC9+/fNzU1RQj16tUrJiamBXneYFfLysry8vJqDVhr8BowsKEEIiIi8O1mOB2ybdu2zs7OXl5eGzZs8PLymjNnjoWFBS5jikW9oUOHksKpxcXF169fd3V17datm46OjqamptbXj66urqmpqaOj46FDh3C94IZaI8HjBAKBSNiaBBtbn2kfP36cP3/+ihUr0tPT6xtX97NPnz6NHz+eXLenra3t6Oi4Zs2aDRs2eHt7L1682NbWFteNwe+MtrZ2bGxs3ev98ifl5eUFBQWlpaXwbxXMGoS/X/7OwQZAAAgAASAABIAAEAACQAAItGQCRPvr06ePSGXMlowFfG8qAjExMU5OTvXH7uFywDgSUyTuicvl5ubmxsfHP//6efHiRWJiYlZWFjUKrKlcg31rJcDhcH5QAsvMzFyxYoWOjo5IjKfIV5x1u3Xr1gYG99VqLXT+dAIg/P10pLAgEAACQAAIAAEgAASAABAAAkDg/xAg2t+gQYPES2f+n6HwBQj8egKlpaUXLlxwcHDQ09NTUFCQkZGh0WiysrKqqqpt27YdO3bspk2bbty4kZmZ+ettgR2kgwCHw3nw4MGcOXPatWunrKyMq6ng+hgsFmvIkCHu7u5+fn6JiYk/KDJKBw6pshKEP6k6LjAWCAABIAAEgAAQAAJAAAgAAekkQLQ/e3v77865k07XwWoJJVBeXh4fH3/lypVDhw4dPnz4zJkz9+/f//jxY8ML/kqoY2DWLyPA4XA+fPgQEhJy9OjR/fv3nzx5MigoKDExkVov+JdtDgt/JwEQ/r4THEwDAkAACAABIAAEgAAQAAJAAAh8EwGi/Tk4ONRfHPObloXBQAAIAAEgAATqIgDCX11koB8IAAEgAASAABAAAkAACAABIPCTCdy7d69t27YIocmTJ5Naqz95D1gOCAABIAAEgMB/CYDw918S8E8gAASAABAAAkAACAABIAAEgMCvJxASEmJgYIAQcnNzKysr+/Ubwg5AAAgAASDQcgmA8Ndyzx48BwJAAAgAASAABIAAEAACQKBJCFy7dk1LS4tGo3l6elZVVTWJDbApEAACQAAItAQCIPy1hFMGH4EAEAACQAAIAAEgAASAABCQLAKBgYHq6upycnI7duyAIpiSdTZgDRAAAkCgGREA4a8ZHSa4AgSAABAAAkAACAABIAAEgID0EDh9+rSqqqqysvJff/0lPVaDpUAACAABICBNBED4k6bTAluBABAAAkAACAABIAAEgAAQaDYE+Hz+kSNHlJSU1NXVL1682Gz8AkeAABAAAkBAcgiA8Cc5ZwGWAAEgAASAABAAAkAACAABINCyCNTU1OzcuVNeXp7FYt2+fbtlOQ/eAgEgAASAwK8nAMLfr2cMOwABIAAEgAAQAAJAAAgAASAABOogUF1d7e3tLSsra2pqGh4eXsco6AYCQAAIAAEg8D0EQPj7HmowBwgAASAABIAAEAACQAAIAAEg8LMIVFRUrFixgkajWVpavnz58mctC+sAASAABIAAEADhD94BIAAEgAAQAAJAAAgAASAABIBAExMoLS11c3NDCNna2iYlJTWxNbA9EAACQAAINBcCIPw1l5MEP4AAEAACQAAIAAEgAASAABCQZgJFRUXTp09HCNnb22dmZkqzK2A7EAACQEByCZSUlJw9e/b69evl5eWSa+XPswyEv5/HElYCAkAACAABIAAEgAAQAAJAAAj8AIG8vDxHR0eE0MSJEwsKCn5gJZgKBIAAEAACtRO4ceOGqqqqsrLy4cOHax/RvHpB+Gte5wneAAEgAASAABAAAkAACAABICDNBD5+/DhkyBCE0Ny5c8vKyqTZFbAdCAABqSTw5cuXiIiI4uJiqbS+AUZv2bJFRkYGITR16tTq6uoGzJDuISD8Sff5gfVAAAgAASAABIAAEAACQAAINDMCb9686dWrF51OX7t2LZvNbmbeNWN32Gx2eXm5QCBoxj42A9dqamrgjOo5x+rq6mXLlqmrqy9fvryysrKekVL6iMPhzJw5E339gPAnpYcIZgMBIAAEgAAQAAJAAAgAASAABKSbwNOnT83MzOTl5ffv38/n86XbmZ9hPZfLDQsL27t3b0JCws9Y72euUVBQcPfu3bVr186YMeO3337bsmVLdnb2z9wA1vpJBEpLS319fV1cXKKjoxu4ZElJSUpKyuPHj0NCQh48eJCWltbsf49JSUkdOnRACLVu3To2NraBoKRoWFFR0bBhw7DwN3nyZIj4k6KzA1OBABAAAkAACAABIAAEgAAQAALNh8Ddu3dZLJaKioq/v3/z8aoOT8rKygIDA9evXx8TE1PrkIiICBMTE4TQlClTJCQDurq6Oj4+fseOHba2tqqqqlhHQAgxGIwDBw7U6gV0NiGBsrIyd3d3OTk5BoNx/vz5+i0pKCj4559/vLy87OzsDAwM1NXVVVRU1NTUOnbseP78+eat/YWHh7dq1QohpKur23CFtH6eEvU0NTW1a9eu+Ac7atSo0tJSiTLvVxgDqb6/giqsCQSAABAAAkAACAABIAAEgAAQ+FECFy9eVFNT09HRCQkJ+dG1JHh+aWmpu7u7oqIiQmjNmjW1pmEeOnSITqcjhHr27Nm0JY/5fP6nT5/+/vvvqVOnGhkZ4ZvCsIigqqrKYDDodPq+ffsajXdVVdXff//9+PHjWrnVagaPx8vJycnLy2v4lFrXkaJOLpe7c+dOBQUFhJC8vLyfn19dxn/+/PnQoUO2trZqampEzKU2+vTp07wjOkNCQlRUVBBCAwYM+PLlS12gpLf/n3/+UVdXx2far1+/3Nxc6fWlgZaD8NdAUDAMCAABIAAEgAAQAAJAAAgAASDQ2ASOHz+upKTUvn37p0+fNvbejbJfaWnpqlWr5OTkEEJmZmbh4eHi23K53AULFuA/1F1cXJrq3jEul/v8+fOVK1eam5szmUwiBtHp9K5du65fv/7evXu+vr67d+/+/PmzuBe/qKewsHDgwIEWFhbv379vyBZcLvevv/7q2LGjtbX1w4cPGzKlGYwJCgpisVj4yOoS/srKys6fP9+vXz8Gg4FHMplMHR0dAwMDQ0NDfX19rE3b2Njg862oqHj37t3Nmzd37drl4eFx8+ZNHo8n+axyc3O3bNmyb9++uuqGnz59Gv8e3d3dpcKjb2V+8uRJ8vsF4e9b6cF4IAAEgAAQAAJAAAgAASAABIAAEPiZBGpqanbu3CkvL29lZfX27dufubQErFVRUYGzL/GFYjdu3KjVqLy8vIEDByKEdHR0Hjx4UOuYX9pZXl7+5s2bNWvWtG7dmuh9CCFFRUVbW9v9+/enpaX9UgPqWbygoGDQoEFMJvPy5cv1DCOPsrKyrKyssBe9e/eWwDsTiak/q/Hu3Tvicq0RfwKB4OXLl9OmTVNSUsJkNDU1J02adObMmbi4uIyMjKysrLS0tEuXLq1YsSIkJCQ/Pz8gIMDBwYHFYpEp48aNk5Ak9Pq5HThwgP71s2bNmpqaGvHBO3bsoNFoioqKV69eFX8q7T0CgWDTpk0kUNfe3r4ZFy8mhwURfwQFNIAAEAACQAAIAAEgAASAABAAAhJHoLq62svLi8Fg2NnZZWRkSJx932uQQCDA8YwIIW1t7dOnT9d1dVpERISuri5CaOzYsY18IRefz79z586YMWNYLBaNRiOqn66u7qRJky5fvpyXl/e9AH7OvOzsbBsbG4TQpk2bGpK6W1xcPHHiROLIhAkTGjM+8ef4/C2rlJWVubq6En9rFf6io6O7dOmCx8jJyY0dO/bevXu1Bpby+fynT586ODjg6D+EkKysbK9evZYtWxYREdEQ/t9i+88fy+fz3d34gLC0AAAgAElEQVTdsad9+/bNyckR2YPD4cyZMwchZGho+OrVK5GnzeArn8//888/yfswceLEqqqqZuBX/S6A8Fc/H3gKBIAAEAACQAAIAAEgAASAABBoYgIVFRVLly6VkZEZP358XQl6TWzit2//7Nmz9u3b47i5nTt31hp8hFf18fGh0WiysrK+vr7fvs8Pzfj8+XO/fv2ITIBDL729vaOiomoVhn5os++anJeXN2DAAITQ1KlTG1if9P379ytXrmzXrp2MjAydTj9z5sx37Swdk65fv45Lr8jJydV1x9+BAwewqisjIzN37tzCwsJafSssLNyzZ4+xsTF+H5SUlEaMGHHq1KmmvXSyVlPr6hQIBOvXr8fxboaGhuJFe798+dK/f3+EkJWV1Q/6xeVyCwsLuVxuXcY0SX9NTc3s2bPJL9rV1VXSLPwVWED4+xVUYU0gAASAABAAAkAACAABIAAEgMDPJFBSUoIjcVxdXaUio7B+58vKypydnfGf387OzvXE8RUVFdnb2yOEjIyMXr58Wf+yP/1pSkpKx44diUzQt2/fxMTEn77LjyxYWlo6cuRIhNCgQYPy8/MbuBSPx3v79u3hw4c3bNhQVyXlBi4l4cOSkpLWrl27ZMmSv//+28nJqdaIv/Pnz2NNUEZGZvbs2UVFReJORUVFjRkzBt8Nx2Qy7ezsLl26JHVZohwO548//sDvs4qKyt27d0U8jYmJMTAwQAhNmDChoqJC5GnDvxYXF2/YsMHGxubw4cP1aPpCoZDP58fGxoaGhjZOIRE2mz1jxgxMgEajbdmypeFOSe9IEP6k9+zAciAABIAAEAACQAAIAAEgAARaEIHCwkInJycajebp6dnA2C6JpfPo0SOcvduhQ4f6haeIiAg9PT2E0OjRo0tKShrZo8LCwnHjxhHhT0VFZdGiRUlJSd+R1MnlcktKSgoKCoqKithsdgMd4fP5xcXFpaWlde1YVVU1adIkhJCFhcWnT58auGzLHObm5lar8Jebmzt9+nQcBycnJzdr1qy4uDgCvKamJjAw0MzMDL8GxsbGu3btahyV6qcfEwnoq5WDUCj09/eXl5en0Wg7d+6sZ/eioqKnT5+eO3fuxIkTQUFB6enpBBeeFRgYiG8/NDU1fffuXT1LvX792sLCQklJyd3dvX6JsJ5FGv6IzWZPmzYNH6WiouLFixcbPld6R4LwJ71nB5YDASAABIAAEAACQAAIAAEg0LII5OTk/Pbbb3Jycrt27ZLqgpvHjh2TlZVFCPXv3z89Pb2eU8Q38TMYjH379tUz7Nc9ev369aBBg4j2hxDq2LHjunXrYmNjORxOQ/YtLS29evWqm5vb4MGDra2tbW1tp02btnnz5oiIiHryhXk8XnR09LJlywYMGDB8+PBVq1aFhoaKB3uSCKZOnTolJyc3xJ4GjqmsrExPT3/79ZOWlpaTk9NAfxu4fiMPI6Bqrer76dMnJycnOp2OD9rU1NTb2zslJaWwsHDz5s2ampoIIRqNZmdn9/jxYxGRq5Ed+ZHtoqOjSXVjBoOxf/9+6mo8Hm/58uUIIXV19bqq6JSXl/v7+w8ZMkRDQ4PJZDIYDCUlpc6dO+/YsYMaKXnw4EEMU01NrZ7i0Vwu18PDAzOfMmWKyH/P4PF4ubm5ycnJcXFxKSkpmZmZ9YQGUx2htkVuDq2oqBg7dize0dLSsp6yPEVFRampqXFxcUlJSZ8+fSosLBRZirqLhLdB+JPwAwLzgAAQAAJAAAgAASAABIAAEAAC/yOQmpo6aNAgZWXl06dP/69X2lq+vr5Y+GMymSNHjrx48eKrV69SUlI+fvyYmpqalJQUFRV1/fp1Hx8ffA+grKysiEjRmB6npqauXLnSyMiIKv+1bt36jz/+uHnzJlXvELGKx+NFREQ4OTkpKytT5+K2pqbm1KlTw8PDxTXcioqK3bt3i+yopqY2bty4sLAw6niiZ7Vv314kDZnH42VnZ6enp39r+QIul3v79u2JEye2adNG9+uHxWKZmZktWrRIvByEiMsS+7WysnLChAl1RboJhcLc3NzVq1fr6+vj05GRkenWrduIESPk5eURQnJyci4uLvWL1BLrOzHs8OHD+HeHffT09KSKWYWFhUOHDkUIWVtbZ2VlkVmk8fnz5wULFpBCxtRXWlZWduXKlUTIJlcrKioq1lNvOikpqXPnzviiT5G7Jj98+LB69WoLCwsWi6Wjo8NisYyMjIYNGxYaGkrsqadRXFwcHBy8du3aBQsWrF279tatW9i2iooKR0dHbPmqVauoPyWyWmFh4aFDh/r376+vr6+jo6Onp2dgYGBtbX306NFax5OJEtsA4U9ijwYMAwJAAAgAASAABIAAEAACQAAI1EIgLi6uR48empqaQUFBtTyWhq579+5paGgQ4UBBQUFbW5vFYul//ejp6WloaIjoC927d/+5EW3fxInL5cbGxrq7u5uamuKcUGy8srLysGHDAgICxGORPn36tG7dOkNDQ+KmjIyMpqamvr6+pqYmWcTQ0HDv3r3U+9S4XO7u3btJ3VgyHTcMDAyOHj1KkiJJsQIdHR3qHYj5+flbtmzp1KmTkZGRm5ubSD1ogUBQXFxM3ZTQqKio2LVrF06vpm5Np9Pl5OTWrl0rpdpfeXn5mDFjsMZ05coV4i+1UVNTExMTs3LlSh0dHarvDAZj6dKljZ9pTrXtx9tlZWUk2A17N3PmTGoUZ3R0NL7gb/bs2eLZ6NnZ2dOnT8dVUGg0moWFxcKFC2fNmmViYoI7dXR0SJxgUVERllnpdPquXbtqNV4gEOzZswcLkcOHD8/NzSXDnjx5YmtrSz0CHHGJEOrbt29UVFT9AlxMTMy4ceOoaruqqurq1asrKirInZjKyso3btwgO5JGWlra77//ji9zpBpAo9HatGlz6dKlb5XRycpN2ADhrwnhw9ZAAAgAASAABIAAEAACQAAIAIHvIRAREWFqampiYhIZGfk985t6Tnl5+caNG0XkFeqf2eJtOTm5c+fONa3hfD4/MTFx27ZtVlZWOBAM26mkpDRlypTXr18T84qLi6dMmULUPRwyNnfu3Ojo6I8fP0ZHR/v4+PTs2ZPBYGApasOGDURQeP78edu2bakEtLW1HR0dLS0t8YI6OjqBgYE44ZTH482bNw8hpKWl9eLFC2zAp0+fpk+fjhdHCMnIyMybN6+8vJyY9+rVq6FDhy5cuFBEzCopKfHw8MCao6KiYt++fXHA1O7duzdv3qyurk6n0ydOnCiNN9wVFRUNGzYMIaSsrBwcHExQiDd4PF5AQIC2tjY5Ajqd7urqKu1XKL58+VIkhtTe3p5an2Tfvn10Op3BYBw5ckQES3l5+eLFi3H2rrKy8vLly1NTUwUCAZfLffv2LS6/Q6fTd+/eTSaGhIRgcX/WrFlUeZEMeP/+vaWlJc4svnbtGum/ffs2DgNECJmYmEybNs3Dw2Pjxo1HjhwZOHAgQqhdu3a3b98m40UaL1686NGjB/XscFtNTe3evXsFBQW4CnarVq0ePXokMjc+Ph77ghDS0dEZM2bMihUrvL29Dx8+7OLiQqfT1dTUpPGaBRD+RA4avgIBIAAEgAAQAAJAAAgAASAABKSAwO3bt3V1dW1sbOq/O78uT/h8fn5+fq1/kNc15ef2czic8PDwRYsWmZubs8Q+OCyO3LmGENLQ0Lh3797PteG7V8vOzvbz85s4cSKLxSLqnqWlJYl4ys7OtrKyIuqDtrb25s2bRaICMzMzfXx8cJGTVq1aXbhwQSgUCgSCDRs2kDURQgYGBoGBgZWVlUlJSbi6C0LIzMwsKioKF0V1d3fH6snjx4+FQmFaWtrYsWOpKyCEWrVqRdVW/Pz8GAyGtrY2XgRzKC8vd3d3l5OTw9rKiRMn8vLySCroP//8o6qqihBSUFAQycr8boyNObGgoGDw4MEIITU1tX/++af+rS9duoSdJYFmNBqtV69eAQEBTfiTqd/mf32K8+vpdLqNjQ2W5Nq2bRsXF4cnFhUV4fLQenp6T58+FVnNz88PB9Cpq6vv3buXBJwKhcKSkpKpU6diUD4+PmQiKSQyYMCAvLw80o8bHA7Hw8MDhwq6uLiQ4NPQ0FCc3Y9zqxMSEkjsYUVFxahRo/BvauzYsVTJkiyenZ1NxigrK0+fPt3X13f79u2zZ88eNGjQrVu3Hjx4gH9xampq9+/fJxOFQmFSUtKQIUOwUG5nZ/fw4UNilVAo9PT0xFt37tw5ISGBOlHy2yD8Sf4ZgYVAAAgAASAABIAAEAACQAAIAIFaCFy4cEFNTW3o0KEiiZy1DBXryszMHDp0aGBgoNiTRu3g8XifP3/+IPZJS0sLDg7GebJMJrNTp04bN26kxqw1qpV1bFZVVRUTEzNz5kwS/WdhYYHzbcvLy0lapba29qlTp6haCVmPx+OdOnVKS0sLITRmzJiSkhLqHWQIIQaD4e3tTRIb09LS8C1sCCEXFxdcDGHz5s0yMjKtWrV6/PhxdnY2LvKLENLV1R0/frypqSkWLJycnIiQcfHiRQUFBSUlJWrs2+nTp3F6tZGR0c2bN4mRuEG9Hm7w4MFSl/CbnZ1tY2ODNVDxUC+qszk5ORiynJzc7NmzDxw4MGTIECxRqaurHzx4sNajpK4gge3y8vKJEycihExNTcPCwrDGJycnd+rUKWztnTt3sBo4YsQIkWsrMzMz+/fvj98iIyMjd3f3W7duvX///sOHD/fv3582bZqCggJCSEVF5fr168R3Lpe7aNEirFw/f/6c9ONGcHAwTifv1KlTbGws7kxJScFnxGAwFi1aJBKOmpyc3KlTJ2yGqqpqrfnaBw8exFm6+vr6x44dI3cO1tTUFBcXFxQUODs74xXodPqOHTuIVaWlpbNnz8aPhg0blpKSQh4JhULqz5lGo3l5eZGfJHWYxLZB+JPYowHDgAAQAAJAAAgAASAABIAAEAAC9REQCAS+vr7KysozZ84UiSarb9rXZ1lZWW3btrW1taVerfWvsxpzQHR0NE63HDZsWGpqKpfLbczdG75XSUnJ7t27yaV4q1at4vP5HA5nxowZWEdYsGBBPWFiJSUlw4cPRwgZGxu/e/cuKyurZ8+eeCKuICwS0Xnnzh2MpUuXLrgm6ebNm7Ge9ffffzs7O+MwyV69et25c6e6utrf319FRQUhRA3vunv3roqKiqys7LFjx7CnWVlZffv2xZmwR44cIYF++GlhYeFvv/1GrFJQUDh69GjDEUnCyKysrF69euHQyPDw8HpMOnToEA57HD16NA5Vy8rKWrlyJY4BNDIyevLkST3TJfPRy5cvjY2NEULTpk2rqqrasmULljKnTp1aXV1dWlqKo/YYDMaBAwdEXPD19cVASASusrKynp4ei8VSU1Mjb4Wjo2N+fj51bkBAgIKCgvg1fwkJCVjgU1JSOnHiBE5aFwgE27Ztw1Y5ODhkZ2dTlxIKhX/99RdR2BFCI0eOFAkkLCgowNncSkpK4u+wUCi8cuWKuro6MdjBwYH8a/P27dtY9zQ3N4+OjhbZOjIykpol3b59+1evXomMkeSvIPxJ8umAbUAACAABIAAEgAAQAAJAAAgAgfoIcDiczZs3q6iorFq1ioS31Dfhv88qKirGjx9Pp9MPHTr03z7J+mdwcDDOLly5ciWWBhrZPi6Xm5WVJSIu1GoDn8/fvXs3DjUaPnx4cXExEf6YTObJkydrnYU7s7KysAiip6cXFxf3+vVrUlgWIWRnZycSfkVSVjU1NSMiIoRCIY74YzKZJiYmuFSCjY0NKfSRk5PTr18/fJPgpUuX8KaRkZFY5pg/fz6OXwsLC2vVqhVCyNnZuaysTMTgkydPitRasbKySk1NFRkmyV9TUlLwzXHUyxDFDc7JycF3wCkoKPj7+5MB1dXVW7ZswUe8fPlyiZWhicEijZ07d9JoNFlZWV9fX6FQGBYWpqmpiRAyMjIKDw8PDAzEEp6pqWl8fDx1LlHTFBUVly5dOn78eCwCEvkMNwYMGCCuhb179w7n7Q4aNIj8B4aCgoJp06bhWXPmzCHSW1lZ2ejRoxFCbdq0Ec81Tk5Otra2pm6qqKgo8suKi4tr3bo1QmjYsGGFhYVUL4RCYXJycu/evXFKMhYQiRQuEAi8vLxwGrvImkKhsLS0dObMmdStEUKLFi0iOcgiG0ngVxD+JPBQwCQgAASAABAAAkAACAABIAAEgEBDCVRWVi5btkxFRWXjxo3f9LdoWFiYlpaWhYXFx48fG7pZI47z9/eXl5eXkZHZtm1bI277v60CAgLMzMysrKwCAgL+Nbvz3LlzOOGxT58+X758qampwRF/DAbj8OHD/1v0/7a4XO7evXvxxKFDhxYUFJCr9LDQ0KVLF5GIv7KyMnyLmYqKCi5xIHInoImJycOHD8k+NTU1rq6uWO/YunUr7k9ISMD1Q8j9a4GBgfLy8jQabefOnWQubty/fx/LN0wm09LSEiuADAZj/fr1/4pFZKkm/EoSRbW0tGJiYuqyJCIiAitirVu3plZrEQqFN27cwLGTjo6OJGm6rnUkqr+8vHzcuHEIIUNDQ5x1++XLF1woAyFkYWHRsWNH/L7NmzdP5N8hT58+xUV4Bg8enJubW1RU9Ndffw0ZMkRXV1dDQ0NPT8/a2trLywsHn4p4XVVV9ccff2BBbf/+/Twer6qqas2aNVg/7dOnz/v378mUnJwcLMz17dtXpHpMbm7uzJkzcTBg27Zt27Vrh621sbH58OEDWSE8PByL1ytXrhQJWc3Nzf3999/xxZdjx4719PRkfv1gmY/D4WBpT0NDQ6RcUnV19bZt23C5G01NzS5duuBFWCxWaGgo2VrCGyD8SfgBgXlAAAgAASAABIAAEAACQAAIAIF/IVBaWjp//nwVFZWdO3c2XIupqanx8PAQuevqX3ZqxMd+fn5Yitq1a1cjbvv/tyJaAEJIW1t75cqV0dHRBQUFbDab9/XD5XKrq6uLi4vT0tL8/PzMzc2xGPHnn3+y2WyBQLBp0yasETg6OmZlZYm7kJ6evmHDBpy3q6+vf+vWLaFQePnyZawy4NXodPqMGTOoaY8vX77EMpyqqiouUrFgwQI8GIf1HTlyRCRA8vTp0zhKa/LkyTgsNCMjA1c+NTQ0xLGB165dw4qenZ0dLl8rEAhyc3NPnDjRoUMHvP7o0aPfvn27YsUKLNxoaWnt37+fFCMWd1CieuLj43G2Zv3C3/3793FKb9u2bcndcxwOJywsDGcKI4TmzZtXT+62RHmNjfnw4UOXLl0QQo6OjjjCjs/ni+jFCCFVVdWgoCAR+wMCAnB8nKenJ3mviouL4+Pjo6KiEhISCgoKSL/IXKFQePfuXfyG6+rqurm5zZw5E4unxsbGIrU18vLycKylhobGxYsX8ZqVlZURERHjx4/Hoaz6+vpXrly5deuWiYkJQgjXmCbq4cOHD7Hwt27dOqolHz9+/OOPP3CR6x49erx9+zYhIQGvMG7cuLKyMh6PN3/+fHylppeXF746s6amJjExcdmyZfh9kJOT27Rp08uXL7GRCKEePXpQFXbqjpLWBuFP0k4E7AECQAAIAAEgAASAABAAAkAACHwzgby8vHHjxikrK4unqtWz1sePH62trc3NzWsN2KlnYiM8OnnyJBaYXFxcGl9nEQgE27dvJ5eaIYS0tLRsbGymTZs2d+5cNze3uXPnTp48ecCAAUZGRkSqs7Kyevv2LYbz/PlzfKsag8EYPXr0tWvX3r9/n5aWlpCQEBQUtHr16u7du+P1dXR0jh07hrNHz507h+Mc9fX1sfsMBmP8+PG3bt16/vz5hQsXhgwZgvXE7t27f/jwoaKiwsHBAQtzMjIys2fPJrmT5IwSExNxSFfnzp1x1QKSL9yqVStc6SI1NRVLgQwGw87OzsPDY+HChb1798bRiDh9EsceFhQU/PHHH9gGJSUld3f3goICspfENl68eIGLqOjo6JA8aHFr37x506ZNG4SQrKzsyJEjvb5+ZsyYwWKxMGRTU1Opu+PvwYMHWBFbs2YNEeni4uLMzMyIZIwQoibkEjLHjh3Dotsff/whEgxIxtTTqKiowAGn1I1UVVWPHTsmUh+Dx+OtWbMGv1dt27ZdsGCBu7v7uHHjyO2Z+vr6Z8+exbMCAgJwHCJCyNbWFofpRUVF4WjNHj16hIWF4WoeQUFBAwYMwNGCLBYLlx+prq7GpTx0dXXx+3/p0iWsSLZq1WrGjBmrV692dnZu3749tkdeXt7T0xP/sp4/f96tWzfyMgQGBkp+3jcIf/W8ovAICAABIAAEgAAQAAJAAAgAASAgNQRSUlJsbW11dHTEw3bq8eHq1atqampbtmypZ0yTPDp9+jRWvgYMGCBSNKBx7MnOzp41axYR9ajKRa3tfv36Ue8m43A4a9euxXFGOBaPxWLp6+vr6upS78uztLS8dOkSidM8evQog8FgMpnbtm1buHAh1lxwyVRNTU0iw+nr61+4cEEoFGZnZ5O7z9q0afPixQtxOBwOB0cFqqqq3rlzRygUVlZWTpgwASGkp6eHVTCBQHDo0CFq8QTiI5PJnDJlSnJyMlk5LS0NFyRBCDGZzEmTJj1+/FgkuZIMlpDG/fv38TV27du3T0xMrMuqiooK8QvdCApTU9OrV68S7ayuRSSqXyAQ7N69m8FgyMjIkFxvoVDI4/G2bdtGXjAFBQVS6YVqPwlBbdeunXjVC+rIutpv3rzp3r07YaigoODl5VVroGhCQoKFhQUZSW106tTp8uXLRCusqanZuXMn+W126tTp+PHjsbGxlpaWeJa2tvbAgQP79OmD4/VwmvOZM2eISBcSEoKvuVy6dGlNTU1RUZGTkxN1R9LW1tbeunUrtaT4rVu3sKaPENLR0VmzZo1k3pZATgSEP4ICGkAACAABIAAEgAAQAAJAAAgAAekm8OrVq27duhkbG+Mk0IY4U1FRMWnSJGpiY0NmNcKYuLg4nD87Z86cb6pb8hNtKykpuXLlyvTp09u2bUtV64goICMjo6Ki0qVLl/Xr14tHTRYWFvr4+FhYWOB4K+osLS0tW1tbHx8fHIJHbD58+DCDwZCXlw8ICCgpKVm/fj2JbMLTFRQUBg4cGBwcjCWM8vJyZ2dnnKW4YcMGIiCSBXHj4cOHLBaLTqdjcUcgEOBawF26dCGaRVFR0bJly6imMhgMMzOz3bt3i5dKePPmjZ2dHY6HQgjNmDGjqc5IxNO6vt66dQufYKdOnagipvj4ly9f9u/fnyhiCCEZGRltbe2JEydGRERIl+qHa1PgohmksgdxOScnZ/LkybSvnzlz5oifMq6J0bVrV/zuTZkypSG1bsj6pPHgwYMePXrIy8sbGRnt3r2bKqKRMUKhUCAQ3LhxA2clkx+LhobGtGnTxIM0KyoqvL29ia5nYGAQERGxfv16IrWTFRBClpaWwcHBVG26vLx83rx5+IpDnNseGxtrZ2dHPXclJaXBgwcHBweL/Kz4fP6FCxfIVYNMJvPs2bNURyStDcKfpJ0I2AMEgAAQAAJAAAgAASAABIAAEPh+AuHh4SYmJubm5rUGf9W6bnh4uLa29syZMyVKu+Hz+eHh4Xv37hWRxmp14Zd2stnslJSUoKCgvXv3ent7e3l5eXt7r1u3ztvb+8CBA6GhoZmZmVRNgWqMQCDIycl59OjRgQMH1qxZ4+npuXbt2sOHD0dHR4uU68WziPDn5+cnFApramoePHiwcuXKqVOnurq6enh4XL16VUR8iYuLmzlzppeXVz1xkWw2e+3atTo6OkePHsUbJSYmjh8/3sPDg3rolZWVoaGhXl5eixYt8vT0PHnyZHJycl2upaenb968edCgQTNnzqSGOlLdl5z2u3fvcIbmiBEj6gGFDc7IyDhz5sy6des8PT1Xr1594MCBZ8+eSVdBD0K+pKTE3t4eIaSkpHTjxg3SjxtZWVnHjx/39fUlVXdFBlArVjOZzFmzZlHraVAHl5SUxMTEnD9/fufOneLvQ1JS0rVr16KiokjUHnUuaQsEgsTExP379y9ZsmT58uU+Pj6PHj2qi3x1dfXVq1fHjx9vb29/9OjRioqKvLy8xYsXa2lpycrKMplMFRWVNm3aLFy4kCTgk42EQuHHjx+nTp3q5ORE3ofs7Oy///57xYoVS5Ys8fb2vnHjhshvjUzn8/mRkZEuLi6DBg3y8vKq9RJPMrjJGyD8NfkRgAFAAAgAASAABIAAEAACQAAIAIGfSeD69eva2tp9+vRJSkpqyLrV1dW///67kpLS5cuXGzIexvw6AiLCH95IIBBUV1eTLEXx3dlsdj1P8fjS0tJnz55RhYzy8nKq6kddtoFxbQKBoKSk5DuufqPu1ThtrNQcOHAAl7VtnE0lYRcej+ft7a2iojJ06ND09PTvMCkvL2/KlCk4gE5GRqZnz5579uyJjY3N/PpJS0u7f//+xo0bhw8frqOjg9Pz58+fX5de/B0G1D+lsrKyrKyMjKmsrIyMjDz79RMaGvr+/ft6bggtKyv7kRsqORxOcXFxo3lKfPzWBgh/30oMxgMBIAAEgAAQAAJAAAgAASAABCSaAJ/PP3LkiKKi4vDhwz9//twQW+/du6eqqtq7d++MjIyGjIcxv4gAFv4UFBTwFX6/aBdYtkURyMvLe/DgAcnp/g7f09LSpk+fjmtD43K62trahl8/+vr6+PJEklqrqKi4f//+79gFpvwiAiD8/SKwsCwQAAJAAAgAASAABIAAEAACQKDJCHA4nC1btuDCC7Ve3SViWUVFxcSJExFCGzdulPwAFhHjm9PXU6dOMZlMJSWlb6rQ0pwIgC+SSaCoqOjo0aM9evTAMX1E5iMNdXV1c3PzqVOnBv4/9s47rOmki/cTEkJHehcQCyv2hghiAbGiqNgXFRtrQ0UFUbCsYGNVsBesrIrKiqhg74srWFCRJgKCtEdd/xMAACAASURBVNA76cl9rvPcuXkTmjRBT/5wJ7/MnDnzmQnPk++eMyc4uLZb/Nrm0n56r0D4++m3GBYIBIAAEAACQAAIAAEgAASAwK9IoKqqysPDg06n//HHH6KpcLWxuHHjhqKioqGhYVRUVG194HlLE7h06ZKsrKyCgsKNGzdaei6wDwS+l8DXr1/PnTvn4uIyYsSIHj16DBgwYMSIEc7Ozn/99dfz589zcnKYTOb32oT+LU0AhL+WJgz2gQAQAAJAAAgAASAABIAAEAACP4ZASUmJk5MTlUrduHFjdXV13U6UlZU5ODgghH7//ffabtOv2wJ82nQCN2/eVFBQkJGRCQoKaro1sAAEWoIAl8stKSlhMBgFBQUlJSViRW9bYkaw2RQCIPw1hR6MBQJAAAgAASAABIAAEAACQAAItGkCX758GTlypIyMzJ49e+r9fR4WFqaoqKikpBQaGtqmV/XzOvfvv/+qqanhnOsGVtj4eWHAyoAAEGgGAiD8NQNEMAEEgAAQAAJAAAgAASAABIAAEGizBGJjY/v27augoHDixIm6nSRBfzY2Nnl5eXV3hk9bgkBiYmLXrl0RQlOnToWL0lqCMNgEAr8aARD+frUdh/UCASAABIAAEAACQAAIAAEg8MsRePjwoa6ubocOHeqtFRsWFqakpESj0fz9/X85TG1gwYWFhTY2NgihTp06vX//vg14BC4AASDQvgmA8Ne+9w+8BwJAAAgAASAABIAAEAACQAAINITA5cuXO3TooK2tHR4eXkd/EvRnZmaWmJhYR0/4qCUIcLlcV1dXhBCVSt21axdUWG4JyGATCPxSBED4+6W2GxYLBIAAEAACQAAIAAEgAASAwC9KQCAQHDt2TEFBwcTE5MmTJ3VQuH79upKSEkJo/fr1XC63jp7wUUsQCA0Nxfz79OmTnJzcElOATSAABH4dAiD8/Tp7DSsFAkAACAABIAAEgAAQAAJA4JcmwOFwdu/eLSMj07Nnz6ioqNpYlJaW2tvbI4R0dXWfPXtWWzd43kIEGAyGnZ0dQkhDQ6OObWqh2cEsEAACPxkBEP5+sg2F5QABIAAEgAAQAAJAAAgAASAABGolUF1d7enpSaVSBw0a9OHDh9r6hYSEKCoqIoRmzpwJJSZqo9Ryz589ezZ8+HAvL68mwi8tLc3OzubxeC3nKlgGAkCgjRMA4a+NbxC4BwSAABAAAkAACAABIAAEgAAQECeQl5d3+PDhe/fulZaWin9W3/vy8vKlS5cihIYPH15bJmlJScm4ceMQQkpKSteuXavPJHzezAQEAkFxcTGLxWqKXTab7e7ubmZmdvXq1abYgbFAAAi0awIg/LXr7QPngQAQAAJAAAgAASAABIAAEPgVCXz+/NnExERRUXHUqFGHDh1KTk7+rqiu4uLimTNnIoRGjx6dnp5eI8HLly/Ly8sjhGxtbfPz82vsAw/bMoHKysqJEycihJycnJqoIbblZYJvQAAI1E0AhL+6+cCnQAAIAAEgAASAABAAAkAACACBNkegqKho1KhRNBoNfXt16dJl2bJl9+7dKykpaaCv2dnZY8eORQjZ29vn5ORIjiouLh49ejRCiE6nHz58WLIDPGnjBCorKx0cHBBCkydPrqysbOPegntAAAi0EAEQ/loILJgFAkAACAABIAAEgAAQAAJAAAi0FAGBQPDly5eLFy8uWrTIzMxMVlYWIaSoqGhjYxMQEJCUlNSQarxJSUlWVlYIoalTp9YY0xccHIyD/nr37v358+eWWgzYbRkCRPgbO3ZsI1LCW8YpsAoE2goBHo/38OHDwMDAjIyMtuJTy/gBwl/LcAWrQAAIAAEgAASAABAAAkAACACBlifA4XAyMjKuX7++atWq3r17y8jIIIQ6deq0ZMmSiIiIoqKiul14/fp17969cRGPwsJCsc4k6I9CoWzZskUgEIh1gLdtmUBlZeWkSZNwsna9J6EtLwR8AwItQSA9PX3gwIEIodmzZ//cyjgIfy1xfsAmEAACQAAIAAEgAASAABAAAkCgVQnweLzMzMzQ0NClS5d2796dTqcrKCgMGzbMz88vPj6ezWbX5s2TJ086d+6Mb4KTlIdI0F/nzp1jY2NrMwLP2yCBkpKSMWPGgPDXBremXbjEZDJfvnyZlpbWLrxthJPPnz9XVVVFCHXt2jUpKakRFtrLEBD+2stOgZ9AAAgAASAABIAAEAACQAAIAIH6CXC53PT09CtXrixYsMDExIROp3fs2HH+/Pnh4eFlZWU1jr9165a2tjZCyNnZubi4WLRPcXGxnZ2dtLS0oqKim5tbQzKIRYdD+wcSKCoqsrW1BeHvB25Bu546JCRET0/P2tr606dP7XohtTl/6dIlOTk5hFC3bt1A+KuNEjwHAkAACAABIAAEgAAQAAJAAAgAgTZKgMPhfP78+eTJk5MmTVJXV1dSUho7duzZs2fT09Mlk3avXLmipqaGEFqyZIlYhZCLFy8aGBjY2toaGhr+999/rbNaPp9fUFAQHx//6NGjiIiIyMhIBoPROlM3ZJaysrKLFy9u2LDh5cuXDen/Q/oUFBSMGDECITRu3LifO5OxbrwVFRUMBiPz2ysvL6+O6Ne67dT4aXV1dWho6MGDB79+/Vpjh3b6kMlkOjk5IYSkpaWPHTvWTldRt9s7duyQkpJCCHXu3DkhIaHuzu36U4j4a9fbB84DASAABIAAEAACQAAIAAEgAATqIVBVVfXmzZstW7b06NFDVla2e/fuGzZsiIyMrKioEB157tw5FRUVCoWybNkyUZ0IB46NGjXK1NTU2dmZyWSKjmreNp/Pz8zM/Oeff1xdXc3NzXV0dDp06KCkpKSqqjp06NAXL14073SNtnb69GlFRUWE0L59+xptpKUHZmdnm5ubI4QcHBx+waq+XC73/fv3vr6+EyZM6Nmzp8G3V+/evRcsWHD37t0GHuP8/PwTJ074+PikpKTUuF9XrlxRV1dHCHl4ePxM8bAkXJRGo/n7+9e49nb9kM1mL1iwAFdFV1dXb8sKftM5g/DXdIZgAQgAASAABIAAEAACQAAIAAEg0A4IfP369dChQwMHDqTRaCoqKpMmTTp37tyXL19wAKBAIDh27JiSkhKFQnFxcRGN+zt79qyRkdH48eO1tbXv37/fEksVCATx8fFeXl49e/bE+Xf4N7novwsXLmzecK3GLYTNZi9atAghJC8vf+3atcYZaYVR2dnZgwYNQghNnz69urq6FWZsO1MwGIzNmzcbGRmJnh/SVldXX716dVZWVt0OZ2VlzZs3j0ajUanUs2fPSnbm8XgrV67EZu3t7cWUdMn+7ehJTk7OkCFDEEKqqqoPHjxoR5430NX8/Pxhw4bhvVNWVr57924DB7bHbiD8tcddA5+BABAAAkAACAABIAAEgAAQAAKNJJCXl3fmzJmRI0fKyMhQqVQzMzNPT88XL15UVVUJBIKAgAAFBQWE0IIFC0itj7y8PGtr68GDBxsaGs6ePbvZVaTs7Oxdu3aZmpoSaUZeXl5HRwdHaeno6NBoNOwSh8MRCoVFRUVv3769fPnyjh07Nm3a9OrVq0ayaNQwPp/v7u6OEDI0NHz//n2jbLTGoLS0NFyyee7cuW1BMG2NNX+bIyMjY86cOVQqlRwnZWVlDQ2NDh06kCdSUlKLFy8WjWwVcy8rK8vJyQmnglpaWiYmJop1EAqFZWVl9vb2CCEqlerj48Pj8ST7tM0nbDb777//9vT0rK1iT1xcnLGxMULI0tIyJyenba6iKV59/PiR6MIg/DWFJIwFAkAACAABIAAEgAAQAAJAAAgAgbZIoLi4OCQkxMHBQUlJCSGkrq4+derUS5cupaam7tixA2t/Tk5OhYWF2PsTJ07o6OgMHTpUW1v78ePHzbUkNpt969atYcOGEZnG2Nh42bJloaGhiYmJmZmZWVlZiYmJx44d8/DwiImJycjICAgIsLa21tTUlJGRwTrOtm3bJG8tbC4PJe1UVlY6OjoihOzs7Ig2Ktnthz9JTk7u3r07QsjFxaUdaVJN5FZRUfHHH39QKBR8Nrp06bJly5a7d+++fv360aNHa9as0dPTwx8pKSmFhobWOB2DwZg7dy5W/Xr16lXb1ZaJiYndunVDCHXv3r19XRL35s0bQ0NDhNDIkSMzMzMlIbx48QJXvF22bBlW2yX7tOsnT58+VVFRwSdBVVU1MjKyXS+nbuch4q9uPvApEAACQAAIAAEgAASAABAAAkDgpyVQUVFx9+7duXPnamlpIYTodPqAAQM2bNgwefJkOp2OEJo5c2Z+fr5QKMzJybG0tBwwYICent78+fMbeEVaveDOnz+vqalJfn6vXLny3bt3Nd6VxmQyr169am5uTiRCRUVFOzu77du3Jycn1ztRM3Z4/fo1jhXy9PTk8/nNaLl5TRHhz93dvS372byrjouLI5FcJiYmYpnpPB4vPDzcxMQEH7k1a9ZISqIsFsvLywsHmXbp0qWOJNDg4GCclu7m5ta+1LF79+5hxb+2YLfLly/LycnRaLQjR4407wa1EWvh4eH4mk4cuvvx48c24lhLuAHCX0tQBZtAAAgAASAABIAAEAACQAAIAIF2Q4DFYkVFRbm5uXXq1AkLIhoaGuRXsYODQ3p6ulAoPHbsmK6urqWlpZ6e3r///tv05bFYrDlz5uAZ5eXlAwICalNPUlJSXF1dSYSOpqamk5PTjRs3iouLm+7Gd1ng8XgbN25ECCkpKYWFhX3X2FbuTIQ/X1/f1oyIbOVlik335csXnOCMEHJ3d5fU9Xg83urVq/GpmzZtmmTe+vXr17EYraWlFRwcLGafvGWz2S4uLgihDh06REREkOftovHo0SOc+Fxj0V4+n48PuYKCwo0bN5q4opKSkqqqqiYaafbhISEh8vLy+Bj069cvIyOj2adoOwZB+Gs7ewGeAAEgAASAABAAAkAACAABIAAEfhgBHo8XFxe3ZcsWnL2IfxLjf0eNGpWQkJCXl2dlZdWvXz9VVdU//vijNpGu4QvgcrlEgpGVlf3rr78kY/04HE5ISAguUoHlNicnp2fPnjVXyGHDvcU9MzMzcancPn36pKWlfe/w1uyfkJBgYmIiJSUVEBDQmvP+2Lk4HI6vr6+6urq2tvb169clnREIBF5eXvhgT5kyRUyTys7OHjFiBEKIRqNt3ry5jkOekpLSq1cvhNCgQYNqzJaVnLrtPCGxilgeFQsILS8vnzhxIkLIyMioKbdY8ni80NDQESNGuLi45Obm1r38zMzMO3fuJCQktI5IfeHCBVlZWfL3rfX/F0LdNJr3UxD+mpcnWAMCQAAIAAEgAASAABAAAkAACLRjAgKBICEhwcvLq3PnzqLan7m5+d27dwMCApSVlWVkZDp27Pj27dumrzMmJmbgwIF4InV19a1bt4pqKKWlpT4+Purq6rjDoEGDLl++LKbUNN2H77Lw7NkzNTU1hNCyZctas2IGj8dLSEh4/PhxHQIKm83Ozc0tLCzE0smbN280NDSkpaVPnTr1XWts752rqqoiIyMfPnxYVlYmuZaqqqoZM2bgE7VgwQIxae/vv//GgWDW1tZ1R4EFBwfjnitWrBAzIjlpm3pCAvowBCcnJxaLJerh58+f8e2Q48aNE63uLdpHKBQymcyPHz9evXr15MmTly5d+vDhg5gcn5ycbGZmhhCSlZU9f/682HDRt2VlZc7OzvLy8vViFx3VlHZQUBAR/lxcXFrzu9wUtxs3FoS/xnGDUUAACAABIAAEgAAQAAJAAAgAgZ+WAJ/P//jxo7u7O7kuDSGkoaExevRociWfh4eHWKBQ43BERkYS7Y9KpQ4ePPj48eN5eXmpqakLFy7EFTxkZWUXLVrUynf51bic/fv3U6lURUXFa9eu1dihIQ9ZLFZWVlZCQsLHjx9TU1Ozs7MlE07F7Lx69apXr15KSkrjx4/PysoS+1QoFObl5a1du9bU1NTCwgJnnuL6DDIyMpcuXZLsT56UlJSkpaXFxsYmJiamp6cXFBRIpseSzj9Bg6hRUlJSO3bsEF0Rn893c3PDctisWbPq0LzYbPbChQsRQoqKirVVCBG13KbaZWVlEyZMwMtECNnb25eXl4t6GBERgW8A3LJlS43xd3w+/7///ps/f76+vj6+ClBGRkZPT2/RokXx8fHE1OvXr7FKTqFQ/vzzzxpN4c63b9/GPY2NjUUt4E+bfkQl/1IdPXpUWloa72BISAjxWaxRVVWVkZER9+2VlpaWm5vbHiVCEP7EthXeAgEgAASAABAAAkAACAABIAAEgMD/JcDn82NiYlxdXXV1dYlMgEudIoQ6d+4s+RO9ceBiY2Nnz55NrvCTkZEZMWKEhYUFrs2qpqa2a9euGqO3Gjddo0eVlpba29vj7M6vX782wo5AIHj58uXChQu7du2qra2tpaWlq6vbuXPnOXPmJCYm1mHw9OnTWKcwMzP7/PmzZE9cjQFv09KlSwUCwYMHD5SVleXl5Wu7i7C8vDwwMNDGxkZfX19LS0tHR0dfX79///779u0TCwGTnK79Pjl//jyuyKGoqChGhs/nu7q6Yoby8vK///77rVu3YmNjU1JSvnz5kpqampCQ8O+//4aEhGzatElHRwdf8NfuhL+YmBhjY2Pyjba2ts7LyxPdUF9fXwqFoqSkFB4eLvoct1ks1vHjx0UtEFMIoeHDhxOB/suXL/3798efLl68uLa4SCaTiVVUhJCzs3NlZSWZtIlHlMPhvHr1as+ePStWrFi3bl1gYGB2djY2fvjwYVy/ZciQIeQhmVcoFHK53Nu3b0+bNs3Y2Fj720tXV9fU1NTV1bWOqFtRC22nDcJf29kL8AQIAAEgAASAABAAAkAACAABINDmCHC53KioqPnz55NyH+R3fo3FExq3gIqKivv378+ZM4fcuI9nUVNTO3HihOTdf42bpYmjIiMjsdzj4eHRiLA4Lpd74cKFLl26EIC4Qf32WrhwYUpKSm0eYi2GRqPt3r1bcmoul0tC1WRkZI4dOyYUCm/evKmgoKCoqHjnzh1Js9nZ2UuXLsUSmKg/UlJSurq6586dq6iokBzV3p+UlZVNmTIFr7fGWxpPnTqFg0xxH0VFRSzO6n17aWtrq6qqikEbP358QUFBOyJz8OBBLCLjNfbo0SM1NZX4T9TtGiVmDofj7++PC4MghPT09JycnFatWmVhYYEzZykUytatW3GEnUAgOHjwIOY5bty40tJSMotoIyoqytDQEFt7/Pgx+aiJRzQvL2/jxo16enrkeFOp1LFjxyYlJQmFwr179+L64K6urpJ/XiorK//66y/8ZSfDEUJUKlVGRsbLy6t9aX8g/JFDBQ0gAASAABAAAkAACAABIAAEgAAQqJkAk8k8deqUhoYG+RncoUOHP//8U1KEqnl8w55WVFR4e3uLqhIdOnTw8/OrI+myYYaboRep56uurv7w4cPvtchisQICAnCitLS0dL9+/RYvXrxp06bdu3cHBATggipWVlZYlRAzzuFwcEiUlpbWy5cvxT4VCoW5ublWVlZ4a6ytrXE04uXLl2VlZTt06PDkyROxISkpKY6Ojjh4U11dfezYsW5ublu2bDl48KCrqyudTldQUNi8eXN7zGoUW6nY29u3b5Mz7OHhIan45OXlLV++XFlZmZzzehuqqqqShMXmbTtvy8vLifSJl6aurh4ZGUk8fPXqlYGBAUJo6tSpkuLv5cuXtbS0EEJSUlJjx459/vw5PiR5eXnkmztu3DgSn5uVlYVPZs+ePWvUtaurq5cuXYoQolAobm5uJNS0iUe0sLBw8eLFWNrDxsk+btiwgcvlent74+c+Pj5iOcilpaUbNmzA/wdCXl7e0tJy+fLlXl5ee/fu9fHxUVVVpVKp06ZNEwuTJADbYAOEvza4KeASEAACQAAIAAEgAASAABAAAkCgLRK4du0ajs1BCHXt2jU9Pb15veTxeF5eXliQonx74coAEyZMENUmmnfSBlpLTU3t27cvQmjUqFGFhYUNHIW7cbncAwcO4DgpTU1NX1/frKwsojolJibixEkpKalt27ZJaqmlpaXjxo1DCPXu3fvLly+SU9+7dw8nSisoKJAqCufOnaPT6WpqamJaYUZGhoODA9ZBhgwZcufOHdEr3vbt24flEiMjo+joaMm52u+ToqKiyZMn44V369bt3bt3Na6lsrLy1q1b8+fP79q1q67ES09PT1VVFSehY1NdunT5+PFjjaba4MP379/jw9atWzdTU1OEEJ1OP378OHF1z549VCpVSkpq9+7d5CFuJCYm9uvXD5c8njt3rliG7LFjx3DQn52dHVHqSQ1lFRWVGuXy8PBwrCT26dOHXB3QxCPK5XK3b99Op9OxQGllZbVv376AgAA3NzcbGxtvb++MjAwbGxss/Hl7e4veAFhRUeHh4YGjFE1MTAIDA/Pz80mHhw8fYlFYTk7u7NmzYnza7FsQ/trs1oBjQAAIAAEgAASAABAAAkAACACBNkfg4cOHvXv3RghZW1sXFxc3r39RUVGdOnXChUQ2bdq0Y8cOXBUUIWRqanrv3r3mne67rJ08eVJGRqZGQaReO/fv39fX18dXwh09epRIfnjgrVu3SBr1b7/9Jqki5eTkWFhY4LsFxdQWoVDIZrNXrVqFRSgHB4eioiJs9siRI1QqVUND482bN8TD6upqNzc3LK1aWFjExsaSj4RCIYvFmjdvHjaFEFq1alX7DforLy/Pzs7+8uVLyrdXWlra7t27cZYunU7ftWuXWJyXKAdMNTMzE48V/TctLe3UqVN4v+Tk5Pr373/8+PHabq8Ts9kW3h47dkxaWppOpx89enT37t1Y5J09ezYuL5OTk2NtbY0Q0tHRefHihajDHA7H09MTnxx5eXknJ6dz5859+PAhNTU1JiZmy5Yt+IQjhFxdXUWBhIWFKSoqUqlUf39/UYNCoTA9PX348OEIIXl5+ZMnT+JPm35EX79+jcVNOp2+bNky0es4y8rKKisrAwMDyZUC48aNE/07dubMGQUFBYSQoaHhjRs3xBw+fPgwiUceOXJke0n4BeFPbB/hLRAAAkAACAABIAAEgAAQAAJAAAjUReDNmzfDhw83MDD4999/6+r3nZ9VVVUtWbIEB+ngdDyhUPju3TtHR0f8Y3vYsGGZmZnfabV5uhcUFIwePRpfQyYWQFfvBBUVFTNnzkQISUtLb9iwgclkig5hsVgrVqwgWhuFQtmwYYOobiIUCtPS0nr16oUQMjc3lxT+Xrx4gYsva2pq4nq+2P7hw4epVKquru779+/JjJGRkbhUi4mJieh9arjDhw8fcNIx9sfAwOD58+dkbHtp5OfnHzp0aMyYMcbGxnp6erq6uviGPqL1aGtrX7hwgUSlfe+6QkNDsTa0cOFCBoMhGaH5vQZbrT/J8+3atWtSUlJkZCTOPe/SpQuOtjt27BjWRidPnkzSdbF7MTExJiYm+OuJAx6lpaW1tLT09PQ0NDSwIIgQ6tSpk5hi+PnzZyzfT5gwQZR5eXm5q6srVh7nz59PbgBs4hEVCAQ+Pj7Yw7lz50oG56amppqbm5NvnL6+/uvXr/Eas7KyLC0tcanfI0eOkEA//GlRUZFoNWQ5OTl8mWarbV+jJwLhr9HoYCAQAAJAAAgAASAABIAAEAACQOAXJYDjntLS0ppx/S9fvsRBQ506dRJNw2QwGL///jtCSE5O7uLFi804Y8NNPX78WE1NDSE0YMCArKyshg8UCoWJiYm4oMeIESMkZbu7d++KFk1GCBkZGYlpi5mZmQMGDEAI9ezZU4x5VlYWubJt8eLFVVVVxDcs/GlqaopG/AUEBFCpVGlp6b1794qFvFVXV7u6uoomsSKE5s2bJ3nRG5miDTa+fv3q5OSEC7YScUesISUlpaqqamNjc+HChUas7siRIzQaTVpa+sSJE22QQB0uka+Yo6NjVVVVfn4+DriTlpb28/OLi4vDRXhlZGQCAwNF7Yiqafb29mvXrsWKoRhYQ0PD8+fPiymh1dXVc+bMQQhpamqSbF8+n3/48GEsxfbu3fvDhw9kuiYe0aqqKkdHR4SQrq6u5P0A1dXVa9aswWqjjIwMhUKRlpYmmc6PHj3CKfPz5s0TzX/Hvp06dQoLvmTVgwYNEq2LQpbQ1hog/LW1HQF/gAAQAAJAAAgAASAABIAAEAACvyKBEydO4Mi+0aNHi0YGYdGBSqVSKBRfX98fgubMmTP42i9zc3MGg/FdPjx//lxVVRUhtGDBArEk33fv3uEcXgqF0rNnT1J3wtnZWVR3KC0tHTt2LM6IPHDgADHCYDAWLFiAVQxdXV2x6Dws/HXo0OHp06fYYT6fv3r1aoSQkpLS3bt3RVfB4XAOHz6MbyFUVlbu27cv1s5UVVX/+ecf0Z5tuc1kMl1dXUn0mZaWlo2NjaOjI46IJHoNaSgoKCxYsCAhIeG7FoUrLMvJyQUHB3/XwB/eGUuWVCp1//79QqGQz+d7eXlhGnp6elZWVnjTe/fuLVaIo6SkZMyYMQghLS2thw8fcrncBw8eODk5GRkZqaura2homJqaOjs7P3v2TCxKDi/53LlzOJBw5syZ+fn5uOQ0vi1US0vr6tWrhEzTj2hxcfGoUaMQQpaWlmJfVQ6Hc+jQIXxJn6mp6Z49e3BG8KxZs7BiHhwcLCsrKyUl5efnR1zCjQcPHnTt2hVfidi3b1+sANJotC1btojF54oNbAtvQfhrC7sAPgABIAAEgAAQAAJAAAgAASAABH51Avv378calp2dHbmorry8/PTp0x07dkQIycjInDp16odgOnToENZEDAwMLl++LJYFiV3icrnV1dVlZWUMBiMzMxNfmiYUCqOjo7W1tXG83tu3b3Hn4uLia9eukZTD/v37R0dH79+/X0lJCcc2enp6Egh8Pn/79u04Fk9TU3Pjxo1v3759+vSppMfmiwAAIABJREFUo6MjCW2bOHGimFdY+FNQUCBXlQkEgo0bN+KaBq6urjjYjcvlfv782cvLC4c0SktLu7u7x8bG2tvbY0nIzMwsIiKiRkHnh+xFHZPGx8fjdFSE0NChQ//777+SkpKQkBB8cSRCSFlZ2cDAQFtbG8u4eIH9+/e/deuWWJxabbOQ2Dd5efmQkJDaurXB52w2e/Hixfj2OhIE+uTJE8nYvbVr1xJxGS8kJSWlR48eCCErKytSzZbJZKakpERFRcXExGRlZdVxHWR2djYOLZSRkZk0aZKbmxuOgaXT6T4+PqLCWdOPaFFRka2tLUJo2LBhBQUFZCMqKyv9/f3xYlVUVIKCgiorK2fNmoUQMjY2xkBIEretrS2uXCQQCBgMRmBgIEmBt7e3j4uLW7duHS4eoqGhERAQQL7sZLo21QDhr01tBzgDBIAAEAACQAAIAAEgAASAABD4RQlcvXoVp/4pKyvPnTt369atmzZtsre3J4UvbG1tRe/pb01M58+fJ1KRiorK6NGj16xZs2XLlm3btm3dutXb29vNzW3JkiXTp0+3s7Pr0aOHsbHx3LlzX7x4IRAIiouL8dVgFApl4MCB69evd3Nzs7W1xZFHCKG+ffvi2xKrq6u9vLywoECn0+fPn09q+MbGxv72229YqJKSktLQ0MA5ifgJjUaTrJxAMlJJJqNQKLx37566ujpCSEFBYcaMGRs3bly4cGH37t1xlBydTl+5ciW+Fi0uLg5HIyKEOnbsGBgYWIey05p7UcdcUVFRWL5ECJmZmW3atGnlypUk3E9RUfHYsWPZ2dkJCQlBQUFTp07FMiteYANVPD6f7+HhgRCiUqmSdW/r8O2Hf1RYWDhixAhclgeH3QmFwoqKCicnJ3yK8L/q6uokIZf4/P79ez09PUw1OTmZPG94IygoiHyR8UQUCsXZ2VnyDr6mHFEOh1NeXo7DY9XV1Q8dOsRgMMrKyt69e7dkyRISpufu7o6luqCgIDk5OQqF8ueffwqFwtTUVJzsTKPRbG1tN2zYsHLlSgsLCxyuiBCys7PD8aGFhYXOzs5Yi1dQUPDw8JBcSMPhtHRPEP5amjDYBwJAAAgAASAABIAAEAACQAAIAIH6CaSlpQ0cOFBUgxBtW1tbkzCl+m01d4/4+Hgc8STqUr1tIyOjCxcuCIXCsLAwLLeJDZGSkho5cmR0dDTxt6ioaOHChViGo1AoI0eOvHnzJpvN5vP5J0+exCnDYkYQQgYGBq9evSJGcOOff/7BQurixYuJZldRUYErqEgaUVFR8fLyEq1w+uTJE1NTU9xTRUXFzc0tKSlJbJY29bagoGDmzJli1xRi/+Xl5bds2VJZWUkcrqiouHz5cp8+fXCH0aNHkxBL0keyIRAINm3ahIfMnj1brFSLZP+28yQqKgpn144aNUp0l58+fWpgYIBXhBCaM2eOWOioUCj88uULruUtIyNz4MCBRiyqrKzMxcWFZGEjhMaNGyd2YSU228Qj+vHjx2XLlpFN79+/v62tLVmgjIyMq6sriQTMysoaOnQoLpuDQ/wOHTokKytLaJAGnU6fNWuWqOiZlpaGC/7g/N/p06c/f/68bQbGgvDXiBMLQ4AAEAACQAAIAAEgAASAABAAAkCgmQkIBIJ//vmHpNThn9zS0tLGxsarV6/+/PlzM8/3PeYEAsH169d79uxZo6hE1AHJxsyZM5lMJovF2rNnj46ODulAoVA6duy4YcMGyRjGzMzMuXPn4usOEUIjR47EyZUsFuvSpUs4/khaWlpFRUVJSQn7Y29vT4qikmUlJCTgW8m6dOkiWjzh06dPkyZNElU35OTkLC0tr169ymKxyHDcCA8P7969O3ZbSkoK3w0n1qdNvc3IyFiyZIloOCRCSEVFZevWraKVT4jPr169GjJkCEJo0KBBOTk55Hkdjfv37+vp6VEolG3btjUwQbgOa632EUmlnzx5sqgAyuVy9+7di+NP+/XrV6O8zmQy//jjD3wMTE1Nxer2NnAJ+GArKSkpKys7OzuLXSMoaqQpR9Tf3//OnTtiBXOw5xoaGr6+vmKy5oULF5SVleXk5K5duyYUCouLi93c3ETPD41GMzU13bt3r6QuHBsba2trS/4mODk51XjGRJf2Q9og/P0Q7DApEAACQAAIAAEgAASAABAAAkAACIgT4PP5sbGxBw8e3LRpk6enp5eX1+nTpxMSEkRvARMf01rvBQJBYmLioUOHVq9e7eTkNGXKlNGjR1tYWNjZ2U2ZMmX69OkuLi7rv70WLVo0YcKEvn37du3aNSgoCDvI4XBevHjh6+vr6urq4eFx8ODB9+/f17auwsLCw4cP29nZTZs2LTw8XFRdyszMDAkJOXv27JMnT9zd3anfXn/99ZckBi6Xu3PnTm1tbSMjozt37oh2KCgouHTpkru7++rVq729vUNCQnJzc0U7iLbfvn27fPny4cOHe3h41BiiJdq5LbQrKysfPny4Y8cOz2+v7du337lzp45b2N6+fevs7Lxv3z5J3bPG5bDZ7Bs3bhw5ckSsdkSNndvOQz8/Pxxwt2LFCrEr/KqqqsLCwnbv3h0TE1Obwy9evMClMHBt6wcPHogeSzKKxWIlJydfv359//79Fy9eFIuILCgouHPnTkREhKROTSzgRlOOKJfLPXPmTLdu3WRlZWk0moKCgpaW1oQJEyIiIiS/cdXV1Tt37jQ3N8fp9kKhsKqq6t69e5s3b3Z1dfX09Dx16lRycnJtoXwZGRk+Pj4jRoyYP39+4/RQsYW3xFsQ/lqCKtgEAkAACAABIAAEgAAQAAJAAAgAgZ+TgEAgYLFYVVVVZWVlhYWFZWVlVVVV1dXVREzhcrkVFRX5+fk5OTmSQoNAIGggF2y5ts5cLnfRokUIISMjI1IzRKxzVVXVx2+v2mSvBjrD4XBKSkpqFHrEZmynb1ksFtm+drqEet1++PChoaFhp06dIiIi6u0s2YHH4/n7++Nr8hBC+vr6q1evfvToUXp6elZW1tevX1+/fn3kyJE5c+aYmJjgHPMBAwY0MIhScjrypHFHlM/nJyUlXbly5dSpU9evX4+JiREL9CP2hUIhh8NhMBiSB6CBUwsEgtLS0gaqxqLztlobhL9WQw0TAQEgAASAABAAAkAACAABIAAEgAAQaB4CKSkpvXr1QghNnz5dNHOzeayDlZ+OAIvF+u+//2JiYiTF6Aautaqqys/PT0tLi2Ssd+jQQV9f38DAQF9fX0NDA1flJp/OmjWrpKSkgcahW8sRAOGv5diCZSAABIAAEAACQAAIAAEgAASAABAAAi1C4MKFC3JycnQ6/fTp0y0yARgFAhIEOBzOgwcPHBwcOnToQAQ+0Ya8vLyxsfGYMWP27NmTkZEhYQAe/AACIPz9AOgwJRAAAkAACAABIAAEgAAQAAJAAAgAgUYTqKysnD17NkLot99+S0xMbLQdGAgEGkGgrKzs7t27Hh4eEyZM6NevX58+fSwtLadNm+bt7R0WFpaamlpeXt4IszCkhQiA8NdCYMEsEAACQAAIAAEgAASAABAAAkAACACBFiEQHR1tYGCAEFqyZElbvlysRRYPRtsMAXyXZX5+flFRUW33SLYZZ39dR0D4+3X3HlYOBIAAEAACQAAIAAEgAASAABAAAu2OgEAg8PHxoVAoioqK165da3f+g8NAAAi0JgEQ/lqTNswFBIAAEAACQAAIAAEgAASAABAAAkCgSQRyc3Otra0RQhYWFpmZmU2yBYOBABD42QmA8Pez7zCsDwgAASAABIAAEAACQAAIAAEgAAR+IgI3b95UVlamUCjbtm3j8/k/0cpgKUAACDQ/ARD+mp8pWAQCQAAIAAEgAASAABAAAkAACAABINASBNhs9vLlyxFCOjo6L168aIkpwCYQAAI/EwEQ/n6m3YS1AAEgAASAABAAAkAACAABIAAEgMDPTCAxMbF79+4IoSFDhuTm5v7MS4W1AQEg0BwEQPhrDopgAwgAASAABIAAEAACQAAIAAEgAASAQMsTOH78OJ1ORwjZ29uXl5e3/IQwAxAAAu2bAAh/7Xv/wHsgAASAABAAAkAACAABIAAEgAAQ+EUI8Pn8devWoW+vefPmsdnsX2ThsEwgAAQaTQCEv0ajg4FAAAgAASAABIAAEAACQAAIAAEgAARalcDRo0epVCpCyMvLSyAQtOrcMBkQAALtkAAIf+1w08BlIAAEgAAQAAJAAAgAASAABIAAEPglCcTHx48ePdrOzg4qe/yS+w+LBgLfTQCEv+9GBgOAABAAAkAACAABIAAEgAAQAAJAAAj8EAICgaC4uLi0tBTC/X4If5gUCLQ7AiD8tbstA4eBABAAAkAACAABIAAEgAAQAAJAAAgAASAABIBA/QRA+KufEfQAAkAACAABIAAEgAAQAAJAAAgAASAABIAAEAAC7Y4ACH/tbsvAYSAABIAAEAACQAAIAAEgAASAABAAAkAACAABIFA/ARD+6mcEPYAAEAACQAAIAAEgAASAABAAAkAACAABIAAEgEC7IwDCX7vbMnAYCAABIAAEgAAQAAJAAAgAASAABIAAEAACQAAI1E8AhL/6GUEPIAAEgAAQAAJAAAgAASAABIAAEAACQAAIAAEg0O4IgPDX7rYMHAYCQAAIAAEgAASAABAAAkAACAABICBOgMfjPXz4MDAwMCMjQ/wzeA8EgMCvSgCEv19152HdQAAIAAEgAASAABAAAkAACAABIPATEUhPTx84cCBCaPbs2aWlpT/RymApQAAINJ4ACH+NZwcjgQAQAAJAAAgAASAABIAAEAACQAAItBECz58/V1VVRQh17do1KSmpjXgFbvyUBPLy8iIjI0tKSn7K1f1kiwLh7yfbUFgOEAACQAAIAAEgAASAABAAAkAACPyKBC5duiQnJ4cQ6tatGwh/v+IJaK01M5lMNzc3VVXVtWvXVlVVtda0ME8jCYDw10hwMAwIAAEgAASAABAAAkAACAABIAAEmp0An88vLS3NycnJzMzMysoqKiri8/nNPktTDDKZzFu3bnl4eISHhwsEgqaYat6xO3bskJKSQgh17tw5ISGheY3/ZNZYLFZBQUFWVlZmZmZOTk5FRUXjFlhZWZmXl4ftMBgMFovVODvta1RSUlK3bt0QQh07dnz37l27cJ7L5TIYjNzcXC6XW7fDPB4vPz+/dZLleTzeu3fvYmJi6vWqbp/r/hSEv7r5wKdAAAgAASAABIAAEAACQAAIAAEg0BoEqqqqHj16tG7dOhsbm27duunr63fs2NHCwsLd3T0mJqbtyH/379/X0dFBCC1ZsqRFf65/F3Q2m71gwQL07aWurv7y5cvvGv7rdM7MzDxz5szvv/8+cOBAQ0NDfX39rl272tvbnzhxIj8/v4Ec+Hx+fHy8n5/fpEmTevfu3bFjRwMDgx49ejg5Od24caOysrKBdtppt2fPnqmoqCCEtLW1o6Oj28UqHj9+3Lt3bzMzs/Dw8DocFggEFy9e7NOnz5gxY54/f15Hz2b5iMFg4D93LToXCH/NsllgBAgAASAABIAAEAACQAAIAAEgAAQaTyAuLm7evHn4ijqsXon+a2Ji4u/v30b0lN27d1MoFCqVum/fvoYsuLy8PDMzs7q6uiGdG90nPz9/2LBhGJqysvLdu3cbbepnHchmsy9dumRubk6n00VPF27T6fTRo0dHRkbWu/zi4uKdO3d27tyZQqFI2lFWVl68eHFqamq9dtpvh4iICCUlJYTQsGHD8vLy2sVC/v77b7zv06dPryPA89OnT3379sXbOmXKlPLy8hZdXXZ2Ni7I4+np2XL/bwOEvxbdRDAOBIAAEAACQAAIAAEgAASAABAAAvUQePny5aBBg4iGQqVSVVRUNDQ0FBQUyEN5eXl/f38ej1ePrZb/+MSJE9LS0kpKSrdv3653tpSUFEdHR0NDw/Xr15eVldXbv9EdPn78aGRkhHGB8CeJkclk/vXXX6LKspycnPq3F5VKJcesb9++deeuMhgMFxcXaWlpMkRJSUlDQwNHwJGHM2bMaHj8oKS3P/YJg8Hw9fX19/cvLCys0ZMzZ87IyMgghDw8PNrCV7JGJ8UeRkZGampqIoRMTEzi4+PFPsVv8d2FOF8eIeTs7NzSen12dra5uTlCaPr06S03Fwh/NW43PAQCQAAIAAEgAASAABAAAkAACACB1iCQmppqZWWFFRMKhWJhYXHgwIGnT5++efPm+vXrM2fOVFRUxJ+amprW9ou9NRz9NgePx1u3bh1CyMzM7PPnz/XOe/jwYawjyMrK7tmzh8Ph1DukcR2ePn1KtCdVVdWGRK41bqJ2Our8+fOEj7KysrOz89WrV6Ojo6Oiovbv39+/f38i96xatYrNZte4TCaT6e7uTqPR8IE0NDTcsGFDRETE69evnz596unpSbRXOTm5s2fP1mik7T88cOAA9dtr06ZNNZ7YPXv2SElJycvLX7t2re0vB3uYlZWFJTZFRcWIiIga3b5w4QKRhkeOHBkXF1djt2Z8WFRUZGtri2MnW04pBuGvGbcMTAEBIAAEgAAQAAJAAAgAASAABIDA9xH4559/cC1ahNCIESPEytFWVlbu37+/Q4cOCCFZWdmLFy9+n/Xm7p2RkYGDE2fOnNmQeqbXr1/X0NDAOpGWllZwcHAL1QMJDw8nCqmhoeHHjx+be+nt2F51dfWMGTPwLsjKyu7YsYPJZIqu59OnT5MmTcIdBg8enJ2dLfopaaenp/fp0wd309PTCw0NFd1NgUDw+PHjHj164A7z5s1rj7U++Hy+h4cHXoKlpWVubi5ZPm6w2exFixYhhAwMDGJiYsQ+bbNvy8vL7e3tEUJ0Oj0wMFDSz0ePHuGKJfgPUWxsrGSfZn/CZDJnzZqFEPrtt9+Sk5Ob3T42CMJfC4EFs0AACAABIAAEgAAQAAJAAAgAASBQP4H79+8TXe/ChQuSA4qKimxsbBBCVCrVz89PskNrPgkMDJSVlaVSqQEBAQ2Zt7q6+sqVK3Z2dvhONGtr6xaK6wkJCZGXl8d6Tb9+/TIyMup1j8fjiepW9fZvvx04HM4ff/yB4VhYWNSo6928eRMrp3XIpgwGY+jQodjOwoULa9T1fHx8cPDg2LFjW6cybPPui0Ag2LJlC76+0MDAQDLxOS8vz9raGiE0aNCgzMzM5p295awxmcw5c+bgvXN3dxe7UO/Bgwe9evXCn44YMaJ1VD+hUMhisZycnBBCGhoaLVcmBYS/ljtXYBkIAAEgAASAABAAAkAACAABIAAE6iFQUFDg5OSkpKTUs2fPGjN5y8vLJ0yYgBCSkpLatWtXPeZa8uPy8vKpU6cihHR0dP7777+GT1VUVHTr1q0///wzMDCwjsICDTco2fPChQuysrJYuRg1alRxcbFkH6FQWFhYGBUVdezYMXd39z/++GPVqlXXr1+vLbO1Rgvt9OGDBw+6d+8uLy+/atWqGtNXHzx4gAVoPT299+/f17hMPp9/8OBBHR0dNTW1c+fO1dhn//79+NJAOzu72nahxoFt5CGbzXZ2dsYHSUlJSbJKzJs3b/T19RFCjo6OP6rejkAgqK6u/q6a2gKBYPv27VjQnDRpEvka8ni8K1eudOnSBS952LBhHz58aMa94PP5xcXFWVlZmZmZDAZD7CI/IvypqKg8ffq0tnmZTGZTNHoQ/moDC8+BABAAAkAACAABIAAEgAAQAAJAoDUIFBQUPHz4MCoqqkZFJi0tDedX0un0kydPtoZDtcyRnJxsZmaGEBo3blwLaTocDqeqqkosHKkWd/7ncVBQEBH+XFxcxLQ8JpP55s2bLVu2DBkyRF1dXbSchbGxsWRU1/+Y/vaGy+V+/vw5LCwsMDAwKCgoOjqaSCekM4/HS0hIePz4sWR+KOnDZrNzc3MLCwubImQQaw1v8Pn8+Pj427dvf/nypcZRJ0+exFVfe/XqlZaWVmMfoVDIZDKjo6Pv379fVFQk2YfNZpPQQkdHx4Ykg0sa+bFPSEAfTq6XDMK9ePGirKyslJRU3eG3xcXFL168CAoKCgwMvHnzZkZGRnPtOIvFCgwMnDJlyoEDB2r8i1EbwPDwcGVlZYRQx44dnz17JhQKy8vL9+/fr62tjVU/a2vrur8LXC63tLS0sLCwuLi4xnhPsalTUlI8PT2trKwMDQ0NDAx69Ojh6Ojo7+9PAnLrFv6YTOZ///3n7e09c+bM3bt3NzqAFIQ/sX2Bt0AACAABIAAEgAAQAAJAAAgAASDQhgjcunUL/1xXUlKq7Vb+1nE3NDRUUVGRSqXu27eviTMKBIKysrLy8nJRO69evVqyZMnkyZN3795dUlIi+pFYW1IZPHr0KC41q6ioGBISQvqnp6cfPXp01qxZBgYGWN0Q+1dLS6veHMO4uLg1a9Z07txZQUGBRqPR6XRNTc0pU6ZERkaKqjmvXr3q1auXkpLS+PHjs7KyiA+kkZeXt3btWlNTUwsLix+7lcQl3GCxWAsWLMBk6oiXFBsl+TYrK2vw4MHYjpubW3upeCu6kOjoaF1dXbwEGo0mltLO4/HWrl2LEFJVVX38+LHoQNKuqKi4ePGijY2NmpoanU6n0WgKCgpmZmZ79uwRk8vz8vKCg4OPHj2al5dHhtfdYLFYe/fuxbGZU6ZM+S5pNSMjY+DAgXhpFhYW3t7e06ZNwwnyUlJSY8eOrSPWr6ys7Nq1a3/88cfIkSPNzc2HDh06Z84cHx+fyMjI2nz49OkTDlXGM5J/paSkhg4devPmTc63F071FYv4y8rKunjx4uzZs4koKScnd/369brh1PYpCH+1kYHnQAAIAAEgAASAABAAAkAACAABIPCDCXA4HDc3N/ybuVu3bomJiT/KIQ6Hs3LlSoSQkZHRmzdvmujGhw8fJkyY4ODg8PbtW2zq9evX/fr1wyul0+k7d+6UzGTkcDivXr3as2fPihUr1q1bFxgYSK6rO3z4MK42O2TIEPIwIyNj/PjxpF4tTpfW09OztbVdvHixu7v7hg0bzp07V5tyIRQK+Xx+WFhY7969iWwh2jAzM3vx4gVBcfr0aSw+1lby+PLly6SQy9KlSyUXSEy1ciMxMbF79+54aa6uro127MaNG1iklpGROX/+fCuvolmmO3z4MN5ETMPT01NUZS4qKho1ahRCyNzcvEZtNzs7e/ny5QoKCqLnBLelpaXXr19PDhuDwZg+fbqMjAyVSt28eXMDmV+6dElNTQ0hJC8vf/ToUVHdud7l8/n8P//8E2f7ironKyu7cuXKGpcjFAp5PF5kZOSMGTNI8RzRserq6rNnz3727JmYyFtQUDBz5kzSU0pKSkFBAf9vA/xQQ0Nj8+bNmZmZc+fORQipqKg8f/6cxWJFR0d7e3v369ePBPBKS0vr6+uPHTv233//rXeNNXYA4a9GLPAQCAABIAAEgAAQAAJAAAgAASAABH48gaSkJJxdixCaM2cOUQ1a37OUlBR8/f+MGTO+92ozFotVVFQkKqCEhITIyMgghPbu3SsUChkMBqkqi3UBIyMjsWsE8/LyNm7cqKenR9QEKpU6duxYXAd57969OIFXVLc6e/YsngUPMTQ09PHxiY2NLS0tbYjOIhAIrl69amhoiIerqalNnTp17dq1tra2uFYJQsjZ2ZlcW+br60uhUGg02u7du8V0EKFQyOVyiYYrIyNz7Nix1t/E2mY8ePAgVrsUFBRE4yVr61/j8+rqahI22Llz5/ZYWLm8vHzy5MnkgCGE5s+fL5o2Hh0djS/4q7G2SU5Ozu+//46FZikpqT59+qxcuXLBggWdO3fGD7W0tEicYHR0tLq6Op5r9OjRDclj/fjxI9agKRSKi4tLWVlZjRtRx8P4+HhSxANPLScn5+XlJRZ7Syykp6d7e3uLRstSKBR1dXU9PT11dXWiIRoYGOzfv1/0z8KJEyewckelUu3s7A4cOBAWFnbr1q3jx4/PmTMHV/qmUqm///47rjUsJye3aNGiGTNmkBA/LNNbWVmdOHEiKSmpEYslqwDhj6CABhAAAkAACAABIAAEgAAQAAJAAAi0IQICgWDXrl04kE1BQSE4OPgHOhcYGCjz7XXmzJnvcoPFYvn6+lpaWt6/f58MfPjwIU5X9PX1LSsrW7duHRaepKSkiJrg5eVFtMLCwsLFixeTu/lIH4TQhg0buFyut7c3QohCofj4+JAwqMuXL4uGKdnY2KSkpBAf6m08ffq0a9euWB8ZMGDAjRs3sLRRWlp67Ngx7H/fvn3T09OFQiGHw1m4cCFCSEtL6+XLl5LGc3NzrayssDVra+uvX79K9vkhT7KyskitXisrq9oiv+r17d9//yUK0dKlS5lMZr1D2lqHt2/fEp0X79SYMWNEs879/f2pVCqNRjty5IiY8xUVFatWrcJHVFFRce3atampqQKBgMvlxsXFjRkzBhfmxkq3UCh8+vSpiooKnmXw4ME5OTliBsXeFhUVzZs3D/e3s7Or4x5GsYGibwUCQVhYGInuRAh17949OTlZtA9pl5SUzJo1S/S7JiMj4+LiEh0d/eXLl+jo6F27dg0YMAD/gZKXl9+2bRsWwYuLi8eNG0eOutiXjslk3rt3b9KkSRoaGj179sQlknFn0X87d+7s4+PTLF8TEP7InkIDCAABIAAEgAAQAAJAAAgAASAABNoQgdjYWPITfdy4cQUFBT/KueLi4vHjxyOEzMzMPn369F1uFBUVjRw5EiHk4uJCahE8fPhQWVmZQqGsXbvWw8MDBwepq6t7eXnNnj0bSwmkLCyXy92+fTsuPSElJWVlZbVv376AgAA3NzcbGxtvb++MjAwbGxss/Hl7exO5sKysbNOmTfgWM4QQjUYzNzc/e/ZsYWFhvUvIy8sbO3YsViJsbGzi4uJEh9y6dQtHLfXs2TM1NVUoFJaWlmKxo3fv3jUW0Lh37x4WehQUFNpOGqxekuZdAAAgAElEQVRAINi3bx+Oi5STkzt+/LjoMhverqioIMVwDQwMGp2V2fAZW6InvimSSqUOHjwYZ9R26tSJ3HxH9CwdHR3RFG/syYULF7DKrKqqun//fnLU8dmYPXu2WGHuqKgoEt02d+5cEi7HZrPLysqIeI2NczicP//8E38FTE1NJWf/LhqRkZG//fYbPtt1CH85OTmDBg0iYpympqaPj49Y5F1mZuauXbvwQlRUVC5fviwUCuPi4oyNjRFCampqtV3MV1ZW9u7du0ePHjk6OpIpcKNjx47r1q2LjY0Vg/BdaxTtDMKfKA1oAwEgAASAABAAAkAACAABIAAEgMAPICAQCIqKijIzM9PS0lJSUlJTUxMTE0nipJaWVnh4+A9w6/9NeffuXayDSBbM/X9dav1vSUkJDneaPHkyUTdCQ0PxPWja2tpY9VNTUzty5AiPx0tJScGX/RkbG2O57fXr11hHoNPpy5YtEw0CKisrq6ysDAwMJOqeWMXhysrKo0ePEpkDISQnJzdq1KigoCAGg1Gr00Lh8ePHsWM0Gs3e3v7o0aNv3rxJTU2Ni4sLCAgwNTXFIsWkSZNwkmZOTo6FhQVCaNCgQeSSQWKfzWavWrUKD3FwcKixJC7p3HINFouVm5ubkZGR8u2Vnp5+584dEtU4fvz4/Pz8hsxeUVGRnZ2dnp6O7Xz58uXo0aM4BJJKpW7YsEFU9mqIwbbQp6KiYtq0aQihLl26PHr0CMu4MjIyp0+fxu7duXMHfwvGjh0rVqYjMzOTRK4ZGhp6eHiEh4d/+vQpJSXlwYMHc+bMwXc7KikpESHs06dP+FiS9Go2mx0aGjp37tzx48c/efJElElwcLCmpiaOJw0ODm6iIsbj8chprEP4q6ioIInPmpqap0+frnFbeTze6dOnsQ4+ceLE8vLyR48e4asera2t6z5RXC4X3/FHtD8pKSlvb++GZOKL8qm7DcJf3XzgUyAABIAAEAACQAAIAAEgAASAABBoWQJJSUne3t6WlpYdO3bU09PT1dXV09PT0dEhRQb69+///Plzcpdcy3ojYZ3JZLq4uOB6Ao24AK66uhrrKUOGDCH5jOfPn8eyGv7BLycnt3v3bnyZGpvNnj9/Pr7v/9mzZ0Kh0MfHB+cbzp07VzJYLzU11dzcnAgH+vr6r1+/FlvEx48f169fb2JiQvIWZWVlhwwZEhAQgPMxxfpnZmZaWlriEEJ8OxuVStXQ0NDT09PS0sIBidjDq1ev4rFpaWn49jRzc3NJ4e/FixdGRkYIIU1NzR9Sz5fNZt+8edPJyem3337T19cnx0xVVRWjo9Fobm5uX79+JfGSYkzw25KSkpMnT9rb23fq1AkbwceVpFSrqKgcP35ccptqtNamHr59+xbv0Zw5c6qrq319ffHWz549m8lklpWV4ag9Go124MABMc+PHj2KoyZJNrqioqKOjo6uri7WQzFkBwcHErebnJyM43lNTEzi4+OFQuGbN29IovGkSZNIinF0dDS+6FNOTs7Pz69G9U3Mn3rfnjt3DjtcWyEaoVDIYrFwyV2E0PLly0XvOhSzX1paOnr0aFz5JzExMSwsDMv69VaIJlWSyfcXIWRra1u3KC82e71vQfirFxF0AAJAAAgAASAABIAAEAACQAAIAIGWIhAVFTV48GDR372SbWlpaW1t7enTpz969Kh5Y2EasqqkpKRu3bohhDQ0NCQ1tXotcDicRYsWIYR0dXWjo6Nx/wMHDhD5jEqlrly5UrS8wKFDh2g0mqKi4u3bt1ksFk4G1NXVjYyMFJuuurp6zZo1WG2RkZGhUCjS0tI15qvyeLy4uDg/Pz8bGxtSmoNKpfbo0cPX11fsxrQLFy7gEMLBgwd7e3ubmJhIboqqqurOnTvJTXaZmZkDBgxACPXs2VPMWlZW1pQpU7CFxYsXt36FFiaTuXfvXlJKQnItWOKUl5c3MzPbtm0bvrVQDLVQKMzLy1u6dKlovRRJU1JSUh06dLC0tDx58iSRriRNtcEnfn5+UlJS0tLSR48eFQqFjx49wsQMDQ2fPXsWHByMJbwuXbqI1S0pLCy0s7PDyviaNWumTp1aI6Jhw4bFxMSQhZOIv6FDh+bl5Yle6IkQMjAweP/+PU6bHT58OE4TdnV1Ff2aEFONaNy8eRNrtYMGDartVkci/NHp9FOnTtUxS1ZWFv4jpqOj8+HDh0uXLmFZf+LEiRUVFXUMFAqF27dvp1AoVCp1+PDhWHiVk5M7ceJE3aO+61MQ/r4LF3QGAkAACAABIAAEgAAQAAJAAAgAgWYjkJmZie+/wxf/GxsbT5gwwd7eHmcUSqoqOjo627Zty8vLazYPGmDowYMHOHFPU1Pz3bt3DRjxP10EAsHGjRsRQjIyMmfPnhUKheQJXqCVlZWYUhYaGiovLy8tLY3Fo1GjRiGELC0txeKAOBzOoUOHsG+mpqZ79uzBGcGzZs2qQ1wrLi6+cePG1KlTSWkFCoXSv3//69ev41K8bDZ78eLFOCn4zJkzAoHg1atXK1as6Natm/q3l4mJybRp08LCwkRjoEpLS/GdgPLy8gcOHCD6LIPBWLBgAZYmdXV1nz9//j90WuXNlStXSGSfoqLiwIEDp0+fPmjQIBKeJnrSKBSKpaVlREQEWQL2kcPheHl5EblWTU1t+PDh06ZN69Kli+hw0paVlZ05c6ao1NUqa23kJBUVFVicNTAwePXqFVY5seKGEOrTpw/JFl+6dCmLxRKd5sWLF1paWgihkSNHMhiM4uLikydP2tjYaGtrq6mp6ejomJubb968WeyQv3//HhcIHjVqVElJye3bt0m4H9YQz58///79e3z4EUKjR48WTXIXdaARbZJrb2trW1viORH+aDTa4cOHa5uFy+Xu378f5zKPGjWqoKDg+PHjOFp50qRJJLu/xuFsNhtfaCArK3vmzJkNGzbg89OjR4+oqKgahzTiIQh/jYAGQ4AAEAACQAAIAAEgAASAABAAAkCgGQiQn99UKnXhwoXJycn5+fk7d+4kmpS6urqBgYGGhgbRaGg02qRJkxohwDXa3Zs3b+LEPXl5eX9//8LCQskrxng8HpPJLC8vz8/P//r1q1hcUkBAABaMVq1axePxOBwOTuYVy5YlHr59+xbXh12xYgWDwbC1tUUIDRs2jKRJCoXCyspKf39/fPGZiopKUFBQZWXlrFmzEELGxsZv3rwh1lgsllhFAqFQWFFRcefOnVmzZhHUenp6Fy5cEAqFxcXFWG3p1KkTqenB5XIzMjJevXr1+vXrjIwMSWGRz+fj2CWcz7tx48a3b98+ffrU0dGRiGUTJ06U9IT42UINJpM5Z84crKfo6emdO3eusLDw/fv348aNw4nPdDpd79uLBEIihLS1tXfs2IGvL8SOZWRk4LsXEUL9+vV7/PhxSUlJREQEzkJFCCkoKOjr6+vo6GANCM9oZmZ25cqVZslObSE+2GxKSkrPnj0RQg4ODniP+Hz+tm3bSG44Xo6ysvLNmzfFPCEBbp6enuSrUVJS8vHjx5cvX8bHx9f4lSEVMIYPHx4eHi6aro7nMjAwIMnpZmZmzSiECYXCY8eOYW1u7ty5YjomWZ1AICBH2sHBocbAwIyMjG3btuGvoZ6eHr6K9PDhw/jMk/o8xKZoQyAQhISE6Onp4cNz8+bNpKSk/v374+UPHDjw/v37RUVFX79+rVs9FLVZYxuEvxqxwEMgAASAABAAAkAACAABIAAEgAAQaHECp0+fxj+/paSkbG1tt27d+vvvv5NLwTp37nz//v2srKy3b98GBARYW1vjsp64gkSrxVI9fvyYxIspKChYW1uvXLly8+bN2769vL29161b5+LiMmvWrLFjx/bt29fQ0HDixIkREREkIC4oKAin/jk5ObHZ7KqqqkmTJuGf9/PmzRNTCXGwFS6VMHLkyJSUFFxQWF1d/dChQwwGA9cDXbJkCZYjaTSau7s7vgAxKChITk6OQqH8+eef+K46Pp9/5MgRW1vb/fv3S0ZKVlVV3b1719HREWtVpqamMTExeXl5uEyHhoYGvmSwgecgNjaWxIVJSUlpaGgQVRHXFPb392+gqWbsVlZWhutU4CqrS5cu3bRpk4WFBb7ADiE0f/78lJSUtLS0O3furFq1Cqdb4gjN9evXk1TN+Ph4HFCJEOrcufOGDRvWrFlDCoPIysru3r07KysrKSnp8uXLs2fPJlGrWlpaZ86cqfvqwGZcb+NMPX78GG/Wpk2biHj34cMHUsUFH9cRI0aIhZ0Kv9WBwd9iZ2fn2kQ0Sa++fv2KRS4lJSVdXV1sX1lZWfTM4IdGRkY3btyQtNDoJxwOZ9myZfhMSt5XKGr21atX+DzgEjehoaGfPn1KS0uLj4+/efPmxo0b+/Xrh/+fhJaW1vHjx3GUKBH+unfvXkcR8MrKSpICr6uriwMtw8PDSeSjtra2paVlp06dtm7dSv6YiLrXwDYIfw0EBd2AABAAAkAACAABIAAEgAAQAAJAoJkJfPjwgUS44B/55F9DQ8Pg4GBRuYTBYPj5+eH0QITQ2rVrcWpqM/skYY7BYOArzIhvDWmoq6vv2bMH/1y/ffs2jiZbsWIFj8fjcrnbt2+n0WgGBgYvXryQmFDI4/FwdrCmpuaDBw9WrFiBZ5SXl+/fv7+trS2OB8TilKurK4kEzMrKGjp0KELI3NwcX1RXXl4+YcIEnEk9efLkly9fSgbrJSQk4HgrCoWCw9ywUkahUNzc3BquOPD5/JMnTxKRVIwSySGVXG+LPuHxePv37yfFN8S8mjhxYnJyMnGAz+e/evVq+vTpWMnS1NQkucllZWUuLi4k8lTUjoyMzLp160Rv9Kuurr558ybWTxFCQ4YMkSx4Qib94Q2BQLB3714ajYYPAPGHx+Pt3LkTo8Cp3zVeHxkSEoJvhDQxMSG3WBIjtTUqKytnzJghitHIyCgoKOjQoUNY0cYf6evrX7p0SfTvQG0GG/68uLgYf6NVVFQePXpUx0A2my2a3y0vL49ruWhra4s62bdv36tXr5K4TiL8KSsr37lzpzb7opL0xIkT8fnh8XhBQUHkC44hWFhYSOqttZmVfA7CnyQTeAIEgAAQAAJAAAgAASAABIAAEAACrUQgKirK1tZWtMQtQsjExCQ4OJhEHhFX+Hz+1atXcQzO3LlzG65JEQuNa0RGRlpZWZGUVVG1oo62paVlfn6+UCj89OkTLmDq5+eHHSgtLfX19fX3969tCZ8+ferXr5+amtrDhw/v379PQqJEp9PQ0PD19RVLnr1w4YKysrKcnNy1a9eEQiGTyVy4cCEZpaurO2XKFHd39y1btmzbtm3r1q2rVq0aPnw4Fm4QQh4eHljuwQqXtrZ2aGhow6GxWKxLly5ZWFjIyclJS0urqKgoKSnhdFF7e3vRzNmG22x6z6qqqoMHD3bq1Ek0cVVaWtrBwSElJUXSfn5+/vLly2k0mpycHE7exH0YDMaaNWvEioQoKSmtW7euxqV9/PgRp2n/9ttvnz9/lpyojTwpKyuzt7dHCJHKHsSx3NzcmTNnSn17LVq0qMbr8JKTk3FBZ4TQrFmz8JknFupokBoyuB4urhBdUVGxfv16ZWVlBQUFc3PzkJCQZtf3s7OzBw0ahBDq0aNHjQdA1OeioqJdu3b16dNHLBSRQqFoaGgMHTp0165dYpt748YNfPOmgYFBHeWAeDwevtRPVVUVf1vxvHw+//r167179yZfWysrK8lwXVEn626D8Fc3H/gUCAABIAAEgAAQAAJAAAgAASAABFqWQF5eXkhIyObNmz09PTdu3Ojn5/f69evaYnwEAkFYWNisWbOuX7/esm79r/WvX7+ePn167dq18+fPnzp16vjx4y0sLEaOHDl58mRHR8dFixatXbvWw8PDxcVl8uTJAwcONDY23rFjBw4C4nK5Bw8etLOzEy3Ly/v2+t9J/v87gUDw4MGDkJCQiooKDodz5syZbt26ycrK0mg0BQUFLS2tCRMmREREkCAjMrK6unrnzp3m5ub//vsvfhgbGztt2jQxaZVoCqINY2NjHAD1+fNnrIwghLp06RIcHEyq95KJhEIhvvgvIiLi0KFDJ06cICFvmZmZISEhZ8+effLkibu7O/Xb66+//hId28ptHo8XGxt76NChjRs3enp6ent7nzt3Ljc3tzY3CgsLN2/evGzZMrEKv9XV1c+ePdu1a5fnt9fWrVtv3LhB0oElrcXHxy9ZssTX17eJ17RJWm7GJ6WlpWPGjME3zYWFhYlZzsrKOnHixNGjR2sLOuPz+Xv37sVp+HQ6fcGCBbWpaaWlpW/evPn777/9/Pz++++/4uJiNze3jh07Dh8+/Pbt2+QrX15eHhERER4enpOTI+ZMs7wtLCzENYUcHBwkE+0lpxAIBLm5uU+fPj1w4MCmTZs8PT29vLwOHz4cHR1dXFws2b+srGz16tWqqqqurq44B1+yD37y+fPnbdu2nTt3TrJbXFzc8uXL8e2Tu3fvlvym12ZT8jkIf5JM4AkQAAJAAAgAASAABIAAEAACQAAItGkCTCaTyASt7Ci+pK+8vLywsLCkpKSysrKqqopUgOXxeJWVlQUFBdnZ2aJiGYfDKS39P+ydB1xTV/vHD4SNyJAdcKKIWxFH654sURQXSt2K1q24qAW3Vq2Kioq4CRtREAUXioiiIIggyN57hJmErP8nnP7vmyYQEAGxPvfTT9+Tc894zvde6Jsfz6C22neJzWYnJSV5eXm5urr6+/t/+PBBwNGPH0J9fX1hYSFhEpfLraiouHr16sSJEwW8lgjVT1FRcdKkSYGBgYSFfn5+mpqaeICysvLy5csDAwPT0tJyGq64uLgbN26sXr3awMAAR9F269YtOjqa3wysDK5atQr7cwnfFRjc2T4ymcyWZ6wTYTydTv8W1UbEym11i8ViOTg4KCgoTJs2LSsrqxXLFhcX48IyCCExMTFDQ8PTp0/HxMTgtyU9Pf3JkycHDhyYMWOGuro6lgjXr1/P4XBoNFpubm6j8lkrzGjhFDabffToUQUFhfPnz7dwytcOo1Kpr169+kbhkk6nf/jwIS4u7hvfQxD+vvbxwXggAASAABAAAkAACAABIAAEgAAQAAI/HoGysrLQ0NATJ05s3LhxbcNla2trZ2d38uTJZ8+elZaW8h+JyWTevn27T58+hDjYpUsXbW1tnYaLkG+Iu2PHjs3IyOBfgcvlpqam4iDQ+fPnd2aXNwGzf8KPxcXFz58/F36CLUeRnp6+ZMkSaWlp/EqQSCQ1NTX8tmhraxMVe/BdOTm5s2fPtnzxNh9ZUFDg5eXV8qjkNjegIxcE4a8jacNeQAAIAAEgAASAABAAAkAACAABIAAEvjMBDoeDA40J/75GDeJwOO/fv1++fLmamhoh8PE3ZGRkyGTyxIkT7e3t4+PjhXMyurm5ycrKSklJXbt2rdEtoPO/RKC8vPzSpUsjRowgqm/zvy0IIWVl5YEDBy5evNjDw0NEfPR/iUlnOAsIf53hKYANQAAIAAEgAASAABAAAkAACAABIAAEOiOBurq68PBwBwcHS0tLQ0PDQYMGjRkzxsLCYufOne7u7klJSRUVFcKSH5fLrampWbx4MUKof//+iYmJnfFsYFM7EMjOzr558+batWsnTZo0cOBAQ0PDSZMmLV++/OTJk2FhYfn5+fwh8O2wPywpSACEP0Ei8BkIAAEgAASAABAAAkAACAABIAAEgAAQECBQW1tbUlJSVFRUWlrakrjdyMhIHR0dhNCaNWu+MUmZgCXwsfMTYDKZFRUVhYWFJSUlFRUVnTzLYefn+S0WgvD3LfRgLhAAAkAACAABIAAEgAAQAAJAAAgAASAgSIDD4Rw6dEhMTKxLly5+fn6Ct+EzEAACHUUAhL+OIg37AAEgAASAABAAAkAACAABIAAEgAAQ+DkIFBQUjB8/HiE0ZsyYnJycn+PQcEog0BkJgPDXGZ8K2AQEgAAQAAJAAAgAASAABIAAEAACQODHJRAQENC1a1cxMTFHR0c2m/3jHgQsBwI/OgEQ/n70Jwj2AwEgAASAABAAAkAACAABIAAEgAAQ6EQEGAzGhg0bEEKampqvX7/uRJaBKUDg5yMAwt/P98zhxEAACAABIAAEgAAQAAJAAAgAASAABNqNQGJiooGBAUJo7NixBQUF7bYPLAwEgEDzBED4a54RjAACQAAIAAEgAASAABAAAkAACAABIAAEWkjg8uXLUlJSCCFzc/OqqqoWzoJhQAAItAcBEP7agyqsCQSAABAAAkAACAABIAAEgAAQAAJA4GckwGazd+zYgRqu3377jcFg/IwU4MxAoNMQAOGv0zwKMAQIAAEgAASAABAAAkAACAABIAAEgMCPT8DZ2ZlEIiGE7O3tORzOj38gOAEQ+IEJgPD3Az88MB0IAAEgAASAABAAAkAACAABIAAEgEBnI5CQkDBjxozp06dDZY/O9mjAnp+QAAh/P+FDhyMDASAABIAAEAACQAAIAAEgAASAABBoLwIcDqe8vJxKpYK7X3shhnWBQIsJgPDXYlQwEAgAASAABIAAEAACQAAIAAEgAASAABAAAkAACPw4BED4+3GeFVgKBIAAEAACQAAIAAEgAASAABAAAkAACHQaAnQ6/cGDB5cuXSotLe00RoEhQOBfBED4+xcO+AAEgAAQAAJAAAgAASAABIAAEAACQAAIAIFmCdBotCNHjigpKSkrK7969aq2tjY7Ozs1NTUrK6u6urrZ6f+BAUwmk81m/wcO8t8+Agh//+3nC6cDAkAACAABIAAEgAAQAAJAAAgAASAABNqegL+/f7du3RBCMjIyCxYsMDc379mzp5aWVo8ePUxNTa9fv15eXt72u3aaFYuKinbv3u3g4FBcXNxpjAJDGiEAwl8jUKALCAABIAAEgAAQAAJAAAgAASAABDqMQE1NzadPn7KysmpqaphMpsC+uFLE69evX7x4AQGVAnDgYysIcDicurq62tra+vr6VkzHUwoLC6dNm4aavqSlpa2srD5//tzqLTr5xJs3b0pJSUlKSjo7O3dyUzu5eRwOh06nt5+RIPy1H1tYGQgAASAABIAAEAACQAAIAAEgAASaIVBYWLh+/XpNTc1+/fpZWFisXbvWzs7ujz/+cGi47O3tN2/ePG3aNFVVVSUlpTlz5qSlpTWzYkfdptPp+fn5cXFx7969+/jxY05OTl1dXUdtDvt8NYHKysrAwMDDhw9v3LhxwYIFlpaWy5cv371796VLl8LDwwsKClgsVssXvXPnjpycHKH7iYmJqaiokBuurl27Ev0zZ87MzMxs+bI/ykgmk2lra4uPuXLlym+RUDvsyCwWKzg42NHRMSgoSPSzrq+vDwoKOnv2bExMTAdUpn758uWyZcsCAgLaaS8Q/jrsHYONgAAQAAJAAAgAASAABIAAEAACQECQgI+PD7+AQigmjTZkZGTu3r0ruETHfq6srHz9+vWJEyesra0HDBigrq7erVs3NTW1Pn36LFu2LD4+vmPNgd1aRCAvL2/16tUKCgrC7xWJRFJWVh46dOimTZuCg4OrqqqaXbG6utrKyopYqlevXkeOHImIiMjIyMjMzHz8+PHixYulpaURQuLi4nv37v0hdLFmT80/gEajLVq0CCEkJibm6OjYTooV/47f3i4tLZ06dSpCyMDAICEhQcSCT58+1dHRQQgZGhrGxsaKGNkmt5ycnBBCv/zyS15eXpssKLAICH8CQOAjEAACQAAIAAEgAASAABAAAkAACHQcgbNnz0pISBAaiuiGlpbWq1evOsy4+vr6vLy83NzckpKS7OxsrPcZGxurqqo2Zef8+fOpVGqHWQgbtZDAhQsXWvKaKSoqzpkz59WrV6KVrKioKF1dXfwOyMjIXL58WcCMioqKnTt3Yu1PT08vLi5OYEDn/1hRUREfH19bW9uoqVQq1djYGCGkpKQUEhLS6JjO1lldXT179myEkOjw5NLSUktLS/xwpaWlfXx82vsgFy5cIJFI3bp1i4iIaI+9QPhrD6qwJhAAAkAACAABIAAEgAAQAAJAAAg0T4DNZu/cuRN/xx49evSpU6fs7e1Xr149ffr0fv36aWlpYX86dXX13r17W1pa+vj4dFg4LYPBOHXqlL6+ft++fUeMGKGrq6uiokLofSQSSUVFRVtbW6fhIpPJ8vLy2EUoNze3+ZPDiI4lcO3ata5du/bs2XPBggW4JMWff/65e/dua2trAwMDZWVlflnQ0tJStN8fVqslJSUtLCw2bNhQUFAgfJrS0tL58+cjhCQkJM6dOyc8oDP3VFdXb9y4UUtLa8uWLY0m1szLyzMyMkIIjR49+kd54dls9h9//IF/hFesWMFgMIQfAZvNPn36tIyMDB42bdq09PR04WFt2+Pi4iIpKSknJ+fr69u2K+PVQPhrD6qwJhAAAkAACAABIAAEgAAQAAJAAAg0T6CystLMzAzXRb158yaewGQyKysr8/Pz09LScAa9uLi4nJycppyPmt+mVSPKy8unTJlCKH24IS4u3qNHj6VLl166dOn169epqak5/3+5urrq6OhMmTKlsLCwVRvCpHYkUFpa6u/vn5CQQKPR+Lepr68vLCy8d+/ekCFDiGdtaWlZXV3NP4y/XVFRYW5ujhDq06fPhw8fBBbkH/ngwQNFRUWE0IIFCzr47eU3oxXt+Pj4Hj16IIS6dOkSEBAgvMKnT5969eqFELKxsWnXwhTCW39LD4VCkZWVRQjNmDGjoqJCeKnAwEDCl3PSpEmfPn0SHtPmPQEBAV26dCGRSGfPnm3zxblcLgh/7UEV1gQCQAAIAAEgAASAABAAAkAACACB5gl8+vSpd+/eCKHevXt3tux4FRUV06dPJ8QgOTm5adOmOTk5JSQkNKp01NfXv3nzJiYmRnTdgOahwIiOIlBbW5uUlOTq6jp79mzssACvOEUAACAASURBVIkQkpaWFl2mNjw8XFNTE2teov1Ps7OzDQ0NEUJGRkY5OTkddaw22CcpKalfv344R+GRI0eEV8RaFULo4MGDosOihed+x56goKAuXboghIYMGZKRkSFgyYsXLwYNGoR/5CdNmtRhAdovXrxQUlJCCO3YsYPNZgtY9e0fQfj7doawAhAAAkAACAABIAAEgAAQAAJAAAi0hoCnpyd2wDE2Nm7UAac1i7bRHAaDsW7dOqwCaGtrX7p0qby8vI3WhmW+JwE6nR4ZGfnXX3/NmTNHV1dXUlKSkHdlZWU3btxYVlbWlH0cDufQoUNiYmLS0tKEj2pTg6urq2fNmoUQ0tXV/fjxY1PDOmF/bGwsrm6BEGo0Kvbo0aMYwu3btzuh/U2Z9O7dOy0tLYRQt27dwsPDiWEcDicgIGDAgAH4TZg4cWKHqX5cLpcQ/pYtW9ZoADJhZ+saIPy1jhvMAgJAAAgAASAABIAAEAACQAAIAIFvIsBisXbs2IG/ae/cubM9XF2+yT4uNzAwENeBnTt3rmjfrm/cCKZ3JAEfHx9C1SIkPzExsQEDBri4uIjO7ldaWjpt2jTso9psHCidTl+yZAlCSFlZuSOL0nw7TMKhDyFkampaWVnJv2ZdXd3ChQsRQmQy+d27d/y3hNs1NTWlpaXl5eVtW9qYwWBEREQ8ffr0q2rpFBYWjhs3DiEkJSV18eJFbC2Dwbh27Vr37t3xyzB+/Pi2reRbWloaHBx86tQpBweHw4cP37p1KyYmhj/0mxD+li5d2qg3cWlpaURExKtXrwQehDDtRntA+GsUC3QCASAABIAAEAACQAAIAAEgAASAQPsSKC4unjhxIkJITk7Oy8uL2IxOp5eVleXn55eVlX1fNTA6OhoX8F25cmVTsgWDwSgtLc3NzcW5/vLy8lr35Zw4fgc0fqDYzDanweFwHB0dCb2PaKioqFy6dKlZFSkyMhK7jJmZmTX7oOvq6nB9DyUlpZcvX7b5WdpvwcOHD4uLi2M4v/76q0DayszMzOHDhyOEpk2b1pR3JJvNjouLO3z48OzZs8eMGTNu3LiVK1f6+PgI66r19fUFBQX8Qliz56LRaH///bdWw/XkyZNmxxMDmEzm5s2b8blGjhwZERGRlJS0b98+HGmLEJo4cWJMTAwxXqDBZrMzMzODgoJcXV2vXr3q6+sbGxsr2hH4y5cvlpaW+O8HeF8pKSkNDY2lS5dGRUXh9ZsS/phMZkpKipOT0/jx41VUVJSVlR0dHZv6RSRgKv9HEP74aUAbCAABIAAEgAAQAAJAAAgAASAABDqIwLNnz7Cspqio6Ovrm5SUdPfuXUdHR2tr67Fjx/bt2/eXX37Zvn37d4yRjIqKwhbu2LGDHwqbzS4qKnr58uWJEydsbGxGjx7dvXt3XN63Z8+exsbGDx8+/FrJksVilZSUiKgUwW+AcJvD4ZSWltbU1AjfInry8/Pd3d3t7e03b968c+fO/fv3X7p0KSkpiRjwkzSuX78uLS1NSH64QSKR1NXVp06d6uLiUlxc3BSKmzdv4rktScdWXl6O3QM1NTWjo6ObWrOz9VdVVc2ZM4fgM3DgwNTUVH4jnz59ipWyPXv2NPqeU6nUU6dO9enTh1gEN+Tl5detW8cvI6akpGzZsmXAgAGiI6z5d2exWOfPn8dVUzQ1Nd+8ecN/t9l2UFAQLs8tJiamqqqqqamJCzpLSUktWbJExI9DRkbGn3/+2b9//y5dukhKSkpISMjJyamrq0+YMOHUqVPCGQO5XG5GRgauAyPAAX/s27fvxYsX6+rqXr58iXna2NgwmUwul1teXv7o0SNbW1s9PT0SiURMNzY2brTIsuhTg/Anmg/cBQJAAAgAASAABIAAEAACQAAIAIG2J8Bms/fs2YO/0IqLi6upqWlqasrJyRFfcYmGoaHh+/fv296CFqwYERGBNQJra+uIiIhHjx4FBQXdvn1706ZNhoaGysrKhJECjaFDh6alpTW6Q2Vl5dOnT69fv56QkEAMqK+vv3btmqGh4bp169LT04l+4UZdXV1ERMT169ffvn3Lr7kEBQWNHTt23rx5jQpMHA7n2bNnEyZMEBa8pk6d2qhmIbz1f6YnLy9v5cqVurq6Xbt2FRMTE3h2UlJSM2fODA0N5ceLz87hcPbv348DRV1dXZsFkpiY2LdvX4TQ8OHDs7Kymh3fSQZER0fjkr6YjKamJuGbhi3866+/xMXF5eXl/fz8hG0uLi7esGED8abJy8traGgQP9okEsnBwQHLW2w2297eHu+iqKgYEhIivJpwz7Nnz3BYrqSkpL29/ddq5RUVFbNnzxZ46HJycrt3727Ke7GysvL27dtGRkaEF6TAdHFxcUNDQwqFwm8MjUbbtm0bfsHExcV1dXUnTZpkaWk5Y8aM3r17Y7VRVlb2999/d3Nzw79M5s2bFxMTc+7cuSlTpnTt2pXYhUwmW1tbnzlzJjo6uhW1g0D4E36LoAcIAAEgAASAABAAAkAACAABIAAE2pdAfX39ypUriW+2RENcXFxDQ2PQoEFaWlqEq4uZmVl+fn77GtTY6kTtERkZmW7duik0XFJSUvzWqqio6OnpTZs2bV7DNXnyZA0NjQkTJmChp7Ky8vTp01euXMERjhwO5/Dhw127diWRSDNmzMCH4nA4Hh4eGhoaeNlt27YRCf4ZDIarq+tff/1VVFSEDaRQKBoaGiQSaejQoUSOudDQUH19fTx9zpw5AmVSmEwmhULp1asXHiAnJ6ehoaGjozN48OAhQ4bIysoaGxuHhYU1BuA/21dbW5uSkhISEuLk5GRnZ2dlZdW/f38i3hMh1L17d+yNxY+AxWKtX78eIdSU5sU/mMvl3rp1S0ZGBiG0aNGirwplFVingz86OTnxFzxRUFAIDg4mbKBSqbhiiZ6e3ufPn4l+3Kiqqtq8eTNWtSQlJc3MzO7evfv582cfHx8LCwv8s2NoaJidnc3lchkMxm+//YZfSykpqZZoqbm5uUSt7Xnz5vE7DwpYIuLjkydPcDFxvDVCaM2aNdXV1Y1OSU5Otra2Joo+Y9l36tSpu3fvtrOzMzExwX8bQAgpKioeOHCA8Lp98+YNkUrSwsLi48ePVCq1tra2srIyNTX1zJkzuIIwiUSaM2cOFv4UFBS0tbWJ33sIIQUFhSVLlkRGRjaa+69Rg4U7QfgTZgI9QAAIAAEgAASAABAAAkAACAABINDuBG7duqWtrS0tLS0rK9utWzd9ff1FixadP38+JiamqKgoISFh8+bNWDeRlJQ8fvx4K1xdvvEMJ0+e5P8STsgEJBJJV1d3/vz5Z8+ejYiIyM3NxV/pa2trKyoqYmNjk5OTcR69lJQUfX19BQWFwMBAHPo3evRovI6ysjKW2968eUPIdgihfv36EXpKeXn55MmTxcXFcSGC8vLyefPm4ekyMjLu7u5cLjc1NXX8+PGEbd26dXv27BlxcCaTefXqVawqysnJLV682NfXNyEhITs7u6SkxMnJCWsxU6dObZ2GQmz0Qzfq6ury8vLCwsIOHz48duxYzKRLly7Hjx/nF1xYLNaGDRsQQjIyMs1Wsy0vL8dhntLS0teuXftR+FRXV8+dOxchJCEhQfz0nT9/nrA/MjIS61nm5uYCWQ7ZbPb58+exc1+XLl327t3LH5f66dMnPT09hJC6ujr2S2UwGDY2NsT73JIqyYSqOHLkyPj4eMKqr2qw2ezHjx+PHDkSby0uLn7kyJGmVrh8+TL/LwF5eXk7OztCiK+qqnr+/PmyZcuwaiwnJ3fq1Cn8m+rMmTN4or6+voDLJN4rKSnp2LFjy5cv37Rpk7D7sJyc3IwZM3x9fQklsSkLm+0H4a9ZRDAACAABIAAEgAAQAAJAAAgAASAABNqeAI1Ge//+PYVC8fHxef/+fW5uLn+gHJfLrays3LRpE/YeGjJkSFPBs21vWcOKbDZ769athKCGGxoaGnPnzr148WJ8fHxL6vwmJycbGBhg5Y7NZjs6OuLjIISUlJTCwsKysrIIDya8hZycnI+PDz5UWVnZ1KlTEUIbNmxgs9k3btwgPI+w8FdRUbFixQr+CEQSiXTy5EmCib+/Py5G0bVr1xMnTgi4Ne3atYvY9MaNG8Ssn7lRWFjo5OSEY12VlJSuXr1KxPxyOBwHBweEkLi4+IkTJ0RTCggIwGrOgAEDkpOTRQ/uPHdjY2N79uyJEJo5c+aWLVvw60p4LHI4nIMHD4o3XMeOHRMwOy4urn///gghMTGxJUuWpKamEujy8/P37dsnKyuLEOrfv39KSgqXy2Wz2bt378Zv4JAhQ758+cLlcplMZnJysq+vb2RkJH8VGjabfenSJfz+d+/e/cGDBwK7f+1HHx8fXHNDXFz80KFD/HvxL0W4bSKEtLS0nJ2dhZ03aTTa1atX8Q9anz59YmJiWCzW6tWrEUIkEungwYNNLc7lclks1pMnT/i9TRFCOjo6rq6uTYUe85vXkjYIfy2hBGOAABAAAkAACAABIAAEgAAQAAJA4DsQSEtLMzQ0xCFv3/5V/6sOwGQy8Vd3KSkpIyMjAwODZcuWRURECH/tF7EsFv4QQtu2bfP399fV1cUyB0JIWVnZ19d39erVOAuYjo7OkCFDxMTExMXFCUmFEP4sLS2fPXs2ZMgQYrqsrKyLi8v+/fuxe5qKioqhoSGO0FyxYgUOFs7Kyvrll19wcKJwNrTS0lJcegKvOWnSpLy8PBFn+XlucTicoKAgAwMDhFDfvn0jIyOJs1+8eBFD/u233/idAYkBuFFWVmZpaYnB7tixoxWVWAUW7LCPzs7OkpKSUlJSN2/ejIiIwL6ienp6OCVlamrqiBEjsDIlUFWjvr5+586dxPuprKw8ZMiQ1atX7927d/v27WPHjiXCh21tbbHEz+FwDh06hGXrVatW4ZfWzc2tb9++0tLSw4YNI4LZuVxuSEgITu2nqKh4+fJlQlJsNZmMjIxhw4ZhGVeENvf8+XPCm8/Jyakpv2MWi3Xs2DEJCQkSiXTmzJna2lr8AsjIyFAoFNFGRkRE4CJCBD0dHZ23b9+KntXyuyD8tZwVjAQCQAAIAAEgAASAABAAAkAACACBDiXAZrN37NjR8nIKbWhcbW2tlZUVjr2Njo4uKioScEhsyV6E8Kerq4vTiomLi2MvKhkZGSMjI+wDpaenFxAQcPfuXeyCtHbtWlz9gBD+1NXVsS8VQggLKJKSkoaGhliSUFdXv3LlyuvXr7EyYmZmhlMKenh44PWtrKyEK9VSKBS8HZYbpKWlnZycWnKon2RMQECAtrY2Qmj16tWEd6efnx92Ouvfv7+IUFNnZ2cc8dq7d+/vVZqmFY+JyN/Xu3fv+Pj4srKyyZMn45++K1eusNnsAwcO4LfXyspKwHs0Li4OR/IqKCgMGDCAPzyW0LNwnZOYmBhsGxb+xMTESCTS6dOnuVxuVVWVhYUFHi8uLk74rn78+BHHyEtJSQlL2K04KXYoNjExwU55xEbCS7148QL/lA0fPjwzM1N4ANHj4+ODH/rvv/9eWlo6Y8YMhBC/Ay8xUqCRlJSEg/2lpKS6dOmCj79lyxYi16fA+K/9CMLf1xKD8UAACAABIAAEgAAQAAJAAAgAASDQcQROnTolLi4uKSl55cqVjtuVyy0uLp4wYQJCaNy4cSUlJa3bmhD+CO3D2Nh44sSJxEdcR8Lf35/L5X78+BG7BNrY2ODv/ITwR4w3MjKysrLiV1WUlJQuXLjAYrEKCwvHjh2LEJo6dWp5eTmXy8UlaLt06RIQECBgf3x8vJGREY7KJFyxhg0bhsMtBQb/nB/r6+u3bNmCEOrVq9fHjx8xhC9fvgwcOBC7idnZ2TUqzTx//hxLYBISEgcPHsQa7g/B8M2bNzhedfbs2VVVVbiKMfZIHTVqlLOzMxav5eTkhFMcnj9/HmuCNjY2CQkJ9vb2/KWBcUUUExMTfkc2Doezb98+nDPRzc2Ny+VSKJRu3boRb7uNjQ2Lxfr8+fOUKVNwp7W1NX/ewG+hWlNTg0VGKSkpFxeXppYKDQ3Fwt+4ceOE1XNiFp1O//3337GRjo6OhYWFOPNmly5dcH5PYqRwIz4+HtfeGTVq1PHjx7Ecr6WlxV9TRXhWy3tA+Gs5KxgJBIAAEAACQAAIAAEgAASAABAAAm1GgM1ml5WViYiX5HK5VCoVu93Jy8tjdazNtm9uofT09MGDByOEJkyYkJKSUlBQkJ2dnZaWlpqa+uHDh4CAgOvXr58/f/7AgQP29vZ79uyxt7c/duyYm5vbu3fviHz8AsJfv379wsLCiEqmCKGuXbtiXyoul5uTk4PFuBkzZmDlTkD4U1dX9/f3P3z4MJHUT1JSknCAqqqqwuVWBw0alJaWxuFwNm7ciFUVgbIJMTExxsbGWKQwMjI6ePAglnvExcU3bNiAt24Oz09x/9atW1JSUvLy8oR2w2Qyt2/fjtFpamrev3+fHwSHw3n8+DF+bRBCJiYmP1b09M2bN6WlpSUkJM6ePYvP9ezZM6zEiYmJYe9RhNCIESMEfN/odDp+qxUUFHBIPpPJjI2N/euvv9atW7d27VoHB4eAgACBpHVsNhtLq7Kysh4eHm/fvuWvcoPjrI8ePTpp0iQMfPTo0TjimJ95q9tlZWU41F1eXl7gOfKv+fbtWxzvrK+v35SPZ21t7cWLF3G4bv/+/aOjowsKCvDPsry8/N27d/kXFGizWKzLly9jtsbGxikpKbgmDEJo5MiR/DqpwMSWfwThr+WsYCQQAAJAAAgAASAABIAAEAACQAAItBmB+/fvjx07dteuXfn5+Y0uWlVVtX//fhw916dPn6a+dTc699s7Y2NjcfVSRUXFESNG9O3bl0wma2tra2lpqampdenSRVJSkhDgsDCB43C7det28uRJnM6fX/iTlZW9cOECjUZbunQpHi8hIbF161YiaWB1dTXOC9a7d28scPALfyQSyc7OjkajEWnREEJWVlZEgVEWi4WrkSgpKT158oTL5eJ8bVipefToUVpaWkRExKFDh3D2Olxm4cmTJ0wm88KFC4qKijioc8WKFQKyzrfD7Awr4AKscXFxBHDRVlVUVKxatQq7qvG7TL548QIrQQihQYMGBQUF1dXV1dfXZ2RkHD16FEdbI4SGDh367t070Vt0qrtMJhMrxZqamoTeVFZWZmZmRrzeuLF7926BVHdUKhWHzaqoqLx+/Zr/XKyGi7+Hv33o0CExMTFJSclFixaNGTNGYCPskYo7+/Tp8/jxY/6539j+8uULDp/v2bMn4dEpvGZpaSlWyUkk0pIlS758+UKkF2QymcXFxSEhIUuWLMEhumpqardu3eJyuXl5eVj4k5KSEu2q/O7duz59+uAzLly4kE6nh4WF9evXD/cMHDjw9OnTZ8+evXjxYqsVeRD+hB8r9AABIAAEgAAQAAJAAAgAASAABIBA+xKg0WiLFy9GCElISEyZMiU0NJT4Oo03Ligo2Lp1q4yMDA6r3L17d6Nhle1n5cuXL3GIn7AY0WiPnJycioqKhoYGmUw+ffo0Pg6/8Ldw4cLy8vL6+nrC48/ExCQ3N5f/CMeOHRMTEyNckMrKyoggx3HjxmVkZHC53CNHjuDoy6FDhwoIFp6ennJychISEjhbX0pKCi7FgBBSVFTU0tJSUVHBcxFCgwcPJpQUGo1mb2+P64SIiYnNnDnz3bt3P1CMKj/Dptr37t3T0NDQ1ta2tLR0dXVNTk4WyFJHTORwOHFxccuXL8evX//+/T9//kzcrampWbduHfEOqKurW1lZLV++fODAgUQI9pAhQ549e0ZM+SEaVCrV1NQUy8H8Ed9+fn78PwhkMvnVq1cCJ6qsrMTCn6Sk5Llz5wTuiviIfQwJmAghXV3dlStXampqCnR6e3uLqI0rYoumbj18+LBr164IIWNj44qKiqaGcbncmzdv4j8/iIuLGxgYrFu3bt++fXv27Fm1apWRkRFeBMfsu7q64l9ThPCHEFq7dq2I313e3t7Y3U9cXPz48ePYDE9PT5xfEqcgxL8T/Pz8RBgp4hYIfyLgwC0gAASAABAAAkAACAABIAAEgAAQaBcCLBbrjz/+IESo7t27b9myxd3dPTQ0NCIiwtXVdfr06ThlGELI3Nw8KyurXexoetGIiAj+dGP8MoS8vLyGhsbAgQNnz569fv36vXv3/v33335+fq9fv05KSsrIyCBqQWRlZeHKoT169CA8oa5cuaKqqmpkZCTsEfb+/XucGQ1XG6isrMRajJKSkre3Nzb24cOHPXr00NfXFy5znJWVNWrUKITQqlWrsGx3+/ZtFRUVfuOxW9/s2bMFik6UlZWtW7eOYN6jR487d+40jefHu3PhwgVCmJOUlOzRo4eZmdnOnTvPnDnj7e0d1HD5+vqePXt248aNRMyplJTUsWPHBBzcUlJSLCwsiLeXH6+kpKS5ubkA2x8C1qtXr3DE97Bhw/hdPqurq9euXYvPiN1OhcPzmUwm9jbF7qWJiYktPHJcXBzh74a1M29v77q6OgcHByL1ZI8ePdzc3AQeQQvXFzHMxcUFK91btmwRvTiVSt22bRsh8PE/btxWUVGZO3fuixcviL9eFBYW4oLaCKEFCxYQvxCE7Xn8+DF2tu3Xrx+h4zOZTHd3d5z4D28hISFx8eJF4ekt6QHhryWUYAwQAAJAAAgAASAABIAAEAACQAAItDGBjIyMOXPmEEoTzkanpKSkoqKCv5DjyNn58+fz+x+1sRFNL1daWrpgwQJ1dXV9fX1paemuXbuSyeTp06c7Ojrev3//8+fPhYWFNTU1oiUDGo22c+dOMpl85MgRwoGupqYmIiIiJSVFePP6+vrTp0/r6enh8EA2m33mzBkdHZ2NGzcS7mkMBiM6OjouLo5QGYh1OByOl5eXgYHBnj178HZ0Ot3T03Pq1KlaWlrq6uo6OjozZ868fPlyo+VKiouL9+zZo6WlJSUl1atXr1Z7GBH2dKpGSEgIEaIroN3IysoqNFxycnL8cp6EhIStrW2j1SSys7M3bNjAXxZZVlbW0NDw3LlzIkpAdCogAsZQKBTs4Thp0iSB1yMjI2PVqlV9+vSxtbUtKCgQmIg/vnz5kkwm4+DcxYsXi1bq6+rqihuuurq6ffv24V8C/fr18/X1xW91eXn5oUOHpkyZsmnTplevXon+KWvUnmY7nZ2dJSQkpKSkXF1dmx1cU1MTFBRkZ2c3bdq0Hj16aDVcPXv2NDExOXjw4IsXL4gfT7wUk8k8ePCghISEpKSks7OziPWLiooWLFigq6vr5OTEf0wOhxMaGjpjxgz8y1BRUVFEIkIR63O5XBD+RPOBu0AACAABIAAEgAAQAAJAAAgAASDQXgQKCwvPnz8/evRofgEFizLy8vKjRo1ycnIS0CDay5TG1s3Ly4uKikpMTLx9+3ZISEhKSkplZWVjA0X1VVVV8fsAihracI/BYOTk5BA6Ql1dXWZmZsv3ZbFYeXl5AqGLVCo1KSnp06dPGRkZopeqr6+PjIx0c3P7+PEjoVQ2a/MPMYBOp/v7++/evXvhwoX6+vqqqqpdunQhfAD5pUAxMTElJaURI0YcP368UdUPn7e2tvbevXvbtm2ztbXdt2+fj4/Pj1XKQ+CpPXnyBDu12draCoem1tXV5efni/BcYzAY9vb2WMIjkUjTpk0LDg6uqqri36WioiIqKurvv/9esGDB8OHDR48eHRcXV15efvny5aNHj75//54/mJfFYlGpVH4tjH+pb2+HhIQoKSlpaWlFRka2fLXKysrs7OzUhisnJ0fggPzrlJSUHDhwYMeOHU1JpcTg0tLStLQ0YT9KLpdbVFR08eLFFStWXL16VfRPLrGacAOEP2Em0AMEgAAQAAJAAAgAASAABIAAEAACHUegsLDw4cOHjo6Ov/3225w5cxYtWrR3796AgIDCwsKOMwJ2+mkI0Gi0vLw8XJr5ypUrhw8ftre337Vr1/r163///fe9e/c6OTmFhoYWFhby61Ai8LSfOCVi0za/VVZWtm/fvjVr1sTGxrZu8cLCwmXLlhFaqrKysqmp6Z49exwdHR0cHLZu3Tpp0iQ1NTWiJI6SklJYWFjr9vr2WZWVlZs2bbKzs2thsZdW7Mhms+vr61sxUWDKNy4Cwp8AT/gIBIAAEAACQAAIAAEgAASAABAAAt+HAIPBqKmpodFo32d72PXnJsBisYSjp38qJPUN17ccuaioaP/+/bgcNr8TpUBbUlJSR0fH3t5ewDX1W7Zuxdyampr2U/1aYU87TQHhr53AwrJAAAgAASAABIAAEAACQAAIAAEgAASAABD4uQgwmcyIiIgNGzb07dtXQUEBOwBKSEjIy8trampOmDBh+/btN27ciIuL+0ZHtp8L6zecFoS/b4AHU4EAEAACQAAIAAEgAASAABAAAkAACAABIAAE/k2AyWRmZGQEBwdfvnz5zJkzV69e9ff3j4+PLy8v//dA+NTuBED4a3fEsAEQAAJAAAgAASAABIAAEAACQAAIAAEgAASAABDoeAIg/HU8c9gRCAABIAAEgAAQAAJAAAgAASAABIAAEAACQAAItDsBEP7aHTFsAASAABAAAkAACAABIAAEgAAQAAJAAAgAASAABDqeAAh/Hc8cdgQCQAAIAAEgAASAABAAAkAACAABIAAEgAAQAALtTgCEv3ZHDBsAASAABIAAEAACQAAIAAEgAASAABAAAkAACACBjicAwl/HM4cdgQAQAAJAAAgAASAABIAAEAACQAAIAAEgAASAQLsTAOGv3RHDBkAACAABIAAEgAAQAAJAAAgAASAABIAAEAACQKDjCYDw1/HMYUcgAAT+OwRYdAa9lFpbUFqbX1pXWFZfXfffORucBAgAASAABIAAEAACQOCnJ8BmswsLC0tLS396EgAACPyoBED4+1GfHNgNBJolUJtfkvfs8My5YgAAIABJREFUfUFYDINa3exgGPC1BGrzilMpweG///XQePO9MSvujVoeMG5NqI1D8u0gWknF164G44EAEAACQAAIAAEgAASAQCckkJ6ePmHChGnTpiUmJnZC88AkIAAEmiUAwl+ziGAAEOhEBBiVNYXhsWVxKWwmS7RZVWm5zxbu89af7zNgQdzf7hwWW/T4jr/LojNq80sZlTUdv/U37shm1Kf7PX9kutWj9xwK2ZRCNvvnHx1ew7P3nGeL7Ivexn/jLjAdCAABIAAEgAAQAAJAAAh8dwLv379XVlaWkJC4c+fOdzcGDAACQKAVBED4awU0mAIEvg8BZi0t2vGqz4CF98eszH4UIcIIDosde+K2u+4sio65R6/Zn856cNidS/hjVNZEH7h6b8yKlysPVaXniThLZ7vFojESLvj4DFjIE/t0zSk6Zl595/oOsfYdYu3RczZFx8xd15xCNns4Y2NZXGpnMx7sAQJAAAgAASAABIAAEAACX0UgKipKVVWVRCJdvHjxqybCYCAABDoJARD+OsmDADOAQPMEyuPT/Ecua3AuMw39zZFR2WQAb01O0UPjzRSymXuPWRGbT9FLqc2v3rEjCl9/9Bm4kEI2ddc1f73pFL2ssmP3b/1uaZ6PvQ0WUHTM3XXNvQ3mR2w5nXnvRUl0Ukl04ufLfg9nbnLvPsu9O09yfb/Pmc1gtn4nmAkEgAAQAAJAAAgAASAABL43ASz8iYmJ/fXXX9/bFtgfCACB1hAA4a811GAOEPguBKhfsu7/upqiY0bRMb8/dhX1S1ZTZmQ9CPfWt6KQzUIsdnROf7qKxIwHU9ZTtE0pOrzY2JhjN1l19KaO03n6WXX0V2uPUrRN3bvP8tSb++mMO4vG4DevMiU71MahwdfS7JHJltr8Ev670AYCQAAIAAEgAASAABAAAj8WASz8IYQOHjzI4XB+LOPBWiAABLhcLgh/8BoAgR+GALueGXvitkfP2Txfs/7zc0LeNmo6i0aP2HKaQjbz6jcvzftpo2M6rJPDYjcaZcxhs4si4sI3nPAbau2mbeo7ZHFJ9A+QLZhdz3xr58TTK8mmwWbbGtX1ch5FePefT9Ex8x+1vOJzRoehho2AABAAAkAACAABIAAEvjsBJpP54cOHhIQEdifLtNNqMuHh4crKygihQ4cOgfDXaoz/jYk0Gu3Nmzfp6en/jeP8PKcA4e/nedZw0v8CgaqM/IczNvISyfWwiD/n2eiRSqIT/Uctp2ibPp5jV1dQ2uiYr+1kVNbUFZTW5pfUFZXVV9eJnl5fXVuRmJHm9ST2xO13ey++23sx+VZQo5WFWXX0orfx8Re8Ey761OQWi162k9zND40OnLjOq++89/aX2PWNRPLmv/zAywCoY3Z3hE35J0jz10meG5gBBIAAEAACQAAIAIGOIBAREdG/f/9BgwaFh4e3+X4sFisjIyMrK6sjBbgXL14oKSmBxx//02yWP51Or6+v55/y32j7+Phoa2uPHz/+y5cv/40T/SSnAOHvJ3nQcMz/CAE2k/V+nzNFh1c+Inz9ceHwWDaTFX3gqrsur6ZHoot/U8dmVFQVRyakej5OvhWUExxRk1PEYTfut08rLo938no6f8/9sSv9Ry0PGL821Mbh0xkPalKmwOIcFrsqLTfx6r3n1vvvjrDx7D3HTduUom3qpm3i1Xdeuu9zgfEt/MisqaOXVdLLKuura7lfH1zAojGYbRpEzGGzqUmZuU/fVWcVNHqE5FtBnr3nUHTMHkyyrc7Ib3QMdAIBIAAEgAAQAAJAAAg0RYDD4RQUFDx9+tTV1fXq1auurq4PHjzoYLWrKdtE93M4HAcHB9Rwbd++ncViiR7/tXfDw8MHDx5sZGQUExPztXNbPf7p06eKiori4uInT55s9SI/3MS4uLhTp049f/5cwHOTTqf7+flt2bLl77//fvToUXR0dHJycmZmZk7DlZaWFh0d7eLiYmNjs3LlyqdPn7b5O/AdSdJotKVLlyKEJCUlL1269B0t+aqtqVRqbm5udXWT+fGJ1SorK4uLi5nMRnw7iDFt1UhNTQ0PD6+pqWmrBUWvA8KfaD5wFwh0OgKZ91549Z1HIZsFTd9Yk10oYF95QnrAuDVu2qYPpqyvTM0RuMvlcpk1dem+z57O3+M7eLFn7zkePS289K0eTLZNuOBNr6gSGF9XVP5m298ePSx4FUV4uQXNcGkRio75gynrU92DmTU87z9GRXXG3dDI3ecDJ6z732CyGYVs6qZt6qZl4tFrdgolWGBx0R85bE7Zx5S4U24vlh0INt36yHRr6NI/oxyuZNwNbdSNkcNi0curWLT/JQrkMFnZQa/DN5wIW3Mk3fdZo955om1oxV0WvR7HWVPIZk8X7KWXCyJtxZowBQgAASAABIAAEAACPwkBNpudkJDg6Og4YsQIRUVFSUlJiYZLXl5+0KBBV69epdP/93/2OiETBoNhY2ODhT9bW9s2VxDc3NykpKQQQocPH27W6ayt+AQGBnbp0oVEIl24cKGt1vy+6zCZzKdPn+7fvz8wMLBRYS4nJ2fSpEkIocGDBwu4tvn5+ampqSGExMTEFBQUVFVVtbS0yGSyTsOlra2tpqaGnxFCyMDAICEh4fsetg13Lysrmzp1KkJIQkLizJkzbbhy+y1VVla2fPlyMpm8detW0SpbamrqnDlzBg8efOLEidra2vYziff1mcGwtbVVUVG5fPlyx/wgg/DXrg8UFgcCbU+A+iUr4NfVFLKZz4CFec/f82/AYbFjT9zGVWVjjtzgsNj8d7lcbm1+SeTu8179eHU/KGQznirXUF6DQjbz6D0n2tGFWUsjprDq6FEOV3BKQV5wsa65V9953v3ne/SaQyHzXPm8+lm9tXOqSEiPcnDx1JvbUKmDV+uWomvuO2hRsNm2iM2nog+6xh67+fny3brCMmLlZhu1+SWfznjcH7sS+zbyrG0w1U3b1FPP8pHJli/XAwU0tazAVyEWO97uPEdslHE31G/YUnxGv2FLsh++bnbfbx9ATc4KnLiOZ7aO2bt9F9nMNv4z77dbCCsAASAABIAAEAACQKBzEiguLj569Kienh4WzoT/rays7OHh8d2NF/FFvaamZu7cuQghaWnp69evt7mpbm5uMjIyCKHly5czGP8qMdfmexELBgQEyMvLS0pKurq6Ep00Gi03N5dKpRI9P0qDyWS6urpqa2sjhMzNzSsrK4UtDw0NxdHNioqKz5//L26JzWbv3LlT+M1sqkdDQyM6Olp4/R+0Jz8/f+zYsQghZWXlJ0+e/BCnyM3NHTlyJEJIQ0Pj1atXTdlcX1+/Z88e/BxVVVVfvHjR1Mg26afT6UuWLEEImZmZNfoGtsku/IuA8MdPA9pA4AcgwKype7nqEIVs5t591seTd/ijXysSM3mqE9nUf+SykijBWhl1BaXh64+797DAKQKDpv3+/o9Lb7afuf/LqoZOc78h1gVh/4sayH0S6Tt4MUWHp+U9MtkS7+SVFRCW+/htqntw5C4nf6NlPBt0zQMn2XobLKDomvMER11zb4MFkbvPF735RC+rZDGaSWzBc9Mrq2TzDWPV0bMCwkJm7/ToacHbuvssio65l76V/8hldw1tvPrOxZqjZ+85YWuOUJP+qWvMYXOiD1x10zLx7j8/P5T3H9fSmC+Bk2x5J+0+q2ERs8dzdzVai6NtH3mii79Hrzk8kbSfVeb9l227OKwGBIAAEAACQAAIAIH/KoHY2FgLCwsJCQn83VtaWnrAgAE2Nja2trbm5uYKCgq4f8WKFd8xdRqbzX706NGOHTvCwsIEIkDxcykuLh4/fjxCqFevXh8/fmzzh0UIf0uWLOkw4c/Ly0tWVlZGRsbd3R2fiEql2tnZ9ezZc968eampP1JKa6z6qaurI4SUlJRcXFwafY43btyQlpZGCI0ZMyYz838JjhgMxm+//YZfRTU1NQMDAy0tLWVlZTwY9xP/VlZWXr9+fVnZV3g/tPkL81ULMhiMO3fu7NmzJy4urtGJ8fHxPXv2RAj98ssv+fk/RkajmpoaKysrhBCJRDp9+nSj5+JyuU+ePCGTyfjZde/e/d27d02NbJN+Op2Og6aHDh2akdER1SBB+GuTBweLAIEOJRB/3osn1ZHNni2yJxzfOCz2x79u4/6Xqw7zMuLxXfXVde/tnRvUNDNvfasoB5eqjHwuh8Nmsio+ZzxbuA+rgQkXvPEkNqP+7c5zDeG95gHj1xa/+5ePOpvJKolKjNh86q7hbz4DFnj1s3JvEP4ouub3x67iVw/5TGikmXnv5SPjLYku9wjnxDSvJz4DF2JZEwt2j4w3Z957WZ1ZUJmSnXE3NGztUd6AhrjjJ/N2E6kGP1/yde9h4a1vlRvytian8PmS/TwtUtfco6cFzzZdnnqYFdjkH3kaMe7ru2rzikNm78S2hVjsqM0r+fo1YAYQAAJAAAgAASAABH46AuHh4YaGhvhbt7y8vIWFhZubW3Z2NoPBYLPZxcXFJiYm+O7SpUu/Y7RvVlbWqFGjEEIDBgxoNMteenr64MGD28+Rh0KhyMrKIoRmzpyZm5tbXl6elpb25s2b4ODg169fR0VF5eXliXBIbN2L5ebmJi0tLScnd+/ePbwCUe5DTExs+fLlP4q2xWazb9y4gVU/WVnZY8eONfouMZnMTZs24Ux2586d44dWVlY2bdo07NF55syZwsLClJSUsLCwO3fuHD16dM+ePRs3bly7du22bdtOnDgRGhoqOraUf+XO0I6KiurevTtCaPLkyTk5jeSMev36Na7vvH79+u+ov38VKw6Hc+DAATExMRF+sunp6TiyGyGkrq7u6ura3qdjsVhbtmzB2719+/arTtS6wSD8tY4bzAIC35NAYfjHBl88M7+h1oWvYrEp/+/uZ+alNzfVI0TAvnSfp97951N0zH0GLPx82Y8/4R2DWv1q3THsHPfpzD/RE7Ti8hCLHRSymWcfS16RkMYqf7BodGpSZkF4bNK1AP+RDQ6ADe5198eujPubUp3ZeO0LwjAOi/1uz4U76jNDLHbQistxf9wpN6whunef5dHDInTpn2VxKcQUXo7CWlru03eP59jxYop1zMJ//6u+iidxJjj/I/x9dvYNW30Yi4aBk2zjnbxCZm1vGGwe5eBCKIz8a7ZNm8P57Ozr2Zvn7uepN/fLjcC2WRZWAQJAAAgAASAABIDAf5pATEwMjsXDgtrNmzf5A0g5HI6vry8OzEQIWVhYdExkXKPIP3361KNHDywJubi4CI8JDw/HCeC2bt3aaPI44Skt7OFwODU1NefPn8fOZXJychMmTBg7dqyOjk63bt0UFBRUGq5x48alpPzr/zy3cH0Rw7Dwp6CgEBLyz1eM+Pj4QYMGYSlWSkrK3t6+ro6X+LuTXy9fvuzTpw9CSEpKys7OrqlqD3l5eTig1cDAICkpif9QMTExWBrr37+/QO4/PIzNZrftc+ffvb3bISEh2LW2a9euwcGN5Gf39PSUlZWVkJC4ePFiexvThuvfunULB8gbGxvz/27BW5SUlCxfvlxcXBzLcC4uLm2emrPRs5w5c4ZEIsnLywcEBDQ6oG07QfhrW56wGhDoCAK04vLHc+xwpG3Un1c4TBaHxYo9fhOH8YbM2l6bW8xvR01u8WPsiaZrfm/0ig+HruWGvK1Ky63OzM9/ER2+/jgvhFbX3Lv//KygcDyR+iWLl2KPbHp/7CrCq45/Tf42h83OfcIT47BHIUXHzKOHRdD0jQkXvKvSm/yrI4fNjnZwcdM2DRi/tjItFy+Y7v3UU28uT/vrYRG+/kRt3r8OQmxKTcp8MncXRcfMd9Ci/Be82N6YIzcoOuYePWf7DV2CzQicsBbfynv6zmfgQjdt0+dL9jMq26ZwEovOqCsqr80rrs4sqM7Ir8kpynv2jpd7kZfdz/z5kj9pJRWEtdAAAkAACAABIAAEgAAQwAQqKir43azy8/NxUjyE0MiRI9+8ecMPis1me3l54ehCLDP16tXrO1ZLSExM7Nu3L7Zk27ZtwhLPtWvXpKSkJCQknJyc+A/SujaVSn38+PG1a9eOHDmyefNmU1NTQgDFNgj8W1JSctiwYW3OBwt/SkpKL1/+k8eGzWa/evVqyZIl2HtOVVU1MjKydWfssFl5eXnGxsYIIXFx8RUrVojwUnz06BFO8Ld69Wr+d5XL5d66dQsLr7Nnz25KN+ywE7X5Rs+ePVNUVGyqaC+bzd67dy9CSF5e/v79+22+e/steO/ePXl5eYTQkCFDBOJq8/Pz165dKykpiVW/K1eudIzqx+VyL1y4ICEhIS0tfePGjfY7O7EyCH8ECmgAgR+GAIfNjjl6A7u8PZy+sSanqPxT2v1fVlF0zDx7z0m8+o8TPnGeL9cDPHtb8uJeGxL8Ucim3vpWdw1/8x+5zGfAApzFj0I2e7HsAK30nwS9JdGJfkOsKWSzwAlrq/5flSMWbLRRm1/y2dn34YxNnr0bqn+QTd17WAROXBdz5HrZxxR+H0Nievw5T/fus3wHLy56+wl35gS/8da3ouiYBYxbXZGQTowUbiTffMDLptd9VsIFbw6LFbn7PIVsivMMUnTM/Y2W5TyKwLNq80semWxx0zZ9ZLz529P8sRn1OcFvXm88GThhnf+o5f4jl/H+MVrmO3gxzifo0XP2+z8u1eQWcdiN+UkKnwR6gAAQAAJAAAgAASDwcxD48OHDzJkzHz16lJ+fX1JSwuFwjh07hr916+rqPn36lB8DjUZzcXHR0dHhl7dUVVWjoqL4h3Vk+9WrV926dcP2WFlZCbi5ESGiXbt2DQoK+kbDqFTqpk2bFBUVibyH/BxwW05OTl1d3cjIaPXq1ceOHfP09IyPjxeWI7/Rkhs3bkhJSamoqAioe3V1deHh4ccbruzs7G/cpV2ns9nsU6dO4WK7o0ePTk5Obmo7Fou1a9cuHMx7+/Zt/mFMJnPjxo24nu+ff/7Z5iHV/Ht9l7aHhwcOJEcI2dnZCWQ/rKqqmjVrFkKoR48esbH/xJx1vJ00Gk1AjW3WhujoaPxrRFlZmb9qR3Jy8rx580gkEkJITU3t8uXLbav61dTUFBQU5OTk5OXlVVRUCLwwWPiTkJAQUSybTqe3lUkg/DX7nsAAINAZCRSGx/oNXcIrfKE3N/HqvZjD17G7X7DZtursQn6L6aXUpwv2UchmXn3nvbd3frnykGdvS14F3obCvryEdA01Op5Y7ir7+L+4gMLwWJxr7+GMjTX/9h/kX1y4XZNbnOoeHLb6iN+wJQ2Lm1J0eTLcu70XS2O+cNj/KjScfPuhR+85nr3npLg9wkvlPIrgCX9k0+fWf9SL9M7jBQXzyonMivubwqIxwn//ixD+vPWtvtwIJPZi0RmvN5100zIJnLCuKj1P2OaW97BojM/Ovr6DFvFqjOBaw1omvEZDCRQs/Ll3n+XVb96DybYfT94ReBYt3whGAgEgAASAABAAAkDgP0agsrLS0tLSwMAgJCRk6tSpx44dKy8vnzx5MtawfvvtN/68WllZWdu3b+/atSvWWVRVVXGw3vcV/q5du0aUcZg6daqA1xiRAG7o0KHp6aL+gN2SJ/vhwwdVVVVhsQ/3aGho2NnZ+fn5ffz4saSkpK3UgUYNu3DhAolE6t69+6dP//ypvtFhTXVSqdS3b9/euXPn6tWr/v7+aWlpbS5NNrU10Z+dnY2TM3bt2pVCoRD9wg0izldPT0/Ad7KwsPDXX39FCHXp0sXf31947g/dQzj04RdMOJlmSkqKgYEBQsjExKSiosnYJhqN9unTJ29vbxcXF3d3948fP9JotDYhw+Fwnjx5snjxYjs7u9LS0pavWVZWNn36dOzsuWvXLvz6vX79Gtfhwaqfs7Mz/+8f4cVrampKG67q6moBCU94cF1d3c2bN2fPnq2vr08mk3v16jVp0iRcFIj4URUh/LFYrM+fP588edLa2nrr1q1paWnCW3xtDwh/X0sMxgOBTkGAQa0J/c2xQbOb5TvE2mfgQl5quT6WSdcE/a6LI+P9hlpTyKZP5u2uKyqnl1el3Hn4ZP6euyOW+g5ZfHeEzSOTLbEnbldn/qswU+7jt7ycgGSzhzM3taJIBbOOXhyZELn7PC/3n455gzRm5j9qeYKzb331/zKAZAWEefWbRyGbRe6+gF0C//H4I5s+sdpD1C0RJl4WlxI07XcK2cxnwILsRxH11bXPl/xJlAR5s/0s/y5cDifm6A1eXPAQ6+LIeOHVWt6T6f/CZ8DCBplvlre+1cOZm8PWHHlksplXQuSf8sG8UF9KQ/5B9+6zQix25D6OZDNZLd8CRgIBIAAEgAAQAAJA4L9HgMPhnDx5UkVF5eLFi7t27dLU1Hz69GlhYaGRkREWGlauXJmZmZmVlfX69eujR48aGRnhrFsKCgobNmwIDw+fOnUqQug7Cn9MJnP9+vWEEmdoaCjg5kYkgFu6dGlTYgedTs/Nzf38+fOnT5/S0tLy8vIE3AaJR5+enk7AUVJSGjly5NKlS42NjbGD5OTJk8vL/8mRTUwR3aivr8/Ly0tMTIyLi0tNTc3Ly2th6YkTJ06IiYkNGDDga7MH0mg0Pz8/ExMTVVVVaWlpCQkJOTm5fv36OTo6FhUViba2be+Gh4erqKgghHR0dPh9voR3CQwMxHKzjY2NwKMJDQ3FUqyenh7O/UelUpOTk4ODgy9fvnzixAkKhZKcnCzgKCe8RefsqaysNDMzI15vc3PzqqoqflODgoJwBsCmvB3ZbHZERMSyZcvIZDJOBSgtLa2trb1q1SoBCbW6ujo4OPj06dMC/fzbCbcfPHiAA+0HDBjwVcI6m812cHDA9T3U1NQ2bty4ZcsWPT09fNju3buLqObB4XA+fPhw4MABCwuLMQ2XmZnZ1q1bPT098/Iadyih0WgnTpzAbxHBEzfIZLKDg0NBAS8VfqPCX3l5eXBw8KZNm/T09LDBCKH9+/d/+0sFwp/wGwU9QODHIJB8K8izj6W77ixctZaiY/bIdGvNv939uFxuuu8zT725FB2zDwddib9OMKjVFYkZJVGJ1KQsehlVOCj1/z3vGkJ9W+Alx2GxGBXVhJMdJsiuZ5bGfIn684r/qOU8LYzMKzwSc/QGs/afP/vkv/zA09G0eaIkvYwXZVz2MfneqOUUstndETbZD18LPwlmTV1O8Btcr8O9+6x3ey4wa2l1hWXBZltxOd3ACevKP6UKTEzzeuLZx5LnWkhpJE+twOCmPrJo9PANJ3h+hbrmd4cvTXUPoZdVlsWlPltkj30PPftY+hvxwn69DRY0GMMrP+I3bMmnsx5tlVuwKdugHwgAASAABIAAEAACnZlAeHi4rq6utbX1nTt3VFVV7e3tWSxWTU3N/Pnz8VdiWVlZcsOFBRqEkKysrImJibe3d21tLZVK/e7CX05OzujRo4lv8r169YqP/9dflCkUioyMTFOlDzgczps3b1auXNm3b18NDQ11dXUtLa0+ffpYW1snJiY2+uzCwsJWrFixf//+Z8+eFRcX19fXR0ZGkslkhJCwv2GjKxCdHz58sLW17d+/P7F17969582b12htYmIWl8vlcDj79u1DCBkaGjZa6ZV/MH+7pKTEzs4OJ8sjoOEGiURau3atcJkF/ult2w4LC8PlaBFCw4YNu3Tp0tu3b5OTk9MbruTk5KioqIcPHzo7O0+cOBEbuWLFitpaXglBfLFYrL1792ItRkNDY3PDNWXKFF1dXQUFBRwuKi0t3a9fPxcXF9G+Y/+/ZOf63w8fPvAn0xw/fryAOHv48GExMTEFBYUHDx4Im06n0y9fvsy/Av9DnzhxIhFezWAw9u/fj3UxS0tLAbdZ4ZVxT1RUFK4nIyYmtmHDBv5H09QU/v737983atvIkSOfPHnSlKyWm5t7+PDh3r17858Ft2VkZIyMjJydnYX19xs3bvC/9jIyMgoKCthhGSFEIpFmzpz59u3b8+fPSzRczs7ObDY7KSnp3LlzU6ZMIRRDMTExNTW10aNH37x5sykL+c8oug3Cn2g+cBcIdF4CVel5PK83HTPsa+bRc3a8kxeXI5hX7sv1AI9esylks4gtp1n0+haeJye4IeRWx9x30KLC8OaTOBS8/PBk3u4Ph65Rk7IEtuCwWGWxye/tL+FKxN7956f7PsNjSmO+8CKCyf/Lvseso0dsPsXzENQ1v//r6oSLPuWfUmuyC6sy8osi4xOv3nux4iBPK2xIIBi25mhNLu+vhZWpOQHj1uAUhwkXfYR1zJKoRL9hSylk03f7nFvtf1dfWfPcej9Fmyf8+Qxc+G7PhY8nbgebb8eqH0XH/PWmk9WZ+dXZhXnP3r//49K90csban3wKiNHO15l1vzP1VEAEXwEAkAACAABIAAEgMB/mEB5ebmZmZm+vr63t7ehoeG4ceMICSk4OBjXyeX/ai0uLj5q1KgbN24QokBeXh4O1Wx1wOm34w0ICCC+kyOElJWVX716RSxbX1//+++/47DBsLAwoh83mEymm5sb4WREHJbUcK1cuTI1VfDv1ngig8HgXyo1NXXAgAFfJfyx2Wx/f/+BAwcSm+IGiUQSFxdfsGDB58+fCecA/r1wm8ViYT/HX375pbDwXwmFWCxWaWmpgIV4VllZma2tLc5OKCYm1r9///Xr169Zs0ZfXx9rZF27dr13TzAvufDubdWTlpY2bNgwgoCUlFS3bt20tLS0Gy4tLS1VVVVCv8PD1NTUHj58SBhApVJxbRBikaYa6urqnp6exMQfpeHk5ISdSfG5Bg4cyB9hSqVSzc3Ncd1tYcfP+vr6M2fO4MIgCCFtbe2lS5du3rx5zJgxWPASExNzcHDA6lVJSQkRY9u9e/e4uLhmEZWVlS1YsAAbNn78+KZ+WESsw2AwduzYQfjQEUt9+PCh0Vl1dXW+vr7jxo3DryseLy8vr6WlpampSWT0kySVAAAgAElEQVRClJaWnj9//ufPn4lFkpOThw8fjsf37Nlzz5497u7uQUFBHh4ee/fuHTRoELZh4MCBixcvlpKSEhcXnzVr1po1a/r06cO/l76+/qFDh6KiosrKyr5d9eNyuSD8Ec8IGkDgByPAZrKi/rzCc/fjpboz58WxvksQPkPmvZdefedRdMzujV1ZEt34nxOFZ+U8ivDSt+LVA+k1J/lWI3/V+dcUHEurbcrzOjTenB0UzqBWc/+tQNJKqTx3uYaw35erDmMVrCojP3CirZt2Q2BvWSVesygi7v7YVTgLoUcPC79hS3hudCP/qZ7hpmXipm3qO3hxlMOV2oJ/kjvQyypfrT3qpm362NKu0fId9PLK0KV/ummZPDLZ8lUpC/mPyWGxP1/2w7VHeJVVyKZuDUfGHpehNg6VqTnEeA6LXfIhKWzNEay6+g6xLopo/r9qxHRoAAEgAASAABAAAkDgP0Pg9OnTSkpKZ86c2bJlS7du3fg9hlgs1v3796dNm4bFFzU1tVGjRv3111+ZmZn8x09KSurXrx9C6JdffsGBcvx3O6DNZDK3bt2Kv8/jf8vJyXl5eRFbZ2VlGRoaIoRGjx4tEANIp9PPnj2rpqaG66UOHz589erV+/btO378+NmzZ/G5fv31Vxw9SizYaCM3N3fkyJEIobFjx+bn/ytRT6PjmUzm9evXcWUDEok0aNCgFStW7Nu378iRI+fPnx86dChCaPjw4U3JH1wul8FgLFu2rFGp0dvbe9SoUU5OTgI5++h0+h9//IEracjKytra2iYmJrLZbBaLlZycTPh47t69W4Tg2OhxWt3JYrE8PDxwijr+hyi6vWnTJiIjW21t7cKFC/nHi4mJqaio/Prrr7t27Tp79qytra2WlhYe0B61lVt99pZMrKqqsrS05D9dt27dwsPDibnv3r3Db9HcuXOFyxl7enri+s7i4uLGxsZhYWFYDi4qKvrjjz+wnmhiYlJZyfu6l5eXxx/DLqySE5viRn19/fHjx7GA2Ldv39DQUIEBLfyYmZlpbW2NX0v8k3j+/Pmm5t65c4dwPcZYRowY4e3tnZaWlpiY6OHhMX/+fMKtb/LkyYT2d+XKFbyFkpLSrVu3BNZPSUmxt7fX09PDv+iIhKH85FVVVW1tbZt1xRVYudmPIPw1iwgGAIHOSyDjbqin3lxc3jdk1vZGNa/K1JwHUzbwHAN1zV+tPUorbjIVK/85yz4m8+JztU29+8/PDmok5JZ/MJfLTXK979FzdoODm7m3wYKn8/dGObjEnXL7dMb909/uMYevv1jm6DtokXv3WRSy6bPFf/CUQS63vqr25apDd9Rnhq05wqyj4zU5bHbes/ehNg53R9h49rbkKX2axrx/tE29+lkFTlj7dsfZ/BfRLPq//v5ZlZ73/o/LRCVfAfO4XG7u40jfQYuCpm+szuRlVWjdxayjJ7rcuzdmhXv3WW7aPOHPTdvUo9fs0N8cG619TCupiNx93qPnbK++c3NC3rZuU5gFBIAAEAACQAAIAIEfl0BUVFTv3r0XL17s7u6uqqpqZ2cnHAhJpVK/fPny/v372NjY4uJi4cO+efMGp1ebPn26cGyd8Pg278nLyxszZgxOEjd8+HDstmNnZ0doXl5eXvLy8gihtWvX8jvBMZnMc+fOYWcoNTW1w4cP5+bmEnJSYmIijkAUFxd3dHQkVmvKfkI0aUnGPTabffPmTazIKCoq7t27NyMjg4Cfk5ODhT+E0JYtW/ht5t+dRqMtWrQIl3TAwg2+S3gCjhs3TiAmNCAgAD8seXn5AwcO8GfKq62ttbW1xTLH1q1b28SVid9aEW0Oh5OQkHDgwIGxY8dqa2tr/fvS1tbW0NAgVCFcCOLUqVP8C4aFhS1fvnzixInm5uYbN248d+5ceHg4UWWCxWJ5eXnp6uricjQ7duwgUPMv0jnbsbGx+D3s16+fvr4+QkhKSury5cuEtSdOnMAuosePHyc6cSMxMRH7uElISNjY2Aio3pcuXcKa3fTp03FJkOLi4gkTJuB3YNiwYYRfIYvFqqysJH40iF3u3r2roaGBEFJUVLx+/TrR34pGWVnZ2rVr8Q+v6HK6OK4ZG0kikczNzQXE8dra2ocPHxKuizY2NlVVVf/H3nlARXF1cXzAoAbNZ8EKxoKwu/SqgC2gqDFGwN4w9oKKBRVR7LEbUbHH3ltsYFfs4sICC0iHXaT3tsv23dnvDI+Mm6UISudycpI3M6/c93sznvD3FolEsmDBAjRq3rx55ebQlEqlbDb77du3Hh4eii6WGIb973//mzZtmp+fX3XLFlcFBQh/VaEEfYBAAyVQGJv0YKjLpW6/lmbEKxPnSyTmkOGRR29d13Yi3Pe0nfyX/VVRZVtxUXFuaBzrxvPIo7cy34dGHL75j/HU17O2CnK+rhXys/KDNv9dUu52NKoUTOpiqIFK36LiwjGn7pHRuGkvGS8mesRfeqQUpCzm8gqi2OxbL8L3XwndfSF094WIQ9dTHvsXp2ahMiBlj0QmlpDTln0q5QsTb7/MeMfEv6/UBi6V5UeyYk7fJ6zadT5s36WE68/4mXllV0R3BLmFobsvBLgfLpt+saIhcB8IAAEgAASAABAAAk2DAJfLnTJlCoVCefDgga2tbf/+/RMTE79ha48ePUKFBRwdHcv9dfob5qzWkEePHiHxbu3atZcuXUIaH5kHDW0Tw7A2bdoougHK5fJnz56hrHzt2rU7duyYkq7h6+vbtm1bpBTQaLSvls0lhT89PT0yaVpFG/H390fBxT/++OPu3buV1IQ3b96QPk29evWi08v/K+ri4mJHR0cMw5TIy2QyNzc3DMP09PQUYz9zcnJGjRqFdtS9e/fly5ffuXMnOjo6ISHh9evXc+bMQehat259/vz5iiyv1fs5OTkJZX5YLFZwcPCgQYOQbNezZ8+5c+cmJSmnMBKJRAUFBRXVdZXJZN7e3igO1MTE5Nte9Vrde0WTHz9+XE1NrWXLlseOHdu9ezeKOZ06dSoSbdPT05HC1a1btw8f/uMRIhaLPTw8UB0edXV1Z2fn8+fPh4WFsViskJCQTZs2oZcfwzBXV1ekhHK5XAcHB/SGrFu3Dom/Hz9+dHV1HTZs2KlTpxTlbwaDYWxsjIRIT09PRRG5or1Ufp+s0FK58Hf58mV0jqqqqtOnT09NTS132sjISJQUUkND48WLF8XFxSggWl1d/fbt2+UOIW8eO3ZMSfj77bffSB2Z7FZTDRD+aookzAME6oEALpNlvA8N338lyeetTCKpyAJBTsG7BTsJx8CSuOBHI5dFHfsn71MCLz2Hl5HLTc5Mfx0Svv+K3xTP26bTr2s7Xer2a+D6Y5JifjYjipP49SACtK5UKE59HvBm3vbbps5XezkQYbD//kO0tUbf0B3/cNjimNP3FbPd4TJcVFQsE1U1+WBFe2zI92USadWzKzbkjYBtQAAIAAEgAASAABCoFoGbN29qaGh4eXn9+eefGhoad+/erdZwsvOVK1fQ7+HOzs5KAhbZp/YaEolk5cqVKK/fy5cvWSwWSrTXoUOH58+fy+XyBw8eoEjefv36KapFXC4XxYeqqamtXbtWqdSvUChEaQGRCKKiorJ27drK3cRI4U9fX7+s8CcSiUg4QqEQOR+1aNFi8eLFShVaUakKpNeg1RctWlSuqkIKf2PHjlWqqLB3714U7qqY6/DKlStI2iMTlqmrq3fr1k1TU5MMjcQwzM7OriIxpfbOsfKZc3NzkSeatrb2u3fvlA6r8rHk0/T09AEDBmAY1rFjx68GsZKj6rdBxvnq6urGxMS8f/8evcw6Ojqo6u7x48fR1+fk5KTo9SmXy0NCQlDtC1VVVeRJp6am1qVLF01NzU6dOpEvWJ8+fUjFkHyj2rRpg9SxnJwce3t79B5SqVSyZk5aWtqYMWOQFDt79mwy4+f34EpOTjY3N0ehvseOHatoKlKRp1AolcvxJ0+eVFNTU1VV3b9/f05ODtIB27Ztq5jQoNxVrl27hqiijWMY1rt378DAwHI7f/9NEP6+nyHMAAQaAQHu5/R3Lruv9x1LeN5pjUa58+71n3XPatbdfjNv6RNVaEvkOSJ29QZlfPTf3/i/ZRKeIC80LuaMT/CWUwFrDwesPRKw9kjw1tOfDl1PevCeyK9XnltiIyAIJgIBIAAEgAAQAAJAAAhUh0BaWtrAgQPt7e0fP36sra09f/78bxNT5HL5iRMnkHfM0qVLFR2CqmPOt/dlsVgoKtba2jo9PV0oFDo7O6Nf1xcvXsxms5GbD4Zh69atUzQvOjoa+dzZ2toqhUDK5fInT56QWeHQbL169fr48WMlhmZmZiJdqWxN4czMTDc3t+XLl6MciMnJySjnYL9+/coWQ3j//n2fPn1IxQHDsK5duz59+rTs0qRM4+DgoJTc7fTp0y1Lfs6cOYMGcjic8ePHI/+sRYsWOTs7q6urK66C2v369VPMH1d20Xq5Ex8fj/TcESNGfHPFYbFYPHv2bAzDqiL91Ms2yy768eNH5Jc3fvx4Ho+XnZ2N1Cs1NbW9e/dGREQgpaxVq1anTp1SHI7j+J9//on0vt9//93NzQ0phkon3rNnzwsXLpDfBenx17FjR39/f6Sba2hooFGtW7e+evWqXC7Pzc1dsGABqg9jb2/PZrMVl/7mdl5e3tChQzEMa9269aVLlyqax8fHB7nikqkJK+r5559/ItFz586dqampKH1h+/btX758WdEQdJ9cwtDQEBHGMGzx4sXf/Idk5cuB8Fc5H3gKBJoOAWEBJ/b8g0cjXa9rOym5413uPoqoVGs45YHtovcuexLvvFJ0yvtmBLhUiv755hlgIBAAAkAACAABIAAEgEAjJbBr165OnTpdvXr1jz/+0NXVrUr5zop2um/fPpRibMeOHRX1qb37vr6+KNCYDFc8e/YsSszfvn37IUOGIHlLU1OTdGtCxrx9+7ZDhw4Yhs2ePVspyJfJZKKkgSoqKoaGhigpHoZhs2bNUvLOU9xXUVHRb7/9hmFYp06dlJyDbt++/eOPP7Zp0wa5GoWGhmpqamIYNmHCBCUpISYmhnSw0tPTI8XHsWPHlo00JIW/YcOGKblc3b59G2188eLFyFExLCwM1Wi2tLRMTEzkcDiXL18eNWpUt27dOnbs2KVLFzMzM3d39+joqtYbVNx7bbeDg4NRPsSyvo1VX5rP56PqJe3bt//mMhRVX65Geh49evSHH35o0aKFl5eXXC6XyWSenp5IhtPU1Bw4cCBS34yNjZUU5IKCgpEjR2IY1qVLlxcvXkgkkufPnzs7O/fq1UtDQ6NTp05UKnXWrFlv3rxRTOZYUFAwYsQI9A4zmcy4uDgbGxtSK1RRUVmzZg2LxVqyZAnS+ikUiqJL6XdumZQ127Zt6+PjU9Fsvr6+yHF12LBhlSQVZTKZ6K8EOnTo4OPjw2azUfnsqpz+0aNHUU7JxYsXX7p0CemMGhoaly9fro2iNyD8VXTWcB8INE0CxanZCdeeBqzxfjbO3dd20aMRS5+Nc/+48kDUsX+y/MP5mXlSwX+KZjRNCrArIAAEgAAQAAJAAAgAgdokEB4erqOjM3v27IsXL2poaOzbt+97VtuxY4eKioqamtrx48e/Z55vG7tz504VFZWffvrp/v37aIaYmBgajUaqFagxduxYJc0uICAA1SUwNDQMDg5GY/Pz82/fvt2/f380ytzcPCAgwMvLC2mLP/74o4eHh5LERppNOhv+73//e/bsGXlfLpdv27ZNRUVFXV0dxVNHRUUhnz5tbW0y5rSoqOjBgweDBw9GXlr6+vpv3rw5ffo0kh1btWq1dOnSzMxMxWlJ4c/S0jIlJUXx0YsXL1Dew6FDhyLF8MGDB0i/mDNnDil0FhUVRUZGfvz48dOnT9nZ2aTnl+JUDaEdFBSEOEycOLHcqOeYmJhTp05VXnz57t27SG+l0WixsbENYV+V2yASiebNm4dhWM+ePYOCglDnV69elfXdc3NzI88UdUtISEA618CBA8kCLwKBICEhgU6nh4SEpKamli0aU1RUhLJAdurU6Z9//pkxYwZ6G8mvqWPHjnp6ekgU69ixYyV+eZVvrdynpM09evQgP8myPYODg5GErampSX71it24XK6Pjw+SLFVVVZcsWcLj8eLj41Hl6J9++unhw4eK/ZXaTCYTOeSqqKhs2bIlNzd36tSpiEDPnj1Pnz6dk5OTmppaieaoNOFXL0H4+yoi6AAEmiABmUQqKuAKsvMFOQWiAm5F5TKa4M5hS0AACAABIAAEgAAQAAK1TEAkEi1ZskRbW9vHx2fw4MFDhw4ldYFvW/nIkSM//PBD69atr1279m0zfPMooVA4ffp0DMP69u2LUp7J5XKJROLp6UmmMEORg2VLjubn548ePRolKbO0tFy9evXKlSuHDRv2v//9D/2Sb2pqiryZ+Hy+p6cnEjtatmw5c+bMcktDSKVSlLmvZcuWinGX4eHhKFqQSqVGRUXJ5fLi4mJkNoZhRkZGK1euXLVq1ciRI8lEe3p6ek+ePJHL5WKxeM+ePSjdWIsWLcaPH6+obZHCX8+ePUNDQxUxMhgMJA/1798/PZ1IC06mLXNyclKKC1Yc2DDb/v7+qNrJgAED0HYU7eRyuc7OzioqKtbW1vfu3SubilEmk928ebNv377oZOfOnVuueqg4Z0No5+bm2traYhg2ePBgsqA22iypxGEYhopXKBlMepWWm3FSqTN5KRAIkMilpqb2888/I7e+Vq1ade7cWUkBVFdX37VrF5m2kpzhexrPnz9Hn4CdnV1OTk5FU/F4vFmzZiECOjo6+/btYzKZbDY7Pj7+/fv33t7ejo6OSPVWVVWdPHlycnKyXC6Pi4tDwp+amtrhw4crmhyFSKPJW7Vqde7cOblcHhkZiVyAUZy4jY2Njo7O5MmTyUOpaLYq3gfhr4qgoBsQAAJAAAgAASAABIAAEAACQAAIfJ2An59f165dN2zYsGPHDg0NjXv37n19TKU97t6926ZNm7Zt21buR1PpHN/4kM1mI03NwMBAsXxtdHS0qakpKY4MGTJEySEOrXfv3j0yfxnZGcMwVVVVOzu7gIAA0qy8vLw5c+YgMVFFRcXOzs7Hx0fJYQrHcXd3dzTP8OHD/f39P336dOHCBZSUTUVFZf369aRblp+fH1lTVXFpDMNsbGxev35NLs3hcJYtW4YiOtHTGzduIN1KLBYjqfHHH39EydfIUSwWy9DQEMOwoUOHIhfFp0+fIjVEU1PTz8+P7NkoGnQ6HXn8de3aVSmMWi6X5+TkIIEMxahu2LAhNjaWw+GIRCKxWJyamrpv3z4yaFpPT0/xZBvy9ul0es+ePTEMs7e3V/Qve/36dY8ePcjXZtq0aUplPeRyeWJiIiq526pVq0OHDlV9m7t371YUzdXV1Tdt2uTj44PqhKBFW7duvWHDhhov4Y3qF6NseuSXUq7l7969I2XcFi1adO7cWVNTs3v37h06dCAFSg0NjVWrVpEyMSn8YRg2Z86csuowWgjHcQ8PD7RNCoVCFjP58OEDcgMksXfs2LGmsmGC8FfuKcNNIAAEgAAQAAJAAAgAASAABIAAEKg2AVQk1MTE5N69exQKZfLkyd//23tKSsqAAQPatm1b93nT7ty5g7J9WVlZkb/hIyjXr19HylqfPn0qUiQFAsGePXu6detG/jKvoqLy888/r127FnkJKfJNSUmZMWMG8oFCpW/Leko+ePAA5Q1UVVXV0NDo0qULyjaIYVj//v0Vw0vFYvGxY8dQxCK5evfu3V1dXZWStcnl8uzs7EWLFrVu3Rr1NDc3J10Oz58/j+5PmzZN0Y+PLOVBxsaiY0IzjB49ulwlVHG/Daqdm5vr5OSEYZiVlRW5d9JCmUx25MgRslZJixYt+vTpM3LkyD/++GPmzJlmZmbIWxPDMB0dnfv379dGmjbSmBpseHl5ofrLTk5Oit+pRCL566+/kGuqmZkZGQWsuLRAIFi4cCE6biqVqpTgUrGnUjs4OJisLaOurr5161Y+n4/j+OnTp3v06NG6dWtdXd09e/YoBc4rTfINl2Q1EjU1tRMnTlQ+g0wme/Lkye+//96tWzfycNFm1dXVqVTq3Llznz9/ruiQmJ2dTWbP3Lhxo2JmQ6W1bty4oa6urqKisnnzZkX9MTg4+LfffiMrYnfs2LHyaj9K01ZyCcJfJXDgERAAAkAACAABIAAEgAAQAAJAAAhUg8DNmzc7derk5eW1dOnSbt26vXnzphqDK+5669YtJycnRWGr4r41+eTmzZtI9hozZoySEiGRSF6+fLlr165Xr15V8ku+WCz+8OHD9u3bXV1d3d3dvb29Q0NDK/IGys3NPXLkyPDhwydMmPDgwYOyGfGKiorIGF4kQ2AY1qZNm19//bWs8iKVSoOCgnbv3u3q6rp69er9+/czGAxFqUKRVGFh4alTp0aNGuXo6Hjr1i3SwvT09HHjxrVv33748OFKtYmfPn06fPjw06dPkzrXqVOnkDr2ww8/TJo0ifRmUlxILpdzudzQ0NArV67s3bvXz8+PHK7UrY4vo6Oj9+/f/+HDh3Lt4XK5Bw4c0NPTIx2+SP6o0bp16xEjRrx69arc4XW8lyout3fvXuR8t2TJEkUFSi6X83i8e/fu7d69OyQkpKLZPnz40Lt3b7R9CwuL58+fl31j5XK5UCiMi4u7e/eul5fX1atXuVzusWPHKBSKkZHRkSNHeDweml8ikbx///7WrVtxcXHlzlORGVW/7+3traqq2qFDhyr+FQKHwwkPD798+fLmzZs9PDzWrVu3c+dOHx+f5ORk8gNRXN3X15dCoRgbGzOZTMX7Su38/Hxvb+99+/YppdSUy+UZGRk7duygUCgaGhpz5swpW29HaaoqXoLwV0VQ0A0IAAEgAASAABAAAkAACAABIAAEKiOQmZk5ZMgQe3v7q1evdunSZdmyZeX+elzZFBU8k0qlRUVFlehrFYz73tsRERHGxsadOnU6ceLEdwo6VR9eVFREqiFlN0Cn083NzdXU1Fq1aqWjozNnzpzbt29XVA8EDa/60hwOR9HzCw3Pzs4ODg5OTExU4i+TyQoLCxXjkQsLCxcsWEAGchoYGOzYsYPBYCQnJ6ekpCQmJr569Wrnzp2jR4/W1NREvorOzs6KM5Tdb4O6Exsbu2/fvpEjR2ppabVr165t27bt27fX1taeOnXqlStXaiojW51t+cWLFz179qzEZbVyS6RS6YEDB5BLLIZhWlpay5cv9/Pz+/z5c2pqanJyMoPBOHr06LRp07S1tZEibGFhkZ6eLpPJMjIysrKylN6oypf7/qfBwcE6Ojr29va1dFJSqTQsLIzJZH7PvmQyWUxMTGBgYNnw6m8mAMLfN6ODgUAACAABIAAEgAAQAAJAAAgAASDwhYC3t3enTp3OnTs3duxYbW3t8PDwL88aZ0sqlYaEhPj7+1eixNXxznAcj42NvXDhwrVr1+Lj42tKWq2pXaSnpy9YsICMilVRUdHQ0NDS0urRo4empiZZXQS5ibVq1erPP/+sJfeumtpR2Xk4HE58fPzLly8fPHjw+vXrxMREgUBQtlvDvyMUCv39/UNCQr75LeLxeHv37u3SpQvp/9iuXTt03FpaWp06dSIDV1GHKVOmFBQU1BcZiUTy6NEjOp1eXwbU17og/NUXeVgXCAABIAAEgAAQAAJAAAgAASDQdAiwWCwjI6Nx48adOXOmXbt2W7ZsqbqjWdOhADuRyzkczoULF2xsbMikgaQqhBrt2rWjUqkTJkw4d+5cYWEhMGvUBMRi8fPnz8lCt0pnjWGYurp67969R44cuWfPnqSkpEa92UZqPAh/jfTgwGwgAASAABAAAkAACAABIAAEgEBDIYDj+NatWzU0NC5evDh8+HBDQ0MWi9VQjAM76oNAenr6lStXFi9ePHToUENDQ3Nz8yFDhsyYMWPXrl1+fn6pqamocHB9mAZr1jyBoqKiJ0+euLu7jx492szMzMTEZMCAARMmTNiwYcO9e/dYLJZSisyatwBmrJgACH8Vs4EnQAAIAAEgAASAABAAAkAACAABIFAFAhEREX379p0yZcrhw4fbtWvn7e1dhUHQpekTkEqlhYWFmZmZ2dnZ+fn5jSidX9M/m9rZIZfLzS75ycvLA223dhhXe1YQ/qqNDAYAASAABIAAEAACQAAIAAEgAASAAElAIpG4ubl16dIFBXgOGjSobLVKsjM0gAAQAAJAoC4JgPBXl7RhLSAABIAAEAACQAAIAAEgAASAQFMj4O/vr6mpOXv27J07d7Zv3/7q1atNbYewHyAABIBAoyUAwl+jPTowHAgAASAABIAAEAACQAAIAAEgUN8EBALBzJkzNTU1L126ZGxsPHr0aCjXUN9nAusDASAABL4QAOHvCwtoAQEgAASAABAAAkAACAABIAAEgEC1CDx9+rRjx47Lli3bsmVLhw4dfHx8qjUcOgMBIAAEgECtEgDhr1bxwuRAAAgAASAABIAAEAACQAAIAIEmS4DD4YwdO1ZbW/vWrVv6+vrjxo3jcrlNdrewMSAABIBAIyQAwl8jPDQwGQgAASAABIAAEAACQAAIAAEg0AAI3Lt3r127duvXr9+4cWPHjh0fP37cAIwCE4AAEAACQOALARD+vrCAVsMhIBMKxdnZMqGw4Zj0dUtwvJEZ/PUtNc4eOC7OzRVlZOASSePcAFgNBIAAEAACQAAIAIHGQYDD4YwZM4ZKpd65c4dCoUyZMoXH4zUO08FKIAAEgECzIQDCX7M56sazUZlQmHLwYOjIkQmrVmXduMGPi5M1/P+BwPG8J0/iV60qePVKjuONB3YTtDTfz+/T2LGhw4dnXrmCy2RNcIewJSAABIAAEAACQAAINAwCyN1v48aNHh4enTt39vPzaxh2gRVAAAgAASDwhRSiM/kAACAASURBVAAIf19YQKuBEJDk50dOn07X1aVTqYFGRiG//BLr4pJ56RKfxcLF4gZipJIZoqysiMmTP+rofBo3TpiaqvQULuuMgKSwMHr2bDqFQqdQYubNkxYX19nSTWMhcW5u8adP+c+eFbx8KSkoUNqUTCjMvnMnae9eXnS00qPavsSl0nw/v6Tdu4vo9NpeC+YHAkAACAABIAAEqkKgqKgIufvdunWrb9++M2fOFAgEVRkIfYAAEAACQKAuCYDwV5e0m+9aMj5fUbMTJidnXbvGCQ4WZWbyYmLyX7zIe/q0ODwcl0oJRjiefetWsI0NnUoN0NML0NMjGoaGzGHDWJ6ehW/fShtewmBOUBBhMI0WZGVVFBDQfE+6vnfOi4lh2tmhdyZ28eJG4Cta38TQ+lIejxMUlOzl9Wn8+OABAxjm5gwLi7hly8TZ2YoGChITQ0eO/Kijk+DuLqvb/7OXFBREzZjxsW/fqBkzxDk5ilZBGwgAASAABIAAEKgXAsjdb8OGDatWrerWrdvbt2/rxQxYFAgAASAABConAMJf5XzgaQ0Q4DKZ8StXsj09M86dy7h4Mf3Mmag//ggwMAi2tmba2YUMGsSwsGCYmTHt7HJ9fdF6uFic/+JF9Ny5DAsLQvWj0QgFkEajU6lB/frFzJ+f6+tb1h2pBmz91ikKXr8OsrSk02ih9vb8uLhvnQbGfS+BHB8fhqkpEv5YHh6KcvP3Tt0Ux+NisSAxMevGjdjFi4MHDECfGJ1KJf6hUIKsrLhhYYr75sfFMYcOpVOp4b//XseereLc3MgpU+hUavCAAVwmU9EqaAMBIAAEgAAQAAJ1T4DD4Tg6OlKp1GvXrvXp02fBggUikajuzYAVgQAQAAJA4KsEQPj7KiLo8F0E+HFxEePHIykhQF+f+KdEwkMNOo1Gp9EIuYFG+6ijEz1rlqSoiFxPUlSU7+eXuHlz2G+/MczMSrW/EvmPYWoaPWdO3pMn0jpJ/4dLpQI2W5iSQtqm1Mi5ezfQxIROpcYuWQLhpUpw6uxSJhSyPDwImVhfn06jfd6xA3L8VQRfUlCQ/+IFa/36UHv7QCMj4gtFX5aZWcTEibEuLsyhQ+NcXUWZmYoz8OPjmcOG0alU5rBh/Ph4xUe13SaFv6B+/Qrfv6/t5WB+IAAEgAAQAAJAoHICvr6+7du39/T0dHV11dLSokMujsp5wVMgAASAQP0RAOGv/tg3j5XzX7xgmJoiga9U/tPTIxVAhrl5sI1NsI1NyODBkVOmZF66JOPzlcDgMhmXyfw0bhzDzOzTuHEhgwYRsk6JUxLDwiJ+5UpuaGht19MoePMm7Ndfwx0d8yvIWJz299/EpgwM0s+cUbIfLuuMQHFYGIrzRbJyysGDdbZ0I1pIyuXm3L8fNWMGw9y81J22RHkP6t8/dtGivMePxbm5Uh5PkJQkKSxU2hcp/IXY2vJiY9FTXCaT8XgygaBWyyiTwh/D0rLg9etSw3BcxucTmQQkktr+Q0AJBVwCASAABIAAEGjOBIqLi8eNG0ej0S5evNizZ8+lS5eKG2om7uZ8TLB3IAAEgAAiAMIfvAm1S0CYlkZ4D9nafnJyil20KGrGjMCSSMxAI6OE1avznz/nhoRwmUx+fHwlobtZ168HmpgwLCxy7t4tjohI9fYOd3QMNDREbkpMe/uMc+ekHE4t7QSXyT7v3FlaL2LuXKmCTyJaEZdKP+/YQYQh9+9f+O5dLZkB01ZOABeJPm/fXqopl4iwaX//XfmQ5vUUx/nx8RnnzsW6uJCSH+Fvq6/PtLNje3oWvnv3VWdVPotFePzRaAwzs6Tdu7Nv3049dixx69a4JUviV6xge3om79/PT0ioDbCSggIU6htoaJiwdm3O3btpJ09+3r49ztU1ztWV7en5eedObkhIbSwNcwIBIAAEgAAQAAJKBB4/ftyxY8d169YtXLiwZ8+eQUFBSh3gEggAASAABBoOARD+Gs5ZNFlLJEVFovR0cW6ujM/nx8WFjRpFaGTW1hwGo4p7zrp2LdDIKEBPL/XoUTREmJqafvZsuIMD8v4LNDFJWLtWkJRUxQmr1w3Hk/bsIQJIabTQ4cPL6hpSDidm3jw6hVL38Y/V20iT7l344UPI4MFEPHhJRHmgkVHmlStNesfV2xwnKCh8zJjSUjkl4fYMC4uIiRNTjxzhRUdXlAwRF4kkBQXirCwBm13w+nXSnj1B/fqVQjY0DDQ2JsT3khrKxL91dOi6umknTlTPsgp64xKJpLBQnJ0tTEoq8vdPO3485JdfSpc2MCCWptG+LK2r+1Fbm71hQ0UbqWARuA0EgAAQAAJAAAhUmwCPx5s0aRKNRjt79qyWlpabm5sUFeir9kwwAAgAASAABOqCAAh/dUEZ1iAJCJKSQn/9lU6lho4cKfj8mbxfeSP7xg30e37yX38pBvQJPn/+vHNnsLU1qv8b9ccfvOjoyqf6hqe4VJq4dStagijaWyaDCZ/FCh0xgk6hREyeDPVGv4Hw9w8R5+bGLFxIiLMlklCAnl6gqWnO/fvfP3OTmSH9zBkUAU3828AgZsGC/JcvxXl5lWxQwGazN2+OmDQpdOTIkCFDgiwtvzhUliTrRBH3hAOgpSXh1Tt2bMLq1cXh4ZXMWcVH4uzs5P37I6dNCxs1KuSXX4L69w8wMCBVXUK+LMlISKdSGWZmIUOGhI8ZE7tkScGbN4p/PlRxLegGBIAAEAACQAAIVIvA06dPNTQ0PDw85s2b16tXr9DQ0GoNh85AAAgAASBQxwRA+Ktj4M19OV5sLFEVlEKJ+uOPSmJ7lTAh4U/R44/sQNT/ffkyYuJEVCEkcto0XkwM+bRGGqUOfVRqgJ4ew9Q0x8dHadp8Pz+GpSWdSm0EDkcymaSoSJybKykowJvM383KZOmnTgUaGwfQaFHOztFz5iA9KO/xY6WTqpFLKYdDAMzPb1zOZZmXLgUYGpIecywPj8pFaqJSyrp1KJq+tKy2nt4X6U1fP8jKKmL8+AR397TjxwtevSJyAublyQSCGoCM46lHjiBnXuRpS6z7ry9ngL4+w8Ii3MEhfsWKFG/vvMePBSwW4VBchTo/uFgsyc8nkhjWWmaAGtg+TAEEgAAQAAJAoAETIN39zpw5o6WltWLFCnD3a8DHBaYBASAABAgCIPzBe1CnBLhMZvCAAXQKJcHdXSYSVXHtzMuXAw0NA/T1K8raxouKipo+HWl/MQsWiNLTqzhzVbrxExJChw8nBAh9/QBDw4zz55VGpR47FqCvH2hsnH3rltIj5UuZTPlOXV3LBILC9+8/79gR5ewcPmZM5JQpn//8s/DDh8alXpVLixscHGpvT8SPW1nlPXuWuGULnUJhmJnVrPCHSyRcJjPZyyt69uxwB4eICRNY69fnPX1aFb2pXLPr+KYgKSl61iwiqV+JghZoaBg5fXrO/fsVOf1Ji4tj5s+nUyjIvS6ARmOYmxOedyXqIcPMLOvqVUI+rvJX/GW/X/sKCB/bLVvourqkZ1+gqWmQlRUR71/yDaZ4eRFKX3VERklBQa6PD2vduohJk8IdHKJnzUo5dIhwEMbxL4ZBCwgAASAABIAAEPgaAUV3vx49ekB2v68Bg+dAAAgAgfonAMJf/Z9Bs7Kg4PXrIEtLOo2mFLRbOYS0U6dQjGFFwp9cLudFR0dOnUroGgYGn7dtK1sduPIlKnma9/gxw9y81OFITy/Zy0tRLJDx+XGurkSCP1vb4sjIcucRpqRk3biRvH//5z//TNq7N+XQoczLlwWJieV2/oab0qKiyt0nBZ8/szdsCLKyKo3NLKmJTKdSg21sUo8dq0FW32D8dw4RpafHzJ+PZFn25s1SDoe9aVNVhD9cIpHyePjXRChknjgnJ9nLK2TIEDLCFJFkWFgkbt1akXb2nVur8eH8+Pi4ZcuIKtsl7qtEiK6paeTUqRnnzgnYbGUPUBzP9fVlDh0abGMTNX16ird3/rNnBS9fho8Zg+rYFH34UC0Lq/UVFH38GO7gEGRl9Wn8+OR9+3J9fQs/fCCESyq1Sgr7fy3jMBgx8+cHmpoSOQH/ffkDaLSwX3/NffhQXrV34L9TwhUQAAJAAAgAgeZIQNHdT1NTc8mSJRKJpDmCgD0DASAABBoVARD+GtVxNX5js2/fDjQxCTA0zLx0qeq7IeL+SmL9Uo8cqWQUJzi4tHKIpWX27duV9Kz6I1wsTty8udTdT1+fiOfduBFX+F8cQWIisSiFEj1rlqSwUGlmXCrNe/Lk07hxRA1iXd3Sf3R06DRa9Ny5X/dMVHBHwiUSXkxM1vXrec+eKfo6FUdGRs+dGzFlSt6jR8raTYk1vMjIKGdnAmBJfZKg/v2DBw4kPCjRpaVlrq+vktmN5VJaXMzetCnAwIBOpUZMnEhUd5HJ2Bs3lgp/jx6VuxFxdnbWjRvsDRtiXVwSt23Le/KkculTmJoat3w5sQqNRohlFhYhgwcHmpgg77lAI6O0kycbi3gkLSrKuX8/es6cL4V9qdQAQ8PQ4cMTt23jBAUpeoDiUik3LIwbFka+2DKhEMncQf36Fb5/Xy7esje/7SvgxcZygoLEubnkhEm7d9NpNEL4u3GDvPmVBo7nPX1KpOAsObsAff3gAQOCra3Rnyco2WhFev1XZobHQAAIAAEgAASaHwFFd7/u3bvTy2S+bn5IYMdAAAgAgUZAAIS/RnBITcnEFG9vIlOehUW+n19V94XjyX/9hVSqpH37FL3tys6QdfMmw8KCTqV+GjeuRor8ClNSwh0cCImnpFYsnUqNdXGRKmQTy/X1ZZiZ0Wm0pN27ldzHZEJhxoULRGhziZMRUYVg8GCmnV3Yb7+F2tsHGhvHLFjADQkpuwt0p+DVq+R9+8iUhVwmM+zXXwMMDIKsrEipTpCYGOXsTIgaFEroiBG8qCil2cgORKimhUXC2rWFHz7woqIyLl785OSE0qjFLV9eufKlNGdDuZTJMi9dIgQsGi1k0KD858/lcjkulX4R/srk+JMJhXlPnkTNmBFoZFTq/EWhMCwsUr29Kwo8F+fmxq9cSZx+ieQU6+KS//w5Py4u+/btqD/+KNUcJ08WZ2c3FCxVsENSWJj3+HHc0qVEYZwSRQz9O3jQoMStW/ksVkVz4CIRa+1aOoUS1K9fwdu3FXVTvP+dX4HiVCmHDxNlW4yMsq5eVbxfSbvw3TumvT3x/dJoIUOGJO/fT0iZISGE/+a/NYIJ3RZ+gAAQAAJAAAgAga8RIN39zp07p6mpuWDBAtE3ZPz42irwHAgAASAABGqcAAh/NY4UJqyQAC6RIFEmZMiQ4oiICvspPUDCn54enUpN3LKlXKc2coSkoCBm3jwiHtDIqFpOheQMSo28J09QnC9yVAyg0cIdHISpqagboYN4ehKlJMoU/ZAJhWknTxJxzVQqw9w8YfXqvMeP+fHxoowMcU5O0t69RP4yCiVm/vxyo3QJAWvTpo99+yasXi0TCHCplFA/USlVCiVx82a5TCYtKkpYs6Y0BrmkVGvaiROK9ku53AR3d+TcFDJkSObVq4qugtl37qCoz8ipUyWVVndVnLPhtIsCApjDhhFnbWKSdvw4csNE3AhlytKy4NUrRWvFeXlJu3YF9etHBLqimrAl//6ooxMxaRLyLJOJRIoKIC4WJx84QHhH6ukF9euX4u1N+r7J5fIiOj3YxoZOpTKHDeMnJCiu1SjaUh6viE5P3LqVSGFZ4jVJyOt6ep/Gjs1/+bJchZ3ESxRNvnfvq9v8zq9Aaf60v/9Gn0DK4cNKj8q9FCQmRkyciBwzP40dW/ju3ZdN4fjn7duJb5BKZW/aVPmfKuVODjeBABAAAkAACDQ3As+fP+/UqZOHh8eiRYu6d+/u7+/f3AjAfoEAEAACjZQACH+N9OAapdml6fB0dcMdHb8e5UpuEceT9+9Hv6InrFolEwrJJ+U2Ms6dI+JqqdSqdC53BvImLpEkbtuGojuTdu8O+/VXOo0WZGlJuivyY2OJKEIqNfTXX//jJ4XjWdeuIdUvqH//jHPnFF3qcIkkYe1alGeNYWFBuu+R6xKea0gk1dGJnDJFUlDAYTBCbG2RxoekChmfn3r0aKCpKXGzxCGR8EZcvFjRGzHn/n2GhQXhJGViQtRDyMlBwgcuk/FiYmJdXJDHX8yCBVIuV3H1ht8WpqVFz5yJPDHZnp5kkVZcImF5eJQV/qRFRURQMCprq6cXMmQI29Mz/dSp1CNHWOvWJe/fL+Px+AkJrPXrE9asIYJYS4KsiwICQoYMIfAaGLA8PIQpKaVOnTguTElhb9pEeA4iLTgtreFDK9dCXCoVsNmZly5Fz5qFJE46jca0s8t7+vSLTPbvSNKhMtDYOOur8bbf/RX8u2zpf0uFv6plCMXF4qQ9e5BQGDJoUPadO+RLLhMKC96+DXd0RJq4UtZOpUXhEggAASAABIAAEJDL5Xw+f/r06RQK5cKFCz///LOLi4tYLAYyQAAIAAEg0CgIgPDXKI6piRgpKSyM+uMPuq4uES1bXFz1XaWfPYsyrH0aP16UkVH5wOx//iHyr1GpMXPnkr/qVz6koqfC1NRPY8fSKZSISZMESUkJ7u5IrSuN6sXx1KNHAwwN6TQaa906RU8xXkxM2G+/IWe01CNHFPOmyeXy0mmRWkejRc+Zo5jIDBlTqrDo6oaOGFHw5k3MggVI9UNSHcvTM+v6daJYR0n8afiYMUSAM432ycmJVFTF2dlRM2Ygd6cAA4PggQMjJk5M3LYt2cuLvWlT6IgRSBMJNDLKOHeuIgIN876Mz/+8bVuAgUGAnl70zJnIARMXiyVFRcXh4ZFTphBYDA2jZs5MOXCg8P17XCIh5GATEyT0RDk7FwUEkE5euFhMOPoJhewNG4igbF3d2EWLpDyejM8nHCpRGVw9vWAbm3BHR/bGjcleXp+3bydko39lxM/btysdccPkVrlV4uzs5L/+CrKyQrV0wx0cytafURT+vppo7/u/AiWDqyX8cZlMpp0dOr5AY2OmrW307NlJe/Yke3nFu7kFDxiAFPPgAQMKq1mlRMkquAQCQAAIAAEg0BwIvHr1qkuXLu7u7kuXLu3Ro0dgYGBz2DXsEQgAASDQNAiA8Nc0zrFx7EKUnh7u6EjX1U3cvJmUXapieu7DhwwzswAaLcjKqvKSAryYmMipU5F7YLybm2Jka1UWUupD5u/7vHOnHMezrl8PNDYmEgiOHy/KzORFRyMfQIaFBeEepfCTUaJUBujpxbu5KQaHoi7pZ88GGhuXCnl6egxT06zr1xVGE80vCouJSdivvwYaGRGOe4aGSO0KHT4ceaIFGhklbt7Mi4qKnDYNVRYmcwLm3LtHQCtRrEJsbUuLmVIoKLddqZ5Fo8W6uIizspRWb9CXOJ555UqpJ6OhYezChSkHDiTv28davz5y+nSi7IahIaFpllRioevqxru58ePjP40fjzTQyKlT+fHxZTdIJHMcM4ZIdUelxi9fjotEnMDA4IEDUW5E5rBh6KUiMJYwRABRUZFyJyy7RMO/g4vF2bdvhwwaRCQ0NDXNuX9fyWbitSwpmkx4/JV5aQVsdsGrV2TY+Pd/BUqrl1b3ptHK5voUZWQUvHz5JQZfIknatQt9Ykxb2yBrazKlY+n7X+InG2hsnPzXX191IlYyAy6BABAAAkAACDQ3AkKhcObMmTo6OhcvXuzdu7erqysU821u7wDsFwgAgUZNAIS/Rn18jcx4XnR0yC+/0KnU5P37y0YRVrKZ4vDwkMGDkbtWyoED5Y6VCQQFr19HTpmCuhEhtA8eVDLnVx/JRCLWunVEhj4zs9yHD+VyOS86mjl0KKGJmJgk7dpFpM/T16fTaJHTpinWdsDFYranJxFt2r9/WZmSExQUOnIkIRvp6yOXMTqNFjFhgjAlRdGkUuGPSkV+eURpgsGD45YtI7S8kkx/xDYNDFjr10vy84nY4dWr6RRK8MCB3LAwuVwuEwji3dxQrsPUw4e5ISHxK1YE9e//Rf4rUVFZHh41UgJF0fLabhPlGkpOoVTdKylsUloumZTkShCFDB6c/NdfgsTE4shI8v1BGq6SkTKRiIibLnEJDDQ0TD93To7jyV5e6F1irV9fHBmZuGVL8MCBSBlEGBnm5rGLFlUjW6XSqnV1iUsk+c+fpxw6VPDy5Vc9E4m6vcuWIc/W1LKp9HCcSE9ZEvucfvq04g4kBQWxixYxzM3Tz5wpjVX/7q9AcX65XJ517RoRW10m16dMKEzcujXQ1DRx2za8JMs4IeM6OtKp1GBr69yHD/OfP49ydg40NSXlvwB9faatbeqRI5KiIqVV4BIIAAEgAASAABBQIvD27duuXbuuXr16xYoVvXr1Cg4OVuoAl0AACAABINCQCYDw15BPp6nZlu/nhxy1yBoUuEgk5XIl+fmVR/5KCgtRyQ46hcLeuFEuk5FocJFIlJaW+/Bh/MqVRJQiCsw0NEzcsuU743zF2dlEZQAKhajmkZQkl8ulPF6pJqKvH2hkhLzwAgwM0o4dI+0hRDehkBDdKBSGufl/xEccLwoMjJg0iagsQaNFTJ5M1JqwtESufJ937CAT1X3x+EPCn75+oKFhyqFDOT4+qNIIoXnRaDHz55cGPuN40r59KBchKm4rTEsjihFTKKEjR6K6E1Ier/Ddu+T9+1nr1iVu3px2/Hihv79i5kHFLTTYNicoiChGjE4ZlaMtQRTUr1/IL798Gj8+Yc2a8NGjUbBq4tatqOKHKCsrYtIk5PHHHDo09+FD2b91maVcbnFk5Odt24L69UOjPo0dK0hKkhYXx8yfT2ip1tYoFFQmEnGCg4mcgJ6e7A0bUry981+8KOvO2QDR8RMSQkeOpOvqBllZpR49SqR6rOhHJivy9yeKRyNp7+zZsh0zzp1DgnXKwYOKT4s/fQoZNIiuq5vg7k5ET9fEV6A4v1wuz3/+nAhpp1CIijcKZQRJV+IoZ2dUKqfwwwdC5qZQYhYuRH8OiHNzc319P+/cyfLw+Lx9e8b588UREdXyO1YyBi6BABAAAkAACDQTAiKRaN68eX379r18+XLfvn3d3NykUmkz2TtsEwgAASDQNAiA8Nc0zrGh70ImEAhTU9kbNiBvtcipU1MOHUras4e1dm3M/PkREyfGLFiQeuSIqOKY04JXr0JHjgw0Mkras0fw+XNxRETuw4dpJ04kuLuH/forqk6LvLGCrK2T9u4Vf3eZWm5ICOHhRaGw1q1DbkRyuZyMn0XuZgF6ekxb2+JPn/5zADiecvAgchaLmDSp8N07QVJS0cePSXv3Eq5qenpEOYjRo4sCAmRCYcqhQ6WOZiYmLE9PMoNhaXEPJPzRaNEzZ4qzs4kSwyXRuwE0Wthvv3FDQ8l1s27eJMKH9fVTS1RIXlRUyJAhRFTy2LGizEyyGyEpisWNVO8ofP8+3MEBqX7BAwcyhw0Ld3RM3Lw54/z5wvfvBZ8/I+fHrKtXUZLH+JUrS2O9cTyDDK/W0wuyto5dtChp796k3btj5s4lnAGRE6W+fqCxMcp4KMrK+jRuHJ1KLVuBGpdIkJ6oSLUht5GnLeIWaGwcMXlyspdXzv37nMBALpPJZTI5gYF5jx6lnz2buHkzGdQcMWGCgM0uu6+ce/cQXuK7UMjqnXn5MvEmk5U3auIrUFqdExhIBO1SqVEzZyp66uW/fEnku6RQyBMvNZJCSVizhvx4idlwnLC5pHKL0uRwCQSAABAAAkAACJRL4OPHj5qamm5ubqtWrerTp0+owv9/ltsfbgIBIAAEgEBDIwDCX0M7kSZlDy6VchiMtOPH45cvDx0+nNAFSpKvES5v/yabKw0+1dUNNDYmM+XJBAIBm81hMPKfP89/9qzg1ausa9eIQEILi2Abm5BffgkeOJBhZqYYd0mn0YKtreOWLi148+Y/v+p/K1HCvc7UlP7fhGKS/HzC9xAF6pbE+Sa4u5fNJFgcHh5qb49czIL69w/55Zeg/v2R5EeU4Bg7tujjR2SXlMMh9NCSOhUB+voxCxYgR6Qvob56eiGDBhW8eSOXy5HwR6dSg6yslGoBE/5Wv/xCaB8rVshEotKo6pJ4XjT2WzE0jHE4nv/8OeG2RqMFlERGF338KM7KEufmlhUxkWMpnUolXDX/LbYryc9nrVtHuKqVzECm6iMayH+wxImSqGhR4t0pzsoi0gJSqYEmJlnXrjUMCt9ohZTHS9y6FZXHKX0JS/YVZGUVbGMTbGMTZGWFBGVEg6hSPWJEwatX5a6X9/gx8elRqRETJ6L4dBmPV/DmTdioUURo7aBBRXQ6Gvj9X4GSAdywsOABA+hUKnPo0NKQdqGQGxYWOW0akYrRzCzn7l00JOf+fSKwt6TgcqMLZlfaNVwCASAABIAAEKhHAhKJZMmSJdra2pcvX9bV1V21apVMIfKmHg2DpYEAEAACQKDqBED4qzor6FltAqKMDBQtS6QMI+WVEu+qUuWlRIAIHjgw/PffP//5J9IRcIkk9ciRkCFDgq2tGRYWDHNzhqUlEVdLBnhSqcTwkjILRMWPfv2I4Tt2FNHp0n9DOKtt638HyAQCooZvyYpKmc4KXr8OGTwYGRBqb88JCvrvUOIKl0rTT59G+kipOllSNSLQ2Dhu6VJeVJTiEFFGRtzSpYSHYMlyzGHD8h49kuP455076RRKgJ4eUUS4xLWKKFIxblywtXXasWNK4qaMxyPii3V1CRe/7Gxxbi4qbhugpxe3ZAmKf1RctHG181+8YNrZIdUvcurU4vDwSuxPP30aCXwhgwYpOmOK8/IIp0tb21KRi0JBNZGJ18zcHKVrZK1fj1DL+Pz4lSvRexsxcWJjF4/EOTkphw6FjRqFcuQR72TJC1n6HZWon+hOoKlp9OzZpHhXljMnJKS0+oeRUfTcuUl79sQuWkQWyWVv3Ejq4N/5FeQ+eqS0ujA5GRVgCTAwICLl9+yJjcWP8wAAIABJREFUX7GCKN1bUsglZt480s+Xy2QSjpw0WqCRUYq3d1l1WGlmuAQCQAAIAAEgAATKJRAcHNyzZ083N7c1a9b06dMnrCSXdLk94SYQAAJAAAg0WAIg/DXYo2kKhvFZrNARI0oT6iNxgUIh0uoPHRozf37i1q2pR47k3L1bHBEhzs4mwyelPF7swoVEuQZSnvjXPTDQyIhwoBs8OHT48Chn58RNm9L+/rvw3TtRZiZeo3/9KMnLi5w6FRXHyLx6VfEwcIkk+9atcEfHcEdHIoVfBetKebysa9ciJk0KGTQoZNAgpp1d9Jw5Wdevl6vBEXHQGzcG29gEGBqG2tsXvHxJZDR7+TJ05MioP/74EnEpk/Hj4zkMRrm5+bhMZsSkSYT8kZsrl8uJ2sGoFrCJSfK+fYoJBBW3g9pSDkecnU3Y1vCiICX5+dGzZxMaqIFBzNy5ZNnisrsg7uB4ipcXklAZFhb5fn6K3XCxmB8Xl/foUca5c6lHj6b9/Xf27dtFdHqsiwty7su+dYvsn/fkCUr8F2BgkLBmjVLENNkNNaTFxeKcnHI9EJV61tulTCZMTs66eZPt6RkxYQJz2DCmrS3Tzo74x9aWOXRoxIQJ7A0bcn19SfmsXFOlxcXxq1cThEs8XsmvO0BPL+qPP1BCSXLg93wF+SVfATkV0tOJiisGBkpLI88+TmAg2VnG45HCffDAgdn//EP+8UL2IRu4VCopKBBlZX1nVlByQmgAASAABIAAEGgaBGQy2apVq/r27Xv16lUqlQrufk3jWGEXQAAINEMCIPw1w0Ovuy3jIlHWzZvRs2bFr1yZcvBg2t9/J3t5pZ89y4+PlxYXVyjV4Xj2rVtMW9vgAQOYtrYRkyYlrFqVtGdP2okT2f/8U+Tvz09IEGVmSgoLa8+Rh6jjsWTJx759g21sigIClJHJZOK8PEJf+5pMJsnP58fH82JihKmplcsKMoGgiE7PunmTFxOD9oVLJKL0dKTiKRtQwbU4N5co3VCiRYqzslBFFKJ4iIlJwurV3NBQ0huLkFEkEnF2Nqr4ET1rVuiIEbEuLpWLPhUsW7u3+SwWc9iwYGvr5P37K8kCSRpRHBERNno0UcvC0rLg7VvyfkUNKYcTNXMmnUIJsbUtjowku0l5PJanJ8rVSGiO8+YVvn//nyo0MpkkL4/DYKQePRqzYEHYqFERkyfzWSxyhobZwCUSSX6+KDNTlJ6O/hGmpREfVEl56KrYzGEwCAfMEpdJouy1qWm4g0Pq4cNKlanJqb7nKyAnQQ1BYiKRe/HfpQONjEJHjPi8YwcvOlqpJzc0tDQ2XE8v2MYmef9+QWKiovwnEwqFKSm5Dx8mbt0aOXkyc9iw5H37FDsoTQiXQAAIAAEgAASaG4Hw8HBtbW03NzcPDw9tbW1w92tuLwDsFwgAgSZDAIS/JnOUDXUjOC7lcBT1pqoYiotE/Li44ogIYUqKpKBAJhRWZVTN9sl/+TLO1TXj/Ply3etqdq1amo0bFhYxYUJpDjs9vZDBg+OWL085dCj16NHUw4fZGzaEOzgE9etXGvWpqxv++++i9PRaMuabp5Vyudk3bxKpGyWSKk2C44Xv3yesWZN69GhVqu4KU1OJAFIKJWrGDEl+vuISgqSkmPnzS6OwabQga+uYBQuSvbwIgEeOJG7bFjFxYpC1NZE4j0ql6+oG29goBhcrTtWU2rhUmvvwYfTs2Z+cnFienrkPHxLukF8TwWuKQJG/f+zixeEODvErV2bfuiVMSir/LwBwPNfXl0h8ifIMGBiEjhzJ9vRMPXw49ejRlIMH41euDB0+vLQuEJX6UUcn3s2tXv6oqSkyMA8QAAJAAAgAgRokgOO4h4dH3759r1+/rqenB+5+NcgWpgICQAAI1DEBEP7qGDgs13gI4DihV9aVnFFLXHjR0fErVzLMzUuzuaGgafLf/2ZLDDQxCRs1KuvqVcU6rbVkUt1MKxOJKnQp/a8FxZGRqAJy4rZtZSUkYWpq4tatwSXFZMth+G+uyUAjI6adXYq3d+V+nf9duXFfEeHheXn18sJIeTxxbu7XRTqZrODVq6jp0wMNDcs5OwqFuFniPMgwN4+cMqXw3bvGfSRgPRAAAkAACACBmiMQFRVFoVDc3Nw8PT3B3a/muMJMQAAIAIF6IADCXz1AhyWBQF0SkBYX5z16FLt4cciQIYGmpqX+awYGDAsLpq1t9Jw5yV5eOffvE/UrKshXWJfW1v1aBW/eBJVUj8m6caPc1WUiUeG7dwlr1jCHDiXKgKAyLPr6DDOzkMGDI6dNS9q9O/vWLV5cXFV9EstdBm7WDgFRVlbGxYuR06YF29h8qRFkaBjUv3/o8OFxy5alHjuW7+dHxMjDDxAAAkAACAABIFBCAMfxTZs26ejoIHc/Nzc3KOYLrwYQAAJAoPESAOGv8Z4dWA4EqkFAyuPx4+JyfX3Tz5xJP3068/LlfD8/QWJi8/FQqwhW1s2bRNEYK6tykjkqjJEJhYLExLxnzzLOnUs/dSrj4sW8R4/4cXFViSZWmAaa9UNAUlDADQvLvnUr/dSp9LNns65dK/L3F6alVTcLQf1YD6sCASAABIAAEKhbArGxsXp6eitWrFi3bl2fPn2YTGbdrg+rAQEgAASAQE0SAOGvJmnCXEAACDQyAjJZ0t69dCo1dORIQWJiIzMezAUCQAAIAAEgAASAQC0Q2LZtm7a29uXLl2k02ooVK6RSaS0sAlMCASAABIBAHREA4a+OQMMyQAAI1C8BXCrlMplZ16/zYmNJS2QiUcLq1XRdXaKyR0EBeR8aQAAIAAEgAASAABBongTi4+MNDAwWL17s7u7eq1ev4ODg5skBdg0EgAAQaDIEQPhrMkcJGwECQKAyAnmPHzPt7AL09SMmTeJFR6OuksLCqD/+oOvqxi1fDlGfleGDZ0AACAABIAAEgEDzILBjx47evXufPXuWQqG4urpKJJLmsW/YJRAAAkCgyRIA4a/JHi1sDAgAAZIALpWyN22iUygB+voBNFr03LkCNlsulxeHhzNtbekUSuKWLWVL+pLDoQEEgAAQAAJAAAgAgeZAgM1mGxoazp8/f9WqVT179mQwGM1h17BHIAAEgEDTJgDCX9M+X9gdEAACpQTS//47wMCAqMmrrx+grx85dWrGhQtxrq7ETX39tJMngRQQAAJAAAgAASAABJo5gb179/bs2fPkyZO6urpLliwBd79m/j7A9oEAEGgaBED4axrnCLsAAkDgKwREWVksT0+GhQWdRkN+f0jyC9DTC7KyKnz37ivj4TEQAAJAAAgAASAABJo0gaSkJFNT05kzZ65YsaJHjx4BAQFNeruwOSAABIBAcyEAwl9zOWnYJxAAAlIeL/fBg4jx4wm/v39d/+g0WuySJZLCQuADBIAAEAACQAAIAIHmTODAgQM///zz4cOHdXR0Fi1aJBaLmzMN2DsQAAJAoMkQAOGvyRwlbAQIAIEqEeCzWAlr1zLMzelUKp1KDR0+nAP5a6pEDjoBASAABIAAEAACTZZASkqKpaXltGnTXF1dtbS0Pn782GS3ChsDAkAACDQzAiD8NbMDh+0CASAgl8t4vFwfn6gZMyKnT89/+VKO40AFCAABIAAEgAAQAALNmcCRI0e0tLS8vLy0tbUXLFggEomaMw3YOxAAAkCgKREA4a8pnSbsBQgAgWoQkBQVQYRvNXhBVyAABIAAEAACQKCJEkhPT7eyspowYYKLi0v37t0/fPjQRDcK2wICQAAINEcCIPw1x1OHPQMBIAAEgAAQAAJAAAgAASAABBCB48ePd+/efdeuXX369Jk/fz64+8GLAQSAABBoSgRA+GtKpwl7AQJAAAgAASAABIAAEAACQAAIVINAenq6tbW1g4PDvHnzwN2vGuCgKxAAAkCgkRAA4a+RHBSYCQSAABAAAkAACAABIAAEgAAQqGkCx48f79at25YtW3r16gXufjVNF+YDAkAACNQ/ARD+6v8MwAIgAASAABAAAkAACAABIAAEgEDdE0Dufr/99tusWbPA3a/u+cOKQAAIAIE6IADCXx1AhiWAABAAAkCgHgjgOJ6Xl8fhcOphbVgSCAABIAAEgEBjIHD8+PEuXbqsX7++Z8+e4O7XGE4MbAQCQAAIVJsACH/VRgYDgAAQaEoEQkNDDx48GB4e3pQ2BXtBBMLDw+3s7MaMGRMYGAhMgAAQAAJAAAgAASUCyN1v+PDhzs7O4O6nBAcugQAQAAJNhgAIf03mKGEjQAAIVJvAs2fPDAwMVFVVd+3aJRQKMzIyEhIS2Gx2bm4ujuPVnq6xDcBxvGmX7Tt+/HiLFi0wDFuyZIlEImls5wP2AgEgAASAABCoXQLHjx/v1KnT6tWre/ToAe5+tcsaZgcCQAAI1B8BEP7qjz2sDASAQL0SYLFYAwYMwDBMRUVlyJAhzs7O+vr63bt319TUtLKy2rx5c2xsbL0aWLuL4zju6+s7e/bsZ8+eNUmVUyqVrly5Eiv5mTRpEp/Pr12gMDsQAAJAAAgAgUZFALn7DRo0aPLkyeDu16iODowFAkAACFSPAAh/1eMFvb+TQEFBgb+/f2Ji4nfOUwfDBQIBuAjVAef6WkIqlW7duhW5gyFtqOy/TUxM7t27J5PJ6svIWl03KyvLzs4Ow7ABAwakpKTU6lr1MnlxcfHYsWPRsU6fPl0oFNaLGbAoEAACQAAIAIGGSeD48eMdOnRwcXHR0tICd7+GeUZgFRAAAkCgRgiA8FcjGGGSKhFgsVhTpkxp167d6tWrG7iY8u7du2nTps2dO3fv3r1v3rxJSkpKUfhJS0vLycnJzc3Ny8vjcrk8Hk8oFEql0ga+qSodUuPpJJPJkpKSfHx8vL29t2zZsnnz5gMHDrx8+bKoqKgqm4iJiTEwMFAU+3766afu3btraWl16tRJVVUVPerVq9fDhw+rMmGj6xMQENC1a1cMwzp27Pjhw4dGZ/9XDc7IyLCxsUHnOHbs2OLi4q8OgQ5AAAgAASAABJoJAeTuZ2VlNX78eHD3ayaHDtsEAkCg2RIA4a/ZHn1dbzw9PX3ChAnol/BFixZJpdK6tqDK63E4nHHjxpGSUIcOHbS0tHoo/PTu3dvCwsLKysrGxmb06NFjx451dnZesGDBkiVL/vnnn6adNK3KFGu3Y0xMjKenp4GBQZs2bVRUVBQPy8nJyc/P76sv2PHjx1u2bIkGqqurz50799GjR/Hx8cnJycHBwRs3buzevTt6+ssvvzRJh7gXL160a9cOwzAqlRoTE1O7B1Yfs4eEhPz888/oEIcOHZqXl1cfVsCaQAAIAAEgAAQaIoFjx461b99+7ty5mpqaLi4u8L+vDfGQwCYgAASAQA0RAOGvhkDCNJUS4PF4bm5uZFhlwxf+pk+fTmpJ1Wr07ds3Ojq6Uhjw8LsI4Dj+6NEjMzOzSs5FS0vr7NmzlWh/HA7HycmJnGHatGlKfoIymez69etINmrduvWpU6e+y+j6GCyVShMSEpKSkipa/ObNm+rq6hiGTZkyhcfjVdSt8d6/desW2iCGYdbW1unp6Y13L2A5EAACQAAIAIEaJJCamtq/5MfBwaFHjx6BgYE1ODlMBQSAABAAAg2NAAh/De1EmqA9OI6fPXsW+RYhqaWBC39yuTw+Pn716tXTp09fuHDhAoUfFxeXGTNmdOjQAcOwzp07Ozk52djY9OjRo1OnTm3btm3fvv20adOys7Ob4Ck2mC09evSob9++6EVSUVHp3bv32LFjFy5c6OzsrK2tTXr/aWtr0+n0iqxmMBhI1LO0tJw+ffqrV6/K9pTJZAcPHvzxxx8xDHNyclJSBsv2b2h3Xr58aWBgYG5u/uTJk3JtO3LkyA8//KCmpnb06NFyOzT2m15eXj/88AN6Vezs7HJzcxv7jsB+IAAEgAAQAAI1QuDw4cPI3a9bt27Lly+HrNY1QhUmAQJAAAg0WAIg/DXYo2k6hgUEBFCpVNK7CsOwhi/8yeVyiUSCMvdJFX5wHE9OTrawsEBiUF7JD5vNZjAYvr6+b9++zc/Pbzon1/B2kp2dbW9vj94lNTW1WbNmRURE8Hg8qVQqEok+ffrk4uKCpDoMw9atW1dR1sX9+/e3aNGiZcuWJ0+e5PP5FfkGpqamoiRxvXv3Dg8Pb3g8KrQIx3EPDw8EysnJicPhKHWVyWSoQ4cOHV6/fq30tAlcymQyd3d38o+dMWPGcLncJrAv2AIQAAJAAAgAge8kkJKSYmFhMWDAACcnp169ejGZzO+cEIYDASAABIBAAycAwl8DP6BGb15OTs7EiRPJX79Ro1EIfxWhz8rKGjRoEIZhzs7OkA+lIkq1dD8xMdHY2Bi9RUOGDCmbeq+wsNDZ2Rl1cHJyKreeQ15e3siRI1Fuu6ioqEpMlUgkrq6uGIa1adPm/v37lfRsaI9wHN+0aRPyf9TX109ISFCykMvlOjo6Yhimp6cXFxen9LQJXEql0oULF5J/8jg7O0NV3yZwrLAFIAAEgAAQ+H4CBw8ebN++vYuLi6am5po1ayr6W9LvXwhmAAJAAAgAgQZCAIS/BnIQTdaMyMhIGxsbDQ0NCwuLoUOHqqmpNRaPv4qOJD8/HzmdNRMpgc/np6WlhYeHBwYGxsXF1a96UlxcTOp6W7duLfeMvL29UYCnvb19uQ6Yb968QdVsZ8yYIRAIyp2EvIlmU1NTO3nyJHmz4TekUunKlSuR7NWxY8d3794p2ZyQkGBoaIhh2HfGwOI4HhYWdubMmaqUBxGLxXw+X8mSWroUiUQzZswghb+GX0m8ljjAtEAACAABIAAEFAkkJSWZmZkNHjzYwcFBW1u7cQU0KG4E2kAACAABIFB1AiD8VZ0V9PwWAlKpNDk5mclkZmVlXbx4EYVhNmqPv7y8vGHDhiGPv/pVwb7hPAQCAQpP/qrlXC7348ePu3fvHj9+PIVC6dKli4aGxs8//7xv3776TQQTFhbm4uIyderUclP4KXq6jR49umxiPhzH//zzTxUVlZYtW1alZMelS5dat26tqqq6a9eubwBeX0NIhz7krnj79m0lS54+fYrSbrq6uorFYqWnipdisTg/Pz83N7dc98mgoCBzc3MVFRUHB4fKs1vm5+dv2LBhwoQJvr6+OI4rLlEbbaFQSGrEampqR44cqY1VYE4gAASAABAAAo2LwP79+9u3bz9v3ryuXbtWkhSlcW0KrAUCQAAIAIHKCYDwVzkfeFqTBP7++++WLVs2do+/Rir8sVisAwcOTJo0yabkZ9q0aadPny6r1IhEIjabfeXKFScnp06dOpEOU2Rj6NCh5brR1eSL8rW5kONYueJRUVGRg4MDsnbmzJllY7ELCwt///13DMO6d+8eEBDwtaXkp06datmypYqKyvbt27/aueF0iI+P19fXRxzKlThRlsPWrVtfvXq1IrNzcnIuX748e/bsIUOGWFlZOTg47NmzJz4+XrH/0aNHUbVuDQ2Njx8/Kj5Sal+5cgXV2J04cWJFfn/lnqnSPFW85PP5ZJKBbt26vX//vvKBNbh05QvBUyAABIAAEAAC9UUApUyxsrIaMWKErq5uZGRkfVkC6wIBIAAEgEBdEgDhry5pN/e1Dh48iGIwm4bHXyX6heJJczicR48ebd26dcWKFStXrly/fv1ff/3l7+9fU35zQqEwOzu7ovIUcrlcIBBcvHjRxMSErHhL6kGOjo6KEZrp6ekrVqzQ1tZu3bo1qfRhGNa2bdvOnTt3795dU1PT09Pzq96Cituv4zaTyezduzeGYaqqqrt37y67enR0tK6uLoZhNjY26enpZTso3UHugT/88EPjchnz8fH56aef0CGqqqru2LFDcV98Pn/q1KkYhmlra3/69EnxEWrjOP7q1asRI0YovQkYhpmbm7948YIccuLECRS//9NPPz1+/Ji8r9TIz89HeiuGYWvWrFF8+WUyWXh4uLe3t7u7u6ur69q1a7dt23bjxo2qF+EtLi6Oj49nMpksFot0SywuLiYl4EqKMicnJ58/f37dunXLli1bs2bNxo0bT506xWKxlOyHSyAABIAAEAACTYDA3r1727VrN3v27M6dO2/atAn+0qsJnClsAQgAASBQFQIg/FWFEvSpGQLbt29XVVXFMGzZsmWNN5FwXl4eyvHn6OhIqgwVAYqOjnZ2dv7f//6nqKNhGNa3b99Xr15VNArdV/y/MRzH09PT7969e/ny5YyMDHJgQUGBh4eHsbHxjh07CgsLyftko7i4eOvWrSioE8Ow1q1bd+3alZSEMAybPXs2qnYqlUq3bNmCDghZ26ZNGzs7u+3btz948IDJZMbHx7PZ7K9umVy6Xhp79+5FDmjt27d/9uxZWRv8/PwQjarotgKBYNq0aRiGqaurl42WLTt5A7kjkUjIBH/oKJcsWaIoDbPZbBMTEwzDyo2GlslkN27c0NbWRmNbtGjRuXPnjh07ku+wtbU1m81Gmw0LC6PRaBiGtWrV6vTp0xURePLkCZqhd+/eio6WxcXFhw4d6tu3r5Iq3apVq7Vr1341A6NAILhz546Tk9PPP//cuXNnLS2tcePG+fv7y+VyLpc7ZswYDMNatmx54sSJsoZJpVJfX19ra2skXJK7wzDM0dFR8SsrOxbuAAEgAASAABBodATYbLahoeHgwYNHjRpFpVIV/+q30e0FDAYCQAAIAIFqEQDhr1q4oPO3E5DJZB4eHhiGqaiobNmyRVHV+vZJ62Mkh8NBvku///47h8OpxAR/f/8BAwYgQaFly5adO3fW1NSkUqmWlpbq6uomJiaXLl2qKL0am8329PR88OAB8o0qKiqaPn1669atW7VqtWrVKuRzx+fzN2zYgKKn1dXVz58/r2SMWCzeu3cviq9UVVUdMGDAhQsXoqKiHj9+PGvWrDZt2mAYpqWlxWAw5HI5j8dzcnIi5Q81NbX169fXe1Sv0o4qv0xNTR04cCDagp2dXVZWVtn+Pj4+bdu2xTBs3rx5in5nZXvK5fLo6Gg9Pb1KPOPKHVXvN5OTk/v160ceJYZhEyZM4PF4pGF37txBEDZs2FBWgn/w4EGvXr3QcF1d3T179oSGhvr7+69fv7579+5IPr5w4QKaTSaT7dy5E3nyuru7l50NaXAo3Z6qqqqHhwf5zufl5a1atQrl/cQwrF27dt27d+/Zs2e/fv20tLTatWu3fPnysoWbyV1wudyNGze2b99ecacYhllaWsbFxRUWFiKBvl27doouimi4UCg8efKklpYWGtumTZtu3br16NHD1NTUwMBAXV3dyckJfRfkctAAAkAACAABINCoCezZs6dDhw5Llizp2rXrtm3bGvVewHggAASAABCoFgEQ/qqFCzp/OwGpVOri4oJhWIsWLfbs2fPtE9X3yOLiYkdHRwzD7O3t8/LyKjLn9evXxsbGaL+2tranT58OCQlJTEzMyvo/e+cdFUXS/f0aMkjOQUBFURRFQRQjgglFUTBnTBgxJxRXFOOyxhXMCcQMAqJrBEEWI5gDIKgEkYyEgWHSe473ferXZwaRNeAAd/7Qpqe66tanenqmv31DzrVr16j304MHD6rt4dKlSwoKCm3btk1KShIKhbdu3QLNhRDSpUsXcEc6ceIEU/VwcXERqWURFhYG5Wvl5eWnT5/+/v17OtanT59AI2vSpMmlS5eEQqFAIDhy5Ah17JKSknJwcLh8+fI3va5on799w9/fH0JT5eXlAwICqrXn0qVLoHmNHz/+mzHLf/31F0haEydOZApn1fYsOTsjIyPByVRRURH8H21tbamCVlVVNX/+/K8V/Xjx4kXHjh1BoLe3t2dWUOFyubNmzYK3mBkPX7161bp1a3CUA+9RERQXL17U0NCAMGE4n4VCYV5e3uzZs8HbztjYePXq1VFRUSkpKZmZmRkZGaBBS0lJrV+/numrSHvmcrl+fn5UNNTS0rK2tm7VqpWGhoaKisrp06dTU1Pbt29PCFFXV799+zY9UCgUVlZWQmpzQoiKisrUqVPDw8Nfv36dnp6em5u7YcMG8Ht1c3MrKipiHojbSAAJIAEkgATqKQFw9+vbt6+zs3Pbtm3fvn1bTyeCZiMBJIAEkMB3EEDh7zug4SHfQ6CqqmratGmEEBkZmb///vt7upCMY6jw16dPn7y8vGqNevbsWadOnWCyM2fOpJoLND5//jx44RFCFi5cKF6AQigURkREKCkpqampxcbGFhcXu7m5UbcmW1vb7OzsmJgYc3NzupMQ0qxZM2a+tqysLAcHB2jQr1+/xMRE6uBWWFi4d+9eHR0dQoimpmZMTAwYxuFwDh061Lx5c9qtpqamu7t7bGys5Mt/z58/h/BVQoijo2NWVla1S0NDfZ2cnKoNjqZHpaend+vWDeJ8T548SfdL+AaPx1u2bBkhRFVVdd26dVT8unbtGlj+5s0bqPvRvn17kd/9FRUVCxYsgNVv2bLlpUuXaBWOioqKy5cvt2vXjhAiKyvL1FXLyspGjBhBCLG0tBTPjpeent6nTx/QGY8cOQI2sNnsZcuWgahqaWl57do1pgtwTk4O9dxs06bNixcvxJnfvn3b2NgYkjn27dv3+vXreXl5WVlZ8fHxgYGBb9682b17N3WGPXPmDO1BIBCcOHEChEgdHZ2AgAA6R6FQyOVyp0+fDgTU1dXrUXw3nSBuIAEkgASQABIQJ7Bt2zYtLa158+bp6upu2bJFvAHuQQJIAAkggQZMAIW/Bry4kjW1yspKCPerF3USuFxuUVERVcqYKKnw16lTpw8fPjDfgu3y8nIPDw/QDtzc3EQqSHC5XNBloIGJiQmkJBPpJyIiokmTJgoKCkePHmV6NoHH3/Xr12kQcZs2bUCqU1FRuXLlCu3H399fXl4eRlFRUWnTps3EiRNXrVq1YsWKAQMGUOXRycmJKV/y+fx///137NixzLyEurq6EydOvHLlioihWIlxAAAgAElEQVRHIR2rjjeys7PDwsI2bdrk7e296str9erV/fv3B0ctFRWVGnS6xMREQ0NDQoiFhUVycvLXLBcIBLt27QKAdnZ26enpX2spafszMzPt7OwIIfb29unp6fRUXLNmjeDLy8/PD/zs5s2bJyI6x8TEABzI2Wdqajps2LDly5evWrVqzJgxtMqzmZlZYmIic+J//vmnlJSUsrJyaGgocz8IfOB1OGnSJKq0RkREgG+psbExOJwyj4qNjQVPVfAuXL16tcgnsbKyEnwPCSHDhw+nCQdpJ8nJyeC3COf/7NmzaXzx69evQSBWVFTctm2bSM+UHhw4ZMiQGrx66XC4gQSQABJAAkhAkgmAu9+AAQOcnZ07dOjw7t07SbYWbUMCSAAJIIGfTgCFv5+OFDusngCbzR41ahTk2q+hCED1B9ft3tzc3NWrV/fq1Wvx4sU0MpGawGazR48eTQgxNTVletjRBk+ePIEUaR06dHj8+DHdDxuJiYlQVRaUBULI9OnTxcNIaSo6CwsLEFykv7wIIbq6uh07doRiCPb29o8ePYKqKfLy8jTN38ePH3v37g3yTbt27cRrs8LozZs3v3r1qoiFkJQtMjJywoQJRkZGtNyHqqqqs7PzqVOnfqMUIhAIrl692qNHD0hQSBkyNxQVFYcPH3748GERyRWm+eHDB5CEFBUVqQOaOIFHjx7RmhX1y0E1NDQUiresWrVKKBQGBgbC6nfv3v3Tp0+vXr0CH0A1NbXLly8zJ87hcObOnQtam7m5OQ36ZrIFx70dO3aIhN9GR0draWkRQmbOnEkDqAUCweHDh6GUSrt27Z48eQLDcTgc8KpTVFTcvn27SFpANptNRT0YukWLFiIR8WlpaTALc3NzEQkSylgvXryYnreEkK5du2ZmZsLo+/btk5WVZbFY06ZNo0Ik5bBv3z4aPgyTpdkMaRvcQAJIAAkgASRQvwhs27ZNW1t74cKF+vr6O3bsqF/Go7VIAAkgASTw4wRQ+PtxhthDrQiUlZW5uLhAZYDg4OBaHfObGoWFhVFdqUuXLsePH2f6xJWXl7u6ukKQbLXOehcvXlRSUmKxWMw8aDCVgoKCSZMmgZxBa4nq6OiISDAQ6gup6KCxvLz8xIkTodAEFWK6d+8OwuKZM2cUFRVlZGT8/f1hoEuXLoHLnoODw7Nnz3bs2GFhYcGUQuTl5bt163b58mUR2YWJvKKi4unTp3/++Wfnzp2ptYqKigMGDIiIiKAuVMxDfvX21atXW7ZsSQnIycmpqqpWK2vKysr26tVL3M6KioqZM2dCDz169KjWZzMzMxOWmBAyYMCAelTgtaqqavbs2ZC6Ljw8XCgUvnz5EkLCFRUV16xZ4+HhAadB3759c3NzmeuVlJQEWmezZs1u3rwZEhLSs2dP6jQK2SpbtWr1999/i+vUOTk59vb2EG9+9+5d6DY6OhoWS11dPSgoiI6Vl5cHwb9dunShehx9Nzg4GDREqnQTQmbPns0MNr979y6o4e7u7iJOiwKBICgoCCJ5DQwMbGxsWCyWuro6RDpzuVzINCqe+E8oFD548ABimVksFoQhE0J69eolEqpPTcUNJIAEkAASQAKSTwDc/ZycnAYOHNi5c+d6FMQg+WzRQiSABJBAfSGAwl99Wal6b2dpaenQoUNB+KshElMS5nnkyBHIDgbykIKCgoODQ1BQEMh/paWlAwcOhBxq169fFzc4ODgYpKiFCxcyAwmzsrI8PT2hZyMjo40bN9JoREdHxzdv3jC7oh5/YIOzs/OjR4+6du1KNa+WLVvS3HxRUVFQ5WPp0qUg5G3YsIGZi00gECQnJ+/du3fu3LkzZsxYtWrV6dOnxTUXpgHM7YyMjICAgO7du1Ms2traf/75JzM5GrP9L9ouKiqCesqEEA0NjcmTJwcHB589e5ZGPVM4dENbW3vNmjUi5X0jIiJAFZWRkVm5ciVTURIKhampqePHj4foVFNT0xs3bvyi6fyKbnNzc0GA69y5M2iabDYbQuzhfAABV0ZGRvyBPy17Mn36dFDTsrOzg4ODFy1aNH369MWLFx88ePD169fMZHx0CgKBwM/PD8SyIUOGPHjw4Pbt23C6QnloJuSPHz926dIFoq1fv35NO+FwOGfPnjUzM4PMfVOnTvXw8ACDtbW1AwMDqZthdHQ0nPA+Pj70cChQc/HixRYtWsDH88CBAxEREdBy5cqVfD6fw+GA8q6srHzx4kXmsXfv3u3VqxecOfb29t7e3qAeysrKrly5sub63cx+cBsJIAEkgASQgEQR2LZtm66u7pw5c/T09Pbu3StRtqExSAAJIAEkUDcEUPirG844irCwsLBfv371Qvij7nJUPyKEKCoqOjg4rFmzZsGCBZCATElJ6ezZs+JLe+fOHWhgZGR0+PDhlJSUJ0+eHDhwwN7eHpQRDQ2Nv//+m8vl3rhxg4b99urVi7pKiXj8mZiYREdHZ2dn29ragklqamqHDh2iEkxycjL4ag0ePPjz58+0QIG4hXw+n6lFihtfVVV15cqVf/75RzwKMjs7++DBg926dQP5T1VVdd++fTU4DIp3/oN7Xr58SQuP9OrVKzEx8fXr14sWLaKukfb29uvWrVu2bFn//v1pvWMZGZmRI0cy0/nl5ubCqQjy0NatW/Pz83k8XkFBwfnz57t37w5h1GpqagcOHKBi0w8aXzeHP3z4EJL0MbPanTt3DoJ/6fncokWLp0+fiph0+PBhWNkVK1Ywl1UgENR8zkA/qampcH6yWCxtbW0aKTxixIhPnz4xxyotLR05ciS4EE6bNu3x48fJycmXL1+eOXMm+PqxWCw3NzeosTt58mRwUdTT09u5cyc4G8bExMD6uru70zrCnz9/DggIMDExAd3Q09OzvLycKqEdO3aEwiMbN26E9e3du3dUVNTbt29jY2O9vb1BcCSEWFlZxcfHczicTZs2QdivoqLi/Pnzq40cZ84Lt5EAEkACSAAJSBoBmt3P3t6+W7du+F0maQuE9iABJIAE6oYACn91wxlHEX769AkqdYqrUZJG5/PnzwcOHFi+fPnkyZPbt28vIppQ9URaWnrPnj3ixpeUlFAfKyUlJQMDAx0dHRoqq6en5+/vT+MTT58+raurC322a9fu4sWL4EZHPf5kZWV9fX35fH52djb4SUlLSy9dupTpbVdWVgb5E9u0aZOUlMTn82fMmAF9Llq06D/F5L5588bCwkJZWdnNzS0hIUF8djk5OT4+PuDS2L59e/EciOKH/Kw9Hz586Ny5M8xLXl7ewMBAV1cXXPOgpOy9e/dgrOLi4hs3bowaNYrma2MqREKhMCgoiMqF4NE5c+bMPn360J0aGhp+fn5MP7WfNYtf2k9ISAiUbVm/fj3VhQsLC2nkMtCbNWuW+NSoo6ujo6OIj2QtbT569CiNkYeB7Ozsqq3Je/bsWcj9Jy0traOjY2BgQD9l0tLSY8eOpXnH09LS+vfvD70pKSktX748Ozv7yZMnUNJXVVXV3d09KCjo8OHDbm5uMHcWizV8+HBweARXRGlpaXl5+YMHDwqFwidPnrRu3Ro6VFdXNzAw0NDQACmQEGJraxsXFwfzLSkpWbBgAZxg0tLSI0aMePr0af0Sgmu5cNgMCSABJIAEGiqBTZs26enpzZgxQ0dH58CBAw11mjgvJIAEkAASqJkACn8188F3fxqBlJSUtm3bQr78iIiIn9bvr+yIw+F8/PjxypUrU6ZMofIcSAaEEHNz89u3b1c7/r1792CytDFs2NraXrx4kek/VVVVtWPHDlpCV11dfc2aNVVVVTdv3qRJ+iAml81me3p6qqmpjR07VvyB7YkTJxQUFJSVlSH6eM+ePeBdaGJi8jUjq7X8/v374HUFkZibN2/+999/09LSMr683r9/f+/evZUrV4KgpqyszKwjXG2HP3Enn88PDQ2lPpJMtpaWluLTLC4u3rZtG7iGWVhYvH37lhpTVlb2xx9/iKhUtMO2bdsGBQVRcZYeJeEblZWVkL5QWlr6r7/+Ylp78+ZNcIUjhLRu3VqkVga0vH37NiTOU1JSCggIYB5ey+3S0tJly5bRePBu3br9+++/1R5bUlIye/ZsZtJJgK+tre3l5SUiOz569IgKvtLS0vb29nfu3IGEoXCUvLw8FdZlZWWnTJny/v17Om5ycrK1tTUhZNCgQQUFBQKB4O+//6YKL110RUXFcePGiZTr+fjx44QJE6id5ubm9eXaRaePG0gACSABJNBoCSQlJVlYWAwZMqRHjx49e/YUccBvtFhw4kgACSCBRkgAhb9GuOi/Z8oZGRlw966qqlptarzfY1btRq2oqIiLi1uzZo2jo6OpqWmzZs2mTZt29+5dZkQksyeBQBAXFzdmzBgTExMdHR1DQ0M7O7v169enpKQwm8F2RUXF/v37LSws5OTk1NXV169fz+PxsrKyhg4d2rp1ayjRAC1zc3Pv3LlT7e+2goKCOXPmtGvXLjY2VigUJiUlWVlZgahhb28vHtfJNKOysjI/Pz87O7uqqgrKj1A3OhaLpampaWho2PTLy8jISFNTk75rYmLy8OFDZld1sB0XFzdlypRWrVoZfHkZGxsPGzYMZi0+OofD2b17t56enoODQ1ZWFrMBm80OCAiAfHAASlpa2tTUdMGCBSLqD/MoSd4uLCzs27cvlHIWqUXL4/GCg4M7d+5sY2Nz8eJF6gzInE5xcTGUqyaEmJmZRUREVNsMDuHxeEVFRdnZ2WVlZcxOioqKtmzZ4uTkNH/+/Jq9QT99+rRhw4b27dvr6urq6em1atVq8uTJ//zzT7V668OHD11cXFRUVBQUFPr06fP27dvr169D0RKq3BFCjI2NfX19xatOnz17Vk9Pr0OHDuBIWF5efvTo0V69eunr6+vq6pqamg4ZMuT48eNFRUXMucB2ZmbmggULdHV15eTkWrduXb9yPopPB/cgASSABJBAIyEgEAjWrl1rZGQ0e/ZsbW3tI0eONJKJ4zSRABJAAkhAnAAKf+JMcM8vIcDlcv39/Tt06DBlypRqpatfMurP7rS4uDgjIyM9Pb2ysvKbfZeXl6elpT19+vTt27f5+fk1yCgCgSApKSk4ODgmJoYqKXl5eenp6Uz3wJpHLC0tzcjIAN1EIBAcOHAAIh8JITY2NqdPn87Pz2f2UFJS8uLFiwMHDkyaNKlLly6WlpZQ+TQ3N3fLli005RlTWGFu6+np7d69u1qZhjnKr9iurKzMzMx8++WVnp5Os7xVO1ZlZWVcXNzTp0/FVVqBQPDo0aN169bNmjVryZIl+/bte/HixX+KjK52xN+1k81mjx07lhCir68vXm9aIBDkfXnVcB7GxsbSLIomJiZ+fn7p6elMbhUVFWlpaWfPnp0zZ469vX3Lli3//PNPkQ75fH5paWltTgwIYH/+/PmrV68yMzNr/kwVFRVdvnz5woULUGNXIBDExsbOmDGj55fXqFGjvL297927V+3nhcvlRkZGnjlzhjlEYWHhq1evnj9//v79+9qcQidPnnz16hWG+v6u0xvHRQJIAAkggf9E4Pnz5y1btnR1de3atWvv3r1zc3P/0+HYGAkgASSABBoSART+GtJqSvpceDxebm4u1sesm3UqLS2lMbkQYW1vb7906VKfL6/ly5cPGjTIyMgIIoIJIXJycqdPnwbb+Hz+ixcvtmzZMnDgQBMTE+3/vXR0dIyMjLp27erp6RkdHV1/NTKRJWgwas61a9fGjRu3d+9eZgpIkcnW8Cefzz9+/LiBgQEovLKyslZWVnPnzl23bp2Pj8/q1avHjBljZmZGMycSQubPn89UBmvo/Fe8VVVVVfjl9X3z/RUmYZ9IAAkgASSABH47AR6Pt2zZsqZNm06bNk1TU1MkDuC3m4cGIAEkgASQQB0TQOGvjoHjcEig7giUlpbu3r2bljJg+usxt6HAgoeHB/hSMe0rKSlJTU199OjRgy+vx48fp6WlQQ1cZjPclhACAoGgsrJSxAXvP9nG4/HCw8N79OhBA7qZpwpzW01NzcnJiRZU+U+jYGMkgASQABJAAkjg1xF49OiRqanp4MGDLS0tHR0dRWI+ft242DMSQAJIAAlIJgEU/iRzXdAqJPBzCAgEgufPn3t5eVlaWqqpqUENBBkZGUVFRV1d3S5dusybN2///v33799Hn6mfQ7xB9JKZmblr165evXppa2vLy8sTQqAwroaGRtu2bSdPnrx9+/Zbt26JZ9NrELPHSSABJIAEkAASqMcEqqqq5s6da2hoOHr0aDU1teDg4Ho8GTQdCSABJIAEfgYBFP5+BkXsAwlINgE+n5+VlRUdHX3kyJFdu3YdOHDg3LlziYmJeXl5vzFOU7KZoXXCgoKC+/fvnzx5cufOnQEBAUFBQXFxcVlZWbXJ34f4kAASQAJIAAkggd9CIC4uzsDAYOjQoRYWFk5OTtWWrvothuGgSAAJIAEk8LsIoPD3u8jjuEgACSABJIAEkAASQAJIAAkggZ9GoKKiwt3dvVmzZmPGjNHS0goPD/9pXWNHSAAJIAEkUG8JoPBXb5cODUcCSAAJIAEkgASQABJAAkgACfyPwK1bt/T09MaPH29ubj5mzJiysrL/vYP/IwEkgASQQOMlgMJf4117nDkSQAJIAAkgASSABJAAEkACDYNAeXn5mDFjzM3Nx48fb2RkFBMT0zDmhbNAAkgACSCBHySAwt8PAsTDkQASQAJIAAkgASSABJAAEkACv5nAlStXdHR0xo8fb2ZmNn/+/Kqqqt9sEA6PBJAAEkACkkEAhT/JWAe0AgkgASSABJAAEkACSAAJIAEk8F0ESktLXV1d27ZtO2zYsFatWj19+vS7usGDkAASQAJIoAESQOGvAS4qTgkJIAEkgASQABJAAkgACSCBxkMgLCxMV1d33LhxRkZGf/zxh0AgaDxzx5kiASSABJBAzQRQ+KuZD76LBJAAEkACSAAJIAEkgASQABKQXALFxcWDBw+2trbu379/+/bt3759K7m2omVIAAkgASRQ5wRQ+Ktz5DggEkACSAAJIAEkgASQQKMkIBAICgoKSkpKGuXscdK/ikBgYKC+vv7kyZP19fV37979q4bBfpEAEkACSKB+EkDhr36uG1qNBJAAEkACSAAJIAEkUN8IPHv2zMHBYejQoQ8ePKhvtqO9EkogKyure/fuDl9evXv3/vTpk4QaimYhASSABJDAbyKAwt9vAo/DIgEkgASQABJAAkigkRFgs9np6enFxcWNbN7/N919+/ZJS0sTQubNm8flcv/vDdxCAt9LwM/PD9z9DAwMTp8+/b3d4HFIAAkgASTQYAmg8NdglxYnhgSQABJAAkgACSABySFQUFCwaNEiExMTV1fXd+/eSY5hdWYJj8dbvHgx+fIaPXo0m82us6FxoIZKICkpqV27do6OjtbW1kOHDv38+XNDnSnOCwkgASSABL6bAAp/340OD0QCSAAJIAFJJ/DgwQN/f/9Xr15hfUNJXyq0rxEQCA0NVVZWJoQoKSlFRkY2ghmLTrGsrMzV1RWEvwkTJlRWVoq2wL+RwH8hwOfzV69ebWhoOHLkSAMDgytXrvyXo7EtEkACSAAJNBYCKPw1lpXGeSIBJIAEGhuBz58/Dx8+nBDSu3fv9+/fN7bp43yRgEQREAgE3t7eoHmpqqpeu3ZNosyrG2Oys7O7desGEFxdXcvKyupmXByloRJISEho0aLF4MGD27Rp4+7ujj6kDXWhcV5IAAkggR8kgMLfDwLEw5EAEkAC9ZUAl8tNTEx8+fIln8+vr3Oo0e6UlJS2bdsSQtTU1G7dulVjW3wTCSCBX0uguLjY2dkZNC9NTc34+PhfO55E9p6YmGhsbAwQHB0dCwoKJNJMNKp+EKisrPTw8GjevPmwYcOaNWt27969+mE3WokEkAASQAJ1TgCFvzpHjgPWfwI8Hq+srKyioqL+T6Uhz4DH42He9JoXOD4+vk2bNpaWlnFxcTW3rKfvxsbGampqovBXT5cPzW5gBOLj442MjEDzMjU1ff78eQObYG2mc/78eSUlJYBgZ2f38eNHoVCYkpKyffv2ffv2oQ5YG4bYhhK4ceOGnp6ei4uLiYnJihUreDwefQs3kAASQAJIAAkwCaDwx6SB2xJBICsra9++fWfOnCkvL5cIg/5nBIfDefXqVUBAwJw5c4YPHz5hwoRr167hz6z/4ZGs/x8+fDh//vw///yzlmcRl8v99OnT06dPr1+/fuXKlfv37xcWFkrWlH62NQKBYN26dXD/uWTJkgZ5Jp86dUpRURGEvxs3bvxshNgfEkACtSXA5XJXrFjBYrHgmtO+ffvU1NTaHtyA2u3YsUNGRgYgODg4FBQUfP78eezYsYQQWVnZ1atXY6hmA1rtXzuVkpISV1fX5s2bOzg4WFhYvH79+teOh70jASSABJBAfSaAwl99Xr36afvTp083b9588ODB0tJS8Rmw2ewFCxawWCwtLa3Lly+LN/gte3Jzc8PDw6dOndqsWTNpaWn4yU4I6dKlS3p6+m8xCQetgcCdO3esrKwIIX369KnZgYLL5b59+/bEiRMzZszo0KGDrq6uqqqqioqKlpaWi4tLUlJSDaPU97c4HM6kSZPgZJ49e3aD9I7cunWrlJQUVBK4cOFCfV8ytB8J1F8CiYmJrVq1ot+etra2WVlZ9Xc632c5n89fsWIFhTB06NCysrKsrCwbGxvYqaamtn///gb5GOb7iOFRNRC4cOGCpqamk5OTrq7uli1bamiJbyEBJIAEkAASQOEPz4E6JRATE9OxY0dCSLNmzV69eiU+dmZmZufOnQkh0tLSu3fvFm9Ql3tKS0vj4uK8vb3t7OygECH8NJeXl1dRUSGEdO7cuS4rBrx+/Xrfvn3Z2dm1h1BWVpaRkdGo0oe/evXKzs4OVqpv375fE/64XO79+/fnzZvXsmVLOTk5eifG3Ni0aVPtUUtmyxpK2ZaVlbm5uRFC5OXljx49Kpn2/4hVbDZ73LhxsKBycnKHDh36kd7wWCSABL6bAJvNnjNnDvPq2qdPn7y8vO/usJ4eyOPxZs2aRTlMnDiRw+FwuVx/f/9mzZrBfmNj4+jo6Ho6QTS7zgjk5eU5OjpaWVn17NnT1tYWH0LXGXkcCAkgASRQTwmg8FdPF65emh0TE9OhQwdCiIyMzMKFC6v1+Hvw4IGBgQEhxNDQ8Df+9s3NzT1+/PiQIUO0tLTob3RCiIaGxsiRI4OCgiIjI9etW3ft2rW69JMKDw9XVVX18vKqqqqqzRmQkZExefJkY2PjOXPmNJJbrIKCgokTJ9Il+5rwl5SUtHz5cpphnRCioqJiYGDQ9MtLR0cH4tHWr18PnHNycu7evRsYGOjj47N+/frk5OTa8P+9bfh8/j///LN06dLY2Nhqa3fk5ub26tWLENK8efOnT5/+Xmt/xeg5OTk9e/aEkwGFv19BGPtEArUkEBoaqq2tDY8ZwAl30KBBnz9/ruXhDaYZ08+aELJs2TK4OHO53MePH3t5eXXs2NHU1DQoKKjBTBkn8osI7Nu3T0NDY9KkSSYmJg3y0d0v4obdIgEkgAQaLQEU/hrt0tf1xOPi4kD1Y7FYU6ZMycnJqdaC48ePy8vLE0Lc3d3rPtMNj8fLzs4ODQ3t378/mEElJGNj4xkzZty4caOWOeOqnd0P7gwLC1NQUOjevfunT59q09XJkyfBl01WVnbNmjUNvhoJl8vdunUrc+HEhb/S0tITJ05AIDAhhMViWVhYrFix4urVqykpKRkZGZmZmU+ePPnzzz/XrVv39u3b169f+/j4WFtba2pqysrKQhqmenFX9uHDhy5duhBC2rZt+/jxY/ETJi0trX379oQQZ2fnBnkHnpycbGFhAR9hJSWls2fPikPAPUgACfxqAmlpaSDBa2lpzZ8/H+rtDBs2TBJc0blcblFRUX5+frVPIn86mcrKSvpoSlZWdu/evcwh+Hx+Tk5Oenq6JJBhGobbkkYgNTXVysrK1tbWzs5uyJAhxcXFkmYh2oMEkAASQAKSRgCFP0lbkYZpz/v37x0dHeEO3MXF5WvhsRwOZ+bMmYQQVVXV8PDwOmaRnZ29du3a9u3bi0T1durUycfH58mTJxwOp45NEhnu1KlT8vLyRkZGiYmJIm9V++fNmzdpCcXGkDno5s2bTCc+QoiI8Mflcn19fWlFxaZNm65bty45ObnaeNji4uK9e/e2adOGir/a2trDhg3bsWPHf4q2rnZp6mDn8+fPTU1NQak8ePCg+IhxcXE6OjqEkEWLFjXIlFKJiYm6urqwfKqqqlevXhWHgHuQABL4pQQ4HM6KFSsgN+7kyZNjYmLgsvM14Y/P5yclJZ0+fTo4ODghIaGkpOSb5uXk5Fy+fPnYsWPR0dG1fComFAqLiorOnz8/c+bMPn36dO3a1dnZ2dfX9+XLl98cTigUZmVlXbt27datW0VFRbVpT9uw2exRo0bBRUlfX//7yql/9+jUDNyo1wQEAoGPj4+Wlta4ceNMTEzwq61eryYajwSQABKoMwIo/NUZ6sY7UEVFxdKlSyG6p1u3bjX8sH779i24INnZ2dV92u/9+/eDSxc4gunr648fPz44ODgjI0NCFi8kJETpyys0NLQ2JnE4nPDw8CFDhqipqRFCOnbs+OHDh9ocWB/bFBUVubq6wg2ViooKnG8iwl9+fr69vT296bpw4UK1kp9QKExMTBw7dqyCggI0NjU1nTdvXnR0dD1yxHj9+jVNpb948WJxae/IkSNycnIyMjJ79uz5wRUv+fL6wU5++uHx8fHgW0QI0dbWvnfv3k8fAjtEAkigBgICgeDUqVOg9LVq1erevXuJiYkQ81ut8JeVleXj49OqVSv5Ly9dXd3BgwcHBgZ+rcY6m80+depUz549lZWVZWVl1dXVbWxsfH19v5mN4d69e8OHD6cPgQF+9HAAACAASURBVOA6Twhp165dWFgY83vh+fPnR48eTUhIoAkTEhMTHR0dVVRU1NXV586d+zXbysrKUlJSHj9+nJqaSr84ysrKXFxcYLjhw4d/09X6u0eHRREIBGw2uy4TktRwMuBbP4vA06dPzczM+vbt2759+9mzZ1dWVv6snrEfJIAEkAASaMAEUPhrwIsrKVO7du2anp4eIURfX/+ff/6pwawzZ87AD/FFixbV/U9VX19fyOxGCFFQUNi5c+dvd/ETYXX9+nVVVdX/Wvbk8+fPV69e9fX19ff3/9otishA9fHPysrK4ODguXPnbtq06cCBA6D4iAh/JSUlVBzU0dGpNvaztLTU39/f3Nwc7s10dXUXLFiQmJhY9yfkD67CnTt3aIbKkSNHigTOc7lcT09P8K79wfLZMTExzs7Obm5ur1+/rtnm/Pz8a9euJSQk1A3M6OhodXV1WMe2bdumpKTUbB6+iwSQwM8lcOfOHbiWKioq+vv7C4XCR48efU34S0tLc3V1hWc2VIkjhCgqKg4fPvzRo0citrHZ7A0bNsBjLWZ7QkiHDh1Onjz5tW/wy5cv0yQAUlJS2traWlpa9Nu/Xbt2z58/h7EqKyvd3d0JIT179oTiCRkZGU5OTnQ4BQWFvXv3MoVCoVBYUVERGho6fPhwY2NjHR0dIyMjNze3+Ph4oVBYWlo6dOhQQoicnNz+/ftFZiTy5/eNDp2Ul5dHRkYuXrx49OjRM2bMOHLkSCPJ8yvCsOH9yeFw5s6da2pqOnTo0NatWzfI/LwNb9VwRkgACSABSSCAwp8krEJDtoHNZk+dOpUQIiUltWLFiq/9EBcKhZWVlRDnq6ysHBISUvdQQkJCqH8QIcTa2vrcuXO1iTMSN7W8vLygoCA/P7+kpIS6CYg3E9kDR9Xw8JZ6MK1YsaL23YqM0rD/BCyPHj0CzUtE+BMKhVevXjUzM4PbtmbNmvn7++fn51MmWVlZnp6eioqKUIKmf//+169fr2UpFdqJhGwcOXKEpjsU51BQUNCvXz9CiJWVVVpa2tds5nK5KSkpYWFhhw4dCgwMvH//vkgmrIKCAnob7O3tLXIDzOy2qqrK29tbRUWlbdu24vfwzJY/azsqKooKf05OTg1Y9f5ZxLAfJPATCaSnp/fv3x8utlOnToWo2K8Jf+Xl5XPmzKHqGxylpKREL2LW1tYPHz5kmnfq1Cn6AYf2srKyTZo0gW0tLa2DBw+Kf1FGR0e3bt0a2piYmPj4+CQkJDx48GD9+vVQV1daWnrXrl0wEE3Jp6Oj8/jx44qKiiVLlkDYMvRACLG1tWW60peWlq5du1bEMEJI586dk5OTi4uL4cKrpqZ28+ZN5nSKioqCg4Nv3bpFbf6O0YVCoUAgePDgwZQpU5iSqKys7JQpU1D7YwKvp9s3b940NDR0c3MzNTXduHFjDd+59XSCaDYSQAJIAAn8IgIo/P0isNjt/yeQnZ3drVs38KHbt29fDVySk5Pbtm1LCLGxsflaEsAaDv/xt9hs9rZt2zQ0NOgPehUVlWHDhp09ezY3N7eW/b98+XLz5s2urq7dunXr2rWrk5OTp6fniRMnmDcG4l3l5uYePnzY1dW1R48eEyZM8Pf3rzbxHL1lmj17tnjkpni3tdzD5/Nzc3NTUlKePn2anJycnp7+X/MW1XKgOmt2+/ZtuO8SF7wEAkFoaCiNgVVQUBgwYMDZs2eLi4sTExOdnZ3hpk5dXd3Ly+vjx491ZvPPHYjL5c6ZM4eeyTY2NuCuQkd5/PixiYkJIWTixIlfq/ry4sWLRYsWmZmZNWnSREZGRk5OTkdHx9XVNS4ujt5sZGZm2tjYwEATJkyoQbZ+8uQJSK5qamo3btyglsBGaWnp+/fvnz9//vLly3fv3uXk5PxXvZWaRHuOjIyEfJ3S0tJ+fn50v8hGZWVlZmbmq1evnj9/npqampWVJeIdKdIe/0QCSOCbBNhs9pIlS2iKj6SkJDiEfouNGTOGeeWJiYmByAB61erdu/f58+f3799Pdbr+/fu/e/cO+snLy6OqIhxiamq6c+fOsLAwehk3MTGJjIxkmkrLjIBgFx0dzbxueHl5gfI4b948+Ibl8Xjz588nhOjo6Ny5c2fLli0gLCorK1tZWYEoqaKiEhYWBqNwuVw/Pz94dEQI0dLSsra2btWqlYaGhoqKyunTp1NTUyGfibq6+u3bt5m2hYWFqaqqWllZ0Tjl/zq6UCjkcDhHjhyhD7coTEKIpqZmQkKCUCjk8XhM8kwbcFvCCUDUgpWVVf/+/e3s7ES+1iXceDQPCSABJIAEfi8BFP5+L/+GP/rHjx+htCghBGopxMTEvH79OjU1NS0tLSUl5cmTJzdv3jx+/Pj48eMhxV6XLl1+i/AHXochISGOjo70hzshRElJqUePHtu2bXv58mUNcltOTs7OnTuZtSDob245ObkOHTps37692lrGjx49cnZ2hvK7cIi0tHSbNm02b94sUkSC3jJ5eHiIBEuWlZW9f//+06dP1FmgludWRkbGhg0bbGxsDAwMdHV1DQwMmjZtam9vX8s0grUcpY6b/fPPPyoqKuLFPcAMgUAQGxs7cOBA6huioqLi5ORkaWkJ/Js1a3bs2LEaNKw6ns53DJeRkdG1a1d6BjZv3vzFixfMfoKDgxUUFGRkZCD+jvmWUCjk8/lhYWFQhpt2Qjfatm3777//wiHFxcXDhg2DtwYNGvS12oICgWDDhg2gAjg6OjIT8FdWVoaEhAwdOtTU1FRXV1dPT8/Q0LBdu3YrV66sjY8en89/+fLlnj17PD09Fy1atGvXLhrSe+nSJRD+mjdv/uTJE5E5gmvM3bt3p02b1qpVKz09PTj/zczMxo8f/82wZfHecA8SQAKUwIkTJ+DpS8uWLaOjo+n+e/fugWf92LFjmfLTli1bmEG+VlZW9DN748YNiBdmsVjLli2DuIF///0XUgfCxUdNTe3o0aMwyocPH9zc3GB/9+7d6c8JLpfr7e0NozRt2vT06dM09R6Hw4mKioJnGCwWy9fXF7ricDiTJ0+GlAiurq7gQ6eqqrp169a0tLRp06aBULh27VoQEG/fvg0FpqSkpPr27Xv9+vW8vLysrKz4+PjAwMA3b97s3r0bvuuVlJTOnDlDsQiFwpMnT8rLy6uoqFBPwP86Oo/HO3jwIA1c0NDQGD169F9//fXnn3/Onz/fw8MDnur5+vqOHj365MmT9fo7jomu8WyfO3dOV1d32LBhRkZGQUFBjWfiOFMkgASQABL4cQIo/P04Q+yhJgJlZWXjx4+nkoGUlJS6urq+vr7hlxeITWpqarSqBhQh3bp1638VsGoy4j++l5eXFxwc7OTkBOIRGM9isVq0aLFs2TKa/Yf2WllZGRkZ2b9/f6Z4p6ioaGBgoK+vT9OHy8jIODs7wyN3euzr16+7d+9O+TA3pKWlXVxc3rx5QxvTOq2TJk1iBk3fu3dv1KhRRkZGVlZWR48eFXGV4nA4+fn51UqWCQkJAwcOZN5uQWETFotlbW0dFRUl0hW1RMI3wsPDQdQbNGjQ17Kn5+fnh4SEDBw4kHnuEUJMTU0vXbok4RP8pnkRERGqqqr0dNLQ0Lhz5w49qqqqat68eeDGEhsbS/fDhkAgOHfuHPgDgp+Im5vbkiVL+vbtSz8R7u7u1C3u4sWLcKtpZWVF77FF+kxLS4Ob6iZNmgQGBtJ3i4uL161bx3SzBZulpaUVFRU3b97MDMSmR9GN0tLSnTt3tmzZkhkh2LlzZ9AlL1y4AJ8+FxcX8Zh9Lpd78uTJli1bUkp0aGlp6WnTpr19+5YOhBtIAAnUnsDdu3fhGZimpuaxY8fgwIqKipycnD179sCn0tjYeM6cOQEBATk5OZWVlczfCfLy8iIPJI4dOwYXn9atW8N34vHjx2kUMCFk1KhRzKcOz549g+cWioqKVB9JSEho0aIFfMzl5OSaNm06ePDgZcuWeXl5TZw4UV9fH94yMjKiV8vy8nLQEOkVRlFRcePGjSBZXr9+HaRA8F7kcDizZs2CToYPHy6eQiE5Obljx47QgBAye/Zs5jdsWFhYkyZNFBUVafLZ/zS6UCiMiYmBaGVCiIWFxblz5+hVWiAQgM1Hjx6FolXt27cXt7D2S4wt655ATk5Onz59bGxsLC0tXVxcvvbbpu4NwxGRABJAAkigXhBA4a9eLFP9NvLu3bv29vYyMjL09+43NxwcHGq+4a8DIkVFRRERERMmTDAwMGAa3KZNm4CAAOopIBQKw8PD6T0DtGzXrl1gYGBKSkpSUlJISMjEiROpb4KtrS1NcMbhcBYvXszsXFpa2tbWdujQoVQKGTFiBA04TU5OhpTkNKZSIBCEh4cz3Qz19fXDw8MpHy6Xu3Pnzi5duoinTYyJibG2tobRTUxMRo8evWLFivXr1wcEBAwaNIgQYmhoKOKSQLuV8I3Tp0+Dz+bw4cOZKyVudk5OztSpU+lNHfilBgUFlZeXizeuL3u4XO6iRYuY55WSkhK9mRQKhR8+fAAZrmvXruLls2/fvk1DoW1sbMLDw4FhcXHxvn374Ea3Y8eOVOMrKSkZPXo0xLXRG2YmKz6fv2XLFrgCuLm5UT++3Nzc+fPnw927srKyvb29p6ent7f39u3b165d26RJE1lZ2WnTpjHv55ndstnstWvX0srLkEgUZj127Fg2m33s2DHofOLEiSK+LZWVlbt27YJPpaysbKdOnWbMmLF69eqtW7fu2rUL3It69OjBlN2ZQ+M2EkACXyPALH/RrFmzxYsXe3l5LVy4cOzYsVZWVvThAXxUDQwMbt26VVhY6ODgQC9ZLVq0EPFQzs/Ph9R4KioqUIxo3bp19LotJyd36NAhEXs2bdoEeRsWL17M5/N5PJ6XlxcMYWZmJvKVTYeWl5f38fGhz9WKiooGDhxI35WRkVmwYAF9ivDu3btOnToRQpydnUtLS9+9ewdhvObm5omJiSL2VFRULF68mPmYrWvXrpmZmbRZdHQ0XF03bNgA/oO1H72kpKSqqorKjmZmZuLpFCCmYeLEiTAdW1tb5ujUDNyQWAJ79uwxNDQcNGhQ06ZNqVuoxFqLhiEBJIAEkICkEUDhT9JWpGHak5WVFRAQ4OTk1LRpU4PqXtQtDn6STpgwQUKUl4qKivv373t7e1tbW9P4XyUlpWXLltFEeP7+/lTWlJKScnBwoIGQsJwVFRVRUVFOTk5wo+Li4gI5tt+8eUOzF4Gr3fjx49+9e1daWnrs2LGmTZtCiYmlS5fCc/t3795ZWVkRQlxdXYHP+fPnTU1N6W0JbPTt25fGCJeVlUENwTFjxtCH/0KhMC4uDm5RZGVlx40bl5iYSKOuqqqqxowZA12JRGXWl7MzMDAQ9KBx48bReVVrfFlZGb0RordkKioqkyZNErnzrPZwydyZlZVlZ2cHImanTp3grFu+fDn1+jx79ix4RHp4eNBbXJhLTk4OLdbh6OgoAuHSpUtQkdPS0jI1NZVO/8iRI3JfXjTajr4lFAoTEhLgPDcyMrp16xa8VVhYOHfuXPjgWFhYBAcHFxYW0nxboaGhcE1QU1P7WtT5iRMn4D6ZEGJpaenr67t3795Vq1YNGjTIw8MjMzMTynESQkROfi6Xu3v3bjhWR0dn48aNmZmZNHb+9evX4DUjJSXl4+NDoTFnhNtIAAlUS6CkpMTT01Ok/IXINxT8KSsrO3jw4IiIiIqKirS0NJppgRDSqlWrV69eMfvn8XhQ+0teXv748eM8Ho9+ugkh8vLy1K+QHnXx4kW4yo0ZMwbyeELWET09vYiIiH/++adfv37MHx5SUlLNmjXbunUr1fWEQiFNUgw2Ozk5McWy0tJSFxcXqPmbl5d3//59uDy6u7uLXFcFAkFQUBA8zzMwMLCxsWGxWOrq6teuXaMGJyQkgBzp5uYGz1pqP3pubu7nz5+pRvk1V/fIyEj4XUEI8fDwEHkcQi3BDQkkkJKSYmlpaWVlZWJi4unpKXKCSaDBaBISQAJIAAlIGgEU/iRtRRqyPZ8/f05LS3sr9kpKSoLf9IQQbW3tQYMGiQhnkgAlOzv7yJEjVKeTk5Pz9vaG382XLl2iXgwuLi5fixBMS0sDDY6WLY6IiIAcZHBTYWlpSeOI+Xz+/v37IVpTX18f4jGzsrJsbW0JIcOGDSsrK4uIiKAKhY2NzdChQ+E2pkmTJtRTr7y8fMSIEYSQfv36UU+rzMxM8J6QkpJyd3cXKV2SmZlJ0zIqKSlVK+VIworUYENAQAAE8Iq7eokcFRoaCjdjZmZmW7du9fLyggxNhBA7O7vHjx+LtK8Xf165cgVUrZUrVwYFBcHdb69evSDFZGlp6dixYwkhTZo0YboBwtT2798PmqmMjMyQIUMCAgIePXqUmpr64sWLXbt20fPfxcWF6Yj38OFDIyMjQsj8+fOZwWtCobCoqAikVWlp6dWrV8O7fD5/x44d4I5nbm5O1UCKlyYEJIQMHTqUnrq0wfv37yGJoZSUlKurK/3gCIXC0i+vq1ev0loBHTp0YMqU169fB2vV1NQCAgKo5Aed08yAhJA2bdowe6aj4wYSQALiBMrKytatW0efkFG9T1FRUUdHp3Xr1m5ubqNGjYKvy+bNm9MLLNW84BAFBYXNmzczpY2KigpwK5aVlT1w4ACbzaapReEQFxcXpiQnFAoPHz4MVxg3N7fKysrY2FjISODq6gqyWl5e3oULF5YsWTJ9+vSFCxf6+/s/e/ZMROhPSkqiFz0jIyMRNysulzt37lx4xPLkyZPY2FhIa+jj48OEIxAILl68CFHGqqqqBw4ciIiIgJYrV66kI759+7Zdu3bwGAN+RdR+9MTERB6P5+npCTTU1NT8/PzoZbOysjItLW3Xrl00s4GhoWFUVBTTSNyWZAICgeCPP/5gsViysrIWFhYiD+Qk2XK0DQkgASSABCSHAAp/krMWjdcSPp/v4eEBZTSOHj1aWloqsSzu378/aNAgcA1r1qzZ06dPhUIhrSHbtGnT+Pj4Gow/e/Ys3BStXLlSIBDs2rWL6Sq4bt06ZmbD0tLSCRMmQADj1q1bhUIhFf6cnZ1Pnz4NAYkKCgrz5s179+5dQUHBuHHj4Hf/zJkz4a6pqqpq6tSpzHsJoVC4b98+uCPq06ePeJafs2fPUh2TENKrV6+MjIwaJiWBb+3ZswfAiiRDFDE1JydnwIABcOJByWmBQBAVFdW7d2/wkpswYUK9S6PD5XIhflxDQyMqKio1NRWKZWtoaEDwV2RkJIS42traihSbzsjIgIyTLBYLTnJpaWltbW1DQ0NdXV16rqqrq587d44Js6CgACpsduzYkXlGVVVVbdu2DZRER0dHeiKB8wIhREND4+TJk8yu4Dzv3bs3nMmEEGVl5VOnTom0CQ4Oho9Snz59mKIeNCsoKHB1dWX2cPHiRXirtLQUHFplZWVXrlwp4hBaWVkJ2Q/hWBaLtXLlShEpU8QS/BMJIAGhUFhcXLxq1Sr4VCoqKrZs2bJFixbDhw/fsGHDhQsXnjx5AvWyP3365OjoCMlDaVnbmJgYEMJo9K6GhsbOnTuLi4t5PF55efm5c+dArG/SpEloaGhxcTE8u6LtZWRkJk+enJqayuVyORzO06dPaezwrFmz+Hw+zfg5depUkU+0iPTPXM34+HgtLS34FqZ1RZgN9u/fLysrq6ioeOHChTt37sAs3N3d6c+Yz58/BwQEQMpUKSkpT0/P8vLy3Nxce3t7QkjHjh3p5Yv692lqasKjvtqPDo9wYmJiaG5WJSWlfv36LVq0aOXKlePHjzc3N2dms509e7bIpY85KdyWNAKPHj1q3rw5pMDevn27pJmH9iABJIAEkEC9IIDCX71YpgZuZFlZ2fDhwwkhJiYmz549+y2zLS4uTk9PZwbDfs2M5ORkcLtTVFQExzoq/PXs2bPaur20q71798KPb09Pz6qqqoULF1JtQkFBITg4mLaEDRqyOnXqVC6X+/HjRxhaV1fX0NCQECInJ7dy5UoamnT27Flw+uvRowcUTuXz+StWrCCEqKurg+5TUVEBadT19fWvXr0qMmJmZibclVHD5OTktm/fTmMwRdpL5p+bNm0C3WrWrFnUn0Lc1AsXLoDHZbdu3Zip7pKSkuCuTEdHR7z2hXg/ErUnNTUV4sHt7Ow+fvxYWVlJY5nnzp2blpY2ZMgQWFwvLy8ROCdPnoTzp2vXrt7e3jQRPj0ZQKrbvHmzyE0jn8/39vYmhCgoKDBdRMPCwsDtztjYmBnURqPwPD09xbv666+/QJim4zo4ONBMl1B0eOnSpYQQRUVFcU2Qz+dv374d1EZ5eXmIOqSRzq9fvwa3lz59+jAXHRbx6tWrIjk9TU1N7969K1FLjMYgAUkjkJub6+npCR9bFRWV9evXp6enf/z4UTzFKpvNHjVqFEgYAQEBMJHr16+De3uvXr2ov3mTJk0GDhzo4eHh4uICIbSEECcnp48fP+bl5fXq1YsQ0rJlS1dXVyirJS0tbW1tPX369EmTJpmbm4MmaGJiAl98VPgTf+BRA8z4+Hi4gllZWVVb6fvOnTvwHGXp0qWPHj0C3U1VVdXd3T0oKOjw4cNubm5wUWWxWMOHD4dnLQKBwM/PT1paWl5e/uDBg2BAcXExZNfV1NSEoIfaj7548WLul9eePXtAfKQXT/ENHR0ddPerYdEl7a3y8nIoLU0IGTBggEiIhqRZi/YgASSABJCAxBJA4U9il6YRGVZQUABP7y0tLb8WJ/tLcXz8+HHMmDGmpqYeHh708fvXRszNzQVrZWVl4Sc7Ff5sbW2Z8oRID0lJSeBOpaSkFBgYWFlZSVPpEUKkpaXXr1/P9PgTCoUhISFwz+Dm5lZRUZGVldW5c2fm7/jJkycXFBTQgZ4/fw7Bv02bNqVRVNu3b5f+8tqxYweEXoJzVocOHWh9BuihsLBw/vz54NhlbGxMKzxYWlqCbyMdSJI3BAKBr68vCH9z5swR0bao5Xw+H8QjQsiUKVOYPiAVFRXgJlmtGkt7kMwNGngO4rJQKDx69CjckKurq/fu3RvOKENDQ5GAeg6HM2PGDFDTjh49KhAIHjx4MG/ePHNzc60vrxYtWowcOTIsLIwZgkchREVF6erqEkJ69OiRnJwsFArv379PC2tu376duRD79u2T/fISSckPMXFw86ygoNCpUyeq3+3YsYN+OjgczqRJk6p9VCAQCEJDQyGPlZ6e3qZNm0BH6NmzJ0jhsbGxENwNYjq1XygUPn78GHIjslgsS0tLqjW4u7tTbZ3ZHreRABIQCoWFhYWzZs2CLw51dXU/P78aHqFlZmZCkD4hBMpuCIXCiIgIyEiwfv36hw8fwnMX5jcdfEX2798fimZQ5/e+ffsmJSUtXrxYPL4YcgWePHkSrjwJCQmQxkFOTm7Lli3My1ENi8hmszds2KCvr79r165qn36VlJRAtkEHB4e3b99CNg+wXF5enjrZycrKTpkyhfmFm5ycDMW1Bg0aBKXM6BW4efPmL1++FAqF5eXltRy9T58+tJNjx461b99eVVWV+mjLyclpaGioq6uDGNq7d++an1DWAATfqnsCISEhIItrampeuXKl7g3AEZEAEkACSKBhEEDhr2GsY/2eRUFBQd++fQkhVlZWzF/GdTYrGqHDYrHs7e2Dg4Pfv39fWlrK5XJ5X15VVVWlpaWfPn16+PDhrFmzQIwwMTEB6SQpKQmK7WppaQUFBYmbzWazr1+/7ujoCD+7J0+eXFRUVFJSAo/36e2NsbHx+fPn6eFcLnfFihUgYI0ZM4bD4aSkpDAL+NrY2MDtAT2kuLgYbjyUlJRoMObx48dB94G415KSEvD5UlZWPnToEIgpFRUVDx8+nDRpErTU1NQ8duxYVFQURImyWKyBAwfWF+2Pz+cvX74cqM6ePftrN3hcLpdmlpw8eTIVs/Ly8jZv3gxOEyLJ1ylnSd7YvHkzi8VSUVGhxZ3fvHnDPG2AjKurq4iYVVhYCIp28+bNaQohLpf74cOHBw8ePHz48MOHDzWU3CkpKaGR6fb29suXL4fCwSwWy8PDQyRi+tixY+Ck4+rqSl1TMzMzd+3aBcVqWCzW+PHjX7586eHhAbevTZs2PXLkCCxTZWUljNWqVSumG05VVdWZM2fAUVFeXt7X17eiogJKeaqqqgKQ+/fvgwuPpaVlQkICLGVhYWFISAh1NbK2tr5///6OHTsg5l1RUXHVqlVMhV2STwC0DQnUMYGQkBBwnW7atKm/vz+9llZrRkpKCnxdEkJGjRoFEiEIfywWy9fXVygUvnv3bunSpc2bN1dTU9PU1NTX1+/du/eOHTvoczWm8FdUVFRWVnbw4MHOnTuDvKWjo9OuXbtFixYlJCRQtY7NZkNGEUKIkZHR6dOnv/bVAD7FxcXF2dnZZV9e9+7do7W8xCf14MGD3r17b9q0qbKy8tq1a5CCg36tE0KMjY19fX3FLyBnz57V09Pr0KHDu3fvoNuQkBANDQ1HR0fq1VVWVlab0Tdu3EgrdQgEgg8fPty4cePw4cMbN27cunXriRMnYmNj169fD0LkkiVLapi7+ARxz28kkJWVRRNfLFiwgK7ybzQJh0YCSAAJIIF6SgCFv3q6cA3K7JycnJ49exJCdHV14+Li6n5uKSkpEB0JP9YVFBRatmzp7Ow8ffr0WV9e7u7uQ4cObd++vba2NihxkH0c3MSqqqoWLVoExxobG2/YsOHhw4dQxuTu3bv79+8fNWoU9R4aMmQI+EPl5+dDEiIVFRVwlSKEmJqa/vXXX3fv3o2JiVm9ejXEEMnIyGzbtk0oFEZHR0N6ckKIjo7OhQsXxFnt3r0bhJKlS5fCj/uwsDBwpoCSIEKh0M/PD9oYGRl5eHisXLly9OjRtNifpqbm7t274ebt0qVLNGeQjY2NeBEGcQN++x4ejzdr1ixYjrlz2Cfx6QAAIABJREFU59Zwh7Nt2zZYTQMDg9mzZ/v4+KxYsaJPnz6gfhJC3N3dmSUsfvvUvmkAVcTMzMyoKMzlctesWQMzpWc4MyAXus3OzgZ/N21t7ZiYmG+OJd4gOjoa8nDBKPBv//79mVn/4Khnz56BP6m8vPzgwYNXrVo1Z84cGxsbUANZLNaIESPgqKysLKhOA+Hq69evLykp4fP506dPh8jiNWvWpKenl5SUJCUleXl50Q/a+PHjoXb27du34fM1derUysrKwsJCZ2dnKKLduXPnZcuWLV68uG/fvuBSAVm37ty5IxQK2Wz2mjVrwCQ5ObkpU6bQ+3PxueMeJNBoCWzevFlOTq5fv363bt2ibrlfo1FVVbVhwwZQoCZOnAiR/kzhD6S6qqqqlJSUqKio+Pj4V69e0ToV0C1T+KOCWnZ2dlxcXExMzJMnTz5+/Ch+5U9MTITqGYQQfX19Hx+ftLQ0ZrPKysoPHz5cvHhx4cKFDg4OrVq1Wrt2LbNBtZPi8/kFBQWgyAgEgtjY2BkzZvT88ho1apS3t/e9e/eqTSPI5XIjIyPPnDlD1Zzy8vLw8PCYmJhvYqSWMEenO6vdWL16NSS0pQ8Fq22GOyWHgEAg2LJlC/xaa9eunUipa8mxEy1BAkgACSCBekEAhb96sUwN3Mjc3FzI1yMnJ3f8+PG6ny1k/qbF+5iyRbXbGhoaf/zxB9OJKTEx0dLSEhqzWCyoh2BgYKCpqQkpxgghampqs2fPptrBx48fIeKpe/fux48fp04QMjIympqaNCqHxWKNHj0aPB2Cg4PB2ZAQMm3atGrDqZ49ewYpzAYOHAhOCnFxcSAXTpgwAW4w3r1716NHj2qn1qJFi2PHjtG4Vz6ff+DAAZozyMzMbPv27dQZoe5XqjYjVlRU0BjqtWvXUo8P8WPv3btHZU0RGtLS0qNGjaKLJX6sZO5JS0uD8LF27dqlpKRQI1+/ft2xY0c6x969e9M6G7QNzTDFYrEWL15cs9sOPYq5Abf0oJTBWNbW1g8ePGC2gW0ul+vr6wv3M9Qq2FBQUJgxY0Z6ejo96uXLl926daPvTp48+cGDB35+fiBlysnJtWvXrn///mZmZrBHWlp65MiRNGa/pKQEzgdTU1MwJiwsDBL2iwwtJSXl4OBw//59OnRBQcG0adOgWxaL5eDgEBER8R1kaIe4gQQaHoGEhIRDhw6JFNWtYZoFBQVbtmyZNm0afc4nLvzVcDizzlXfvn2p8FfzIUKhUCAQhISEQJEEiB1u27ath4fHH3/84ePj4+3tPWHChNatW0MyBLg4TJky5Ts+71VVVYVfXtV+R3/Tzl/RgCZ7bdas2e/KpPwr5tWw+3z8+DH8nFNQUPD392/Yk8XZIQEkgASQwK8mgMLfryaM/X+bAJfLXbt2rZSUlIGBwe/KOS0QCJ4/f+7r69utWzctLS2amocpDcjLy+vp6Q0bNiw8PJw+oofpCQSCmJiYESNGGBkZUW0OjlVUVDQzM5s8efKlS5eYkZLUZ6Ffv34FBQWxsbH29vZUJYRjjYyMVqxYQTWa+Ph4CIQ0Nzf/WsEBDocDqevatm0LCRMzMjIghnH58uXUj+DGjRs2NjZMLzA1NTU3N7d///1XRCmrrKz866+/qCOVhobGzZs3v72ov69FWVnZsGHDwKXL19dXZDpMu6qqqnbv3i1SzEFeXr5Nmzbr16+HEFRme8nfDg0NBe/Orl270rA4MPvMmTPgjte8efPLly+Lz4XP52/evBnOQD09vdDQUPE239xTVFS0dOlSDQ2NJk2aODs7P3z48GuHfPr0ycPDg1k/WlZW1tLS0t/fnympw+H37t0Db0T4XCxYsODhw4fUeYf5IVVWVl6wYIHI3KOiokDhhXqIFRUV27Zt09fXpweyWCxjY+OVK1cyBUcYOiMjY9KkSfSC4ODggOmxvramuB8J1JKAQCCgj5eEQmFkZKSysrK0tDQkov1mJ/Sx2eDBg8UvFzUcLhAIbty40a9fP+bzCXodYG6oqKjY29tHR0fX0Fs9equ4uNjJyQmqQ4i4T9ajWTQqU9lsNji2E0KGDBmCq9aoVh8niwSQABL4FQRQ+PsVVLHP/0wgNzd3//79ISEhIoLaf+7ohw/Iy8u7e/fu0aNHN27cuHbt2j/++GPtl9emTZuCgoIeP35cWlr6tUHKyspevXp15syZDRs2rPry8vX1DQkJeffunfi8qPBHfRYyMzP9/f3d3d0nTZo0f/787du3P378mHl3VFVVdeTIkTFjxoSFhVEJT9yYV69ede/e3crKKikpCdIVHT9+vF+/fiI1fFNTUwMCAhYtWrR48eJNmzbduHHja3dQHA7nypUrY8aM6dev3/bt22vIdiRuTN3v4fF4EEqmrKwsXvJVxJ6qqqr4+Hg/Pz9Yr7Vr154+fTotLa0GvCI9SNSf586dA9156NChIin8uFxuVFTUli1boqOjvza7lJQUKBsN5TJPnz4tUnIXJguJ/y5fvvz3338fOHBA5HwoKSmJiooKCwvLzs6uGU5JSUlERISXl5enp6eXl9fx48fT0tK+JtSmpKSsXr3a3t7ew8MjMTFRIBBcuXLFxsZGUVFRRkZGUVFRS0urd+/eQUFB4oVEeTzeiRMnbG1toQy3UCisqqr6999/N27c6OnpuWLFij179jx58oT5WWNanp+fv3fv3v79+48cOTIyMvKboX/MY3EbCSCBbxKIiopSU1OTlpbeu3fvNxsLhUKaKIPmr6jNUbRNTk7O/v37HR0ddXR04IIpJSUlJyenrq5ubm4+bty4rVu3Xr16VcJ92+l0arORnp4OSVcXLlyIV7DaEPvtbcLCwtTU1CAHDlSm/u0moQFIAAkgASRQrwmg8Fevlw+Nr8cExIU/mExVVRWHw/ma/MHn86vVYkRAvH37NiEhgQoZPB6vuLi42jRDIgfW8Cebzf6aMljDUb/lrby8vOPHjwcGBopoUr/FmLoc9MWLFx06dNDW1t6/f//XTqGa7QkJCaGucBoaGu7u7pcuXUpNTc348nr27NmxY8dmzJhhYWEB6fy1tLRoiYyae67h3Vqayufzi4qK6FktFAohIdehQ4fOnz9/7949SOpX7UB8Pv/Tp0/i+nsthxYKhZ8/f2Z67FY7Cu5EAkjgOwjEx8draGhISUn5+fnV5nCal2DQoEHfnYa1qKgoISHh1KlTu3btCggICAwMjImJycjIEL9K1MYkCW+TmJhoZGQkIyNz8OBBCTcVzRMKhZ8+fXJ0dAQX1GXLljG/9ZAPEkACSAAJIIHvI4DC3/dxw6OQwI8SoMLfgAEDGps+9aPs8PivEODxeImJifHx8d8tUXG53MDAQDMzMxr1pqysbGho2PTLS1dXVyRErlu3bvUuE+JX4OFuJIAEfg+BFy9eQBaLWvqjsdns0aNHE0K6du2alZX1e4yuV6OGhYUpKSmpqKhcu3atXhneSI318/OD/BJWVlZQDq6RgsBpIwEkgASQwM8jgMLfz2OJPSGB/0IgJycHSpq4uLjUED78X7rEtkjgJxAQCAQPHz50d3eHotJUAaQbCgoKRkZG9vb2a9asefHiRe2d5n6CcdgFEkACDY5AVlYWJKJ1dnaujV85j8fz9PQkhBgYGDCr8TQ4MN8zodTU1JMnT8bFxTFTOhw4cEBGRsbExAQre3wP07o95tmzZ+bm5oQQRUXFw4cP1+3gOBoSQAJIAAk0WAIo/DXYpcWJSTiBwsLCfv36EUJQ+JPwlWqc5rHZ7Li4uHXr1rm6utrY2FhaWtrZ2bm4uCxbtuzUqVNv3rwpKipCya9xnhs4ayTwcwmUlJQMGTKEENK8efOnT5/WpvNdu3ZJS0vLysru37+/Nu0bSZuXL192795dVlbWzMwsMjISZi0QCLy8vAghnTt3prXCGgmQejdNNps9a9YseMw2YsSI2ujg9W6OaDASQAJIAAn8FgIo/P0W7DgoEhDS4rMODg75+flIBAlIJoHy8vK8vLycnJz8/HzxuhmSaTNahQSQQD0iwOfzly1bRgiRlZXds2dPbSz/559/VFVVCSHDhw9HcYQSCw4OptkY2rdvHxMTIxQKCwsLBwwYQAjp168fFoelrCRzIzQ0FGp6mJqa3r17VzKNRKuQABJAAkigPhJA4a8+rhra3BAIcDgcd3d3QkibNm2g/G5DmBXOAQkgASSABJDAfyQQEhIC9YJ69uyZnp7+zaPfvXvXqVMnQoi2tjZ1bfvmUQ2+QXR0tJ6eHk3LYGFh8ddff3l5eQHbiRMnNsjSJQ1mWT98+NC9e3dCiIyMzKZNm9CnvsGsLE4ECSABJCAJBFD4k4RVQBsaIwGBQPDHH38QQlRUVPC+pTGeAThnJIAEkAAS+EIgPT3dzs6OEKKkpBQSEvJNKlwud+nSpaBwzZo16wdr1n9zuPrSoKKiYufOncbGxlT7k/7yAi2plt6U9WWyDcxOHo/n7e0tJSVFCHF0dMzOzm5gE8TpIAEkgASQwO8lgMLf7+WPozdqAidPnlRQUCCELF++nMfjNWoWOHkkgASQABJorAQEAsGRI0fU1NTMzMzi4+Nrg+HJkycdO3aUk5Pz8/ND3yhKjMfj3b17d/To0TTmF0TATp06YWwBpSSBG9HR0YaGhoQQLS2tK1euSKCFaBISQAJIAAnUawIo/NXr5UPj6zeBhw8fNm3alBBiZWWVnJxcvyeD1iMBJIAEkAAS+F4CbDb73LlzN2/erL373t27d0+ePFlUVPS9YzbY4woLCzdv3gw/MAgh6urqJ06caLCzrf8TKywshPo2hJClS5dyOJz6PyecARJAAkgACUgWART+JGs90JpGRaC4uHjo0KEQg7Nlyxb0WWhUq4+TRQJIAAkgASTwiwjweLy4uLiJEyd26dJl//79FRUVv2gg7PbHCezcuRM8NDt16pSSkvLjHWIPSAAJIAEkgARECKDwJwIE/0QCdUrgxIkTTZo0IYR4eHjU3s2hTk3EwZAAEkACSAAJIIF6SIDNZufn5+NjRUleusePH5ubmxNClJWVg4KCJNlUtA0JIAEkgATqLwEU/urv2qHlDYFASUnJypUrHRwc4uLifmQ+XC43Kyvr8+fPP9IJHosEkAASQAJIAAkgASRQNwTKysqmTJkCeRgnTZpUVlZWN+PiKEgACSABJNDYCKDw19hWHOcrcQQqKip+PEXRgwcPrK2tJ06ciJXgJG6B0SAkgASQQKMnUFVVdfny5WPHjuGX1HefCxUVFefPn1+0aNGSJUuOHj2akZHx3V3hgRJCIDg4WFlZmRDSsmXLxMRECbEKzUACSAAJIIGGRwCFv4a3pjijxkggPDxcQUFBVVU1Ojq6Mc4f54wEkAASQAISTODVq1etW7eWkpKaPXt2eXm5BFsquaYFBgZqamqCd5isrKydnV1YWBgmCZHcBfuWZW/fvrWxsSGEyMvL79ix41vN8X0kgASQABJAAt9PAIW/72eHRyIBySEQERHR5MsrMjJScqxCS5AAEkACSAAJCIXCyMhI8GyytrZGV7XvOCXevHnTqVMnUP3ov3p6/4+9945rKvn+/yeQ0HuvgmBFbKBrw4Lg2htYVsWO2MAGiugqKqhYwIKI2HDXuhZwFRtKUUFFUAEFFKRX6T0JpPwej53fZ755JwRB6R7+0MnN3Jkzz1ty53XPnKPu5eVVW1v7Aw3CLu1LgMlkOjo64kM5a9as8vLy9rUHegcCQAAIAIGuTQCEv659fGF0vwoBLPxJSkreunXrVxkzjBMINJlAfn6+n5/fs2fPGAxGk3eCikAACLQYgdOnT9NoNISQqalpKwl/TCYzOTm5qy4lPnz4sKioKEJIVFRUXV1dQ0ODSqUihGRlZfft2wdOlC12prZVQ/fu3VNUVEQIGRgYREVFtVW30A8QAAJAAAj8ogRA+PtFDzwMu4sRwMKfuLj4lStXutjQYDhA4OcJHD9+nEajaWpq3rt37+dbgxaAABBoFgEWi7V582bs3GRiYpKVldWs3ZtY+ebNm927d58yZUortd9EM1qjGpPJXLJkCVb9Vq5cmZCQ8Pnz5x07duCVv1JSUu7u7uD31xrkW6nNzMzMUaNG4UW+np6erdQLNAsEgAAQAAJAgBAA4Y+ggAIQ6MQE/vnnH0lJSQkJCRD+OvFRbD/T09PTX79+3VV9RsicGSG0e/duDofTfqShZyDwKxKoqamxtrbGwl/37t0TEhJanAKHw9m3bx9CSEJC4tq1ay3efvs2WFNTY2VlhRDq1asXocdkMi9evKijo4MQkpOT8/DwoNPp7Wsn9N4UAnV1dS4uLiIiIgghWOTbFGJQBwgAASAABH6eAAh/P88QWgAC7U/gypUrEv/9gfDX/gejs1lQXFxsbW2trKzs6enJYrE6m/nft7e0tNTS0hIhRKFQQPj7Pi+oAQRamkBmZiaJT6ekpBQZGdnSPXA5HI6bmxuFQhEREfHw8Gjx9tu3wcLCwjFjxiCEpk6dWllZSYxhs9mBgYF9+/bF2t+BAwe66vsbMuQuUHj8+LGqqios8u0ChxKGAASAABDoRARA+OtEB6vLmlpTU5OZmRkVFfXw4cPg4OCEhIQOFYfr69evR44ccXNzy8vL67DH4NKlS+Li4r94jL/6+vrS0tK8vLzs7Ozc3NyysrKWPV5fvnw5duzYo0ePulgWxbCwMBxpaPjw4bm5uS0LrSO09vXrVyMjI+xttHPnTvD46wgHBWz4pQi8evVKWVkZX4OtLfxRKJR9+/Z1Mbypqan9+/dHCC1atEjwASksLKxfv34IIWlpaU9Pzy72C9XFDmVubq65uTks8u1ihxWGAwSAABDo+ARA+Ov4x6jLWlhVVRUdHX3kyJHZs2cbGBgoKyvLysrKyclpa2v/+eefVVVVHWHkVVVVS5cuRQgpKSm9efOmI5jUoA0+Pj5UKlVaWvrXDGFWVlb277//rlmzxszMzNDQUFtbW19ff+zYsW5ubsnJyQ0S49vIZrNfvnzp6up68+bNuro6vm+5XG5RUdGsWbMQQj169Hj//r1ghc675erVqxISEgghExOTzMzMzjsQYZZHREQQ0cHW1hZmxcJAwXYg0EoE7t+/j1P6IoR0dXXj4uJaoyN3d3e8fNLW1rakpKSoqCglJeXly5ePHz9+/fr1+/fvi4qKWqPfNmgzNjZWS0sLIWRnZ9fgHezBgweGhoYIIT09vVevXrWBSdDFDxBgsVh79uzBSVpgke8PAIRdgAAQAAJA4IcJgPD3w+hgxx8nUFFRcevWrZkzZ6qpqWEXAL5/VVRUXr58+eMdtNye5DX7oEGDMjIyWq7hFm7J29tbVFRUVlb2yZMnLdx0h2/u5cuX06ZNI7NKvnNpwIAB165da1DLIyNjs9k4KjxCaPTo0Q1ODt+9e6ehoYEQkpKSunv3Ltm3CxTOnDkjJiaGEFq4cGGXDA/v7+8vLi6OT4w5c+Z0yTF2gfMQhtCFCVy7dk1SUhJfgwMGDEhPT2/ZwbLZ7LKyMkdHRwqFghBSVFS0sLAYMmSIlpaWoqKinJyc0n9/f/zxR3Fxcct23TatxcTEqKioIITWrl0rLCDD6dOnxcXFRUVFfXx82sYq6KW5BEJDQ7GAC5l8m4sO6gMBIAAEgMBPEgDh7ycBwu7NI1BXV/fs2TMrKysi04iIiCgrK2tra+vo6Ghra8vLyyOElJWVnz9/zuVymUxmWlra06dPfXx8XFxcfH19eaPbNK/vH6qdn58/cuRIhJC1tXV1dfUPtdEWOx06dIhCoSgoKGBubdFlB+iDw+Hcu3evV69eROyj0WiKiooqKirYhQ1vV1dXv3XrljB7serXrVs3LOodPXq0QX+KgIAAaWlphFD//v0TExOFtdYBt3/58sXFxcXf37/BE5jD4Tg7OyOExMTEzpw50wHt/0mT2Gz2tm3byBkCwt9P8oTdgcAPEDh//jx+u4AQGjNmTGFh4Q80wrdLQUHB/fv3/fz89u7du3bt2vHjx+MUt+Ri5yuIiYlNnjy5oKCAr51O8fHTp0/du3dHCK1Zs0aY8BcVFaWsrEylUv39/TvFoH41IwsLCydOnAiLfH+14w7jBQJAAAh0EAIg/HWQA/FLmJGZmbl9+3bi5ScpKTl+/HgvL6/Xr19nZGTk5ORkZWU9e/Zs+/btfn5+xcXFISEhK1euNDAwkJOTw0/wPXr0+Pz5c1vCio2N1dPTQwi5u7u3Zb/N6otkM1RWVn779m2z9u3UlaOiovr06YPPDRqNNmnSpPPnz0dERMTExFy+fHnSpEnEz8vc3FzYfO/OnTtY9RMTE9u+fbswdWz37t0IIRERkT179rDZ7M7Cra6ubtOmTTj2k5+fn6DZdXV1y5cvRwhpampGRUUJVujsWxgMho2NDZEAli1b1rj7Z2cfL9gPBDoggVOnTlGpVHwZzpo1q8HbbLPMzs7OnjNnjrS0NF41SS5w3oKMjIympubo0aPXr1/v6el5586d1NTUThriMyUlBQcqbcTjr7S0dN26dVOmTGligItmAYfKP0mAzWbv37+fRqMhhObNm1deXv6TDcLuQAAIAAEgAASaRQCEv2bhgso/TiAvL2/atGl4GQ6FQhk2bNjff/8tbNFNSkqKvb09XtiCn+N79Ohha2t769YtwbDWP25TE/Y8ceIElUqVl5fvyEtocTZDhFC3bt0+fvzYhGF1kSpHjhzBEZ0oFIqNjQ2ftFdcXOzo6IjdTJSUlBr0hYyJicEx0alU6po1a0pLSxtEU1pa+vvvv+PwSTExMQ3W6Zgba2tr586diy+iuXPnCiZ8LC0txT4Iw4YN65KZPaqrq3FwRgxh69atnUi37ZgnFVgFBJpL4OTJk0T427ZtmzCftaY3GxQUJCUlxSvz8ZYNDQ337t0bFBSUmJhYWlraYS/5urq6srKy4uLi0tJSJpPZ4PArKyuLiori4+PxW64VK1Y08uqiurq6rKysk4qbDQ6/y2wMCQnR1tZGCBkbG8fGxnaZccFAgAAQAAJAoLMQAOGvsxypTm9naGgoXsaLw6glJSU1OCQ6nX7r1q2hQ4fih3gqlWpqanrw4MGEhIQGF2A22EhLbczLyxszZgxCyNTUNCsrq6WabfF2iPBnZGSUkpLS4u132AbJ8jE1NbUXL14I2pmcnIy9JKSkpARX+xYXF8+bNw+fadbW1o1kbY6MjMQB/ubMmdNB0s4IDrbBLXQ6fcGCBXiMw4cPFxxjQkKCgYEBQmj69Ok/uY6ewWB0wDl2eXn55MmTyf3Ey8urQVCwEQgAgZYiICi07d+/H7+kUVZWDg4OFtZRVVVVRkbGx48fExIS0tPTv337Jkzkevv2Lc5lgRBSUVExMzNbunSpmZkZ7mXhwoXCdhTWNYPByMnJSUxM/PjxY2pqam5ubqsGAy0tLb127drKlSvHjh3722+/jRkzxsbGxsPDIyoqik6nEyNLSkpWrFhhbGw8adIk/AQ1c+bMzvUbRMbyKxeysrLww6ScnNzVq1d/ZRQwdiAABIAAEGgvAiD8tRf5X67fmJgYHR0dIkA0KPylpaXZ29srKiriav379z9x4kR2dnZ7wbp//z5eZbx69Wphb+Pbyzbefjkczs6dO3FW1o4sUPLa3CLlr1+/WlpaSklJTZgw4du3b4JtZmVlDR48GCEkKSl5/fp1vgrnzp3D8eb79evX+Bv4gwcPioiIUKnUkydP8jXSwT8SX0XsrhgfH89n8N27d3HsQkdHx59xw8nOznZwcDAzM7tz507j/iZMJvPVq1chISEVFRV8xrTGx5KSEgsLC3xLkZCQuHbtWmv0Am0CASDAYDAiIyP379+/bt26rVu3/v333ziWH341hSW533//vaSkRJAVg8G4c+fO9OnT9fT01NTU1NXVtbS0+vXr5+zs3KAjNovFCgwMXLJkyf79+1+/fl1aWspisQICAnD4YBsbm6YvDuBwOK9fv16xYkXPnj3V1dXV1NQ0NTUNDQ0XLlzY4IOKoPHN2oIjHU+bNo1kO8F3J/yvhobG8uXLo6Ki8F3006dP+vr6vBXU1NTs7Oy8vb2Dg4MTExPz8vIqKira/rVos4b8i1dmMBhOTk6U//6cnJyafmb+4txg+EAACAABINCyBED4a1me0JpQAnQ6fe/evTjlAoVCMTc3f/r0Ka+a9urVq3HjxuEHXAUFBXt7+y9fvghtrvW/wHMVCoUiLS198+bN1u/w//VQWlr6/PnzDx8+NPKAWFZWlpeXh10DWCzW2rVrEUJmZmYN6l//r+kuV8rOzn78+HFsbKygjwmXy3316hX21JOVlX306BHv6AsLCy0tLbEmePr0ad6v+MolJSV4na+2tnani4L36dMn7NCHEFJQUAgPD+cbnZubG4VCadAjkrdmQUFBaGjoxYsXz58/HxwcnJ+fz/stuVgQQubm5o1H7n/06JG+vr6ioqK3tzdvI61ULi4uNjc3J5PqyMjIVuoImgUCvzKB7OzsjRs3khi+OF/Q3LlzMzMzuVwuTrBDoVBcXV0FXwyUl5e7urqSd35E5xIVFZWUlDxw4ICwqCC8jxBcLvf58+e4kaYLf/X19VeuXOnRowfpFBdE//tbsWLF169fW/CwpqSkbNmyhZeSiIiIioqKlpYWb2YSAwMDPz8/JpOZnZ09fPhwPttwtFk5OTl1dfVevXpNmDDB1tbW3d398ePHwkC14BCgqeYSuH79On6FPG7cuHZ8k91cs6E+EAACQAAIdDECIPx1sQPaoYdTWVm5Y8cO7F6EEFJVVV21atWbN2+qqqquX7/eu3dv/HRrZGR09epV3tUu7TKq8vLy6dOnYze6jIyMH7ahtLQ0NTU1Li7u8+fPGRkZJSUlDUpUpH0mk7l161Z5eXltbe0LFy6Q7aTA4XDu379vbm5uYGDg4OBQXFxcX1+P8zNYWlo26ByB92WxWAUFBcnJyXFxcSkpKdnZ2W2+BnJkAAAgAElEQVTjckUsb/uCj48PjqWtq6v74cMHXgNiY2NxwB1lZeX79+/zfsVXfv78OZ6nTZ8+vdMF5L5z5w6JhCUtLR0YGMg7uurqaisrK4RQr169hPm2FBUVeXt7Dx06VF5enkajUalUOTm5oUOHXrhwgSyFY7FYdnZ2+Prt3bt3I5J9VVXVH3/8gWu6uLjwSQB1dXW5ublJSUnx8fFfv37Nzc39gSQAfG3m5eUNGzYM9zh16tSysjJeAqTMZrMLCwtTUlLi4uKSk5OzsrKE1SS7QAEIAAFMIC8vb/78+TiGL5al8BWHEDp06FB9fb2trS1CiEajnTp1ig9aYWGhvb09TsQkIyMzduxYBweHP//809PTc9euXdLS0jQabcWKFU2590ZHR+PQwFZWVk25dTAYjOPHj6uqqmLbBg8ebGtru2PHDg8Pj+PHj+N88aNGjWqplGIFBQVTp04lZHAe+U2bNr179y4tLS0yMnLv3r39+/fHrpHy8vLHjh1jMBihoaFWVlbq6uoEL28LvGU5ObmxY8fevHmTTw/lAw4f25LAx48fBw4ciBDS1dUVfPHWlpZAX0AACAABIPCLEwDh7xc/Adp6+DU1NWfOnDEyMiKZ+PT09GbMmIGfvLEnYAdxqoqKisJrkzdv3vxj62hKSkq8vb1Hjx6tpaWlpqamoaGhra3922+/+fr6NrKmsrCw0MzMDCFEoVDc3d35VAwul0uyMeDYRtHR0Uwmc/78+ThMm7DoP1+/fnVxcRk4cKCmpiZeytStW7cJEyZ05KQlP3l2VlRUkKwO48aNKyoq4m3ww4cP2BkQIdS3b99jx469evXqy5cvaf/9paSkvHv37vHjx2fPnp00aRKeic2aNatziUH19fWOjo5kZiguLs4nJZNMkbNnz27wzElMTLS2tsYJUkg7uCAnJ3f8+HFyJnt6euLg/SoqKq9eveJFzVsODw9XV1dHCKmrq4eEhPB+9f79+zVr1vTp04estjMwMLC2tuZTbHl34S0XFBTcuHHDycnJ3t5+7969z58/x0G+cnNzccxQMTExX19f3l1IOTs7e9++faampuTq0NHRGTt2bEBAAKkDBSAABBokQKfTnZyc8G86lUq1tLQ8fvy4l5fXhg0bxo4d6+Hh8fXrV3wNioqKenp68jaCE9HiW0ffvn2vXr1aWlpKfvUCAgLwewt5efmmXIwxMTFY+LOwsGhwQTFv1/X19SdOnMCB81RVVd3d3XNycshvfVJSEl5jizO5kxsdbwvNLaekpPTt25fcSLW0tI4dO8aXcCktLe3PP/9UUFBACGloaGBH9ZqamsjIyCFDhuAHg759+86cOXPGjBkmJiaampp4dTNpdsiQIb9UxI/mHoW2rF9ZWYlzyouLix89erTxl75taRj0BQSAABAAAr8gARD+fsGD3s5D5nA4X79+PXbsGE5RR55WEUKTJ0/uILkpOBzOwYMHKRSKvLw83xLRJuJLS0tbvHixoGIiIiKir69/8+ZN4i3F1yDRYgYPHtyg59T79++7deuGuY0cOTI3N7empmbGjBkIoTlz5vDNInDjL1++xGIiL20sZo0cOfL169ctMqvhG0i7fwwLC8MaE0LIxcWF75k7Pz8fB9vGTKhUqpKSkoaGhtZ/f5qamqqqqnJyciQTJUJIVlZWMFBguw+zEQOysrJInhzshnPgwAHe+nfu3JGWlsYSM+92XE5MTCSLZMXExEaNGrVp06Y//vgDe0oihHr37p2YmIgrp6enjxgxAvuw3L59W7A1LpfLZDIdHBwwcFtbW3KustnswMBAnF6Z9xQVFRUVERGZN29eYmIi0QIEW2az2cHBwWPGjMGRBHALGhoa3t7eLBYrIyMDO1xoa2s3mJH53bt3EydOxJcD6R3HYzIxMQkNDW1ulgBBC2ELEOjCBMLCwvBLFElJSScnJ5JdncPhlJeXV1VVeXp6kp/C+fPnE188Npvt5eWFff169erF9yaAy+Xu27ePXJjTp09vxJ8d422W8BccHIxvZfLy8qdPnyaSH27q/v37RFDr06fPx48ff/4I8sYb1dXVvXnzJt+vEu6irq7u2LFjeHHookWL8H2yrq5u8eLFCCFpaekbN27Q6fTq6urCwsLPnz8HBQUdOnTIwcFh8eLFq1evvnbtWiNBQn5+FNBCEwlwOBwvLy/8q2RjY/OTubOa2ClUAwJAAAgAASAgjAAIf8LIwPZWJ/DmzZsBAwaQmTZCaNy4cdHR0Q0+Cre6Nf/bQV5e3ujRoxFCY8eO/YGoeR8/fpw4cSIempqa2vTp0x0dHV1dXU+dOmVraysqKiovL3/kyJEG5bbIyEhlZWWE0KpVqxpUHM6ePYsnUZKSktiDqaysDAehazCw0cOHD3FmW4QQDlju7Oy8d+9eHx+fsWPHIoQMDAwePnz4vwA6/Sc6nb5mzRp8CLS1tSMiIviGhFdMDxw48Lvrp3hP0QYJ87XccT7eu3cPzx7JEFasWEFOqrq6OizDycrKBgUF8Zmdn59vbW2Nd9TQ0Dh06BCO68dgMF6+fImlNCkpKV6Nz9fXV0xMTEREhE9eJC2/ePECe9EaGBi8efMGb6+vr7948SLeLioqamxsvHz58h07duzfv9/b2xt3NHjw4Pfv35N2+AoPHjwgcQwRQsSbWF9f/9OnT58/f8YBvPr27ZucnMy37/Pnz01MTPAwu3XrNm/evG3btu3du/f06dM4F7CWltaNGzf49oKPQAAIYALErVhERGTdunWC6kZ8fDz5AeKLKpCSkmJsbIwQUlRUvHLlCh/S3Nxc3nczMjIy383M07jwx2AwyN2vqqoKu8nTaDRnZ2e+0CIMBmP9+vXktkmhUJydncm+fHY2/WN1dfXMmTPxO5idO3c28qhTUFAwcuRIhNDAgQNxpJG6ujoc0KPBUK1cLpfD4TCZzAYfKppuIdRsQQIRERHYaXTQoEGfPn1qwZahKSAABIAAEAACP0AAhL8fgAa7tAyB+Ph4EtePvNXX19c/cODAd1/st4wFwlu5efOmjIwMhUJxc3NrxNWowQY+f/48fvx4vCTHwsIiLCyMODhwudzt27fj6YSRkVFCQoJgC7du3ZKSkhIRETl8+LDgtzU1NSRE2oQJE7BvRVFREc6LsnLlSr7JyZMnT3r27IkQEhcXt7W1TUhIIL4A1dXVU6ZMwcZ0ukWsgmT4tgQHB2tqauLRrVmzRph/ZXJy8sGDB/FybE2BP3V1deyNQmaAO3bs6CwzKxaL5eTkhLOXjBgxAmeQHDFiRF5eHmaVmpqKZbX+/funpqbyAmSxWAcOHMDhEfX09PiS22RmZmJZXFJSklcUS0hIwBLbggUL+CbSXC63vLx8wYIFOJaWm5sbxshmsy9duoRDKMrLy7u4uKSnp5NzODs7G1uIENq4cWODgas+fvw4aNAgfIBUVVXXrVvn6+u7b9++hQsXWlpavn379q+//sKrBXv06MF3xUVERPTv3x+btGDBgvfv3xOz6+rqsC6AEBo/fjxxYuKlBGUgAATIaycDAwPB3OgVFRUrVqzAlyd2fZKSkiI3jcDAQBzz18HBgVx6GCmbzT569Cjf7dfc3JzcvhokHxcXp6urixAaPXo0X4qhz58/L1++fN++fTimQVJSEr5ZjRs3Ljc3l6+1x48fk58PbLyent7r16/5qjX3IxH+vptMKTk5GaulRkZGOLsISeElJycXHBzc3K6hfhsTyMvLmzBhAs6pdevWrTbuHboDAkAACAABICBIAIQ/QSawpS0IMBiMTZs2YWerCRMmeHt7L1q0CM/PaTTa+vXr21H7q66uxgqFhoZGc3OA8s5zJkyYwLdyuaqqikSdExER2bVrl6CK5Ovri1MoCAZB53K5UVFReJ2vgoICcbbKzc397bffEEJr1qzhbTAlJQWnNaBSqQ4ODnzB0ZOTk0m8ITk5OdJaWxz+Fu2DxWIVFRVlZWWlpqZ+/fo1LS3t/fv32AUSL0dtxFkMG1JSUoL3/crzl5qaGh8fjz03KRSKtrb2ggULGlx83aKjabHGcnNzcTpIMzOz8PBwrKApKio+ffoU93H27Fk8r7azs+PT1N6/f48D2yOE+vfvv2/fvpCQkJT//gICAiZNmoQ1QR0dnbdv3xKLKyoq8JJzExMTnMqTfMXhcHx9ffEFbm5uTjIbvnr1Ck+/JSUlPTw8iCqNd3z+/DnJdKmnp0ecBEmzdXV1W7ZswTPzPn36BAYGEtGQwWCUl5dnZmaS1coyMjK8CmZOTg5O6ywiIrJs2TI+mSAnJwdfU3jx8sWLF0mnUAACQIAQIMlzJk6cyPcTQ6fT9+/fj185DBw48ODBg3hF8Lp16/B1in/saDTauXPnSIPYeS0wMBD/0klISAwePBiLhuLi4l5eXo04ymVmZg4ePBghZGpqSm4yuOWjR48ihLS1tfHPwYsXL3D+3+XLl/Mt8v3w4QO+c1IoFGNjYxw0ECG0bNkyQX9GXrO/WybCn4SExNWrV4XVZzAYrq6u+B5rbW2NqXI4nD///BMh1Pi+wtqE7W1JgMlk7tixA4eqcHFx4ft5bUtLoC8gAASAABAAAoQACH8EBRTalEBYWJiWlhZe+PPu3Tsul1tVVeXj46Onp4d9lPz8/NrUIJ7OXrx4gW2bMmVKc5M5PHz4EEsV/fr1E8xS8urVKxKeDyHUs2dPQU3Kw8NDRESESqUKCn90Ot3e3h7LHAsWLCA5eUn6go0bN5JJEYfDOXDgAHalnDFjhqCjxNmzZ3ljok2ePJlP++BB0nGLb9++3bhxo4mJiY6OjpaWlqamJk6lQtZ7Tp48OS4u7seevKuqqnASRk1NzcePHwtzG+yYdMg63127dtHpdOJ3s2PHDi6Xm52djb325OTk7t69yzuE+vr6rVu34tOMYJSXl8cOkSQrN4VC2bBhAx8Td3d3CoUiIyPD5+MQFhaGBT5NTU0SNJPBYOBcwKKiooKLBFkslouLC/EFxro2X3fEL0ZLS+vevXu8o8BlEkEMD8fBwYFM8n19fbHuOW7cuLS0NL59//nnH1lZWbwXdiDi0xH46sNHIPBrEiC/PlOmTOFNEFRRUeHu7o5DDairq9+9e7e8vBz7mBsZGeE8uf7+/jhsxezZs7FTLZvNzsnJOX78OH4SoFAoCxcuTEhIsLOzw+FWdXR0Lly4IOx+XlJSgt3tu3fvzru4ksFg4BwL6urq+F1FVFQUjgBrbGyMn0Bw4qw7d+4Qxd/ExCQqKsrLywvfCiQlJbdv3/7dnCGNnAb19fX4RQWFQrGxseHLN4UVz69fv27btg2nHDEwMODNA+vn54fVwF27djV3IUIjVsFXLU7g7t27+DlwwoQJgo9eLd4dNAgEgAAQAAJAoCkEQPhrCiWo08IEmEwmCaDj5OTE66QWEBCARbcJEyb8zBP2D1vM4XBcXV3xhH/16tW8tn23TQ6Hs2vXLixcnj9/nq9+RUXF0qVLiZRAlAg+L6cTJ05QqVQREZGDBw/ytsDhcK5evYq9D7S0tEJDQ8m3ZOq1du1aYnBlZeW0adMQQvr6+oJ+i8nJyWR6gy2RkpIStJl00QELOEifYIoYPsLi4uLdunVbtWpVg4kdGh9Xbm4udpkcOXJk51rsyWQy161bhxCSk5N78OABl8v19/fHOpeJicmnT58OHTqE55CjR4/GwfsICqKmqaqq7ty5c+zYsbzqG8ZLpVLnzZuHg0+RHblc7rNnz7AfzZIlS0jujtTUVByri0ajubq6Eqe8rKwsU1NThNDQoUPxcjbepiIiIrp37857NNXV1fmSUD969AjPye3s7PiuIy6XGxkZidVGUVFRrC+Qlc50On3hwoU4b+bjx495++VyuTk5OVg+IL2LiYl5enrCZJsPFHwEAt++fcOZozQ1Nf39/YuKisrLy9+8ebNo0SLipufu7o6vem9vbyqVSqPRTp48yeVy4+PjSSSKKVOmbN++fe3ataampvhqpVAo1tbWWJTPzc0lIUcVFBT27t1L3nvxHoKqqqrp06fj+x7vveLp06f4lZuFhQV+v1VaWopf6lAolCFDhjg5OW3evNnCwoIERR00aNDLly+5XG5tbe3OnTuxSWJiYkuXLk1PT+fttFnl0NBQHNlATExs/vz5Dx48SElJSUtL+/jx4507dxwdHfv164dXQujq6l69epW8yeNyuU+ePMGCoLAk7M2yBCq3EoGkpCT8u9arVy9BL/VW6hSaBQJAAAgAASDwXQIg/H0XEVRoeQL5+fk4cDVfjDAul/v582cc7dvIyIhvnWzL29FQi3Q6ncT2WrduXUNVhG5jMplY2lNSUnr16hVvPTqdfuDAAbzUUVlZ2djYGD/ca2pq8s5PuFzuzZs3cbXRo0fz5iK4e/cuDhSN837wRkQiwh9v6on8/Hy8XmnkyJF8+UkKCgqWLl2K1Zzu3buTxAjDhg0T1F94R9GhyrGxsSRmvJiYWO/evWfNmmVpaYlXlhHJhhR69uzp4+PTrLVaJMPyhAkT2nHt+Q9gJ6u/TUxMsDxHAvBRqdThw4fjSFiioqIeHh58etY///yDz0As3mVnZx8+fPi3335TVVVVVlbW1NQcM2aMp6dng/6h3759w5KZmpranTt3uFxuUVHRsmXL8Mk2d+5c3lMxNjYWq/xz5szhPZ/xfQCvw0UI9e3bl8Tbmj17dnFxMQFy7do1CQkJGo129uxZshEXPn/+bGFhgeP32dnZYYdHBQUFHB6rtLQUB2AaMGAAn3xZWlpqb2+P3Yt0dXWxMIEQMjY2jouL4+sFPgKBX5xAbW0tjoyBEJKRkfntt9/Mzc3xkl68TN7FxYWIdMnJyTjmgIWFxbdv39hstpubG2/mdHK7lpCQsLW1zcrKIngTEhJw3nC83HXJkiVv377lu3fV1tbin28REZElS5bExsa+f//ex8cHpxGTkJDgvVHcvXsX59EineKCiIiIubk5r8N+SUnJihUr8E2MQqGYm5vfu3dPmNchMbjBQk1NjYODA3mVIiMjg73U1dXV8V0Xp/4YPnx4UFAQeY2Hm0pLS8P0BBcyN9gXbGx7AhUVFTj5sqys7KVLl9reAOgRCAABIAAEgIAwAiD8CSMD21uRAAnEIykpSSLdcDicT58+zZs3D68uFHREakWDeJqurq7GccpwluF3794JehJxOJy6urqamprS0tLc3Nz8/Hz8Wr6+vn7t2rUIISqVitdXcrncurq6pKSkzZs3Y1cCcXHxffv2vXv3juQrNDExCQsLIyZ8/vwZ61kiIiLjxo27fft2QkICWfqEJ1cBAQGkPpfLJcLf9OnTyWKrwsJC3IWSktI///yDJ0g1NTURERFWVlbY20tLS+v27dtBQUGGhoY4HeqcOXM6Sxg7Ly8vfKqIi4vv2LEj+78/BwcH7NcmIiKipqamra1NgsRhT0xbW9um+2uQMIiTJ0/mC1/Fy78DliMiIvBCto0bN+LFrXQ6fdmyZXxTXH19fbLMjYxi//79FApFTEyMN/BWYWHhhw8f3rx58+XLl8bXv589exZrr4aGhps2bZo9ezZ2ljExMYmPjye9cLnchIQE7NNnYGDw4sUL/FVFRUVQUNDo0aOxMm5kZPT8+fPz589jX1dxcXF7e3vifXnlyhUJCQkxMTG+GHyxsbETJ07ELUyZMiU/P//p06cKCgoIoc2bN9fX1xN/WBkZmXPnzuHrl06nR0dHL168GJ9CSkpK/v7+oaGh+HqkUCgTJ04E7Y/3CEIZCHC53H/++Qf7+fLdXrS1tY8fP86b24rD4fj4+EhISMjKyuJgowUFBXZ2drzL6mk0mrGxsY+PD5ELCeQ3b97gt1m4o/Xr1xP3YVLHx8cHX7+ioqKq//0RYXHWrFm8Lx7odPqhQ4eIRonzcenq6jo7O/MKjrjl7OzsxYsX499NhJC5uTlvU6T3phTy8/N3795tZGREvAuJ4KimpmZubu7p6ckXIxU3S+7h3bt3T0xMbEpfUKctCdTX1+/fv19MTIxKpe7YsUPw0bEtjYG+gAAQAAJAAAjwEQDhjw8IfGwLAmVlZZMnT8YPuyYmJs7Ozq6urmvXriXLNmVkZM6ePcv3Mr8tLONyGQzGokWLsG0UCkVfX/+PP/7AFu7Zs8fV1dXFxcXe3n7ZsmWzZ88ePXq0oaGhkZGRq6sr9hu6efMmnsMoKCjY2Ni4uLgsWbKkZ8+eWIOQkJDYvn07ns+8ffsWuyEghHr06HH9+nUs0NTX1//555/EI0BaWlpdXR1LJ9gqU1NTPh+lvLw8vG6XrGTkcrksFmvHjh243+7du69bt27btm2zZ88m8xwtLa1Lly5hn4Jr167h9UcIITMzMz53xbYh36xeOBwOyY9Mo9Gsra1dXV1nzJhBohYOGzYsOjo6KysrMjLSzc1t0KBBxF9jxowZDU6rBA34+PEjDjUlmPdWsHKH2vL333+Li4vzKWJPnjxRVVXFZxH+18bGhi9qHpvN3rRpE/Y6cXNz+4FBFRQU4IwovB3p6urev3+fr7Xq6mpyrfXv33/z5s2Ojo4TJ07ECh329cPrcOvq6g4dOoT1RFFRUWtraxwj7Pbt29hNZvLkye/evauoqCgoKPjrr7/IldW3b1+ci7OoqAg7AJL4YkeOHMGKgLa2tp2dnbOz87x583R0dLDZSkpKJ06cwE499+/fJ6E5TU1NQ0JC+AYCH4HAr0yATqefOHGie/fu4uLiVCoV/2ZZWVmFhITw+axxudzKysqdO3eOGjWKxLetrKy8d++ei4uLg4ODi4vLpUuX0tLShP36p6Sk7NixY+zYsXZ2dqQFXvjZ2dnkpRq5BSkoKCxatEhQLKurq4uMjHR3d3dwcNi2bdvJkydjY2MFxUTcfnFx8alTpyZMmDBnzhxBdzxeG75bZrFYOTk5z5498/T0dHFx2b59+59//nnmzJl37941/obpxYsX48ePd3V1JW/4vtsXVGgzAvfu3cO/sLNnzxYM4NhmZkBHQAAIAAEgAAQaJADCX4NYYGPrEuBwOF5eXuTlOXk6xwUFBYX9+/fz6RGta9D/tv7XX3+RDAZ8tgn7SKFQxo4d+/Hjx7Kysnnz5jVYTVVVdf/+/bzP60FBQVhXQgipqant2LEDO6NlZGRMmjSpwUYQQg4ODnwzk/LyciykqqurR0REkNEkJCTglUGCTfXt2/fWrVtkVlZXV3f48GGy1Khv376+vr4dfHFrcHAwWaTMN8D+/fvzxkDkcrlpaWlbt27FHhY0Gs3X15dQaqRAXNLk5eU7kdzDZDIdHBywh+O1a9fIAGtqalavXk1Yqaqq4vB/pAIuHD58GIukw4cPb7p3JG8jT58+JcvSEULKysp+fn7kZOOtGRISoq2tTUziLYwYMYI3sH1lZeWGDRuI886IESNu3boVFhaGVwFTKBQdHR0LCwsTExNyGvfr1483fh/O5kGj0U6cOMHlctPT00eNGsXbIykbGBj4+/uTq4zNZvv5+RE50tDQUNhKZ96hQRkI/DoE6uvrP336dO3atfPnz9+7dy82Npb3l46PA4PB+Pbtm+ANQZjYx7c7m80uKysjlyfft1wu9+7duz169KBSqVJSUv369duwYUNwcHAj9uCsGoLtNLiloqKCRC9tsEKrbuRwOI2PvVV7h8YbIRAXFzdo0CCE0ODBg/l82xvZC74CAkAACAABINBmBED4azPU0NH/EMjPz1+2bBmfviYnJzd27NgbN2607xKJysrKP//8k883iogCwgqioqIXLlzgcrkfPnywsLDglTWlpaXNzc3v37/PN1dhs9k3btwg6pWYmBgJCpOcnLx+/Xp1dXU8e1FSUsJOf9LS0jh0Gi9NNpuNk4oghFxcXEjeUg6Hc/fuXRwzkZitpKS0cOFCwQWe1dXVrq6uZPGRlpYWb5Aj3u46SJnNZj948GDIkCG8qBFCgwYN4l06TaxlMBjHjh3D8o27uzvZ3kihsrISL4/t169fQkJCIzU71FdkKb2MjExQUBCvbYmJiTiZr4SExO7du/ki6+GaL1++xKH3qFSqo6Mj70o93qYaKbPZ7OvXr/fs2VNCQsLIyOjy5cvC4mHV1dWdPn2ayN/4LNXU1HRwcBAMN1lYWLhmzRri1GlqahofHy+4fhkv2TM3N+dzXM3Pz8fh/KdMmYK9bp8+fWpqakq8axFC8vLyVlZWkZGRfBoEg8E4evQoXm6MEFJUVHz27FkjBOArIAAE2osAi8V6//79hQsXAgICsrKyePNjtJdJ0G/XJlBcXGxlZYUQUldXb/B1WtcePowOCAABIAAEOgUBEP46xWHqmkaWlZUFBgbu3bt3+39/Bw8eDA4O5o3c347DZjAY4eHhbm5ua9asmTdv3qxZs8aOHTtixIipU6fOnj174cKF69evd3Z23rRpk42NjYWFRc+ePc3MzD5+/IhtzsvL++uvvxwdHTdu3Ojq6nr37t0GMyFwuVw2m/3q1StbW9tx48bt2rUrJyeHjJrBYERGRuLZy71793CgsYEDB+Ish6QaLnz69GnUqFHy8vKLFy/mdW3gcDhJSUnHjx/fuHHjli1bDh48GB4eLkzKodPpd+7csbKymjhxoq+vL287fN11nI8ZGRmXLl3auXPn9u3bd+zYcfz48aSkJGHmMZlMPz+/RYsW8UlCwupjV8Fjx46FhIR0otljeno6XuuqoaERHR3NN7rPnz8fP37877//FpbnhE6nb9iwAWtwUlJSzs7OJKYeX1PFxcUREREXLlw4fPgwnzDKYrE+fPhw+/bt7/o+sFismJgYDw8PBwcHJycnT0/P6OhoYdJ/eXn5uXPnJk+ePHPmzFu3btXX16ekpPzxxx8KCgo0Gk1cXFxeXr5Pnz67d+9ucDX3u3fvLC0tN27cSByKU1NTT58+vWnTps2bN+/fv//p06eCkcXwqJlM5sOHD+fPn29paenp6dl4oEM+UPARCAABIAAEummOr3UAACAASURBVCQBJpO5a9cuKpUqLi5+6NAhQVfWLjlqGBQQAAJAAAh0OgIg/HW6QwYGtykBFotVW1tbXV1dVlZWUlJSVVVVU1PDYDCIDMRgMMrLy/Pz84uLi/m8hJpuKJPJLCsrI20K7hgZGYk9EHFqAsEKHA4nJycnJiYmNzf3h83AzdbU1AiThAT77XRb2Gw2nU7/SUQdfNTV1dXLly+XkZFZtmxZ4xGjhA0kOTnZzMwMa380Gs3c3PzcuXMJCQk4g0pKSsq9e/e2b99uZmampKREpVIpFMqpU6eEtdbE7U0/KJWVlbzidVlZWWho6IULFy5fvhwaGpqent7IpVRaWvpjTPAoamtrhSmDTRwmVAMCQAAIAIEuQ+DatWvy8vIIITs7u07xurTLkIeBAAEgAASAQLMIgPDXLFxQGQi0D4GDBw9SKBR5eflHjx61jwXQa6cikJmZGRoaKsxTrylDwc5xZBmsmJiYurq6zn9/mpqaMjIyZPE4QkhDQ+Pff/9tSrNQBwgAASAABIBA1yAQHR2NV2OYmZmlpqZ2jUHBKIAAEAACQKBLEgDhr0seVhhUlyJQXFxsaWmJEBozZszPSDldCgoMpvUJ5OTkuLu79+rVi8h/vGKfiIiIiorK4MGDV65c+ejRI2GLc1vfTOgBCAABIAAEgEBbE8jLy8Mp7A0NDSMjI9u6e+gPCAABIAAEgEBzCIDw1xxaUBcItAeBx48fKykpIYT27NnT9OWQ7WEp9NnVCHA4nC9fvpw6dWrJkiWjRo0yNjYeOnSopaXl6tWrT5069fbt28LCQr6UNV0NAYwHCAABIAAEgMD/EqDT6U5OThQKRUZG5vz58//7JXwCAkAACAABINDhCIDw1+EOCRgEBHgJ1NXVOTg44NWUERERvF9BGQi0GQEmk1laWvrt27eioqLy8nKIX95m5KEjIAAEgAAQ6GgEzp49Ky0tTaPRdu7cSafTO5p5YA8QAAJAAAgAAT4CIPzxAYGPQKBjEUhOTsYRZKZNm/YzSQk61qjAGiAABIAAEAACQAAIdEICz54909fXRwitWLEC0j11wgMIJgMBIAAEfkUCIPz9ikcdxtyJCJw/f15MTIxGo/n4+HQis8FUIAAEgAAQAAJAAAh0MQLv3r0bNGgQQmj8+PEZGRldbHQwHCAABIAAEOiqBED466pHFsbVFQhUVlbOnj0bIdSnT5+kpKSuMCQYAxAAAkAACAABIAAEOiGB9PT0cePGIYRMTU1jY2M74QjAZCAABIAAEPhFCYDw94seeBh2pyDw+vVrbW1thJCdnR2TyewUNoORQAAIAAEgAASAABDoYgQqKiqWL1+OENLT0wsPD+9io4PhAAEgAASAQNcmAMJf1z6+MLpOTIDNZu/du5dCodBotDNnznTikYDpQAAIAAEgAASAgBAC8fHxBw4ciI6OFvI9bG5/AnQ6ffv27aKiorKyshcvXmx/g8ACIAAEgAAQAALNIQDCX3NoQV0g0IYEcnNzR44ciRCSlpYODAxsw56hKyAABIAAEAACQKCNCBw4cAAhNHny5JKSkjbqErppJgFvb29JSUkxMTEPD4/6+vpm7g3VgQAQAAJAAAi0MwEQ/tr5AED3QEAYgfj4eF1dXYSQoqLi8+fPhVWD7UAACAABIAAEgEAnJcDhcPbt24cQ6t+/f3p6eicdRdc2+8GDB+rq6gihdevW1dTUdO3BwuiAABAAAkCgSxIA4a9LHlYYVFcgkJubO2zYMISQgYFBYmJiVxgSjAEIAAEgAASAABDgIcDhcNzc3BBCvXr1+vz5M883UOwQBKKionr37o0Qmjp16rdv3zqETWAEEAACQAAIAIFmEgDhr5nAoDoQaCsC9fX1hw8fHjRo0O7du6urq9uqW+gHCAABIAAEgAAQaCMCRPhTU1N7//59G/UK3TSNQEZGxpgxYxBCQ4cOTUpKatpOUAsIAAEgAASAQIcjAMJfhzskYBAQIATodHpRURGDwSBboAAEgAAQAAJAAAh0GQIcDmfXrl0IIRUVlZiYmC4zri4wkLKysgULFiCEDA0NIY1vFzigMAQgAASAwK9MAIS/X/now9iBABAAAkAACAABIPBTBKqqqh4+fPjPP//k5OT8VEO/5M4sFmvdunUg/HW0g19VVbVx40aEkLa29oMHDzqaeWAPEAACQAAIAIFmEQDhr1m4oDIQAAJAAAgAASAABIDA/0+AzWZ7enrKy8tLSEiYmZn9/fffWVlZdDodADWRAIvFWrNmDUJIXV0dlvo2EVprV6utrd25cyeVSlVRUQkICGjt7qB9IAAEgAAQAAKtTQCEv9YmDO0DASAABIAAEAACQKBrEqiurp4xYwb6vz8JCYnevXvPmzdv7969Dx8+zMzMZDKZXXPkLTSqurq65cuXI4R69+4NyT1aCOpPNVNXV3fw4EFxcXEFBYWrV6/+VFuwMxAAAkAACACBjkEAhL+OcRzACiAABIAAEAACQOD/CFRUVEB40/+D0aH/ZzKZa9eu/T/d73/+l5GR6d2795IlS86fP5+cnAwKYIMHksFg2NjYIIT69euXkpLSYB3Y2GYE2Gy2t7e3tLS0nJzc+fPn26xf6AgIAAEgAASAQKsSAOGvVfFC40AACAABIAAEgECTCFRUVCQlJV2/fn3Lli3jxo3z9vbmcDhN2hMqtSuB2NjY33//nUql/o/sx/OBRqMZGBgsW7bs33//LS8vb1djO1zndDodZ5AYMmRI5wqSyGazX79+7e7uHhAQ0GVU3UuXLsnJyUlLS588eZLFYnW40wUMAgJAAAgAASDwQwRA+PshbLATEAACQAAIAAEg0EwCtbW1paWlBQUFWVlZSUlJUVFRT58+vXfv3tWrV52dnS0tLbW0tCQlJTU1NS0tLW/cuAHCXzMBt1v19+/fGxoaYq3PwMBg+fLl06ZN6969u4SEBI8AiGRkZKZNm/b48eO6urp2s7WDdVxdXT1z5kyEkJmZ2bdv3zqYdY2Zk5iYOHDgQISQmppa11gSe+vWLSUlJQkJiUOHDsEp2tixh++AABAAAkCgsxEA4a+zHTGwFwj8RyA/P9/Pz+/Zs2ewGg7OCCAABDoggfr6+tLS0pSUlNDQ0MuXLx86dGjjxo1z5841MzMzMjLq1q2bmpqaoqIiXlKnrKwsLS0tKysrLy8/ZMiQt2/fVlVVgerXAQ+rMJNSUlL69u2LEJKQkDh16lR9fX11dXVqauo///xjZ2dnZGQkIyNDFEAVFRVXV9fS0lJhrf1S24nwZ2lp2bmYhIWFycvL48Paq1evsLCwTn3ggoKCNDQ0aDSaq6srZKfp1IcSjAcCQAAIAAFBAiD8CTKBLUCgExA4fvw4jUbT1NS8d+9eJzAXTAQCQKCrE6ipqfn27VtcXNydO3c8PDxWrlxpZmamo6MjLy8vLi5ORB9cEBUVVVZWNjU1Xb58+cmTJ//9998nT56EhYVFRkZ+/vwZJL9Od7LExcXp6uoihIyMjL58+cJrf319fU5OzoMHD9zc3CwsLMTExBBCYmJi69atKykp4a35a5aJ8Dd9+vSqqqpOBKG0tHTTpk1KSkr4oh4xYkR6enonsp/X1JCQkO7du4uKim7durW6upr3KygDASAABIAAEOgCBED46wIHEYbwyxFgMplLlizBj9q7d++GSfIvdwa04YDZbHZ8fHxcXBxEO2pD6p2gKzabXVZWlpaWFhoaevbs2W3btllZWQ0YMEBNTU1KSopP5kMIiYqKKigoGBoaTpo0afPmzRcuXIiJiSkqKoL1dJ3gYDfBxODgYDk5OYTQjBkzKisrhe1RWFh46NAhbW1thBB2repcseGqqqqysrI+fPgQHR2dnp5eX18vbKRN315VVYXTIltbW9fU1JAds7OzL126FBERwWazycYGC2w2u7a29rvVGtz3JzfW1tY+e/bM1ta2R48e/fr1e/v27U822C67v3r1ysjIiEKhODg4NHL2tott0CkQAAJAAAgAgRYhAMJfi2CERoBAmxIoLS21tLRECFEoFBD+2hT9r9dZXFzcoEGDevTo8ejRo19v9L/ciDkcDp1OF5Qz2Gw2i8WqqanJzc198eLF6dOn169fP27cuG7dusnLy4uKigoqfZKSkioqKkZGRjNmzNiyZcuZM2eeP3+elZUF8+oueVadOXOGRqNRKJR9+/Y1/i6KxWK5ubnRaDSEkL6+/rt374QB4XA4FRUVxcXF5eXl7aJqEcNKS0tDQkJcXV2nTp1qYGCgqqqqrKzcq1ev69evkzq8hWYtFC0rK/v9998RQosXLyYyaH5+vrW1NZVK7dev34cPH3gb5yvX19efPXt29uzZJ0+ebFa/fO38zEcmk5n73x+x/2daa+N9o6OjTUxMqFTqpk2bKioq2rh36A4IAAEgAASAQNsQAOGvbThDLw0TqK2tLSoqysnJyc7Ozs/P533X3fAObb7169evR44ccXNzy8vLa/POhXb49etXIyMjPNPeuXNn47Msoa38Gl/gqWN+fn52dnZOTk5xcbGgqNEUEmw2u7y8PC8vD7dTUlLSvhPRptjcInVOnDiBZZ0VK1Z0lkldZWVlTk5OUwSmqqqqb9++tc24CgsLnz9/XlhY2CLHpZUaefPmjY2NzcqVK52dnXfs2OHs7Ozo6Lhx40Z7e/s1a9bMmjWrd+/eCgoKIiIiROkTExOTkZFRVVXt0aPHmDFjFixYsHXr1mPHjt26dSsmJiY/Px/WzbXSweo4zdbX19vb2yOEpKWl79+/z2cYh8Oprq4uKChITEwMCAhwcnLq06cPhUJBCGlqakZGRvLV53K5DAYjLCzM0dHx999/HzZs2Pjx4zdv3hweHt4U/9CKiorw8PBHjx5lZ2cLtiy4JSMj49GjR8+fPxdcZltbW5uUlHTmzBlLS0sFBQVyzpMCr1SHW6bT6efOnZs/f/6BAweEZepITk728fHx8vJKSkricrlFRUXjxo1DCNnZ2RHH6ufPn+MeaTTahQsXBM0mW96/f29gYIAQ6t+/v7CVtj//kNAIJWLJdws/b8Z3u2huhejoaFNTUzExse3btwueAM1tDeoDASAABIAAEOiwBED467CHposblp6e7uvrO2/ePBMTk27dumlra/fq1cvKyurvv//uOMGtq6qqli5dihBSUlJ68+ZNxzkkERERysrKeO5ha2v7Y0pWxxlOK1lCp9MjIiJcXFwmTJjQu3dvbW1tXV3doUOHbtiw4fXr12R+9d3ea2pqQkJCHB0dx48f36tXL9zO8OHDt27d+v79+64t/7FYrPXr1+MzbcGCBe3lTvLdY8Rboaqqyt7eXktLa+XKlWVlZbxf8ZVzcnIWLVrUr1+/3bt3l5eX833b4h8vXLigoqLi4ODQAd9wkMGGhISYmJhgbyyibvAVxMTE9PT0xo8fv3r1ajc3t4sXLz558uTTp08FBQUVFRVto6ISg6HQEQhUVFRMnToVZ/ZYunSph4eHv7///fv3r1+/vn//fgcHhxkzZvTr109dXZ13GbiEhMTu3bsF7yrp6ekODg6qqqp8J566uvqRI0dqa2vJkPPy8i5fvhwcHEwayc/PX7VqlaKiooyMzIQJEz5//kwqczicd+/eXbx4MT4+nihQERERI0aMkJGRUVJScnZ25hWpk5KSbGxsdHR0eC8HCoUiJyenpqamqanZrVs3Hx8f0hTuKCEhQV9fHyEkJSUVEBBAeieFvLy8iRMn4qFZWVlVVlbm5eUNHToUIbR161byg0J+5UVERA4ePEh25yuwWKydO3diFXXixIm8MRM5HM7nz59Pnz7t7Ozs4OCwbds2V1fXK1eu5Ofn8zXC+7G5lHj3FVbOy8u7du3azp07N2zY4OTktGvXLl9fX95DI2zH1t6OVT8JCQlXV9eOfFtubQ7QPhAAAkAACPwKBED4+xWOcscaY21t7blz5wYMGCBsddisWbMaWfvTloNJTU3t378/QmjQoEEZGRnf7ZrFYuXn5xcWFvLNBL67Y3Mr+Pv7k2D5c+bM4Z0INbeprlo/JSVl7dq1ampqfFNH/FFHR8fNza1xVQiT+fTp05IlSxQVFRtsx8DA4NixY7xzxc7Is5HTlclkYu2bSqV6enp2itEVFxdj9xl5efkHDx4Is5nNZnt4eOC7kKysbBskyfH29qZQKHp6ep8+fRJmVftuLygosLa2VlZWJjdnWVnZyZMnr1+/3s7Obs6cOebm5lhD19TUxG9rLCwsli9fvmfPHn9//5CQkJSUlKKiopqamkZOqvYdI/TeGgTS0tIGDBjAe5Ok0WgyMjISEhK8G0lZXFzc2Nj45MmTgm65Hz9+nDBhAqmpoKCgpqZGpDdFRUVeNc3Hx0dSUlJHR+f58+dcLre2tnbLli3k7MU+dMSNq7Kycs6cOQihyZMnFxUVcbnc5OTkkSNHkr7k5OQuX76M+dTU1KxYsYJ8hRBSUFCYPn26l5dXcHBwfHx8SkpKRkYGg8Hg4xkaGooT3RobG3/8+JHvWy6X+/TpU5IJd9KkSRUVFWlpacbGxgghd3d3cuEUFxfPnDkTG2BrayvM1TE1NXXgwIFYZ/T39yfd0en0CxcuGBkZ8TrnIoSoVOratWsJE1KfFJpFiewlrMDhcEJCQsaMGUOeWAhSCwsLYf6Jwlpr2e1Y9ZOSkjpw4AARjlu2C2gNCAABIAAEgEDHIQDCX8c5Fr+EJVVVVbt27ZKWliYPf1JSUsrKykpKSryPp6NGjUpOTm53Ivn5+XhWYG1t/V1xB8fZ6dOnz2+//RYWFtZ6xrPZ7G3bthGAIPwJoo6NjTU3NyeIRERE5OXlVVRUZGRkyEYxMTFXV9fGvZNev36NHTHwXjg7gYqKCt8JfOzYsab7Dwpa275bwsPDHR0dg4ODG/QbraiomDJlCkJIQ0OjwRV57Wt8g70zmcyVK1fiQ+bi4kI8aPgqv379ukePHriamppaaGgoX4UW/+jj40OlUmVlZZ88edLijbdIg0VFRY6OjoMHD8Z5V0VERCQkJDQ0NExMTCZNmmRjY7Np0yZ3d/ejR496enq6ublt2bJl+fLlkydP7t+/P3bc1tbWHjBgwPTp0+3t7Y8ePRoYGPjx48fCwkKYV7fIAeqwjbx48YKkdiX3WFygUCiysrJqamo6Ojqmpqbz5893dna+fv16RkYGEbnIuNLS0nC0O4SQvLy8nZ1deHh4fHy8n58fuRXb2NiQ0+nUqVNUKlVcXPzatWtcLtff359oarh3FRUVcmlXVVVhKa1v376pqamVlZWrVq3CvnLEZnNzc7w+l3jh4a+kpKR8fHya4hR248YNSUlJCoWyZ88ewQFyudyDBw/ipx1xcXFvb28ul5uYmGhgYCAiInL8+HGCgsvlBgUFqaioIIQmTZrUoEsyh8M5evQoVkWnTZtGwghUVFS4uroSFHJycpqamrq6uqampvr6+rKysra2tl+/fuXti5SbRQnvlZ6efu7cOUGVs76+/urVq927dycM1dXVdXR0+vfvP2DAAElJyUmTJr148YJ03ZaFt2/fmpiYyMjIeHl5Nf4Y0JZWQV9AAAgAASAABFqPAAh/rccWWuYnwGazT548KSkpiZ8ClZSU1qxZExAQEBUV9erVqwMHDpC4dRQKZdeuXcJm7Pztttrn2NhYPT09/B7+u53k5OSQmcnw4cMTEhK+u8uPVWAwGDY2NmSismzZMmG+AD/WfmffKy8vD2tVGJGJicmRI0dCQ0NjYmKCgoKWLVtG3Pd0dXWjoqKEjTc1NXXUqFG4EQqFMnz48BMnToSHh8fExAQGBs6fP5/IiL179269wy3MvBbZXlhYiLPEdO/ePSIiQrDNgoICDGHMmDHC4lUJ7tXuW7y9vfFkePbs2Q1K9nl5eTiNJtYXvLy8BD13WnwUV69elZCQEBMTu3jxYos33lINslisgoKCkydP9urVi0ajYY1bRkZmxIgRAwcO1NDQUP/vT0tLa/DgwVZWVg4ODgcOHLh48eKNGzfOnTvn7u5ub28/derUPn36qKurq6qqqqmpDRgwYM6cOTt27PD394+MjMzOzq6oqGj323tLEYN2uFzu33//TZz7pKSkNDQ0dHR0Bg0atGrVqhMnTjx8+DAuLi4jI6OoqIhodoLcqqqqVq9ejZU4PT29ixcv8l6VN27cwMuELSwsyILWK1euSPz3d/ny5YCAAPx7TaVSBwwYgAPk8ea/Ij+dRkZGMTEx27dvxzYrKCgMGDAA3zGUlJSwUMhkMvfs2UMGRaVS58yZExkZ2eALEt6xHDp0SEREREpK6vbt27zbcbmsrIz8PJmbm+fm5nK53JiYGFVVVSqV6uvry7tLeXn59OnTEUJ9+vT58uUL71e4nJCQgBclqKmpPXz4EG8sLy93cnLCHnYaGhqbN28ODg5OTk7OycnJy8tbvHgx/lHbvHlzg4JXsyhxuVw2m71z506E0IIFC3gdCevr68+dO6euro69ERcsWHD79u2EhISsrKyioqKTJ0/itwsWFhYFBQWCQ2vVLa9fvx40aJCcnNzp06e/e0Bb1RJoHAgAASAABIBAmxEA4a/NUENH3PLy8smTJ+OHThkZGW9vbz7FKi4ubvz48bgC78N9e7E7ceIElUqVl5dviodOWVkZXkaE7be2tsbP9C1ufHV19axZs3AvfFGBWryvztjgkydP5OTkMJ+hQ4fy5UOk0+nnz5/H0aNoNNrp06eFjfH27dtEpB43bhxfQKLq6movLy/sUiEhIXH16lVh7XTk7enp6XiZGIVC8fDwEDQ1Li4Oz6WXLFnS4CxRcJeOsCUwMBArVqNGjRKcVVZUVDg4OFCpVKz6HT16lFdfaD37nz17hk+Y76Y9bT0bmt7yhw8fli5ditVtGo02c+bMV69eff36NSQkxN/ff+/evcuXLx87dqy+vr6ampq6urqmpubgwYPnz5+/bdu2Y8eO3bhxIzAw0M/Pb8+ePStWrBg1apSOjo7qf3/6+voWFharV68+cuQIcQmEeAVNPzQdrSaHw9m1axfOMj9x4sQ7d+4kJSVlZ2cXFhY2S1W5ffs2VuukpaXd3d3xalwsLSUmJs6fPx87yllZWRGBydfXl0ajiYmJzZo1Cye4oFKpK1euxFm58A182rRpOFVrTU3N7NmzEUI6OjqzZ8/GMqKKisqpU6dSUlLmzp2LEBIVFT127BgmXFlZuW/fPuxzh39QtLW1N2/e/OHDB2Hjqq+vX716NV4X3KDj/8uXLzU0NBBCMjIy2EuRy+VGREQoKiqKi4uThcbkEO/fvx9HFRRMql5TU7N+/XrKf38bN27EimpdXd2+ffuw6tejR4+AgABeb/SKiopJkybhsejr6zf43qu5lFgs1tq1axFCgwcPzsrKIpYHBgZqamoihOTk5A4dOkQOGa5AVi1ISUnxrlAmu7deISIion///goKChcuXIDXD63HGVoGAkAACACBjkYAhL+OdkS6sj21tbXz58/HD53CdL3Lly/jd+wDBw5s3/gveXl5Y8aMQQiZmpryPs42coS+fPni5ORkYGBAoVBERUVb6XGWVz+lUqleXl6NmIS/YrPZvE//363fqSu8fv0aexkI0/XIUqbGZdPg4GCi6125ckWQSUlJCdapRUVFDx8+LFih42/Jzs42NTXFl+TSpUsFpb07d+7g6bGrq2uDy9Y65hhDQkKwgqCnpxcfH89rZHFx8ZYtW/BNRl5e/siRI424IPHu+PPl8PBwbJWdnZ0w4eDne2nBFqqrq69cuWJiYoLPkDFjxkRHR5P26+vry8vLc3JyoqKirl+/fuDAgRUrVpiZmenq6mJHPz09vXHjxq1atWrPnj1+fn43b97866+/PDw8HBwcpk+f3qdPHzU1NVzT2Nh41qxZW7duPXv2bHh4eGZmZkVFRSc63wiTX7NAIoHKyMj8+++/PwahsLCQpLygUCjq6upmZmYbNmxwcXFZu3YtyQIsLi7O6xZHls1iP0EREREbGxucvCIzM3PQoEFYkMrMzORyuaWlpTh6IFneKycnd+LECfwC8vbt2/hex3t5MpnMoKCgiRMnkpdACCE9PT17e/uIiAhBtZpOp+OHHAUFhfDwcD4UTCZz48aN+GqytrYmQWbDwsLk5eXFxcUFXyA9efIE/wzt3r2bT6X666+/8P1k6NChxB8wPDxcW1sbIaSqqkqERWLGhw8fcOIRbIO9vb3gO4/mUuJwOK6urgihbt26xcXF4b4yMzNxmBQxMbGdO3fy3WOLi4uxpzk2Y9y4ca30lpQMnBRevHhhZGSkpKQkiJrUgQIQAAJAAAgAgS5JAIS/LnlYO+6gAgICDA0NpaWlha3kDQgIwK46xsbGqamp7TiS+/fvY8ex1atXCwoiwgxjsVifPn06derUnj17YmJihFX7me0lJSUWFhb4iVlCQkLw4R43TqfTU1NTAwMD3dzc1q9fv3r16v3796elpf1M151i34qKinXr1snJyRkaGjbo0UCn0//44w8McOPGjXyzKTLGoqIiGxsbWVlZY2PjBlfyVlZW4kSWjWddJA12wEJsbGy3bt0wCsEwUmRGJykpef369fayn8lk1tbWNksGSk5O7tOnD3ar4VUiMjMzly1bhtf0ycnJHT58WHDe+zPDrK2tzc/Pz87Ozs3NLS0t5Tu1iPBnY2MjrN+6urqm321+xtSm75uSkrJlyxYcwc3IyCgwMFDYW4T6+vqysrL09PSwsDA/Pz8nJ6eZM2f269ePCHx9+/adMWPGhg0bDh48+Ndff926dcvPz2/v3r22trZjx47t1q2bqqqqioqKnp6ehYXF+vXrvb29nz59mpaWVl5eLqzTpg8EarYSARIJVFlZ+e3btz/Wy82bN7F7qaamJvbdw/clvn/nz59PYg6w2WxHR0feChMmTCC/cbW1tQsWLEAIGRoaJiYmcrncgoIC3lQefJrUp0+fDA0NEULz81GkAQAAIABJREFU58/nE6pKSkquXbs2Y8YMXu8/NTW1BQsWBAUF8fqy1dTUWFtbC/P4Cw4Oxqqcuro67zKC8PBweXl5CQkJwdtsVlbWkCFDEEIjR47kVcdevnzZq1cvhJCiouLNmzcxcxaLhYHQaLTdu3fzraioq6tzdnbmDaaspaVFAiCSo/YDlLy9vUVFRaWlpUmKpOvXr2OpdM6cOSTyIOni6tWrsrKy5MCJi4ufPHmSfNtKBTabHRQU1Lt37+7du9+9e7eVeoFmgQAQAAJAAAh0WAIg/HXYQ9M1Dauvr4+Li3v06FFOTk6DIzx8+DBOyTdy5EjBNXoN7tIaGzkcjpubG4VCkZaWJk/VLd5RbW0t3wSjKV0UFxeTzBUNplwoKCi4du3aggULDAwMsAsDecJ2cnJqiqtReXn5mzdvLl++fO7cucDAwNTUVMFZd0VFxcuXL6OjowW9HsgoKioqcnNzmxIQnezSIoWysrLQ0NCXL182iDc/Px/HrRMVFT106FAjPRYVFT179uzNmzd8Myi8S1paGl4nKyYmdvbs2Uba6bBfEScXhNDQoUN5J5ZcLreqqgqvjDMwMBAM3E4GxWKx0tLS7t+/f/78+UuXLkVGRjYYh57Ub1YhISFhzZo1ixcvblYm3KqqKisrK3zar169Gp8G7969mzx5Mp73ysnJeXh4NHh6EPNqampKSkqKi4srKyv5JDxShxSYTObNmzfnzJnTp08fbW1tfX390aNHOzg4BAcHEyGvceEvJyfH399/xYoVy5cvb6+A92Q4fAXs9zR+/HgREREVFZWjR482ctXz7ltTU/Pt27f4+PjAwMDDhw/b2dmNHz9eX18fr/nV1dUdM2aMnZ3d/v37L1269PDhw1u3bp04ccLR0XHq1Kk9evTAOqCOjs7o0aNXrVp19OjRoKCgL1++lJSUNOU+xmsJlFuPAIkEqqKi8mOvuxgMxrJlyxBCYmJihw8fjo6OXrx4MV+2EGVl5TVr1mRkZJCBEE9DfKX37Nnz1atX5FsOh7Nnzx6EkLKyMt6empqKk+fi+vPmzSOriblcLvlhFXwFgtusqqp6/fr1n3/+SdwPcayAuXPnvnz5Er+ZqKurw5mFxMXF+X4U3r9/P2zYMHJT4r2CsPBHo9HOnz9P7MeFurq69evX4zB5JDZoWloa9pijUqnbtm0j97HKyspp06YhhPr16yeYHu3evXtaWlp4OTNJfLxgwQK8Dpr0+wOUcPRSCoXi7u7O5XLJ0m8ZGRkiBZL2P336hKMhUygU/A4GITRo0CDitEhqtmCByWT6+vpqaGj89ttvnSVLVQsOH5oCAkAACAABIMDlckH4g9OgAxHgna4Li8rfNuaSoNomJia8M40f672urq6kpITM/7lcbk1Nzblz5+bOnbto0aLg4ODGvZn4vs3LyyPzh/+PvTePh+r9///P2HeyG/uWXRFF0qayJQlZotJii/ZQsvfSK73aXlqkaLOVSEXZSxuiEilbyb7v+zAzv9uv6/Y+3/nMIPWS0HX+qDNnrnNdz+t+nTnjPOa5GBoaouFCg4ODqamp7u7uGhoapHFJ4EkD/Ovo6DiqhoXOa2BgIC4uTl9fn5ubm56enoaGhomJae7cub6+vqifBZFIHBkZCQgImDNnDg8Pz6lTp0aVRTIzM3V1dcXFxbdt20amKKHD/ZadZ8+egRx/jIyMY/lLTsQw1CeUlZU1KSlpIqdMqzYEAuHo0aPo5SElJfXp0ydSC8vLy0G9nXXr1pE9HKLNysvLPTw85s6dy8zMTENDQ0dHx8XFZWBgkJaWRnpV4HC4vLy806dPP3nyhPQ42s+oO0VFRcuXL0cQhJGREU1dP2pLyoNnz54FT5WgNuiBAwfQ2kH8/PynT59Gn5Ypzy0uLg4MDDQxMdHU1Fy0aJGenp6rq+uNGzdAwCBlexwOd+nSJXBRoTzBDg8Pz6FDh8A9hFT4Q+8GfX19ubm5Pj4+ampqINs9giBGRkaTKJ5SGvxzRxoaGgIDA0VFRenp6ffv319fX/+j/YyMjHR1ddXU1Lx8+TI8PNzd3X39+vVycnJAB+Tn51dXV9+8ebO/v394ePjjx48TEhIuXLjg4eFhYmIiJyfHy8vLzc0Nnt7t7OxOnjyZlJRUUVHR2dk58YvqR22G7b9LAJWKuLm5SYPBv3si2qCurg58qSkqKpaXl4OvyIyMjKNHj+7YscPZ2fnEiRPPnj0jFcvALxNoiR4GBoZz586RfVdev36dnp6egYEB5GrIz88H+fUQBJGSksrJyUENIBKJAwMD1tbWCILIyclRqmZoSwKBUFZW9tdffykpKaHec+Li4rdu3QI/j4HUwAiCKCoqJiUlDQ4OEgiE7OxsbW1tcE/g4uJKS0tDOyQSieDOQEVFdfLkSdLjYD8lJQXcWxQUFBITEwsLCzdt2gSGNjExIf0Ytre3A0FQVFSUdCGGh4cTExPRG6CFhYWrqyvIA8jGxkaWbfknKCUmJgJvTVNT076+Pjwe7+LigiAIAwPD9evXSWf07t07NMmgurq6v78/yANIRUXl7Ozc3t5O2niy9nt7e/38/JiYmJYvX06W+WGyhoD9QAKQACQACUAC058AFP6m/xr9QRbm5+eDSgKklfh+y/xzc3OFhIQQBNm3b99/dC0ZGRkJDg7W0NDw9vYGMUHDw8MnT54EEc3gMWPUiNTGxsaYmJiDBw+6uLj4+fllZWUBza6urg78YE5HR4dmO8Lj8WjNClR6YGZmVlJS2rhx4+7du93d3X18fNAUPKNSbWlpOXToEEgbhHYCdqipqe3t7VExoqurC63TcuDAAUp/wN7eXpArHUEQVlbWjIyMUUec+oN4PN7Pzw88NQkKCpI+Hf2QMTgcbt++fQDO3LlzySSzH+rqdzUmS7TExcWVnZ1NakxiYiIrKysGgwkICCB7ogZuHampqagGTXbBSEhIkMayRUdHg5hieXn58S9C1IDGxkZjY2PQ7dKlS8cS3dD2ZDufPn1CH3RJbVNUVLx///5YH+qmpqYzZ86AMGHSs4AvkrKy8qlTp0gVcDBoXFwcSCsJTqGnp2dlZUXFdwwGo62t/fTpUzTz4ObNmwcHB+vq6iIiIszMzEjPZWdnV1BQ8PHxIY0fJJvab3xJIBBev35tYWHBxsamo6OTnp4+FskJGtnX19fY2Pj27dvo6GhfX18rKysVFRUg8PHx8amoqGzatMnPzy8sLOzx48dJSUlXr1718fEBzQQEBED12CVLljg4OJw7dy45ObmioqK9vX38nzcmaBtsNkEC79+/FxYWBmUcSD/1EzydSCQWFRWBr35KT//h4eGxVN2mpqYlS5aAD52uri7lB/P58+dcXFwglyuRSExJSQERpjQ0NMeOHaP82goMDCSrpNHb2xsXF0epORKJxMrKyhMnTigqKqLfJg8fPgRzAUG4CILw8vJu2rTJyclJSkoKvZ8sW7aMzNQnT56Ar919+/ZRWtXT07N582ZwOjs7Oy8vL/DXU1ZWfvPmDSnkwcHBHTt2gCorGzdufP36dXl5eWpqqqurK9DXEARZvXp1WVlZZ2fnrl27QIGjOXPmBAQEoD/t/ASl58+fz5kzB0GQRYsWgQSLFy9eBL+7qKqqPn78+PPnz69evQoICJCTkwMTkZWVTUtLGx4ePn/+PEhiSEdHZ2dn999/ZyUFAuK7XV1dGRkZzczMJr1zsrHgS0gAEoAEIAFIYDoTgMLfdF6dP8s2AoGAKjKcnJypqam/a/4EAuH48eMYDIadnZ2ylN74VhEIhI6Ojt7eXrRZf38/SPojIiICUsUlJiaif4WDP4I3b95M+pyPx+NTU1OXLl0KShCANvz8/MHBwSMjI1+/fgURpoKCgmhcVXNz87Jly0BLBEFoaGjWrVt3//79+vr6CeZHa2trc3R0BE8CGAxGVlbWyclp586dMjIy4DGDjY0NzYxTV1enoaGBIIi0tPTbt2/RyaI7ZWVl6J/4ioqK4zhQoKdMzU51dfXChQsBKFJ/yR8dvaSkBNWVrK2tpz6c+UcNpmz/9OlT0pRVZH6LeDwe+AOysrImJiZSnv748WNpaWlAkpWVde3atfv379fT0wNPcQiCrF+/HijFw8PDO3fuBC0ZGRlv375N2RvZkeHhYT8/P/DoKCoqSuYgQ9Z41JcjIyN+fn5oRBsYXUVFZaw4r8HBwcTExNWrV6Nud8DTEKhLaMg8DQ2NoaEh6fN2bW0tqAKEIIiAgMD+/fsjIiKSkpLu3Lnj7e29YMECoAtISkq6ubmB6EUVFZW9e/eqqqqSfsB5eHhcXFwyMzMbGhqmuW7V3d0dERGhpKTEzc3t5uYGXLRGXYUfPTg4ONjS0lJUVHT37t2AgABra2sVFRUeHh4uLi5eXt558+ZZWlp6e3tfvXr18ePH6enpERERf//9944dO7S0tMTExAQFBYWFhTU0NLZs2RIYGHj37t337983NzeP4935oxbC9pQEcnNzgb5GQ0Nz6tQpygbfPVJcXCwuLg6UMsqsc2Od3tjYCNzouLm5KUNKiUQi+j21cuXK9vb21NRUoK9paWmN+kPCo0eP2NjYMBiMn58fUBuzsrIEBAQ4OTnt7e1HTTpcWVnp6OgI7jO6urqtra14PD4wMJD0NgJuPuBfDAZDmeA4Ozsb3IrXrVvX3d1NOd9Xr16RSoegkgbQGckaJycn8/LyIggCovIFBATQGvcYDMbQ0BCkOyQSifX19eAvEwRB6OnpnZ2dQTm1lJSUH6WE6rZoFfXy8nK0KBA7OztgiNZUUVJSQv/AGxgY8PT0BLgwGIyuru7r16//488JKJOPHz8aGxszMjL+OndCdCy4AwlAApAAJAAJTHMCUPib5gv0B5lXVlYG9CwEQfT09FpbW3/X5Ovr68HjBOUv89816e3bt6tWrXJxcUGd44aHhx0dHREE4ebmfvttQ+uooqqEoKAgqdNfUlISaXZztJmYmNiHDx9KSkrAMwBpRFJbW5uBgQH6gMHExBQSEjLxv54HBwePHj0K/vhmZGR0dHT89OkTqAVcVlaG+u65u7sDz6/CwkLgwGVubk4WfgUQ3blzB7g00tDQHD9+fCyXje/ynPQGISEhQG0hqw75QwMBaRiIpMzMzJQZ2X+ot9/SGOjs6JMY8Gi7fPkyakxTUxMIs5WTk6NUdvLz85WVlcH1pqioGB0dDZ5XgSQEXNhERUVBYr7BwUEbGxvQeKxSy+i4YOfhw4cgHRUbG1tISAilFwxZ+1FfNjY22tvbo553VFRU/v7+o7YkEon3799HwwCBqQoKCjdv3iwvLy8tLY2Li7OxsUGDedXV1VHNHb3UmZiY/v33X7JLvaqq6tixYzIyMpycnGvXrgV+MejnFOwwMTEZGRklJydPc72PDF1hYaGxsTEtLe28efOuXbs2qmBBdsqPvhwaGiLTAVVVVXl5ebm4uLi5ueXl5U1NTT09PUNDQx89epSVlXXnzp1Tp07Z29svXrxYUFCQ99umqKhobm7u7e0dHR397t27pqYmqAP+6EKM3z43Nxf9CcHb25vSO3j804lEYktLC1qxytraGs1fMf6JBAIhNjZWUlJy27ZtpD+2oWfh8fhTp07R0NDw8fG9ffu2p6fn0KFDWCyWLP4Ubd/a2rp+/XoQaw9+iouPjwc3EAwGo6mpGRwcnJ+fX1lZWfNt+/Lly9OnT7dv3w6+CwQFBYE7c1tb2549e0jrV6AfeS4uLkr/95qaGlDBQ0xMbNQf0vB4fHh4OHr/ERcXj4iIGPWuODAw4ObmhubOQ8fl4ODYvXt3dXU1Olkikfjx40dwkwdOgurq6q9fv/4JSg0NDaBqioGBAeo5ePPmTbIsjeBbxtjYmMzRvq2tzcHBATAERZNv3bpFaufP7efm5i5atIiRkfHo0aOkP6z+XG/wLEgAEoAEIAFIYKYTgMLfTF/BWWL/yMiIl5cXULhYWFj+S+a1/04ElBccK8Jx/P4jIiJoaGh4eHjQqMnh4WF7e3sg/IWEhKCJfhYvXnzixAngFkeqhhQVFc2fPx/8vc7Dw+Ps7Hzp0iV/f39ra+tVq1a9fv36xo0bwP9ISkqKtNrsixcvUEkRDOfo6PjmzZtRHw/IZvHgwQPw5MbMzOzn50eq5fX19QHhEkGQvXv3Al0jJSUF+BEcOnSITOkgEolDQ0NOTk5gChoaGtMnvqaiogJ199PW1q6pqSHjMMGXhYWFqD+jvr4+aYb4Cfbw25u1tbWtXr0aQRA+Pr6FCxeCj97OnTvR3HPJycngsW3jxo1kD9UdHR1oWeSFCxeS1fF8+vQpiPvDYrEFBQVEInF4eNjBwQG9pFFfDyKR2N3dTVnf9v379+AjQENDs3//ftKr8Ue5dXd3Hzp0CMyOiopq1Jhl0OeFCxfQJ08qKqoVK1aQ+QYODAxkZmbq6ekBtXTdunVg3d3d3cHUzMzMRhUs8Hh8VVXVixcvwsPDyYQ/enp6HR2dqKioUU/80clOffv29nZPT08WFhYGBgZTU9OsrKyJ/9jwE9YODQ21trYWFxffu3fv+PHjW7ZsWbRoER8fHycnJzc3t7S09Lp16w4fPnzlypXHjx9nZWXFxMQEBQVt375dQ0NDQECAm5ubh4eHUgf8LxfYT8xi9p3S1NQEbiYSEhLoF9+PTvPixYvgJxkGBgYvL6/xdeSenp7GxkZQ4+Xt27ejuu8BAxoaGszNzbds2QJqhXV1dWVnZ4/TeWZmppaW1tmzZ8GV/OXLF1SRBK703NzcWCxW6NuGxWLZ2dnRn08WLlyIWtLX1xcfH29mZqahoWFqampiYgJmp62tTVm1bHh4+MiRI+A28tdff42KDofDRURErF+/3sLC4unTp+Ooq21tbSdPngQSOR8fn6SkpKWlZUJCwqjX+YcPH6ysrNjZ2eno6NTV1YFw+aOURkZGfHx86OjoXF1d0TvA4OBgTEyMjo6OgIAALy+vkJCQrq5uSEjIqF+Xzc3NHh4eAgICdHR04uLicXFxo0KY4EEcDhcXFweyggYHB1N+xUywH9gMEoAEIAFIABKYTQSg8DebVnPGzKW/v7+hoaGqqqri2/b169e4uDggFiAIQllmbion1tvba2VlhSDIqAVzv2vJ7du3GRkZmZmZ0TCcgYEBoJLQ0tKCGBwEQZYsWQI0kcuXL4Mc2/b29sPDwzgcbv/+/eABQFZW9t69e6gT0ODgYGdnZ1VVFVrSl4WFhazicEFBgaWlJZo9EPx4vn///ry8PFTQoZxCS0sLmrBPQEBgz5498fHxnz59qqioePr06bZt20CHpIm6o6KiGBkZx9JGi4uLQZY0JiYmyjKFlAb8oiMdHR01NTWVlZUVFRWfP38uLy/fvXs30IDY2NgmKC4TCIS2traampovX76Afj59+mRnZwfWiJeXd9Qw2F80o0ns9sWLF8Avz8nJKT4+HsR2qaioAJV2cHAQSLd0dHSkboDAgKioKJDKnYqKatWqVWfPns3JyamoqPj48eOlS5dQT8AVK1aAVFak3oUGBgZA5KqoqPD19dXV1fXw8ECdRIhEYkNDAxqAZmpqSpq6/uemn5+fD+4t4wt/Dx8+RD101q1bV1FRMepwX758MTIyQhCEhYUlLi5uaGgIfLrp6enRmpujnkgkEp89ewY4g4sHQRBZWdkJZjwcq8/ffnxwcPD27dsqKirgnunu7j5lcf04HK69vb2srCwxMfGff/7ZsWOHtra2oKAgDw8PHx+fnJycqampl5dXeHh4Wlras2fPbt++TakDKigobNiw4ciRIzdv3szNzW1oaCCTuX874RlhwIsXL+zt7ePj41Hd50fNbmpqQnN6MjIybt++/c2bN6SSzcjISFNTU2Zmpre3t6GhoZyc3MaNG9va2r47EFnyjfHbj4yMtLW1oV+7IJffwYMHybJzoB9hdEdaWvru3btkehyoDA5KZoGvUW9vb8qfyohEYnV1ta+vr7Ozc3p6+jgW9vb2TiStBIFAaG5u/vDhQ3FxcU1NzaiSHzpKd3d3SkrK7du3KysryexH25DtUFJqamqKiYkh/SUSnNLZ2VlSUlJUVFRZWUl6nyfrkEgk4nC43NzciIiI9+/f//RVRCQS29vbfX19OTg4ZGRkHj58OCptytHhEUgAEoAEIAFIYNYTgMLfrF/i6TXB/v7+O3fuWFhYzJ07V1BQUODbhsVi0edhOjo6b2/v31gE9tmzZyDGEFUofohgcnIyKysrLS1tSEgIOLG7u3vt2rXo4wGCIMrKymhg79u3b4EqYWxs3N/fj9ZRxWKxoyYtOn36NBAKQYekP7CD4bq6uqKiolavXg2kGdAMi8Vu3749LS1t1ICXyMhI8EwCRDEEQZiYmPj5+UnXBUGQFStW1NbWglEuX75MS0s7qvAHnBdAXjN9ff3m5uYfAjgpjSsrKwMCApYuXSosLIzFYgUEBMC/aN4lWVnZlJSU7z7hl5SUHD16dPHixaT98PPzo4FUqqqqo+Z9n5RZ/LpOCASCv78/BoNhZma+d+9eQ0MDqNHBwsJy9+5dIFGB4jZycnJkdUtaWlp0dXXBdQUuGAwGw8XFhcVi+fj4UMJMTExXrlwBUyAQCAEBAcAv5siRIwQCYWRkZO/evaATVlZW1L+jv7/f3d0deN5paGhQPkb+BJOWlhaQ/pKKiurYsWNj9YCW3BUSEnr16tVYzYhEIhD3EQRxd3fv7Ow0NDQE2QC/KyUXFBSAAHkwcfBBGyvqcBwDpuFbpaWlLi4uQDlVUlK6dOnSLyrQOc7cR0ZGOjo6vnz5kpaWdv78eVdX1zVr1khISAgICAgKCiorK1tYWPj6+l6/fj01NTUrKys6OjooKGjnzp1aWlqCgoLc37a5c+caGRkdOnTo6tWrL168qK2tHfWeOY4Zf+xbpGLZz0F4+/YtiBgFHxBhYWErK6ujR4/6+vp6e3s7ODgsWLAATSGKIMjChQv/+w8DEzEVh8Pl5OQcPXp06dKlWCwWXCrc3NzAkW3p0qWHDx9+8+bNWBoTHo93c3MD7tXPnz8fZ8SxehjnFPgWKYHCwkJTU1Nqamo1NbXxb+OkZ8F9SAASgAQgAUjgTyAAhb8/YZWnyxx7enp8fHxQtxr06Zd0B4gRysrKf//999T8TU9Kh0Ag+Pj4AHscHBwmEiRLejqRSHz16hUIkHRycgIPQq2traiPHoIggoKCqDMgkUhsbW1duXIlqLXX1dUFdEMEQezt7UmdHcAoL1++BNn9qKmpgcKiqak5KqW2trb79+/v2LFDSkoKDUSaM2eOqalpUlIS6e//3d3dwMGKjo7O0dHRxsYGrWNAui7q6uovXrxAJ3vjxg2gPx44cIDMR+DBgweCgoIIgnBycqLFQNATp2CnsLAQICW1n2wfhGMbGxsnJSWN5QuZk5MzVslatDdaWlo+Pj5zc/OMjIz/4qQwBVhIh2hoaADVMBUUFCoqKkZGRlxdXcGkNm3aVFlZuWnTJvDS2dmZjE9iYiJ49lZSUvL19UVDnlEmwBvuyJEjaDwd6vFHR0cHPEBLS0vReHZQO5tAIOBwuFOnToEQcikpqSdPnpDa/NP7vb2969atA2F6wcHBY/WDCn9Lliwhq7lJdsr58+eB8rt79+7m5mZwsTEzM3/3ai8rKwOesEJCQitXrgT65rJly3465JzMsN/7cmBg4O7du2jBcQMDg+TkZLKLZyotJBAI3d3dtbW1L168CAsLc3NzW7dunaysrOC3DTj6keUHPHPmjLOz84oVK0RERIC4Iy4urquru2fPnkuXLj158qSqqqq7u5vsjjeVk5r1YxUXF2/evBmtR0F6VyHdZ2RkVFBQCA8P/+9q4w8h7ejoKC0tzcvLe/1tKyws/Pr1a0dHx/iXRF1dnaamJoIgBgYGUy+I/9AEZ25jHA6XkJCgrKxMTU1tYmJSVFQ0c+cCLYcEIAFIABKABH4FASj8/QqqsM/RCYSGhqJRqGxsbIsWLTI3N58/fz7wDiP9sx5BEGpqah0dnczMzKn8DXxgYMDCwgJY4uzsPPo0xj2KVidcunQpcHb7+vUriIMDma0DAgJIFaKBgQEQWaykpPT169eYmBgGBgZaWtrQ0FCycUpKSkCyIVpaWnt7+23btiEIwsHBQZoxjeyU4eHhT58++fv7y8vLo5A5ODhcXFxQreH9+/eioqIIgqipqVVWVoLiDPr6+vz8/JycnLy8vCoqKm5ubmRuXykpKUD9mT9/PohZBkOnpaUBaQNBEFNTU1T6ITPs171saWlB48WoqKiEhYX19fWNjY3RIGuyy4yLi8vNzQ31ZEQNq6mpQeVaampqMTExQ0PDtWvXUmYrBx3y8/P7+vqOLxihnf/2naysLDARW1tboALHxcUBF1FmZualS5eCB28ODg6yqtYjIyOHDh1CEISWlvb06dN4PP79+/cHDx6Uk5Pj+raJioquW7cuOjqaVFzG4/H79u1DEISBgSE6Orqrq8vOzg69IBEEWbNmTXl5+dmzZ0EKPHZ29qtXr47/LD1xht3d3cApj4GBISIiYqwTUeFPXV19VDEdnFhaWgqckpiYmG7dukXqLDmqiy7pcM+ePQPp+XV0dNLT0yUlJQFJd3d3Ulykp8y4/c+fP3t6eoJbCicn56FDh758+TJNZtHX19fQ0JCTk3Pt2rVDhw4ZGhpKSUnxf9ukpaWNjIzc3NwuXbr04MGDZ8+e3bt37/z583v37tXV1RUXF+fm5ubi4hIVFV21apWrq+uFCxcyMjK+fv3a1dU1ld9Q04TkLzWjt7f33r175ubmQkJCTExMVFRUGAyGlpaWlZVVRETE0NDQx8fn7t27E49L/aXWTqTze/fusbKyUlNTnzlzZiLtYZsfJdDZ2RkQEDBnzhw2NjZvb++JBID/6BCwPSQACUACkAAkMNMJQOFvpq/gjLG/q6sLjXgVFxePjY1tb2/PyclZunQpkE7lnUOHAAAgAElEQVTo6elB8C9pjKqwsPC5c+e+G5I5WRRQ5yAEQZYvX06WYwiMAlyT+vr62tvb6+rqGhoaSB/8qqurVVVVEQQREhJ68+YNkUgsKCgAUZNk0bJob35+fkDCy8zMjI6OZmBgoKOjI8sXVlBQoKurC3z3DAwMGhoa0tLSQHz0vn37UK8HAoHQ2dlJ6WVTUVFx4sQJJSUloLZgMBgzMzOg/SUmJgLg27ZtQxXJrq6u4uLi7OzsoqKi5uZmSs/H6upq1Btu0aJFkZGRxcXFoaGhc+fORVeTbAqTtUbj95Oeng6wYDCYjRs3FhcXt7a2BgcHo/UQ58yZIyQkxMPDQ1rJYdWqVWRhQfHx8Wj487Zt28rKypqbmwMDA9GYdC4uLiEhIW5ubjQ+moaGZt26de/evRvfwunw7qVLl2hpaenp6W/cuAHsqa6uRsueoNqojo4OWaR2b2+viYkJcOdEiY2MjNTU1AAvmMrKSspPKx6PBxUwGBgY/v3334CAAJDnHh2IkZFRXl4eqI20tLRubm6TKITV19draGgAm58+fToW/9LSUuC9yMXFNWpNyf7+/tTU1JUrV4KP4ebNmzs6Ourr64GPGyMj4/jFnRsbG62srMC5RkZG7e3tgYGBwG+XmZnZw8Ojurq6oaGhsbGR9H4ylrXT+Tgej8/Pz9+5cycQl9XU1OLi4ij9l3/7FHp7e+vr61++fHnlypX9+/fr6emJi4vzfNskJCQMDAzc3NyuXLmSkpKSm5v7+PHj0NDQAwcO6OvrS0hIAB1QWFh45cqVu3btCg4OTktLq6ys7OzspLxb/vaZzkQD+vr6Pn78COTX4ODg8PDw5OTkioqKGRd5PTAwAH6lG6ti70xcnWllc1FRkYWFBTU1tby8/O3btyn//plW1kJjIAFIABKABCCB30UACn+/i/wfN25zczOILgSZblxdXd3d3YFGhiAIFRWVq6vr169fKyoqHj586ODgABLtgTRYfn5+U/PcODg4iAY5YjAYMTExS0tLd3d3Hx8fX19fHx+fw4cPu7i4bN261cTERFtbW1JSUl5e3sfHBy1ciwb2cnBwAJXh6dOnwDmOg4MjNjaWcuHj4uKYmJhoaGjOnz9/9+5dEGmrr6//5s2brq6uxsbGGzduoAUT5OTkQNnElpYW4AAoLy9fUlICuv38+fOGDRu2bt369OlTSvngy5cvx48fB9ocFRWVh4fHyMhITEwMIyMjgiDr16+f+DMVgUA4deoUmtCNkZGRj4+PVM2ZO3fux48fKSf7q4/ExcWB6WAwGC0tLW9vbzs7Oy4uLqAxYbHYe/fu1dXVFRQUXLx4cdWqVajNioqKpNmXwsLCQDgnFRWVjo6Oj4/Ppk2b0PRSkpKSqamptbW1b968OXv2rLa2NopCXV397du3v3qa/6X/kZERUKaZk5MTLcFJIBD++ecfNHchCIw9ffo02UAdHR2gfCcLC8t3HdxIzz1z5gwNDQ0GgxEUFARXODU1NS8vLyq/ggWioqLaunUrmdpI2s9P7Ofk5IDE/GpqatXV1WP1gMPh0LSDwsLC/v7+eXl5oKJLdnZ2SEiIubk5qHyNIMjatWtBCYu6ujog/FFRUfn5+Y3jpYgq7AiCODs7g+z4dnZ2QAqkoaGZP3++kpKShobGNL9+xgJIdnxgYCAlJcXExISRkZGFhcXFxWXKin6QWTLBlz09PTU1NVlZWSEhIXv27FmzZo2YmBgvLy8fH5+srOyGDRu8vb0jIiKysrLevn2blpYWFhYG3AYlJSWBDigkJLR06VJ7e/tTp04lJiaWlpaSlYmYoCWw2WwiUFhYCHx7LS0tJ1KXYzbN/VfPBYfDPXjwAESNGBoagp9af/WgsH9IABKABCABSGCGEoDC3wxduJlnNg6H8/PzQ3UW1NkHRPVaW1uTPpMPDw8/f/587dq1wJ1KRERkyhypbty4gcYjkxo5zj4Gg1m2bFlhYSGRSOzr6wMp8/j5+cGfoZ8/fwaK56ZNm0ZV1ioqKkC+MzMzs7S0NCBSYDAYISEhHR0dVVVVNOmegoJCcnIyuvaXLl2ip6enpaU9d+4cOBgfHw9kL2Fh4bNnz9bX15O5nwwODv7zzz9ApZKTkwOJ8IGehcViMzIy0M6/u9PQ0LBx48axsKAxpN/tZ3IblJWVofoymW28vLyhoaGoVyNIsHj+/HlxcXHQctu2bai+/P79e1SVJutHREQkOjqaVFdtbGwMCgoCmQ0RBNm/fz8Z9smd43/sraGhAbjZ8vLykmpMVVVVpOhUVFQolZr+/n500bdt20bp3DeWbY8fP0adJcFHftOmTU+ePEHjqREEwWAwlpaWaBD6WF396HFQgRpBEGtr64GBgXFOf/v2raKiIlhuDAbDzc0NasJwcnKifp3s7OyOjo6VlZWgH1T4QxDEzMxsnAd7oO8jCMLKygoqqBCJxK9fv5qbm5NGPdPQ0FCWUR7H5mn+VldX1507d/T09FhYWOTk5AIDA0tKSkg/O9PW/u7ubqADXr58GQT8onVC5s2bZ21tHRgYGBsb+/Lly3fv3qWnp4eHh3t4eBgbG8vIyPDw8HBxcfHx8amrq9va2h47diw2NrawsLC5uXn8K3Da0oCG/TSBs2fP0tDQMDAwzI4yPj/NYdJP/Pz586FDh+bMmcPCwnL48OHJ/blo0q2FHUICkAAkAAlAAr+dABT+fvsS/EEGdHV1/fXXX6g+Ah6w6enpN23aRJlkjUgk1tTUbN68GYPBsLOzZ2VlTQ2p7u7uo0ePopGhZKLPWC+pqanDwsKIRCIoYIogiKKiIqoOvH792snJCfWuIpsIgUAICQlhYGBYt25ddXX1li1bKEfBYDArVqxAgytBDw0NDSB5mYGBQVdXF5FIzMrKQpPZ0dPTL1iwwNHR0dPTE3gsHjlyxNraWkxMDPQvIiJSXFxcX1+PFlI0NDT8Idmlqqrq4MGDWCyWlpaWkZGRk5MTVPygp6cHNMhmOjUv379/v27dOjL1VkhIiEz1Q4159OiRjIwMgiDGxsakwk1OTo6Ojg6ZVC0hIREdHU3p2IXH4+/cuQNSm9na2k7naCM0SFxeXr68vBzlQCQSk5KSgHOKgIBATEwM6Vvo/sWLF8Eqc3BwXL9+nRIF2pJ0p6WlBbgKAtXP1tYWVO7OysqaP38+PT29gICAs7NzVVUV6VmTsn/+/HngbBgYGDh+hwQCISsry9TUVFBQkGzdGRkZJSUlN2/e/PDhQ9KLpKurC8Q+Iwiye/duNOiecqCCggIJCQkEQTZs2ECagqq2ttbZ2Rm9XGloaH7jZ4fS7Ek50tnZeffu3cWLF1NTU0tJSbm5ueXm5k5cNZ4UG/5jJz09PbW1tc+fPwdxwfr6+tLS0oKCgkJCQsrKyhs3bvTx8bl161ZmZubbt28zMzNv3brl4+OzceNGJSUloAPy8PAoKSmZm5t7eXlFRUW9efOmqalpEkPa/+ME4em/gkBbWxuogT5v3rzPnz//iiH+wD77+/vv3LmjpqaGIIiMjMytW7fQX+z+QBpwypAAJAAJQAKQwAQJQOFvgqBgs8khgMPh8vPzT58+7fFt8/LyioyMbG1tHav3urq6gwcP7t27t7Gxcaw2k358cHDw6dOnAQEBjo6OGzduXL9+/bJlyzQ1NQ0NDU1MTKytrXft2uXu7r53714bGxsdHR1paeklS5agVeQ+ffq0YcMGd3d3UoEAh8ONI5G0trZeu3YNeAiWl5dbWlpycHCALGzs7OyysrLe3t6jaiJv3rxZtWrVnj17wANkf3//+fPngXZDqR6SHsFgMI6OjsAD8cqVK8CpkIaGZuPGjR8+fBgVaU9PT0FBQWRkZFBQUEZGBpgODod7/fp1eHj4nTt3kpOTQdijlJQUSmPUrn71wba2toSEBF9fXw8Pj8OHDx8/fvzly5ekvn5kBqSmplpZWd26dYvMF6mpqSk2NtbLywv0ExQUlJeXR9YG7YpAICQkJFhaWt67dw89OA130MrRy5Yta2lpIbUQj8e/fPnyxIkTycnJY+Gqra1F3fRERESuXLkyqoIzMjJSW1ubkpJy4cKF8+fPNzc3p6WlLVy4UFxc/NChQw0NDei4xcXF0dHRb968+UXOUDdv3qSjo2NhYbl//z466Dg7vb29Hz9+jImJ8ff3B7epgICAuLi4ysrKUR8vMzMzFRUV586dSxoqTtk/Doe7ffu2l5cX5Uejp6fn5s2bGhoac+bMWb58OWUDyt5m4pHq6moPDw+Q+I+fn3/9+vUXLlz48OHDL1r3X4qot7e3rq7uxYsXaH5ASUlJUCdERkYG1Am5evVqcnJyfn7+s2fPoqOj//rrL1tb2wULFvDx8XFxcXFzc8vLy2/YsMHT0/PWrVt5eXmNjY2kXxm/1H7Y+dQQSE9PB4kmDh06NJ3dwKeGxqSMUlxc7ODgwMLCgsFgdHV18/LyJqVb2AkkAAlAApAAJDDrCUDhb9Yv8YyfIA6H+13+UyMjI/39/b29vR0dHW1tbT09PX19fYODg6j0Mzg42NnZ2dDQ0NraSqrrgZY/jb6joyMzMzMsLAy4kFRWVqIjUvbZ3t7e2dmJHicQCPn5+U5OTuLi4mjiOVLJj46OTkxM7NChQ6iXZWdnp729PRpvqKCg8Ndff+Xl5VVXV9fU1FRWVj558iQwMNDQ0BCLxQJvLxsbG8pFQQsE29nZzbiH+YGBgUl5MBsYGBhnsdBl+o07X758Wbx48Zw5c/7++++fm3JKSgrqN8rCwmJhYREXF1deXl7zbfvw4UNERISTk5OysjIbGxsGg2FjYwMeuy0tLXV1dZRXzi+lUVJSMm/ePA0NDdJkApM4IoFA+PjxY15e3lhS6QTHqq2tffXqFakkOsETZ1AzHA6XlJSERpQzMjKKioqam5uHhYWVlpZO8YUxidyAP+CzZ89AXDDID8j9bRMTE1uzZs3evXsvXbqUlJSUl5f36tWru3fvBgUFbdu2TUNDQ0BAAOiAsrKy69ev9/DwCA8Pf/nyZW1tbXd3N+nXyiQaDLuaAgJoDXQWFpaHDx9OwYize4ju7u6rV68qKCggCCIoKBgQEDCVvwfPbrZwdpAAJAAJQAJ/AgEo/P0Jqwzn+McRwOFwpaWlN2/edHNzc3BwsP+27d6928vL6+bNmx8/fiSLSayvr7e3t0eTCWIwGC4uLhDIhsViSbOzIQhCT08fEBBAqRmFhITQ0tIyMTGNFSX6xy3DtJwwHo8vKip6/vz5qBknJ2IyHo+/d++evLw8KigzMTEJCAgIfdv4+PiAOoy+q6KiUlxcPJGef0UbPB6fmZn57NkzqKH8Crw/0Wd1dbW7u/ucOXM4OTnV1NTmzp3LxsYmKirq6ura3t7+Ex1Ot1PI6oTo6uqKi4sDHVBYWHjFihWgEPCDBw9ev36dk5MTHx9/5swZBwcHbW1tYWFh3m+buLj4mjVrXF1dz58/n5qa+vnz546Ojv8oLk83ULPbns+fP4PsvVgsdsqSFM9WpPn5+VZWVgwMDDQ0NEZGRs+fP5/mP7DN1oWA84IEIAFIABKYuQSg8Ddz1w5aDglMiMDI/7bxhY/u7u4bN25oamqSZTdD5Rt2dnYZGRkzM7Nr166R+hgCI7q7uzds2IAgiIqKCprccEL2wUYzk0BhYaGzszOoRYNeJOgOHR0dPz+/lpbWwYMH37x5M/61NzMBQKt/nsDQ0FBsbOz8+fOFhIT27dt3+fLlzZs3m5ubo27IP9/19DsT+AO+ePHi6tWrBw8eXLt2rbS0NNABBQUFtbS0tm/fHhQUFBMTk5WVlZubm5SUdPXq1cOHD5uZmc2bN09QUBCLxYqKimppadnZ2YGiIu/evYOhwdNvqf+PRQkJCSwsLAiCKCsrw+/E/4PmR15UVVX9/fffIIGJlJTUmTNnOjo6fqQD2BYSgAQgAUgAEoAE/n8CUPiD1wEkAAn8PwL19fWRkZHOzs4rV65UVFRUVVVdunSpra3t8ePHMzIyamtrx8pG/+rVK1C2Zc+ePWTuhP+vd7g3uwgMDQ3l5uYeO3bMzMxMTU1NUVFx0aJFhoaG+/btu3nz5ocPH9rb26Ffxuxa88mcTVFRkaWlJTc3d1RUFB6P/0MiW3t7e+vr63Nycq5fv3748GFTU1NFRUUeHh5ubm5eXl5QKsTLy+vGjRvp6env3r179erVvXv3zp07t2vXLh0dHQkJCVBsWk5OzsjI6MCBAyEhIenp6Z8/f25raxs1DeVkrhnsa8IE7t+/D4r2UGZTnXAff3TD+vr68+fPL1iwAIPBMDAwWFtbgzzIfzQUOHlIABKABCABSOBnCUDh72fJwfMggdlLYGRkpLOzs7Gxsbm5ub29/bu5t/B4vJeXF4Ig7Ozsjx49mr1g4MxGJ9Df39/S0tLY2Nja2vrTEcSjdw2PzmoCnZ2dMTExvzES/LfT7e/vb25ufv/+/d27dwMDA7ds2aKpqYnFYrm5uXl4eCQkJFavXu3i4nLu3LmEhITs7Oz8/PxHjx6FhIQcOHBAX19fUlKSl5eXm5tbQEBg4cKFVlZWR48eDQ8Pf/r0aWVl5UTu3r+dwGw1oLS0VElJCYPBODk5QUH2h1a5paUlPDxcS0uLhoYGQRAlJaWwsDD4zfJDDGFjSAASgAQgAUiAjAAU/siAwJeQACTwwwRqamo0NDQQBFm6dCnMt/3D+OAJkAAkAAl8I4DD4drb2ysqKlJSUoKDg3fv3q2vry8lJQVCg/n4+FRUVCwsLLy8vMLDw5OTk3Nych49enTlyhUvLy8rKys1NTV+fn5ubm6QpFVTU9PW1tbX1zciIiInJ6e2trarq4syPStk/ysIDA8PJycnX7169fPnz7+i/1nZZ0dHR3R0tI6ODkgUy83NvWvXro8fP87KycJJQQKQACQACUACU0kACn9TSRuOBQnMTgKxsbHMzMwYDCYgIABmc5udawxnBQlAAlNOgEAg9PT01NfX5+XlRUVF+fv729raLlq0iNQlENQAOXfuXFxc3KtXr7KzsxMSEi5duuTm5rZhwwYlJSVeXl6ub5uYmJiOjo6Dg0NQUFB8fPz79+8bGxt7e3unfFpwQEiAnEBXV1dcXJyBgQEoMsbKympubp6eng6dJclJwdeQACQACUACkMBPEYDC309hgydBApDA/wgMDAzY2dkhCCIiIpKXl/e/w/B/SAASgAQggUkmQOoSeP78+d27d+vp6UlKSgKXQH5+/gULFlhaWnp5eV29ejUpKSk3N/f58+exsbHnzp0D/oPS0tIgpSAPDw9IFLhv377z588nJyeXlZW1trYODAxMstGwO0hgbAI1NTU3btxYu3YtqIXCwMCgr69/7949GNs7NjP4DiQACUACkAAk8MMEoPD3w8jgCZAAJEBKoLCwEFTc27hxI3QeISUD9yEBSAAS+NUEgEtgbm7urVu3vL29ra2tSV0ChYSEtLS0tmzZcuzYsRs3bqSkpLx+/TojIyMyMvLEiRM7d+5cvny5qKgoGkqsqqpqYWFx+PDh0NDQtLQ0IAWOVdPpV08N9j+LCeBwuKKiIn9/f1VVVRDYS01Nrampef369fb29lk8cTg1SAASgAQgAUjgtxCAwt9vwQ4HhQRmD4Fz587R0NBQUVEdP3589swKzgQSgAQggRlIYGhoqL29/fPnzxkZGaGhoe7u7qampvPnz+fj4wMFQ8TFxVeuXAkCfqOiojIyMnJzcx8/fhweHu7n52djY6OhoSEoKAi8Avn4+ObPn79hw4YDBw6cP38+KSmpuLi4qampt7cXZnWYgVfHtDC5q6srJSXF3t5eTEwM+d+mqKj4zz//1NbWTgsToRGQACQACUACkMCsIwCFv1m3pHBCkMAUEmhra9PT00MQhJ6e/vr161M4MhwKEoAEIAFI4PsEQNHtkpKSR48eBQcH7927d+3atXJyckDa4+XlnTt3rr6+vouLyz///BMZGZmWlvby5csHDx5cvXrV399/69at2traoqKiPN82Xl5eeXn5tWvXurq6nj59+t69ewUFBQ0NDV1dXcPDw9+3Brb4UwkMDw9XVlaCqF4ODg6g+NHR0amoqAQEBJSVlf2pYOC8IQFIABKABCCBqSAAhb+poAzHgARmK4EvX74oKSkhCMLCwvLw4cPZOk04L0gAEoAEZg2B3t7epqamwsLCe/fu/fPPP05OTnp6ejIyMry8vHx8fPz8/NLS0rq6us7OzidPnoyIiEhLS8vJyUlOTr5x48bx48ft7e1XrVolKSkJpEAeHh5paelVq1Zt27bN19c3LCwsLS2tpKSkqampp6cHj8fPGm5wIj9BAI/H19bWxsfHOzo6ysvL09HRAcmPjY1NV1c3LCysurr6J7qFp0ACkAAkAAlAApDADxGAwt8P4YKNIQFI4P8QaGtrW716NYIgPDw8ubm5/+c9+AISgAQgAUhg2hPA4/E9PT2NjY1FRUUPHz4MDg7ev3//hg0bVFRUsFisgIAAFouVlpZevXq1o6NjUFBQREREenp6Xl5eWlpaRETEP//84+rqamRkpKysLCAgwMvLy8PDw8fHJy8vr6enZ29vf+zYsZs3bz59+rSioqKlpQWGCU/7K2ISDCQQCI2NjYmJiXv27Jk3bx6o1QskPywWa2Nj8/Dhw46OjkkYCXYBCUACkAAkAAlAAhMgAIW/CUCCTSABSGAMAgQCISQkRFVVdf/+/fCP+DEgwcOQACQACcwwAv39/a2trRUVFRkZGWFhYUePHrWxsdHS0hIXFxcSEhIWFpaSklq6dKmtra2np+e///4bFRWVmpr69OnT+Pj40NDQv/76y8nJycDAQEFBgZ+fn/fbxs/PP2/ePCMjo127dh0/fvzmzZvp6ekfP35saGjo7OwcHBycYYyguRQE+vr6Kisrk5KS3N3d1dXVWVlZ/5fED6GhoZGTkzt8+PDr169h5WgKcvAAJAAJQAKQACTwawlA4e/X8oW9QwKznsDg4GBLSwv8O37WLzScICQACfzJBIaGhjo6Oqqrq7Ozs6Ojo48fP+7o6Kivr6+goCD4v01KSmr58uVbtmw5evRocHBwdHR0ampqZmZmbGzspUuX/P397e3tdXV15eTk+Pn5+fj4gCAoJSW1bNkyKyurgwcPnj59OiYm5vnz5xUVFc3Nzd3d3Tgc7k/GPv3n3tPTU1FRcf/+fV9fX2NjY2lpaRYWFlK9T0RExNzcPDQ0tLy8HNaEmf4LCi2EBCABSAASmJUEoPA3K5cVTgoSgAQgAUgAEoAEIIFfSADECDc1NX369CklJSU0NNTT09PGxkZbW1tMTAykC+Tn55eSklq5cqWdnd3Ro0fPnTt369atpKSk1NTUO3fuXL58+fjx4/v27TM3N9fU1ARnocHCCgoKa9as2bp165EjR4KDg2NjY1+8eFFeXt7U1AQ9BH/hun6v65GRkY6OjtLS0rt373p6ehoYGIiJiTEzM6NiH4Ig1NTUQkJCGzZsuHTp0ocPH/r7+7/XK3wfEoAEIAFIABKABH4hASj8/UK4sGtIABKYTQQ+f/4cHByclZU1myYF5wIJQAKQwCQSAI6BtbW1+fn5cXFxp0+f3rNnz/r160HGQB4eHuDlJyYmtnjxYgsLiwMHDgQFBYWFhd2/fz8rKys1NTUmJubixYv+/v6Ojo5GRkYqKiqCgoLgLFB+RFZWdsWKFVZWVvv37w8KCrp161ZaWlpRUVFdXV17e3tfX9/IyMgkzgh2BZS+8vLypKSkU6dO7dy5c8mSJUJCQoyMjKRiH4IgdHR0goKCxsbGwcHB79+/7+vrg/QgAUgAEoAEIAFIYDoQgMLfdFgFaAMkAAlMdwLv3r3T1tZGEMTOzq6vr6+5ufnzt62pqekPecgcGhqa7osE7YMEIIFpSaCvr6+1tbWysvLVq1exsbFnzpw5cOCApaXlkiVLxMXFgajHx8eHxWLnz59vZGTk5OR07NixCxcuREZGJiYmZmZmJiYm3rp1699///X393dxcTE1NV28eLGEhATftw0VEzU0NIyNjbdv3+7u7n7y5Mlr1649fPgwOzu7rKysoaGhra2tt7cXxg6Pf40MDw/39PS0tLSgSt+OHTuWLFkiISEhLS3Ny8srLS1tZGTExcUFVD86Ojo+Pj5tbW0XF5fr168XFBT09vaOPwR8FxKABCABSAASgASmmAAU/qYYOBwOEoAEZh6BtrY2c3Nz8JCjqKhoZ2eH1rtUVlbeu3dvfn7+7E5dlJGRYWdnl5CQgMfjZ976QYshAUhg+hEYHBzs6Oior69///79o0ePQkNDfXx8tm/frqenh5YEAbqeoKDgvHnz9PT0tm7d6uHhcfLkyStXrsTGxqampqakpNy+fRuEDB86dGjz5s26urqqqqoiIiL83zbQAx8fn6Sk5KJFiwwNDbds2XLgwIHjx49fuXIlPj7+2bNnHz58qK6ubmpqam9v7+npGRwc/BNudKjA9/Xr19zc3Hv37l24cOHo0aPbtm3T09ObP3+++P+2xYsXGxkZGRoabty4cfny5eCwiIjIkiVLXF1db9y48e7du/b29j8B2vT7GEGLIAFIABKABCCBCRGAwt+EMMFGk0WAQCBUVVUVFxe3tbUNDg5SaiVDQ0Pl5eWpqanFxcXDw8OTNS7s548lgMPh+vr6+vv7/8szyfXr18kSGJHFN0lISISEhMzWqpSdnZ3GxsYIgigpKZWWlv6x19KkTByHw8E726SQhJ3MSgIjIyM9PT3Apfrly5dxcXEXL1709va2t7c3MjJSV1cXEREBAb8gh6CkpKSWlpapqamTk5Onp+fff/998eLFiIiIBw8eJCUl3blzJyws7OzZs/7+/gcPHty6dauhoeHChQslJCTIZEEsFisrK6uhoaGnp2dpaeno6Ojh4XHixInLly/fvn07JSUlNze3tLS0rq6uubm5vb29q6urt7d3cHBweJ++lW0AACAASURBVHiY8i+ZabI0Q0NDPT09ra2t9fX1paWlL1++fPDgwbVr106ePOnh4bFjxw5DQ0MVFRUREREhISHRb5ukpCTwmrSxsdm4caOent769etVVVXFxcWlpKRkZGT09PT27t0bHh5eUFAAxb5pstDQDEgAEoAEIAFI4LsEoPD3XUSwwaQRIBAI9+/fV1FR4ePj09LSsrGx2b179+HDh729vX19fb28vNzd3W1tbWVlZVlZWcXFxUNDQ6dPEGVnZ2dFRUV+fn5eXl5ZWVlra+u0/Vt/0hZsxnZEIBCKi4svXrzo7u6+detWExOTjRs3uri4HDt2LC4urqSkpKenZ+KTa25uXr16NanSx8jIyM/PLygoyMfHR0tLC97i4OAIDQ39L/LixE2a4pbFxcXi4uIIgrCysj5+/HiKR/+54Wpra8+ePXvq1Kmamprxe/j69WtwcHBMTExnZ+f4Lf/7u93d3b6+vu7u7o2Njf+9N9gDJPDnEBgZGenr62tra6utrS0sLExJSbl582ZQUND+/futrKx0dHSUlJRAKkDg4sfPzy8kJKSsrLxq1Spra+s9e/b4+vqeOXMmLCzs7t27qamp6enp8fHx169fP3fu3F9//XXkyJHdu3dv2bLF2Nh46dKlSkpKqM8gKEAMuhUREVFSUtLU1NTR0TEyMrKwsLCzs3NxcXFzc/P19Q0KCrpw4cK1a9du37798OHDjIyM7OzsN2/eFBQUfPjw4dOnT+Xl5V++fKmurq6tra2rq6uvr29sbGxqampubm75tjV/25q+bY2NjQ3ftvpvW11dXe23raqqqrS09P3797m5uU+fPk1OTk5ISIiJibl+/XpISMjZs2ePHz/u4+OzZ88eGxsbPT09dXV1SUlJof9toAKzsLDw3LlzFy1atHbtWjMzM3NzcysrK2trayMjIy0tLQUFhblz58rIyCgoKKxdu/bgwYNXrlx5/vx5bW3tD317/jnXJ5wpJAAJQAKQACQwzQlA4W+aL9CsMq+zs1NfX59UQBl/38DAoLu7+zciGBkZqaysjIqK2rdv34oVKwQFBbm/bVgsVkNDIzQ0FBaq+42rM9bQeDw+Li5OXl6eioqK8gJjYmISEhIyNDQ8d+5cWVnZRNTbpKQkdnZ20BUtLe2GDRtiY2M/ffpUXV394cOHs2fPzp07F7wrIyPz7t27sQybucdzc3NBOidhYeH8/PwZMZGIiAg6OjoEQXx8fMb5/aC3t3f79u0IgjAxMfn5+f3qPIZ1dXWqqqrU1NQhISEzAiM0EhKY/gQGBwe7urqam5urq6sLCgrS0tKioqLOnTt39OhRBwcHExOTJUuWyMjIkOp3/Pz8IiIiysrKS5cuNTY23rJlC/gZ8tixY2fOnLl8+XJERER8fHxCQsLdu3dv3Lhx8eLFkydP+vj47Nu3b+fOnba2tubm5oaGhitWrFi4cKGioqK4uDj22yZAsQHXQrJ/sVisiIiIuLi4tLS0nJycoqLi/G+bsrKyoqKivLy8nJycjIyMtLS0pKSkuLi4qKiosLCwoKAgFovl5+cXEBDAYrGCgoJAzRMWFhYREREVFRUTE5OQkJCTk1NSUlJXV1+xYoWRkZGVldWOHTucSDZ7e3ugls6fP19CQkJcXFzs26agoLBq1aotW7Z4enpev349Ozu7vr4eJuyb/h8BaCEkAAlAApAAJPBdAlD4+y4i2GDSCFRXV6uqqgKJBIPBUIoyZEd27tw5lbGTnZ2dVVVVzc3NDQ0NJSUlt2/fdnJykpOTo6enJzMMvOTi4rp///6k0YEdTRKBmpqaRYsWjbpkpAepqKhkZWWPHz/e3t4+zsjDw8N79uxBT1y6dCmlB9mTJ0+UlJRAm8OHD48jM40z0G98C4/HV1ZWfvnyZSwZNDk5mY2NDUEQAwODjo6O32jqxId+8OABCwsLgiAaGhp1dXVjnXj37t05c+aAtdPV1e3q6hqr5aQcr6urU1dXRxBk+/btsMLApCCFnUAC4xDA4/H9/f0dHR1NTU1fvnzJzc1NSkq6fv06iHV1dHS0tLTU09PT0NCQlZXFYrGotyDQ6QQEBMTExObPn798+XJjY2Nra+tt27Y5ODjs3r370KFDnp6e/v7+J06cOHv27KVLl66QbKGhocHBwSdPngwICPDx8fHy8vL09Dx8+LCHh4ebm9vBgwf379+/d+/e3bt3u7i4ODk57dy5087ObuvWrXZ2dtu2bduxY8fOnTvt7e0dHBycnJycnZ137drl8m0D+/v27XN3dz9y5Mjhw4eP/N/N3d19165dtra269evX716taamppKSkoSEBIjkBQKfhISEmpqasbGxs7NzYGDgjRs30tPTP3361NjY2NXVBW9N41xR8C1IABKABCABSGCGEoDC3wxduBlp9vv370VERBAEYWZm3rt37/Hjx/fu3Wtubq6uri4sLMzPz4/60y1YsODIkSNTmU2sqKjI0NBQWFhYRUVFVlaWn5+fkZERlXuYmZn5+PjQX9d5eXkxGAwVFdW///47I1diVhvd0NCwYsUKFhYWLS2tXbt2eXl5+fr6Hj161NXVdcWKFQICAkxMTKjuzMrK+uDBg3F4VFVVqampIQgiIyNjZWUVHR09auO4uDhubm4EQdTU1Kqrq0dtM20Pvn79WlVVVVFRMS4ublTtLyIigoGBAYPBBAQEjNpgGk7t48ePUlJSCIJwcXG9ePFiVAvLyso0NDTAx5ydnf3ixYu/OlK7sbFx8eLFCILo6+v/apFx1CnDg5AAJIASwOPxg4ODPT097e3tTU1N1dXVxcXFL1++TEpKioyMvHjxYmBgoJubm729Pch2t3TpUjU1NXl5eTExMQEBAVInPlI/P+CLJyoqKi0tLS8vP3/+fHV1dS0treXLl69Zs8bQ0NDExMTc3Nza2nrz5s3bvm1btmyxsbGxtra2srKytLS0sLAwNzc3MzMzNTU1MTFZv369sbGxkZHR6tWrlyxZoqqqKisrKyIiAnwMsVgsOjpqkqSk5MKFC/X19W1tbffu3RsQEHDx4sXbt2+np6cXFBRUVVW1trb29fXNlPs5umRwBxKABCABSAASgAR+jgAU/n6OGzzrZwjExcWBCgnLly9vaWkBXfT397e0tICcNfnftvLy8paWlin+ezQyMhIEBqJiH8hopqWl5enpmZCQ8OHDh6qqqpqamtra2oKCAlNTU05OzrCwsJ8BAc/5lQQIBEJOTk5KSkpLSwuZjtPT0/Phw4f9+/eja83Kyvrw4cNxzLl79y5wHHN3d+/p6RnLFaKnp8fU1BRBEHZ29uTk5HE6nIZvnTp1CoRFr1y5srW1ldLCoKAgKioqZmbm8UVSyhN/45G2trZVq1YhCMLIyBgTE0NpSVtb29atW4EEzM7OfurUqSnwL+7p6QFlUhYsWDDjBGJKhvAIJPAnEBgZGRkYGOjp6ens7GxtbW1qaqqvr6+qqiopKXn79u2LFy9SU1MTEhKioqLCwsKCg4NPnDjh4+Nz+PDhgwcP7t6928nJaceOHZs3b7aysjIzM1u3bp2+vv6qVauWLVumqamppqamqqqqpqa2cOHCRYsWaWpqamlpaWtrL1u2bMWKFStXrly1atWaNWv09PQMDAw2bNhgY2Njb2+/d+/eI0eOHDt27NSpU5cuXbpx40ZsbGxSUtKTJ09ev35dVlbW0NDQ1tbW09Pzq9MX/AkXAJwjJAAJQAKQACQwCwhA4W8WLOLMmAIej/fw8ACymoeHB5ki89vnEB0dTeriJyYmtmvXrsePH6MCJZmFtbW1GRkZzc3NZMfhy+lJAI/HNzU1ZWRkuLu7y8jIoB5/Wlpa4+gvQ0ND9vb2wGssIyNj/KmdPXuW5tsWHBw8fsvp9u65c+doaGgQBBEWFqbMUTg4OGhra4sgCBaLffPmzXQzfix7+vr6TExMEAShpqYOCgoia9bZ2Xnw4EGg/7Kzs588eXJgYICsza94OTg4aGNjA1C/f//+VwwB+4QEIIFpRQCPx4+MjOBwuMHBwYGBgb6+vp6enq6urs7Ozvb29tb/bW3ftvb29o5vW+e3raurq/vb1tPT09vb29/fPzQ0NOOySUyr5YDGQAKQACQACUACfyYBKPz9mev+G2bd3t6+Zs0akET/zp07v8GCcYd8+fKlgIAAgiBUVFQmJiZv376Ff1uPC2zGvFlXV3fnzh1XV9cFCxagNTqAAK2goDC+d15paam8vDyCIMuXL/+uyHv//n3g0HrgwIHppmuPv1qBgYHA44+VlfXRo0dkjevr6zU1NREEUVdXp8xvSNZ4+rwcHh52dnYGC21nZ0fq9tLQ0ODs7Axyd06l6kckElHhb86cOc+fP58+uKAlkAAkAAlAApAAJAAJQAKQACQwWwlA4W+2ruy0m9e7d+9ERUURBBEVFZ2Gri7d3d0bNmwA4b2U2se0owkNmhiB1tZWc3NzyvIsLCwstra2BQUF43cTGRkJ/EAn4qP65MkTDg4OBEG2bNlCKjONP8Rvfxd16EMQhJ6ePjw8nMyk7OxsXl5eBEE2bdo0vlvc8PBwR0dHa2trT08PWSf/8WV1dfXjx4+Li4t/KAPAlStXgE+fhoZGbW0tsKG0tHTjxo3U1NQIgrCxsZ04cWL8Sf2Q5SMjIx8+fLh27Zqfn5+Pj8+ZM2ceP36MDk0q/HFwcDx58oSycxwOV1pamp6eXlZWNrPkY8q5wCOQACQACUACkAAkAAlAApAAJDAdCEDhbzqswh9hw7Vr14D+oqur29nZCeaMx+O7u7sbv219fX2/EQQej3dyckIQhJOT89WrV2NZ0t3d3dDQUPO/rampaaykb2P1MPXHf0grmXrzfumIpaWlc+fOJc3bCPYNDAyKiorGF1ZwOBy4JJiYmOLi4r5rZ0pKCih9a2trO4OEv7q6OrQIMjU19YkTJ8hmGh4eTkdHR0NDc/HiRbK30JcdHR2xsbE7d+5cvnz5okWLDA0NAwICiouL0QboTmdnZ1NT0w9dk4WFhWvWrGFkZLSxsenv70e7+u5Ofn6+kJAQgiAMDAz+/v5VVVVJSUlaWlrgGuDg4Bhf9evq6nr9+nVkZGRoaOj169czMzO/fv06zsoODQ1dvnxZXFyclpYWveRYWFjmzZt34cIFUA0Z9fjj4OB4+vQp6RQ6OjrS09N37twpLi7Oysq6YMGCafgDCanBcB8SgAQgAUgAEoAEIAFIABKABGYEASj8zYhlmvFG9vf3b968GTwMm5mZlZWVvXz58uLFi66urvr6+oqKigoKCiYmJtevX590X6EJshsZGQEqj5CQUFFREelZfX19JSUlkZGR+/bt09fXl5WVRcv7Kioqenh4NDY2krafyD4oIziRlqO2ARVRxtGthoaGsrOzg4KCDhw4sHv3bg8Pj8DAwMTExN+Fd9RZTMHBxsbG5cuXoyoMusPMzCwjI7Nr167s7OyxYrpbWlqWLVuGIIiIiMhEJJioqCjgHuji4jJWn1Mw5R8dIisrC9QjBnD27NlDajwOhwMBs/z8/NnZ2aN2npOTs379eiYmJhQv2FFQUEhISEA1vqGhoaioKB0dHTU1tcePH4/aFeXB8vLylStXgg4dHR3H0d0oz+3u7rawsADnMjIyYrFYoMwiCCIpKRkeHj5WNY+BgYHExMS1a9fy8PDQ09PT0NDQ0dGxs7NLSUnZ2dmlpKRQ6o94PP7q1as8PDxkEMBLBgYGCwuLd+/eDQ0NgRx/HBwcWVlZRCJxeHi4pKTk3LlzK1euBB6j4BRWVtbIyEjKScEjkAAkAAlAApAAJAAJQAKQACQACfwQASj8/RAu2PgnCXz48EFCQgI80DIzM2OxWE5OThBtR/qczMjI6O3tTflQ/ZOj/shpOBxu+/btCILw8vJGRUVlZWUlJSUlJCScOHFi/fr1wsLClOGiwHIqKqoTJ06g6gbpmCMjI6WlpZGRkQkJCb29vehb5eXllpaWWlpaUVFRw8PD6HGyHQKBUF1dHRsbGxMTQ1prtbm52dXVVVVV9fTp06O6Sba0tHh6eoKUhaR4OTg4Ll26NI5cSGbALHhJIBBu376tqqrKzc096goKCwv7+/uPmr/v06dP0tLSCIIsWbKkqalpfBoEAsHLywuUkjh16tT4jafPuwQCwc/PDy11giCItbU1qRzW0NAAXOS0tbVHhZCUlCQnJ4d+Fri5ubm4uNAOFRQUUBm9uLhYUlIStLSwsJjIx7ynpwcUV0EQRFFRMS8v70fRxcfHo2If+llQVVXNzMwctSsCgVBYWOjk5MTJyYm2J9vh5OR0cHAoKysj7SEnJwedHfDyW7t2rbGxsbq6+pw5c0APioqKMTExlpaWoPrznTt3UlNTHR0dJSUl0ZshAwODpqamu7t7bGws6aeedCy4DwlAApAAJAAJQAKQACQACUACkMDECUDhb+KsYMufJ/Dq1atRH6RZWFikpKTmzp3LwsICno05ODhu3rz58yP97Jlo7REMBsPxbWNlZQW1GtDHfiYmJgEBgQULFhgbG5uZma1bt05BQYGHhwet4vrixYsjR46glU9LSkoWLFhAS0vLwcFx7do1YFp9fb2ZmRnoU1xc/PXr16jJHz9+9PDwyMjIANpcS0uLkZERPT09IyOjr68vkAi7u7t3794NarCysbHFx8ejp4OdyspKGxsb0ICKioqTkxOLxYqLiy9atIiHh0dQUDAgIABEHZKdOFtfgnq+eXl5kZGR/v7+Dg4O2traWCwW1QFpaGhMTExQfQrl8ObNG+DAZWho2NXVhR4fdae5uRk4pnFwcKSmpo7aZhoebGlpQf3pwDVJGolPJBIzMjK4uLgQBHFycqKMan/y5ImMjAw4UURExNfX982bN69fv/bz8xMTEwMy6NmzZ8HEnz17hnq0TURLJRKJ4eHh4M7Ay8sbExPzEwC7urocHBxQWQ1BEEFBwbEKNONwuLCwMHRG6Lx27tzp6em5c+dOeXl58MlCEERLSys3NxeYNDQ0tGvXLtCeh4cnNDS0sbERVOFsaWnJyMjYtGkTKysrgiDy8vLAjZSKikpAQICy2szFixdHFVh/Yu7wFEgAEoAEIAFIABKABCABSAASgASIRCIU/uBlMBUE6uvrjYyMmJmZ6ejo2NjYsFistrb2wYMHHz58WFVVVV9fHxcXp6ysDJ6cVVX/P/beOyzK4/v/HpbdpQuiIE1QEUUMqChgkNiwoYjYC1iIBXuLGhQjltiNiCWxE2NHsYsoYouIvYLSQUCQtrQFFtjyXI/n953PnV1YQYqIZ/9IZueecuY1c3Nd+/acOdbR0dH1YRZjjsTExE6dOoEBUv/V0NCwsbH55ZdfAgMDo6KisrKy+Hx+cXExn89PTk5+9OgRVYXWrVtHCBk5ciRE1Pr5+dHbviZPnlxWVlZSUrJkyRIqQygoKKxatYq64B0/flxRUbF79+6QO/X8+fNULe3Xr19ubq5YLN65cyczpnLixIlMz6n4+HgXFxfwt+rQocPmzZvDwsLi4+PT0tKioqIgN6uKisrff//NWPr3VRQKhTweD2K3J0+eTP0ie/ToIRXP++zZM0hq0adPn8/6Xp05cwaUnZ49e35B6PfX2oN79+6BuKmsrAySVocOHejbJxKJwI2Ry+XKJv1ISEhwcHCAl8XGxub27dtMv9fly5fDOZwzZw7EDt+9e5f6vlUlS/Ldu3fB41JJSWnDhg2ysmMVoWVkZCxbtoz+00LHjh3j4uIq7Juenk6vO6R/i27evAn2C4XCxMREPz+/Ll26wFN7e/uoqCiJRJKcnGxtbQ1C56+//iobj8zn88+fPz9nzpxZs2ZBcnPmHxkFBYVWrVp5eXnBaBXahpVIAAkgASSABJAAEkACSAAJIIEvI4DC35dxw17VJpCamnr16tUjR46EhIRER0fzeDymTCCRSG7dugW/8yHDgNTTas9XzQ4vX740MDBg/hrncrldunRZsmTJtWvXqpKOQCwWr127lhBiY2Pz8ePHyMhIS0tLOiDkJdi3b5+Uj4+TkxNNdXLs2DElJSUdHZ0XL15kZGT069ePdnd0dOTxeFevXjU2NqaVhJBOnTolJibCWrOzs8ePHw9Pe/Xq9fTpUyaDiIgIyKpMCOnbt296ejrz6fdZLi0tffDgwciRI0HzGjhwYFJSEkURFRUFiUEsLS0TEhJovWwhPz8fvDhZLNa6devq+ejK2lPFGrFYvGHDBhaLpaqqumLFiu7duxNC1NTUzpw5AyMkJyeDENa6dWspVbS8vHzlypUsFosQYmRkdPLkSRrMXlpaeuvWra5duxJCFBQU1q1bB6O9efOGugFu2LAB9O7c3Ny7d++ePXtWSlpNSEjo06cPjODh4cHj8aq4qAqb5ebmOjs7w6vRoUMHqShd2iUrKwsmJYSwWCwXF5fXr1/Tp7QQFRXl6uoKa1+6dKlIJAoPD4d7Ejt27ChHvBOLxfn5+W5ubsxXmMViwfV/zKsV6VxYQAJIAAkgASSABJAAEkACSAAJ1JAACn81BIjda5PAH3/8AS5yw4cPpzpCbU5Q+VgPHz6EkEZjY2ObT5+//vorNTW16iKOWCwGjz8TE5MbN278/PPP9KYzQoibm9vZs2dBtuNwOF27doXpfvjhh/j4eLALhD91dfXTp0+vXLmSy+VSgaBfv37Xrl0Dn0QFBQVLS0tIV9qsWbP79+9D9927dysrKxNCLC0tmRHEdHBIPUEIUVFROXDgQOUwvq8nGRkZc+bM4XA4CgoKS5YsKSkpgfXTdLfa2tpSCVilAAUGBoIvW+vWrWmgt1SbBvg1Ozu7f//+hJCuXbvGx8f/+uuvcN7mzp0L7nX79++HM+Pm5iZ1m+SzZ8/orZ1cLtfIyGjw4MFLlixZvny5u7u7np4eDGVoaPjvv//C2mNiYiwsLAghOjo6cGjT0tLGjh2rpaWlqqq6Zs0aet9lfn7+tGnT4PXp37+/fNW1imC3bdsGnrZyhD+BQDBhwgSw/KeffqrMMVAikURFRYHfX5cuXVJTU4OCgsCjEAR6OSaVl5fDXaL01SaEzJkzh65dTl98hASQABJAAkgACSABJIAEkAAS+AICKPx9ATTsUlcEXr58CV5pVbwCrBbtCA4OhlBNb2/vrKwsKf+jqkwEwp+CggKXy+3UqRMoJiAnQRbRtm3bEkLYbPb06dPBaQhEEHpT2LFjx5SVlVkslqWlJTgGstlsUCuMjIx++OEHEAucnZ1fv369aNEi8M+Ca/7oHYU6OjrUY4uanZmZ6eTkxNQaunfvzvRuoy2/z0J2dvbEiRMJIXp6epBrVSKR5OfnDxkyBJy/Vq1aVZlD1vv373v27Am+ab/88otsmGeDRXrz5k3wU/P09BQKhRcvXoRXwMrKKiEh4f379+ADqKqqeuLECeYqhELh8uXL4TiZmppSmY95wAghSkpKq1evpkBiYmIgDUiXLl3ev38vkUguXLhAr9G0srIC31WBQLBhwwZ4faysrGQlbKYlVS+fPXsWYuSZTrJS3QUCAaTcZbPZ8jO05OfnDxo0CHIBvXz5MiAgAAweNGgQdeCVGhy+isXi1atXg6aprq4O/87RqlWrhw8fVtgeK5EAEkACSAAJIAEkgASQABJAAjUkgMJfDQFi99okkJSUBE5t9vb29RyLevjwYe6nz6FDh75sSSD8QQAgKCC6urpTp05lJhVlsViTJ0+GO+AWL15MCNHS0qJKEwh/VD1RVVWdMmVK69ataQ0hpH///nAF2969ezkcjrKy8vHjxyUSCU1BO2zYMLhhkK6irKxs48aN4AzIZrPBQjabvXHjxqr7M9LRGmvh8ePHIDovW7YMND6xWPz7778DLjMzM6nQaeCQn58/d+5cEGetrKwiIiK+FT4ikcjLy4sQoqysDOl0kpKS4KI6DoezcOHCxYsXgyxla2ubnJzMXFdKSoqtrS0hpEWLFpcuXbp27Vq/fv2YV0+yWKxWrVpt2rSpoKCAdqRZffv27cvj8dLT04cNG0bPdtOmTe/duycSiXbs2AE5QFq0aHHhwgXavYaFS5cugVNejx49KruEUSAQQBwul8uV/3cgLCwMvHfNzMxiY2P9/f0hV8ywYcPkuyqLxWLwrORyuStXrqRy/JQpU+hVoTVcKXZHAkgACSABJIAEkAASQAJIAAkwCaDwx6SB5TokUFRU9NlkshcvXoSQSWdnZ6ZkUIdm/d/QmzdvZrFYSkpK+/bty87OTk1NTUpKiouLi46OvnPnzokTJ/bv379p06ZVq1Yt//Tx8fHZtWtXUFBQUlISyGdSwp+iouKyZcuCg4NpQgNCSL9+/eiVfDt37mSz2SoqKjRdqZTwN378+IcPH3bs2JGKI5aWlk+ePAGTwVtKQUFhw4YNEonk+fPnLVq0IIT06dMnMzPz/5YlKSgo2LFjBzh2KSsr//LLL8OHDweHI1NT028o/yxdUR0VsrOzId0qU7t59uwZXEsHwdo5OTnM2TMzMxcvXgyKqqam5reVMiU/Px+uvTM3N3/37p1EIikrK5s3bx4cNjabTSPNvb29af4ZWP7du3ch7QwNyc/Kyjp79uzixYunTp26YMGCPXv2vH79WspH8sWLF3CNZv/+/VNTU5cuXUoz5IIn7OTJk5ctWwYjKysrb968+YsTejC3CcrHjx8HpzwXF5fK/raUlZV5enqCj+fKlSulVk3HfPPmzeDBg2kqj7Kyst27d8NahgwZUtng0D0pKQmOmaqqakBAwOnTp8G3V0VFxcfHR0qypzNiAQkgASSABJAAEkACSAAJIAEk8MUEUPj7YnTYsRoEsrKyPD09+/TpExwcXNltVg8ePOjWrRvoDitWrKjsV3c1Zq1yU5FIBJGzLBarbdu2nTt3btmypaGhob6+vp6enpaWFs15SjU4KKiqqtrb28fGxkokEinhz8HBITk5+e7du+C+RAhp164dve9MIpFcvnwZWCE3JwAAIABJREFUIiuXL18Oi2UKf+3atXv69GlcXBxER0JQcEBAAF3T8+fP4Zq/cePGCQSCDx8+QGCmioqKl5fX27dv3717FxAQMHr0aIim5HA4c+fOzcvLi4mJoWlDzMzMTp06VdmO0Lm+xcLbt29v376dlpZWRa/G4ODgli1bEkJcXFyo01ZJScnPP/8Me62kpLRgwYKUlBShUFhQUBASEjJ06FDwieNyud7e3sz0yg2f2Lt37yD2fOzYsdTy69evQ5Jfes4NDAzCwsKklnPmzBnw7/Pw8JDS5uScpdjYWDjM5ubmHh4eTE9YOh0UFBUVZ86cKT9mVsok+V/FYvGaNWtA74Z0HJW1P3nyJLwvxsbGx44dYypxfD4/Kipq+/btNOjexcUFEnBT4U++q3JpaenixYvBP1RTUzMkJKSkpGTBggUgGqqoqEyaNOnw4cPr1q2jF3dWZifWIwEkgASQABJAAkgACSABJIAEqkgAhb8qgsJmNSIQGhoKv/P19PRWr17NdEmTSCQikSgoKIjmwAXNq0bzVbNzaWkpXPEmJUBU9pXD4TRp0kRHR0dXV7dXr15U+Fu7di1Ehuro6ECU4r1798DjT9YjLC4uDhQE6oJEhT8VFZVdu3ZJJJK4uDjIh8DlctesWcMUWXg8HtwyZmNjk5qaKpFItmzZAjoUh8Np0aKFnp4ejb5UVlZeuHAhvbjwyZMnVlZWsDpdXd1t27ZJ+bJVk1+Da56Xlzdy5EgNDY0uXbosW7bs9u3bGRkZTHpMi/Py8vz9/c3NzeGePh8fH6bofPv2bRAEwSvN1tZ22rRpgwcPpo6cysrKixcvrmHaWaY99VMOCQmBV3LmzJnUNY/P50+ZMoV57MeOHSvrwkbvy7OxsYHb+qpic1ZWFji70fEVFRUHDx48cOBAWgPedm5ubmlpaVUZs4pt+Hw+pF0GPzs5vdLT0x0dHcEeTU3NIUOGLFu2zNvbe9GiRS4uLiYmJiDbsdnsUaNGQdC9RCLZtWsXiHd6enqyOimdLi8vjy7W0tISsvqkpaWNGTMGRElCCLzCzs7On/WPpsNiAQkgASSABJAAEkACSAAJIAEkIIcACn9y4OCjWiPw+vVrEFYIIVwud8CAAb6+vleuXAkPDw8ODl6yZImhoSH82NbR0Tl06BBTeak1IyofqKysTDbVJtjDZrO1tbWNjY0dHBwmTZq0aNGitWvXHj58+MaNGy9fvoyNjc3IyKA+ZX/88Qf8gJ83bx4kh01JSenXr1/Tpk1/++036lcFhpSVlYGboZWVFeTZCAwMhGjEYcOGgUiXn58/efJkTU3NadOmUdmOrsPPzw/Me/DggUQi+fDhAwRvMmUUQkirVq18fX2l5Jtr166BwxckYRg1atSHDx/oyN964cOHDzY2NpRD06ZNu3bt+vPPP8PeXbp06erVq5cvX/b391+9evXQoUNpiomuXbtC3CslUF5evn///sryV7Rs2XLbtm1SbGnfBlsoLy9funQp8Fm2bBnzdXv48GH79u3hkYmJSWhoqOwqnj17BmIol8vduHEj1Q1lWzJrRCIRTQkCAp+7u/uHDx9evnwJN3uCtDpu3Liqi4nM8eWUP378aG9vTwgxMjL6bNrl0NDQzp07UyWOniIocDgcCwuLTZs2Mf/1Yv/+/SDYNWnS5Pr165VZUlxcPHbsWBhnxYoV1DsyKSnJ3d2dGfhsY2NTu9JnZSZhPRJAAkgACSABJIAEkAASQAKNngAKf41+ixvEAoVC4aFDhyA0FX73slgsdXV1bW1tZsRfq1atDh48SNOA1qfpZ8+eNTY2btu2ra6urpKSUvPmzS0sLKZNm7Z///4HDx4kJSXxeLzPGhYeHt65c+cePXrQJA9isTg+Pj4sLIwZM0jX9fbtW0dHxwEDBkDAYFxcXO/evS0tLW/dukXbfPjw4d9//5VV/SQSSXp6uru7e5cuXZ4/fw7tY2NjFy5c2K5dOx0dHT09vY4dO86dOzc8PJyp7EBLsVh8/fr1nj17qqioqKmpTZgwISsri076rRcKCwsrc+HkcDjq6uoaGho0pypVdtq1a3ft2jXZtZeXlwcGBlJxCtrr6elNnDgxLCysirKX7LBfsYbP50NiDTab7efnx7RELBZfuHChR48eVlZWR48erXB1xcXFM2bMAA6GhoYnT56ssBkMKxKJ8vLy0tPT+Xz+8+fP4c5KJSWln3/+mWrNd+/eHTly5LBhw/bs2ZORkcG0p1bKaWlpdnZ2hBAHB4fKMnswJ4qOjvbz83N3d7eysjIwMNDX1zcwMOjcufP06dP//vvvhIQEqvVDr4iICJqVCN5l5mjM8qlTp9q0aTNgwICYmBhmfVZW1po1a+hfyBEjRmCuDyYfLCMBJIAEkAASQAJIAAkgASTwxQRQ+PtidNixegTKy8vv37/v4eFhZGQE4XJUcGGxWIaGhpMnTw4LC5OVqKo3zZe2FggEL168iI6ODgkJOXbs2PPnz9PS0qhLThVHFQqFHz58+Pjxo5QuIKd7dnZ2eno6rFosFmdkZKSmpsqRUaSGys/PT01NZQaxlpWVpaSkvHr1Kjo6+rNLSE9PDwwMvHz5cmNS/QBRXFzcli1b5syZ89NPPxkYGGhpaUHeVXrqaEFZWdnIyGjMmDF3796Vs3HR0dGbN2/29PScP3/+9u3bnzx5IuXCKbU1DflrWVnZzJkzCSGampoVeqjl5ORkZGTIeRmphEcIgfj9hIQE5rkVCATv378/f/78ggUL+vTpY2Zm9ttvv5WVld2/f3/t2rVHjhyRCo7mf/rUETQ+nz9hwgRCyJw5c5gvi/zpBAJBRkZGQkJCXFxcYmJiZmZmZX8QxGLxzZs3p0yZcv78eTlHCDKoJCQkVChuCoXCsLCw+fPnL168uMIU0vKtxadIAAkgASSABJAAEkACSAAJIIEKCaDwVyEWrKwrAgKB4M2bN3v37p0/f/6oUaNGjBgxY8aMnTt3vnr1CmJj62piHPe7JCASiXg8Xmxs7J07d44fP/7HH39AXuYFCxZ4enouXrx47dq1J0+ejIyMLCoqqgohoVAoX9mpyiANoc39+/fd3d23bt36ZXHKYrE4MDCwdevWoJ8qKipaWFjMmDFj1apVq1evXrlypZubW/v27ektk4SQyZMnf9Zntu7IhISEODk5MbPr1PpcpaWlNT8bQqFQjt5a6zbjgEgACSABJIAEkAASQAJIAAk0egIo/DX6LW6gCxSLxcXFxUVFRUwvoQZqK5rVGAngwRMIBDURqsRicUhISL9+/bhcLnWfrLCgoaHRq1ev27dvf8VzJBQK8/LyUFP7iluAUyMBJIAEkAASQAJIAAkgASTwVQig8PdVsOOkSAAJIIHGQCAjI2Pv3r19+/bV0dFRVlaGrB1cLldLS6tdu3bjx4/ftGlTcHAwMxVGY1g2rgEJIAEkgASQABJAAkgACSABJPCNEEDh7xvZKDQTCSABJNBQCeTm5j579uzEiRM7duz4888///nnn7t376akpAgEgoZqMtqFBJAAEkACSAAJIAEkgASQABL4Lgig8PddbDMuEgkgASSABJAAEkACSAAJIAEkgASQABJAAkjgeyOAwt/3tuO4XiSABJAAEkACSAAJIAEkgASQABJAAkgACSCB74IACn/fxTbjIpEAEkACSAAJIAEkgASQABJAAkgACSABJIAEvjcCKPx9bzuO60UCSAAJIAEkgASQABJAAkgACSABJIAEkAAS+C4IoPD3XWwzLhIJIAEkgASQABJAAkgACSABJIAEkAASQAJI4HsjgMLf97bjuF4kgASQABJAAkgACSABJIAEkAASQAJIAAkgge+CAAp/38U24yKRABJAAkgACSABJIAEkAASQAJIAAkgASSABL43Aij8fW87jutFApUSePTo0YYNG16/fl1pC3yABJAAEkACSAAJIAEkgASQABJAAkgACXw7BFD4+3b2Ci1FAnVJQCQSzZs3jxAyduzYwsLCupwKx0YCSAAJIAEkgASQABJAAkgACSABJIAE6oMACn/1QRnnQAINn4BQKJw5cyYhxN7e/uPHjw3fYLQQCSABJIAEkAASQAJIAAkgASSABJAAEpBPAIU/+XzwKRL4XghQ4a9r164pKSnfy7JxnUgACSABJIAEkAASQAJIAAkgASSABBovART+Gu/e4sqQQHUICIXCWbNmEUIsLCxiY2Or0xXbIgEkgASQABJAAkgACSABJIAEkAASQAINkQAKfw1xV9Cmb4KAWCwuLS39JkytipHl5eUzZswghHTo0CEmJqYqXbBNIyYgEonKysoa8QJxaUgACSABJIAEkAASQAJIAAkgge+BAAp/38Mu4xprn4BYLL58+bKHh8eNGzfEYnHtT1DvI5aWlk6cOBGFv3oH3xAnLCsrO3jw4PTp058+fdoQ7UObkAASQAJIAAkgASSABJAAEkACSKBqBFD4qxonbFVnBMRicV5eXvanT25ubnl5eZ1NVZsDZ2Rk9OnTB1Jh1PqNeGKx+M6dO8uWLQsJCak3VVEgELi7u3+Hob65ubmZmZkikUjqfAiFwtjY2Ojo6Ly8vApdO4uLiyMiIm7cuBEfH19v2yRlZB19ffv2rZmZGaR4LigoqKNZvpNhS0tLhULhd7JYXCYSQAJIAAkgASSABJAAEkACDY0ACn8NbUe+I3vy8/ODg4OXLFni6Oho9+nTu3dvT0/Pa9euNfwYw0ePHrVo0YIQoq2tHRYWVrvbVlxcPGbMmDpSFSsztaioaOTIkYSQbt26paamVtbs26oXi8UfP35MTk6u7EQ9f/58wIABXbt2vX79OnNpZWVle/fubdeunZGRUd++fSdPnrxo0aIVK1b4+PisXr165cqVS5YsGTNmTKtWrTQ0NKysrK5cucLs/q2Xz507p6qqSgixtLRMSEj4JpYTHx+/bdu2nTt3ZmRkyDc4Ojraz8/v3LlzhYWF8lvW/GlqaurcuXM3bdqE+mnNYeIISAAJIAEkgASQABJAAkgACXwBART+vgAadqkpgaKiosDAwCFDhmhqahKZj46Ozq5duypTamo6dy31v3nzJhjfvn37qKioWhr1/w3D5/NdXFwIIVpaWrdv367dwSsbjc/nDxs2jBBiZ2eXlpZWWbNvqL68vPzo0aOdO3fu2LHj3bt3ZS0XCoULFy6EA/jzzz8zj1xCQoKVlZXM2ay0YsaMGd+Ks6osB9mav//+W0lJiRDSt2/frKws2QYNsGb37t0sFktRUXHHjh1yHDB5PN7o0aMJIRoaGr6+vnXti/f06VOtT5/g4OAGCA1NQgJIAAkgASSABJAAEkACSKDRE0Dhr9FvcYNbYFxcnKenp4aGBhVRVFRUmjdvrq2traioCJWmpqYRERFf0XShUBgXF/f+/fvKbAgICACXqHHjxhUVFVXW7MvqqQanrq5++fLlLxukur0KCgqcnZ0JIX369MnOzobu2dnZBw8e3LJlyzeX57e8vPzgwYO6urqEkBYtWty6dUsWSGFhIQishJA5c+Ywhb9Hjx7p6OjAaVRQUKBntcKCoqLixo0b5YhNslN/3ZrS0tJ37959/PixMjM2b97MYrEIIV5eXrJB0JX1+rr1R48eVVZWJoQMGDCAx+NVZsyhQ4fU1NRgH0ePHl1cXFxZy1qpf/r0abNmzRQUFLZs2VIrA+IgSAAJIAEkgASQABJAAkgACSCBahFA4a9auLBxTQmEh4f/9NNPVE9p06bN9OnTAwICHj9+HB4evmTJEvAz0tTUvHPnTk0nq0H/W7dudezY0draujI/nd27d7PZbA6Hs2fPnhrMU3FXKvypqqqeO3eONhIIBCUlJeXl5XWhMeXk5PTr148QMmjQoLy8PIlEIhKJ1q1bx+FwCCEjRoz48OEDtaSBF5iqn4aGxvbt2yu8pC8+Pt7S0pIQYmBgIOVZee3aNdCm9fT0Vq1atW7durlz57q6unbu3NnIyEhPT6958+Y6OjqGhoY9evTYsmXLNwRHIpEcPXrUxMTE0dHx2bNnslspFApnz54NPnHfUAjzo0eP9PX1CSEmJiavXr2SXZdEInn58iXsOCFEV1f32LFjdfEqMad+/fp1y5YtCSHTpk1jKsvMNlhGAkgACSABJIAEkAASQAJIAAnUHQEU/uqOLY4sTSA8PLxLly6g+hkaGq5YseLt27fMAMk///yTCn+hoaHS/evru1gs9vLyAjtdXV1lL+cSiUTQoGnTpnUhUJaUlEDUraKi4sSJE8+cOePr67t48eIJEyaMGzdu+vTpCxcuvHfvXu3yyMnJcXR0JIS4urry+XyJRCIQCNzc3IADm82eP3++LIrataG2Rjt37pyenh4hRElJaeXKlZV5dV2+fLlJkyaEkAkTJsCSqQF//PEH+J9OnjxZIBBIJBKxWMzn8zMzM5OSkt6+ffvkyZPnz58nJCTIcS6jozWoQnFx8dixY2FbFyxYwHwBwc7i4mIIhjU3N4+Ojm5Qxssx5sOHD3Z2dqBXBgUFybZMS0sbMWIELFxXV/fAgQOya5ftVcOa1NRUW1tbQoizs/O38vrUcMnYHQkgASSABJAAEkACSAAJIIEGRQCFvwa1HY3ZmLi4uJ49e8Kv7q5du964cYN5u5ZYLD579mzr1q2hAZfLrQtPuiryFYvFq1atggBPCwuLuLg4qY6FhYUgzHXo0CEmJkbq6Rd8FYlEBQUFmZmZCQkJYWFhe/bsad++PaBgsVgqKipQZv7X3d29pKTkC+aqrAsV/iZMmABSl0QiuXHjRrdu3UACU1JS2rlzZ117SFVmXtXrIyIirK2tCSFsNnvevHn5+fkV9hUKhcuWLSOEqKqqnjhxgtmmqKgIpDEul3vgwAHmo0ZQLikpGT9+PJyl/v37ywqXqampNjY2hBBHR8ecnJxvZck8Hq9///6EEC6Xe/DgQSmzs7KyPD092Ww2+Prt27evHlQ/iURCXyt7e/v09HQpq/ArEkACSAAJIAEkgASQABJAAkigrgmg8FfXhHH8/59AQUHB9OnT4dYwS0vLhw8fMrmUl5cfP37c2NiYKWzNnj2bqQwy29d1WSgULlq0CIzR1tb+999/pWaMi4v74YcfpK7Dk2pT9a+5ubmbNm0aMGBA586dDQ0NtbW1IbqWSQPKqqqq+vr61tbWI0eOvHTpUu1evpadnd23b19CiIeHBzMmMSkpydfXt2fPnnp6eosXL2Y+qvoa660ln8+fPn064HJ1dZWTpSQtLc3e3p4QYmFhIaXexsfHw/7q6urWesrmekNR2UR8Pp86vv3www/x8fFSLf/9999mzZoRQtzd3akELNWmAX4tKSmZMGECbP2SJUuYb0dSUtKkSZPgtdLR0ak31Y8p/FWIugFiRJOQABJAAkgACSABJIAEkAASaGQEUPhrZBvaQJcTEhICUoKysrKUCxXIXpCEgSl1zZw582sJf9ShjxCipqYWGBgohfX69euQ0nfevHk1F8IOHDhQoU8f0FBTU+vcufP48eNXrVoVGBj47t27zMzMWk8nIpFI0tPTf/zxR0hzIUuex+O9f/+ex+PJ9/jj8/nZ2dk8Hq/mWKSYV/Hr9evXISlHq1atZBVb5iBBQUGwiW5ublK+k1euXIEQ4B9//FGOdMgc7RsqU4c+Qkjz5s2lVHiJRHLgwAEul6uoqOjr6yt/XQKBIOfTp7Jgavnd5TxNSEgICgqSEmTltIdHW7duBe9UR0dHmqDm1atXTk5O4MCro6Pz119/1eLhLCsre/HixcGDB9esWbN69Wo/P7+QkBBm1hTq8VeZd3BxcfHr169v3rwpJ5XQZxeODZAAEkACSAAJIAEkgASQABJAApURQOGvMjJYX5sE/vzzTwiyMzQ0fP36NQydn59/586dcePGwb1+HA5n8ODBo0aN4nK5hJCvKPzFxsZaWFiA7lZhsCdcAKesrCwVIiqLTL5MBu3Xr1/PVDxVVFS0tbUBAovFWrp06cePH+vB8So5ORkiZH18fKpiNnOxIpHo9evXv//++7Bhw7p37+7g4PDzzz+fOXOmni81EwqFixcvBpjz5s2TlS+pzSKRaMmSJXAJ4KFDh2g93OVHA72nT59OA0KFQmFeXl56enpGRkY9bAfTpNot37t3D1R4uA5PKn1NWVnZrFmzCCE6Ojpy7pFMTk7+888/J0yY0KNHj+7du48ZM+bPP/+sMMMJj8fLysqq1ol6+PChg4ODioqKVKrlz3K4ffs2LE1NTc3X1/f9+/eBgYFwqiHCV77ql5ubGx4efvTo0f379x85cuTOnTspKSn0AMjOXlxcvHXrVkNDQ/jjRghRUFBo0qSJra3t33//XVhYyPT4kxX+MjIyzp8/P3bsWENDQ3V1dScnpwoBys6LNUgACSABJIAEkAASQAJIAAkggaoTQOGv6qyw5ZcT8Pf3ByVLTU1t6tSpa9asWbJkyYABA7S1tUGmMTU1/f3333k8XmBgoKqq6tcV/i5dugQZXQkhLBZr/fr1zJUXFxfDFWlt2rR58+YN8xEtp6WlnThxwtvbe/78+UuWLPntt9/++uuvqKgo2oBZePHihb29fdOmTW1sbJYuXXrmzJn79+/DHXNsNru6dx3yeLwLFy74+PgsWLBg0aJF3t7eO3bsePbsGTPykTk7LcfExHTo0EFBQWHr1q20siqFvLy8bdu2mZqaMuVLcJb09PRkej9VZbSatGFmI7Gzs7tz546sJ1ppaWlBQcGTJ086d+5MCGnZsqVUZtuMjIzevXvD1v/666/x8fG3bt3y9fWdMWOGo6Ojubl5p06d3NzcLl68WGGm4JrYXz99d+/eTWPJVVRUpMTrjIwMuIuzR48eFe5dWVnZ2bNn7ezsqNoF+66oqNi/f/8XL17QVRQXFx84cMDBweHHH3+UoyHS9lB49eoV3DBICPHy8vrsuWV2z87OHjhwINijpqZmYGCgrq4OXy0sLAICAirz9SsqKjpz5ky/fv2aNWumpKTEZrO5XK6Wlpa5ufmsWbPu3Lkju9dlZWXbt28Hz1Cpkw+H38PDIyoqisfjQc6cDh06wG2hJSUlz58/X7duna2trZqaGu2rr69fF5mCmHywjASQABJAAkgACSABJIAEkMB3SACFv+9w07/CkiMjIzt27Eh/4jILhoaGS5YsiYiIgF/4hw4dAgfAr3XHX3l5Ob3gD+ycM2cO03csISGhU6dOhJAhQ4bIJo4Qi8WhoaE9e/aEVTBX6ujomJiYWCH92NjYsLCwjIwM+nTHjh2KiopsNnv37t208rOF58+fDx8+nIoddPaOHTs+fvxYfveXL18aGBgoKipWS2rMzMycPXs2XayamlqLFi1AuiWEKCoq+vj4yPGZkm9SdZ+Wl5fPnTuXrtrQ0HDkyJELFixYvny5t7f38uXLFy1aNGnSpH79+pmYmMCNk8rKyr6+vkx16caNG02bNoVBNDU1DQwMNDU1IVCUjgxBsvv372cejOpa+1XaFxQUDB8+nC6EzWbv2rWLacmDBw8gIfKsWbNkZTKBQLB9+/bmzZvDCFwut0WLFhAxDTUjRoyg+UAeP34MQxFCpk2bJjsac14o5+TkjBs3Doays7N7+/atbBv5Nf7+/rKB8z169AgPD6+wo0gkevLkyaRJk6jWT+HQgq6u7qJFi5KSkpgjhISEGBgYQJsmTZpYW1sPHTrUxcXF2tqaqoHdunU7efJknz59CCFmZma3b98ODAycMGEC7QhOl46Ojj4+PlevXgUnQeYsWEYCSAAJIAEkgASQABJAAkgACdSQAAp/NQSI3atEQCwWBwQEtG3blv6WJoRoa2tPmDDh/v37TGEIbulisVibNm2q0tC13Sg5OZk6HIG1o0aNYt6pd+7cOVDWVq5cyRSMJBIJZCmhuYlVVVVbtGhhZGRkaWlpZWWloqIyaNCgKro+HTx4EO5Z8/Pzq+ISb968CV5sEMGqq6trYGBgbm5ubW3N5XJtbW3PnTsnR6h6+PAhhBj//fffzBlLS0uDgoJOnTrFhAANCgoK5s+fD55fHA5nyJAh586de/v27ZkzZ1xcXMDHs2vXrsnJycwB67QcFBTUsmVL5jH7bLlLly7MBBcBAQHKysqyvcD/y9TUlOpKJiYmoaGhdbqcWh/86dOnUll0li5dyjzGvr6+ioqKXC738OHDUrMLhcJ9+/ZpaWkBnK5du+7bty8iIuLmzZuzZs0C+a9p06a3bt2CjlevXqUatJOTk6xKLjW+SCTy9fUF+MbGxlevXpVqUJWvWVlZ48ePZwq1ZmZmjx49qrBvSUnJzp076QsL6zI1NZ01a5a3t7eHh0e7du1AIFZQUOjfvz/18OXz+W5ubtDeyMjo+PHjmZmZhYWFfD4/IyMjKCho+PDhIH9bWlrCW8nlcg0NDZkufoqKivb29qdPn87Nza3QPKxEAkgACSABJIAEkAASQAJIAAnUnAAKfzVniCNUiYBIJHr+/PmmTZvmzp07Y8aMlStX3rp1S0pLEolE4G2nrKx89OjRKo1b241oYgcVFRVIFGBjY5OSkgLzlJWVgU+ZbNKP8vLyAwcOtGjRghCiqqo6fvz4s2fPRkZGJicnZ2Vl7dy5E4QwR0fHCiMopdZx/PhxUECkdBmpZvTr1atX27VrRwjhcDhOTk7//PPPq1evkpKSMjMzAwMDwZupY8eOkZGRtItU4c6dO5qamsrKyidPnmQ+ioyMbNu2rba29rVr15j1IpFo165doG6oq6svX76cplOQSCRv3rwBnVdXV1cqlpY5SK2Xy8vLr127NmTIEKpPyUp4UjUGBgZMCyMiImxtbVVUVJSUlLS0tIyNjQcMGLBq1arQ0NAPHz6kpKTs37/fxMQEBnF2ds7MzKz1VdTdgHv27IE4XxUVFVDHhg0bRq9izMvLc3Z2JoTo6+vLimWhoaGwcA6HM3bsWGboel5eHsTYKisrHz9+HOy/cuUKFf77ZzQhAAAgAElEQVSGDh36WeHv6tWrINqqqant2bOHKUdWC0hKSsrs2bOpemtnZ5eenl7hCPHx8UxPZAUFhR49eoSFhcGNhGVlZTExMZs2berQoQNs98CBAyEFx7t378zMzAghXC5348aNsqbm5+efOnVq1qxZnp6e3bp1kzpyLBbLwsJi8+bN9A9LheZhJRJAAkgACSABJIAEkAASQAJIoOYEUPirOUMcoXoExGJxZX5nAoFgwoQJIJydPXu2euPWRmuhUAg5H5o0aeLj42NpaUkI0dLSun79OgwfFRUFeT8sLS3hxi467fnz5/X19QkhTZo02bx5s1TU3rJly+DHv6qqqr+/P+1VWeHYsWOgXFQlyUl4eDhoE1wud+HChcyQYZqkFS6t++233yqDf+3aNXV1dVVV1YsXLzKtevbsWfPmzVksllSO19evX5ubm0NCAzc3t7i4OCp/pKWlrVixAjzjzM3NY2NjmQPWQzkvL+/mzZu///77r7/+6vXfz/Lly52dnen9dIqKilOmTGFqUiKRKC4u7ty5c8eOHbtz5058fDzzKRh//PhxyB2srq4eEBBQDyuqlSkKCwtHjRpFCDE2Nl63bh0cV+ZVlXfu3AHleuDAgTwejzlpTk6Oq6srnOEff/zxwYMH9Nq7goICf39/IyMjCFy9cuUKdAwLC4NLPLlcLo0fz87ODg0NPX/+fF5eHnN80FsJIWw2e/78+VKvD7NlVcrp6elwUyEhxMbGprKkGcnJyVSVY7PZEyZMqPCsvnjxAu7pU1RU3LBhg0QiuXHjBsTz2tnZyXFoFYvFaWlpffv2ZQp/HA5n3rx5FU5UlaVhGySABJAAEkACSAAJIAEkgASQQLUIoPBXLVzYuG4J5OfnDx48GLQzqrXV7ZT/HT01NbV79+6EkF69eiUnJ8+YMQN+sXt7e4s/fbZu3QoOU3PmzKHCh0Qief/+vb29PXgAeXt7l5SUMAfOzs7u168f/fHfu3fvypQI2osKf7NmzapMqoPGeXl5o0ePBgFuypQp9IY1eCoQCKZOnUqnbteu3atXr+gszMKlS5fUPn0uX77MrI+KigJfwiVLllBpr6ysDBRSGLlp06ZWVlbTpk1bvnz54sWLf/zxR5o+YubMmVI0mIN/lfLp06dBlLSzs9u/fz/4cFXLEoFAMG/ePFj7okWL5G9QtUau08YvXrxo1aoVIWTixImpqango6ekpAR5jQUCwZw5c+BmRtkEL8eOHaPue2pqamZmZuPGjfv108fZ2ZlekNejRw/qxfb06VO4DdDExAROXUJCgrOzc5NPHz8/P3qcsrKyxowZAzxHjhyZlpZWQw5isXjFihUwoBzhr7CwcOjQodBs8ODBqamplc377NkzeAt69eqVnZ196tQpOELDhg3j8/mV9ZJIJPn5+U5OTjAF/JfNZm/btk1OF3yEBJAAEkACSAAJIAEkgASQABKoRQIo/NUiTByqpgQyMzPBT6dZs2YPHjyo6XDV73/u3DmQMLy8vCQSyT///ANud/b29h8/fnz79i34AGpqakpdQHby5EkQAkaNGiUb+3n8+HGqjMAFfDt37pRv3fHjx2FAT09PKV0pKysrJCSE5gn5999/wfuse/fuMTExUsPevXsXXLFAdFBQUFi8eDFTsqTtQfhTV1eXWlpqaipcejhs2DDqh/X69WuI5NXQ0LCwsICYaKa6AeUuXbow07zSub5uwc/Pj81mczicv/7664stCQoKgj0dPXq0bO7gLx62TjvS+/sOHDggkUh8fHwg2heWEBoaCj6ArVu3fvnyJdMSHo83ZMgQCCS3sLCgyVukdlxPT+/MmTO0IxX+evbsCS/FkSNHIOCdEPLTTz9BzDufz/fy8oL67t27y4lGpyNXpUDTBDk4OEj5wNLufD5/2LBh8EqC+kkfSRUyMjJ69OhBCIHkvPv37weDP7v71IuZxWJpaGjAm2Jra5uQkCA1BX5FAkgACSABJIAEkAASQAJIAAnUBQEU/uqCKo75hQRSU1Mh8q5169a19fu/6qaUlZXNnDkTwhUh3DUyMhLcfFRUVLy9vWfMmAE3/Ts6OjLVPbFY/NtvvxFC1NXVL126JDVjREQECGcKCgrUD65z587R0dFSLZlfL168CA5WkyZNYup0QqFwzZo1GhoaM2bMAL3pyJEjSkpKFeb/TUtLA10DJBuQaYyMjCpMMALCn4qKClO7kUgkOTk5EOdoYWFB4xN37doF0bITJ06MjIz09vam197BLGpqak5OTg8fPmQuqiGURSIRhF2rqalJBTVXy7zw8HCIYx05cqTUVZXVGqfeGufl5YF4Z2Rk9PTpU4lEcvPmTchfrKOjs23bNhcXF9g7Dw8PKSnz7t27IC7b2Ng8ffp03759VlZWTLWXw+F06dIlICCAmajn4cOHzZo1I4S4uLgUFRUlJiZCfluYxdDQ8OXLl6Wlpb///jsoia1atarFZCnUZ3bQoEFSYcWUOZ/Ph1WrqqrKv1sgODiYEkhNTd2+fTss393dXSAQ0AFlCyUlJeCQq6GhsXnz5q5du0I488qVK6uS5lh2QKxBAkgACSABJIAEkAASQAJIAAlUiwAKf9XChY3rlkBsbCzcoGdtbS3n5qw6MiIzM7NXr16EkG7dukH4Z3Fxsbu7O+gUnE8f+NG+fft2pg0ikQgyfigrK0ulxH3x4sWgQYNgBBsbm7Vr14JTFYvFmj17ttQ1aswx79+/D6KMlK6Um5vbv39/Qoi9vT34Me3Zs4fNZrNYrNWrVzNHSEhI8PDwAHnO1NR0/fr1cCUfIcTV1TUpKYnZWCKRgPDH4XAOHjzIfMTn84cPHw7x10FBQRKJRCAQTJo0iXmhW3l5+cuXL7ds2eLp6TljxgwfH59Lly5JBR0zx/yKZaFQCPJukyZNKgsnz8/Pp/kuKjN19+7d4PM1Z84cptpVWfuvXv/u3TtQsYcNGwa3FmZkZMCBB5c3OCoaGhqBgYFS1kJKEBaLtX79eniUmJi4b9++OXPmTJs2bdmyZUePHpU9Uffu3YMzPHz48LS0NKqbw+vA5XI9PT3nzZsHl+U1adJk7969NPhXyoAv+Prnn3+Czi5HmysuLh43bhzI4n/88Udlszx58gQ8kblc7oYNG8rLy9etWwf/BjBu3Dj5kexPnz6F+ze1tbXv3bu3ZcsWsEpHR+fAgQOo/VXGHOuRABJAAkgACSABJIAEkAASqC0CKPzVFkkcpxYIJCUlderUCa7YY7rU1cLQVRjiyZMnBgYGhJCZM2fSH+QBAQHMKF1CSJs2bWSvyaMqg7W19bVr1+Lj4x88eLBu3TqaD9Tc3DwkJKS8vHz37t2amppwG6CHh4esXAKWvnnzBnzoevbsmZWVRc0PDw+HeldXVxCnrl69CgO2adPmxIkTcXFxz5498/Pzs7OzA21CX1//n3/+EQqF58+fh6ypLBbLyclJKpwThD8FBQVIX0BnLC0tnTx5MogjEBubl5cH15Zpa2uHhYXRlhKJRPjpw6xpaGWhUOjp6UkIUVNTO3funKx5cXFxI0aMcHV1ffToEWR3lWojFosvXrwIkc70gjypNg3wK/iQKioq0gvmxGLxli1baJ4T0ON69OghdcUe9ZHkcrn79+9nLk0kEskRPZ89e6anp0cI6dSp08SJEyF0HWaR+i+Xy122bFktOk4KhcIFCxZAQptNmzYxbZYq7927V0lJiRDSrl27CxcuMG0oKCh48+bN+vXrQTBVUFBwc3ODl5EKfwMHDszNzZUak36l928SQlq1ahUZGZmZmQn5VQgh2traixYtOnjw4Pr16yMiImgvLCABJIAEkAASQAJIAAkgASSABGqRAAp/tQgTh6opgczMzJ9++okQMmTIkM+6XNV0Mpn+gYGBEHK4Zs0aqvjweDzwd6NShaenp6yPT2xsrLW1NbTR1NTU19fX1taGC9QIIZaWljdu3IAJS0pKvL29wVlMQUFh4MCBjx8/llVPqPOjoaEhROaWlZW9ffsWQneVlZWpBJOdnU0TFKirq+vr6zdv3pyqOSYmJqD6SSQSkUi0d+9eUAkJIV27dr1+/ToNVKSJSidOnEgroRfExnK5XLgbjuYr4HA4fn5+MiAbdEVpaSm4KyooKKxatYpuNDX677//Bp8sU1PTP//8k15rCA0EAoG/vz+Na/7pp5++IDcInas+CxCdqqysfOzYMTpvQkKCra0tPduQtVaKiVgs9vLygjaTJ0+WigKmQ8kWkpOTIbKVvghcLtfV1ZXm24Ux2Wy2p6dn7fqH8ni8AQMGgJtqcHCwrG20JjEx0c7ODixp1qzZ8OHDf/31V29v74ULFzo5ORkaGoLxXC538uTJsNdisXjt2rWgqrdu3fr169d0NKlCYmKilZUVDO7k5AQevpGRkfBXDhLywKs6e/Zs+o8NUoPgVySABJAAEkACSAAJIAEkgASQQE0IoPBXE3rYt5YJlJaWQl7RMWPGyIprtTzZf4cTCATTp0+HlKbUJQqa3Lx509jYGH69t2/f/vHjx//t+v++/fPPP3DpG7SE/3K53GHDhj158oTZJScnx9PTk6nNHT16lNlAIpFkZmb27dsXpAEbG5tffvll8uTJ7dq1Axmib9++TLes0NDQNm3aMOcFXycHB4fr168zwydLSkpWr15Nfa90dHQ2btwIsiPN3vvDDz9I3T+4f/9+NputoqICQaDl5eULFy6E6aytrd+9eydlfEP+KhaLfXx8wPh58+bJSq4hISG6urrQQE1NbeTIkfv27QsODn748OGFCxemTZsG4auEEFNT02vXrjXkxVLbcnJyIORc9jK7I0eOUC3YwcGhwqQTR48ehTOjq6srlfSZTiFbKC0tnT17Nj2WHA5n1qxZ2dnZYWFh7du3h3olJaXp06dDlg/ZEb64JiEhARQ3c3NzqcMsO+bFixepZy61lha4XG6nTp127drFDMzfsmULCH/y0xBlZGQ4ODgQQphKvUQiefnyJTPNN1yDKD87sKzZWIMEkAASQAJIAAkgASSABJAAEqgKART+qkIJ29Qfgfv375uYmEybNq2e/V94PB6ksFBSUjpy5AhzwUKh8Pjx4926devatev58+el/KFoS4FAcOrUKUdHR319fV1dXSMjo4EDB+7du5cZqEsbZ2Zmenl56evrc7nc1q1by96qJhaLd+3aBUGIVIOAQseOHUNCQuhQ4JQXEhLi6upqaGioq6trYGDg4OCwadOmCuOICwsLt23bZmpqyuVydXR0fH19QRksKSkB1VVRUXHfvn3M8d+8edOxY0cjIyMqet69e9fQ0BB0yfHjx8v3eisuLs7MzMzIyJBV2Ziz1Fs5Ojra2dnZzs7u/v37spOWlJSsXbuWamFwq2OTJk2aNWumpqZG98LS0vLy5cuVHQbZYb9uDXUg1dLSkkqgUVxcvG3bto4dO/bu3btCIBKJJDk5GQQscBQNDw+Xs5yysrKcnJy0tLTS0tJ79+6ZmpoSQlRVVefPnw/vglgsDg4OdnFxGTly5MGDB5mCmpxhq/UoLi6uY8eOhBAnJ6fKMnvQAcVicURExNatW8eNG2dhYaH/6WNoaNitW7fZs2efOHFC9r7Rx48fQ/zvwIEDK3zBYXChULht2zZDQ8PJkydL3V2QmJg4b948+k8FCxYsaCBvB8WCBSSABJAAEkACSAAJIAEkgAQaBwEU/hrHPjaeVZSXl9+4cePRo0f1vCR6zb+ent6DBw+kZheLxVmfPp8VevLy8qKiot68eZOYmAgpFKSGol/LysoePXp07NixV69eVfibPz09HcIVQWzicDht27ZdsGDBixcv6CDMQmFhYWxs7KtXr+Lj4+WLKSKRKCIi4tixYw8ePGB6VsbExCxfvnzevHlSyo5QKLx//z7zBrTS0lJvb29wWlRUVOzXr19wcLBUdHZubu7Tp0+3b98+ZsyYLl262NnZyd6NyLS/Pst5eXlZWVmV7WZJScmVK1eGDx8OiVyp2AcioKmp6cKFC9+8eVOfBtdwroyMDAgv7dSpU3x8vNRoQqEwIyND/pk5deoUdXXs2LGjv78/5JahQ/H5/Hfv3h0+fNjDw+PHH380Nzc/c+aMWCy+efPm2rVrT58+LXU8CgsLqx41TGepYiE3NxdSGHt7ezM9XuV3LykpSU9Pj4+Pj4uLS0xMzMrKEgqFFXYRiUSXLl2aMmWKlAQv27i4uDguLq7CewBLSkqCgoJmzJixatUqmi9bdgSsQQJIAAkgASSABJAAEkACSAAJ1IQACn81oYd9GxWB69evjx8/fvfu3XWnR1SX15MnT9zd3e3s7MaNG3fo0KG4uLgKJcLqDiu/fRWFko8fP06ePFlRURF0saZNmw4ePNjLy2v16tU+Pj4LFy7s3bu3jo4OREQSQrS0tOCyQvmzN5ynhYWFjx8/3r59+8yZM0eMGDFy5Mi5c+ceOnQoOjq6HnahdjmIRKJ//vln/PjxAQEBlYlZ8mcsKSn5/fffaaIbFRUVe3v7RYsWrf70+fXXX11cXFq2bAmXV4IrKKSCkT9s3T09d+7c4MGDnz9/XndTlJaWVqYdV33Sb+4sVX1p2BIJIAEkgASQABJAAkgACSCBhkAAhb+GsAtoQ4MgIBaLBQJBzX/J1+5iSkpKsrOzmX55tTt+TUbLyMj47bffjIyMmD5xsmUOh2NkZOTt7V2h31NNDKifvkKhsOjTp4qSaP1YVd1ZRCIRM2dLdbtLJJLi4uKDBw/+8MMPslvMrGGxWM2aNXNzc/u6Xmzl5eV5eXkN7XX+AuzYBQkgASSABJAAEkACSAAJIAEkUBMCKPzVhB72RQLfO4Hy8vIHDx7Mnj3bzMxMQ0MDHADZbLaampqenl7Pnj0XL17s7+//+vXrer608XvfmDpbf3R09OrVq62trZs2bQrpjxUVFZWVlZs3b96lSxdPT889e/aEhYVJZUOuM3NwYCSABJAAEkACSAAJIAEkgASQABKQRwCFP3l08BkSQAJVIVBeXp6YmBgcHLx3715fX98DBw6cP38+IiJC/rVxVRkZ2zRAAmKx+OPHj/fu3fP399+xY8fevXtPnjz55MmTjIyML4sjboBrRJOQABJAAkgACSABJIAEkAASQAKNgwAKf41jH3EVSAAJIAEkgASQABJAAkgACSABJIAEkAASQAJI4D8EUPj7Dw78ggSQABJAAkgACSABJIAEkAASQAJIAAkgASSABBoHART+Gsc+4iqQABJAAkgACSABJIAEkAASQAJIAAkgASSABJDAfwig8PcfHPgFCSABJIAEkAASQAJIAAkgASSABJAAEkACSAAJNA4CKPw1jn3EVSABJIAEkAASQAJIAAkgASSABJAAEkACSAAJIIH/EEDh7z848AsSQAJIAAkgASSABJAAEkACSAAJIAEkgASQABJoHARQ+Gsc+4irQAJIAAkgASSABJAAEkACSAAJIAEkgASQABJAAv8hgMLff3DgFySABJAAEkACSAAJIAEkgASQABJAAkgACSABJNA4CKDw1zj2EVeBBJAAEkACSAAJIAEkgASQABJAAkgACSABJIAE/kMAhb//4MAvSAAJIAEkgASQABJAAkgACSABJIAEkAASQAJIoHEQQOGvcewjrgIJIAEkgASQABJAAkgACSABJIAEkAASQAJIAAn8hwAKf//BgV+QABJAAkgACSABJIAEkAASQAJIAAkgASSABJBA4yCAwl/j2EdcBRJAAkgACSABJIAEkAASQAJIAAkgASSABJAAEvgPART+/oMDvyABJIAEkAASQAJIAAkgASSABJAAEkACSAAJIIHGQQCFv8axj7gKJIAEkAASQAJIAAkgASSABJAAEkACSAAJIAEk8B8CKPz9Bwd+QQJIAAkgASRQLQJFRUUpKSmlpaXV6oWNkQASQAJIAAkgASSABJAAEkAC9UAAhb96gIxTIAEkgASQQKMl4Ovr26ZNm+3bt5eXlzfaReLCkAASQAJIAAkgASSABJAAEvg2CaDw923uG1qNBJAAEkACDYCAUCj09PQkhPTp0ycnJ6cBWIQmIAEkgASQABJAAkgACSABJIAE/kcAhb//scASEkACSAAJIIFqERAKhTNnziSE2NrapqWlVasvNkYCSAAJIAEkgASQABJAAkgACdQ1ART+6powjo8EkMD/CDx+/HjPnj1v374Vi8X/q8USEvhmCVDhz8rKKjEx8ZtdBxqOBJAAEkACSAAJIAEkgASQQOMkgMJf49xXXBUSaIAE8vPzXV1dCSE9e/ZMSkpqgBaiSUigugSo8NehQ4eYmJjqdsf2SAAJIAEkgASQABJAAkgACSCBOiWAwl+d4sXBGwOB7OzsGzduhIeHo5NaDbczNjbWwsKCEKKpqRkaGlrD0Rpg95SUlCNHjixfvnzz5s2RkZEN0MLKTCooKCgsLKzsKdbLIVBWVubh4UEIQeFPDiV8hASQABJAAkgACSABJIAEkMDXIoDC39cij/N+GwTS09PHjRunoaHRunXr5cuXBwYGxsbGFhYWCoXCb2MBDcnKe/fuaWtrN0rhTygUnjlzpmvXrlwul3z6dOvW7dmzZw0Jf8W2iMXiq1evDh48eOjQoQEBAQUFBRW3w9pKCAgEAnd3dxT+KsGD1UgACSABJIAEkAASQAJIAAl8ZQIo/H3lDfhupxcIBOnp6ZGRkbdu3bpy5cqtW7ciIyPT0tKKi4sbFJOgoCANDQ2QcgghKioqpqamQ4YM8fT03LFjx9OnT/Pz8xuUwQ3ZmBMnTqioqIDwFxIS8tVNFQgEWVlZqampKSkpaWlpX+zyVlhY6Ovrq6enR88JIURdXd3f3/+rr/GzBmRnZ/fr1w8s19DQcHFx8fPzu3fvXmpqqkAg+Gx3bFBSUjJ+/HhCSKdOnfCOPzwPSAAJIAEkgASQABJAAkgACTQ0Aij8NbQd+S7sefXq1fTp083NzVu0aKGlpaWurq6lpdWiRQtzc/PRo0evW7fu9u3bPB6vIbA4c+aMqqoqU9ChZRaLpaOj079//61bt75586a0tLQhGNyQbdi0aROLxSKEqKqqnj179iuampKScvjwYTc3t27duhkbGxsaGpqZmTk7O+/bty8zM7NahiUmJs6YMQMETUKImppa3759V6xYcebMmezs7GoN9VUap6en29ra0lNNCGGxWFpaWubm5m5ubn5+fo8fP87Ly/sqtn0Tk/L5/GHDhhFCbGxsPnz48E3YjEYiASSABJAAEkACSAAJIAEk8P0QQOHv+9nrhrLSmJgYe3t7ptAgW9bS0urbt+/+/fszMjK+rt1hYWG6urqEkCZNmujr6xt9+ujr6zPdABUUFIyNjadMmXLt2rWioiKmwWKxODs7Oy0trby8nFlf3XJ2dva+fftev35d3Y4Np31xcTE4RhFCuFzugQMHvoptpaWlJ06csLW1pTG5zOPH5XIHDBhw//79KtoWFRXl7OysoKAAg7Rp08bf37+BaNZVXEJpaemKFSuUlJSYHGgZ1G1HR8dNmzY9e/aspKSkisN+P834fL6LiwshxMHB4av/vaoudj6fn5KSwufzq9sR2yMBJIAEkAASQAJIAAkgASTwrRBA4e9b2anGY2dwcDD40KmqqrZo0cLQ0NDIyMjAwKBZs2ZsNpsqDoQQDoczbty46npg1SKpN2/euLm5aWpqzp8//+bNm7GxsSmfPjExMVevXl2xYkX37t2ZCqCmpuacOXOSk5OpDbdu3bK3t2/fvv2BAwdqci1gdHR0u3btnJ2ds7Ky6ODfViEjI8PBwQH292sJfyUlJVu3bm3atCk9ZioqKs0+fRQVFWll586dX7x48Vm8CQkJQ4YMob0sLCyuXbv22V4NsAGPx1u5ciXV/pSUlLS1tZWVlenSoGBgYODu7n7z5k10bmVuYm5u7sCBAwkh/fr1+7Y035SUlEmTJrVs2XLWrFnf7h8W5l5gGQkgASSABJAAEkACSAAJIAFZAij8yTLBmrolkJyc7O7uPmPGjLNnz0ZGRiYnJ6ekpMTHxz98+HDfvn1z5syBxK9Ua3j16lXdGlTJ6AUFBaNHjyaEsNnsNWvWiEQi2YaZmZlXrlyZOnWqkZERGMxisQYOHPjkyROJRCIQCCZOnAj1LVu2vHz5suwIVayJiooyMzNr1qxZeHh4Fbs0tGYxMTEdOnQAGqqqqqdPn65/C48cOaKlpQU2NGnSZMqUKQEBAY8ePXr48OH27dutra0hEpkQMn/+fPnyVnZ2toeHB/X1s7Kyun37dv2vqLZmvHfvHpBhs9m//PJLeHj46dOnly1b1qNHD0oMuDVv3nzBggV4mR0ln5OT4+joSAgZOnToF18TSUerz8KxY8fA75XD4Xh7e6M7Z33Cx7mQABJAAkgACSABJIAEkEC9EUDhr95Q40T/I8Dn88vKyv73/f9KRUVFt27d6tu3L0gMhJBevXp9rei5nJwcaomZmVlUVNT/mSn9/9LS0mfPns2dO1dHRwcs79at24sXL0QikY+PD3VjtLKyevz4sXTnqn1//vx5ixYtlJSUjh07VrUeDa7V8+fPIWga4qaDg4Pr2cTi4uIxY8bABikrK69fv15K6YiOjoaYTUKInZ2dnPvaSktLfXx8aLCwpaXl3bt363k5tTtdaGiopqYmIcTCwoJ51LOzs+/cubNmzZqBAwe2bNmSw+EAwD59+jx9+rR2bfhGR6PC3+jRoxtabiL5SG/evGloaAgbqqmpuXfv3pp4JcufC58iASSABJAAEkACSAAJIAEk8LUIoPD3tcjjvP+PgFgszsrK+vfffzds2DBo0KBmzZrBD1FCiJaW1uHDh8Vi8VeBVVxcPGnSJDCmTZs2kZGR8s0oKys7deqUgYEBdJk3b155eXlWVha4koFINHPmzC+77C8yMtLU1JQQsnLlyq8FRP7yP/v0wYMH2traAKd58+YPHz78bJfabVBWVubp6Xj0LDwAACAASURBVAkGdO/evUJd79KlS+rq6oQQY2PjN2/eVGZAUFBQixYtYCgzM7MbN25U1vJbqT979iwE4I8ePVrqnkpYQkFBQVxcnK+vr5mZGSzc3t7+sy9Fw1y+SCSqRYWLCn8TJ05keokKhcKcnBxmTUOjUVpaevHiRWdnZ9B8O3fu/P79+4ZmJNqDBJAAEkACSAAJIAEkgASQQA0JoPBXQ4DYvUYEsrOz161bZ2dnRyUh0BQIIe3btz948KBAIKjRBDXrvGfPHnBx6ty5c1JSkkQiKS4uzs/Pr2zUgoICuO2LEOLk5ERbJicn//PPP7/99tvFixe/THFISkrq3LkzIWT8+PFSfmqVGVO79SKRiMfjpaampqSkfPz48Qs8m27fvk2DRi0sLGJjY2vXwqqMFhIS0qFDB1VV1fnz51focxoSEgIiiIGBwcuXLyscMysra/DgwXBQ1dXVDx8+XGGzb6tyy5YtLBZLUVFxy5Yt8i1/8uRJz549YflTp079VvJCFBcXx8TEnDlzZvXq1bNnz/b09Ny6dWtqaqr8xVblaWZmJgCZPn06lfULCwu3bNlia2u7ceNG+S+LWCyOiIgIDg6uUImuigE1bJOfnx8cHLxu3bo9e/Z8W3cU1nDh2B0JIAEkgASQABJAAkgACXwnBFD4+042uoEu8/r168zkGKAmsFgsV1dXOf5W9baYY8eOQYoDW1vb9PT0uLi4qVOnDho06NSpU7J6R2Fhob+/Pw2d8/DwqLpqyefzo6Ki7t69Gx4enpiYSOUDulKaGcPJySkvL4/W108hLi7Oy8urR48exsbGRkZGHTt2HDlypK+vb7X8g27dukWFv0GDBn0ViUEkEkVGRgYFBVV2Rd3+/fvBN9PS0jIhIaFCvMePH1dTU4Oz6u7uXlhYWFJSkpaWlpqampOT82XCboUT1VulQCAA51ZNTc2QkJDK5hWLxXl5eU+ePBkxYgRcbti6deu3b99W2L6oqOjly5enTp3av3//6dOnIyMjq+77VlJSIl8sY84oEomKiooqlHElEolYLE5NTfX39x81apSxsbGKigpsHPx37dq1Uv6zIpEoJiYmNDQ0JSVF6hGdtKys7OPHj1lZWXDv54cPH2xsbAghS5cupTeBBgUFwWk3MDCAGz9pd6lCTEzMjz/+qKqqOnPmzKqvWmqQz36VT+mz3bEBEkACSAAJIAEkgASQABJAAt8uART+vt29awyWX716VVb4Y7PZgwcP3rt3b0xMTGW/vetn8f7+/pDqtHfv3pmZmatXrwa9oEmTJqNHj961a9eBT5+//vrLx8dn6NChTZo0gQbm5ub37t2ripGlpaVXr14dMWKEkZGRlpaWtrZ227Ztvb29P378yOxOwwkdHR1zcnKYj6pYFolEmZmZsbGxr169iomJSU5Ozs3NrUrf6OhoZu5aqpuwWCwHB4dLly5VKOjIbtyVK1cgilZRUXHr1q1Vmbqe2wgEAg8PD1hgZRla8/Pzhw8fDm0MDQ1DQkKuXLkyatQoMzOzli1bdu/efc6cORcvXvwqsuYX48rKyurTpw8EOIeGhmZkZOTm5vL5fB6P9/79+6dPn549e3bz5s3z5s3r06ePjo4OTYEyfvx42ZUKhcJbt26NGTNGT09PWVmZzWYrKyu3bNly7ty5cXFxTCOFQiGPx2OqXeXl5RcuXJgwYcLo0aOPHz8uJecVFxfn5uYypdWPHz+uXbvW1dV11qxZERERzMGLioquXLmyePFia2trehsjPb1Q8PLyolId9I2IiLCxsVFXV+/Zs2dMTAxzQChDBuQOHTpYW1tDgpqEhAQrKytCyPr162n7o0ePwp8ONTW1ixcv0nqpglgs3rx5M2SUHjJkCPURhmZCofDjx48xMTGvXr2ClOJSDaRGg6/VolThCLKVPB4vPj7+1atXUVFRSUlJOTk5Utxku2ANEkACSAAJIAEkgASQABJAAg2EAAp/DWQjvlMzUlJSevfuLfVrHL6yWCxzc/ONGzdKSWD1SWr37t0Q6uvo6JiVlTV37lymqSwWi/3pA7/bqdk9e/a8ffu2rPIla3lhYeHatWuZ1xrCIIqKiu7u7sw4RCr89e7dOysrizlUaWkpROBKqSTMNikpKWvXru3atau+vr6urq6+vr6RkVGvXr3OnTvHbCZbzsrKGjt2LF01i8VSU1NTV1enS27evPnKlSszMzOhL7jU7dy5c968eQsXLtyxYwcN6b18+TIIf61bt64silbWgPqseffuHc07DFc0ys4eFhamp6cHQFxdXX18fJo3b075QEFNTW3EiBHR0dGy3RtmTUREROvWrQkhHA5HT0+vXbt2vXr1cnV17dmzp4mJSfPmzeH6P+YyORyOi4vLu3fvpFbE5/O3bdtGb7pkdiGEDB48ODk5mXY5d+6cg4ODp6dnWloaVJ46dUpfXx966enpMSWzvLy8RYsW9ejRw9/fH1SnnJycqVOnUhXS2dmZjlNeXr59+3aI2qY2aGhodO7cefz48QsWLPDy8lq3bp3sHp09exa8Ao2NjV+8eEFNpYWgoCCq748bN660tPTt27dt2rRhsVh+fn60WWhoKKSyUVJSOnjwIK2XKiQnJ9vZ2RFCuFyur68v849GXFzc8uXLO3XqRN9ZY2Pj/v37X79+XWoQ5tdqUWJ2rKyck5Oza9eun376ycDAQFdXV09Pz9DQ0NbW9q+//mIqsJV1x3okgASQABJAAkgACSABJIAEvjoBFP6++hZ81waIxeIXL15s2LBh0qRJ3bt3NzQ0bNq0KRWVCCFsNnvgwIEPHjz4Kph2794NOXkdHR15PF5AQEDTpk2pjiBbMDExWblyJVPaALMLCwtl3evy8/O9vLwglJgQoqCgoK6uTr8qKir6+PjQn9Z5eXlOTk6EEFtbW+ZdYImJiYsWLTL99PH29pZ1v5JIJM+ePRs4cCDVR8BshU8fa2vrW7duyVEM9+3bByYpKir279/fz8/vwoULly9f3rt374QJE0DzYrFYHh4ePB6Pz+f7+vq2bdsW4kBhom7duoWFhUkkEpo+wsXFpaCg4KtsqPxJd+7cCTqvmpramTNnKmx8+PBh8OTicDj29vb0PGhoaDRr1gwewcLd3Ny+zDezwnnrtDIoKEjW8Vb2eHM4HC0tLRMTk6FDh+7du5eqvdS2kpKS1atXU5XQxMTEw8Nj7ty51OeOw+FQdUwkEi1dupQQoqGhAfHFT58+tbCwYM7bq1cvetoTExMtLS3h9syCggLR/8fem8fVuL1x/2u3p6bTqFLRICSZpyiEcszKEI7jcDLGKcMxJFOoZMhwTmUeMwsZQgdJpkpIpZBQNM9ze76f18/6Peu5v3tXKpXi2n+w9r3XcK33uvd+ve5P1yAWb926lQ6czWbv2LEDa2epqam9evUiU3G53GnTpt26dSsrK6vmFJl79+5ls9kMBsPV1VXWlVUikXh4eOCvkpyc3JYtWyiKevbsWatWrdhs9sGDBwmKsrKyOXPmYANk/QpJtyNHjmCdccCAATiLKP7o4cOHAwcOJPbjBl7X0tIyIiKC/DKQqXCjTpTwED6fn5eXV+WEHz58+OOPP2T9JeXk5IyMjC5cuED31pSyBN4CASAABIAAEAACQAAIAAEg0EwIgPDXTA7iZzcDP3x++PAhPDx83759zs7OvXv3JpnUTE1Ng4KC6O4wTcNrx44dWIXEwh+Px9uzZw925MGP4gwGw8zM7Pfff1+yZMmuXbtiYmJkn5+zsrJmzZo1ZswYeuRgZWXlunXriGxhbm6+ZcuW69evnzlzZuzYsfgJf/jw4UQuLCsrs7OzQwj16dOHeALGxMTY2NgQdYDD4Xh5eUnlBwwPDycKiIGBwZQpU1atWrVp06a9e/diJVFPT+/cuXNV8iwoKMB9EEKDBg2SitOsrKz877//xo8fr6mp2atXr7i4OHd3dyJcIoSI1Dht2rSKigoSNz1jxozaZz+s0rDGuJiWlkakFisrKwJZai2iBTMYDHxvqKiozJs3LyQkJCoq6vTp03/++Sd24VRQUDhw4IDU8Ob5lni2knsJa+46Ojp9+vSZOnXq0qVL3d3dDx8+fP/+/Q8fPsgmuKQoSiwWHzx4EHvDsVisiRMnPn36VCgUSiSS9PT0xYsXY1xTp04latGePXuYTKaSklJwcHBqaurYsWOxAUT6V1ZWJk6pubm51tbWCCEbG5u8vLzAwECcT5PBYJA7bfDgwdnZ2RRFpaenDxo0iGxHU1PzzJkzX/0BEYvFK1aswFpklY51hYWF5BvRo0cP7DD48OFDNTU1Lpd76tQp+vk+fPgQWzhp0qQqCyV//vwZG6mkpHT8+HEy9ubNm0QANTExmT59uqur66ZNm/z9/TGBdu3a3bx5k/SnN+pEiaIooVC4e/fufv36Xbp0iT4PRVHx8fGkVJG2tva4ceOWL1/u7u7u5+c3d+5cJpOpqqq6Y8cO2V88qXngLRAAAkAACAABIAAEgAAQAALflwAIf9+XP6xeNQGxWJyVlRUUFGRvb4+1JBMTk+qedaue4puvSiSSTZs2Yec1kllPKBSeOXOmffv2RFP49ddfZQMG6Ys/e/ZMQ0ODyWQeOXKEXA8KCiKFjG1sbOhBhS9evGjXrh1CqG/fviR0saKiwsHBASFkbm6OBbhnz57hIEFiCULI2Ng4KiqKrPLo0SPsJMVms3/77bcXL14QdyeBQEBieIcNG1ZlPPWrV6+MjIwQQhoaGkFBQWRaeqO4uDgmJubRo0f79u0jtTu6dOni4eHh5+e3evXqUaNGzZ8/Py0t7c8//8Sm0qUf+lTfsS2RSHbu3Il1WAUFhf3791dnjJRGpq2t7evrS5QsiqL4fL6Pjw++aQcPHpyZmVndVM3kulAoXLRoET4aXV3dyZMnu7q6bty48fDhwy9fvszNzSX3TM0GP3v2rGPHjjhqdeHChXl5eaQ/9s7D3pQTJkwgKtju3buZTKaysvLu3bsdHBzwd61z587btm0bMGAANmn58uVYWiKSlrW19YEDB3BsMovFmj59+tq1a/G3SUtL6+HDh7imx+3bt83Nzcm3Q0dHZ9myZfHx8TUkpyPfMgMDg7i4OGI/aTx58gRHMXO53H///Rdfv3v3roqKioKCwsWLF0lPiqKKi4txcsyePXvKlsERi8Xe3t6YiYODA/HV/e+//zp06IAQ4nK5c+fOTUhIICp5WVkZKSdtb29P/ipAX7ROlCiKKisrGzduHEJI6lv55s2bYcOGYU9kGxubsLAwutq7evVqDLZz584JCQl0A6ANBIAAEAACQAAIAAEgAASAQHMjAMJfczsRsOd/CBQVFXl7e+On+l69eknl7/+frg39RiwWL126FD/fSmXWe/Dgga2tLfZLYrFYY8aMoSt3UobExsa2adMGIeTp6Yk/Ki0tnTx5Mp65V69esbGx9CF8Pn/VqlW6urpLliwhD9s8Hm/GjBkIITMzs+Tk5Pj4eOKe1q5du8mTJ5PEc6tWrcJCSVpamq2tLfa8+/PPP6UCM9PS0vr164dtUFRUPHr0KN0G3MaKBnb3kxou1fnz58/9+/fHa02YMIFekbn0yyskJERHRwcv161bt/fv30vN0JRveTxeZmZmampq8pdXSkrKrVu3sNqC89DVsNnjx48TP002m71lyxZZj6c3b95gCUxDQyM8PLwpt1aPtUpKSrD0o6KicurUqVrKfFILVVRUODk54fNVVVWdM2fO6dOnX7169f79+6dPn65cuZL4ya5btw5LbxKJZO3atdi1UFdXF3+bOnXqdPfuXYqiSFVcUsb606dP2HdVTU0N+1QymUxHR8fs7Gw+n49X53A4dHk9KirKzs6O7oXavn37NWvWxMbGSjnG4u0UFBQMHz4cIdS5c2e6fy7+VCwWb9iwAXsXDh06lMQgX79+XenL6/r163QsEolkw4YNCCE1NTW8Kfqn9+/fx6q6kZHRo0eP8Efv3r3Daj6LxXJxcZGq352UlERyUKqoqEjpjHiGulIqLy+fNGkSQohezaa4uHj27Nn4NIcPH07SdOIlSktL7e3t8adycnLr16+X/QrQdwptIAAEgAAQAAJAAAgAASAABL4vARD+vi9/WP3rBPh8vq+vL87T7+TkRNyFvj7y23qIRCKiZfTp0+fz58/0+dLT01etWkWqB/Tq1Uv22R73//jxIy766ejoiLOGvX79GvsMKisrnz17lj4tbhcXF3/48IGeCI8u/AUGBuIIXwaDMXLkyKioqIqKCm9vb5yO0NLSEvsJ7tu3D0tUQ4YM+fDhg9Qq58+fp6d1GzRokNQGKYq6fPkyjramiwJS8+C3p0+fxqnKhgwZIivq5efnk0q4CCFlZeXq/AernLwBL/L5/GvXrs2YMaNTp076+vp6enq6urp6enokVR+LxVq2bNmnT5+q8wsLDQ0lnTt06CBb3YKiqLS0tD59+iCElJSUrl271oD2N8ZUWVlZVlZW2JlU9uxqueKDBw+wKxyJuuVyuTo6Onp6epqamiTnY+fOnUldF6FQuGDBAqwf4X8NDAwIrvT0dCxM9+vXD9/Pr1+/JuIs7j9p0iQSkX369Gl5eXkGg0HkdWx5fn7+0aNHBw8eTDIPIoQMDQ0XLVoUHh5Od9WkKCozM9PS0rI64S82NrZTp074Bj5z5gwhc+3aNVzx5saNG+Qibty4cQPHPq9Zs4Z+R338+BGL8lwud8eOHUQJ3bJlCwY4fvx44u1L5jx48CBdxBw1apSsQl1XSgKBAFey7tKlC4nlv3nzJv5bi7m5Od2DGFvy5MkTAwMDcnAdOnR48eIFMRIaQAAIAAEgAASAABAAAkAACDQ3AiD8NbcTAXuqIFBRUeHi4oIQ0tfXj4iIqKJHI1wSi8XLly/Hz7ft27eXlXgqKysPHz5saGhI+pw/f17Wkyg7Oxt75w0aNAgnIAsPD8fikampqaxjUZVbIcLfL7/8gh2FEEL29vYfP37E/ePj43GAsLa2dkREhEAgmD59OkKodevWISEhUnOmpaXhOD7y9M7hcHbu3CmVBO3kyZNYaBg3blxpaanUJOQtAaWgoEAXRHAHsVi8c+dOPA+Xy8WOXStXrmx6L6HKykofHx/ZGsoEAg5sVFRU7Ny588aNG+nFFshmP336hEU9hFDHjh2rdEENDw/HpWmrdPUiUzWTRlJSEtaz+vbtS7zY6mSbUCjE3xQGgzFlyhRnZ2cS9E1n27Fjx8uXL5N7jMfj4VsU91FWVt63bx9Rx8gNT2Lbnz59qqWlRSbs168fHf7z589xQr0lS5aQScgucnJyAgMDZ82aRb6tCCEtLa0ZM2aEhoaSIh65ubm4yLiBgYGUH25ubu6sWbPw6pMmTaKH2WLhT0lJiV6DGC+dkpKCvRR79+5NvqolJSVOTk5YDHVwcCBFuktKSnCWQyMjI1wPh9hPUVRSUhJx0cVmKCoqytYLrislsVi8atUq7JaIS6xIJJL169cjhBQUFGTnLy4uJhzIWbi4uJB4ZLrN0AYCQAAIAAEgAASAABAAAkCgORAA4a85nALY8HUCYWFhqqqqTCaTpNb6+phv7kGKe2hqalZZWVgikYSEhJDqGdra2j4+PlJuRMXFxTgzl66uLnafiYiIwPVwjY2NIyMja2Mmj8f7/fffyZM2Lu9Lz65VVFQ0cuRI/Lh+9uzZ4uJiHLTYrVs3KQGroKDA2dkZuwe2bduWeFF16dJFSuzYt28fzkE2fvx4EnQsay2fz//jjz8QQrKZ0SQSyeXLl3Gks46OjpeXFxYvBg4cWGVWQdnJG/DK+fPnibOesrJynz59HBwc+vbtS0pJ0PEyGAxLS8sbN25IKbkikWj9+vXYLYvJZG7YsEGqQ2Zm5pQpU/BUFhYWsiWeG3BHDTJVVFQUFtTqLfwRRzlDQ8OoqCg+n3/9+nUHB4e2bdtqaGhoaWmZmZktWLAgKiqKqH44BR7JWIcQmjt3Ll1cJoHAWlpaWAW7ffs29p7Dmp2U0ygJcZ08eXJ1TsF8Pj82NnbNmjUdO3YkTohaWlqurq5YkS8vL8dnx2azN2/eTMSsgoKCxYsX4++CqqqqVEgvFv5ki3tQFCUQCJYsWYIQYrPZmzZt4vP5AoFg69at2D22e/fudF+5zMxMHC9vaWmJ7SHniwsE4bvO2NgYS/wIIQsLC+KmhzvXg9LOnTuZX167du3CSSqxtKehoSH1o1dZWbllyxbsO6mpqdmlSxeMUVdXt8paKMR+aAABIAAEgAAQAAJAAAgAASDwHQmA8Pcd4f/US/P5fCnFpGYcoaGhOK7W3d2dLh/UPOobPyUJ3ZSUlGSrXpLJ4+LiJkyYgKW0X375xcvLi679VVZWTps2DSEkLy9/8uRJiqKISIFLlFZZRoBMjhukqi9WlLS1taXci8RiMc6YhhBavXp1YWEhTtymrKx86NAh7ANVWVkZHR39xx9/4BBgDQ2NY8eO3bt3D5cQZTAYI0aMoGt/pILt8OHDSfEBKcMoiiKipFToq0AgOHfuHBYpuFyuh4dHZWWlm5sbQkhFRUXKftlpG/ZKZWUl8S/T09M7fvx4Xl7ey5cvR40ahcULDoej9+VFj4DGYqVUqjWSiA0hpKOj4+npmZiYmJubm5GRERwcPHbsWKwQKSgo7N27t8nu1XrjIt+srl27yoaE12bamJgY7G03cuTI4uJiPKS8vDwpKSkyMjImJiYjI0MgEEhNlZGRgXUuhFCnTp1ICDDpdurUKS6Xy+FwcALKs2fPYr0MIeTi4iKVi7C0tBSXvaZX0hCLxUVFRVJLi8Xi169fb9q0yczMDB89zhWIw2Z9fX05HA5CSFVVdcmSJVFRUY8fP545cyZJ7GhtbS2lymHhr7q/STx+/Lht27YIIXV1dUdHx3nz5mH1WUdHR0q7zMnJGTx4MK6lc/78eXznlJeXP3r0aOLEifim0tPTu3jxYnBwsImJCUKIyWROnjyZXlyoHpTIr9wff/zB4/GEQuHChQtx7sX169djzgKB4PXr18uWLcPaK5fL3bx58/Pnz7HBCKFevXqFhYWRs4MGEAACQAAIAAEgAASAABAAAs2HAAh/zecsfiJLcnNzV6xYMXfu3JMnT6akpMiG5kmxiIuLw/UxWSyWn5+f1KeN9/batWvKyspYszt16lQNC+Xk5CxbtgxLBioqKgcOHCCKD8kVyGaz/f39KYoSCoXr1q0jjmbdu3f38/N7+/ZtDV519AhTNpu9YcMGKTmDoqiwsDDsSDh8+PD8/HwfHx+sRerr68+fP9/V1XXKlCnY+Q6LC//88w8Ocrx+/TpJ2tW7d+/Q0FC8UyL8mZmZ0cUFKQ4CgWDOnDmY0tq1az99+lRSUvL27Vs3NzdsD0Jo+vTpOKTx/v37uM6Do6OjlHYjNW3Dvi0uLh41ahSWTTU0NJycnNasWdO/f3+Sk27WrFnJyckfPny4devW4sWLSUwol8tdsWIF3RmNoqjg4GDSgcVi6erq9urVy9zcnIiGDAZj9uzZNailDbu7b5nt+vXr+CYnJXHrOtuDBw9wbK+FhQVJuvfVSd69e4dDjLlcro+Pj+yPQFRUFC5Z4+LiIhaL/f398VfGzMyMLk/jhcRiMdaU1dXV7927hy/Gx8ePHj3aycmpSr/at2/furu748B5Npvt7e0tkUjev39PQrkZDIampiapvo0jwdevXy9lKgG4fPlyqY+wA93y5cuJgyG+AxUUFLZt2yb1FRaJRGvWrME9jY2NFy1atGrVqgkTJpC6PViwxjHyZ86cIfVSBg4cSFzz/Pz86krpypUrOJWnnZ0d/gm6cOECvpPV1NRmzJjh5uY2c+bMDh06YNvk5eVXr16NFd6nT5/iBKYIofbt2589e7ZOf8756k0CHYAAEAACQAAIAAEgAASAABD4dgIg/H07Q5ihzgQeP36M3V44HI65ufmiRYsCAgJevnyZnp5eWFhY/uVVWlqam5ublJTk7+9vbm6OH5jNzMzoFWPrvHAdBzx+/Bg/9isoKFy4cKHm0fn5+Y6OjvjZeMKECfR4Q29vbwaDIS8vT9TDjIyMGTNmEO2PxWIZGRmNHz9+9erVJ06ciIyMTEtLo8/w4sUL8pzfv3//1NRUWWMKCgpw7KShoWF8fHxqaiou2oDR0f9t167dsWPHiO4gFosPHDhA8rKZmJjs2rUrLy+PCH8qKiq3bt2SXZFc8fHxwQoaPtDhw4ebmJiQeNjJkyeTqhElJSVTp07FBRaePn1KZmjshkgk2rVrF1a46Chwe9y4cfRki2Kx+OnTpw4ODtjNSktL68GDB3QLxWLxpUuXunTpIjsV9sOaMmWKVIQ1fXizagcGBuLgTeJbV1fz4uPjsQyqpKR0/PjxWg7Py8v77bffEEKDBw+uMrdgfn4+lvv79euXnp5+7949IyMjOTm5HTt2EFWdvtZ///2HEzhu2rQJdzh27BjWvjt06HD48OGcnBwpYa68vHz9+vW4z4ABA3A9jXPnzhGtTep8NTU1iSxOlo6IiMDfTSy4k+ukkZycPGjQIDIVh8NZunQpvXQP6ZmQkNC9e3fSk94wMzMLDAwkmTEFAsH27dtJxRIzM7N9+/YVFRWFhobWldKjR4/wr9zvv/+Oo5sLCgpIuDrdBhxk7eXlRdfB6SK4trb2mjVrSDZDsi9oAAEgAASAABAAAkAACAABIPAdCYDw9x3h/7xLR0ZGEhkLP1hyOBwtLa2OHTsOHTp0wpfXuHHj+vTpo6enh93ocPr5gwcPSj26NypE4pTUrVs32eIeskunpKRgVWv8+PF02S44OFhZWVlJSYmeCSsrK8vNzU1HR0fq0ZrD4WhoaHTs2HHixIlr1669dOlSWVlZRkaGtbU1DpI9duyY7NL4SkBAgOKXFy4weufOnd69exOnNhzAOHHixMePH0tJJzwez8fHhzjoYbep69ev48i+Nm3aREdHV7coRVEvX77EfYyvRgAAIABJREFU8cJSe1FWVl68eLFUfdJ79+5hB8OdO3fWMGeDf1ReXv7vv/8aGxvT3a/YbLadnZ1UojS8dE5OzqJFi1gsloKCQnBwsKw98fHxS5cuNTExIXGgbDbbxMRkw4YNTZ/BUNa8Wl4hdYq1tLSqq0xd81REzMUhn7JBu9UNT05OXrp0aQ1B3zdu3GjVqhWujCGRSC5durR06dLq0iaWl5cvXLhQTk7Ozc0N/0qQGxghpKioOGDAgEWLFq1bt27jl9fq1avpPrDdunXDipVQKLxy5QouBMxms1VVVVVUVPA9M3jwYKk4X4qisrOzhw4dihDS1NSULaSD9x4ZGTlgwAAFBQUdHZ2NGzdW5woqkUiuXLkiJShraGhMnz79+fPnUhjLysrc3d1J3kM9PT2cQrSulD5//owzb65cuZL8usbExNjY2GDhG3+plZSUhg4dev36dfIHA2yPWCwmEf0IIQ6HU3vxV2pH8BYIAAEgAASAABAAAkAACACBxiAAwl9jUIU5v0KgpKTE1dXVwMBAQ0ODLktJyUb0t23btt2zZ09TBofiML0LFy6sWbMmLCxMSimrbodZWVm+vr6XL18mvjkURRUUFCxdunTKlClSnnoCgeDBgwcLFy7s0KEDcd6h7xqnBsPKyL1796ZNm7Z79+4aIoILCgpmzZqlp6dHhKr379/v3bt36dKly5Yt8/LyunPnDsnCJrUFPp9/8+bNqVOn2tra7ty5s6ioqKSkZMmSJerq6i4uLvSshVIDKYqSSCQ3b97s3bu3goICVso0NTUHDx588uRJWWtFItGJEyf69u177tw52aka9YpIJIqLi/P19XVzc1u9evW6deuOHz+emZlZ3aJ5eXnr169fuHBhde57QqEwKSnpzJkznp6emzZtOn78+Js3b+hHX93Mzed6YWHhvHnzWrVqtWrVKtnDqqWdISEhRMIePHjwo0ePqvy+VFRUvH79OjAw0MfH59KlS8IvLyI2ya5VUVFx9uzZsLAwHEAqkUikVCepIW/fvj18+DA5rJKSkq1bt5LwdqlvFv0ti8VatWoV/eclMzPz8uXLR44cCQ0N3bx5M/7zA5EUpdY9efKkoaFh69atDx06JPURefv+/fugoKAHDx6QIsLkI3pDIpG8fv16z549S5Ys+fvvv729ve/fv1/duVRWVl66dGnixIkjRozYt28fdsSrKyWxWHz8+HFbW1sp1TIjI+PEiRPLly9fsmSJu7v7lStXcBpEurW4LRaLnzx5Mnfu3CFDhqxfv7724d6yU8EVIAAEgAAQAAJAAAgAASAABBqcAAh/DY4UJqwVgcrKypSUlCdPnvj5+S1btmzKlClWVlbt27fX09PT1dXV0tJq1apV69atO3bsaGdn5+npGR0d3aKzR1VWVpaUlFSphgiFwo8fP165csXd3f3333/v1auXjo6OvLw8FibMzc1xVVOKoiorK2tQSTD37OzsiIiI6tS9r55NRUUFfWxRUdHDhw+lXPaqmyQ1NTUoKOjQoUOBgYGRkZE4qV+VncVicVZWFqmaWmWfZnJRKBS2CDu/BVd2dnZkZGSVwae1nJbP52/cuJF4PhoZGbm6uj548CA1NTUtLS01NTUiImLPnj0ODg6Ghoa4RsfQoUOrc3yr5aK16SYWix8/fjx79uy2bdvS/deI6sflctu3b+/u7l6dqkVR1IoVKxBC2tra9+/fr3JRPp//+vXrly9ffgvDKmeuzcXy8vJvXFckEhUVFX3jDyyfzy8sLPzqD1RtdgR9gAAQAAJAAAgAASAABIAAEGhAAiD8NSBMmKr+BCoqKgoKCjIyMlJSUt69excTE/Ps2bO3b99mZGRU5+1S/8Wa8Ugej5eTkxMfH3/mzBkPD49t27a9ePGiSrmwGW8CTPsZCRQXF69fv55eCkNdXV1fX79Nmzb6+vqampp03145OTknJyd6OHyjIuPxeAkJCUePHl2xYsWCBQvmf3ktWbJk48aNZ86cSUpKqsFJMyMjw9LSEiE0YsSIJlAqG5UDTA4EgAAQAAJAAAgAASAABIDAT0gAhL+f8NBhy0AACACBhifA4/GuX78+YsSI6oqoKCsrm5iYjBkzZvfu3bV0I21wK0X/91XLmXGiQCaT2cQpKWtpHnQDAkAACAABIAAEgAAQAAJAAAjUTACEv5r5wKdAAAgAASBQBwIFBQVXr15dtmzZyJEju3fv3qNHDysrq6lTp27cuDE4ODglJYVeE7YO836Prjweb+HChQghAwODmuvbfA/rYE0gAASAABAAAkAACAABIAAEgMDXCYDw93VG0AMIAAEgAATqREAikZSUlOR8eeXn59PrZtRpnu/bOSEhwdTUFCHk4ODQgvTK7wsNVgcCQAAIAAEgAASAABAAAkCgWREA4a9ZHQcYAwSAABAAAs2FgL+/P5vN5nK5R44caS42gR1AAAgAASAABIAAEAACQAAIAIG6EADhry60oC8QAAJAAAj8HAQKCwvHjBmDEOrcuXNSUtLPsWnYJRAAAkAACAABIAAEgAAQAAI/GgEQ/n60E4X9AAEgAASAwLcTuH//vra2NkJoyZIlAoHg2yeEGYAAEAACQAAIAAEgAASAABAAAk1PAIS/pmcOKwIBIAAEgECzJiASiVavXo0QUlVVDQkJada2gnFAAAgAASAABIAAEAACQAAIAIHqCYDwVz0b+AQIAAEgAAR+SgKpqal9+/ZFCHXp0uX9+/c/JQPYNBAAAkAACAABIAAEgAAQAAI/AgEQ/n6EU4Q9AAEgAASAQAMSOHfunJKSEkLI2to6Nze3AWeGqYAAEAACQAAIAAEgAASAABAAAk1JAIS/pqQNawEBIAAEgEALILBt2zY5OTmEkL29fVlZWT0slkgk2dnZOTk59RgLQ4AAEAACQAAIAAEgAASAABAAAg1FAIS/hiIJ8wABIAAEgMAPQuDMmTPy8vIIIScnJ6FQWI9dZWVljR8/fuDAgc+fP6/HcBgCBIAAEAACQAAIAAEgAASAABBoEAIg/DUIRpgECAABIAAEfhwCHz9+tLe3HzJkyO3bt+u3q7dv35qamiKEfH196zcDjAICQAAIAAEgAASAABAAAkAACHw7ARD+vp0hzAAEgAAQAAI/FAGJRFJUVFRYWCgWi+u3saSkJDMzM4SQp6dn/WaAUUAACAABIAAEgAAQAAJAAAgAgW8nAMLftzOEGYAAEAACQAAI/A8BIvytXLmy3urh/8wIb4AAEAACQAAIAAEgAASAABAAAnUnAMJf3ZnBCCAABIAAEAACNRIgwp+Tk5NIJKqxL3wIBIAAEAACQAAIAAEgAASAABBoLAIg/DUWWZi33gREIlFiYuKePXtcXV3379+fmZlZ76maeGBSUtLTp095PF4TrwvLNWcCFRUVjx8/9vLycnNzCwwMLC0tbc7W0m0TiUSFhYV8Pp9+Edq1JBAbG9u2bVtcHgSEv1pCg25AAAgAASAABIAAEAACQAAINDgBEP4aHClM+E0ESkpKvL29jY2NGQwGQojJZE6bNq1FaH9paWm//vpr69atDx8+LJFIvokCDP5RCHz69MnJyUlLSwt9eSkpKbm7u1dWVjb//ZWWlm7btm3QoEHz589/+vQpSFd1PbJnz561atUKhL+6coP+QAAIAAEgAASAABAAAkAACDQsARD+GpYnzPZNBNLS0lxcXOTl5bFKgv9t27ZtZGTkN83bJIOvXr2qrKyMEBo+fHhBQUGTrAmLNAABHo+XmZmZkJBw79694ODge/fuJSQkZGRkVFRUfOPsz58/Hz16tJycHP1+trGxycrK+saZm2D4/fv3sW6FEDI0NFywYEFAQEBMTExubi5krKsN/6ioKE1NTYTQqlWrgFhtiEEfIAAEgAAQAAJAAAgAASAABBqDAAh/jUEV5qwPgYiIiOHDhxOVRFtbe+LEiV5eXnfu3Pl2CaY+BtVxjL+/P5vNRggNHjw4JyenjqOh+/chEBsbO2/evE6dOuno6KipqSkrK6upqeno6HTq1MnBwcHDwyMsLKweMq5AILhw4YK5uTmR/ExMTBwdHffs2fP8+fMW4T1348YNLGSTLXA4HG1tbQsLC2dn59OnTyclJUFUew13bXh4uJqaGkLIw8MDXIBrAAUfAQEgAASAABAAAkAACAABINCoBED4a1S8MHltCdy5c4euklhaWt69e7e56X01P71v2bIFq5Z//fWXQCCo7c4bul9FRcWJEycePHhQs7UNvWyLnC8pKcnS0pIIW1U21NTUhg0bdvDgwezs7FpuUiAQ7Nu3T1tbG0/IZrNnzJgRHx8vFAprOUNz6Jaamjps2LAqmSCEuFyukZHR9OnTT5w48fHjR7jZZI8sLCxMTU1NTk5ux44dsp825ysSiSQvLy8jI6Nl3bHNGSnYBgSAABAAAkAACAABIAAEviMBEP6+I3xY+v8nEB4e3rlzZywxMBiMESNGvHr1qrnRiY2NdXV1PXfuXJUJ2oRC4bx58xBCioqK586d+47G5+fnW1tbd+/e/e3bt9/RjBaxdEhIiKKiIj41HR0dfX39Nm3a6OnpaWpqslgsuubFZrOnTZtWG0dOsVh86NAhktSPw+E4OzvXZmAzJJaQkDB69GjCQVlZWV1dXYoMh8Pp3LnzunXr3rx50wy38B1NunXr1i+//MJisfbu3fsdzajH0vfu3bO0tDQ1NT106FCL8E6txx5hCBAAAkAACAABIAAEgAAQ+HkIgPD385x1M91pQkJC//79ieo3fvz4d+/eNTdbKyoq/vzzT4SQhoZGlbpeRUXF5MmTEULt27dPTEz8jvbn5eUNGTKEw+EEBgZ+RzNaxNKfPn2aMWPG/PnzL168mJCQ8OnTp8+fP79//z4yMvLAgQN//fUX0aMRQnp6erGxsV/dV3BwsIGBAb6fuVzuihUrCgsLvzqq2Xbw9PTEfqy6uronTpx4+PDh/v37586d26lTJwUFBaIJIoTMzMz279/fgmoWNzbza9euKSkpcbncgICAxl6rAefn8Xh//PEHPtm2bdtev369ASeHqYAAEAACQAAIAAEgAASAABBoegIg/DU9c1jx/xHIzc2dMmUKXfV7//79//u42bSKiopGjhyJ7Zw7d65sJG9mZiYOGrW1tc3Pz/+OhmdkZFhYWCCENm/eDAGYXz2IsrIy2dOkKKq8vPzevXv0WFdra+uvRvu+fPmye/fu+D7Bql9xcfFXbWi2HSQSyYYNG/B2Zs+eTTL6CYXC1NTUwMBAFxeXfv36kRogioqKS5cuzcvLa7Y7akrDsPCnoKDQsiR4kUjk7u5O/Dq7dev29OnTpuQGawEBIAAEgAAQAAJAAAgAASDQsARA+GtYnjBbHQiIxeLt27dzOBysLNja2jbb6NSSkpKxY8cSO2WrPURFRenq6iKEfv/9d6KP1IFFw3XNyckZPHgwQui3336rMiq54Zb60WaSSCS5ubkPHz7csmXLyJEjcUlWfOhqampHjx6tWUgtLi4mrlIsFuuvv/5q0b5+FEUJBIK5c+cihDgczsGDB2XPWywW5+XlRUdHL1y4EBeyYLFYS5YsKSkpke3c/K+IRKKaj7hOW7h+/brSl5eU01xFRUVBQUEDLlQnq2rTOTc3d9euXb169cI/zk5OTpDsrzbcoA8QAAJAAAgAASAABIAAEGieBED4a57n8lNYFRMT07FjRyysmJiYPHnypNluOyMjY8CAAdjUbt26ffjwQcrUgIAALpfLYDC8vLykPmrit8XFxaNGjUIIDRkyJDc3t4lXb7nL5eXleXh4WFhYaGho4IMm/5qamh4+fPireu7Zs2d/+eUXPGr48OFpaWktlwa2vKioCN9LrVu3rvnryePxTpw4oa+vjxBSUlI6fvx4S9l7Xl5eZGTkvn37Vq5cuWDBgsWLFwcFBfH5/G+3/9KlSwoKCioqKnfv3iWzJScnz5kzx9raOiQkhFysslFRUfHgwYPw8PCysrIqOzT2xU+fPgUEBKxfv/7q1auQ6a+xacP8QAAIAAEgAASAABAAAkCg8QiA8Nd4bGHmmggIhcKVK1dilYTD4Wzfvl0ikRQXF6elpaWnpxcVFdU0uMk/i4yMbN26Nba2devWz58/p5sgEomWLVuGEFJVVf3vv//oH5E23l1eXl5+fn6jViuuqKhwcHBACHXv3j0lJYUYAI2aCfz3339EtiOSn5ycnL29fXx8fM1jKYrKzc0dMWIEHqitrY1lnfz8/M+fP2dmZn4v7earZtfcISkpqVOnTgihQYMG1VCfRCAQZGVlXbp0iej406dPr87bNCsr6969e0ePHj18+PDt27czMzNrtoF8KhaLy8vLq4zLJn3oDYFAUF5eLhaL6RdJu7Ky8tmzZxs2bBgwYICmpiaTySSHbmRkFBMTQ3riRmVlZVRU1OPHj2uI3S4rK0tPTyfejqdOneJyuerq6o8fP8aT0H/07OzsapiKoqjz58/r6upqaWmdPn1aypgGfFszpQZcCKYCAkAACAABIAAEgAAQAAJA4HsRAOHve5H/2dd98+aNmZkZfti2srKKj48/cOCAra2tkZGRsbGxjY3N2rVrHz582KgaWe3P4OjRo1wuF1urqqpKd+GhKCo/P3/48OEIod69e6empkpNW1lZeefOnWXLlv36668WFhaWlpaTJ09eu3ZtSEhIbfTN0tLSlJSU+Pj4hISEjx8/Zmdn16x98Hi8GTNm4GILSUlJUsbA2+oI3LhxQ1b4Y7FYo0eP3r9/f1JSUs2xmVevXlVRUcF3yPz58xMTE93d3S0sLNq0aWNqampnZ+fj4/Pq1auW5Tl17949HMA7bty45OTknJyc4uLisrKynJyc5OTkBw8eHD9+fOPGjY6Ojj169CD0FBQU/P39ZXHl5ub6+vr27dtXVVWVzWazWCwVFZW+ffseOXJE6mteUVFRWFhIZ5WVlbV582Z7e/uFCxdKlfzGkjqR2/D5Pn36dN68efb29lu3bpUKuE5JSdm7d++0adPatGlDxD56Q1tbOyoqSuo+OXHihJ6enrq6+ooVK6rUNGNjYx0cHNq1azd+/PiEhASKog4ePMhisbS1tV+8eIFn4/F4v/32G16rT58+NfiE5uXlYV9LOTm5Xbt2SRlTXl6empr66svrw4cPmZmZX3VRrCslqRWrfCsQCNLT01+/fh0XF5ecnJyent5CBe4qdwcXgQAQAAJAAAgAASAABIDAD0MAhL8f5ihb2EYOHDiAE0ix2ey///573rx5RFkjD+GamprLly+Xem5v+n3yeLzZs2cTqxQVFS9evEg3IyYmBhdynTVrllRAaFxc3MKFC+nZ4sg8qqqqo0aNunLlitQQMjOPx7t06dK4ceMMDQ21tbV1dHT09PTMzc1dXV1lkwzSR2Hhr0OHDq9fvybXKYoSiUQZGRmpqalSOgu9z0/b/vz585AhQ8jp0BtycnKdOnXy9vbOysqqkg+fz1+wYAEe0qpVq61bt9ra2tJnQAgxGIx27drt37+/Zt22yvm/18UjR47gb6WiomKbNm26des2YsSI8ePH9+rVC6tgJEEn2ayGhsb69eulZDiKohITEydNmiTbHyGkoqKyZ88eIvMVFRUtW7bMysrq2LFj2F8vPz9/zpw5uLgwQmjs2LEZGRmESWxs7JgxY+zs7IgfbnR0dM+ePbFJHA5ny5YtJEVdamrq6NGjyVQIITk5OT09PRsbm7lz565cudLV1fX48ePl5eVkfoqihEIhznWIEJo8ebJs5WKRSLRixQq8IovFwpHOu3btYjAYHTt2fPPmDZ5NLBZv2LABr25oaFiDJ+nVq1dVVVURQoaGhnQVUigU3rx5c/LkyUZGRjpfXrq6uqampi4uLjX7TtaJEn3v1bVfvHjh5OTUqVMnHR0dbW1tXV3ddu3aTZo0SdZZsroZ4DoQAAJAAAgAASAABIAAEAACTUMAhL+m4Qyr/A8BoVA4f/58/JysoqJiaWmJFQE5OTk1NTUNDQ0Secflcr29vclz+//M0lRv3rx5gwMeiZSwf/9++uJHjx7lcDgsFsvf359cz83N3b17t6mpKR6F/1VTU9PT09PS0iJFM9XV1V1dXWWT8RUVFbm7u6urq9OHI4SYTKaCgsKWLVuqq50qEAiwTKmtrU2kEByL6unpaWZmZmBgsGDBgk+fPhFToUFRlEQiiYmJ2bJly8yZM/v376+vr6+urk7uQ4QQi8UaMWJElanuSEEVrNQQ1YnNZmtoaGAFB59j69atr1271iKAi8Xi5cuXS91+Vb5VUFDQ1NQ0MzObPXv2rVu3ZIXsxMTEoUOH4rEcDsfKymrp0qXTpk3DOQERQqampomJiRjLx48fu3btihAaNWpUSUmJWCzeunUr/a8CbDZ7x44dxKMwMDAQf+rj40NRVFZW1vjx4+l2GhoaklM7duwYfSoDAwMPD4+4uLiioqIafmTKysomTJiAEGrVqlVwcLDs8eXl5dnY2OBFdXV1Hz16RFHU5s2bEUJSKUETExPx7lRUVKpLC1BWVoarxDAYjL///pt485WVle3YsYPkHCB7ZDKZXC537dq1NWh/daKEN1haWlrlH13EYnFQUJC5uTkxADeYTKacnNyUKVMSExPJ6ciygitAAAgAASAABIAAEAACQAAINDEBEP6aGDgs9/8RIOGo2OMGu8C0bdt2w4YN4eHhjx8/9vf3Hzt2rLy8PELIwMDg4cOH3xHcyZMnsSXkQXfFihUkd1hFRQV+StfQ0AgPD8d28vn8FStWsNlsMoTJZE6YMOHevXsfP358+fKln5/f0KFDFRQUsKLk5OSUn59P9piTk+Ps7IwVCmVlZWtraxcXl3Xr1u3cuXP9+vVKSkpsNnv27NlVRgqLRCInJycsUkRHR+M5U1JSfv/9d6I2MhgMJycnWcclYsDP3ODz+Xl5eR8+fAgPD9+3b5+zs3Pv3r2VlJTwUZqamgYFBUnpGunp6X379iXyB4PBQAj16tVr7969ERERoaGhXl5e/fr1w/e5tbX158+fmz/h0tJSOzs7cgOThqKiooGBwdChQx0dHVetWrV169bz589HR0enp6dX6cyYmZk5adIkPLx169bbtm3D+hSPx3v48GH37t0RQnQv2tzcXGtra4SQjY1NXl5eYGAg1gcZDAbx1Bs8eHB2djZmePfuXSytenp6FhcXL1++HH/v5OTk8EEghNauXYu/sOfOnVNWViZ7GTZsWHJy8lfPIisry8rKCiFkZWVF1qWPioiIIHrcggULKioqJBLJ0qVLEUJ9+/ZNT08nnSUSibe3N5PJZLPZUn8/IH1u3LihpaWFEOratSuJay4qKnJ1dVVUVMS4LC0tFy1atHbtWh8fHw8PDyxST548uUrzKIqqEyWsn86aNWvMmDFS6QKEQuHRo0dxlDSTyezSpYujo+OaNWu8vLx8fX3xafbs2ZNEN5NNQQMIAAEgAASAABAAAkAACACB70UAhL/vRf6nXpcu/OGH8C5duty6dYuup+Tl5f3555/407/++ou4vTQxOB6Ph6P8lJWVBwwYgD0Tf/31VxJsGxcXZ2JighCytLQkEYhlZWV00URRUdHFxYV8ireQm5t7+PDhDh06IIRweROsTRQUFCxatAiLdGZmZqdPny4oKCBkLl++jB/+VVVVL1++LEtDLBavWrUKIaSurv7gwQOKoj58+GBvb09EEIxUTU2tyuGyE/7kV8RicVZWVlBQkL29PdZ/TUxMbt68ScdCF/5wVO/o0aOlAjkTExP79++PEJKXlz9y5Ah9ePNsf/r0qXfv3tjJ1NzcfM6cOWvXrvXy8rp06dL79++LioqqlPmk9iISibZs2YKVOENDwwsXLtA7pKamDho0CCGkoKBw7tw5/BER/qytrQ8cOGBsbIzF8enTp69duxbXXNbS0iJ/DLh7966Kigp2jlu1ahU+I01NzbVr1/7222/4ezR8+HD8hS0uLl6zZg3+BuFp+/Xrd+zYser8Z7FJ8fHxhoaGCCEHB4cqw+S3b9+OnUONjY2fPn2Ko4PnzZuH66JIiXFRUVG6uroIoUWLFsm6GWZnZ48dOxbfJ76+vviLX1paumrVKvyXgHbt2h06dCgnJ4f87QETwBiPHTtGJ0zadaJEUdSzZ8+w5zX9XhWLxcePH9fW1saFjNzc3D5+/Ehug8+fP2PhDyG0ZMmS7/WLTbYMDSAABIAAEAACQAAIAAEgAAQwARD+4E74DgSEQiHJiYYQ0tbWvn79uqwdQUFB2NPKwsKC7jUj27PxriQnJ3fp0gUhNHr06NDQUKzx6evr48RbEolk27Zt+Jnf1dWV5CkTiUR///03ltgUFRU3b95cXdr7W7dutWvXDiHUs2fPjx8/UhS1a9cu/ITfsWPH0NBQqa1t3ryZ+D2NGzeO6I+km0Qi8fDwYDAYampqDx48yMjIwEV+EUI6OjoTJ05s3749NmzKlCnVWUVmgwYhUFRU5O3tjYWnXr16EVcsHEaNndQw2J49e5LAVTKcoqgNGzZg+XXmzJmy8bD0ns2h/ezZM6xP9e7dOy4ujtzbdbLtxYsXpNRv165dN2/eHBoa+u7L6/LlyyNHjsSaYJs2bbBeRlHUp0+fevXqhRBSU1PDyTGZTKajo2N2djafz8ferBwOhwhSly9fxr8SOjo6WPXT0NDw9/cXiUTJyck47NrIyIicV1lZ2d69e+nB+woKCra2tgEBAdXlcHzw4AEucjJjxgzZg8vKysLZIeXk5NatW4e1PB6Phx2BbWxs6M68FEXl5OTg/oMHD5aqlSwSiUhcs52dHckAcPToUbxHAwODq1evSh2Bn58fcS4eOnRolQG/daUUGxuL3fo8PT3Jck+ePMG/HgoKClu3bpVCER4ejr8dOOA9MjKSDIQGEAACQAAIAAEgAASAABAAAt+RAAh/3xH+T7307t27SeTp2LFji4uLZXGEhYXh520zMzPPdtxrAAAgAElEQVSpiDPZzo10JSAgQEFBgclk7t69u7S0dOLEidhRaOfOnRRFvX37tkePHli7DAsLIzZg9Q0rdGPGjJGV50hPoVCIHRtVVFTu3r374cMHrDOqq6ufOnWKdMON9PT0wYMHY3UJIaSsrHzmzBmpPnhprJucOHFi5syZWJfs06fPrVu3KisrT58+jQuwGhsbx8bGSg2HtzUQ4PP5vr6+OLDUycmJlICorKycPn06PhcGg7F+/XrioUmf7d9//8X3/Pjx45u/5BoSEoLvk1mzZhGvLvp2vtoWCoUrV67EWEi2RFVVVd0vLxI9zWAwFi9eTDzpXr9+jd1gyX0+adIkUgD39OnT8vLyDAaDCFInTpygR+JjTQq7m/H5/FmzZuHvwv379+kGx8fHr1ixol27dsQTVl5efsCAAXv27Hn//r3U8d28eROjqFL4O3ToEHYh7NGjx9u3b/EqxKmZ7h2MPxKJRDh5oqam5u3bt+lWBQcHY7nN2NiYuDSmpaVZWlri77u/vz9x9MMD8/Pzx4wZQ1gpKCjs27ePPidu15XSx48fu3XrhhBydHTEMHk8Hk7MymQyFy1aJFW/RSQSubm5kb9JIIScnJzImcraA1eAABAAAkAACAABIAAEgAAQaDICIPw1GWpY6H8IhIWFtWrVCj+vjh49usos8v7+/ji0tmfPnqmpqf8zvknelJWVYUGHhBYSvdLa2vrdu3fkWVdK3SNudwghV1dXKR2Bbntpaam9vT1CSElJ6datW9euXcOCiIuLS2VlJb2nWCz28fGhlyZACA0dOlQqgpgszeFwTExMsCuQhYUFKfSRmZmJE5YpKipKhV7Sl4N2lQQqKipcXFwQQvr6+hEREaTPP//8g0U9BoOxbt06KXWGoqjKykpSGfa3336TOlwyT/NpnDp1CgtqTk5O9XP3S0pK6ty5M0JIS0tr7dq11tbWdGEIf/dZLNaUKVNSUlLIxp8+fYoz3OEO/fr1I856FEU9f/4cp/xbsmQJhkzI46hkZ2dnuibl6+vLYrGUlZVv3LhBlsANkUj06tWr7du3Dxs2DOt6JK7Z09Pzw4cPpH9oaChWeydOnCglZkVFRWGlnsvl/vvvv2QIEf6GDRsmG0d8+fJlnGpw8eLFRFSNj4/HsdXy8vK7du0it1BoaCj++8fMmTPpW8NrHT58mEiomFjfvn3fv39PLMGNulLKzs4eOHAgPVSZhH737dtXNjHio0ePcFA2tgH7F1dXvUTKNngLBIAAEAACQAAIAAEgAASAQKMSAOGvUfHC5NUSKCgoIMU31dXVAwMDpbo+f/6cVEedPXu21PO2VOdGepuUlIRDAq2trXGirqioKOySw+FwBg4ciDP6c7ncAwcO0G2ge/wtWrSIPMPT++B2YGAgzpnVuXPn169fHzhwgP3ldejQIXpniUQSFBRkYGCAk3/17NkTizJcLpeuEeDqtBs3biR+TAghExMTujeiQCDA2cfk5OS8vLzoq0C7NgTCwsJUVVWZTCZd6ImPjyfRo+bm5nFxcVJTkYNms9m+vr5SnzbDt3v27MFS5sKFC+sn/J0/fx67ws2cObO8vPzz58/bt2/v16+flpaWpqamrq7u4MGDd+7cKRXuevv2bRUVFawfaWlpBQUF0eGQQODJkyeXl5dLJBI3NzciNllZWdEFO4qicE5MNpst9Q2lz1lQUHD16tWJEydifQ1naezVq1dQUBDeOMnxZ2hoSPfRe/nyJVbHEEIDBgyg12whwp9UcQ+8bmpqKq4G07ZtWzxhWloaLoHCYDBmz55N/0PI2bNn5eXl5eTktm/fTjeboqg7d+6QJKE9evTACiCLxdqwYQPRE/FvQl0pFRcXjx49GiGkq6uL0xq8fPlST08PITR58mQp2frNmze2trb4FMzMzHCEOEJowoQJsqKn1BbgLRAAAkAACAABIAAEgAAQAAKNTQCEv8YmDPNXSyAkJISUwjQ3Nz9+/PjHjx/z8vJSUlKOHTuGnV9wVV+pML1qZ2zoD27evIk1iI0bN2KvveLi4gkTJhChATc6d+785s0bqcVPnTqFVQ+cIk3qU5zqy9/fHyf4U1JSwiU+jx07hp0cJ0yYgDOOicXitLS0PXv24PICDAZj+vTpCQkJ8+fPx7pMmzZtjhw5QlLpi0SiRYsWEQsVFRX9/f2lXA6PHj2KPQenTp1K4lVlLfxJrvD5fNkaCzXsnfh/ubu7E7BisXjnzp2Yqpyc3IgRI27evJmenp6Xl5eQkODp6dm2bVt8KIMGDfou7qs17Ej2I4lEQjISOjo60lUk2c7VXfHy8mIwGBwOh65i5+TkxMTEREZGvn37li5vkUnOnj2Lq10jhGT9XkmtYewFLBQKcTAvjueV9WB9/vw5VurplTR4PJ5sboHS0tJbt25NmzaNyH96enqnTp2SSCQlJSU4xh8hZGpq6ufn9+rVq8DAwH79+uEzxfHddH2fCH8dO3aU/XGQSCQ7duzA3ridOnX6+++/R48ejb/OgwYNkvKnI+n5bGxssGukRCLJyso6dOgQyZ84duzYV69eLV++HP96tGrVas+ePeSPJSTkufaUKisrp02bhv/McPLkSYqiEhMTsU9fu3btcNUgiqKKi4uDg4MHDRqE/9LQuXPn8PDww4cPY29uLpfr7OxcXeZEcuLQAAJAAAgAASAABIAAEAACQKBRCYDw16h4YfKaCAgEgu3bt5MKm/Ly8sbGxn379m3fvj0JaFVQUNixY0eddJmalqzjZ//88w+TyVRUVLx48SIZeuHCBRIYiB/7nZ2dZZWRlJQU7NSDC/4GBAQkJiZ+/PjxzZs3t2/f9vDwGDhwIN6moqLiunXrcNK3uLg47MLD5XJHjx69evXqhQsX9u7dGz/PMxiMSZMmYZ+m9PR07CKEH+Y3bdqEtYySkhLiSom9h2Q1jtevX2P3tM6dO797945s7Sds5ObmrlixYu7cuSdPnkxJSaFrN1XSiIuLwynVWCyWn58fvU9+fv7s2bNJNOsvv/xiamrap0+fNm3akIsGBgZSFYHpMzSfNl0+ls1SVxs7xWLx0qVLEUJycnIeHh61GYL7+Pn54YSAZmZmsjkoxWIxdl5TV1cPCwurrKwkd3uVkbDZ2dm4cPCQIUNwrQyxWOzv729jY7Nr1y6persURZWXl4eEhEyaNAmLj6ampjhGPjAwEEf74hrc2tra9ABbTU1NqTo8fD4fF/fQ0NAg2froEFJSUnDmPqLRI4Q6dOhAd87F/d+/f4+rnbBYLBsbG1dXV2dn5/79+xN5dPjw4biYDK6EjjU4JSWlVatWYYe7srKyulISiUS4jgqbzfb396coqqys7Pfff8fWdu3addmyZcuXLx8xYgTRSc3MzEJCQiiKEggE27Ztw+YxmcxJkybJSp90FNAGAkAACAABIAAEgAAQAAJAoFEJgPDXqHhh8q8QKCsr8/b2Jn5/9GdgnPZuzZo1paWlX5mlcT4uKyvDj+7KysrBwcFkkcLCwqlTpxJT27ZtW+WDvUQiOXDgAM7khRDicrk6Ojp6enqtW7cmkYw4DtfX15eUehAKhR4eHtj3hyyBG/Ly8nPnzv306ROxJCEhYcCAAeTTmTNnRkdHp6enE0ckIyOj6Oho0p80+Hw+9gpUUVG5desWuf4TNh4/fqyuro7VHHNz80WLFgUEBLx8+TI9Pb2wsLD8y6u0tDQ3NzcpKcnf39/c3BwDNzMzi4+PlyKWlpa2YMECuiREP8S2bdsGBATUL2xWaqHGfisQCGbPno2NNzY2TkhIqMeK27dvx4pn//79ccXq2kxy9+5dIyMjOTm5HTt2EIdK+sD//vsPV/vdtGmTQCDYvHkzi8Vq06bN48eP6d1wGxedQAi1atUKOw6XlJRg6ZbJZNrb20dERMg6vSYmJuIvEakiUlpaunTpUlI8l36sCCGSCoAYIBaLXV1dEUJsNrvKahsURQUFBdF/+vT19c+ePSu7ZYlE4uvrSy9gQlbncDjTpk2jFz768OHDr7/+ijtwOBwHB4eHDx/y+fy6UqIoytvbm8FgyMvLkypDoaGhOMEiMYA0BgwYQPfLLikpWbx4MfkdGzBgwPnz54kHIqEEDSAABIAAEAACQAAIAAEgAASagAAIf00AGZaoiYBQKAwNDZ06daquri55UFRUVOzdu/fhw4dln8lrmqtBP0tISDAyMkIIqaurh4eH0+d+9uwZjkRWVlb28fGpziGxvLz84MGDlpaWmpqapKopflRWU1Pr3bu3m5tbTEyM1KN+VlbW/Pnz6U6FbDa7S5cu/v7+sr57kZGR/fv3J4/fzs7OBQUFM2fOxKWHN27cKOuKiDcSFhamq6vLZDJxiDF9dz9VOzIyEudYJAw5HI6WllbHjh2HDh064ctr3Lhxffr00dPTw36X2MXy4MGDVboHlpaWnjp1ysbGRl1dnWRaVFVVHTly5O3bt6sc0gyBSySStWvXYiZDhgypX7Tmw4cPcVY4Fou1fPlyom7XvF+JRHLp0qWlS5fSNW76kPLy8oULF8rJybm5uUkkkqKiIk9Pz927d5Nod3pnXHq7Z8+eGhoaOJteZWUl0TRxDrsJEyasXLlyw4YNGzdudHd3X7x4sbW1NfFEXrlyJT61/Px8b2/vDh06cDgcLperoaGBndqqK+cSFBSEv8WjRo2qMtWdQCA4ePCggYGBvLx8jx49SEpBKfspiiooKFi2bBnxrcPfblNTUx8fn/z8fKn+cXFxNjY25N6bMWNGZWVlXSlRFBUcHKysrKykpERqdAgEgr179+KcA+T7oqur6+LiIhWejFMZODk5Eb2yV69etRd/pXYEb4EAEAACQAAIAAEgAASAABD4FgIg/H0LPRjbYATKy8tfvHhx6NChjRs3enl5Xbp0KT09vcFmr9dEcXFxOC9b+/btX79+LTVHXFzczp07z50791VpMi8vLzIy8sCBA+vWrVu9erWbm5uPj8/9+/ezs7OlJD+yRElJybVr19zc3FxcXNzc3I4fP/7hw4fqOr97927NmjXW1tbz589/8eIFRVGxsbGzZs1av349jm0k09IbPB5v7dq12tra1bkj0Tv/wO2SkhJXV1cDAwMNDQ0SkEtEjSobbdu23bNnj1R9AylEBQUF4eHh//zzj7u7+44dO+7evVtlPjupUc3qbUxMTJ8+fUxMTOhx7nWysLKycvHixZihoqKiq6trdQJiXl7eo0ePjhw5sn37dhy1Wp1gjQ14+/bt4cOHSS1g0ZdXdbZJJJI7d+4EBgYS3+G4uLjJkycTTarKU8YXjYyM6DG8EokkISEhICDg9OnTYWFho0aNQghpamrSK34QM/Lz82fNmqWhoWFhYVFdQL1QKHz69OnFixdlf2HIPLhRXl7+33//rV+/3sXFZfXq1YcPH05KSqpOR05NTfXw8BgyZMisWbOII2RdKRUUFCxdunTKlCn0lJQikejZs2dbt251cXFZsWLFzp07o6OjeTyelLX4bVFR0aFDh0aNGmVnZxcYGFjzmVY5A1wEAkAACAABIAAEgAAQAAJA4NsJgPD37Qxhhh+TQGFh4aRJk3755ZfFixd/Vd1rJATViX1Sy4nF4sLCQvpzNY/Hq84PkYwtLi6OjIyUqqlKPv15GpWVlSkpKU+ePPHz81u2bNmUKVOsrKzat2+vp6enq6urpaXVqlWr1q1bd+zY0c7OztPTMzo6+qtsfwx6r1+/jo+P/5bY5KSkJFL3ls1mDx069NChQwkJCZ+/vN69e3ft2rXVq1cPHDhQQ0ODxWIxGAypzImNRLKwsPDQoUPW1tZ0Nzq6AqiqqjpkyJDr169Xt/3MzEwcaG9jY1Odwp6fn//ixYvk5OTqJqnH7mr5m4B9IauT5Gq5bmVlZUlJSZUrVnmxymlLSkpq6exZ5XC4CASAABAAAkAACAABIAAEgMA3EgDh7xsBwvAfmUBycnJYWFiVYXo/8rZ/7r1VVFQUFBRkZGSkpKS8e/cuJibm2bNnb9++zcjIAP2iHrfG8+fPbW1tiTclh8PR0dFp8+Wlq6tLkmBi0a1169ZXr16txyr1G5Kfnx8WFrZt2zZnZ+f5X15OTk4rV67csWNHaGhozV/8W7duqaqqMhgMb2/v+q0Oo4AAEAACQAAIAAEgAASAABAAAk1AAIS/JoAMSwABIAAEfl4CaWlpnp6eHTt2JPIf3bdOTk6uVatWPXv2nDNnzq1bt77RSa1+lCUSCY6EraVrnlAoXL58OUJIX18/KiqqfovCKCAABIAAEAACQAAIAAEgAASAQBMQAOGvCSDDEkAACACBn5qARCJ5+/atn5/fzJkzraysunTp0rdvX1tb2wULFvj5+T19+jQnJ4ceq97MYb1//7579+4IIXt7e9mSO83ceDAPCAABIAAEgAAQAAJAAAgAgZ+KAAh/P9Vxw2aBABAAAt+TAJ/PLygoyM7Ozs3NLSoqqqWH3fe0uKq1jx49yuVy2Wz2T14bpyo2cA0IAAEgAASAABAAAkAACACB5kUAhL/mdR5gDRAAAkAACDRnAiUlJZMmTUIItW/f/tWrV83ZVLANCAABIAAEgAAQAAJAAAgAASAAwh/cA0AACAABIAAEaksgIiJCX18fITRnzpzKysraDoN+QAAIAAEgAASAABAAAkAACACB70EAhL/vQR3WBAJAAAgAgRZIQCKRbN68mcFgqKioXLlypQXuAEwGAkAACAABIAAEgAAQAAJA4OciAMLfz3XesFsgAASAABCoN4HMzMyBAwcihKysrDIyMuo9DwwEAkAACAABIAAEgAAQAAJAAAg0DQEQ/pqGM6wCBIAAEAACLZ7AlStXVFRUEEKOjo4tqAxxi+cOGwACQAAIAAEgAASAABAAAkCgvgRA+KsvORgHBIAAEAACPxMBHo83f/589OW1bt06iUTyM+0e9goEgAAQAAJAAAgAASAABIBAiyQAwl+LPDYwGggAASAABJqYQGFh4a+//ooQYrPZe/fubeLVYTkgAASAABAAAkAACAABIAAEgEA9CIDwVw9oMAQIAAEgAAR+OgI8Hs/R0REhpKCgcPny5bruXyQSXbly5Z9//snMzKzrWOgPBIAAEAACQAAIAAEgAASAABCoHwEQ/urHDUYBASAABIDAT0fg+vXrFhYWf/zxR2pqal03X1BQMHz4cISQp6cnhAnXlR70BwJAAAgAASAABIAAEAACQKB+BED4qx83GAUEgAAQAAI/HQGhUJiXl1dWVlaPnefn59vY2EBhkHqggyFAAAgAASAABIAAEAACQAAI1JsACH/1RgcDgQAQAAJAAAjUlgAR/qZPn87j8Wo7DPoBASAABIAAEAACQAAIAAEgAAS+gQAIf98AD4Y2GgGBQCAWixttepgYCAABINDUBIjwZ29vXz+fwaa2GNYDAkAACAABIAAEgAAQAAJAoOUTAOGv5Z9hC9yBSCTKzs5O//L6/Pnzx48fk5OT4+PjIyIiTp8+vXLlytmzZ7u4uISGhoL81wKPF0wGAkCgCgK5ublDhgxBCNnZ2YHwVwUguAQEgAAQAAJAAAgAASAABIBAIxAA4a8RoMKUXyNw4cKFrl27Gn15tWnTRk9PT1dXV0dHR1NTk8vlov/7srKySk9P/9pk8DkQAAJNROD9+/enTp0KCwurrKxsoiV/oGXS09P79esHwt8PdKSwFSAABIAAEAACQAAIAAEg0AIIgPDXAg7pBzNRIpFs2LDh/4p7Nf3fu3fvT58+NfH2xWJxRUUFeBo2MfbmtlxaWtrjx4/z8vK+aphEIikqKsr78iosLBQKhV8d0kI7fP78ecSIEWw2W0tLa/78+Y8ePcrPzxeJRC10O01vdnp6et++fRFCEOrb9PBhRSAABIAAEAACQAAIAAEg8NMSAOHvpz3677nx2NhYCwsLJSUlZWVldXV1HR0dfX39Nl9e2traLBYLy4GOjo5NnAJfJBKdPHnSwcHB2dl57969z58///y/r4yMDCzxFBQUlJWVlZeXCwQC0D6+583UCGs/ePDA0tKydevWgYGBNUxfXFwcEhKyYsUKGxsbiy+vIUOGLFiw4NatWwKBoIaBLfSj8PBwVVVVItVrampaWlo6OTnt3bs3Ojo6Pz+/he6rycz+8OFDt27dEEJQ3KPJmMNCQAAIAAEgAASAABAAAkAACIDwB/fA9yHw7t2769evBwcHP3z4MDExMSUl5fPnz+np6Xfu3DE0NEQIycvLHz9+vImNe/PmTadOnbC0wWQytbS0sByJ/9XX1+/QoUO/fv0sLCwGDRpkZ2c3ceLEP//8c/78+X///fejR48kEkk9DBaLxdnZ2eXl5fUYC0ManEB0dHT37t0RQlwu99SpU1XOX15efunSpTFjxtCFMKKIaWlp+fr6/njaX1xcnImJCdkmaTCZzFatWg0cOHDVqlUhISG5ublVQoOLSUlJZmZmCKE//viDz+cDECAABIAAEAACQAAIAAEgAASAQBMQAOGvCSDDEnUgcPv2bTU1NYRQjx493r9/X4eRDdH17du3PXr0IIpGnRrjx48vKSmphxWFhYXTpk37+++/6ze8HivCkOoIfP78eeTIkfjc5eXlqxT+kpOTFyxY8Msvv5DbQ0FBoVWrVhoaGkwmE180MTF59epVdau00OsCgWD//v0GBgZk47INFRWVAQMGbN68OTY2FjxhpQ769evXHTp0QAgtWLCgZcEpLi4OCAjYsmXLj3dXS50RvAUCQAAIAAEgAASAABAAAj8eARD+frwzbcE7EggEy5Ytw2qCm5tb0z8bSySShw8fzpkzZ9asWQsWLJhPe/31119jx45ls9kIofbt20+cOLF79+66uroaGhpKSkpaWlqbN2+unxdPfn7+kCFDVFVVw8LCWvDhtXzTy8vLly1bRsS7KoW/iIiIQYMG4VuUwWC0a9du3rx5Fy5cePr0aURExIoVK3B1GlVV1fv377d8JNI7EIvFW7ZswYhYLJatre2ff/45YMAALS0tBoNB1wGNjIxWr17d9Nq9tMXN6f3z58+1tbURQitXrmxZWUR9fX0VFBQQQra2tnCmzemeAluAABAAAkAACAABIAAEgMDXCYDw93VG0KPJCMTFxbVv3x4hpK+v/+TJkyZbV2oh/peX6H9fFEWFhoaqqqoyGAxPT8/y8vLs7OykpKRHjx5dvXr12bNnFRUVUvPU8m1WVpaVlRWTydy/f38th0C3xiAQEBBAD92VFf4iIiJ69uyJ5S19ff01a9YkJibSq3ns3buXCH+hoaGNYeR3n9PPzw9n4ezatSvefl5eXnR0tI+Pz5gxY/T19bE4jilZWFiEhITULwT+u++0wQ149uxZq1atGAyGl5dXg0/eeBOKRCJnZ2d8oHJyco6OjrUpetN49sDMQAAIAAEgAASAABAAAkAACNSJAAh/dcIFnRuXwD///IM1BQcHh3rraI1n4pMnTzQ1NZlMpp+fXwOukpmZ2b9/f4SQs7MzXUVqwCVgqq8SiIuLw4UXiNualPCXnJw8ePBg/Gnv3r1v375N90iVSCQXL140NjbGHTgcjr+//1cXbYkdvL295eTkEEKLFy+mE6AoqrS09NWrV0ePHnVxcWnXrh1GYWRkdPHiRdD+KIrCwp+cnNw///zTso7+8ePHVlZWWNJlsVgeHh5SR9+ytgPWAgEgAASAABAAAkAACACBn4oACH8/1XE3u80KhcKysrKioqLc3NzExMRff/0VISQnJzdlypRDhw4FBAS8ePGi+WhhL1680NHRaXDhLz8/39bWFiE0ZsyY4uLiZndIP4dBV69eNTEx0dbWtra27tq1Ky4vQ3L8lZSUzJs3DwteXbt2jYyMpFMRCoWnT5+WSn63aNGiH08cEQgECxYswJVPTpw4QYdAb0skkujo6MmTJ2P/x44dOz5+/JjeoZm3xWJxfn7+u3fvnj17FhMTk5OT0yAGR0dHa2pqstnsgwcPkgkFAsG9e/cCAgJqswrvy4uMbcpGWlravn37bG1tdXV158yZ0wz/MNOUNGAtIAAEgAAQAAJAAAgAASDQggiA8NeCDutHMzUhIcHFxcXe3t7GxqZ79+56enokSJD15cVms42NjYODg5vJzrHDToMLf2VlZXZ2dgghCwuLjIyMZrJZPp//4+lWNbDl8Xhv376Ni4vLzc11cnKSEv7u3LmjqamJLx46dIg+z/9h77zDojq+/z+wy7L0Lk2wACpib2hUEI0aLNhLrLGhJooGYkP92DD2ghVbNAEVIUpAiYINQUARKyhVpQgI0ttSdvf+nsfzfeZ3n911BQEjevYPnuHemTNnXvfefZ773nPmFBUVbd++HfZuo9GChJBFixZ9fQALCwtBnTczM3v48CGbg3Q7NTW1f//+wGTevHkCgUC6DxypqakpLCzMz88vLy//UJ/PcFwsFqenp58/f37p0qXfffedqamp/vvP4MGDnz9/Lu1AbW1tvbb1jIiI0NHRUVZWPnv2LLV27tw5ExMTHo+3du1a+ZWgk5KS5s+f/9NPPz19+pQO/8yN4uLi9PT0/Px8DOH8zORxOiSABJAAEkACSAAJIAEk8MkEUPj7ZHQ4sEEE8vLynJyc2EKJzHarVq0uXbrUoJkab3C9hL/a2trU1NSgoKCTJ0+eOHEiICAgLi6uuLhY2p2qqqrp06cTQjp27JiSkiLdoY5HRCJRXFxccHBwbGxsXcIkS0pKwsLCrl69mpmZyZ5CLBZfu3Zt5syZy5cv/1ARz7y8PB8fn99//z0iIuIrk7dqa2vnzJkjIfwdOXIEktBNTU2fPXsGuADg1KlTIa5NSUlpxIgREydO5PF4X6vwl5iY2L59e0KIg4NDUVER+7ZhGKampqaoqCgjI+PevXteXl6TJ0+GCt2EkKlTp8oU9d69e+fj4zNnzhw7OztbW1snJ6cdO3bU8SlIS0u7evXqnTt3ysrKJDyR/re6ujomJmxaSR0AACAASURBVCY4OPj58+fSolVhYWFUVNS6detsbGzgarK/jpSUlM6dOydhMyUlZfny5bNmzQoKCpL5CFRVVd24cWP79u3nz5+HSN4bN25oamqqqqr+888/YK26unrmzJkw14ABA+QE/dXW1q5YsQJ67tq1S8IZ+q/00uipujQEAkFUVFRwcHBSUlJd+n+oTwPd+JBZPI4EkAASQAJIAAkgASSABJDAJxBA4e8ToOGQRiCQmZlJq6Oy37EVFBRUVVUNDQ379OmzatWqmJiYumhYjeBQHUzQvfl37twpv3tSUtJvv/1maWmppqYG0YuqqqpGRkbff//9oUOH3rx5wx5eVVU1Y8YMQoi1tXVycjL71Ifa1dXV169f9/HxoZqdUCj866+/rKys1NTUzM3NT58+zS4bmp2d7e3tHRoaSqOucnJyFixYoKOjo66uPnTo0MTERDpXSUnJqFGj4KK4u7tLv8NXVVW5ubmBvNWxY0eZwVDUWrNrCASCqVOnSgh/p0+fhvWqqanNmzdv06ZNv/3227Bhw3R1dQGUhYWFh4dHYWHhxYsXVVVVv1bh78aNG6DltW/f3t3dff/+/RcuXLh8+fKxY8fc3d3nzJljb2/funVrPT090EkBjrW19Z07dyTuBLFYfPv27WHDhvH5fPY3ACGkR48eN27coP3FYvHDhw//+OOPZ8+e0bvx7t27/fr1U1dX19XVXbVqFVtVLCsru3Tpkr+/f0FBARiprKzctm2bsbGxmpqajY1NSEgINS4SiQIDA+3t7SGik3rC4/F0dHSM3n/69Onz4MEDOgQae/bsgULGdnZ2MgW7S5cuGRkZEUI0NDQgLTooKEhNTU1DQ4M6UF1dDSozIaRTp06vXr2SmIX+GxcX165dO0KImpra+fPn6XGGYQQCQXh4+LZt21xdXZctW7ZmzZrt27eHhobKz8YtKiry8/MLCAig2wuUlpauXbvWwMBATU2tZ8+ed+/eZc/y0bZIJHr27NmBAwdWrly5dOnSVatWbd68+cKFC1gJ5KPosAMSQAJIAAkgASSABJAAEmhSAij8NSleNP5BAvAy/7///W/x4sW//vprjx494JW7X79+fn5+8fHxX2A22cOHDyGjc8uWLVSAkFhhYWGhl5cXbBJHRQR2g8vlfvfddwEBATStj0b9mJmZSSTxvXjxYvfu3Rs3bgwLC2NHFSUlJXXs2JHD4bi5uYEwGhISwt5jrl27djExMdS3w4cPq6iotGzZEvSXyspKV1dXDodDHXN2dqZhU5mZmb169SKE6Ovrywy3TEtL69atG4w1NzenEXB0umbdKC8vHzt2LCFERUWFxnk9f/7cxsaG4mI3TE1Nf/vtt/j4eFBaT506BSFjX+UefydOnAABlBJQUVFRV1dn30v0FCFER0fHyclJWkISiUQXLlygBUA4HI6BgQFVUQkhffv2pSpYaWnpxIkTCSGOjo7v3r1jGCY5Ofm7776jE2lqanp7e9O7LiwsrEWLFmpqarS+yh9//MGu1zxgwIDXr19D/+fPn3fs2JGaUlRUbN269fz580+fPh0REZGQkJCampqTk8OW0RmGEQqFP//8M2xI6urqWlVVRWeHRk1NzeLFi8Esj8eD9HBfX18+n6+trc2WQf39/UFL1dfXl1PKfMeOHQB58ODBOTk5dLqsrKxff/3VwMCALgEa+vr67IRi2p82Ll++rKurq62tDd1EItHevXtVVFSonREjRrAnogNlNsrLyz09PS0sLEAMpUaUlZVXrVpFf2+QORYPIgEkgASQABJAAkgACSABJNCkBFD4a1K8aPzjBMRicUlJyejRowkhSkpKR44c+fiY/6hHQkKClZUVIWT9+vUyhb9nz56NHTuWnSrI5/NHjBixZs0aNze3oUOHUvVBX19/79698D4sFAqhYIK+vn5sbCwsTigUXrp0qWvXrvAKbW5u7u/vT9ednJzcoUMHQsiYMWMEAkFKSsqAAQPoyzY0XFxcqLZ46NAhLperrKwMStbp06epJ9BZX1//1q1bYP/p06dmZmaEECcnJxoNRKdmGObff/+lwxcsWFBRUcE+29zbJSUljo6OEFoVGBgIyxGLxX5+fpaWlmzIurq606ZNu3v3LjsoddeuXRwOR1FRcfv27c0dhYT/QqHw119/ZRNgt2mInIWFxeDBg+fPn799+/awsDCZt9CVK1datWoFw62srHbs2PHkyZOoqCh3d3djY2MIt6TFQ8rKymATTGtr65cvX0KhFQmBycHBITc3FxwOCwvT0dEhhPz8888Mw0RGRkJ6MvVWSUlp//790Dk4OFhNTY2e6ty5c2RkpITMJ8GBYZiKiorx48cTQszMzOgzy+6WnZ3dr18/MNu5c+eEhASGYSBuVFdX9/79+7RzSUkJRJiqqqqyn3HagWGY1NTUnj17EkK0tLTY4X6JiYnjxo2DmjMcDkdPT8/ExMTCwsLW1lZXV7dNmzZ79uxhx0KybUL4ISHEw8ODYZjQ0FD2LwcgfJ85c4YOqa2tvXnzpre3t/QFLSgocHNzo6KhlpaWsbGxubl57969TU1NtbS0li1bRmOTqUFsIAEkgASQABJAAkgACSABJPB5CKDw93k44yzyCMTGxoLSZG5u/tGKAfIMNfG55ORka2trQsgvv/zCjr+j027bto0qCIQQbW3tTZs2FRYWQofi4uKrV69OnjwZhAZtbe0TJ06IxWKRSPTLL78QQnR1dSHkp7a29vTp06ampmxr3bt3pwm5WVlZffr0IYSMHTs2Li5u3LhxoIOYm5tTcapnz57p6ekwtY+PD//9x9vb+9KlS6C5cLncLl26QLSRgoLC//73P1Azr127pqGhQQhZs2aNtL4pEonWrFkDjrVq1UpOjBLF0rwaBQUFQ4YMgQzNq1evUudFItGjR4+2b9++ZMkSZ2fndevW3bp1S0L0FIlEII3x+Xx2DBo10qwbpaWlINATQhQUFHR0dExMTFq3bj106NA1a9b89ddf4eHhSUlJWVlZxcXFbDFUYtXx8fEQMaqgoGBvb88ukVxbWwsiuIKCAghSDMPQXPiOHTvGxsauXr0asoO1tbW7dOkCFYF0dXWpcv3w4UNDQ0MQ/mJiYqgAZ2lpSbWtMWPGgICVkZExYsQI+qAZGBisW7eOxgNKeE7/ffv2LdQtGThwoMw839DQUHiyeDzenj174Dk6dOgQh8MxMjJ6/PgxNcUwzKVLl9TV1QkhmzZtkn7ihELhpk2bIHV6+vTpVHeLj493cHAAz7t167Zv37579+69evUqJyfn8ePHEKCqra0dEBDAnou2w8LCtLW1gXN4eDj9jaFDhw4mJiZgdsaMGTRYLz09vXfv3urq6r6+vtQIwzBQDAeugpmZmbu7+61bt1JSUt68eZOZmQnBs4qKips2bZL5nck2hW0kgASQABJAAkgACSABJIAEmoIACn9NQRVt1o/AkSNH4L1x1KhRMstf1M9ck/Wmwp+zs7NMXcPT05NubdaqVau//vpLOgewvLx87969kNXYpUsX2ER/48aNIBSGhYUxDHPmzBlQLkB+ApsKCgobNmyAWKTU1NROnToRQrp27Tps2DAI+YHNy6Kjo+EdXkdH5+bNmwDj6NGjSkpKPB5v7NixkF/J5XLnzZuXmpq6a9cuCNUZNWoUaApnzpxRVlbmcrkHDhyQZpmVlQVKiqKi4qpVq2hQoXTPZnokNzcXwie1tbVv374tvQqxWPwhCaOqqmratGmEEFVV1b///lt6bLM+kpGRAXFnmpqaq1atioyMfP36dVZWFpWi6rI6gUDg4uICupKlpeXly5fpVnQCgSA4OBgUK3bwb0VFxbhx4wghLVu2HDduHGyhqK+vf+jQoZSUlEmTJhFCOBzOvn37wIHw8HCI+OvXrx/o44QQOzu7mJiYK1eugPZnZWUFUXgMwyQmJk6aNImmMCsqKvbo0ePgwYNygtQSEhJAYXdycqI58nT5QqGQFuIYOHAgtbNjxw4FBYX27dtLlM5ITU2FdOOJEydKSMkMw4SHh7du3ZoQ0qZNG6qzZ2VljRw5EjCOHDlSoghPVFSUvr4+nB07diz97YF6yDBMcHCwurq6goLCsGHDunTpAp0dHR2fPn3q6+sL3z89evSgPx7Qb7+1a9dSdbKysvK3336DL6hOnTqFhITQUwzD5Obm0rLOHTp0kHCS7Qy2kQASQAJIAAkgASSABJAAEmg6Aij8NR1btFwnAgKBAGraKioqbtmypU5jmrKTQCAoLi5mv77S2ZKTk+H9fMqUKTQQhp5lGOaff/6h0Xx//vmnTCMMw1RXV69atUpRUVFZWfn06dMMw2zZsgWEv1u3bvn7+7ds2RKyHWfOnHn16tX58+eDtNe3b9+srCyGYZ48eQLxgDTh0crKilYMWL16NSFEWVn5jz/+APe2bdsGFqC/oqLijBkzYAOv9PR0CL/q3r07vOTv3buXw+FwudxDhw6xVwft06dPg/LSuXPnFy9eSHdo7keysrJ69+4Nl0Om8CdngSUlJRA+pqmpSS+HnP7N69Tjx4/hrnNwcKB1M+q7hDt37tCAMmVl5VatWo0ZM2bFihWrV6+eMmUKlassLCwePXoExgsLC4cOHQphhqBPaWpqenp6guj8999/ww1J5fjg4GAIWaVPh62tLVgTCARTpkyBnNnr169T59+9e7dv3z4bGxs6RElJqWfPnjt37kxOTpbO/L137x64OmbMGOlcWrpvoJqaGk1YFovFmzdvllm8u6KiArxq3769xDOVlZUFd5SysvLOnTtBcRYKhVu3bgW5rW/fvtLVdY4cOUJ1TA0NDT8/P7pS2jh//jwo/nTJgwcPBjGUZrvr6+vTeEy69eecOXOo3B8UFAS/YZiZmV2+fJkah0Z4eDj9AUNBQcHd3V3m7yUSo/BfJIAEkAASQAJIAAkgASSABBqXAAp/jcsTrdWbQHp6evfu3Qkh6urqQUFB9R7fqAPi4+PnzJkzaNCgnTt3QhkBtnla1MLR0VFmZOLly5chZe9DCYDUGhRJUFBQgDohW7ZsUVBQUFdXnzdvXps2bSDQb9OmTRBL9fTpUwjTo0F8d+/ehZgm0EEMDAzYO39BYVkaAyUSidzc3KAn/B06dCitnFBZWfnjjz8SQiwsLEB02LFjh6KiIpfLPXjwIHUYGqmpqRDux05glOjT3P99/fo1hEzSzOu6rygvL8/Ozo4QoqenR4Oz6j78C+95/fp1TU1NQsiPP/4oHcpaF+erq6uhJoaCgkK7du3Y1TzY96eamtrevXtpWOXbt2/ZpTx4PN7atWup8h4fH29hYUEIoXL8hQsXQAoEm1ZWVmwBd/fu3RwOR1VVVbpwTXJy8rZt2/r06UN3/VNUVGzfvv3q1asfP35M/WEYhj6ATk5OEsKfQCD49ddfQWcfO3YsVUjFYjHo+506dXr58qUELk9PTw6Hw+Pxjh49Sk9VVFQsX74cBL6xY8fSbyQadWtmZnbt2jXaHxoZGRkSBdOHDh369u1biW7Hjx+n4iAhpEuXLrRysUgkcnd3J4RoampSebSgoGDw4MGEkCFDhkCh3urq6nnz5sFugHv27JGQRysrKyFrm17Ztm3bsisOSfiD/yIBJIAEkAASQAJIAAkgASTQRARQ+GsisGi2rgRu3boFGlbbtm3/21wwsVi8du1aeE1VUlJycnK6evUq+60+NTUV8hAHDhxIKwmw10n3y3d0dJST/1hWVgZBjlRc27Jli6KiooKCAhTuBGmDpkCWlZXBVlk8Hs/LywvKa0BME1RE2bBhA43BYRgmNjYWAm1WrVolFotrampmz55NX7+trKzYmpRYLIZEY6pVnTx5EhSBxYsXV1dX0wXm5OTMmDEDFI0BAwZkZGTQU19Tg6Y0smut1HGBb968gYLIbdq0kY7DqqORL7abn58fCGozZsz4NOEvKSkJitK0bt36xo0bFy9eHDBgALsYDofDsbKyOnjwIDvj9eXLl5DYDvfw5MmTqQTGMEx+fj5sdffDDz+AHO/l5UUlLU1NTQiqpVQDAwPV1NSUlJSg0i49Thtv374NDAycNWsWlPCGSVu3br1mzZq0tDToFhcXBxtl9ujRg63i1dTUeHp6QukbfX39K1euULNU+DM3N4+Li6PHoXH//n2IpqRFe0UikZeXFyitHTp0YNcDefDgATzg0hdCIBCsXr0adk7gcrkQzaeiosLWE2FGGgVMCDEwMLh48SLbJW9vb2VlZRUVFVpvpLy8HEqsmJubwx6F7969GzRoECGkT58+b968YQ9nGObs2bN6enqQhU2LPi9atIgqthL98V8kgASQABJAAkgACSABJIAEmogACn9NBBbN1pXAoUOH4DV1wIABMtW0uhpqcL/a2tq5c+dSgQySPSdPnhwSEgIyRHx8PGy21a1bNyoBsKe9fv067Ojfs2dPGlLH7sAwTElJyfbt2+F9vkePHhBkt3LlSva8EtKGWCzesGEDvMO7uLiIxWJvb2+ob0AIGTZsWHZ2NnuWjIyMHj16QOmP8vcfJycnsM/n8z09PSVykGFTPz6f7+PjwzDM7du3IY3RwMDg0KFDIKa8evVqzpw5EHzE5XL37NnDnvFraicmJkIR2E8Q/lJSUiAZvEePHl+fMOrl5QWP6rRp0z5N+KMhsfPmzQNNOScn5+zZs8uXL583b96vv/56/PjxhIQEifszNjbWyMgIbmBLS0uafAp3nUAggH0Vra2tk5OTGYbZuHEjTV+dN2+exB58MTExUDh4+fLl7CA+iXtYIBCEh4c7OztDZ5h9yJAhkDL87t07CH9TUlKaP38+POylpaWenp40W1lix1Iq/Ono6ERGRkpMV1ZWNmPGDEIIj8dbvnx5YmKij48PlDzS19eHYtx0yJ07d+B7RqLudlFR0datW+G7RV1d3d3dHVKkCSE2NjbsSYVCIRQUIoQoKiq6urpK6HE3b96EKTZv3gyXo7q6etasWRDfB/HF2dnZsIWitbU13TARtjK4cOEChGEqKirOmTPH2dkZ7hx9ff2//vpLDna6RmwgASSABJAAEkACSAAJIAEk0FgEUPhrLJJo51MI1NbWOjs7w0v16NGjJV7RP8ViA8aIxeJNmzaBM+y/Ojo6EyZM2LBhw/Tp0yE6ydzc/NmzZ9JTvXnzBjazV1JSWrhwYVpaGpUwampqcnJygoKCxo8fD1trtWzZEpIN6Rs1TGpjYyNd2vjmzZsQPjNo0KB3795BuiIhRF9fPzAwUMKT8vLyCRMmEEI6der0+vXrd+/eQbUKQsjw4cOl1dWIiAgwvmLFCrFYXFhYOGrUKHBGTU1t5MiRy5cvt7W1hVg/qLHwFafsPXr0CEK9PkH4S0tLgzRhe3t7mcVeJa5U8/p3x44dELr1oVT3jy6HBpOuXLmSnRkqFovl7P4WEhIC8a1cLtfDw0NaNvr9998VFBQ0NTWvXbsmEokg/5QQYmlpSdNXqW/Z2dmQrj58+PCioiI4/vr1ax8fn8TERLZXoGFFR0cvXLiQKo9DhgyBmr+7d+8GMQuKgbi4uIwbN47mCHO5XFpsBKaAPf4goz84OJj6QxuhoaEQx8flcg0NDWHTAB6Pt27dOgmZlerLmpqaHh4eiYmJz58/P3v2rJOTE/weoKysvHr16oqKiidPntja2sKz3Llz58uXL8MCKysroSgKFAhiy3bgD41upvVGRCKRq6srCIW///47wzBlZWUTJ06EmL65c+c+fvw4OTk5ODh4wYIF8H2ioKAwfvz4jIyMvLy8WbNmwReIoaHhvn372BGdlAA2kAASQAJIAAkgASSABJAAEmgKAij8NQVVtFlXAkKhkJb4HDZsGH0Pr+v4xu6Xnp6+Y8cONze38ePHW1hYsJMQ2VKglpbWrVu3pCcXi8X79++HNEMOh9OtW7dffvll7dq1q1ev/umnn7p37w4v84QQKysrX19fkDDoxnBQDfbUqVPSlvPz8yF4x9jY+P79+1B/gxDi7Ows8xV669atsFHg5cuX8/LyYM8vfX19mbsoZmVl9e3blxAyePBgSKIMCgpi5zmy104IGT16tMwtDqXdbo5HIiMjab2Cp0+f1msJFPXIkSNLS0vrNfYL7ywWi9evXw+RdFZWVp+WyHzq1Cl4OgYPHiwtQH+IQEhICESf9e/fnxaZZXf+999/NTU1FRQUNm/eXFVVBVvLcbncrVu3SquEdGe6Vq1axcbGMgwDij+Px7OysvL09JT++UEoFEZEREB0G4fD2bp1K8MwaWlpsJ+jxNMB/7Zs2VJaHN+zZw+UzZFZL5u9OSAYUVBQ+Omnn2BDPfZ6a2tr3d3dQUfj8XhGRkaGhoY0BFhNTW3t2rX09rt9+7aVlRUYNDMz8/LyKikpqayshHIifD5fZg2f8vJyEPWsra0TExNhdvi9QVFRcefOnXDkwoULkNfM4XAMDAyMjY3pFgQcDmfq1KkgkjIM8+rVKxp+qKqqumLFijdv3tDfRdirwzYSQAJIAAkgASSABJAAEkACjUsAhb/G5YnW6k3gr7/+An3NxMREIomv3rYab0BFRcWrV6/++usvR0dHqtbRN/zvv/+evtBKzJmXl7dgwQIa+EOH0Ia+vv706dPZK83NzaWb8cuMyIMpDh06xOPx+Hy+r69venr62LFjra2t2Tt/sT15+vQp5Jxu2rRJKBT6+/tbWFjMnTuXvWUh7S8Sifbs2QNxRhBsWF1dfejQIcg0pJ5Dg8vl7t27l479+ho0HdXa2jopKaleC6yuroYMysmTJ0vkTtbLzhfYmb0DpomJCUhm9fUzLCwMMmFVVVWPHDlSx+GlpaUrVqwwMTE5c+aMzCH5+fmwCebo0aPLy8sfPnzYt2/f/v37fyjdPiQkxMjIiMvlent7MwzDjjtWVVWdOnWqv7//8+fP09PTM99/EhIS/P39odYzIWT8+PGgtkdERPTr149GwrKfFJnieGBgIOhiEyZMkLkHaFpaGs3KV1JSmjZtmswtBRiGefnypb29PXtGaLdr1+7YsWN0e1CQNf38/OizrKKiMnfu3IKCgoiIiG7dug0fPhyqe0uD9ff319LS4vP59NeCCxcuqKioKCkp0XLhpaWlixYtkiagr6+/Zs0aCW03NjYWdsCEIEE7OzvpvQ6l3cAjSAAJIAEkgASQABJAAkgACTSQAAp/DQSIwxtKID09HSJBNDQ0bty40VBzjT2+sLAwKCjol19+sbW1NTU17dix49q1a1NTU+XMU1JSEhAQsGzZskGDBpmZmRm//1hYWIwePXrbtm2RkZESMXoikejIkSN6eno2Njbs8qMSU2RmZkKEEeyv9+bNm4cPH34oQVIsFh85cqR///5Q9FMoFD569EhmtBTMkpOTM2nSpNmzZ9Pqn0KhMCoqytnZuV+/fo6OjjNmzDAxMSGEGBsbR0dHS/j2Nf17+/ZtiC/r2rXrh2QXOeu9e/duq1at5s+fzy63Iqd/MzoVGBgIdXh++uknGlBWL/+Li4snT54MEpWFhUVQUJCcmC+hUFhUVJSTk1NZWVlSUhIdHS1n0lu3bvXv33///v3wRCQnJ8fHx3/IeFVV1Zo1a4YOHQob9jEMExgYCMU6wDcVFRVDQ0NTU9OW7z9GRkbsMsHLly+nFzctLc3Dw2PQoEH29vazZs2CvTU5HM6uXbukybx58wYeYQMDA/aOe+yeKSkpy5YtGz58+NatW9k1TNh9oB0XF7dw4UILCwsItevataubmxtdEbu/UCgMCAiwtbXl8/nq6uoLFy4Eks+fP6fRfOz+0C4vL1+6dOmoUaNoIvCrV69sbW319PRu3rxJ+799+3bz5s2dO3du0aKFoaGhlZXVrFmzrl69yq4LRDs/ePDAyclJQ0ODz+cPGjQoJSWFnsIGEkACSAAJIAEkgASQABJAAk1EAIW/JgKLZutBICUlxeP9R/6Lbj0sNnZXoVCYn5+fnp6ek5MjsQvYh6YSi8VFRUXp6empqakvX7588+aNzGg7GF5RUREWFvbs2TP5xsPCwhYuXCgzy1jajaqqqoKCAvkG2aOKioqkPayuri4oKCgvL4+Li4OEQZmhTGw7zb1dVFTk5uZmY2MDeaP1XU5tbW1oaOiHIjHra+2L6l9RUbFv3z5XV1eoofFpvoWHh7dp0wb0NXNz8127dmVkZLDvUoFA8OrVqwsXLixevNje3t7S0pImlsqZUSgUFhQUUD1OTk84VV5eXlxcTJVBoVB4586d0aNHy4nVhTi14cOHQ0EeOgU86UVFRSUlJVBmpGXLlh+6Ae7cuePi4rJmzZoPhQwzDFNTU1NaWiqdpExnpI3q6ur09PSnT58mJye/fftW/pDMzMwLFy5cu3at7jsqlJWVsSMTxWJxTEyMv78/+yDDMCKRKCcnJy4u7sWLF2/evJHYkZB6C42ioqLg4OC///47MzNT4hT+iwSQABJAAkgACSABJIAEkEBTEEDhrymoos1PIUBfwj9l8Dczpqam5j8B5evrC1l+dc/QbL7XRCAQ5ObmfmW5uo1yOUQikXx16aOziESiM2fO0FK5SkpKXbt2/fnnnzds2LBx40Z3d/cpU6ZYWFhAARzQB5csWcJWBj86xSd3KCoqCggIWLBgQZcuXVq0aKGnp6f//mNoaGhpaTlmzJiDBw9mZWV9yP7Lly87d+5MCJkwYYL0RoF0lPj9h/6LDSSABJAAEkACSAAJIAEkgASQQJMSQOGvSfGicSTwNRCoqqpasGABIcTCwkJmOeOvYZG4hs9FQCgUBgYG9u/fH2oEg7on86+WltYPP/zA3hDzM/hYW1v79u3buLi4mPefBw8eJCQkyI/YBa/OnTunoqLC4/FOnDjxGfzEKZAAEkACSAAJIAEkgASQABJAAnUhgMJfXShhHyTwTRN48eJFhw4dCCEzZ85k1w34pqHg4htG4M2bN/v37x84cKC+vj6U9+FwOMrKyjo6a+CBSQAAIABJREFUOh07dpw1a9aePXtu3rxZUFDQsHk+0+jKyspZs2YRQtq1ayeRC/yZPMBpkAASQAJIAAkgASSABJAAEkACsgig8CeLCh5DAkiAReDgwYNKSkoqKio+Pj6sw9hEAg0lUFBQcP/+fR8fn3379h05csTb2/vu3btZWVkyS0M0dLKmHP/w4cPWrVsTQubOnYtJ4k1JGm0jASSABJAAEkACSAAJIAEkUD8CKPzVjxf2RgLfGoHCwkJHR0dCSNeuXV++fPmtLR/XiwTqQmDHjh2Kiopqamp+fn516Y99kAASQAJIAAkgASSABJAAEkACn4cACn+fhzPOggSaK4Fbt27p6+sTQpYtW1b3qqnNdbXoNxKoP4Hc3FwHBwdCSK9evdLT0+tvAEcgASSABJAAEkACSAAJIAEkgASaigAKf01FFu0iga+AgFAoXLFiBSFEV1c3JCTkK1gRLgEJNDqBf//9V0tLixCyevXqBlY9bnTf0CASQAJIAAkgASSABJAAEkAC3zgBFP6+8RsAl48E5BFIS0vr2bMnIWTYsGH5+fnyuuI5JPBNEqipqVm6dCkhxNjYOCIi4ptkgItGAkgACSABJIAEkAASQAJI4MslgMLfl3tt0DMk8J8TOHfunKqqqoKCwpYtW/5zZ9ABJPAFEkhJSenUqRMhZMiQIc2lBvEXiBFdQgJIAAkgASSABJAAEkACSKCJCKDw10Rg0SwSaPYEysvLp0+fTghRUVE5d+5cs18PLgAJNAGBEydO8Pl8QsjMmTObXTHiJuCBJpEAEkACSAAJIAEkgASQABL4sgig8PdlXQ/0Bgl8OQQSEhIsLCwIIZqamteuXftyHENPkMAXQkAgEIA4TghZsWKFSCT6QhxDN5AAEkACSAAJIAEkgASQABJAAkAAhT+8E5AAEpBNIDExsV27doSQFi1axMTEyO6ER5HAN0ygqqoKhD8Oh+Pp6flREpWVladPnz558mRxcfFHO2MHJIAEkAASQAJIAAkgASSABJBAwwmg8NdwhmgBCXydBEpLSydOnEgIsbe3z8rK+joXiatCAg0jcPjwYWVlZQMDg6tXr37UUmpqqrW1taqqqq+v70c7YwckgASQABJAAkgACSABJIAEkEDDCaDw13CGaAEJfLUEYmNjjxw5EhMTgzmMX+01xoU1jEBOTs6pU6cCAwPLy8s/aik5OblDhw6EkJ07d360M3ZAAkgACSABJIAEkAASQAJIAAk0nAAKfw1niBaQABJAAkgACXycQHJysrW1NSFkw4YNYrH44wOwBxJAAkgACSABJIAEkAASQAJIoGEEUPhrGD8c3fQEXr58efDgwTt37jT9VDgDEmgSApmZmV5eXqGhoRg42SR8m49RKvz98ssveDM0n+uGniIBJIAEkAASQAJIAAkggWZMAIW/ZnzxvgXXHz9+PHDgQELInDlzKioq8vLyXr7/5ObmCoXCb4EArrG5E0hMTBw+fDghZMKECaWlpfn5+a9evUpNTc3JyamtrW3uq0P/60UgISHBysqKELJo0SL8BqsXOuyMBJAAEkACSAAJIAEkgASQwKcRQOHv07jhqM9BoKCgYNKkSeT9p1OnTnPmzOnevbuJiYmxsXGXLl2WL18eGxuL6XKf40rgHJ9KoKysbP78+XAPt2vXbu7cuX369DE1NTU2Nu7YsePPP/8cGRnZjAQgsVickJDw119/RUZG1tTUfCqVb3fcw4cPW7RogcLft3sH4MqRABJAAkgACSABJIAEkMBnJ4DC32dHjhOyCIhEosTExPv371dWVrIO/1/zzJkzampqIJrI/Nu2bVsvL6+qqirpsQ05IhaL3717l5iYWJfd+j95IrFYXFVVhcLlJwNs6oFCobDi/achwlxAQICOjo7MuxcOtmzZcs+ePU16pzUiqOTk5P79+3O5XCMjo2XLlsXExBQVFWHKat0Jx8bG6uvrE0Iw1bfu0LAnEkACSAAJIAEkgASQABJAAg0hgMJfQ+jh2AYRqK2tPX36tJWVlaWl5ZMnTyRs5eXlDR06lK2YqKioGBkZmZqaGhoaKikpwSltbe3jx483rvQQERFhZ2dnbm5+4cIFCa8a8d8HDx7MmTPH19e3IbpSI/qDpoBAVlaWt7f3unXrnJ2dJ7z/ODs7r1u37s8//3z06FFBQUHdQZWUlEycOJF9D/P5fENDQ1NTUyMjIx6PB6fU1NR2797dLNJ+L1++rKqqSldkYGBgZ2e3ZMmS48ePP3r0qKioqO5wvs2ed+/eBSF448aNKPp/m/cArhoJIAEkgASQABJAAkgACXxmAij8fWbgON3/ERCLxefPnzc0NCSE6OnpxcbGSqAJDg7W0tICiUFJSWn8+PH+/v4JCQkZGRnx8fH79+9v164dnG3fvv3jx48lhn/yv1VVVZCbyefz/fz8PtnORwd6e3tzOJxOnTqlpqZ+tDN2+DwEHjx44ODgQCU5qnARQng8XosWLQYMGPC///0vJiamurr6oy5FREQYGRmBEQ6H4+joeO7cuefPn2dkZCQkJHh5eXXq1AnOmpub371796MG//MOUVFRxsbGbCzQ5nK5LVq0cHBwWLdu3a1bt+olj/7ni/qcDoSFhWlraysoKGzduvVzzotzIQEkgASQABJAAkgACSABJPDNEkDh75u99P/xwiMjI9u3bw+qgb6+voTwV1tbu2zZMqov2NnZZWZmSnh8+/btzp07Q581a9Y0VtycQCD48ccfCSGmpqYSXkk40MB/fXx8lJWVNTQ0QkJCGmgKhzcKgaqqqlmzZtG7Tk7D2Nh4yZIl8hVbsVi8ceNGBQUFsNOjR4+kpCQJP+/fv9+7d2/o8PPPPzd60rrEdA3/VyAQ7Nq1i6qZMhFpa2sPHDhw+/btL168wKA2CeY3btzQ0tLicDgHDhyQOPWF/5ufn3/y5MmdO3empKR84a6ie0gACSABJIAEkAASQAJIAAmwCaDwx6aB7c9EIDMzE+qcgnAgLfylp6f36tWLENK+ffsff/zx/PnzMj27ePEibJjVq1evjIwMmX3qe1AgEEydOpUQYmdnl5ubW9/hde/v5+enoqLC4/FOnTpV91HYs+kIVFdX//zzz3w+v3PnznPmzFm7du3GjRvXr1/v5ubm5OTUpk0bTU1NRUVFqnbJz9bMy8tzcHAghJibm0+dOvX48eMyVbDQ0FBTU1O41RMTE5tudY1luaamZsWKFSBo8ni8ESNGzJ49u3fv3np6epQMIURBQcHS0nLTpk3Skn1jedIc7Vy+fFlNTU1JSenEiRPNyH+RSLRlyxbYYGH8+PFZWVnNyHl0FQkgASSABJAAEkACSAAJfOMEUPj7xm+A/2D5AoFgxYoVHA6HygTSwt/ff/+trq5OCFm1alVZWdmH6oeWlZVNmDCBEKKlpXXt2rVGWUxKSgoEEi5durRJt127ffu2trY2IWT9+vUyJaFGWQ4aqReB5OTkgICAjIwMiVtOIBCkpaUdPHgQSrLCrbtx40Y5xq9fvw5a2KJFi0pKSj6UGlxVVTVv3jxCiKqqapOmlstxtb6ntmzZAgJo//79X79+XVNT8+7du+jo6G3btg0bNszQ0JDL5QIiBQUFe3v78PDw+k7xtfYPCgpSU1Pj8/nnzp1rRmusqqqaPn06XFMul+vi4lJaWtqM/EdXkQASQAJIAAkgASSABJDAt0wAhb9v+er/N2u/ePGiRHCQhPBXXV3t7OwMe//dvHlTvpf79+/nvv8cPHhQfs86nj1y5AiPx/sMb+a0vuecOXMkZKY6uordPg+B4uLi2NjYHTt29OvXj1aVMTExkaNnCYXClStXEkI0NDQuXbok388///xTWVmZECI/hFC+kc92ViQSubq6EkIUFRU3b94sMW9JScmTJ0+OHz++aNEiMzMzkIo6dOjQWLq8xHTN7l8Q/lRVVf/555/m5XxoaGivXr3gBxtlZeUDBw7gzxXN6wqit0gACSABJIAEkAASQALfLAEU/r7ZS//fLFwoFG7durVFixZmZmaOjo6tWrUihEgIf0lJSR07diSEDBo0KC8vT76jgYGBampqhBA3N7eG1/bNz8+HUsIWFhbx8fHyp27gWSr8jR8/vqKiooHWcHijEyguLg4NDV2/fr2Dg4OBgQHdrY8QYmBg4Onp+aEgPoZhMjMzbW1tCSG9evVKT0+X79utW7cg9rNZSMCVlZWTJ08mhKirq8tRr4RCYURExIgRI0Aq7dq1q3TlbvlY/tuztbW1eXl5iYmJDx48ePbsWXFxcaP4A99X6urqV69epQbLy8uDgoL8/PzKysrowQ81BAKBnBvvQ6Ma5XhaWtq+ffvs7OyMjIxcXV3x54pGoYpGkAASQAJIAAkgASSABJBAUxNA4a+pCaN9SQJlZWVxcXFJSUkZGRlDhgyRFv7Onj2roqJCCFm9evVHtTyaMDt79uyGvw9HRUVBLueUKVPKy8slXW/U/6nw5+TkJHOuoqKi+/fv37lz56M1UsvKyvLz8wsLC5s0N7lRV/+lG6utrV2/fr2mpibErNG/XC7XwcHh6tWr8lFfuXIFxi5cuPCj+siDBw9gq8pmIQFnZ2f369ePEGJtbS1drkTiusbFxXXr1g3oubq6yoFWVVVV8P5TWVkpYeRz/ltbW5uUlHTq1KkFCxb07NnT2NhYX1/fwMDgxx9/zMnJkfak5v1H+viHjvj6+vL5fG1t7bCwMOhTW1u7Y8cODQ0NdXV1Ly+vDw2E41FRUdOmTXNxcWmsLU3lTyfzbGFhYXp6emFhIUb8yeSDB5EAEkACSAAJIAEkgASQwJdGAIW/L+2KfEP+5ObmfvfddxLCX01NzeLFi2HLs4sXL34UR0hICCgsM2fObLjwd/LkSd77z8mTJz86dQM7UOFvzJgxbOFPKBS+fv362LFjQ4YM0dfX19bWdnNzEwgE0tMJhcLY2NgNGzaMGjXK1tbWzs5u4cKFQUFBGD8ozaq+R8rKykaOHEn1PtqwtrYOCQmRX35XJBKtWbOGEKKsrPzHH398dOrIyEhdXV1CyNixY9l3wkcH/icdYmNjTUxMCCFOTk7SIl11dTUIQ5GRkQcOHBgzZgxs1kkIWbhwocwnNCMj48iRI9OmTevfv3/fvn0nT5585MiRupSPEIvFiYmJwcHB9+7dk39FAJRAIIiKigoODpbWK8VicW5u7o0bN1xcXCwsLOgehfS6a2lpSWd2x8fH//LLL3PmzLl+/brMnygqKiqCg4N///33ixcvwpU9c+YMj8fT09OLiYkBrwoLC+H3D0LI5MmTZT7p0LO0tBRiLfl8vr+/fxNd/ZKSkrCwsKtXrzawKgvKgk10gdAsEkACSAAJIAEkgASQABKoLwEU/upLDPs3GoGMjIwePXpICH/v3r2zt7eHWqhPnz796GTnzp2D8MAlS5YIhcKP9pfTobKycubMmVBf9cWLF3J6Spyqra29evXqjh07Ll++LD9Zj/0yzBb+QEApKSm5efOmi4tLhw4d6F5yhJABAwZIv4S/e/du06ZN5ubmVJuAhqampqura2FhoYST+G+9CNTU1CxZskSCLWh55ubmkydPDgwM/JDAWlpaOmrUKNikMiIi4qPzXrlyBdSxmTNn1kXA+qjBJu1w6dIlSK7v3Lnz+vXrDxw44O/vHxQUdOTIkdWrV8+aNWvAgAGtWrXS1dVlV0Du3r17bGyshGM1NTV///23ra2thNDG4XCGDh36+PFj2r+2tvbOnTt//vnnq1ev4KBYLA4ICLCxsVFTUzM2Nvb09GSHExYVFfn5+QUEBJSUlED/0tLStWvXGhgYqKmp9ezZ8+7du9R4dXX18ePHe/bsqaWlxb7ifD5fT0/PyMjI0NBw2LBhr1+/pkMYhqHyLiFk1KhRdCJ2n9OnT+vo6BBCdHV1IS360KFDHA7H3Nw8Li4OehYVFdES58OHDy8qKmJbYLdDQ0MNDAwIIcbGxhL3VWlp6b///rtp06bly5f/+uuv7u7uu3fvjoqKYjNhm4J2dna2t7d3aGgoVRtzcnIWLFigo6Ojrq4+dOjQ+paZrq6ujo6O3rlzp5ubm4uLy+rVq3///fcrV67I/1aUdgyPIAEkgASQABJAAkgACSABJNCIBFD4a0SYaKp+BFJSUmAvP2NjY/qSn5CQYGVlBWpXbm6ufItisXj9+vWEEA6Hs2fPHvmdP3o2Li7O0tKSEDJ//vx66S8PHz6EgYaGhnKqkURHR7u5ud25cwfkPyr8DR8+/NGjR15eXj/88APIBKA+GBoaTpgwYefOndHR0RIv8JmZmbNmzaJyiYaGhqGhIZ/Ph4HKysr79+9ni4wfXTt2kCbw4MEDqFELOhdbEiKEaGpqLliwICEhQXpgRkZGz549CSFdunSRUIukOzMMs2/fPriU7u7uMgPHZI76rw7u2LGDXZJbQUFBRUVFXV2dLfOxWenp6U2dOlVa9auqqtq7dy/kOBNCeDyeoaEhW3obP348TXLPzMz87rvvFBUVFyxYACpVZGRku3bt6ERmZma3bt2iTC5fvqyrq6utrX327FkQ6fbu3Qu/EMCQESNG0NTdmzdvGhsbU1NcLtfa2nr58uXnz5+/d+9eUlJSamrqu3fvqHFoVFVVTZs2jRDC5XI3btwo8YQyDFNZWTl16lQwS0s2b9++nRDSsWPHlJQUsCMSifbs2cPj8QghXbt2/dANU1VVBaHQhJCffvqJHRmakJAwY8YM6bR0CwuL27dvS7jN/vfw4cMqKiotW7a8c+cOOOzq6sq+uM7OznXX7N69e7d27Vo2SVi7trb20aNHv/wbm00G20gACSABJIAEkAASQAJI4GsigMLf13Q1m9la4uPj27RpAxF2NPnu4cOHENUycuRImUE07EXm5eUNHjyYEKKtrR0aGso+9QntAwcOcLlcNTW1+qbRHT9+HAL01NXVg4ODZU5dVVX1008/gaAJaYxU+FNXVzcxMWGH+Kmqqk6YMCE8PFw6lZJhmPz8/Llz54LOwufzJ02aFBwc/OLFi3Pnzg0bNgze2x0cHKSlCpmO4UE5BIqKiuLi4gICAnbs2OHi4uLo6Ni2bVuau0oI6dmz57Vr1yREjeTkZGtra0KInZ3dR6vTlJSUjB07Fmpl/P3333Kc+RJOVVdXz549m2pkEg1lZWVdXV0jIyNLS8uhQ4cuXLhw165dkZGRbJUKViEUCo8dOwYlTQDjsWPH4uPjb9y4sXjxYpD/dHR0qJb35s2bPn36EEKGDBlSXFz85s2bESNGSMw+a9Ys+rxA8VxCiIeHB8MwoaGhErGxKioqZ86cAWeOHDnCVrscHBzqEvBbVFQ0bNgwQkiHDh1kRsalpqZ26tQJnOzXrx/UeHF3dyeE9OjRg71JX0ZGxoABAwghLVq0iIqKknmho6KioBSSubk5O9wvKioKNkwA8dTAwMDExKR9+/a9evVSVVXt2rWrt7f3h3aZPHToEJfLVVZWPnfuHMMwp0+fZguvEItNLwHDMNXV1f/++6+vr690rOvr169nzJgB+rWioqKurq6JiUmbNm1sbW0NDAxMTU23bNkiJ5hR5pLxIBJAAkgACSABJIAEkAASQAKNQgCFv0bBiEY+hUBsbCxofF26dKEZfA8fPoTyGg4ODvn5+fLt+vv7a2hogMLy9u1b+Z3ln83Ly4OdtupShpVtSiwWb9q0CUq+du3aNTU1lX2Wtl+/ft21a1d4t3/48CHDMFT4Y+sXysrK9vb2Pj4+H6oiWltbu2XLFogP0tHR2bp1K7tnVFQURNywQ4qoD9hoCAGxWFxaWpqWlnblyhVXV9cOHTrARW/Tpk1gYCDbMg1l7dWrl3SONrsnaFJww/fo0eND0V4SQ/7Df9+9e+fg4AB3LIfDofqOo6Pj+vXrz549e/fu3eTk5KysrJKSEjmp9zdv3gQZS0lJacqUKWzhrLi4GFJf+Xw+xOsxDFNQUACP59ChQ+Pj42fPng1SnbGxMb0Q7dq1owGYYWFh2traCgoKHh4e4eHh8OiBSAcbFBJCZsyYAcGDjx8/hj0HYF2tW7fev3//R8ONX7161blzZ0LIiBEjZP5E4e/vD7GiqqqqsGeoUCiEqD1bW9vs7Gz2dYSoTz6f7+Pjwz4O7fLy8nnz5hFCFBUVV69eTYW8sLCwLl26QMjzoEGDTp48+ejRo9evX+fm5oaEhMDGka1bt6b7CUpY9vHx4b//eHt7X7p0Ca4Il8vt0qULaLIKCgr/+9//aOzw8+fPLS0tdXV12SWJGYZ5+fKlk5MTPA7W1tY7duyIjIx8+fJldnZ2YmIilIJhK60SbuC/SAAJIAEkgASQABJAAkgACTQpART+mhQvGpdHICoqCl5Ne/fuTffyT0xMhAy+zp07UzVQppWSkpKJEyfCy/CWLVvo26nMzh89GBgYCLlyK1askCNYSNupqalZuHAhSAZLliyh7+QSPW/evAnv0jSbT1r4MzAw+KjiEB0dDe/nHA5n0aJFGRkZdOEZGRnLli1TVlYmhNja2lKkEp7gvw0nIBaLk5OT3dzc4J5p3749u/JDZmZmr169CCGtWrWiW7nJnLSysnLBggVw87i5uUmni8oc9R8epJn4BgYGmzZtunfv3uvXr7OyskpLS+vuVUFBAQQ5EkL69esXFRVFi36UlpaePn26ZcuWhBANDY0rV66A2ezs7L59+0KS7MiRIyGyzMLC4tKlS48fPwZpSU1NLSAgAPoHBwerq6srKCgMGzYMpDFCiKOj49OnT319fQ0NDSHsDqLwGIaJjo62t7en2co8Hs/BwcHHx0fObw/379+H3y2mT58uvTNAVVUVvbKOjo4Q+FlTUzNnzhxCyODBgyUsR0REgLXffvtNIoCUYZjz58/Dt4etrS39aeHZs2fdu3eHXOMFCxZISMz+/v6qqqpway1btowSZl+mo0ePKikp8Xi8sWPHtm3bFkzNmzcvNTV1165dkBnN3r7w4cOH+vr6ioqK+/bto3by8/N//PFHmMje3l4ipzs+Ph6+r2DVNL2aDscGEkACSAAJIAEkgASQABJAAk1NAIW/piaM9j9IAKJyCCFs4S8rK8vW1ha2ww8LC/vgYIa5ePEi7IjXpk0biKGT01n+qYqKCsjD1dHRCQkJkd9Z4mxFRcWECRPgnfngwYMSZ+HfysrKRYsW0ZdwEAfj4uIk0g/19PTkJyxXVlY6OzuDHagd0bNnz0WLFq1Zs2bZsmU9e/aku/6tXLnyy1eRZLJqRgcFAoGnp6eenh4h5IcffqAxXDQ8TV1dPSgoSM6Krl+/DhGaRkZGsM+anM5fwqnw8HB46JycnKQTeOvooY+PD02XVlNTs7Kymjp16qr3n1GjRkEMLyGkf//+VMx6+fIlpM1CWBkhxMzMjGZG7969m/P+s3fvXvDh/PnzoFvR/oMHD4Z4wJKSEkdHR8hjvXfvHvU5PT193bp1rVu3ps+XioqKg4PD8ePHqRu0M8Mw169fB9l3xowZ0sLf/fv3wZSOjg6U9WAYpqqqasaMGYSQ77//nm5fCDbfvn3bv39/Qoi9vb1EsCEV+HR0dHx9faF/RUUF/SoYP348vffgbG1t7W+//UYXYm5uLjODeNu2baB1AiVFRcUZM2aANpeent6tWzdCSPfu3ak8Sn+VYauThw4dgt1FO3fuLB1a6OPjQ7dWVFFROXHiBJshtpEAEkACSAAJIAEkgASQABL4DARQ+PsMkHEK2QRCQkLgzXnAgAH0XbekpGTkyJEQx/e///3vQ8F36enpdnZ2hBAFBQU3NzeZ8SyyZ5V1NCYmxszM7NMC5crLyyF8SVlZ+fTp07LMM4GBgVDEQElJycvLC/pkZmZCCQglJSUqdsyePVuOnhIdHQ3BUDo6Ou3bt6cv9hKNAQMG0D0TZfqDBxuLQE1NzbZt25SVlXk83uHDh8Esu6rD0qVLP3Rz5ubmQvFfqCcjvW9aYznZiHYuXrwI6avOzs4fejblT1dYWAgPuJKSUseOHWlUmsQ9bGRkxN5q8+nTp/CEQjctLS0vLy8aGXf9+nUIiFu7di0EwB4/fhzS4aF/ly5dHjx4AI6JRCLYaE9TU/P69etsb4VC4ePHj9esWWNjYwORs4QQJSWl7t27b9u2LTk5md356tWr8NhKR/yVlpbOnTsXpp41axatj0GFv2HDhknU3a6trXVxcSGEaGlpsfcJzc3NnTRpEnwfuri40E0Mnzx5ApF0Xbp0oZWRqHuPHj2CEkmU6rx58yRuMJFI5ObmRjsQQoYOHUqDrCsrKyGOz8LCgu54+ObNm969exNCxowZA4sqLCyEjQ4NDAzY1ws8ycvLA42VztK3b9+0tDTqJzaQABJAAkgACSABJIAEkAAS+AwEUPj7DJBxCtkEgoKCIPBnyJAhNP5FLBZ7eHhAHIqVlZVE4hgYKikpWbJkCWzy1aVLl/j4eNkT1PnoyZMnQSb4/vvvJV7IP2qDvswTQlxdXaXj7F6+fDlw4EB49VVWVqYlBdLS0iAJ0cbGZvfu3aAM6urqSr8/gw9isXjz5s0Qm7NkyZL4+Pjly5dL1NDU1NScMGHC06dPP+o2dmgsArm5ubDtnaOjI715Dh8+DHdUy5YtZVZWraioWLNmDfSxsLC4f/9+Y/nTpHaooLZ48eJPE/7u3LkDOa29e/eOjY09duxYly5d2LU1QGjz8/NjP0oRERG04DWHw3F1daUSGMMwSUlJoIPPnTsXwmlpLBshxMDA4OLFi2ws3t7eysrKKioqMp81kUiUnp5+9uzZMWPGwC8T8ANDx44dd+/eTWvmREVFQbDnwIED2QF3AoHAw8MDBM2WLVuyc8DpdwX7pw7q2MWLF+H7kKr/AoHA3d0dyv7Y2dlRVY5hmICAAFVVVdjEkFqARkFBwcyZM+ELh5YMMjAwYOuJUKmDXafFysqKHRUoFos3btwIYcX0OA1lpVuI0tRvKgVSZ0ATh2D304oCAAATFElEQVRALpcLX+lcLnfbtm10dwLaGRtIAAkgASSABJAAEkACSAAJNB0BFP6aji1a/giBf/75B6KH2MIfwzAPHz6kCXfTp0+nmiCYy8vLc3V1hfdJLS0tqqN9ZDK5p7du3QrvpQMGDGC/w8sd9P9PUpWhTZs27CKYDMOkpqZOmTIFjEPYztatWxmGEYvF586dA1mhf//+SUlJ06dPh3f1Tp06yZSKysrKILTQ0NAQ1ITq6uqYmJitW7c6OzsvXLhw8+bNV69eZdf6+P8uYqvJCIhEIki6pGoIwzCJiYkdO3aECzpq1CiJm6qoqGj9+vWgDamqqnp6etLgtSZzs3EM01t94cKFnyb8HT58WElJSVFRER4EhmFev3597NixX375Zf78+StXrvT29pYOCgsMDKTZwd99993Lly/Z68nLy7O3t4eavwUFBSKR6JdffgH4ioqKrq6uUMSDDqEbbm7evFmOCFVaWnrlypXJkydTzVFJSWnatGlQgyUjIwN2clRWVl62bBmkAxcVFW3dupXKhdOnT2fH2VHhj270SV1iGCYrKwuimDU1Nbdv356SkrJr1y4os2tpaSnxnXD27Fn4Dly2bBlbIc3Kylq6dCkIyqamph4eHpCxC1vssYuolJWVOTk5ASU+n+/p6SmB4syZM8rKyux6I+Xl5ePGjSOEaGpq/vvvvwzDPHr0CDZMdHBwYBewLi0t3b9/P/yYwefz3dzcxo0bBz9aWFhYyN/QgM0E20gACSABJIAEkAASQAJIAAk0nAAKfw1niBY+kcC5c+dg+ycJ4U8gENBEOfpSLRQKS0tLr1+/Pnr0aAhj4fF4a9euZQf+fKIfDEOFP1VV1WnTpgUEBLx48SIjIyPz/ef169dxcXHR0dHXrl07d+7cnj17tm7dGh4eTut4PHnyBAqSQMUAb2/vuLi4Fy9enDhxom/fvvC6q6mpCW7/8MMPRUVFCQkJsGcZ1BwoKyt79OgRrUJgZWW1ffv2gwcPsmt95ObmDhgwQGbJCOH7zycvHweyCWRnZ9+4cePly5f0+rLPSreTkpKguIS1tTXNBq2pqXF1dQVVhcvlzp8//+XLl7W1teXl5eHh4ZMnT4ZMUi6X6+LiUq/KGNIOfLYj7OTQyZMnf8KjJxKJVq5cSQjh8XjHjx9ney4SidgCFvsUwzA0JlddXd3b21vibHV1NRTNaNWq1bNnz6qqqiA9lhDStWtXWuqXjkpNTbWxsSGETJw4kQpzUPeD7mdHO1dUVISEhEyePBmyiQkhM2fOLCwsFIlE69atg6eby+Xa2touW7Zs5MiRdEs7Pp8vkftfVVUF+n7Lli2fPHlCp6CNkydPwnBlZWUjIyP688bx48clVLmIiAhQ3ExNTU+ePJmSkvLkyZNjx47Z29vDRp86OjoHDx6sra29fv06TfsdOHBgdHQ0TEe/Twghw4cPp5stUGciIiIgpHHFihUgTFdXV0OQoJKS0tGjR0GshKIrKioqq1evfvHiRUJCgp+f36RJk+BHHSUlpSVLlhQXFycnJ3///ffwRFhZWfn6+sq53NQHbCABJIAEkAASQAJIAAkgASTQcAIo/DWcIVr4RAInTpyAyJThw4cXFRWxrdy+fZtu6cXlcvv06TN//vwRI0bQ0Bs+n+/q6kozK9ljP6Ht5+cHr6nwXqqmpmZoaGhqatry/cfExMTQ0FBPT09DQwNexQkhhoaGK1euhEgukUh04sSJFi1a0PCZFi1aGBoawupAfTh+/HjXrl2hVqmfn19ISAiNYFq5ciW8V1+5cqVNmzZghMPhKCoq8ni8P/74A1aUl5cHKcMqKiqNEuf4CaC++iEikWjDhg0aGhqWlpZz5869dOlSRkaGRLwYhVBdXR0aGurg4AARnePGjSspKaFnY2NjqRzM4XC6des2d+7cMWPG0PtESUnJ2dlZWnChFr60Rm1tLa1U2717d+m4vI86LBaLV69eDXf47Nmz6y4dnjx5EqTSyZMnS3xXwKRHjx7lcrl8Pt/b21sgEEyZMoUQwufzDx06JO1VeXk5FAS3traGIDiBQDBv3jzIMvb19ZXellEgEPzzzz+goKmpqZ09e5ZhmBcvXvTo0QOWI/23Xbt2dHc88KGmpgYAqqurBwYGSjuWn58PlYKoNfh5Q/oOLC0thTohhBBVVVVjY2MDAwOa2GtoaHj48GG6ivPnz9O7zsbGJiAgQCAQvH37Fr5P9PX1ZZagycrKAlFv8ODBEM3H1m2hTIdIJNq5cyfMq6SkZGhoaGRkRPdt5PP5y5cvp/WLHzx4QH/baNGixe7duyWiuaWB4BEkgASQABJAAkgACSABJIAEGk4Ahb+GM0QLn0iA7uUnXSG0trb2+PHjRkZG9AWY3TAzM9u9e3cjxknl5eWBUsCe5aNtBQUFd3d3SHisqak5d+6cdMENTU3NKVOmxMbGCoVCDw8PeEOePXt2WFgYvIq3bNkyMjISCIpEoqCgIGtrazq1goLCli1b4KxAIIDSw4SQgQMHfoLs8onX6VsaVl1dTfUUkFTat28/ZcqUtWvXHj16NCAgIPj959y5c9u3b585cybVUwwNDS9fvsxGJRKJzp8/DxUY6AWljRYtWmzcuLGxlGv2vE3Xrq2tpZVkrays2HmjdZ/U29sbgtpatGghQUyOkezs7JkzZ7Zt2/bGjRsyu6WmpkLdiSVLlgiFwvDw8G7dug0fPhxq1EoP8ff319LS4vP5oHmVlpaOGDECro6ent6iRYuCg4OTkpJo2G9cXNypU6do6JyrqyuI9SEhITSXll5caMyYMUNa2fT09IQNDd3c3GSGvD169AgyiOH2k/Pzxr1792g6OXvq3r17BwQEsI3X1NTs3buXJiBra2uvXbu2oqLi77//trCwmDt3rsyCQiKRaM+ePVwu19DQkJZNP378OJfLVVFRodsmZmVl0Ro1bDdat269b98+iW/pq1evWlpaQjdlZeWJEydmZWVJXx08ggSQABJAAkgACSABJIAEkEAjEkDhrxFhoqn6EThw4ACESk2ZMkX6Dbm2tvbixYsQJUffJ42MjGbOnBkZGflp+4vJ8S8jI8Pd3d3GxsbAwEBbWxuC++AVV0NDQ1NTU19f3+j9R1dXF7bVJ4SsX7+evTvbw4cPf/755w4dOpiYmPTp02fp0qWXL1+mr76FhYU7d+7s3bu3h4dHfn7+vHnzTExMPDw8aGAOuHfv3r0xY8ZAaKGqqio7sfHy5cu6urqEEA6Hs2DBgrdv38pZUUVFRd77D9tDOf3xFOy9uGvXLhqqSW88YK6mpqbx/kMDP6GDtrb2vn37JK4jwzAikejatWs03Rs66+vrT5gw4caNG2xpprnA//PPPyGea9myZdJhaHVZRUZGBmSsE0J69uxJM09ljq2pqSkoKMjOzq6urs7NzY2JiamqqpLZk2EYHx+fvn37+vn5QYfnz5/LkSbLy8uXLl06atQoSAQWiUSHDx+Ghwsuk7q6upGREQ37bdGiBbvOr6enJ3UjOTl53bp1dnZ2Dg4Os2fPBuFeWVn55MmTtA9tPHnyBH4e6NChQ2pqKj3ObsTExPz0008jRow4duyYTEkOOovF4rt3706ZMsXc3NzAwMDExKRv376bNm1KSUlhW4O2QCDw8vKytrbm8Xja2tqbNm2qra0ViUSPHj2Szm6mw3NyciZNmjR79mz6VRMXF2djY9OyZcuYmBjaLSUlZfny5e3atTMwMDAyMrKxsVmyZEl0dLT0N49YLA4JCbGzs1NRUVFTU5s2bRotlkKtYQMJIAEkgASQABJAAkgACSCBxiWAwl/j8kRr9SCQlJQ0fvz47t2703d16cFJSUk7duxYuHChi4vL3r17Hzx4IC0RSo/6tCNCoTA7O/vp06e3bt0KDg729fU9ceKEn59fcHBwaGjogwcPkpKSEhISIiMjL168eODAgb1790q/M9fU1GRnZ7969erdu3cy33sLCgpgW7GioqLU1FSZyykoKDh16tTcuXMPHTrEzoarqKhYsmQJ3VZszJgxYWFhbGlALBYXFBRER0dv37593LhxXbt2HThwoEwh4NMQfQujCgsLT5w44erqOmLEiNatW+vq6qqoqNDyLGwpkMvl6uvrDx48+OzZs3IEqdevX+/bt2/RokVLly7duXNnZGQk+5I1L6QlJSW///77mjVrMjIyPtlzX19fmrNvY2Nz+vRpiXzn8vLyhISEP/74Y86cOf369evQoYPM8rsSDlRXV+fn59f9J4GysjJ2anZVVVVAQMDAgQNlyr70uvP5/NmzZ0tUaxGJREVFRcXFxfn5+RD+1r59++fPn0t4yDCMUCgMCAhYvHjxtm3baA6sdLeqqqqysjKJff2kuzEMU1FR8erVq6dPn6ampubn58sZIhaLk5KSzp49e+fOnbrfgUVFRezOQqHw7t27//zzD90bEbyqqanJzMx8+vRpUlJSdna2fFE7Jyfn4sWLly9fRtVP5jXFg0gACSABJIAEkAASQAJIoHEJoPDXuDzRWv0IlJaW5uXlyX9LhLdlOS+09Zuy+fSWWVwiLS1t/PjxoP0RQgwMDMaMGePu7r5x48YNGza4uLgMGDAAtuQHqcLAwODx48fNZ9FfkKelpaVpaWnR0dH+/v6HDh3auHGju7u7m5sbyNDr168/efLkgwcPZG45J70MoVD4ddzDQqFQWtGWXq+cIwKBwMPDQ0NDA25RFRWV77777tdff934/rNq1SonJyczMzMqwCkoKEApCTk2G+tUTk7On3/+OX369Pbt2xsYGOjp6em//xgZGXXo0OHHH3/8888/5SRoP3v2DLbpnD9/vhwtuIEAG2uxaAcJIAEkgASQABJAAkgACSCBb4EACn/fwlXGNX5VBDIzM93c3OjucjQWSaLB4/HatGmzdevWsrKyr2r9//VivhoJ7z8EWVlZefLkSVrYWuLWpf8qKirq6elNnz79M0etVlVVvXnz5smTJzHvP7GxsRDI9tHs5qNHjyopKampqcmJYv4PsePUSAAJIAEkgASQABJAAkgACXyDBFD4+wYvOi652ROorq6+devWvHnz2rZtq66uDuUCuFyumpqasbHx4MGDV65c6ePjk5CQ8NFoymbPAhfQbAkkJSVt3LixR48eOjo6UPeGw+Hw+Xx9ff3u3bsvXLjw8OHDkZGRzUW5Li4uHjNmDOxdiLV3mu1diY4jASSABJAAEkACSAAJIIGvjQAKf1/bFcX1fDsEqqurU1NTg4ODjx49un///pMnTwYFBSUkJBQXF387EHClzZqAWCx++/ZteHj46dOn9+/f7+Xldf78+QcPHuTm5tZ9t74vhMCdO3cMDQ0JIa6urii4fyEXBd1AAkgACSABJIAEkAASQAJIAIU/vAeQABJAAkgACTSIgFAoXL16NSFEW1s7JCSkQbZwMBJAAkgACSABJIAEkAASQAJIoPEIoPDXeCzREhJAAkgACXyTBNLT03v16kUIcXBwyMvL+yYZ4KKRABJAAkgACSABJIAEkAAS+BIJoPD3JV4V9AkJIAEkgASaEYHz58+rqqoqKiru3LmzGbmNriIBJIAEkAASQAJIAAkgASTw1RNA4e+rv8S4QCSABJAAEmhCApWVlTNnziSEtG3b9smTJ004E5pGAkgACSABJIAEkAASQAJIAAnUkwAKf/UEht2RABJAAkgACbAIPHnypE2bNoSQsWPHNpcaxCz3sYkEkAASQAJIAAkgASSABJDA10wAhb+v+eri2pAAEkACSKCpCezatYvD4RBCli1b1uyKETc1HLSPBJAAEkACSAAJIAEkgASQwH9LAIW//5Y/zo4EkAASQALNmEBpaamTkxMhhMPh4AZ/zfhCoutIAAkgASSABJAAEkACSOArJYDC31d6YXFZSAAJIAEk0PQESktLR48eTQhRVlY+c+ZM00+IMyABJIAEkAASQAJIAAkgASSABOpBAIW/esDCrkgACSABJIAE2ATEYrGHhweHwzEzM7t79y77FLaRABJAAkgACSABJIAEkAASQAL/rx07KAIAhGEA5t8CRtCDin2RwdHGwZru1ecChr/nFTiAAAECBD4WOOestfbeM/NxDKcTIECAAAECBAgQIJAoYPhLbFUmAgQIECBAgAABAgQIECBAgACBegHDX/0LACBAgAABAgQIECBAgAABAgQIEEgUMPwltioTAQIECBAgQIAAAQIECBAgQIBAvYDhr/4FABAgQIAAAQIECBAgQIAAAQIECCQKGP4SW5WJAAECBAgQIECAAAECBAgQIECgXsDwV/8CAAgQIECAAAECBAgQIECAAAECBBIFDH+JrcpEgAABAgQIECBAgAABAgQIECBQL2D4q38BAAQIECBAgAABAgQIECBAgAABAokChr/EVmUiQIAAAQIECBAgQIAAAQIECBCoFzD81b8AAAIECBAgQIAAAQIECBAgQIAAgUQBw19iqzIRIECAAAECBAgQIECAAAECBAjUCxj+6l8AAAECBAgQIECAAAECBAgQIECAQKLABRCNJTI1mmR+AAAAAElFTkSuQmCC)"
      ],
      "metadata": {
        "id": "pwXXlacwDGEg"
      }
    },
    {
      "cell_type": "markdown",
      "source": [
        "Adding new data into the table."
      ],
      "metadata": {
        "id": "M51W5WXLDpAV"
      }
    },
    {
      "cell_type": "code",
      "source": [
        "df_02 = pd.read_csv(\"/lake/data/data_2.csv\")\n",
        "df_02['city_partition'] = df_02['city'].str.lower().str.replace(' ', '_')\n",
        "df_02.shape"
      ],
      "metadata": {
        "colab": {
          "base_uri": "https://localhost:8080/"
        },
        "id": "3TYL1De_UIb5",
        "outputId": "ab3d5c6e-6a89-4896-aa83-a382a53d8246"
      },
      "execution_count": null,
      "outputs": [
        {
          "output_type": "execute_result",
          "data": {
            "text/plain": [
              "(10, 7)"
            ]
          },
          "metadata": {},
          "execution_count": 86
        }
      ]
    },
    {
      "cell_type": "code",
      "source": [
        "df_02.head(3)"
      ],
      "metadata": {
        "colab": {
          "base_uri": "https://localhost:8080/",
          "height": 143
        },
        "id": "AQx7KrIZUk5f",
        "outputId": "2c7bc3c8-7332-48ca-882c-da804704efe4"
      },
      "execution_count": null,
      "outputs": [
        {
          "output_type": "execute_result",
          "data": {
            "text/plain": [
              "   id                 name       city  age  salary  score city_partition\n",
              "0  11  Dr. Roberta West MD  Las Vegas   43    3101    656      las_vegas\n",
              "1  12         Cody Sanchez   New York   27    2262    665       new_york\n",
              "2  13        Jill Williams  Las Vegas   35    4800    950      las_vegas"
            ],
            "text/html": [
              "\n",
              "\n",
              "  <div id=\"df-11a59fca-990d-4c24-aaaa-be5ec24e5d2a\">\n",
              "    <div class=\"colab-df-container\">\n",
              "      <div>\n",
              "<style scoped>\n",
              "    .dataframe tbody tr th:only-of-type {\n",
              "        vertical-align: middle;\n",
              "    }\n",
              "\n",
              "    .dataframe tbody tr th {\n",
              "        vertical-align: top;\n",
              "    }\n",
              "\n",
              "    .dataframe thead th {\n",
              "        text-align: right;\n",
              "    }\n",
              "</style>\n",
              "<table border=\"1\" class=\"dataframe\">\n",
              "  <thead>\n",
              "    <tr style=\"text-align: right;\">\n",
              "      <th></th>\n",
              "      <th>id</th>\n",
              "      <th>name</th>\n",
              "      <th>city</th>\n",
              "      <th>age</th>\n",
              "      <th>salary</th>\n",
              "      <th>score</th>\n",
              "      <th>city_partition</th>\n",
              "    </tr>\n",
              "  </thead>\n",
              "  <tbody>\n",
              "    <tr>\n",
              "      <th>0</th>\n",
              "      <td>11</td>\n",
              "      <td>Dr. Roberta West MD</td>\n",
              "      <td>Las Vegas</td>\n",
              "      <td>43</td>\n",
              "      <td>3101</td>\n",
              "      <td>656</td>\n",
              "      <td>las_vegas</td>\n",
              "    </tr>\n",
              "    <tr>\n",
              "      <th>1</th>\n",
              "      <td>12</td>\n",
              "      <td>Cody Sanchez</td>\n",
              "      <td>New York</td>\n",
              "      <td>27</td>\n",
              "      <td>2262</td>\n",
              "      <td>665</td>\n",
              "      <td>new_york</td>\n",
              "    </tr>\n",
              "    <tr>\n",
              "      <th>2</th>\n",
              "      <td>13</td>\n",
              "      <td>Jill Williams</td>\n",
              "      <td>Las Vegas</td>\n",
              "      <td>35</td>\n",
              "      <td>4800</td>\n",
              "      <td>950</td>\n",
              "      <td>las_vegas</td>\n",
              "    </tr>\n",
              "  </tbody>\n",
              "</table>\n",
              "</div>\n",
              "      <button class=\"colab-df-convert\" onclick=\"convertToInteractive('df-11a59fca-990d-4c24-aaaa-be5ec24e5d2a')\"\n",
              "              title=\"Convert this dataframe to an interactive table.\"\n",
              "              style=\"display:none;\">\n",
              "\n",
              "  <svg xmlns=\"http://www.w3.org/2000/svg\" height=\"24px\"viewBox=\"0 0 24 24\"\n",
              "       width=\"24px\">\n",
              "    <path d=\"M0 0h24v24H0V0z\" fill=\"none\"/>\n",
              "    <path d=\"M18.56 5.44l.94 2.06.94-2.06 2.06-.94-2.06-.94-.94-2.06-.94 2.06-2.06.94zm-11 1L8.5 8.5l.94-2.06 2.06-.94-2.06-.94L8.5 2.5l-.94 2.06-2.06.94zm10 10l.94 2.06.94-2.06 2.06-.94-2.06-.94-.94-2.06-.94 2.06-2.06.94z\"/><path d=\"M17.41 7.96l-1.37-1.37c-.4-.4-.92-.59-1.43-.59-.52 0-1.04.2-1.43.59L10.3 9.45l-7.72 7.72c-.78.78-.78 2.05 0 2.83L4 21.41c.39.39.9.59 1.41.59.51 0 1.02-.2 1.41-.59l7.78-7.78 2.81-2.81c.8-.78.8-2.07 0-2.86zM5.41 20L4 18.59l7.72-7.72 1.47 1.35L5.41 20z\"/>\n",
              "  </svg>\n",
              "      </button>\n",
              "\n",
              "\n",
              "\n",
              "    <div id=\"df-425b0a29-1862-48e3-8366-b896bfbe6219\">\n",
              "      <button class=\"colab-df-quickchart\" onclick=\"quickchart('df-425b0a29-1862-48e3-8366-b896bfbe6219')\"\n",
              "              title=\"Suggest charts.\"\n",
              "              style=\"display:none;\">\n",
              "\n",
              "<svg xmlns=\"http://www.w3.org/2000/svg\" height=\"24px\"viewBox=\"0 0 24 24\"\n",
              "     width=\"24px\">\n",
              "    <g>\n",
              "        <path d=\"M19 3H5c-1.1 0-2 .9-2 2v14c0 1.1.9 2 2 2h14c1.1 0 2-.9 2-2V5c0-1.1-.9-2-2-2zM9 17H7v-7h2v7zm4 0h-2V7h2v10zm4 0h-2v-4h2v4z\"/>\n",
              "    </g>\n",
              "</svg>\n",
              "      </button>\n",
              "    </div>\n",
              "\n",
              "<style>\n",
              "  .colab-df-quickchart {\n",
              "    background-color: #E8F0FE;\n",
              "    border: none;\n",
              "    border-radius: 50%;\n",
              "    cursor: pointer;\n",
              "    display: none;\n",
              "    fill: #1967D2;\n",
              "    height: 32px;\n",
              "    padding: 0 0 0 0;\n",
              "    width: 32px;\n",
              "  }\n",
              "\n",
              "  .colab-df-quickchart:hover {\n",
              "    background-color: #E2EBFA;\n",
              "    box-shadow: 0px 1px 2px rgba(60, 64, 67, 0.3), 0px 1px 3px 1px rgba(60, 64, 67, 0.15);\n",
              "    fill: #174EA6;\n",
              "  }\n",
              "\n",
              "  [theme=dark] .colab-df-quickchart {\n",
              "    background-color: #3B4455;\n",
              "    fill: #D2E3FC;\n",
              "  }\n",
              "\n",
              "  [theme=dark] .colab-df-quickchart:hover {\n",
              "    background-color: #434B5C;\n",
              "    box-shadow: 0px 1px 3px 1px rgba(0, 0, 0, 0.15);\n",
              "    filter: drop-shadow(0px 1px 2px rgba(0, 0, 0, 0.3));\n",
              "    fill: #FFFFFF;\n",
              "  }\n",
              "</style>\n",
              "\n",
              "    <script>\n",
              "      async function quickchart(key) {\n",
              "        const containerElement = document.querySelector('#' + key);\n",
              "        const charts = await google.colab.kernel.invokeFunction(\n",
              "            'suggestCharts', [key], {});\n",
              "      }\n",
              "    </script>\n",
              "\n",
              "      <script>\n",
              "\n",
              "function displayQuickchartButton(domScope) {\n",
              "  let quickchartButtonEl =\n",
              "    domScope.querySelector('#df-425b0a29-1862-48e3-8366-b896bfbe6219 button.colab-df-quickchart');\n",
              "  quickchartButtonEl.style.display =\n",
              "    google.colab.kernel.accessAllowed ? 'block' : 'none';\n",
              "}\n",
              "\n",
              "        displayQuickchartButton(document);\n",
              "      </script>\n",
              "      <style>\n",
              "    .colab-df-container {\n",
              "      display:flex;\n",
              "      flex-wrap:wrap;\n",
              "      gap: 12px;\n",
              "    }\n",
              "\n",
              "    .colab-df-convert {\n",
              "      background-color: #E8F0FE;\n",
              "      border: none;\n",
              "      border-radius: 50%;\n",
              "      cursor: pointer;\n",
              "      display: none;\n",
              "      fill: #1967D2;\n",
              "      height: 32px;\n",
              "      padding: 0 0 0 0;\n",
              "      width: 32px;\n",
              "    }\n",
              "\n",
              "    .colab-df-convert:hover {\n",
              "      background-color: #E2EBFA;\n",
              "      box-shadow: 0px 1px 2px rgba(60, 64, 67, 0.3), 0px 1px 3px 1px rgba(60, 64, 67, 0.15);\n",
              "      fill: #174EA6;\n",
              "    }\n",
              "\n",
              "    [theme=dark] .colab-df-convert {\n",
              "      background-color: #3B4455;\n",
              "      fill: #D2E3FC;\n",
              "    }\n",
              "\n",
              "    [theme=dark] .colab-df-convert:hover {\n",
              "      background-color: #434B5C;\n",
              "      box-shadow: 0px 1px 3px 1px rgba(0, 0, 0, 0.15);\n",
              "      filter: drop-shadow(0px 1px 2px rgba(0, 0, 0, 0.3));\n",
              "      fill: #FFFFFF;\n",
              "    }\n",
              "  </style>\n",
              "\n",
              "      <script>\n",
              "        const buttonEl =\n",
              "          document.querySelector('#df-11a59fca-990d-4c24-aaaa-be5ec24e5d2a button.colab-df-convert');\n",
              "        buttonEl.style.display =\n",
              "          google.colab.kernel.accessAllowed ? 'block' : 'none';\n",
              "\n",
              "        async function convertToInteractive(key) {\n",
              "          const element = document.querySelector('#df-11a59fca-990d-4c24-aaaa-be5ec24e5d2a');\n",
              "          const dataTable =\n",
              "            await google.colab.kernel.invokeFunction('convertToInteractive',\n",
              "                                                     [key], {});\n",
              "          if (!dataTable) return;\n",
              "\n",
              "          const docLinkHtml = 'Like what you see? Visit the ' +\n",
              "            '<a target=\"_blank\" href=https://colab.research.google.com/notebooks/data_table.ipynb>data table notebook</a>'\n",
              "            + ' to learn more about interactive tables.';\n",
              "          element.innerHTML = '';\n",
              "          dataTable['output_type'] = 'display_data';\n",
              "          await google.colab.output.renderOutput(dataTable, element);\n",
              "          const docLink = document.createElement('div');\n",
              "          docLink.innerHTML = docLinkHtml;\n",
              "          element.appendChild(docLink);\n",
              "        }\n",
              "      </script>\n",
              "    </div>\n",
              "  </div>\n"
            ]
          },
          "metadata": {},
          "execution_count": 87
        }
      ]
    },
    {
      "cell_type": "code",
      "source": [
        "write_deltalake('/lake/delta_table', df_02,\n",
        "                mode = 'append',\n",
        "                partition_by= ['city_partition'])"
      ],
      "metadata": {
        "id": "S_21nwspXyiV"
      },
      "execution_count": null,
      "outputs": []
    },
    {
      "cell_type": "markdown",
      "source": [
        "Reading the delta in a specific version:"
      ],
      "metadata": {
        "id": "04O7GAPHHCIn"
      }
    },
    {
      "cell_type": "code",
      "source": [
        "DeltaTable('/lake/delta_table', version = 0).to_pandas()"
      ],
      "metadata": {
        "colab": {
          "base_uri": "https://localhost:8080/"
        },
        "id": "LhDvrZUBYOUY",
        "outputId": "bba1562f-1bfe-4af6-bea8-e6ff6c0cdb8e"
      },
      "execution_count": null,
      "outputs": [
        {
          "output_type": "execute_result",
          "data": {
            "text/plain": [
              "                name         city  age city_partition\n",
              "0          Jim Evans     New York   46       new_york\n",
              "1     Keith Thompson     New York   32       new_york\n",
              "2      James Stewart    Las Vegas   56      las_vegas\n",
              "3  Alejandro Barrett    Las Vegas   52      las_vegas\n",
              "4      Morgan Bailey    Las Vegas   21      las_vegas\n",
              "5        David James    Las Vegas   62      las_vegas\n",
              "6       Kelli Murphy    Las Vegas   35      las_vegas\n",
              "7     Ashley Vasquez    Las Vegas   58      las_vegas\n",
              "8         Lisa Bruce    Las Vegas   27      las_vegas\n",
              "9          Tina Kirk  Los Angeles   26    los_angeles"
            ],
            "text/html": [
              "\n",
              "\n",
              "  <div id=\"df-56aabf8b-3f19-4ce4-9af8-1cc0d8f8a4dc\">\n",
              "    <div class=\"colab-df-container\">\n",
              "      <div>\n",
              "<style scoped>\n",
              "    .dataframe tbody tr th:only-of-type {\n",
              "        vertical-align: middle;\n",
              "    }\n",
              "\n",
              "    .dataframe tbody tr th {\n",
              "        vertical-align: top;\n",
              "    }\n",
              "\n",
              "    .dataframe thead th {\n",
              "        text-align: right;\n",
              "    }\n",
              "</style>\n",
              "<table border=\"1\" class=\"dataframe\">\n",
              "  <thead>\n",
              "    <tr style=\"text-align: right;\">\n",
              "      <th></th>\n",
              "      <th>name</th>\n",
              "      <th>city</th>\n",
              "      <th>age</th>\n",
              "      <th>city_partition</th>\n",
              "    </tr>\n",
              "  </thead>\n",
              "  <tbody>\n",
              "    <tr>\n",
              "      <th>0</th>\n",
              "      <td>Jim Evans</td>\n",
              "      <td>New York</td>\n",
              "      <td>46</td>\n",
              "      <td>new_york</td>\n",
              "    </tr>\n",
              "    <tr>\n",
              "      <th>1</th>\n",
              "      <td>Keith Thompson</td>\n",
              "      <td>New York</td>\n",
              "      <td>32</td>\n",
              "      <td>new_york</td>\n",
              "    </tr>\n",
              "    <tr>\n",
              "      <th>2</th>\n",
              "      <td>James Stewart</td>\n",
              "      <td>Las Vegas</td>\n",
              "      <td>56</td>\n",
              "      <td>las_vegas</td>\n",
              "    </tr>\n",
              "    <tr>\n",
              "      <th>3</th>\n",
              "      <td>Alejandro Barrett</td>\n",
              "      <td>Las Vegas</td>\n",
              "      <td>52</td>\n",
              "      <td>las_vegas</td>\n",
              "    </tr>\n",
              "    <tr>\n",
              "      <th>4</th>\n",
              "      <td>Morgan Bailey</td>\n",
              "      <td>Las Vegas</td>\n",
              "      <td>21</td>\n",
              "      <td>las_vegas</td>\n",
              "    </tr>\n",
              "    <tr>\n",
              "      <th>5</th>\n",
              "      <td>David James</td>\n",
              "      <td>Las Vegas</td>\n",
              "      <td>62</td>\n",
              "      <td>las_vegas</td>\n",
              "    </tr>\n",
              "    <tr>\n",
              "      <th>6</th>\n",
              "      <td>Kelli Murphy</td>\n",
              "      <td>Las Vegas</td>\n",
              "      <td>35</td>\n",
              "      <td>las_vegas</td>\n",
              "    </tr>\n",
              "    <tr>\n",
              "      <th>7</th>\n",
              "      <td>Ashley Vasquez</td>\n",
              "      <td>Las Vegas</td>\n",
              "      <td>58</td>\n",
              "      <td>las_vegas</td>\n",
              "    </tr>\n",
              "    <tr>\n",
              "      <th>8</th>\n",
              "      <td>Lisa Bruce</td>\n",
              "      <td>Las Vegas</td>\n",
              "      <td>27</td>\n",
              "      <td>las_vegas</td>\n",
              "    </tr>\n",
              "    <tr>\n",
              "      <th>9</th>\n",
              "      <td>Tina Kirk</td>\n",
              "      <td>Los Angeles</td>\n",
              "      <td>26</td>\n",
              "      <td>los_angeles</td>\n",
              "    </tr>\n",
              "  </tbody>\n",
              "</table>\n",
              "</div>\n",
              "      <button class=\"colab-df-convert\" onclick=\"convertToInteractive('df-56aabf8b-3f19-4ce4-9af8-1cc0d8f8a4dc')\"\n",
              "              title=\"Convert this dataframe to an interactive table.\"\n",
              "              style=\"display:none;\">\n",
              "\n",
              "  <svg xmlns=\"http://www.w3.org/2000/svg\" height=\"24px\"viewBox=\"0 0 24 24\"\n",
              "       width=\"24px\">\n",
              "    <path d=\"M0 0h24v24H0V0z\" fill=\"none\"/>\n",
              "    <path d=\"M18.56 5.44l.94 2.06.94-2.06 2.06-.94-2.06-.94-.94-2.06-.94 2.06-2.06.94zm-11 1L8.5 8.5l.94-2.06 2.06-.94-2.06-.94L8.5 2.5l-.94 2.06-2.06.94zm10 10l.94 2.06.94-2.06 2.06-.94-2.06-.94-.94-2.06-.94 2.06-2.06.94z\"/><path d=\"M17.41 7.96l-1.37-1.37c-.4-.4-.92-.59-1.43-.59-.52 0-1.04.2-1.43.59L10.3 9.45l-7.72 7.72c-.78.78-.78 2.05 0 2.83L4 21.41c.39.39.9.59 1.41.59.51 0 1.02-.2 1.41-.59l7.78-7.78 2.81-2.81c.8-.78.8-2.07 0-2.86zM5.41 20L4 18.59l7.72-7.72 1.47 1.35L5.41 20z\"/>\n",
              "  </svg>\n",
              "      </button>\n",
              "\n",
              "\n",
              "\n",
              "    <div id=\"df-7af686b4-dbbe-4875-947f-1efdac3e799b\">\n",
              "      <button class=\"colab-df-quickchart\" onclick=\"quickchart('df-7af686b4-dbbe-4875-947f-1efdac3e799b')\"\n",
              "              title=\"Suggest charts.\"\n",
              "              style=\"display:none;\">\n",
              "\n",
              "<svg xmlns=\"http://www.w3.org/2000/svg\" height=\"24px\"viewBox=\"0 0 24 24\"\n",
              "     width=\"24px\">\n",
              "    <g>\n",
              "        <path d=\"M19 3H5c-1.1 0-2 .9-2 2v14c0 1.1.9 2 2 2h14c1.1 0 2-.9 2-2V5c0-1.1-.9-2-2-2zM9 17H7v-7h2v7zm4 0h-2V7h2v10zm4 0h-2v-4h2v4z\"/>\n",
              "    </g>\n",
              "</svg>\n",
              "      </button>\n",
              "    </div>\n",
              "\n",
              "<style>\n",
              "  .colab-df-quickchart {\n",
              "    background-color: #E8F0FE;\n",
              "    border: none;\n",
              "    border-radius: 50%;\n",
              "    cursor: pointer;\n",
              "    display: none;\n",
              "    fill: #1967D2;\n",
              "    height: 32px;\n",
              "    padding: 0 0 0 0;\n",
              "    width: 32px;\n",
              "  }\n",
              "\n",
              "  .colab-df-quickchart:hover {\n",
              "    background-color: #E2EBFA;\n",
              "    box-shadow: 0px 1px 2px rgba(60, 64, 67, 0.3), 0px 1px 3px 1px rgba(60, 64, 67, 0.15);\n",
              "    fill: #174EA6;\n",
              "  }\n",
              "\n",
              "  [theme=dark] .colab-df-quickchart {\n",
              "    background-color: #3B4455;\n",
              "    fill: #D2E3FC;\n",
              "  }\n",
              "\n",
              "  [theme=dark] .colab-df-quickchart:hover {\n",
              "    background-color: #434B5C;\n",
              "    box-shadow: 0px 1px 3px 1px rgba(0, 0, 0, 0.15);\n",
              "    filter: drop-shadow(0px 1px 2px rgba(0, 0, 0, 0.3));\n",
              "    fill: #FFFFFF;\n",
              "  }\n",
              "</style>\n",
              "\n",
              "    <script>\n",
              "      async function quickchart(key) {\n",
              "        const containerElement = document.querySelector('#' + key);\n",
              "        const charts = await google.colab.kernel.invokeFunction(\n",
              "            'suggestCharts', [key], {});\n",
              "      }\n",
              "    </script>\n",
              "\n",
              "      <script>\n",
              "\n",
              "function displayQuickchartButton(domScope) {\n",
              "  let quickchartButtonEl =\n",
              "    domScope.querySelector('#df-7af686b4-dbbe-4875-947f-1efdac3e799b button.colab-df-quickchart');\n",
              "  quickchartButtonEl.style.display =\n",
              "    google.colab.kernel.accessAllowed ? 'block' : 'none';\n",
              "}\n",
              "\n",
              "        displayQuickchartButton(document);\n",
              "      </script>\n",
              "      <style>\n",
              "    .colab-df-container {\n",
              "      display:flex;\n",
              "      flex-wrap:wrap;\n",
              "      gap: 12px;\n",
              "    }\n",
              "\n",
              "    .colab-df-convert {\n",
              "      background-color: #E8F0FE;\n",
              "      border: none;\n",
              "      border-radius: 50%;\n",
              "      cursor: pointer;\n",
              "      display: none;\n",
              "      fill: #1967D2;\n",
              "      height: 32px;\n",
              "      padding: 0 0 0 0;\n",
              "      width: 32px;\n",
              "    }\n",
              "\n",
              "    .colab-df-convert:hover {\n",
              "      background-color: #E2EBFA;\n",
              "      box-shadow: 0px 1px 2px rgba(60, 64, 67, 0.3), 0px 1px 3px 1px rgba(60, 64, 67, 0.15);\n",
              "      fill: #174EA6;\n",
              "    }\n",
              "\n",
              "    [theme=dark] .colab-df-convert {\n",
              "      background-color: #3B4455;\n",
              "      fill: #D2E3FC;\n",
              "    }\n",
              "\n",
              "    [theme=dark] .colab-df-convert:hover {\n",
              "      background-color: #434B5C;\n",
              "      box-shadow: 0px 1px 3px 1px rgba(0, 0, 0, 0.15);\n",
              "      filter: drop-shadow(0px 1px 2px rgba(0, 0, 0, 0.3));\n",
              "      fill: #FFFFFF;\n",
              "    }\n",
              "  </style>\n",
              "\n",
              "      <script>\n",
              "        const buttonEl =\n",
              "          document.querySelector('#df-56aabf8b-3f19-4ce4-9af8-1cc0d8f8a4dc button.colab-df-convert');\n",
              "        buttonEl.style.display =\n",
              "          google.colab.kernel.accessAllowed ? 'block' : 'none';\n",
              "\n",
              "        async function convertToInteractive(key) {\n",
              "          const element = document.querySelector('#df-56aabf8b-3f19-4ce4-9af8-1cc0d8f8a4dc');\n",
              "          const dataTable =\n",
              "            await google.colab.kernel.invokeFunction('convertToInteractive',\n",
              "                                                     [key], {});\n",
              "          if (!dataTable) return;\n",
              "\n",
              "          const docLinkHtml = 'Like what you see? Visit the ' +\n",
              "            '<a target=\"_blank\" href=https://colab.research.google.com/notebooks/data_table.ipynb>data table notebook</a>'\n",
              "            + ' to learn more about interactive tables.';\n",
              "          element.innerHTML = '';\n",
              "          dataTable['output_type'] = 'display_data';\n",
              "          await google.colab.output.renderOutput(dataTable, element);\n",
              "          const docLink = document.createElement('div');\n",
              "          docLink.innerHTML = docLinkHtml;\n",
              "          element.appendChild(docLink);\n",
              "        }\n",
              "      </script>\n",
              "    </div>\n",
              "  </div>\n"
            ]
          },
          "metadata": {},
          "execution_count": 148
        }
      ]
    },
    {
      "cell_type": "markdown",
      "source": [
        "Adding more data into the delta table."
      ],
      "metadata": {
        "id": "G-uN-NKDHHrX"
      }
    },
    {
      "cell_type": "code",
      "source": [
        "df_03 = pd.read_csv(\"/lake/data/data_3.csv\")\n",
        "df_03['city_partition'] = df_03['city'].str.lower().str.replace(' ', '_')\n",
        "write_deltalake('/lake/delta_table', df_03,\n",
        "                mode = 'append',\n",
        "                partition_by= ['city_partition'])"
      ],
      "metadata": {
        "id": "68F5fEb8YeI2"
      },
      "execution_count": null,
      "outputs": []
    },
    {
      "cell_type": "markdown",
      "source": [
        "To access the delta table with datetime, we use the attribute `load_with_datetime` and set the timestamp of the moment that you want to access.\n",
        "\n",
        "This parameter accepts the timestamp style: RFC 3339 and SO 8601 \\\n",
        "You can see the examples on this site: https://www.utctime.net/"
      ],
      "metadata": {
        "id": "Gy8PzY12Ztyd"
      }
    },
    {
      "cell_type": "code",
      "source": [
        "df_time = DeltaTable('/lake/delta_table')\n",
        "df_time.load_with_datetime('2023-08-14T02:30:11+00:00')\n",
        "df_time = df_time.to_pandas()\n",
        "df_time"
      ],
      "metadata": {
        "colab": {
          "base_uri": "https://localhost:8080/",
          "height": 363
        },
        "id": "KOBs4ePIY8oy",
        "outputId": "e1cc4c0b-738d-473f-be82-0212b18ee325"
      },
      "execution_count": null,
      "outputs": [
        {
          "output_type": "execute_result",
          "data": {
            "text/plain": [
              "   id               name         city  age  salary  score city_partition\n",
              "0   3          Jim Evans     New York   46    2171    188       new_york\n",
              "1  10     Keith Thompson     New York   32    3801    317       new_york\n",
              "2   1      James Stewart    Las Vegas   56    4530    490      las_vegas\n",
              "3   2  Alejandro Barrett    Las Vegas   52    4734    422      las_vegas\n",
              "4   5      Morgan Bailey    Las Vegas   21    1617    202      las_vegas\n",
              "5   6        David James    Las Vegas   62    4107    594      las_vegas\n",
              "6   7       Kelli Murphy    Las Vegas   35    4727    455      las_vegas\n",
              "7   8     Ashley Vasquez    Las Vegas   58    2401    210      las_vegas\n",
              "8   9         Lisa Bruce    Las Vegas   27    2915    559      las_vegas\n",
              "9   4          Tina Kirk  Los Angeles   26    3531    900    los_angeles"
            ],
            "text/html": [
              "\n",
              "\n",
              "  <div id=\"df-d2b2af46-1809-4e26-a3cf-1b88c7cccfdb\">\n",
              "    <div class=\"colab-df-container\">\n",
              "      <div>\n",
              "<style scoped>\n",
              "    .dataframe tbody tr th:only-of-type {\n",
              "        vertical-align: middle;\n",
              "    }\n",
              "\n",
              "    .dataframe tbody tr th {\n",
              "        vertical-align: top;\n",
              "    }\n",
              "\n",
              "    .dataframe thead th {\n",
              "        text-align: right;\n",
              "    }\n",
              "</style>\n",
              "<table border=\"1\" class=\"dataframe\">\n",
              "  <thead>\n",
              "    <tr style=\"text-align: right;\">\n",
              "      <th></th>\n",
              "      <th>id</th>\n",
              "      <th>name</th>\n",
              "      <th>city</th>\n",
              "      <th>age</th>\n",
              "      <th>salary</th>\n",
              "      <th>score</th>\n",
              "      <th>city_partition</th>\n",
              "    </tr>\n",
              "  </thead>\n",
              "  <tbody>\n",
              "    <tr>\n",
              "      <th>0</th>\n",
              "      <td>3</td>\n",
              "      <td>Jim Evans</td>\n",
              "      <td>New York</td>\n",
              "      <td>46</td>\n",
              "      <td>2171</td>\n",
              "      <td>188</td>\n",
              "      <td>new_york</td>\n",
              "    </tr>\n",
              "    <tr>\n",
              "      <th>1</th>\n",
              "      <td>10</td>\n",
              "      <td>Keith Thompson</td>\n",
              "      <td>New York</td>\n",
              "      <td>32</td>\n",
              "      <td>3801</td>\n",
              "      <td>317</td>\n",
              "      <td>new_york</td>\n",
              "    </tr>\n",
              "    <tr>\n",
              "      <th>2</th>\n",
              "      <td>1</td>\n",
              "      <td>James Stewart</td>\n",
              "      <td>Las Vegas</td>\n",
              "      <td>56</td>\n",
              "      <td>4530</td>\n",
              "      <td>490</td>\n",
              "      <td>las_vegas</td>\n",
              "    </tr>\n",
              "    <tr>\n",
              "      <th>3</th>\n",
              "      <td>2</td>\n",
              "      <td>Alejandro Barrett</td>\n",
              "      <td>Las Vegas</td>\n",
              "      <td>52</td>\n",
              "      <td>4734</td>\n",
              "      <td>422</td>\n",
              "      <td>las_vegas</td>\n",
              "    </tr>\n",
              "    <tr>\n",
              "      <th>4</th>\n",
              "      <td>5</td>\n",
              "      <td>Morgan Bailey</td>\n",
              "      <td>Las Vegas</td>\n",
              "      <td>21</td>\n",
              "      <td>1617</td>\n",
              "      <td>202</td>\n",
              "      <td>las_vegas</td>\n",
              "    </tr>\n",
              "    <tr>\n",
              "      <th>5</th>\n",
              "      <td>6</td>\n",
              "      <td>David James</td>\n",
              "      <td>Las Vegas</td>\n",
              "      <td>62</td>\n",
              "      <td>4107</td>\n",
              "      <td>594</td>\n",
              "      <td>las_vegas</td>\n",
              "    </tr>\n",
              "    <tr>\n",
              "      <th>6</th>\n",
              "      <td>7</td>\n",
              "      <td>Kelli Murphy</td>\n",
              "      <td>Las Vegas</td>\n",
              "      <td>35</td>\n",
              "      <td>4727</td>\n",
              "      <td>455</td>\n",
              "      <td>las_vegas</td>\n",
              "    </tr>\n",
              "    <tr>\n",
              "      <th>7</th>\n",
              "      <td>8</td>\n",
              "      <td>Ashley Vasquez</td>\n",
              "      <td>Las Vegas</td>\n",
              "      <td>58</td>\n",
              "      <td>2401</td>\n",
              "      <td>210</td>\n",
              "      <td>las_vegas</td>\n",
              "    </tr>\n",
              "    <tr>\n",
              "      <th>8</th>\n",
              "      <td>9</td>\n",
              "      <td>Lisa Bruce</td>\n",
              "      <td>Las Vegas</td>\n",
              "      <td>27</td>\n",
              "      <td>2915</td>\n",
              "      <td>559</td>\n",
              "      <td>las_vegas</td>\n",
              "    </tr>\n",
              "    <tr>\n",
              "      <th>9</th>\n",
              "      <td>4</td>\n",
              "      <td>Tina Kirk</td>\n",
              "      <td>Los Angeles</td>\n",
              "      <td>26</td>\n",
              "      <td>3531</td>\n",
              "      <td>900</td>\n",
              "      <td>los_angeles</td>\n",
              "    </tr>\n",
              "  </tbody>\n",
              "</table>\n",
              "</div>\n",
              "      <button class=\"colab-df-convert\" onclick=\"convertToInteractive('df-d2b2af46-1809-4e26-a3cf-1b88c7cccfdb')\"\n",
              "              title=\"Convert this dataframe to an interactive table.\"\n",
              "              style=\"display:none;\">\n",
              "\n",
              "  <svg xmlns=\"http://www.w3.org/2000/svg\" height=\"24px\"viewBox=\"0 0 24 24\"\n",
              "       width=\"24px\">\n",
              "    <path d=\"M0 0h24v24H0V0z\" fill=\"none\"/>\n",
              "    <path d=\"M18.56 5.44l.94 2.06.94-2.06 2.06-.94-2.06-.94-.94-2.06-.94 2.06-2.06.94zm-11 1L8.5 8.5l.94-2.06 2.06-.94-2.06-.94L8.5 2.5l-.94 2.06-2.06.94zm10 10l.94 2.06.94-2.06 2.06-.94-2.06-.94-.94-2.06-.94 2.06-2.06.94z\"/><path d=\"M17.41 7.96l-1.37-1.37c-.4-.4-.92-.59-1.43-.59-.52 0-1.04.2-1.43.59L10.3 9.45l-7.72 7.72c-.78.78-.78 2.05 0 2.83L4 21.41c.39.39.9.59 1.41.59.51 0 1.02-.2 1.41-.59l7.78-7.78 2.81-2.81c.8-.78.8-2.07 0-2.86zM5.41 20L4 18.59l7.72-7.72 1.47 1.35L5.41 20z\"/>\n",
              "  </svg>\n",
              "      </button>\n",
              "\n",
              "\n",
              "\n",
              "    <div id=\"df-92f7a8e6-4421-4310-a36f-5cbe9d0a636d\">\n",
              "      <button class=\"colab-df-quickchart\" onclick=\"quickchart('df-92f7a8e6-4421-4310-a36f-5cbe9d0a636d')\"\n",
              "              title=\"Suggest charts.\"\n",
              "              style=\"display:none;\">\n",
              "\n",
              "<svg xmlns=\"http://www.w3.org/2000/svg\" height=\"24px\"viewBox=\"0 0 24 24\"\n",
              "     width=\"24px\">\n",
              "    <g>\n",
              "        <path d=\"M19 3H5c-1.1 0-2 .9-2 2v14c0 1.1.9 2 2 2h14c1.1 0 2-.9 2-2V5c0-1.1-.9-2-2-2zM9 17H7v-7h2v7zm4 0h-2V7h2v10zm4 0h-2v-4h2v4z\"/>\n",
              "    </g>\n",
              "</svg>\n",
              "      </button>\n",
              "    </div>\n",
              "\n",
              "<style>\n",
              "  .colab-df-quickchart {\n",
              "    background-color: #E8F0FE;\n",
              "    border: none;\n",
              "    border-radius: 50%;\n",
              "    cursor: pointer;\n",
              "    display: none;\n",
              "    fill: #1967D2;\n",
              "    height: 32px;\n",
              "    padding: 0 0 0 0;\n",
              "    width: 32px;\n",
              "  }\n",
              "\n",
              "  .colab-df-quickchart:hover {\n",
              "    background-color: #E2EBFA;\n",
              "    box-shadow: 0px 1px 2px rgba(60, 64, 67, 0.3), 0px 1px 3px 1px rgba(60, 64, 67, 0.15);\n",
              "    fill: #174EA6;\n",
              "  }\n",
              "\n",
              "  [theme=dark] .colab-df-quickchart {\n",
              "    background-color: #3B4455;\n",
              "    fill: #D2E3FC;\n",
              "  }\n",
              "\n",
              "  [theme=dark] .colab-df-quickchart:hover {\n",
              "    background-color: #434B5C;\n",
              "    box-shadow: 0px 1px 3px 1px rgba(0, 0, 0, 0.15);\n",
              "    filter: drop-shadow(0px 1px 2px rgba(0, 0, 0, 0.3));\n",
              "    fill: #FFFFFF;\n",
              "  }\n",
              "</style>\n",
              "\n",
              "    <script>\n",
              "      async function quickchart(key) {\n",
              "        const containerElement = document.querySelector('#' + key);\n",
              "        const charts = await google.colab.kernel.invokeFunction(\n",
              "            'suggestCharts', [key], {});\n",
              "      }\n",
              "    </script>\n",
              "\n",
              "      <script>\n",
              "\n",
              "function displayQuickchartButton(domScope) {\n",
              "  let quickchartButtonEl =\n",
              "    domScope.querySelector('#df-92f7a8e6-4421-4310-a36f-5cbe9d0a636d button.colab-df-quickchart');\n",
              "  quickchartButtonEl.style.display =\n",
              "    google.colab.kernel.accessAllowed ? 'block' : 'none';\n",
              "}\n",
              "\n",
              "        displayQuickchartButton(document);\n",
              "      </script>\n",
              "      <style>\n",
              "    .colab-df-container {\n",
              "      display:flex;\n",
              "      flex-wrap:wrap;\n",
              "      gap: 12px;\n",
              "    }\n",
              "\n",
              "    .colab-df-convert {\n",
              "      background-color: #E8F0FE;\n",
              "      border: none;\n",
              "      border-radius: 50%;\n",
              "      cursor: pointer;\n",
              "      display: none;\n",
              "      fill: #1967D2;\n",
              "      height: 32px;\n",
              "      padding: 0 0 0 0;\n",
              "      width: 32px;\n",
              "    }\n",
              "\n",
              "    .colab-df-convert:hover {\n",
              "      background-color: #E2EBFA;\n",
              "      box-shadow: 0px 1px 2px rgba(60, 64, 67, 0.3), 0px 1px 3px 1px rgba(60, 64, 67, 0.15);\n",
              "      fill: #174EA6;\n",
              "    }\n",
              "\n",
              "    [theme=dark] .colab-df-convert {\n",
              "      background-color: #3B4455;\n",
              "      fill: #D2E3FC;\n",
              "    }\n",
              "\n",
              "    [theme=dark] .colab-df-convert:hover {\n",
              "      background-color: #434B5C;\n",
              "      box-shadow: 0px 1px 3px 1px rgba(0, 0, 0, 0.15);\n",
              "      filter: drop-shadow(0px 1px 2px rgba(0, 0, 0, 0.3));\n",
              "      fill: #FFFFFF;\n",
              "    }\n",
              "  </style>\n",
              "\n",
              "      <script>\n",
              "        const buttonEl =\n",
              "          document.querySelector('#df-d2b2af46-1809-4e26-a3cf-1b88c7cccfdb button.colab-df-convert');\n",
              "        buttonEl.style.display =\n",
              "          google.colab.kernel.accessAllowed ? 'block' : 'none';\n",
              "\n",
              "        async function convertToInteractive(key) {\n",
              "          const element = document.querySelector('#df-d2b2af46-1809-4e26-a3cf-1b88c7cccfdb');\n",
              "          const dataTable =\n",
              "            await google.colab.kernel.invokeFunction('convertToInteractive',\n",
              "                                                     [key], {});\n",
              "          if (!dataTable) return;\n",
              "\n",
              "          const docLinkHtml = 'Like what you see? Visit the ' +\n",
              "            '<a target=\"_blank\" href=https://colab.research.google.com/notebooks/data_table.ipynb>data table notebook</a>'\n",
              "            + ' to learn more about interactive tables.';\n",
              "          element.innerHTML = '';\n",
              "          dataTable['output_type'] = 'display_data';\n",
              "          await google.colab.output.renderOutput(dataTable, element);\n",
              "          const docLink = document.createElement('div');\n",
              "          docLink.innerHTML = docLinkHtml;\n",
              "          element.appendChild(docLink);\n",
              "        }\n",
              "      </script>\n",
              "    </div>\n",
              "  </div>\n"
            ]
          },
          "metadata": {},
          "execution_count": 98
        }
      ]
    },
    {
      "cell_type": "code",
      "source": [
        "df_metadata = DeltaTable('/lake/delta_table').get_add_actions(flatten=True).to_pandas()"
      ],
      "metadata": {
        "id": "QJ_ENv-1HNg2"
      },
      "execution_count": null,
      "outputs": []
    },
    {
      "cell_type": "code",
      "source": [
        "df_metadata.head()"
      ],
      "metadata": {
        "colab": {
          "base_uri": "https://localhost:8080/",
          "height": 374
        },
        "id": "Jdp6EXX_HThN",
        "outputId": "d0c36ed4-4760-421a-c07b-4716614a4955"
      },
      "execution_count": null,
      "outputs": [
        {
          "output_type": "execute_result",
          "data": {
            "text/plain": [
              "                                                path  size_bytes  \\\n",
              "0  city_partition=new_york/0-d74f8bf0-8f06-46c2-8...        4999   \n",
              "1  city_partition=las_vegas/0-d74f8bf0-8f06-46c2-...        5220   \n",
              "2  city_partition=los_angeles/0-d74f8bf0-8f06-46c...        4955   \n",
              "3  city_partition=las_vegas/1-8736d75d-a010-432b-...        5147   \n",
              "4  city_partition=new_york/1-8736d75d-a010-432b-a...        5095   \n",
              "\n",
              "        modification_time  data_change partition.city_partition  num_records  \\\n",
              "0 2023-08-15 02:23:50.736         True                 new_york            2   \n",
              "1 2023-08-15 02:23:50.747         True                las_vegas            7   \n",
              "2 2023-08-15 02:23:50.756         True              los_angeles            1   \n",
              "3 2023-08-15 02:51:57.697         True                las_vegas            4   \n",
              "4 2023-08-15 02:51:57.703         True                 new_york            4   \n",
              "\n",
              "   null_count.id  min.id  max.id  null_count.name             min.name  \\\n",
              "0              0       3      10                0            Jim Evans   \n",
              "1              0       1       9                0    Alejandro Barrett   \n",
              "2              0       4       4                0            Tina Kirk   \n",
              "3              0      11      19                0  Dr. Roberta West MD   \n",
              "4              0      12      20                0         Cody Sanchez   \n",
              "\n",
              "            max.name  null_count.city     min.city     max.city  \\\n",
              "0     Keith Thompson                0     New York     New York   \n",
              "1      Morgan Bailey                0    Las Vegas    Las Vegas   \n",
              "2          Tina Kirk                0  Los Angeles  Los Angeles   \n",
              "3  Michael Underwood                0    Las Vegas    Las Vegas   \n",
              "4    Stephen Mcclure                0     New York     New York   \n",
              "\n",
              "   null_count.age  min.age  max.age  null_count.salary  min.salary  \\\n",
              "0               0       32       46                  0        2171   \n",
              "1               0       21       62                  0        1617   \n",
              "2               0       26       26                  0        3531   \n",
              "3               0       35       49                  0        3101   \n",
              "4               0       20       61                  0        2262   \n",
              "\n",
              "   max.salary  null_count.score  min.score  max.score  \n",
              "0        3801                 0        188        317  \n",
              "1        4734                 0        202        594  \n",
              "2        3531                 0        900        900  \n",
              "3        4994                 0        212        950  \n",
              "4        4876                 0        301        665  "
            ],
            "text/html": [
              "\n",
              "\n",
              "  <div id=\"df-e7ce51aa-07f1-40b2-99cb-c03b7879baa6\">\n",
              "    <div class=\"colab-df-container\">\n",
              "      <div>\n",
              "<style scoped>\n",
              "    .dataframe tbody tr th:only-of-type {\n",
              "        vertical-align: middle;\n",
              "    }\n",
              "\n",
              "    .dataframe tbody tr th {\n",
              "        vertical-align: top;\n",
              "    }\n",
              "\n",
              "    .dataframe thead th {\n",
              "        text-align: right;\n",
              "    }\n",
              "</style>\n",
              "<table border=\"1\" class=\"dataframe\">\n",
              "  <thead>\n",
              "    <tr style=\"text-align: right;\">\n",
              "      <th></th>\n",
              "      <th>path</th>\n",
              "      <th>size_bytes</th>\n",
              "      <th>modification_time</th>\n",
              "      <th>data_change</th>\n",
              "      <th>partition.city_partition</th>\n",
              "      <th>num_records</th>\n",
              "      <th>null_count.id</th>\n",
              "      <th>min.id</th>\n",
              "      <th>max.id</th>\n",
              "      <th>null_count.name</th>\n",
              "      <th>min.name</th>\n",
              "      <th>max.name</th>\n",
              "      <th>null_count.city</th>\n",
              "      <th>min.city</th>\n",
              "      <th>max.city</th>\n",
              "      <th>null_count.age</th>\n",
              "      <th>min.age</th>\n",
              "      <th>max.age</th>\n",
              "      <th>null_count.salary</th>\n",
              "      <th>min.salary</th>\n",
              "      <th>max.salary</th>\n",
              "      <th>null_count.score</th>\n",
              "      <th>min.score</th>\n",
              "      <th>max.score</th>\n",
              "    </tr>\n",
              "  </thead>\n",
              "  <tbody>\n",
              "    <tr>\n",
              "      <th>0</th>\n",
              "      <td>city_partition=new_york/0-d74f8bf0-8f06-46c2-8...</td>\n",
              "      <td>4999</td>\n",
              "      <td>2023-08-15 02:23:50.736</td>\n",
              "      <td>True</td>\n",
              "      <td>new_york</td>\n",
              "      <td>2</td>\n",
              "      <td>0</td>\n",
              "      <td>3</td>\n",
              "      <td>10</td>\n",
              "      <td>0</td>\n",
              "      <td>Jim Evans</td>\n",
              "      <td>Keith Thompson</td>\n",
              "      <td>0</td>\n",
              "      <td>New York</td>\n",
              "      <td>New York</td>\n",
              "      <td>0</td>\n",
              "      <td>32</td>\n",
              "      <td>46</td>\n",
              "      <td>0</td>\n",
              "      <td>2171</td>\n",
              "      <td>3801</td>\n",
              "      <td>0</td>\n",
              "      <td>188</td>\n",
              "      <td>317</td>\n",
              "    </tr>\n",
              "    <tr>\n",
              "      <th>1</th>\n",
              "      <td>city_partition=las_vegas/0-d74f8bf0-8f06-46c2-...</td>\n",
              "      <td>5220</td>\n",
              "      <td>2023-08-15 02:23:50.747</td>\n",
              "      <td>True</td>\n",
              "      <td>las_vegas</td>\n",
              "      <td>7</td>\n",
              "      <td>0</td>\n",
              "      <td>1</td>\n",
              "      <td>9</td>\n",
              "      <td>0</td>\n",
              "      <td>Alejandro Barrett</td>\n",
              "      <td>Morgan Bailey</td>\n",
              "      <td>0</td>\n",
              "      <td>Las Vegas</td>\n",
              "      <td>Las Vegas</td>\n",
              "      <td>0</td>\n",
              "      <td>21</td>\n",
              "      <td>62</td>\n",
              "      <td>0</td>\n",
              "      <td>1617</td>\n",
              "      <td>4734</td>\n",
              "      <td>0</td>\n",
              "      <td>202</td>\n",
              "      <td>594</td>\n",
              "    </tr>\n",
              "    <tr>\n",
              "      <th>2</th>\n",
              "      <td>city_partition=los_angeles/0-d74f8bf0-8f06-46c...</td>\n",
              "      <td>4955</td>\n",
              "      <td>2023-08-15 02:23:50.756</td>\n",
              "      <td>True</td>\n",
              "      <td>los_angeles</td>\n",
              "      <td>1</td>\n",
              "      <td>0</td>\n",
              "      <td>4</td>\n",
              "      <td>4</td>\n",
              "      <td>0</td>\n",
              "      <td>Tina Kirk</td>\n",
              "      <td>Tina Kirk</td>\n",
              "      <td>0</td>\n",
              "      <td>Los Angeles</td>\n",
              "      <td>Los Angeles</td>\n",
              "      <td>0</td>\n",
              "      <td>26</td>\n",
              "      <td>26</td>\n",
              "      <td>0</td>\n",
              "      <td>3531</td>\n",
              "      <td>3531</td>\n",
              "      <td>0</td>\n",
              "      <td>900</td>\n",
              "      <td>900</td>\n",
              "    </tr>\n",
              "    <tr>\n",
              "      <th>3</th>\n",
              "      <td>city_partition=las_vegas/1-8736d75d-a010-432b-...</td>\n",
              "      <td>5147</td>\n",
              "      <td>2023-08-15 02:51:57.697</td>\n",
              "      <td>True</td>\n",
              "      <td>las_vegas</td>\n",
              "      <td>4</td>\n",
              "      <td>0</td>\n",
              "      <td>11</td>\n",
              "      <td>19</td>\n",
              "      <td>0</td>\n",
              "      <td>Dr. Roberta West MD</td>\n",
              "      <td>Michael Underwood</td>\n",
              "      <td>0</td>\n",
              "      <td>Las Vegas</td>\n",
              "      <td>Las Vegas</td>\n",
              "      <td>0</td>\n",
              "      <td>35</td>\n",
              "      <td>49</td>\n",
              "      <td>0</td>\n",
              "      <td>3101</td>\n",
              "      <td>4994</td>\n",
              "      <td>0</td>\n",
              "      <td>212</td>\n",
              "      <td>950</td>\n",
              "    </tr>\n",
              "    <tr>\n",
              "      <th>4</th>\n",
              "      <td>city_partition=new_york/1-8736d75d-a010-432b-a...</td>\n",
              "      <td>5095</td>\n",
              "      <td>2023-08-15 02:51:57.703</td>\n",
              "      <td>True</td>\n",
              "      <td>new_york</td>\n",
              "      <td>4</td>\n",
              "      <td>0</td>\n",
              "      <td>12</td>\n",
              "      <td>20</td>\n",
              "      <td>0</td>\n",
              "      <td>Cody Sanchez</td>\n",
              "      <td>Stephen Mcclure</td>\n",
              "      <td>0</td>\n",
              "      <td>New York</td>\n",
              "      <td>New York</td>\n",
              "      <td>0</td>\n",
              "      <td>20</td>\n",
              "      <td>61</td>\n",
              "      <td>0</td>\n",
              "      <td>2262</td>\n",
              "      <td>4876</td>\n",
              "      <td>0</td>\n",
              "      <td>301</td>\n",
              "      <td>665</td>\n",
              "    </tr>\n",
              "  </tbody>\n",
              "</table>\n",
              "</div>\n",
              "      <button class=\"colab-df-convert\" onclick=\"convertToInteractive('df-e7ce51aa-07f1-40b2-99cb-c03b7879baa6')\"\n",
              "              title=\"Convert this dataframe to an interactive table.\"\n",
              "              style=\"display:none;\">\n",
              "\n",
              "  <svg xmlns=\"http://www.w3.org/2000/svg\" height=\"24px\"viewBox=\"0 0 24 24\"\n",
              "       width=\"24px\">\n",
              "    <path d=\"M0 0h24v24H0V0z\" fill=\"none\"/>\n",
              "    <path d=\"M18.56 5.44l.94 2.06.94-2.06 2.06-.94-2.06-.94-.94-2.06-.94 2.06-2.06.94zm-11 1L8.5 8.5l.94-2.06 2.06-.94-2.06-.94L8.5 2.5l-.94 2.06-2.06.94zm10 10l.94 2.06.94-2.06 2.06-.94-2.06-.94-.94-2.06-.94 2.06-2.06.94z\"/><path d=\"M17.41 7.96l-1.37-1.37c-.4-.4-.92-.59-1.43-.59-.52 0-1.04.2-1.43.59L10.3 9.45l-7.72 7.72c-.78.78-.78 2.05 0 2.83L4 21.41c.39.39.9.59 1.41.59.51 0 1.02-.2 1.41-.59l7.78-7.78 2.81-2.81c.8-.78.8-2.07 0-2.86zM5.41 20L4 18.59l7.72-7.72 1.47 1.35L5.41 20z\"/>\n",
              "  </svg>\n",
              "      </button>\n",
              "\n",
              "\n",
              "\n",
              "    <div id=\"df-e504bac2-33a5-470d-abea-dcd558835058\">\n",
              "      <button class=\"colab-df-quickchart\" onclick=\"quickchart('df-e504bac2-33a5-470d-abea-dcd558835058')\"\n",
              "              title=\"Suggest charts.\"\n",
              "              style=\"display:none;\">\n",
              "\n",
              "<svg xmlns=\"http://www.w3.org/2000/svg\" height=\"24px\"viewBox=\"0 0 24 24\"\n",
              "     width=\"24px\">\n",
              "    <g>\n",
              "        <path d=\"M19 3H5c-1.1 0-2 .9-2 2v14c0 1.1.9 2 2 2h14c1.1 0 2-.9 2-2V5c0-1.1-.9-2-2-2zM9 17H7v-7h2v7zm4 0h-2V7h2v10zm4 0h-2v-4h2v4z\"/>\n",
              "    </g>\n",
              "</svg>\n",
              "      </button>\n",
              "    </div>\n",
              "\n",
              "<style>\n",
              "  .colab-df-quickchart {\n",
              "    background-color: #E8F0FE;\n",
              "    border: none;\n",
              "    border-radius: 50%;\n",
              "    cursor: pointer;\n",
              "    display: none;\n",
              "    fill: #1967D2;\n",
              "    height: 32px;\n",
              "    padding: 0 0 0 0;\n",
              "    width: 32px;\n",
              "  }\n",
              "\n",
              "  .colab-df-quickchart:hover {\n",
              "    background-color: #E2EBFA;\n",
              "    box-shadow: 0px 1px 2px rgba(60, 64, 67, 0.3), 0px 1px 3px 1px rgba(60, 64, 67, 0.15);\n",
              "    fill: #174EA6;\n",
              "  }\n",
              "\n",
              "  [theme=dark] .colab-df-quickchart {\n",
              "    background-color: #3B4455;\n",
              "    fill: #D2E3FC;\n",
              "  }\n",
              "\n",
              "  [theme=dark] .colab-df-quickchart:hover {\n",
              "    background-color: #434B5C;\n",
              "    box-shadow: 0px 1px 3px 1px rgba(0, 0, 0, 0.15);\n",
              "    filter: drop-shadow(0px 1px 2px rgba(0, 0, 0, 0.3));\n",
              "    fill: #FFFFFF;\n",
              "  }\n",
              "</style>\n",
              "\n",
              "    <script>\n",
              "      async function quickchart(key) {\n",
              "        const containerElement = document.querySelector('#' + key);\n",
              "        const charts = await google.colab.kernel.invokeFunction(\n",
              "            'suggestCharts', [key], {});\n",
              "      }\n",
              "    </script>\n",
              "\n",
              "      <script>\n",
              "\n",
              "function displayQuickchartButton(domScope) {\n",
              "  let quickchartButtonEl =\n",
              "    domScope.querySelector('#df-e504bac2-33a5-470d-abea-dcd558835058 button.colab-df-quickchart');\n",
              "  quickchartButtonEl.style.display =\n",
              "    google.colab.kernel.accessAllowed ? 'block' : 'none';\n",
              "}\n",
              "\n",
              "        displayQuickchartButton(document);\n",
              "      </script>\n",
              "      <style>\n",
              "    .colab-df-container {\n",
              "      display:flex;\n",
              "      flex-wrap:wrap;\n",
              "      gap: 12px;\n",
              "    }\n",
              "\n",
              "    .colab-df-convert {\n",
              "      background-color: #E8F0FE;\n",
              "      border: none;\n",
              "      border-radius: 50%;\n",
              "      cursor: pointer;\n",
              "      display: none;\n",
              "      fill: #1967D2;\n",
              "      height: 32px;\n",
              "      padding: 0 0 0 0;\n",
              "      width: 32px;\n",
              "    }\n",
              "\n",
              "    .colab-df-convert:hover {\n",
              "      background-color: #E2EBFA;\n",
              "      box-shadow: 0px 1px 2px rgba(60, 64, 67, 0.3), 0px 1px 3px 1px rgba(60, 64, 67, 0.15);\n",
              "      fill: #174EA6;\n",
              "    }\n",
              "\n",
              "    [theme=dark] .colab-df-convert {\n",
              "      background-color: #3B4455;\n",
              "      fill: #D2E3FC;\n",
              "    }\n",
              "\n",
              "    [theme=dark] .colab-df-convert:hover {\n",
              "      background-color: #434B5C;\n",
              "      box-shadow: 0px 1px 3px 1px rgba(0, 0, 0, 0.15);\n",
              "      filter: drop-shadow(0px 1px 2px rgba(0, 0, 0, 0.3));\n",
              "      fill: #FFFFFF;\n",
              "    }\n",
              "  </style>\n",
              "\n",
              "      <script>\n",
              "        const buttonEl =\n",
              "          document.querySelector('#df-e7ce51aa-07f1-40b2-99cb-c03b7879baa6 button.colab-df-convert');\n",
              "        buttonEl.style.display =\n",
              "          google.colab.kernel.accessAllowed ? 'block' : 'none';\n",
              "\n",
              "        async function convertToInteractive(key) {\n",
              "          const element = document.querySelector('#df-e7ce51aa-07f1-40b2-99cb-c03b7879baa6');\n",
              "          const dataTable =\n",
              "            await google.colab.kernel.invokeFunction('convertToInteractive',\n",
              "                                                     [key], {});\n",
              "          if (!dataTable) return;\n",
              "\n",
              "          const docLinkHtml = 'Like what you see? Visit the ' +\n",
              "            '<a target=\"_blank\" href=https://colab.research.google.com/notebooks/data_table.ipynb>data table notebook</a>'\n",
              "            + ' to learn more about interactive tables.';\n",
              "          element.innerHTML = '';\n",
              "          dataTable['output_type'] = 'display_data';\n",
              "          await google.colab.output.renderOutput(dataTable, element);\n",
              "          const docLink = document.createElement('div');\n",
              "          docLink.innerHTML = docLinkHtml;\n",
              "          element.appendChild(docLink);\n",
              "        }\n",
              "      </script>\n",
              "    </div>\n",
              "  </div>\n"
            ]
          },
          "metadata": {},
          "execution_count": 99
        }
      ]
    },
    {
      "cell_type": "markdown",
      "source": [
        "# Schema Reiforcement"
      ],
      "metadata": {
        "id": "EOshCtonaDGQ"
      }
    },
    {
      "cell_type": "markdown",
      "source": [
        "The Reiforcement Schema prevents data corruption, the delta table only allows appending new data with the same schema of the delta table.\n",
        "\n",
        "We'll create a new person to add to our delta table, but we'll create with age column as a string to see the Reinforcement Schema feature."
      ],
      "metadata": {
        "id": "214Gn4IsIU5i"
      }
    },
    {
      "cell_type": "code",
      "source": [
        "df_time.loc[0]=[\"Jim Evans\",\t\"New York\",\t\"46c\",\t\"new_york\"]"
      ],
      "metadata": {
        "id": "DplbFeBbZUZq"
      },
      "execution_count": null,
      "outputs": []
    },
    {
      "cell_type": "code",
      "source": [
        "df_time.head(3)"
      ],
      "metadata": {
        "colab": {
          "base_uri": "https://localhost:8080/",
          "height": 143
        },
        "id": "3i2BteHqaMqo",
        "outputId": "31c28a01-4931-4c93-ca1a-0e787cba0881"
      },
      "execution_count": null,
      "outputs": [
        {
          "output_type": "execute_result",
          "data": {
            "text/plain": [
              "             name       city  age city_partition\n",
              "0       Jim Evans   New York  46c       new_york\n",
              "1  Keith Thompson   New York   32       new_york\n",
              "2   James Stewart  Las Vegas   56      las_vegas"
            ],
            "text/html": [
              "\n",
              "\n",
              "  <div id=\"df-5ddcb2f2-22f3-4b07-9886-977bf6e1f059\">\n",
              "    <div class=\"colab-df-container\">\n",
              "      <div>\n",
              "<style scoped>\n",
              "    .dataframe tbody tr th:only-of-type {\n",
              "        vertical-align: middle;\n",
              "    }\n",
              "\n",
              "    .dataframe tbody tr th {\n",
              "        vertical-align: top;\n",
              "    }\n",
              "\n",
              "    .dataframe thead th {\n",
              "        text-align: right;\n",
              "    }\n",
              "</style>\n",
              "<table border=\"1\" class=\"dataframe\">\n",
              "  <thead>\n",
              "    <tr style=\"text-align: right;\">\n",
              "      <th></th>\n",
              "      <th>name</th>\n",
              "      <th>city</th>\n",
              "      <th>age</th>\n",
              "      <th>city_partition</th>\n",
              "    </tr>\n",
              "  </thead>\n",
              "  <tbody>\n",
              "    <tr>\n",
              "      <th>0</th>\n",
              "      <td>Jim Evans</td>\n",
              "      <td>New York</td>\n",
              "      <td>46c</td>\n",
              "      <td>new_york</td>\n",
              "    </tr>\n",
              "    <tr>\n",
              "      <th>1</th>\n",
              "      <td>Keith Thompson</td>\n",
              "      <td>New York</td>\n",
              "      <td>32</td>\n",
              "      <td>new_york</td>\n",
              "    </tr>\n",
              "    <tr>\n",
              "      <th>2</th>\n",
              "      <td>James Stewart</td>\n",
              "      <td>Las Vegas</td>\n",
              "      <td>56</td>\n",
              "      <td>las_vegas</td>\n",
              "    </tr>\n",
              "  </tbody>\n",
              "</table>\n",
              "</div>\n",
              "      <button class=\"colab-df-convert\" onclick=\"convertToInteractive('df-5ddcb2f2-22f3-4b07-9886-977bf6e1f059')\"\n",
              "              title=\"Convert this dataframe to an interactive table.\"\n",
              "              style=\"display:none;\">\n",
              "\n",
              "  <svg xmlns=\"http://www.w3.org/2000/svg\" height=\"24px\"viewBox=\"0 0 24 24\"\n",
              "       width=\"24px\">\n",
              "    <path d=\"M0 0h24v24H0V0z\" fill=\"none\"/>\n",
              "    <path d=\"M18.56 5.44l.94 2.06.94-2.06 2.06-.94-2.06-.94-.94-2.06-.94 2.06-2.06.94zm-11 1L8.5 8.5l.94-2.06 2.06-.94-2.06-.94L8.5 2.5l-.94 2.06-2.06.94zm10 10l.94 2.06.94-2.06 2.06-.94-2.06-.94-.94-2.06-.94 2.06-2.06.94z\"/><path d=\"M17.41 7.96l-1.37-1.37c-.4-.4-.92-.59-1.43-.59-.52 0-1.04.2-1.43.59L10.3 9.45l-7.72 7.72c-.78.78-.78 2.05 0 2.83L4 21.41c.39.39.9.59 1.41.59.51 0 1.02-.2 1.41-.59l7.78-7.78 2.81-2.81c.8-.78.8-2.07 0-2.86zM5.41 20L4 18.59l7.72-7.72 1.47 1.35L5.41 20z\"/>\n",
              "  </svg>\n",
              "      </button>\n",
              "\n",
              "\n",
              "\n",
              "    <div id=\"df-dde9919b-bc90-48d2-bcec-e697501db741\">\n",
              "      <button class=\"colab-df-quickchart\" onclick=\"quickchart('df-dde9919b-bc90-48d2-bcec-e697501db741')\"\n",
              "              title=\"Suggest charts.\"\n",
              "              style=\"display:none;\">\n",
              "\n",
              "<svg xmlns=\"http://www.w3.org/2000/svg\" height=\"24px\"viewBox=\"0 0 24 24\"\n",
              "     width=\"24px\">\n",
              "    <g>\n",
              "        <path d=\"M19 3H5c-1.1 0-2 .9-2 2v14c0 1.1.9 2 2 2h14c1.1 0 2-.9 2-2V5c0-1.1-.9-2-2-2zM9 17H7v-7h2v7zm4 0h-2V7h2v10zm4 0h-2v-4h2v4z\"/>\n",
              "    </g>\n",
              "</svg>\n",
              "      </button>\n",
              "    </div>\n",
              "\n",
              "<style>\n",
              "  .colab-df-quickchart {\n",
              "    background-color: #E8F0FE;\n",
              "    border: none;\n",
              "    border-radius: 50%;\n",
              "    cursor: pointer;\n",
              "    display: none;\n",
              "    fill: #1967D2;\n",
              "    height: 32px;\n",
              "    padding: 0 0 0 0;\n",
              "    width: 32px;\n",
              "  }\n",
              "\n",
              "  .colab-df-quickchart:hover {\n",
              "    background-color: #E2EBFA;\n",
              "    box-shadow: 0px 1px 2px rgba(60, 64, 67, 0.3), 0px 1px 3px 1px rgba(60, 64, 67, 0.15);\n",
              "    fill: #174EA6;\n",
              "  }\n",
              "\n",
              "  [theme=dark] .colab-df-quickchart {\n",
              "    background-color: #3B4455;\n",
              "    fill: #D2E3FC;\n",
              "  }\n",
              "\n",
              "  [theme=dark] .colab-df-quickchart:hover {\n",
              "    background-color: #434B5C;\n",
              "    box-shadow: 0px 1px 3px 1px rgba(0, 0, 0, 0.15);\n",
              "    filter: drop-shadow(0px 1px 2px rgba(0, 0, 0, 0.3));\n",
              "    fill: #FFFFFF;\n",
              "  }\n",
              "</style>\n",
              "\n",
              "    <script>\n",
              "      async function quickchart(key) {\n",
              "        const containerElement = document.querySelector('#' + key);\n",
              "        const charts = await google.colab.kernel.invokeFunction(\n",
              "            'suggestCharts', [key], {});\n",
              "      }\n",
              "    </script>\n",
              "\n",
              "      <script>\n",
              "\n",
              "function displayQuickchartButton(domScope) {\n",
              "  let quickchartButtonEl =\n",
              "    domScope.querySelector('#df-dde9919b-bc90-48d2-bcec-e697501db741 button.colab-df-quickchart');\n",
              "  quickchartButtonEl.style.display =\n",
              "    google.colab.kernel.accessAllowed ? 'block' : 'none';\n",
              "}\n",
              "\n",
              "        displayQuickchartButton(document);\n",
              "      </script>\n",
              "      <style>\n",
              "    .colab-df-container {\n",
              "      display:flex;\n",
              "      flex-wrap:wrap;\n",
              "      gap: 12px;\n",
              "    }\n",
              "\n",
              "    .colab-df-convert {\n",
              "      background-color: #E8F0FE;\n",
              "      border: none;\n",
              "      border-radius: 50%;\n",
              "      cursor: pointer;\n",
              "      display: none;\n",
              "      fill: #1967D2;\n",
              "      height: 32px;\n",
              "      padding: 0 0 0 0;\n",
              "      width: 32px;\n",
              "    }\n",
              "\n",
              "    .colab-df-convert:hover {\n",
              "      background-color: #E2EBFA;\n",
              "      box-shadow: 0px 1px 2px rgba(60, 64, 67, 0.3), 0px 1px 3px 1px rgba(60, 64, 67, 0.15);\n",
              "      fill: #174EA6;\n",
              "    }\n",
              "\n",
              "    [theme=dark] .colab-df-convert {\n",
              "      background-color: #3B4455;\n",
              "      fill: #D2E3FC;\n",
              "    }\n",
              "\n",
              "    [theme=dark] .colab-df-convert:hover {\n",
              "      background-color: #434B5C;\n",
              "      box-shadow: 0px 1px 3px 1px rgba(0, 0, 0, 0.15);\n",
              "      filter: drop-shadow(0px 1px 2px rgba(0, 0, 0, 0.3));\n",
              "      fill: #FFFFFF;\n",
              "    }\n",
              "  </style>\n",
              "\n",
              "      <script>\n",
              "        const buttonEl =\n",
              "          document.querySelector('#df-5ddcb2f2-22f3-4b07-9886-977bf6e1f059 button.colab-df-convert');\n",
              "        buttonEl.style.display =\n",
              "          google.colab.kernel.accessAllowed ? 'block' : 'none';\n",
              "\n",
              "        async function convertToInteractive(key) {\n",
              "          const element = document.querySelector('#df-5ddcb2f2-22f3-4b07-9886-977bf6e1f059');\n",
              "          const dataTable =\n",
              "            await google.colab.kernel.invokeFunction('convertToInteractive',\n",
              "                                                     [key], {});\n",
              "          if (!dataTable) return;\n",
              "\n",
              "          const docLinkHtml = 'Like what you see? Visit the ' +\n",
              "            '<a target=\"_blank\" href=https://colab.research.google.com/notebooks/data_table.ipynb>data table notebook</a>'\n",
              "            + ' to learn more about interactive tables.';\n",
              "          element.innerHTML = '';\n",
              "          dataTable['output_type'] = 'display_data';\n",
              "          await google.colab.output.renderOutput(dataTable, element);\n",
              "          const docLink = document.createElement('div');\n",
              "          docLink.innerHTML = docLinkHtml;\n",
              "          element.appendChild(docLink);\n",
              "        }\n",
              "      </script>\n",
              "    </div>\n",
              "  </div>\n"
            ]
          },
          "metadata": {},
          "execution_count": 152
        }
      ]
    },
    {
      "cell_type": "code",
      "source": [
        "df_time.dtypes"
      ],
      "metadata": {
        "colab": {
          "base_uri": "https://localhost:8080/"
        },
        "id": "OPImKez7ania",
        "outputId": "e1f9cb7d-c8ea-4b1c-ca8d-0a2373194557"
      },
      "execution_count": null,
      "outputs": [
        {
          "output_type": "execute_result",
          "data": {
            "text/plain": [
              "name              object\n",
              "city              object\n",
              "age               object\n",
              "city_partition    object\n",
              "dtype: object"
            ]
          },
          "metadata": {},
          "execution_count": 153
        }
      ]
    },
    {
      "cell_type": "code",
      "source": [
        "write_deltalake('/lake/delta_table', df_time,\n",
        "                mode = 'append',\n",
        "                partition_by= ['city_partition'])"
      ],
      "metadata": {
        "colab": {
          "base_uri": "https://localhost:8080/",
          "height": 297
        },
        "id": "3qfas9qpaT7M",
        "outputId": "541f3941-6412-4507-b697-23da66631f8c"
      },
      "execution_count": null,
      "outputs": [
        {
          "output_type": "error",
          "ename": "ArrowTypeError",
          "evalue": "ignored",
          "traceback": [
            "\u001b[0;31m---------------------------------------------------------------------------\u001b[0m",
            "\u001b[0;31mArrowTypeError\u001b[0m                            Traceback (most recent call last)",
            "\u001b[0;32m<ipython-input-154-2a7d0398becd>\u001b[0m in \u001b[0;36m<cell line: 1>\u001b[0;34m()\u001b[0m\n\u001b[0;32m----> 1\u001b[0;31m write_deltalake('/lake/delta_table', df_time, \n\u001b[0m\u001b[1;32m      2\u001b[0m                 \u001b[0mmode\u001b[0m \u001b[0;34m=\u001b[0m \u001b[0;34m'append'\u001b[0m\u001b[0;34m,\u001b[0m\u001b[0;34m\u001b[0m\u001b[0;34m\u001b[0m\u001b[0m\n\u001b[1;32m      3\u001b[0m                 partition_by= ['city_partition'])\n",
            "\u001b[0;32m/usr/local/lib/python3.10/dist-packages/deltalake/writer.py\u001b[0m in \u001b[0;36mwrite_deltalake\u001b[0;34m(table_or_uri, data, schema, partition_by, filesystem, mode, file_options, max_partitions, max_open_files, max_rows_per_file, min_rows_per_group, max_rows_per_group, name, description, configuration, overwrite_schema, storage_options, partition_filters)\u001b[0m\n\u001b[1;32m    144\u001b[0m             \u001b[0mdata\u001b[0m \u001b[0;34m=\u001b[0m \u001b[0mpa\u001b[0m\u001b[0;34m.\u001b[0m\u001b[0mTable\u001b[0m\u001b[0;34m.\u001b[0m\u001b[0mfrom_pandas\u001b[0m\u001b[0;34m(\u001b[0m\u001b[0mdata\u001b[0m\u001b[0;34m,\u001b[0m \u001b[0mschema\u001b[0m\u001b[0;34m=\u001b[0m\u001b[0mschema\u001b[0m\u001b[0;34m)\u001b[0m\u001b[0;34m\u001b[0m\u001b[0;34m\u001b[0m\u001b[0m\n\u001b[1;32m    145\u001b[0m         \u001b[0;32melse\u001b[0m\u001b[0;34m:\u001b[0m\u001b[0;34m\u001b[0m\u001b[0;34m\u001b[0m\u001b[0m\n\u001b[0;32m--> 146\u001b[0;31m             \u001b[0mdata\u001b[0m\u001b[0;34m,\u001b[0m \u001b[0mschema\u001b[0m \u001b[0;34m=\u001b[0m \u001b[0mdelta_arrow_schema_from_pandas\u001b[0m\u001b[0;34m(\u001b[0m\u001b[0mdata\u001b[0m\u001b[0;34m)\u001b[0m\u001b[0;34m\u001b[0m\u001b[0;34m\u001b[0m\u001b[0m\n\u001b[0m\u001b[1;32m    147\u001b[0m \u001b[0;34m\u001b[0m\u001b[0m\n\u001b[1;32m    148\u001b[0m     \u001b[0mtable\u001b[0m\u001b[0;34m,\u001b[0m \u001b[0mtable_uri\u001b[0m \u001b[0;34m=\u001b[0m \u001b[0mtry_get_table_and_table_uri\u001b[0m\u001b[0;34m(\u001b[0m\u001b[0mtable_or_uri\u001b[0m\u001b[0;34m,\u001b[0m \u001b[0mstorage_options\u001b[0m\u001b[0;34m)\u001b[0m\u001b[0;34m\u001b[0m\u001b[0;34m\u001b[0m\u001b[0m\n",
            "\u001b[0;32m/usr/local/lib/python3.10/dist-packages/deltalake/schema.py\u001b[0m in \u001b[0;36mdelta_arrow_schema_from_pandas\u001b[0;34m(data)\u001b[0m\n\u001b[1;32m     29\u001b[0m     \"\"\"\n\u001b[1;32m     30\u001b[0m \u001b[0;34m\u001b[0m\u001b[0m\n\u001b[0;32m---> 31\u001b[0;31m     \u001b[0mtable\u001b[0m \u001b[0;34m=\u001b[0m \u001b[0mpa\u001b[0m\u001b[0;34m.\u001b[0m\u001b[0mTable\u001b[0m\u001b[0;34m.\u001b[0m\u001b[0mfrom_pandas\u001b[0m\u001b[0;34m(\u001b[0m\u001b[0mdata\u001b[0m\u001b[0;34m)\u001b[0m\u001b[0;34m\u001b[0m\u001b[0;34m\u001b[0m\u001b[0m\n\u001b[0m\u001b[1;32m     32\u001b[0m     \u001b[0mschema\u001b[0m \u001b[0;34m=\u001b[0m \u001b[0mtable\u001b[0m\u001b[0;34m.\u001b[0m\u001b[0mschema\u001b[0m\u001b[0;34m\u001b[0m\u001b[0;34m\u001b[0m\u001b[0m\n\u001b[1;32m     33\u001b[0m     \u001b[0mschema_out\u001b[0m \u001b[0;34m=\u001b[0m \u001b[0;34m[\u001b[0m\u001b[0;34m]\u001b[0m\u001b[0;34m\u001b[0m\u001b[0;34m\u001b[0m\u001b[0m\n",
            "\u001b[0;32m/usr/local/lib/python3.10/dist-packages/pyarrow/table.pxi\u001b[0m in \u001b[0;36mpyarrow.lib.Table.from_pandas\u001b[0;34m()\u001b[0m\n",
            "\u001b[0;32m/usr/local/lib/python3.10/dist-packages/pyarrow/pandas_compat.py\u001b[0m in \u001b[0;36mdataframe_to_arrays\u001b[0;34m(df, schema, preserve_index, nthreads, columns, safe)\u001b[0m\n\u001b[1;32m    607\u001b[0m \u001b[0;34m\u001b[0m\u001b[0m\n\u001b[1;32m    608\u001b[0m     \u001b[0;32mif\u001b[0m \u001b[0mnthreads\u001b[0m \u001b[0;34m==\u001b[0m \u001b[0;36m1\u001b[0m\u001b[0;34m:\u001b[0m\u001b[0;34m\u001b[0m\u001b[0;34m\u001b[0m\u001b[0m\n\u001b[0;32m--> 609\u001b[0;31m         arrays = [convert_column(c, f)\n\u001b[0m\u001b[1;32m    610\u001b[0m                   for c, f in zip(columns_to_convert, convert_fields)]\n\u001b[1;32m    611\u001b[0m     \u001b[0;32melse\u001b[0m\u001b[0;34m:\u001b[0m\u001b[0;34m\u001b[0m\u001b[0;34m\u001b[0m\u001b[0m\n",
            "\u001b[0;32m/usr/local/lib/python3.10/dist-packages/pyarrow/pandas_compat.py\u001b[0m in \u001b[0;36m<listcomp>\u001b[0;34m(.0)\u001b[0m\n\u001b[1;32m    607\u001b[0m \u001b[0;34m\u001b[0m\u001b[0m\n\u001b[1;32m    608\u001b[0m     \u001b[0;32mif\u001b[0m \u001b[0mnthreads\u001b[0m \u001b[0;34m==\u001b[0m \u001b[0;36m1\u001b[0m\u001b[0;34m:\u001b[0m\u001b[0;34m\u001b[0m\u001b[0;34m\u001b[0m\u001b[0m\n\u001b[0;32m--> 609\u001b[0;31m         arrays = [convert_column(c, f)\n\u001b[0m\u001b[1;32m    610\u001b[0m                   for c, f in zip(columns_to_convert, convert_fields)]\n\u001b[1;32m    611\u001b[0m     \u001b[0;32melse\u001b[0m\u001b[0;34m:\u001b[0m\u001b[0;34m\u001b[0m\u001b[0;34m\u001b[0m\u001b[0m\n",
            "\u001b[0;32m/usr/local/lib/python3.10/dist-packages/pyarrow/pandas_compat.py\u001b[0m in \u001b[0;36mconvert_column\u001b[0;34m(col, field)\u001b[0m\n\u001b[1;32m    594\u001b[0m             e.args += (\"Conversion failed for column {!s} with type {!s}\"\n\u001b[1;32m    595\u001b[0m                        .format(col.name, col.dtype),)\n\u001b[0;32m--> 596\u001b[0;31m             \u001b[0;32mraise\u001b[0m \u001b[0me\u001b[0m\u001b[0;34m\u001b[0m\u001b[0;34m\u001b[0m\u001b[0m\n\u001b[0m\u001b[1;32m    597\u001b[0m         \u001b[0;32mif\u001b[0m \u001b[0;32mnot\u001b[0m \u001b[0mfield_nullable\u001b[0m \u001b[0;32mand\u001b[0m \u001b[0mresult\u001b[0m\u001b[0;34m.\u001b[0m\u001b[0mnull_count\u001b[0m \u001b[0;34m>\u001b[0m \u001b[0;36m0\u001b[0m\u001b[0;34m:\u001b[0m\u001b[0;34m\u001b[0m\u001b[0;34m\u001b[0m\u001b[0m\n\u001b[1;32m    598\u001b[0m             raise ValueError(\"Field {} was non-nullable but pandas column \"\n",
            "\u001b[0;32m/usr/local/lib/python3.10/dist-packages/pyarrow/pandas_compat.py\u001b[0m in \u001b[0;36mconvert_column\u001b[0;34m(col, field)\u001b[0m\n\u001b[1;32m    588\u001b[0m \u001b[0;34m\u001b[0m\u001b[0m\n\u001b[1;32m    589\u001b[0m         \u001b[0;32mtry\u001b[0m\u001b[0;34m:\u001b[0m\u001b[0;34m\u001b[0m\u001b[0;34m\u001b[0m\u001b[0m\n\u001b[0;32m--> 590\u001b[0;31m             \u001b[0mresult\u001b[0m \u001b[0;34m=\u001b[0m \u001b[0mpa\u001b[0m\u001b[0;34m.\u001b[0m\u001b[0marray\u001b[0m\u001b[0;34m(\u001b[0m\u001b[0mcol\u001b[0m\u001b[0;34m,\u001b[0m \u001b[0mtype\u001b[0m\u001b[0;34m=\u001b[0m\u001b[0mtype_\u001b[0m\u001b[0;34m,\u001b[0m \u001b[0mfrom_pandas\u001b[0m\u001b[0;34m=\u001b[0m\u001b[0;32mTrue\u001b[0m\u001b[0;34m,\u001b[0m \u001b[0msafe\u001b[0m\u001b[0;34m=\u001b[0m\u001b[0msafe\u001b[0m\u001b[0;34m)\u001b[0m\u001b[0;34m\u001b[0m\u001b[0;34m\u001b[0m\u001b[0m\n\u001b[0m\u001b[1;32m    591\u001b[0m         except (pa.ArrowInvalid,\n\u001b[1;32m    592\u001b[0m                 \u001b[0mpa\u001b[0m\u001b[0;34m.\u001b[0m\u001b[0mArrowNotImplementedError\u001b[0m\u001b[0;34m,\u001b[0m\u001b[0;34m\u001b[0m\u001b[0;34m\u001b[0m\u001b[0m\n",
            "\u001b[0;32m/usr/local/lib/python3.10/dist-packages/pyarrow/array.pxi\u001b[0m in \u001b[0;36mpyarrow.lib.array\u001b[0;34m()\u001b[0m\n",
            "\u001b[0;32m/usr/local/lib/python3.10/dist-packages/pyarrow/array.pxi\u001b[0m in \u001b[0;36mpyarrow.lib._ndarray_to_array\u001b[0;34m()\u001b[0m\n",
            "\u001b[0;32m/usr/local/lib/python3.10/dist-packages/pyarrow/error.pxi\u001b[0m in \u001b[0;36mpyarrow.lib.check_status\u001b[0;34m()\u001b[0m\n",
            "\u001b[0;31mArrowTypeError\u001b[0m: (\"Expected bytes, got a 'int' object\", 'Conversion failed for column age with type object')"
          ]
        }
      ]
    },
    {
      "cell_type": "code",
      "source": [
        "df_03['new_columns'] = df_03['age'] * 2\n",
        "df_03.head(3)"
      ],
      "metadata": {
        "colab": {
          "base_uri": "https://localhost:8080/",
          "height": 143
        },
        "id": "DpSslZgCabBC",
        "outputId": "fa523992-c1bf-45c4-8da3-835b8d593c61"
      },
      "execution_count": null,
      "outputs": [
        {
          "output_type": "execute_result",
          "data": {
            "text/plain": [
              "                name         city  age city_partition  new_columns\n",
              "0       Cindy Taylor  Los Angeles   20    los_angeles           40\n",
              "1        Megan Smith     New York   28       new_york           56\n",
              "2  Jeffrey Rodriguez    Las Vegas   51      las_vegas          102"
            ],
            "text/html": [
              "\n",
              "\n",
              "  <div id=\"df-2086af30-f292-4131-acf2-33270e4350b3\">\n",
              "    <div class=\"colab-df-container\">\n",
              "      <div>\n",
              "<style scoped>\n",
              "    .dataframe tbody tr th:only-of-type {\n",
              "        vertical-align: middle;\n",
              "    }\n",
              "\n",
              "    .dataframe tbody tr th {\n",
              "        vertical-align: top;\n",
              "    }\n",
              "\n",
              "    .dataframe thead th {\n",
              "        text-align: right;\n",
              "    }\n",
              "</style>\n",
              "<table border=\"1\" class=\"dataframe\">\n",
              "  <thead>\n",
              "    <tr style=\"text-align: right;\">\n",
              "      <th></th>\n",
              "      <th>name</th>\n",
              "      <th>city</th>\n",
              "      <th>age</th>\n",
              "      <th>city_partition</th>\n",
              "      <th>new_columns</th>\n",
              "    </tr>\n",
              "  </thead>\n",
              "  <tbody>\n",
              "    <tr>\n",
              "      <th>0</th>\n",
              "      <td>Cindy Taylor</td>\n",
              "      <td>Los Angeles</td>\n",
              "      <td>20</td>\n",
              "      <td>los_angeles</td>\n",
              "      <td>40</td>\n",
              "    </tr>\n",
              "    <tr>\n",
              "      <th>1</th>\n",
              "      <td>Megan Smith</td>\n",
              "      <td>New York</td>\n",
              "      <td>28</td>\n",
              "      <td>new_york</td>\n",
              "      <td>56</td>\n",
              "    </tr>\n",
              "    <tr>\n",
              "      <th>2</th>\n",
              "      <td>Jeffrey Rodriguez</td>\n",
              "      <td>Las Vegas</td>\n",
              "      <td>51</td>\n",
              "      <td>las_vegas</td>\n",
              "      <td>102</td>\n",
              "    </tr>\n",
              "  </tbody>\n",
              "</table>\n",
              "</div>\n",
              "      <button class=\"colab-df-convert\" onclick=\"convertToInteractive('df-2086af30-f292-4131-acf2-33270e4350b3')\"\n",
              "              title=\"Convert this dataframe to an interactive table.\"\n",
              "              style=\"display:none;\">\n",
              "\n",
              "  <svg xmlns=\"http://www.w3.org/2000/svg\" height=\"24px\"viewBox=\"0 0 24 24\"\n",
              "       width=\"24px\">\n",
              "    <path d=\"M0 0h24v24H0V0z\" fill=\"none\"/>\n",
              "    <path d=\"M18.56 5.44l.94 2.06.94-2.06 2.06-.94-2.06-.94-.94-2.06-.94 2.06-2.06.94zm-11 1L8.5 8.5l.94-2.06 2.06-.94-2.06-.94L8.5 2.5l-.94 2.06-2.06.94zm10 10l.94 2.06.94-2.06 2.06-.94-2.06-.94-.94-2.06-.94 2.06-2.06.94z\"/><path d=\"M17.41 7.96l-1.37-1.37c-.4-.4-.92-.59-1.43-.59-.52 0-1.04.2-1.43.59L10.3 9.45l-7.72 7.72c-.78.78-.78 2.05 0 2.83L4 21.41c.39.39.9.59 1.41.59.51 0 1.02-.2 1.41-.59l7.78-7.78 2.81-2.81c.8-.78.8-2.07 0-2.86zM5.41 20L4 18.59l7.72-7.72 1.47 1.35L5.41 20z\"/>\n",
              "  </svg>\n",
              "      </button>\n",
              "\n",
              "\n",
              "\n",
              "    <div id=\"df-ec098980-6eef-4b48-ba9a-f5a97fb06e5e\">\n",
              "      <button class=\"colab-df-quickchart\" onclick=\"quickchart('df-ec098980-6eef-4b48-ba9a-f5a97fb06e5e')\"\n",
              "              title=\"Suggest charts.\"\n",
              "              style=\"display:none;\">\n",
              "\n",
              "<svg xmlns=\"http://www.w3.org/2000/svg\" height=\"24px\"viewBox=\"0 0 24 24\"\n",
              "     width=\"24px\">\n",
              "    <g>\n",
              "        <path d=\"M19 3H5c-1.1 0-2 .9-2 2v14c0 1.1.9 2 2 2h14c1.1 0 2-.9 2-2V5c0-1.1-.9-2-2-2zM9 17H7v-7h2v7zm4 0h-2V7h2v10zm4 0h-2v-4h2v4z\"/>\n",
              "    </g>\n",
              "</svg>\n",
              "      </button>\n",
              "    </div>\n",
              "\n",
              "<style>\n",
              "  .colab-df-quickchart {\n",
              "    background-color: #E8F0FE;\n",
              "    border: none;\n",
              "    border-radius: 50%;\n",
              "    cursor: pointer;\n",
              "    display: none;\n",
              "    fill: #1967D2;\n",
              "    height: 32px;\n",
              "    padding: 0 0 0 0;\n",
              "    width: 32px;\n",
              "  }\n",
              "\n",
              "  .colab-df-quickchart:hover {\n",
              "    background-color: #E2EBFA;\n",
              "    box-shadow: 0px 1px 2px rgba(60, 64, 67, 0.3), 0px 1px 3px 1px rgba(60, 64, 67, 0.15);\n",
              "    fill: #174EA6;\n",
              "  }\n",
              "\n",
              "  [theme=dark] .colab-df-quickchart {\n",
              "    background-color: #3B4455;\n",
              "    fill: #D2E3FC;\n",
              "  }\n",
              "\n",
              "  [theme=dark] .colab-df-quickchart:hover {\n",
              "    background-color: #434B5C;\n",
              "    box-shadow: 0px 1px 3px 1px rgba(0, 0, 0, 0.15);\n",
              "    filter: drop-shadow(0px 1px 2px rgba(0, 0, 0, 0.3));\n",
              "    fill: #FFFFFF;\n",
              "  }\n",
              "</style>\n",
              "\n",
              "    <script>\n",
              "      async function quickchart(key) {\n",
              "        const containerElement = document.querySelector('#' + key);\n",
              "        const charts = await google.colab.kernel.invokeFunction(\n",
              "            'suggestCharts', [key], {});\n",
              "      }\n",
              "    </script>\n",
              "\n",
              "      <script>\n",
              "\n",
              "function displayQuickchartButton(domScope) {\n",
              "  let quickchartButtonEl =\n",
              "    domScope.querySelector('#df-ec098980-6eef-4b48-ba9a-f5a97fb06e5e button.colab-df-quickchart');\n",
              "  quickchartButtonEl.style.display =\n",
              "    google.colab.kernel.accessAllowed ? 'block' : 'none';\n",
              "}\n",
              "\n",
              "        displayQuickchartButton(document);\n",
              "      </script>\n",
              "      <style>\n",
              "    .colab-df-container {\n",
              "      display:flex;\n",
              "      flex-wrap:wrap;\n",
              "      gap: 12px;\n",
              "    }\n",
              "\n",
              "    .colab-df-convert {\n",
              "      background-color: #E8F0FE;\n",
              "      border: none;\n",
              "      border-radius: 50%;\n",
              "      cursor: pointer;\n",
              "      display: none;\n",
              "      fill: #1967D2;\n",
              "      height: 32px;\n",
              "      padding: 0 0 0 0;\n",
              "      width: 32px;\n",
              "    }\n",
              "\n",
              "    .colab-df-convert:hover {\n",
              "      background-color: #E2EBFA;\n",
              "      box-shadow: 0px 1px 2px rgba(60, 64, 67, 0.3), 0px 1px 3px 1px rgba(60, 64, 67, 0.15);\n",
              "      fill: #174EA6;\n",
              "    }\n",
              "\n",
              "    [theme=dark] .colab-df-convert {\n",
              "      background-color: #3B4455;\n",
              "      fill: #D2E3FC;\n",
              "    }\n",
              "\n",
              "    [theme=dark] .colab-df-convert:hover {\n",
              "      background-color: #434B5C;\n",
              "      box-shadow: 0px 1px 3px 1px rgba(0, 0, 0, 0.15);\n",
              "      filter: drop-shadow(0px 1px 2px rgba(0, 0, 0, 0.3));\n",
              "      fill: #FFFFFF;\n",
              "    }\n",
              "  </style>\n",
              "\n",
              "      <script>\n",
              "        const buttonEl =\n",
              "          document.querySelector('#df-2086af30-f292-4131-acf2-33270e4350b3 button.colab-df-convert');\n",
              "        buttonEl.style.display =\n",
              "          google.colab.kernel.accessAllowed ? 'block' : 'none';\n",
              "\n",
              "        async function convertToInteractive(key) {\n",
              "          const element = document.querySelector('#df-2086af30-f292-4131-acf2-33270e4350b3');\n",
              "          const dataTable =\n",
              "            await google.colab.kernel.invokeFunction('convertToInteractive',\n",
              "                                                     [key], {});\n",
              "          if (!dataTable) return;\n",
              "\n",
              "          const docLinkHtml = 'Like what you see? Visit the ' +\n",
              "            '<a target=\"_blank\" href=https://colab.research.google.com/notebooks/data_table.ipynb>data table notebook</a>'\n",
              "            + ' to learn more about interactive tables.';\n",
              "          element.innerHTML = '';\n",
              "          dataTable['output_type'] = 'display_data';\n",
              "          await google.colab.output.renderOutput(dataTable, element);\n",
              "          const docLink = document.createElement('div');\n",
              "          docLink.innerHTML = docLinkHtml;\n",
              "          element.appendChild(docLink);\n",
              "        }\n",
              "      </script>\n",
              "    </div>\n",
              "  </div>\n"
            ]
          },
          "metadata": {},
          "execution_count": 155
        }
      ]
    },
    {
      "cell_type": "code",
      "source": [
        "write_deltalake('/lake/delta_table', df_03,\n",
        "                mode = 'append',\n",
        "                partition_by= ['city_partition'])"
      ],
      "metadata": {
        "colab": {
          "base_uri": "https://localhost:8080/",
          "height": 638
        },
        "id": "Teb1IxKobp7u",
        "outputId": "e87da2fd-fbaa-48de-bed2-58c7d44c1999"
      },
      "execution_count": null,
      "outputs": [
        {
          "output_type": "error",
          "ename": "ValueError",
          "evalue": "ignored",
          "traceback": [
            "\u001b[0;31m---------------------------------------------------------------------------\u001b[0m",
            "\u001b[0;31mValueError\u001b[0m                                Traceback (most recent call last)",
            "\u001b[0;32m<ipython-input-156-23a7b4ed0684>\u001b[0m in \u001b[0;36m<cell line: 1>\u001b[0;34m()\u001b[0m\n\u001b[0;32m----> 1\u001b[0;31m write_deltalake('/lake/delta_table', df_03, \n\u001b[0m\u001b[1;32m      2\u001b[0m                 \u001b[0mmode\u001b[0m \u001b[0;34m=\u001b[0m \u001b[0;34m'append'\u001b[0m\u001b[0;34m,\u001b[0m\u001b[0;34m\u001b[0m\u001b[0;34m\u001b[0m\u001b[0m\n\u001b[1;32m      3\u001b[0m                 partition_by= ['city_partition'])\n",
            "\u001b[0;32m/usr/local/lib/python3.10/dist-packages/deltalake/writer.py\u001b[0m in \u001b[0;36mwrite_deltalake\u001b[0;34m(table_or_uri, data, schema, partition_by, filesystem, mode, file_options, max_partitions, max_open_files, max_rows_per_file, min_rows_per_group, max_rows_per_group, name, description, configuration, overwrite_schema, storage_options, partition_filters)\u001b[0m\n\u001b[1;32m    179\u001b[0m             \u001b[0mmode\u001b[0m \u001b[0;34m==\u001b[0m \u001b[0;34m\"overwrite\"\u001b[0m \u001b[0;32mand\u001b[0m \u001b[0moverwrite_schema\u001b[0m\u001b[0;34m\u001b[0m\u001b[0;34m\u001b[0m\u001b[0m\n\u001b[1;32m    180\u001b[0m         ):\n\u001b[0;32m--> 181\u001b[0;31m             raise ValueError(\n\u001b[0m\u001b[1;32m    182\u001b[0m                 \u001b[0;34m\"Schema of data does not match table schema\\n\"\u001b[0m\u001b[0;34m\u001b[0m\u001b[0;34m\u001b[0m\u001b[0m\n\u001b[1;32m    183\u001b[0m                 \u001b[0;34mf\"Table schema:\\n{schema}\\nData Schema:\\n{table.schema().to_pyarrow()}\"\u001b[0m\u001b[0;34m\u001b[0m\u001b[0;34m\u001b[0m\u001b[0m\n",
            "\u001b[0;31mValueError\u001b[0m: Schema of data does not match table schema\nTable schema:\nname: string\ncity: string\nage: int64\ncity_partition: string\nnew_columns: int64\n-- schema metadata --\npandas: '{\"index_columns\": [{\"kind\": \"range\", \"name\": null, \"start\": 0, \"' + 825\nData Schema:\nname: string\ncity: string\nage: int64\ncity_partition: string"
          ]
        }
      ]
    },
    {
      "cell_type": "markdown",
      "source": [
        "# Changed Data Feed - CDF"
      ],
      "metadata": {
        "id": "cENn3F9ucavF"
      }
    },
    {
      "cell_type": "markdown",
      "source": [
        "With `file_uris()` we can take the paths of the parquet files of the a specific version of the delta table."
      ],
      "metadata": {
        "id": "dI5WoL9XI3tz"
      }
    },
    {
      "cell_type": "code",
      "source": [
        "DeltaTable(\"/lake/delta_table\", version = 0).file_uris()"
      ],
      "metadata": {
        "colab": {
          "base_uri": "https://localhost:8080/"
        },
        "id": "QEDYwsmvbuT8",
        "outputId": "895872ce-6b34-46a7-ca16-775a3b4c12cc"
      },
      "execution_count": null,
      "outputs": [
        {
          "output_type": "execute_result",
          "data": {
            "text/plain": [
              "['/lake/delta_table/city_partition=new_york/0-676f86f9-db82-4990-a8c9-f1bb47d6526e-0.parquet',\n",
              " '/lake/delta_table/city_partition=las_vegas/0-676f86f9-db82-4990-a8c9-f1bb47d6526e-0.parquet',\n",
              " '/lake/delta_table/city_partition=los_angeles/0-676f86f9-db82-4990-a8c9-f1bb47d6526e-0.parquet']"
            ]
          },
          "metadata": {},
          "execution_count": 167
        }
      ]
    },
    {
      "cell_type": "markdown",
      "source": [
        "\n",
        "To use CDF with Pandas we need to create two lists, one with all the paths of the parquet files of the current version of the table and the other list with the parquet files of the previous version of the table, so just get all the files **that are in the** version current **but not in the** previous version.\n",
        "\n",
        "S"
      ],
      "metadata": {
        "id": "rto1k_f_JZ-i"
      }
    },
    {
      "cell_type": "code",
      "source": [
        "currently_version = DeltaTable(\"/lake/delta_table\").version()\n",
        "currently_version"
      ],
      "metadata": {
        "colab": {
          "base_uri": "https://localhost:8080/"
        },
        "id": "77x_QPjJcDDj",
        "outputId": "1a7d59ff-e355-41e8-873e-7eefd0f4707c"
      },
      "execution_count": null,
      "outputs": [
        {
          "output_type": "execute_result",
          "data": {
            "text/plain": [
              "2"
            ]
          },
          "metadata": {},
          "execution_count": 100
        }
      ]
    },
    {
      "cell_type": "code",
      "source": [
        "penultimate_version = currently_version - 1\n",
        "penultimate_version"
      ],
      "metadata": {
        "colab": {
          "base_uri": "https://localhost:8080/"
        },
        "id": "KQsLWIIzeLOZ",
        "outputId": "e01be6c4-31be-43af-a7ba-5076421f8b9c"
      },
      "execution_count": null,
      "outputs": [
        {
          "output_type": "execute_result",
          "data": {
            "text/plain": [
              "1"
            ]
          },
          "metadata": {},
          "execution_count": 172
        }
      ]
    },
    {
      "cell_type": "code",
      "source": [
        "files_currently_version = DeltaTable(\"/lake/delta_table\", version = currently_version).file_uris()\n",
        "files_currently_version"
      ],
      "metadata": {
        "colab": {
          "base_uri": "https://localhost:8080/"
        },
        "id": "pqhuvWIUeM1J",
        "outputId": "ceeb602a-b06a-41f6-f1a6-8115b037400b"
      },
      "execution_count": null,
      "outputs": [
        {
          "output_type": "execute_result",
          "data": {
            "text/plain": [
              "['/lake/delta_table/city_partition=new_york/0-676f86f9-db82-4990-a8c9-f1bb47d6526e-0.parquet',\n",
              " '/lake/delta_table/city_partition=las_vegas/0-676f86f9-db82-4990-a8c9-f1bb47d6526e-0.parquet',\n",
              " '/lake/delta_table/city_partition=los_angeles/0-676f86f9-db82-4990-a8c9-f1bb47d6526e-0.parquet',\n",
              " '/lake/delta_table/city_partition=los_angeles/1-6e535ffa-3d29-4670-9055-c13bec1c9918-0.parquet',\n",
              " '/lake/delta_table/city_partition=new_york/1-6e535ffa-3d29-4670-9055-c13bec1c9918-0.parquet',\n",
              " '/lake/delta_table/city_partition=las_vegas/1-6e535ffa-3d29-4670-9055-c13bec1c9918-0.parquet',\n",
              " '/lake/delta_table/city_partition=new_york/2-c9aacef2-8798-4467-be1f-67bbb9a59af9-0.parquet',\n",
              " '/lake/delta_table/city_partition=los_angeles/2-c9aacef2-8798-4467-be1f-67bbb9a59af9-0.parquet',\n",
              " '/lake/delta_table/city_partition=las_vegas/2-c9aacef2-8798-4467-be1f-67bbb9a59af9-0.parquet']"
            ]
          },
          "metadata": {},
          "execution_count": 174
        }
      ]
    },
    {
      "cell_type": "code",
      "source": [
        "files_penultimate_version = DeltaTable(\"/lake/delta_table\", version = penultimate_version).file_uris()\n",
        "files_penultimate_version"
      ],
      "metadata": {
        "colab": {
          "base_uri": "https://localhost:8080/"
        },
        "id": "Th8qFaGAekMz",
        "outputId": "c4108ddb-118c-490e-f5d2-2e33d9531227"
      },
      "execution_count": null,
      "outputs": [
        {
          "output_type": "execute_result",
          "data": {
            "text/plain": [
              "['/lake/delta_table/city_partition=new_york/0-676f86f9-db82-4990-a8c9-f1bb47d6526e-0.parquet',\n",
              " '/lake/delta_table/city_partition=las_vegas/0-676f86f9-db82-4990-a8c9-f1bb47d6526e-0.parquet',\n",
              " '/lake/delta_table/city_partition=los_angeles/0-676f86f9-db82-4990-a8c9-f1bb47d6526e-0.parquet',\n",
              " '/lake/delta_table/city_partition=los_angeles/1-6e535ffa-3d29-4670-9055-c13bec1c9918-0.parquet',\n",
              " '/lake/delta_table/city_partition=new_york/1-6e535ffa-3d29-4670-9055-c13bec1c9918-0.parquet',\n",
              " '/lake/delta_table/city_partition=las_vegas/1-6e535ffa-3d29-4670-9055-c13bec1c9918-0.parquet']"
            ]
          },
          "metadata": {},
          "execution_count": 175
        }
      ]
    },
    {
      "cell_type": "code",
      "source": [
        "diferential_files = [i for i in files_currently_version if i not in files_penultimate_version]\n",
        "diferential_files"
      ],
      "metadata": {
        "colab": {
          "base_uri": "https://localhost:8080/"
        },
        "id": "s-NBTEW7ezUz",
        "outputId": "fa4e6fbb-1482-49aa-a37d-e749616295d1"
      },
      "execution_count": null,
      "outputs": [
        {
          "output_type": "execute_result",
          "data": {
            "text/plain": [
              "['/lake/delta_table/city_partition=new_york/2-c9aacef2-8798-4467-be1f-67bbb9a59af9-0.parquet',\n",
              " '/lake/delta_table/city_partition=los_angeles/2-c9aacef2-8798-4467-be1f-67bbb9a59af9-0.parquet',\n",
              " '/lake/delta_table/city_partition=las_vegas/2-c9aacef2-8798-4467-be1f-67bbb9a59af9-0.parquet']"
            ]
          },
          "metadata": {},
          "execution_count": 178
        }
      ]
    },
    {
      "cell_type": "code",
      "source": [
        "df_differential = pd.read_parquet(diferential_files)\n",
        "df_differential.head(3)"
      ],
      "metadata": {
        "colab": {
          "base_uri": "https://localhost:8080/",
          "height": 143
        },
        "id": "eAZngxOMfDjW",
        "outputId": "df5aa959-5903-41bf-aa47-fc5364292ead"
      },
      "execution_count": null,
      "outputs": [
        {
          "output_type": "execute_result",
          "data": {
            "text/plain": [
              "           name      city  age city_partition\n",
              "0   Megan Smith  New York   28       new_york\n",
              "1  Carl Anthony  New York   29       new_york\n",
              "2  Stephen Yang  New York   53       new_york"
            ],
            "text/html": [
              "\n",
              "\n",
              "  <div id=\"df-43c45e56-8c32-47e7-a938-a014d3b0a517\">\n",
              "    <div class=\"colab-df-container\">\n",
              "      <div>\n",
              "<style scoped>\n",
              "    .dataframe tbody tr th:only-of-type {\n",
              "        vertical-align: middle;\n",
              "    }\n",
              "\n",
              "    .dataframe tbody tr th {\n",
              "        vertical-align: top;\n",
              "    }\n",
              "\n",
              "    .dataframe thead th {\n",
              "        text-align: right;\n",
              "    }\n",
              "</style>\n",
              "<table border=\"1\" class=\"dataframe\">\n",
              "  <thead>\n",
              "    <tr style=\"text-align: right;\">\n",
              "      <th></th>\n",
              "      <th>name</th>\n",
              "      <th>city</th>\n",
              "      <th>age</th>\n",
              "      <th>city_partition</th>\n",
              "    </tr>\n",
              "  </thead>\n",
              "  <tbody>\n",
              "    <tr>\n",
              "      <th>0</th>\n",
              "      <td>Megan Smith</td>\n",
              "      <td>New York</td>\n",
              "      <td>28</td>\n",
              "      <td>new_york</td>\n",
              "    </tr>\n",
              "    <tr>\n",
              "      <th>1</th>\n",
              "      <td>Carl Anthony</td>\n",
              "      <td>New York</td>\n",
              "      <td>29</td>\n",
              "      <td>new_york</td>\n",
              "    </tr>\n",
              "    <tr>\n",
              "      <th>2</th>\n",
              "      <td>Stephen Yang</td>\n",
              "      <td>New York</td>\n",
              "      <td>53</td>\n",
              "      <td>new_york</td>\n",
              "    </tr>\n",
              "  </tbody>\n",
              "</table>\n",
              "</div>\n",
              "      <button class=\"colab-df-convert\" onclick=\"convertToInteractive('df-43c45e56-8c32-47e7-a938-a014d3b0a517')\"\n",
              "              title=\"Convert this dataframe to an interactive table.\"\n",
              "              style=\"display:none;\">\n",
              "\n",
              "  <svg xmlns=\"http://www.w3.org/2000/svg\" height=\"24px\"viewBox=\"0 0 24 24\"\n",
              "       width=\"24px\">\n",
              "    <path d=\"M0 0h24v24H0V0z\" fill=\"none\"/>\n",
              "    <path d=\"M18.56 5.44l.94 2.06.94-2.06 2.06-.94-2.06-.94-.94-2.06-.94 2.06-2.06.94zm-11 1L8.5 8.5l.94-2.06 2.06-.94-2.06-.94L8.5 2.5l-.94 2.06-2.06.94zm10 10l.94 2.06.94-2.06 2.06-.94-2.06-.94-.94-2.06-.94 2.06-2.06.94z\"/><path d=\"M17.41 7.96l-1.37-1.37c-.4-.4-.92-.59-1.43-.59-.52 0-1.04.2-1.43.59L10.3 9.45l-7.72 7.72c-.78.78-.78 2.05 0 2.83L4 21.41c.39.39.9.59 1.41.59.51 0 1.02-.2 1.41-.59l7.78-7.78 2.81-2.81c.8-.78.8-2.07 0-2.86zM5.41 20L4 18.59l7.72-7.72 1.47 1.35L5.41 20z\"/>\n",
              "  </svg>\n",
              "      </button>\n",
              "\n",
              "\n",
              "\n",
              "    <div id=\"df-8200ea06-035d-44d8-90af-325735e2b119\">\n",
              "      <button class=\"colab-df-quickchart\" onclick=\"quickchart('df-8200ea06-035d-44d8-90af-325735e2b119')\"\n",
              "              title=\"Suggest charts.\"\n",
              "              style=\"display:none;\">\n",
              "\n",
              "<svg xmlns=\"http://www.w3.org/2000/svg\" height=\"24px\"viewBox=\"0 0 24 24\"\n",
              "     width=\"24px\">\n",
              "    <g>\n",
              "        <path d=\"M19 3H5c-1.1 0-2 .9-2 2v14c0 1.1.9 2 2 2h14c1.1 0 2-.9 2-2V5c0-1.1-.9-2-2-2zM9 17H7v-7h2v7zm4 0h-2V7h2v10zm4 0h-2v-4h2v4z\"/>\n",
              "    </g>\n",
              "</svg>\n",
              "      </button>\n",
              "    </div>\n",
              "\n",
              "<style>\n",
              "  .colab-df-quickchart {\n",
              "    background-color: #E8F0FE;\n",
              "    border: none;\n",
              "    border-radius: 50%;\n",
              "    cursor: pointer;\n",
              "    display: none;\n",
              "    fill: #1967D2;\n",
              "    height: 32px;\n",
              "    padding: 0 0 0 0;\n",
              "    width: 32px;\n",
              "  }\n",
              "\n",
              "  .colab-df-quickchart:hover {\n",
              "    background-color: #E2EBFA;\n",
              "    box-shadow: 0px 1px 2px rgba(60, 64, 67, 0.3), 0px 1px 3px 1px rgba(60, 64, 67, 0.15);\n",
              "    fill: #174EA6;\n",
              "  }\n",
              "\n",
              "  [theme=dark] .colab-df-quickchart {\n",
              "    background-color: #3B4455;\n",
              "    fill: #D2E3FC;\n",
              "  }\n",
              "\n",
              "  [theme=dark] .colab-df-quickchart:hover {\n",
              "    background-color: #434B5C;\n",
              "    box-shadow: 0px 1px 3px 1px rgba(0, 0, 0, 0.15);\n",
              "    filter: drop-shadow(0px 1px 2px rgba(0, 0, 0, 0.3));\n",
              "    fill: #FFFFFF;\n",
              "  }\n",
              "</style>\n",
              "\n",
              "    <script>\n",
              "      async function quickchart(key) {\n",
              "        const containerElement = document.querySelector('#' + key);\n",
              "        const charts = await google.colab.kernel.invokeFunction(\n",
              "            'suggestCharts', [key], {});\n",
              "      }\n",
              "    </script>\n",
              "\n",
              "      <script>\n",
              "\n",
              "function displayQuickchartButton(domScope) {\n",
              "  let quickchartButtonEl =\n",
              "    domScope.querySelector('#df-8200ea06-035d-44d8-90af-325735e2b119 button.colab-df-quickchart');\n",
              "  quickchartButtonEl.style.display =\n",
              "    google.colab.kernel.accessAllowed ? 'block' : 'none';\n",
              "}\n",
              "\n",
              "        displayQuickchartButton(document);\n",
              "      </script>\n",
              "      <style>\n",
              "    .colab-df-container {\n",
              "      display:flex;\n",
              "      flex-wrap:wrap;\n",
              "      gap: 12px;\n",
              "    }\n",
              "\n",
              "    .colab-df-convert {\n",
              "      background-color: #E8F0FE;\n",
              "      border: none;\n",
              "      border-radius: 50%;\n",
              "      cursor: pointer;\n",
              "      display: none;\n",
              "      fill: #1967D2;\n",
              "      height: 32px;\n",
              "      padding: 0 0 0 0;\n",
              "      width: 32px;\n",
              "    }\n",
              "\n",
              "    .colab-df-convert:hover {\n",
              "      background-color: #E2EBFA;\n",
              "      box-shadow: 0px 1px 2px rgba(60, 64, 67, 0.3), 0px 1px 3px 1px rgba(60, 64, 67, 0.15);\n",
              "      fill: #174EA6;\n",
              "    }\n",
              "\n",
              "    [theme=dark] .colab-df-convert {\n",
              "      background-color: #3B4455;\n",
              "      fill: #D2E3FC;\n",
              "    }\n",
              "\n",
              "    [theme=dark] .colab-df-convert:hover {\n",
              "      background-color: #434B5C;\n",
              "      box-shadow: 0px 1px 3px 1px rgba(0, 0, 0, 0.15);\n",
              "      filter: drop-shadow(0px 1px 2px rgba(0, 0, 0, 0.3));\n",
              "      fill: #FFFFFF;\n",
              "    }\n",
              "  </style>\n",
              "\n",
              "      <script>\n",
              "        const buttonEl =\n",
              "          document.querySelector('#df-43c45e56-8c32-47e7-a938-a014d3b0a517 button.colab-df-convert');\n",
              "        buttonEl.style.display =\n",
              "          google.colab.kernel.accessAllowed ? 'block' : 'none';\n",
              "\n",
              "        async function convertToInteractive(key) {\n",
              "          const element = document.querySelector('#df-43c45e56-8c32-47e7-a938-a014d3b0a517');\n",
              "          const dataTable =\n",
              "            await google.colab.kernel.invokeFunction('convertToInteractive',\n",
              "                                                     [key], {});\n",
              "          if (!dataTable) return;\n",
              "\n",
              "          const docLinkHtml = 'Like what you see? Visit the ' +\n",
              "            '<a target=\"_blank\" href=https://colab.research.google.com/notebooks/data_table.ipynb>data table notebook</a>'\n",
              "            + ' to learn more about interactive tables.';\n",
              "          element.innerHTML = '';\n",
              "          dataTable['output_type'] = 'display_data';\n",
              "          await google.colab.output.renderOutput(dataTable, element);\n",
              "          const docLink = document.createElement('div');\n",
              "          docLink.innerHTML = docLinkHtml;\n",
              "          element.appendChild(docLink);\n",
              "        }\n",
              "      </script>\n",
              "    </div>\n",
              "  </div>\n"
            ]
          },
          "metadata": {},
          "execution_count": 181
        }
      ]
    },
    {
      "cell_type": "code",
      "source": [
        "def read_diffential(version_new, version_old):\n",
        "  files_new_version = DeltaTable(\"/lake/delta_table\", version = version_new).file_uris()\n",
        "  files_old_version = DeltaTable(\"/lake/delta_table\", version = version_old).file_uris()\n",
        "\n",
        "  files = [i for i in files_new_version if i not in files_old_version]\n",
        "  return files"
      ],
      "metadata": {
        "id": "xCF_TLDYfQuI"
      },
      "execution_count": null,
      "outputs": []
    },
    {
      "cell_type": "code",
      "source": [
        "read_diffential(1,0)"
      ],
      "metadata": {
        "colab": {
          "base_uri": "https://localhost:8080/"
        },
        "id": "5JswEPdBgBUt",
        "outputId": "c5e521eb-b878-4031-e104-03a27683a8bd"
      },
      "execution_count": null,
      "outputs": [
        {
          "output_type": "execute_result",
          "data": {
            "text/plain": [
              "['/lake/delta_table/city_partition=los_angeles/1-6e535ffa-3d29-4670-9055-c13bec1c9918-0.parquet',\n",
              " '/lake/delta_table/city_partition=new_york/1-6e535ffa-3d29-4670-9055-c13bec1c9918-0.parquet',\n",
              " '/lake/delta_table/city_partition=las_vegas/1-6e535ffa-3d29-4670-9055-c13bec1c9918-0.parquet']"
            ]
          },
          "metadata": {},
          "execution_count": 187
        }
      ]
    },
    {
      "cell_type": "markdown",
      "source": [
        "# Tests with Apache Spark"
      ],
      "metadata": {
        "id": "vONw3gTxhBAZ"
      }
    },
    {
      "cell_type": "code",
      "source": [
        "import os\n",
        "os.environ[\"JAVA_HOME\"] = \"/usr/lib/jvm/java-11-openjdk-amd64\"\n",
        "os.environ[\"SPARK_HOME\"] = \"/content/spark-3.3.1-bin-hadoop3\""
      ],
      "metadata": {
        "id": "NS6ugyRmhKxx"
      },
      "execution_count": null,
      "outputs": []
    },
    {
      "cell_type": "code",
      "source": [
        "import findspark\n",
        "findspark.init()"
      ],
      "metadata": {
        "id": "nTHt9Y9GiNHs"
      },
      "execution_count": null,
      "outputs": []
    },
    {
      "cell_type": "code",
      "source": [
        "### import Spark libraries\n",
        "from pyspark.sql import SparkSession\n",
        "import pyspark.sql.functions as f\n",
        "\n",
        "### spark package maven coordinates - in case you are loading more than just delta\n",
        "spark_packages_list = [\n",
        "    'io.delta:delta-core_2.12:2.2.0',\n",
        "]\n",
        "spark_packages = \",\".join(spark_packages_list)\n",
        "\n",
        "### SparkSession\n",
        "spark = (\n",
        "    SparkSession.builder\n",
        "    .config(\"spark.jars.packages\", spark_packages)\n",
        "    .config(\"spark.sql.extensions\", \"io.delta.sql.DeltaSparkSessionExtension\")\n",
        "    .config(\"spark.sql.catalog.spark_catalog\", \"org.apache.spark.sql.delta.catalog.DeltaCatalog\")\n",
        "    .getOrCreate()\n",
        ")"
      ],
      "metadata": {
        "id": "q1a1lo5jiNKh"
      },
      "execution_count": null,
      "outputs": []
    },
    {
      "cell_type": "code",
      "source": [
        "df_spark = spark.read.format(\"delta\").load(\"/lake/delta_table\")"
      ],
      "metadata": {
        "id": "PF9YpD8NiZt6"
      },
      "execution_count": null,
      "outputs": []
    },
    {
      "cell_type": "code",
      "source": [
        "df_spark.show()"
      ],
      "metadata": {
        "colab": {
          "base_uri": "https://localhost:8080/"
        },
        "id": "7LP4LLMviZ4Q",
        "outputId": "8a7c0e69-a488-49fa-d207-af47987ef1f4"
      },
      "execution_count": null,
      "outputs": [
        {
          "output_type": "stream",
          "name": "stdout",
          "text": [
            "+-------------------+-----------+---+--------------+\n",
            "|               name|       city|age|city_partition|\n",
            "+-------------------+-----------+---+--------------+\n",
            "|      James Stewart|  Las Vegas| 56|     las_vegas|\n",
            "|  Alejandro Barrett|  Las Vegas| 52|     las_vegas|\n",
            "|      Morgan Bailey|  Las Vegas| 21|     las_vegas|\n",
            "|        David James|  Las Vegas| 62|     las_vegas|\n",
            "|       Kelli Murphy|  Las Vegas| 35|     las_vegas|\n",
            "|     Ashley Vasquez|  Las Vegas| 58|     las_vegas|\n",
            "|         Lisa Bruce|  Las Vegas| 27|     las_vegas|\n",
            "|Dr. Roberta West MD|  Las Vegas| 43|     las_vegas|\n",
            "|      Jill Williams|  Las Vegas| 35|     las_vegas|\n",
            "|  Michael Underwood|  Las Vegas| 49|     las_vegas|\n",
            "|   Heather Guerrero|  Las Vegas| 44|     las_vegas|\n",
            "|       Cody Sanchez|   New York| 27|      new_york|\n",
            "|    Stephen Mcclure|   New York| 21|      new_york|\n",
            "|       Debra Dawson|   New York| 20|      new_york|\n",
            "|         Jared Bell|   New York| 61|      new_york|\n",
            "|        Megan Smith|   New York| 28|      new_york|\n",
            "|       Carl Anthony|   New York| 29|      new_york|\n",
            "|       Stephen Yang|   New York| 53|      new_york|\n",
            "|     Michael Howard|   New York| 35|      new_york|\n",
            "|         Penny Wong|Los Angeles| 58|   los_angeles|\n",
            "+-------------------+-----------+---+--------------+\n",
            "only showing top 20 rows\n",
            "\n"
          ]
        }
      ]
    },
    {
      "cell_type": "code",
      "source": [
        "df_spark.createOrReplaceTempView(\"df_spark\")"
      ],
      "metadata": {
        "id": "Clb-S58ri3Ee"
      },
      "execution_count": null,
      "outputs": []
    },
    {
      "cell_type": "code",
      "source": [
        "df_spark_01 = spark.sql(\"\"\"\n",
        "    select\n",
        "      name, age, city_partition\n",
        "    from\n",
        "      df_spark\n",
        "    where\n",
        "      age < 22\n",
        "\"\"\")"
      ],
      "metadata": {
        "id": "Y7Lm-57bi3Gw"
      },
      "execution_count": null,
      "outputs": []
    },
    {
      "cell_type": "code",
      "source": [
        "df_spark_01.show(3)"
      ],
      "metadata": {
        "colab": {
          "base_uri": "https://localhost:8080/"
        },
        "id": "qwoWgGXTjObT",
        "outputId": "a3fdf983-32c2-4caa-ffab-c6e468f1489a"
      },
      "execution_count": null,
      "outputs": [
        {
          "output_type": "stream",
          "name": "stdout",
          "text": [
            "+---------------+---+--------------+\n",
            "|           name|age|city_partition|\n",
            "+---------------+---+--------------+\n",
            "|  Morgan Bailey| 21|     las_vegas|\n",
            "|Stephen Mcclure| 21|      new_york|\n",
            "|   Debra Dawson| 20|      new_york|\n",
            "+---------------+---+--------------+\n",
            "only showing top 3 rows\n",
            "\n"
          ]
        }
      ]
    },
    {
      "cell_type": "code",
      "source": [
        "df_spark_01.write.format(\"delta\").partitionBy(\"city_partition\").save(\"/lake/delta_table_2\")"
      ],
      "metadata": {
        "id": "_3BlikGYjSSR"
      },
      "execution_count": null,
      "outputs": []
    },
    {
      "cell_type": "code",
      "source": [
        "DeltaTable('/lake/delta_table_2').to_pandas()"
      ],
      "metadata": {
        "colab": {
          "base_uri": "https://localhost:8080/",
          "height": 175
        },
        "id": "gdqUPtcwjSUf",
        "outputId": "27eb22f1-14a5-446b-80f0-375b3ddb969e"
      },
      "execution_count": null,
      "outputs": [
        {
          "output_type": "execute_result",
          "data": {
            "text/plain": [
              "              name  age city_partition\n",
              "0    Morgan Bailey   21      las_vegas\n",
              "1  Stephen Mcclure   21       new_york\n",
              "2     Debra Dawson   20       new_york\n",
              "3     Cindy Taylor   20    los_angeles"
            ],
            "text/html": [
              "\n",
              "\n",
              "  <div id=\"df-da5cc58d-6e76-400c-ad65-84845048411a\">\n",
              "    <div class=\"colab-df-container\">\n",
              "      <div>\n",
              "<style scoped>\n",
              "    .dataframe tbody tr th:only-of-type {\n",
              "        vertical-align: middle;\n",
              "    }\n",
              "\n",
              "    .dataframe tbody tr th {\n",
              "        vertical-align: top;\n",
              "    }\n",
              "\n",
              "    .dataframe thead th {\n",
              "        text-align: right;\n",
              "    }\n",
              "</style>\n",
              "<table border=\"1\" class=\"dataframe\">\n",
              "  <thead>\n",
              "    <tr style=\"text-align: right;\">\n",
              "      <th></th>\n",
              "      <th>name</th>\n",
              "      <th>age</th>\n",
              "      <th>city_partition</th>\n",
              "    </tr>\n",
              "  </thead>\n",
              "  <tbody>\n",
              "    <tr>\n",
              "      <th>0</th>\n",
              "      <td>Morgan Bailey</td>\n",
              "      <td>21</td>\n",
              "      <td>las_vegas</td>\n",
              "    </tr>\n",
              "    <tr>\n",
              "      <th>1</th>\n",
              "      <td>Stephen Mcclure</td>\n",
              "      <td>21</td>\n",
              "      <td>new_york</td>\n",
              "    </tr>\n",
              "    <tr>\n",
              "      <th>2</th>\n",
              "      <td>Debra Dawson</td>\n",
              "      <td>20</td>\n",
              "      <td>new_york</td>\n",
              "    </tr>\n",
              "    <tr>\n",
              "      <th>3</th>\n",
              "      <td>Cindy Taylor</td>\n",
              "      <td>20</td>\n",
              "      <td>los_angeles</td>\n",
              "    </tr>\n",
              "  </tbody>\n",
              "</table>\n",
              "</div>\n",
              "      <button class=\"colab-df-convert\" onclick=\"convertToInteractive('df-da5cc58d-6e76-400c-ad65-84845048411a')\"\n",
              "              title=\"Convert this dataframe to an interactive table.\"\n",
              "              style=\"display:none;\">\n",
              "\n",
              "  <svg xmlns=\"http://www.w3.org/2000/svg\" height=\"24px\"viewBox=\"0 0 24 24\"\n",
              "       width=\"24px\">\n",
              "    <path d=\"M0 0h24v24H0V0z\" fill=\"none\"/>\n",
              "    <path d=\"M18.56 5.44l.94 2.06.94-2.06 2.06-.94-2.06-.94-.94-2.06-.94 2.06-2.06.94zm-11 1L8.5 8.5l.94-2.06 2.06-.94-2.06-.94L8.5 2.5l-.94 2.06-2.06.94zm10 10l.94 2.06.94-2.06 2.06-.94-2.06-.94-.94-2.06-.94 2.06-2.06.94z\"/><path d=\"M17.41 7.96l-1.37-1.37c-.4-.4-.92-.59-1.43-.59-.52 0-1.04.2-1.43.59L10.3 9.45l-7.72 7.72c-.78.78-.78 2.05 0 2.83L4 21.41c.39.39.9.59 1.41.59.51 0 1.02-.2 1.41-.59l7.78-7.78 2.81-2.81c.8-.78.8-2.07 0-2.86zM5.41 20L4 18.59l7.72-7.72 1.47 1.35L5.41 20z\"/>\n",
              "  </svg>\n",
              "      </button>\n",
              "\n",
              "\n",
              "\n",
              "    <div id=\"df-d8e6da94-8039-401f-8d99-0f9c645fd050\">\n",
              "      <button class=\"colab-df-quickchart\" onclick=\"quickchart('df-d8e6da94-8039-401f-8d99-0f9c645fd050')\"\n",
              "              title=\"Suggest charts.\"\n",
              "              style=\"display:none;\">\n",
              "\n",
              "<svg xmlns=\"http://www.w3.org/2000/svg\" height=\"24px\"viewBox=\"0 0 24 24\"\n",
              "     width=\"24px\">\n",
              "    <g>\n",
              "        <path d=\"M19 3H5c-1.1 0-2 .9-2 2v14c0 1.1.9 2 2 2h14c1.1 0 2-.9 2-2V5c0-1.1-.9-2-2-2zM9 17H7v-7h2v7zm4 0h-2V7h2v10zm4 0h-2v-4h2v4z\"/>\n",
              "    </g>\n",
              "</svg>\n",
              "      </button>\n",
              "    </div>\n",
              "\n",
              "<style>\n",
              "  .colab-df-quickchart {\n",
              "    background-color: #E8F0FE;\n",
              "    border: none;\n",
              "    border-radius: 50%;\n",
              "    cursor: pointer;\n",
              "    display: none;\n",
              "    fill: #1967D2;\n",
              "    height: 32px;\n",
              "    padding: 0 0 0 0;\n",
              "    width: 32px;\n",
              "  }\n",
              "\n",
              "  .colab-df-quickchart:hover {\n",
              "    background-color: #E2EBFA;\n",
              "    box-shadow: 0px 1px 2px rgba(60, 64, 67, 0.3), 0px 1px 3px 1px rgba(60, 64, 67, 0.15);\n",
              "    fill: #174EA6;\n",
              "  }\n",
              "\n",
              "  [theme=dark] .colab-df-quickchart {\n",
              "    background-color: #3B4455;\n",
              "    fill: #D2E3FC;\n",
              "  }\n",
              "\n",
              "  [theme=dark] .colab-df-quickchart:hover {\n",
              "    background-color: #434B5C;\n",
              "    box-shadow: 0px 1px 3px 1px rgba(0, 0, 0, 0.15);\n",
              "    filter: drop-shadow(0px 1px 2px rgba(0, 0, 0, 0.3));\n",
              "    fill: #FFFFFF;\n",
              "  }\n",
              "</style>\n",
              "\n",
              "    <script>\n",
              "      async function quickchart(key) {\n",
              "        const containerElement = document.querySelector('#' + key);\n",
              "        const charts = await google.colab.kernel.invokeFunction(\n",
              "            'suggestCharts', [key], {});\n",
              "      }\n",
              "    </script>\n",
              "\n",
              "      <script>\n",
              "\n",
              "function displayQuickchartButton(domScope) {\n",
              "  let quickchartButtonEl =\n",
              "    domScope.querySelector('#df-d8e6da94-8039-401f-8d99-0f9c645fd050 button.colab-df-quickchart');\n",
              "  quickchartButtonEl.style.display =\n",
              "    google.colab.kernel.accessAllowed ? 'block' : 'none';\n",
              "}\n",
              "\n",
              "        displayQuickchartButton(document);\n",
              "      </script>\n",
              "      <style>\n",
              "    .colab-df-container {\n",
              "      display:flex;\n",
              "      flex-wrap:wrap;\n",
              "      gap: 12px;\n",
              "    }\n",
              "\n",
              "    .colab-df-convert {\n",
              "      background-color: #E8F0FE;\n",
              "      border: none;\n",
              "      border-radius: 50%;\n",
              "      cursor: pointer;\n",
              "      display: none;\n",
              "      fill: #1967D2;\n",
              "      height: 32px;\n",
              "      padding: 0 0 0 0;\n",
              "      width: 32px;\n",
              "    }\n",
              "\n",
              "    .colab-df-convert:hover {\n",
              "      background-color: #E2EBFA;\n",
              "      box-shadow: 0px 1px 2px rgba(60, 64, 67, 0.3), 0px 1px 3px 1px rgba(60, 64, 67, 0.15);\n",
              "      fill: #174EA6;\n",
              "    }\n",
              "\n",
              "    [theme=dark] .colab-df-convert {\n",
              "      background-color: #3B4455;\n",
              "      fill: #D2E3FC;\n",
              "    }\n",
              "\n",
              "    [theme=dark] .colab-df-convert:hover {\n",
              "      background-color: #434B5C;\n",
              "      box-shadow: 0px 1px 3px 1px rgba(0, 0, 0, 0.15);\n",
              "      filter: drop-shadow(0px 1px 2px rgba(0, 0, 0, 0.3));\n",
              "      fill: #FFFFFF;\n",
              "    }\n",
              "  </style>\n",
              "\n",
              "      <script>\n",
              "        const buttonEl =\n",
              "          document.querySelector('#df-da5cc58d-6e76-400c-ad65-84845048411a button.colab-df-convert');\n",
              "        buttonEl.style.display =\n",
              "          google.colab.kernel.accessAllowed ? 'block' : 'none';\n",
              "\n",
              "        async function convertToInteractive(key) {\n",
              "          const element = document.querySelector('#df-da5cc58d-6e76-400c-ad65-84845048411a');\n",
              "          const dataTable =\n",
              "            await google.colab.kernel.invokeFunction('convertToInteractive',\n",
              "                                                     [key], {});\n",
              "          if (!dataTable) return;\n",
              "\n",
              "          const docLinkHtml = 'Like what you see? Visit the ' +\n",
              "            '<a target=\"_blank\" href=https://colab.research.google.com/notebooks/data_table.ipynb>data table notebook</a>'\n",
              "            + ' to learn more about interactive tables.';\n",
              "          element.innerHTML = '';\n",
              "          dataTable['output_type'] = 'display_data';\n",
              "          await google.colab.output.renderOutput(dataTable, element);\n",
              "          const docLink = document.createElement('div');\n",
              "          docLink.innerHTML = docLinkHtml;\n",
              "          element.appendChild(docLink);\n",
              "        }\n",
              "      </script>\n",
              "    </div>\n",
              "  </div>\n"
            ]
          },
          "metadata": {},
          "execution_count": 207
        }
      ]
    },
    {
      "cell_type": "code",
      "source": [
        "# open delta using the versionAsOf\n",
        "# df= spark.read.format('delta').option('versionAsOf', '0').load('/lake/delta')"
      ],
      "metadata": {
        "id": "fnPIOA__kPVB"
      },
      "execution_count": null,
      "outputs": []
    },
    {
      "cell_type": "code",
      "source": [
        "# adding duplicates data in the delta table and reading using Time Travel feature with timestampAsOf\n",
        "# df = spark.read.format('delta').option('timestampAsOf', '2022-11-07 12:40').load('/lake/delta')"
      ],
      "metadata": {
        "id": "c2eRXVLtkPXt"
      },
      "execution_count": null,
      "outputs": []
    },
    {
      "cell_type": "markdown",
      "source": [
        "# Connections with AWS, Google Cloud and Azure storages"
      ],
      "metadata": {
        "id": "jjh-5m7Xgb0h"
      }
    },
    {
      "cell_type": "markdown",
      "source": [
        "*  ***AWS***:\n",
        "\n",
        "Example write and read file from s3 bucket:"
      ],
      "metadata": {
        "id": "0AXtKhdGghdh"
      }
    },
    {
      "cell_type": "code",
      "source": [
        "aws_keys = {\"AWS_ACCESS_KEY_ID\": \"access key id\",\n",
        "                   \"AWS_SECRET_ACCESS_KEY\":\"secret access key\",\n",
        "                   \"AWS_REGION\":\"us-east-1\",\n",
        "                   'AWS_S3_ALLOW_UNSAFE_RENAME': 'true'}"
      ],
      "metadata": {
        "id": "iRFiCAohgco9"
      },
      "execution_count": null,
      "outputs": []
    },
    {
      "cell_type": "code",
      "source": [
        "write_deltalake('s3://bucket-name/folder',\n",
        "                pandas_dataframe,\n",
        "                storage_options = aws_key)"
      ],
      "metadata": {
        "id": "YA9869PVgk2b"
      },
      "execution_count": null,
      "outputs": []
    },
    {
      "cell_type": "code",
      "source": [
        "DeltaTable('s3://bucket-name/folder',\n",
        "           storage_options = aws_key)"
      ],
      "metadata": {
        "id": "Gd-Wr7dEgk62"
      },
      "execution_count": null,
      "outputs": []
    },
    {
      "cell_type": "markdown",
      "source": [
        "\n",
        "\n",
        "*   ***Google Cloud***\n",
        "\n",
        " - In the `storage_options` set the path of a file .json of credentials with permission to access Cloud Storage. \\\n",
        " - You can create the credentials following this [tutorial](https://easyscreenocr.com/create-google-api-json-credential/amp/), the Google creates a file JSON with all information to access the Google Storage through the APIs."
      ],
      "metadata": {
        "id": "CZq-ZIhIgqva"
      }
    },
    {
      "cell_type": "markdown",
      "source": [
        "**The image of json to access the Cloud Storage** \\\n",
        "![credentials_image.png](data:image/png;base64,iVBORw0KGgoAAAANSUhEUgAAAbIAAAE4CAYAAAA+WHaiAAAAAXNSR0IArs4c6QAAAARnQU1BAACxjwv8YQUAAAAJcEhZcwAADsMAAA7DAcdvqGQAADBCSURBVHhe7Z1Njhy5znZrC701Az29uGsxPDK8DffgbY968o08dRvdc2+gcWH0KvIL/UWQFCVF5E9VKvMcgIAzI0KiSIpPRla54uUEAAAwMQgZAABMDUIGAABTg5ABAMDUIGQAADA1CBkAAEwNQgYAAFODkAEAwNQgZAAAMDVdIfv2/uX08rLY+2/5HQAAgPuiLWR/flhE7MMJCQMAgHumKWQ/f3vHnRgAANw9CBkAAEwNQgYAAFPTFLLwix7vfvuZXwEAANwnlZDFO7GXl9OHP/MbAAAAdwx3ZAAAMDX8jAwAAKYGIQMAgKlByAAAYGqaQhb/ssevn0/8lAwAAO6ZtpAt8LcWAQDg3ukKGQAAwL2DkAEAwNQgZAAAMDUIGQAATA1CBgAAU4OQAQDA1CBkAAAwNQgZAABMDUIGAABTg5ABAMDUIGQAADA1CBkAAEwNQgYAAFNzZ0L21+nrL7+c/vjy7+n0v99Pfyz//vp3PvTG/PvlP6f/++XT6cfy7x8ffzn9339/Py1eXoVbjn0Nok+//Of0/X/5DTifvz+tsZR5B4DzmU7IQlONx18ZhAwh200Qq1YOETKAq3NnQvbv6ft/i3gFUaub51sJmWxOsQF9/Cu9fw1uOTa8Pj0hix/Qsnj1zgOA3UzzM7L06TXcGRjLTT8eN01BvReaxnKuHEcLYhJRO+4Rfv727vTy8u70+Z/8xrUIvhe/Kr9tbPQn/CL88pxylzuMWb4r9sZd6fqW7rD9Y2P0uuoPNfq4vXs3+XTish2TY8sPU4k4T6mHXh2peEnjrgvglkz3yx7NO7LYROqGtJ5bGm5pSOb82NhW8TLX7uQ2Qubfma7EdW2NUgnRwtqw89rU8SpmjfjG85xmHOdu+WZjmETNflXcZJnzq/DDrisJSUsgsoit+dT0x9ohZLKOTPwj4T0xPgDclscRsgV1zDbfqrnIhhWa7L02oyQAvTVrcdDCF4VMrsPERcfTiUPAFbKB2IdrTPyUIBxF+TAQRU9cVrxrZS3sEDK1Lh3vCEIG8Ko8lJDJBhKajzqvai6iEccmme9cpN1LM1L+yQad1lD5bYSsGa+AjEv4tyc0rpDtERPHt91C5q0t+xD9ad0JZuFp5s4RnjwXQgYwJ48lZGtTCc1o1FxEw3Ib9X0Sm+rqa910LUMhE404nOuO5cZnMPeFzTz4oq5XPnhiJOjOHa61fsv3EDKA2ZhOyPqftsvx5W7MfvI3zcUThP13Cz43+2UPSViHEBW9jpqxkBUBWxpyK64Noe/PncRhNHeLKGRrPnJ+xFyV0Cn6c9trdU2ludZrY7yFL3uEbHDHOOTPD0sdvZxe3n/LbwBAj+mEbGtq2az4xCbi3CmUhrSabcBm3MWONuGbCFnld90gk6CIc0Sj3SNkJWb2vGrcaDpu9hw9RhIUebx5B2fJPq3XfanFNAqSPMe5y9qO9641tSDnXmL5I6zxiJAt6LjYWhvx7fQhCNmvn08/8zsA0GZCIRsQm5DTOKoGBHCv/Dx9/pU7MoC9PJiQma+FJAgZTEC6q0fEAI7wIEImvhZs/ZwLIbsb/K8si13wsyUAeEoe76tFAAB4KhAyAACYGoQMAACmBiEDAICpQcgAAGBqEDIAAJgahAwAAKYGIQMAgKlByAAAYGoQMgAAmBqEDG5G/JuB2LQGMAtUK9wMrzli8xjALFCtcDO85ojNYwCzcGfVKp7s23pA5s3Jf0n/zv5SfvmL8cN42L/yH17nvyifxjj6kMcOg7G95ojNY96DSt92bwL4IGQVNxKyCx8jg5Bhr20IGczCnQlZEpG0QfxHyE/LhUK2GzuPfGL2tX0YjO01R2we0zzw3oTpmeiL8LCRwuZJnwzTQxjlHcC20X58LMf1Zit3NcW2T5T5Lkwcqxu+nNd7CrUdI/uWP71u75vjQ+S8fvOw6zosVv98Pr1bGte7337mN66D1xyxeYw7LpiFyYRMN/MoWOsToTchKSKjjsevwYR4xNcdYVBikMbexCuJSyWEradTBy6+G2p8CvbWhZBhVzCEDGZhOiFTm0s1bUdM1uNWiBJB6Oo7K0fIwl2VEYd4TkskPc4RGIUnZKOYvC1ec8TmMYQMZmF+IVsFxDm+4h/bLWRxnnS3pywLWX0H54CQYZMZQgaz8HB3ZD0h06LlvZdwhawnDnvEAyHDJjOEDGZhYiFLP6fahKgnZFmcqp+R+V8H1ndYdi7L6PhC/KUP/2dy+/CEzPwcsPxiyVEh42dkmGOHhSzX0cuvn0/XrSSAPhP+ssdm3h1Wb/MlMSvXt0XF/6owiZWcX89lj9ciqecf/EytEAVXjhtM+i7nXcZ0fp435CZC9pfbHLF57LCQLfL1+ddw7YfTt/wOwGsw91eLNyIKTu83EGEXXnPE5rFzvj349n65ljsyeGUQsoodXxPCLrzmiM1ju74xKPz5IV2HiMEbgJAF7H9afrW7sfrrSmWT3xXaxojNZQCzQLUCAMDUIGQAADA1CBkAAEwNQgYAAFODkAEAwNQgZAAAMDUIGQAATA1CBgAAU4OQAQDA1CBkAAAwNQgZAABMDUIGAABTg5DBQ+L9EVwMw+ayvdyZkIlHqOS/SH/tv3ZfHm75Gs81uwqdJ1m/FvEp1Duebh3Ok4+/SbFOvscxjj7ws8NobG9TYBg2l8X+t6NvIGTXIvp7A8FByFwQMgx7fJtUyOQzx4KojZvn3fDAQrYXK2SyCKPwXPP5aoOxvU2BYdhcNqmQ9QgiF4RNPoxSNvhNBNMdRDAphPI6I5CeWFTvyesXWxuneX81PUe5E0x2QJiMH2Wc+s7HGXvXujqoB45616SYb3MbIdvBz9/eLQX77vT5n/zGlfA2BYZhc1nsK48nZKFZbgIRBWsVlK2plmaqjxe8O70kRvLrRvsp/8dH2cjr87t3ZJ4Y7UhORFybBMvM0R279tOPyYDG2uxY4TVChmHYtSz2t0cUMiUeapFZyGSTdoPgCVkWgPXaMFZ9jqRq2h0hC+cqvxs+uGSh+u6J2MJobL2uA/NKvLU5750jZDdh8c3bFBiGzWXPI2RrM3WOuzSauWzM4d82eHGudMdXbJ+QZYE11+755YmInLe6k9oxtvQrjFWNsQNvbc579yFkKSbepsAwbC57HiEzd2RnC5m4PtzF1CKlx95/R7bXrwZRyMK4wW8rFHvG3s6p7952MpOQ5Vx5mwLDsLnsCYTMNva9gtH+ei0J2F/LOF7TFtdEcbFNO/njzR+/3nNFbgerkC3kJi3n2DV2LIZlbTsKwsUTMrPe5MdxIeNnZBiGtSz+stkjCpn8Cu3Q3UkWH21W0FJz9r5+C3cb63VLYL97dx9qDj12afRyjF0tXwpZoMwhfByPbUV/H9W40Rxfgi3+hPMRMgzDrmU/wofoRxSy8R0X1LTvQh8Vb1NgGDaX7QUhewLi3eQ5v+QxMd6mwDBsLtsLQvam5K8yW3ah+Kxfh3q35vnnbdWc2Y5+RXhveJsCw7C5bC8TCRkAAEANQgYAAFODkAEAwNQgZAAAMDUIGQAATA1CBgAAU4OQAQDA1CBkAAAwNQgZAMCT4f3n4xmsBUIGAPBkeCIxg7VAyAAAngxPJGawFggZAMCT4YnEDNYCIQMAeDI8kZjBWtyZkIkHQDpPQ74G5WGR0/wVfftgzSuT4pHGj38tf+8DP3dwy7EBnprQFy7YT55IzGAtELJrEf29geAgZK+M82gd9Tid+knlwVQ9mUfkbI/E8a9dj+cnbstH6MQY7nqcz8jv+ricRz3te7WUu+iDlzvbTMu61bn+moPZdSvbWytxTvnQ2LzOsnaTi2RhXdmvKraiB901wf8zH5a7xNsTiRmsxZ0JWSqu1BRCQU30VONJhUw2o/1Ncye3HPtmpEa2CZN9LWvUITdlefzfL59MHacxqmYZ4/Uf9Wj3o0Jm/dyuNfspN/hqHV69VWKRCB9OrOj+8eWvdoP1xg6IOjmM8S1+YJLx6u1LZ11N0b5Dzt1T4TpPJGawFncmZD3KJ5C0YbdPVoWtwcRijsdlkcrrzEbzNlj1nrx+MdUgxPurORtkPdbYWB7GjzKObSDu2LvWNebb+1BEH07f8uvHJuVTNnjdsHtC1hCoisZ5ITdLE/2+zFfG39+sar91rsPxej9U63Drw/PXjrfFJfjsxqBVe3ndo6i5SDHyxukJ2YIWvkZM7habg0LIRXg/rcf2hZAfTyRmsBaTCVlIyJY4XYTl+Lbhqk9nES/5dQHbBvLjo9wMTsH3NozZwHHsvRtXXBuvs3N0x6799GPS57mFzNbL1rArnE/4PmmMlpD9G8bJObJ12MapSVUbZh3xmOOrqadCVbPF1/xS1b89VmiM3Tx/D2vMw/qcsXv7MiBydmhf3gn6Q1bB9kpdb2GdnkjMYC2mE7Jqo66Fl5MnN727QWxjSuiGEcZyNrmgKqDOhgnn6sbn++CSN//34J8z/mhsva4D8z4tIUbpA1Ex3ShKk5CWYyqaoj7PxjwdawqZqD+dvx7J760W0uttDruuRnPP9eYLwrYOW/+76qw1dnxf+rbYrjUvRL/SNXofZMTx1UxPSL5/MvGbBLfvpPqSa5H5CbnzRGIGazG/kK1JdI67NDaZLIjwbyuAzmbbJ2TJL3ut+2nYQ85bbe4dY0u/wlh7G8QrEDaU9HskGHXuxXGTr/PHtoKQz13jll67dRZjbfPq1VsaQ/u0ENZU1rH8Oxw/KmRyTXp86YddoyDGtV3HaUy7pjomVugirbHluo9SYv53Y/8196Ukx86Lc/RZxPVqdbYQfZPHtZ/9sQtePdbvIWR3g5MwtQG8hHrYTVjYrg9JV0WTC06OXW3U5obZ61eDdfOnzeZtlP7Y2znB57P9eBqcJr+7zrwcefWWxqgak5onXJfvxA8IWTu/2o/Y2DzxWOutZr1G+blQNeRsdvzW2Ha8I8S507rcNTX3paSRj1mo4lfXKEJ2N9jk2KbRazASr7EkkoCF37oyhS82SyRuSK9h+fPHIhpupgZy8+eGURXoaOxY6Pq34Y7w3D8js02uX2cpH7K+vHqzY2ZMQ4r1uOTtFkLWPF/WmyXvgz+s78bviN0zgdbY3vV7MfPEuxgZr3h8tPca+ZgGm9u6RmNdImT3QEqO/MSnC6/fYNIm0tfXX++lze01jrhBynXLpgu/WeY2osbYqcHpMXZtG7v5yxzCx/HYaV3nbtRnFDIVT1UPdR0GU3VX1VqpBf/aNS/hOpm7/MHFq8eahjCt2GZX6ibXVuVzMCsAxX89TtgbdW2lc9X7tpYL3tx790clmDl/5foSQ2X+us7dH/eAFKqyHl/I0jFPJGawFhPfkcF+6iYGAI/EsT3uicQM1gIhewKqr1sA4KnxRGIGa4GQvSn5a5CWXSg+69ehe7+mAQCYkImEDAAAoAYhAwCAqUHIAABgahAyAACYGoQMAACmBiEDAICpQcgAAGBqEDIAAJgahAwAAKYGIQMAgKlByAAAYGoQMgAAmBqEDO4a7y9gYxj2fNbjzoQs/TX4+IC7/EC8I3/tXj78svWQvPIQyud6HIx52KCgH7PL8tEnPc0g/YV/MY/BK2gMw57PejyUkBX8J9YmbiZk0V/n6bd3QVvICn7M3ljI/v7kFjSGYc9nPe5MyOQzx0JzO++pxj0huxl3LWRj/JhdJx8ttjkbz5pDyDAMy9bjzoRsB0tzK1+F+V+H9e8u0nVeQ853COUc9VDLcO0iUvmuJB5f727kuNKONP3W3OH9ZZwvec3L+2Ft4d+y6Ze7zGR6XnVMrUlzvvh/O30Ihfb+W359BUScvYLGMOz5rMdcQhZFbCwQ/abs31lEgVACIscoYlXuuNJrdQdxwR1Ze+4scEE0c3MP70dxKucv738Va43HnK8Q1TUOdyVkBe7IMAzL1mMiIbPi0ua4kIX3jAgF0VR3Xfqaao6zhaw3d1pzFEwxfleUGn7cTshuCEKGYVi2HhMJmXMX1OCwkOW7ne3ruWyvIWTdufcIWb5rU9cjZBiGPZb1mO6O7HZC1hOhWwtZ67qxkAU/1FeJjfEQMgzDZrYeEwlZbsY7xOKwkJW7mmaj3yFk8Zx9Qqvpzb1TyNZr81ivKmQ3/BnZsmavoDEMez7rMZWQBZKYhWadbGu+SUjkMXU8/NypOi7FqYjAZnrskZAtqDmsWPZozT0WsvT+dt3XL/KOrB432ipog5jt4oZCtuAVNIZhz2c9phMyeC68gsYw7PmsB0IGd41X0BiGPZ/1QMhuTPwZlvP1XbLxz/ueHa+gMQx7PuuBkAEAwNQgZAAAMDUIGQAATA1CBgAAU4OQAQDA1CBkAAAwNQgZAABMDUIGAABTg5ABAMDUIGQAADA1CBkAAEwNQgYX4f1NNAx7bYPnhgqAi/CaCoa9tsFzc2cVkB70GB/smB8YeeSJy/IvzbceDlkezHn8Sc63Jj/k8r+/n7qPtRQP2ExcFrM+47G9poJhr23lSRKxB4z2EDwcDyVkhd5j+28mZJXAHAUhw7BzDSF7bu5MyMSj/WMT/c/p+//igUP0hOxmXCxkO6nmuU7MfAZj//3JbSoY9tpWxCt+UP34V6pPeBrm+3J5aZ7l68PWV4i+kKW7i3Sd1+xT017HVpshXLuIR74ricfXT31yXGn7BaXcJUbzNqFZ8/EHcn47fQgb/v23/PoaLOteYuA1FQx7bYPnZq4KiA19LBD9OzLnzmIhfiWxikgStW2MIlZFQNJr9TXbFe7I3E+TcVzh71nz3ELIEl5TwbDXNnhuJqoAKy5tjgtZeM+IQxBNddelr6nmuJGQ3WKea+I1FQx7bYPnZqIKcO6CGhwWsigO8qu7bAjZEK+pYNhrGzw3092R3U7IeuKAkLXwmgqGvbbBczNVBaRfihg38cNClkWy+vnUyg4hi+fsE9oWnpDF96pfLDkqZPyMDHtsG/HtfTrvw5/5DXgopvsok8Rs+/pvE5PS5LWtx6vf/Asmxcn81uJieuyRkC2oOaxYtqjnjbYKmjwexgy+3IOQJb9sQ8Gwt7Ahf36I57377Wd+Ax4J7snhImxDwbC3sCH/fD69W87jjuwxQcgA4IH5efr8axI7ROxxQchuTPgKsvracLX7+aUNAIBZQcgAAGBqEDIAAJgahAwAAKYGIQMAgKlByAAAYGoQMgAAmBqEDAAApgYhAwCAqUHIAABgahAyAACYGoQMAACmBiEDAICpQcgAAGBq7kzI0sMx4wMr4yP9L3vi8n7SQyJfZ64W+cGg69OgC/nBmvFBmyI+V0I+dTv+pX4xv/fE6imJtdR50kB4IGoVd7gX1MN0Z67HS+psVMOvxpV75ZXW9VxC1gwaQnaukLlPyl65h7jO4eO16K91bub+YHVZnb16Xpuiu2MdB56Uf6113ZmQySCFpt0PwmHuWsjabMm+gZ+iYG2jeAwhC3XU+cQXauLcT8l3CEJ2p1xUZ4MavgVnC5n2Neas6fv11jXZz8hSEFe1V4GuhW/b1OGYuG61cn5JjjzvQICrpBtfyvF8lxnHt4LhvH+Eb+/DU3A/nL7l19egNI4Qx+JfKWDls7Tsv7xG2tpkQ0yWc+U4tgHbOarNk+PZa9xlDS38xt+rs0TfN1NvVW30jrVqeKETM+vPamrtvbnHeDndYtcfe5TL/tiJdi713HU+B4S4tq6XezbYOn+okSVXX/K1y/tlDV6T9+tsXz5a69Yx03WT/BPH99aZXe9qpR8e7JVxPOtborUuXSv+tZaphOzfpWi2RaWAbsXRSU4hBtULekl6ud6OPWCPkMmEN5Lb3qhjbiZki98lDvG12Wz+Bi2Uos8vJSUmZb02Js1cCeI5vfnrmlA05ujXWYlLy7e0wX2f7Fi57tacD2rYxiy+1n708tHP1QA1l/V7sC7rZ3xt90dr7A1/f9i5U/zdmvOwvijsWDK32c+wH0Qduj66dTaI2UpdEwG7F21NXtwrQ1zMXk9kP9fr7diGuHYvvv66wvlfxVh2nS0muyPT6KLZkZxG4yrJkMXvFmSLKunGl2qz1PMFDs35ClT+OPHrN0d/nZEqZubcOFfj2r00N2Nib7zrOmv7Fc9tzRnrwNSfiumghkd1ttDLRzjWi0ePeK2IlVpnd11+o5N+dscWuPkK85hz3fNcfN8Krh9rDkS9ihx6c7v+DGshU+U84NVgZ68taB921I07b6Cepx3vdK57rDm+wYuJw1xCFhcVPg0IO5KcZlCOJMehSorxZWfSDs35ClT+OPGrYqzobK4qJuncajOVPO8pekVn7khdLyu9OovHGtct2Kas8OpAxXRQw6M6W9iTj7KmdmxqYi2sfppcddfl50H62R1b4O4PWSPSdu2jEL92HJrzxbWKdYkc1tc06mxYCwE/dv6Y5tw4VismO+rG8y9S++TGaSHuhZ1jbKRjym8VE5+JhCwVnQy2DuCO5FSFUtifHJcq6caXZlFoDs35ClT+OPHb0zjdgq1i0ivu3qZo0Mx1ppmT43Um6eYwzGl9Uu8NarjyeUfNt8iNrhXviuinaC7Sj+66Ul61T+a93tgCN7ZVTI7Qr7k4nxl7e09cK2qt8rHlXzdmmWYNpxrVfsv30r+P1HBVN8241jHz8hL3q+v7QmdvVvt8tI8z0wnZGsC8EXVytuMxuCaZ1Rgr+5LTRBVgGqv6GYBbFJpDcxpu+cseK05RxXM6a4uF6a3JxCTlq12w7jy5BnSOE/2G3mtgozpzNpskn98be/Mr+bG9HtRwVUfhfN2QRvnY8PdCakD2/V68Av11Vbl19kt77I04TlVLdm4ff12Ob5IqlzJmwm+xL7SPvbX1Yxbo1bCtQZ13k9uqhvXxFAMzV7xG11aiXpPNS4p1ey8P12Xi1xurMNkve6SAJ/t0+m4CmDZIPr687wZMnrMmapycESl5ydJv9OwVspIsYwfmDryVkFX+V36nTVOOr/lQeQimx9W5ro9H8gatN4WJv8Vdx8awzhZkvoOpZlUaR7FKfMQxG69eDVd15K2zlQ8z72JeMynrUusJVPla7MC6dEyNz92x9+yPem3W/+a6FmytqbiYXG7HRM8Q9aT2zKDO+jHzcqvRNdjbP+f1SjtGGl+sO1OvuVwjbJ17sC5z/dcvoxgmpv5lD5iYqilfD7WxHLxNCz3q5lXeuzyOtxz7bbmkzkY1PCu3WhdCBm/DDYUMrk26c1Bikz85awE6h1uODc8CQjaidaucjU/2Z4KQzYXz9d/VhOaWY8NTgJABAMDUIGQAADA1CBkAAEwNQgYAAFODkAEAwNQgZAAAMDUIGQAATA1CBgAAU4OQAQDA1CBkAAAwNQgZAABMDUIGAABTg5ABAMDU3JmQpUc6xL8of+1HOcS/sD1+QNu9Uh5yV8fjhjHrju09R2pSBn+Jn+eX3TfyAZPz5unC/XQ3T5MIPaP/QNBD7FzXdEJ2dlNByM7gUiEbnBPHfOuczODjtXigDx8OU3/guEiIXj+v7ViPhUx+8Oivef+67kzIpON+QJ5VyNqMY3Y+vbH3FNngnHsQieBDZzOFDxDTNseKPTmbl5mFLPh+dl4GNXwLzhay0IfXJ0Snemw+MfrAuqb5GVm5I6lMBiE2xsYxI2RlvC0ZOajetTE5y7Vy/AOFE+eq/Nx8KUUh17gVdZg7z3m2SH07fXh5Ob28/5ZfX4PSFKV/ek1lLdJSvOU10rb1FQGR4+iNbsZw8pHi2Y9Ze0MGwhzO9bGWWn4FBr6Z69X8oxpWY0n/Qj7Cv+Xce/OR6fk1xKw5ms6nPGZjpv2zMe+PXWjmUq2rvm5Ez/f2seDzp9P3fPyPL3/l/uLMb/pBYRSzgr9uE7Nqf5jjos7ivI1+ZX2qrw/jLmv8e1+vjOM1jvf3pma6X/ZoLy4lRheSODcWs0yGLpy4kdZkpCa9zVOSXq6xc/XpFUYgzh3Gz+f4yc0FcnATJm4nZNvGtDELFLHLLy2NDRwoG8bLX2BPkacxOjHrzB+o8hZZ8iDfM35VdWeJ57d8snVlxgrXdoXsknzIsY6j9k+Mq5jHxsjEwNZ7ypvOdXNsgVsT8Xyxripffawviu66Uu6i3/H95LPno+t3d2yBW8M297k2RN3++Civ0XVX1b0zh+tzJK97PV+PbbG5X3HX1eZhhMwNSEh+eS8XRvqEZAMUgm3ek9fG47qI2omsGRVGGEv57iax9uFtqZtitU7nHEWnWOux9PqrmJ1BPYdk4PuK9sutwxXbYDTutbaG1XE596X5CGPtr2lNunYbV67TX/O2f+y1Aelnb2yNtydDDPR7vRhYPN8Ke9aVcyPyVvsozlsZjb3h1nDudWpfDYRBjl2N6Vzr+ZKo19M8N47rx9ddV4fHEjIvobIJLEGTdz4rOaDr8WJr0ziQHIdRYewbyyv4t6RuCHUOBk2js7nqscL65Vhp7JKr5hxNBvGsRGMj5EvViRgnHrP1tWLXoNlVw8onuYZr5aOsqd30anIuylxxnLZfga3mvTzIa3pja7x9VOcqWTMGks5ch9Yl8mZ9dHM+HLvQqGGvdu1eC+eYmJSxK5/stQterBO1T/654bz9Y4x46Dsy9V5MXEiGE0AnUZq9yfEZFca+sY4n97bUm63elP6GXOnEvR6rs/44zs7mVPA2u6BbZ8pn7Vftt6Qfj3jtqIbVcTn3FfIhqNfZJ8TLa4plTh1L+V5Yg/VJv9ceW+PlbN/eatGpuV3ryteKvGl/WvkYjZ1p1fDa6wTyPWe/SL+qunH2aTuudczqc1N+m/ukta4O0wmZt9kjVXL0ZugnMhVJuwHtSU4b7XNOoiiMfWPVPuznlr/skV8u1I0zra0fVz1GwY4Vx2kWtz9OHMONWauBZJyNW7D1F/2SczhNQpJ88sc+VMN5Ddvc18iHwGuG1ZyZTrwC1ZrN2Da3KsaDsSVhnGofxbkG+ybH3auvXt311yX2a3g/j6F8FO9bRjErufDrLNXNFot07vo6rlfEJI69HVfxz2Ppue05ErHujM5LHq9Zg711tZlOyMpC109oMiClILNtwVuwhZCTt11vxlXXj5IzQo69jBN/o2fzpTtW8VOZ9mXM2wnZthGSVetU69vWlTbydp3eNHrMYF780hhOrPY03uZGs+v5vaoNW4d2w9u1Kd97NbwQG2s+ln5jtMx9YT6qOvNqrNRxfUz6VUz6rtc8ul7npj92XQv6+EK1NpP7EvOGqNj5qxivx+S6RG7C/HnsMFbxTf7boxuzQQ1XcTF1oNa0+PZd+dLvVwl5zmLr+LImE3KdtvaLrTEdrstnQiGDZ8Bvwteh30DqjQgDvOYT37tCHG859ltyZsMujERwVs5dF0IGd8kthQyuTLzj0U05ffI+v1Gv3HJseBgQsgtp3Son45P9uSBkc6G+qop2PaG55djwGCBkAAAwNQgZAABMDUIGAABTg5ABAMDUIGQAADA1CBkAAEwNQgYAAFODkAEAwNQgZAAAMDUIGQAATA1CBgAAU4OQAQDA1CBkAAAwNXcmZOlhcPF5NPF5PfohdrejfijhbKS/ED7+a/uP+hwjME9icJ4cIB9/Euul8SDJs4iPW0n1Vz1mRTxYcm4GfeLCZ4w9CvJpBa/Va55LyJqFhpC9PuYJtsFMs9OPyDF5y/VRjt9V7t64cbcegXPXQjY45y7qdgYf74jXjMedCZkUlBs8qfeBhWwv9yVkXi4ysTFux3XjTSK45ivm9cq1cgl7GvcNaQmZ9Kt5zrnIvWXXvyceg3PuoW6DD+0eMajnJ+SJhWxEEpz1U7oq/Fr4tkCmxrdet1o5vwiZPO9AUYZNuDSF9Ek0Xa8SWDapvItQTcT4t64r+aWLwbyn7kw8n03MFtPj6bmP+d0hXLucv2387Me6tjBvK8bOuoVYxTir3J+zaVoxD5iYqTWnY2FdYc50Tq4jlQtpe2sp+NSq4YU4fhhL+G7iELhEpH7+9u708vLu9Pmf/MY1yHX0w9sfg5jJPaVsXV+uIzmOjUmuxWJ1neR49mK2xt6ninnZO/lloZzn12uurf/XmKsxpo+p72iitmzczdq32g6ma3I4dqa5J1U+6ut0zuvjHlMJ2b9fPolF2WYXgqsXXQWyWYylcZXr7dgDSmJKMcR5hC9r4vLc6ridK/uSx4pJVcVbrzPSWFssSFGkOiZeDIX4dP0ekwoyXeuvw8tFwK4x+RV8Cb6VZiDx3muTxmvlV8eskR9xvY3xsYYjses2+YrxD3OXc9I67F3CsVhobiZkwe/iU3xtcj+Ima5bSamNMp5X06OazWN0YtaeP+DM0diPJTd+jpLv6QO14/OBulI1metmq5O0Xvu6rC/6JuaJr8Va+mNvuDGzPcTWwnL8q7jG+tJisjsyjS6GOvlVIBvFtRVQfrngF1qDqsDMeDFZ0jdx3CYyoPw06wrne355a3PeUzEJx02RqHX3/N5Jmm8pTpObsnmSUAaTx8ua03xFwFbf47rE+fG12FwD+psjzG3iqPKbfZJzqeML9vVuBjWc1ynjX9X4wqHafQ2qeNTrHMXMW2eiHqvuC61r9+L4K3F9D9fkOhLH13WE97KP29rKPKHG8nxiD+/Pa1rzViepZksM3PpffbTXBuS+748tadWmfk+O7SDW32MuISsNS5oqWF1sVSCbQamDeagZVIVskusWesY7ZvyU6wj/dpPurc15T8UkzG3jKWPa83s3qfB18TpEX0r+0jXBF7thyuuYn+Lv4mP42mo4RybEoJlbr8byHGn0wcYLnB23QQ0361dzqHZfgyoe9TpHMVNxUNRjVY1a5XQcP0s/nq16CO8nv358/HT6uliYd92/wafo4+J/PB7GD2vR54VvocLxME7wY1+NJ59Wn+P6txi561nj7+RGrbE/tsTLWXiv2luLbfHL46vj45xNJGQhwDowOiF1AqpANhuBTFSiX7yGahOa8XqbNByzPtn3VJE1kuqtzXlPxaTnV2B0fEiJQ8qdjG+NzF+6Tm+COr+SsvH30M1ts0YKda1UnB23QQ0PfUscqt3XoIqHk8tBzKq9vFKP1Vt/PLYjhhuDfHdykmpy8S+sa1nf17/DWMXX4Pdy3fJ+WFcQu/hzvhyD4OcfX/5azk/vh6/bjtR4OFeKgYxdjIGJ9fZe8MvOo9/rjS3xcua9J4ljS9921vx0QrYGOC5wWbQSsu14KlgbNC9JgbpY4/VnClmaWwS/u0mTT5ufrSa+Fb2Lm/BRTOzchq7fY7bNsRDG6hSkLeDk69ag1FiGeO2Rxp1rp66DQIp/e7xBYwvE8U2j3sUgXzs3dbzuSDwEt/xljy13YZ0mPoOYtfNvxurmdsGtwxR3N2aDPdBrzOHY1/C1ejge/Ap3XuvcYc7lTiv/3D+sL9x5FR/C6/iVfHy9nLsI2tdVBAu5Vt1YduqkilFaf3nt7sXyejS2wI1NjH87z3ovl/WN55vslz3Sxk4WisBs2BikfHx5vx3IMkYJaN2c4lxy7B5qzGAm8IPNsG6kYs68ae11AeiYFBPzm5iE83VMzNyLrXEY+t2m9tcUpY1Zc835uPJD+9xqJF3yZvbHL75uts1R14qHzsu+jR8x+VI13G0itc9ljCO8mZAt9GNm1reuq1O/AVtnbhPNYzixcnvIir+Ogt4D2f81DuZ1rsd1ruy3EpdmTGof0vna1DpM/ds16uv1vP2x63zo4wtVTsT4xq/wQWCPcE79yx53Q7VRAeB16IvJRXQ/OGShOvhB4VXw/I7vXSFOtxz7AhCya4CQAbwRNxSyWYl3PFps0t3h+M5myC3HvgCEbET8tCFvg7XFW+anEzL/64PV3vBTqv56ytpbNrz7jdncIGQe9dd/1xOaW459LggZAABMDUIGAABTg5ABAMDUIGQAADA1CBkAAEwNQgYAAFODkAEAwNQgZAAAMDUIGQAATA1CBgAAU4OQAQDA1CBkAAAwNQgZAABMzZ0JWfoL4fEvyue/Oj96gKFE/lVm+6C4Qvnr6EfGhQdDPdHA+cvd8VEV6S+qX/0RFd2xH+cvuYe92NqD7jOtnpA9/eqmlH3wAE9eeCghK/Q20c2E7Gab03n8h3lkjH50ifVBX/8mG6bFWze01vz3LGSDmHUF5LWYwcc74s3iEfO09AWE7NqkR3cnkTn/0+mbFMbNmnKIQ2fc2Bi342Htm9CleG6xSKJ2N3ejN4vZTlrzy/dDfK/5rLnu2I8hZEGg2z4M6vkJQdgvZ76fkcXG3b/D8AsjNfF0ndcsUtNfx1afUvLmi00kH18bkBxX2k4RzmNKf6MYrZu9t/GtUC3E8fLcRuQC8S7g0Ccwsz7VeHsx2z6UpPUEKzG5MGbxen2uyvna7MU8nhgNRKHLP59P715eTu9++5nfuAZ5XX8frzN9Vy5szUm4flmrW8OZnXurf4da50ZS1V/jg0I5z9/Lpba2GtP0fdB4cRXXyngFM3vHxt36stX+ZnY9/hoXVD7q9ei55fEQl/Bark3nTPrlzT1a14je9e1jqUa/5+N/fPkr95dxLucSspjY8aKahRHxizwmdi3StEG2MUpBlGJIr1VyL2mKcl3x33KclFx/XLuW4mf2zWsS3ntN0nitWPZjll6ngkzv6fMXzo6ZXbfJ+dp8yjlpHdVmvCRnNxOy4HfxyfF74HO79u3YXo3X+8ISc9iZPzYp0+w3nDka6ynj+OMl30Nc/PXuW0tA1WSumy3eNv7p9Tqf3atyH6+vdby92LhriL60xlpYjn8V18Q4rfu67L3terVOQXvudo5HJKFqXN+NWYpv9DO+38uxZiIhsxuvTX/hXpGH90zgQyDXwqivqea4RvI//r5u0I2c3NWkH8WvUrg28elauxH3CpneHJYwVi9mzsZVxxfOjllZd365oPIRx9VxdGviwpxdn8G6AgOf3XVG6rG1SKTa8K/dS8q5rl+BzX9E1JE4vq4jvJd93Na2rSWsIb0n5t6d17TmzV/dY9z6X33U5xZk/MO/Zf239pOXs21dhUFs1Zqdc93Y+3N7+2c/NqaSUcy2vLq10GEiIesFSNNfuAhWISduE4tsa+Lra6o5dm+eFinJqvF7hASvvqSYFAFLmCKO55c1Lf6F16M5MmGNzXOHMRtsvMDZMRvkY++4F+fs2lxeZ+3ar8euGqvK6RlxaTTLRKsewvvJrx8fP52+LhbmDeuI5waf4piL//F4qMewluxfqeflvHg8rH29ZoTZc3H9W4xifGz9r2v01yPjH69f45jO93Lj5Sy8V+2txbb5su/quJ5L+Rb7QJ3TZr3E8/O4u2KZMTHUjGImalTUUtNHwXR3ZDYIHv2F1xs6Bb9O8kZ9TTXHcIw+abz0nXA/adIXb3M46xPUn/TauBu5MFzvjnydHbNBPvaOe2HOrs/lddau/XrsXn51E95He+6Fjt/huq9/L/6FxrU0sPSzr+Jr8Hu5bnk/jB3ELv6crzTX/O8fi7/xuo9pjGbdGsLcUgyk/zEGpolv73l7z7wnxSCYGavgxa0by4XotxxPxdfZe0IYJKN5AtVcXeo62xjFTFwr/N3j41Q/I9u7ufoL9wKdgtku/vqaeo5wzj6hrYgFn9cVC7JVCHVRpZhs53ubr9A75hJ9aa1pFDNnM1WcGzN9XYqByIfa1B32nudxy1/2uKDO2jk2Y3dzuyBrUhDrz4vZIJa9PRmOff2Sf+YTxgl3VutYwe/wCwCLLb6H9YU7r7XuwvnLer8HgVte/vgYjtcf1pLfZr2j/Fcx8upOXK9itqf+E25s4liDPrDuvbwXm3Mnv7349/JScGsqx8artehbo8/0YyZqNLyfx9jj41y/7LGQApGKUjWvnCx5TB2PAbPHZaGUYthMjz1qMAtqjnYRKvI1suBjIciErmMu5giHiokqILOmpuh0KAW7Z/zFtpjYzdTgnJgF5HXLulQ+Bg3K1lCy9vkubyZkC92YtXJe7w+VG1tnjVyk2qxjFWParK96XZKUj3I8+7/WmXmd61HvzeV4mTuvw9Zd8rv9vjQVb1P/Nhe6lswaq5gutq6rzkcwNX51vYi78St8ENhqvrcvA/256/3h7I0yv+oHGzauMu7tmIk6CWvPY7t7wDCdkAHAOfTF5DL6Y/dF7g3xPvDE964RJ++DXHpv1JQvx5v7sUHIAJ6CWwrZpMQ7Hi1k6W7BuQM5TLrrUWKS72JuLzAIGVwZ76uLza6xYc7EfDVh7fafGtvcbcymBiHzqGvtivXlfLX4OuKCkAEAAEwFQgYAAFODkAEAwNQgZAAAMDUIGQAATA1CBgAAU4OQAQDA1CBkAAAwNQgZAABMDUIGAABTg5ABAMDUIGQAADA1CBkAAEyNI2TfTh9eXk4vi334M78FAABwp7TvyOITcD8ssgYAAHC/dL5a/Hn6/Ou70+d/8ksAAIA7BCEDAICpQcgAAGBqOkJ2On17/3J699vP/AoAAOD+6ApZIIjZywt3ZgAAcJ8MvlrkV/ABAOC+4WdkAAAwNQgZAABMDUIGAABT0xYy/rIHAABMgCNk299a5FfvAQDg3ul8tQgAAHD/IGQAADA1CBkAAEwNQgYAABNzOv1/kB5qUETiiWIAAAAASUVORK5CYII=) \\\n",
        "To read and write files from Cloud Storage:"
      ],
      "metadata": {
        "id": "MH2aUl33gwqL"
      }
    },
    {
      "cell_type": "code",
      "source": [
        "write_deltalake('gs://bucket-name/lake',\n",
        "                df,\n",
        "                storage_options = {'SERVICE_ACCOUNT':\n",
        "                'path_file.json'})"
      ],
      "metadata": {
        "id": "G9SIDm0IgtB8"
      },
      "execution_count": null,
      "outputs": []
    },
    {
      "cell_type": "code",
      "source": [
        "DeltaTable('gs://bucket-name/lake',\n",
        "           storage_options={'SERVICE_ACCOUNT':'path_file.json'})"
      ],
      "metadata": {
        "id": "oNqekg-Ag2mM"
      },
      "execution_count": null,
      "outputs": []
    },
    {
      "cell_type": "markdown",
      "source": [
        "* ***Azure***\n",
        "\n",
        "The path to files from accepted is: \\\n",
        "* az://container/path\n",
        "\n",
        "* adl://container/path\n",
        "\n",
        "* abfs://container/path\n",
        "\n",
        "`storage_options`:\n",
        "\n",
        "AZURE_STORAGE_ACCOUNT_NAME \\\n",
        "AZURE_STORAGE_CONNECTION_STRING \\\n",
        "AZURE_STORAGE_ACCOUNT_KEY\n",
        "\n",
        "You can see the source code with all parameters [here](https://github.com/delta-io/delta-rs/blob/17999d24a58fb4c98c6280b9e57842c346b4603a/rust/src/builder.rs#L524-L539)"
      ],
      "metadata": {
        "id": "TmQ1YUjrg7ln"
      }
    }
  ]
}